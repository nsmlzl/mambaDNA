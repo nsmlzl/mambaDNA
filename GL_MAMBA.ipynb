{
 "cells": [
  {
   "cell_type": "code",
   "execution_count": 14,
   "id": "75af3307-1af8-4faf-b32b-99de0382706d",
   "metadata": {},
   "outputs": [],
   "source": [
    "import zipfile, requests\n",
    "import torch"
   ]
  },
  {
   "cell_type": "markdown",
   "id": "aec1144b-3e2a-4cbd-9a73-db90afc31f48",
   "metadata": {},
   "source": [
    "# Download HG38 data"
   ]
  },
  {
   "cell_type": "code",
   "execution_count": 13,
   "id": "09f33b3a-1046-4a84-9d74-4cf1d5cc0b44",
   "metadata": {
    "editable": true,
    "scrolled": true,
    "slideshow": {
     "slide_type": ""
    },
    "tags": []
   },
   "outputs": [
    {
     "name": "stdout",
     "output_type": "stream",
     "text": [
      "  % Total    % Received % Xferd  Average Speed   Time    Time     Time  Current\n",
      "                                 Dload  Upload   Total   Spent    Left  Speed\n",
      "100  927M    0  927M    0     0  9712k      0 --:--:--  0:01:37 --:--:-- 17.4M55k-:-- 6738k\n",
      "download complete!\n"
     ]
    }
   ],
   "source": [
    "!mkdir dataset\n",
    "# !curl https://api.ncbi.nlm.nih.gov/datasets/v2alpha/genome/accession/GCF_000001405.40/download?include_annotation_type=GENOME_FASTA --output 'dataset/HG38.zip'\n",
    "\n",
    "# datasets\n",
    "hg38 = 'https://api.ncbi.nlm.nih.gov/datasets/v2alpha/genome/accession/GCF_000001405.40/download'\n",
    "t2t = 'https://api.ncbi.nlm.nih.gov/datasets/v2alpha/genome/accession/GCF_009914755.1/download'\n",
    "\n",
    "response = requests.get(hg38, params={'include_annotation_type': 'GENOME_FASTA'})\n",
    "if response.status_code == 200:\n",
    "    with open('dataset/HG38.zip', 'wb') as f:\n",
    "        f.write(response.content)\n",
    "\n",
    "zipfile.ZipFile('dataset/HG38.zip', 'r').extractall(path='dataset/')\n",
    "print(\"dataset ready!\")\n",
    "\n",
    "gh38_fasta = 'dataset/ncbi_dataset/data/GCF_000001405.40/GCF_000001405.40_GRCh38.p14_genomic.fna'"
   ]
  },
  {
   "cell_type": "markdown",
   "id": "3aff9a9d-df9c-42cc-b946-58cb4de6b1c0",
   "metadata": {},
   "source": [
    "# Model"
   ]
  },
  {
   "cell_type": "code",
   "execution_count": 3,
   "id": "ecb0435f-d1a0-44a2-ace1-b29cfb926da1",
   "metadata": {},
   "outputs": [
    {
     "name": "stdout",
     "output_type": "stream",
     "text": [
      "CUDA is available: True\n",
      "GPU count: 8\n",
      "Current GPU: NVIDIA RTX 6000 Ada Generation\n"
     ]
    }
   ],
   "source": [
    "print(\"CUDA is available:\", torch.cuda.is_available())\n",
    "print(\"GPU count:\", torch.cuda.device_count())\n",
    "gpu = 4\n",
    "torch.cuda.set_device(gpu)\n",
    "print(\"Current GPU:\", torch.cuda.get_device_name())"
   ]
  }
 ],
 "metadata": {
  "kernelspec": {
   "display_name": "Python 3 (ipykernel)",
   "language": "python",
   "name": "python3"
  },
  "language_info": {
   "codemirror_mode": {
    "name": "ipython",
    "version": 3
   },
   "file_extension": ".py",
   "mimetype": "text/x-python",
   "name": "python",
   "nbconvert_exporter": "python",
   "pygments_lexer": "ipython3",
   "version": "3.10.12"
  }
 },
 "nbformat": 4,
 "nbformat_minor": 5
}
