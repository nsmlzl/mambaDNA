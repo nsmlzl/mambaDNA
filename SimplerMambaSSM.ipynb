{
 "cells": [
  {
   "cell_type": "code",
   "execution_count": 1,
   "metadata": {
    "colab": {
     "base_uri": "https://localhost:8080/",
     "height": 1000
    },
    "id": "boUz4Cj6N1ZM",
    "outputId": "a1aa7db8-963d-41cd-df88-d045092ebb08"
   },
   "outputs": [
    {
     "name": "stdout",
     "output_type": "stream",
     "text": [
      "Collecting wheel\n",
      "  Using cached wheel-0.42.0-py3-none-any.whl (65 kB)\n",
      "Installing collected packages: wheel\n",
      "Successfully installed wheel-0.42.0\n"
     ]
    }
   ],
   "source": [
    "!pip install wheel"
   ]
  },
  {
   "cell_type": "code",
   "execution_count": 8,
   "metadata": {},
   "outputs": [
    {
     "name": "stdout",
     "output_type": "stream",
     "text": [
      "Collecting causal-conv1d==1.0.0\n",
      "  Using cached causal_conv1d-1.0.0-cp310-cp310-linux_x86_64.whl\n",
      "Requirement already satisfied: ninja in ./.env/lib/python3.10/site-packages (from causal-conv1d==1.0.0) (1.11.1.1)\n",
      "Collecting torch\n",
      "  Using cached torch-2.1.2-cp310-cp310-manylinux1_x86_64.whl (670.2 MB)\n",
      "Requirement already satisfied: packaging in ./.env/lib/python3.10/site-packages (from causal-conv1d==1.0.0) (23.2)\n",
      "Collecting nvidia-cusolver-cu12==11.4.5.107\n",
      "  Using cached nvidia_cusolver_cu12-11.4.5.107-py3-none-manylinux1_x86_64.whl (124.2 MB)\n",
      "Requirement already satisfied: nvidia-cuda-nvrtc-cu12==12.1.105 in ./.env/lib/python3.10/site-packages (from torch->causal-conv1d==1.0.0) (12.1.105)\n",
      "Requirement already satisfied: nvidia-cufft-cu12==11.0.2.54 in ./.env/lib/python3.10/site-packages (from torch->causal-conv1d==1.0.0) (11.0.2.54)\n",
      "Requirement already satisfied: nvidia-nccl-cu12==2.18.1 in ./.env/lib/python3.10/site-packages (from torch->causal-conv1d==1.0.0) (2.18.1)\n",
      "Requirement already satisfied: nvidia-nvtx-cu12==12.1.105 in ./.env/lib/python3.10/site-packages (from torch->causal-conv1d==1.0.0) (12.1.105)\n",
      "Requirement already satisfied: triton==2.1.0 in ./.env/lib/python3.10/site-packages (from torch->causal-conv1d==1.0.0) (2.1.0)\n",
      "Requirement already satisfied: nvidia-curand-cu12==10.3.2.106 in ./.env/lib/python3.10/site-packages (from torch->causal-conv1d==1.0.0) (10.3.2.106)\n",
      "Requirement already satisfied: filelock in ./.env/lib/python3.10/site-packages (from torch->causal-conv1d==1.0.0) (3.13.1)\n",
      "Requirement already satisfied: fsspec in ./.env/lib/python3.10/site-packages (from torch->causal-conv1d==1.0.0) (2023.12.2)\n",
      "Requirement already satisfied: sympy in ./.env/lib/python3.10/site-packages (from torch->causal-conv1d==1.0.0) (1.12)\n",
      "Requirement already satisfied: nvidia-cublas-cu12==12.1.3.1 in ./.env/lib/python3.10/site-packages (from torch->causal-conv1d==1.0.0) (12.1.3.1)\n",
      "Requirement already satisfied: nvidia-cusparse-cu12==12.1.0.106 in ./.env/lib/python3.10/site-packages (from torch->causal-conv1d==1.0.0) (12.1.0.106)\n",
      "Requirement already satisfied: typing-extensions in ./.env/lib/python3.10/site-packages (from torch->causal-conv1d==1.0.0) (4.9.0)\n",
      "Collecting nvidia-cudnn-cu12==8.9.2.26\n",
      "  Using cached nvidia_cudnn_cu12-8.9.2.26-py3-none-manylinux1_x86_64.whl (731.7 MB)\n",
      "Requirement already satisfied: nvidia-cuda-runtime-cu12==12.1.105 in ./.env/lib/python3.10/site-packages (from torch->causal-conv1d==1.0.0) (12.1.105)\n",
      "Requirement already satisfied: jinja2 in ./.env/lib/python3.10/site-packages (from torch->causal-conv1d==1.0.0) (3.1.2)\n",
      "Requirement already satisfied: nvidia-cuda-cupti-cu12==12.1.105 in ./.env/lib/python3.10/site-packages (from torch->causal-conv1d==1.0.0) (12.1.105)\n",
      "Requirement already satisfied: networkx in ./.env/lib/python3.10/site-packages (from torch->causal-conv1d==1.0.0) (3.2.1)\n",
      "Requirement already satisfied: nvidia-nvjitlink-cu12 in ./.env/lib/python3.10/site-packages (from nvidia-cusolver-cu12==11.4.5.107->torch->causal-conv1d==1.0.0) (12.3.101)\n",
      "Requirement already satisfied: MarkupSafe>=2.0 in ./.env/lib/python3.10/site-packages (from jinja2->torch->causal-conv1d==1.0.0) (2.1.3)\n",
      "Requirement already satisfied: mpmath>=0.19 in ./.env/lib/python3.10/site-packages (from sympy->torch->causal-conv1d==1.0.0) (1.3.0)\n",
      "Installing collected packages: nvidia-cudnn-cu12, nvidia-cusolver-cu12, torch, causal-conv1d\n",
      "Successfully installed causal-conv1d-1.0.0 nvidia-cudnn-cu12-8.9.2.26 nvidia-cusolver-cu12-11.4.5.107 torch-2.1.2\n"
     ]
    }
   ],
   "source": [
    "!pip install causal-conv1d==1.0.0"
   ]
  },
  {
   "cell_type": "code",
   "execution_count": 9,
   "metadata": {
    "colab": {
     "base_uri": "https://localhost:8080/",
     "height": 1000
    },
    "id": "boUz4Cj6N1ZM",
    "outputId": "a1aa7db8-963d-41cd-df88-d045092ebb08"
   },
   "outputs": [
    {
     "name": "stdout",
     "output_type": "stream",
     "text": [
      "Collecting mamba-ssm==1.0.1\n",
      "  Using cached mamba_ssm-1.0.1-cp310-cp310-linux_x86_64.whl\n",
      "Requirement already satisfied: causal-conv1d in ./.env/lib/python3.10/site-packages (from mamba-ssm==1.0.1) (1.0.0)\n",
      "Collecting transformers\n",
      "  Using cached transformers-4.36.2-py3-none-any.whl (8.2 MB)\n",
      "Collecting einops\n",
      "  Using cached einops-0.7.0-py3-none-any.whl (44 kB)\n",
      "Requirement already satisfied: packaging in ./.env/lib/python3.10/site-packages (from mamba-ssm==1.0.1) (23.2)\n",
      "Requirement already satisfied: torch in ./.env/lib/python3.10/site-packages (from mamba-ssm==1.0.1) (2.1.2)\n",
      "Requirement already satisfied: triton in ./.env/lib/python3.10/site-packages (from mamba-ssm==1.0.1) (2.1.0)\n",
      "Requirement already satisfied: ninja in ./.env/lib/python3.10/site-packages (from mamba-ssm==1.0.1) (1.11.1.1)\n",
      "Requirement already satisfied: nvidia-cublas-cu12==12.1.3.1 in ./.env/lib/python3.10/site-packages (from torch->mamba-ssm==1.0.1) (12.1.3.1)\n",
      "Requirement already satisfied: nvidia-cusolver-cu12==11.4.5.107 in ./.env/lib/python3.10/site-packages (from torch->mamba-ssm==1.0.1) (11.4.5.107)\n",
      "Requirement already satisfied: nvidia-nvtx-cu12==12.1.105 in ./.env/lib/python3.10/site-packages (from torch->mamba-ssm==1.0.1) (12.1.105)\n",
      "Requirement already satisfied: nvidia-cusparse-cu12==12.1.0.106 in ./.env/lib/python3.10/site-packages (from torch->mamba-ssm==1.0.1) (12.1.0.106)\n",
      "Requirement already satisfied: typing-extensions in ./.env/lib/python3.10/site-packages (from torch->mamba-ssm==1.0.1) (4.9.0)\n",
      "Requirement already satisfied: jinja2 in ./.env/lib/python3.10/site-packages (from torch->mamba-ssm==1.0.1) (3.1.2)\n",
      "Requirement already satisfied: networkx in ./.env/lib/python3.10/site-packages (from torch->mamba-ssm==1.0.1) (3.2.1)\n",
      "Requirement already satisfied: nvidia-cuda-runtime-cu12==12.1.105 in ./.env/lib/python3.10/site-packages (from torch->mamba-ssm==1.0.1) (12.1.105)\n",
      "Requirement already satisfied: nvidia-curand-cu12==10.3.2.106 in ./.env/lib/python3.10/site-packages (from torch->mamba-ssm==1.0.1) (10.3.2.106)\n",
      "Requirement already satisfied: nvidia-cuda-nvrtc-cu12==12.1.105 in ./.env/lib/python3.10/site-packages (from torch->mamba-ssm==1.0.1) (12.1.105)\n",
      "Requirement already satisfied: nvidia-nccl-cu12==2.18.1 in ./.env/lib/python3.10/site-packages (from torch->mamba-ssm==1.0.1) (2.18.1)\n",
      "Requirement already satisfied: sympy in ./.env/lib/python3.10/site-packages (from torch->mamba-ssm==1.0.1) (1.12)\n",
      "Requirement already satisfied: fsspec in ./.env/lib/python3.10/site-packages (from torch->mamba-ssm==1.0.1) (2023.12.2)\n",
      "Requirement already satisfied: nvidia-cudnn-cu12==8.9.2.26 in ./.env/lib/python3.10/site-packages (from torch->mamba-ssm==1.0.1) (8.9.2.26)\n",
      "Requirement already satisfied: filelock in ./.env/lib/python3.10/site-packages (from torch->mamba-ssm==1.0.1) (3.13.1)\n",
      "Requirement already satisfied: nvidia-cufft-cu12==11.0.2.54 in ./.env/lib/python3.10/site-packages (from torch->mamba-ssm==1.0.1) (11.0.2.54)\n",
      "Requirement already satisfied: nvidia-cuda-cupti-cu12==12.1.105 in ./.env/lib/python3.10/site-packages (from torch->mamba-ssm==1.0.1) (12.1.105)\n",
      "Requirement already satisfied: nvidia-nvjitlink-cu12 in ./.env/lib/python3.10/site-packages (from nvidia-cusolver-cu12==11.4.5.107->torch->mamba-ssm==1.0.1) (12.3.101)\n",
      "Collecting regex!=2019.12.17\n",
      "  Using cached regex-2023.10.3-cp310-cp310-manylinux_2_17_x86_64.manylinux2014_x86_64.whl (773 kB)\n",
      "Collecting huggingface-hub<1.0,>=0.19.3\n",
      "  Using cached huggingface_hub-0.19.4-py3-none-any.whl (311 kB)\n",
      "Requirement already satisfied: requests in ./.env/lib/python3.10/site-packages (from transformers->mamba-ssm==1.0.1) (2.31.0)\n",
      "Collecting tqdm>=4.27\n",
      "  Using cached tqdm-4.66.1-py3-none-any.whl (78 kB)\n",
      "Collecting safetensors>=0.3.1\n",
      "  Using cached safetensors-0.4.1-cp310-cp310-manylinux_2_17_x86_64.manylinux2014_x86_64.whl (1.3 MB)\n",
      "Collecting tokenizers<0.19,>=0.14\n",
      "  Using cached tokenizers-0.15.0-cp310-cp310-manylinux_2_17_x86_64.manylinux2014_x86_64.whl (3.8 MB)\n",
      "Requirement already satisfied: pyyaml>=5.1 in ./.env/lib/python3.10/site-packages (from transformers->mamba-ssm==1.0.1) (6.0.1)\n",
      "Collecting numpy>=1.17\n",
      "  Using cached numpy-1.26.2-cp310-cp310-manylinux_2_17_x86_64.manylinux2014_x86_64.whl (18.2 MB)\n",
      "Requirement already satisfied: MarkupSafe>=2.0 in ./.env/lib/python3.10/site-packages (from jinja2->torch->mamba-ssm==1.0.1) (2.1.3)\n",
      "Requirement already satisfied: urllib3<3,>=1.21.1 in ./.env/lib/python3.10/site-packages (from requests->transformers->mamba-ssm==1.0.1) (2.1.0)\n",
      "Requirement already satisfied: idna<4,>=2.5 in ./.env/lib/python3.10/site-packages (from requests->transformers->mamba-ssm==1.0.1) (3.6)\n",
      "Requirement already satisfied: charset-normalizer<4,>=2 in ./.env/lib/python3.10/site-packages (from requests->transformers->mamba-ssm==1.0.1) (3.3.2)\n",
      "Requirement already satisfied: certifi>=2017.4.17 in ./.env/lib/python3.10/site-packages (from requests->transformers->mamba-ssm==1.0.1) (2023.11.17)\n",
      "Requirement already satisfied: mpmath>=0.19 in ./.env/lib/python3.10/site-packages (from sympy->torch->mamba-ssm==1.0.1) (1.3.0)\n",
      "Installing collected packages: tqdm, safetensors, regex, numpy, einops, huggingface-hub, tokenizers, transformers, mamba-ssm\n",
      "Successfully installed einops-0.7.0 huggingface-hub-0.19.4 mamba-ssm-1.0.1 numpy-1.26.2 regex-2023.10.3 safetensors-0.4.1 tokenizers-0.15.0 tqdm-4.66.1 transformers-4.36.2\n"
     ]
    }
   ],
   "source": [
    "!pip install mamba-ssm==1.0.1"
   ]
  },
  {
   "cell_type": "code",
   "execution_count": 10,
   "metadata": {},
   "outputs": [
    {
     "name": "stdout",
     "output_type": "stream",
     "text": [
      "Collecting ipywidgets\n",
      "  Using cached ipywidgets-8.1.1-py3-none-any.whl (139 kB)\n",
      "Requirement already satisfied: comm>=0.1.3 in ./.env/lib/python3.10/site-packages (from ipywidgets) (0.2.0)\n",
      "Collecting jupyterlab-widgets~=3.0.9\n",
      "  Using cached jupyterlab_widgets-3.0.9-py3-none-any.whl (214 kB)\n",
      "Requirement already satisfied: traitlets>=4.3.1 in ./.env/lib/python3.10/site-packages (from ipywidgets) (5.14.0)\n",
      "Collecting widgetsnbextension~=4.0.9\n",
      "  Using cached widgetsnbextension-4.0.9-py3-none-any.whl (2.3 MB)\n",
      "Requirement already satisfied: ipython>=6.1.0 in ./.env/lib/python3.10/site-packages (from ipywidgets) (8.18.1)\n",
      "Requirement already satisfied: stack-data in ./.env/lib/python3.10/site-packages (from ipython>=6.1.0->ipywidgets) (0.6.3)\n",
      "Requirement already satisfied: pexpect>4.3 in ./.env/lib/python3.10/site-packages (from ipython>=6.1.0->ipywidgets) (4.9.0)\n",
      "Requirement already satisfied: jedi>=0.16 in ./.env/lib/python3.10/site-packages (from ipython>=6.1.0->ipywidgets) (0.19.1)\n",
      "Requirement already satisfied: decorator in ./.env/lib/python3.10/site-packages (from ipython>=6.1.0->ipywidgets) (5.1.1)\n",
      "Requirement already satisfied: matplotlib-inline in ./.env/lib/python3.10/site-packages (from ipython>=6.1.0->ipywidgets) (0.1.6)\n",
      "Requirement already satisfied: exceptiongroup in ./.env/lib/python3.10/site-packages (from ipython>=6.1.0->ipywidgets) (1.2.0)\n",
      "Requirement already satisfied: pygments>=2.4.0 in ./.env/lib/python3.10/site-packages (from ipython>=6.1.0->ipywidgets) (2.17.2)\n",
      "Requirement already satisfied: prompt-toolkit<3.1.0,>=3.0.41 in ./.env/lib/python3.10/site-packages (from ipython>=6.1.0->ipywidgets) (3.0.43)\n",
      "Requirement already satisfied: parso<0.9.0,>=0.8.3 in ./.env/lib/python3.10/site-packages (from jedi>=0.16->ipython>=6.1.0->ipywidgets) (0.8.3)\n",
      "Requirement already satisfied: ptyprocess>=0.5 in ./.env/lib/python3.10/site-packages (from pexpect>4.3->ipython>=6.1.0->ipywidgets) (0.7.0)\n",
      "Requirement already satisfied: wcwidth in ./.env/lib/python3.10/site-packages (from prompt-toolkit<3.1.0,>=3.0.41->ipython>=6.1.0->ipywidgets) (0.2.12)\n",
      "Requirement already satisfied: pure-eval in ./.env/lib/python3.10/site-packages (from stack-data->ipython>=6.1.0->ipywidgets) (0.2.2)\n",
      "Requirement already satisfied: executing>=1.2.0 in ./.env/lib/python3.10/site-packages (from stack-data->ipython>=6.1.0->ipywidgets) (2.0.1)\n",
      "Requirement already satisfied: asttokens>=2.1.0 in ./.env/lib/python3.10/site-packages (from stack-data->ipython>=6.1.0->ipywidgets) (2.4.1)\n",
      "Requirement already satisfied: six>=1.12.0 in ./.env/lib/python3.10/site-packages (from asttokens>=2.1.0->stack-data->ipython>=6.1.0->ipywidgets) (1.16.0)\n",
      "Installing collected packages: widgetsnbextension, jupyterlab-widgets, ipywidgets\n",
      "Successfully installed ipywidgets-8.1.1 jupyterlab-widgets-3.0.9 widgetsnbextension-4.0.9\n"
     ]
    }
   ],
   "source": [
    "!pip install ipywidgets"
   ]
  },
  {
   "cell_type": "code",
   "execution_count": 11,
   "metadata": {
    "colab": {
     "base_uri": "https://localhost:8080/"
    },
    "id": "jIYu0grlX8sD",
    "outputId": "b1542d79-0137-4304-a18c-1376775c024b"
   },
   "outputs": [
    {
     "name": "stdout",
     "output_type": "stream",
     "text": [
      "--2023-12-18 21:44:16--  https://raw.githubusercontent.com/karpathy/char-rnn/master/data/tinyshakespeare/input.txt\n",
      "Resolving raw.githubusercontent.com (raw.githubusercontent.com)... 185.199.108.133, 185.199.110.133, 185.199.109.133, ...\n",
      "Connecting to raw.githubusercontent.com (raw.githubusercontent.com)|185.199.108.133|:443... connected.\n",
      "HTTP request sent, awaiting response... 200 OK\n",
      "Length: 1115394 (1.1M) [text/plain]\n",
      "Saving to: ‘input.txt.2’\n",
      "\n",
      "input.txt.2         100%[===================>]   1.06M  3.00MB/s    in 0.4s    \n",
      "\n",
      "2023-12-18 21:44:16 (3.00 MB/s) - ‘input.txt.2’ saved [1115394/1115394]\n",
      "\n"
     ]
    }
   ],
   "source": [
    "!wget https://raw.githubusercontent.com/karpathy/char-rnn/master/data/tinyshakespeare/input.txt"
   ]
  },
  {
   "cell_type": "code",
   "execution_count": 13,
   "metadata": {
    "id": "b4hR736M5eNT"
   },
   "outputs": [],
   "source": [
    "!mkdir -p differentattention"
   ]
  },
  {
   "cell_type": "code",
   "execution_count": 17,
   "metadata": {
    "colab": {
     "base_uri": "https://localhost:8080/"
    },
    "id": "2lECw6S4N7cn",
    "outputId": "135ddfeb-f728-48d4-d061-08fdb0dfbbbb",
    "scrolled": true
   },
   "outputs": [
    {
     "name": "stdout",
     "output_type": "stream",
     "text": [
      "\n",
      " !$&',-.3:;?ABCDEFGHIJKLMNOPQRSTUVWXYZabcdefghijklmnopqrstuvwxyz\n",
      "65\n",
      "Hello!\n",
      "Uses device cuda\n"
     ]
    },
    {
     "name": "stderr",
     "output_type": "stream",
     "text": [
      "  0%|                                                                                                                                | 0/10000 [00:00<?, ?it/s]"
     ]
    },
    {
     "name": "stdout",
     "output_type": "stream",
     "text": [
      "Step 0, train loss:4.6015, test loss:4.5873\n"
     ]
    },
    {
     "name": "stderr",
     "output_type": "stream",
     "text": [
      "  0%|                                                                                                                      | 3/10000 [00:04<3:20:07,  1.20s/it]"
     ]
    },
    {
     "name": "stdout",
     "output_type": "stream",
     "text": [
      "\n",
      "\n",
      "wP!OsYtVUySe?wAc3ykV&TBdb;ANXsTnqBmDeVJGTw;'lEkNgBGkBKTpsJ&OElpPgyePJmUTUfJ,hp,&pGynW&CLy -?sLXchkE'jJ\n",
      "p;I.jeMhSlvls SuqiDT; hM L:,!WsATAvracr &sVTq:JhqzlVECZ!'iNuhGXiVyj$TJMFO!t.gDmxCMxr;m:$!QcRwNMRdusaG,anv3LP;'Q Xjb3Npla\n",
      "VHUarS-PTJxUdvDVdlxCRtMgFysk-z.RZm\n",
      "YNeXgFtzFUR3tBKKf-TvTvmACKKgN-L:lwjpsn:;dngNLPBYLxpitQEri:yinvsA$!uyxB&\n",
      "nRo?Iony-Ney:!pg$NBs'X:DYKdnUFsBqNdOBnvBBnKAdGHyiKn:rvNAf!AACrNWnXsE::XD!CeUn?t.VWNL:LnuBB!n?nN?-UdiKlHnfS Vu,Kt:&CKfEkw:NUkNSXj.v.w! dnPGrsCD'KmwnpZeCDnVCrBsjLxBsnvvAi?Ann;-IBG!\n",
      "GcZ' CRtmujneBsniBeBw;:;'tnuj!n:onkQKCFxhBn'CuNL g:byV:rT;mnL:qe!ep;'tAS!Bn:nipIzCexMgmAdoi3ksYGKZyVG'PdfV'siBBKL'JmnKizkEnNFs&&gYuBvegnivZnogXBPJc:sLxekSg:,tIk&KOgNuepTKxr!gOOPzDKKVL:vogniG';ukZdrZEOdognEiXKK\n",
      "Eox:IKpgA'!cRuLfJm'L;'3'nskxlnDvV:NApl:$3izWc';lMNZ3:YBzNP:'taI-ABp!Pw-niGoBInie!\n",
      "KVnL:'w!$!o!WkRGS'gnU.NYNmCZoVIs-ioP3DdU,pinAL:!AsBiPYugNx:kZLBPBZzY:xmKnXm\n",
      "&\n",
      "i:I'&AKuju:TagUxrhC\n",
      "noCG\n",
      "oAKkcPINMPp:'vnnwHA-a3MP'APV,LDenCU3:fpmnUGS;'S'BLA!raKGLnzw?r$n3' Fony3D!ogNMCra'fCuw'vBYK:,cZ\n",
      "Step 0, train loss:4.6026, test loss:4.5893\n"
     ]
    },
    {
     "name": "stderr",
     "output_type": "stream",
     "text": [
      "  0%|▏                                                                                                                      | 13/10000 [00:05<36:27,  4.57it/s]"
     ]
    },
    {
     "name": "stdout",
     "output_type": "stream",
     "text": [
      "Step 10, train loss:4.0979, test loss:4.0920\n"
     ]
    },
    {
     "name": "stderr",
     "output_type": "stream",
     "text": [
      "  0%|▎                                                                                                                      | 23/10000 [00:07<25:08,  6.61it/s]"
     ]
    },
    {
     "name": "stdout",
     "output_type": "stream",
     "text": [
      "Step 20, train loss:3.7363, test loss:3.7370\n"
     ]
    },
    {
     "name": "stderr",
     "output_type": "stream",
     "text": [
      "  0%|▍                                                                                                                      | 33/10000 [00:08<23:25,  7.09it/s]"
     ]
    },
    {
     "name": "stdout",
     "output_type": "stream",
     "text": [
      "Step 30, train loss:3.5006, test loss:3.5241\n"
     ]
    },
    {
     "name": "stderr",
     "output_type": "stream",
     "text": [
      "  0%|▌                                                                                                                      | 43/10000 [00:09<23:10,  7.16it/s]"
     ]
    },
    {
     "name": "stdout",
     "output_type": "stream",
     "text": [
      "Step 40, train loss:3.3329, test loss:3.3556\n"
     ]
    },
    {
     "name": "stderr",
     "output_type": "stream",
     "text": [
      "  1%|▋                                                                                                                      | 53/10000 [00:10<23:07,  7.17it/s]"
     ]
    },
    {
     "name": "stdout",
     "output_type": "stream",
     "text": [
      "Step 50, train loss:3.2072, test loss:3.2355\n"
     ]
    },
    {
     "name": "stderr",
     "output_type": "stream",
     "text": [
      "  1%|▋                                                                                                                      | 63/10000 [00:12<23:12,  7.14it/s]"
     ]
    },
    {
     "name": "stdout",
     "output_type": "stream",
     "text": [
      "Step 60, train loss:3.1167, test loss:3.1526\n"
     ]
    },
    {
     "name": "stderr",
     "output_type": "stream",
     "text": [
      "  1%|▊                                                                                                                      | 73/10000 [00:13<23:12,  7.13it/s]"
     ]
    },
    {
     "name": "stdout",
     "output_type": "stream",
     "text": [
      "Step 70, train loss:3.0425, test loss:3.0703\n"
     ]
    },
    {
     "name": "stderr",
     "output_type": "stream",
     "text": [
      "  1%|▉                                                                                                                      | 83/10000 [00:14<23:08,  7.14it/s]"
     ]
    },
    {
     "name": "stdout",
     "output_type": "stream",
     "text": [
      "Step 80, train loss:2.9889, test loss:3.0136\n"
     ]
    },
    {
     "name": "stderr",
     "output_type": "stream",
     "text": [
      "  1%|█                                                                                                                      | 93/10000 [00:15<23:17,  7.09it/s]"
     ]
    },
    {
     "name": "stdout",
     "output_type": "stream",
     "text": [
      "Step 90, train loss:2.9245, test loss:2.9601\n"
     ]
    },
    {
     "name": "stderr",
     "output_type": "stream",
     "text": [
      "  1%|█▏                                                                                                                     | 99/10000 [00:16<16:26, 10.03it/s]"
     ]
    },
    {
     "name": "stdout",
     "output_type": "stream",
     "text": [
      "Step 100, train loss:2.8976, test loss:2.9217\n"
     ]
    },
    {
     "name": "stderr",
     "output_type": "stream",
     "text": [
      "  1%|█▏                                                                                                                  | 103/10000 [00:21<1:36:34,  1.71it/s]"
     ]
    },
    {
     "name": "stdout",
     "output_type": "stream",
     "text": [
      "\n",
      "\n",
      "Tofcathin outhee eo\n",
      "teI houst?r kee yca' athE tof\n",
      "d udip,\n",
      "y thea:T yht torew, s.\n",
      "t ange sporI 's dey touedveressee maaaniuouu\n",
      "I sllywhere f ss SemgpomaZekererer fyC mR\n",
      "sS thepen\n",
      " b bgonderKt on !\n",
      "\n",
      "rvchabe I we n:\n",
      "T w biouitirtaul yl, we ma\n",
      "vy herin se,sthertontu'd ss\n",
      "gGrud, urin weres nineis s tentous voun tororodinl for:\n",
      "IoJ hanBrIied\n",
      "Itr tounde s tondr me hininbon lmwoou s senurynsNrerient oy m\n",
      "gpawo!on'tClop rns n,man sunY t mrren murnd paninAnnge anNIt Nhe miendt nss tond.\n",
      "!y.\n",
      "\n",
      "\n",
      "giC\n",
      "Ke nN e, honofocd s\n",
      "\n",
      "ntathonFntiso 'sstiUiges;\n",
      "orou m f, mvourounscer strotnAn:\n",
      "Tlinnt undr\n",
      "Tleeing:\n",
      "S\n",
      "enuromindernvlinrisT ghenndt:\n",
      "\n",
      "horHnfI tfe O:\n",
      "KT.\n",
      "Ye eninthendes urthYitorIond rdunout yo\n",
      "yithelin g sthe:\n",
      "irorn uusCrX\n",
      "noutonndnowq aule tnder ind thUIinous tt\n",
      ":\n",
      "\n",
      "I!m orturBy in oomr pinoupnongithinshWnes one thonndton:\n",
      "ThinonAnom ' t anssrdeerondrinn t branrdiJis\n",
      "yoitoUtranoo meknoarindrin t tnogU\n",
      "\n",
      " d I ndAn, st Lother st y:logpwin tr 'n notire:\n",
      "\n",
      "Yenities ithnuyenstmd theing?nc ' thn sthiUheere:nd s \n",
      "Step 100, train loss:2.8994, test loss:2.9189\n"
     ]
    },
    {
     "name": "stderr",
     "output_type": "stream",
     "text": [
      "  1%|█▎                                                                                                                    | 113/10000 [00:22<35:34,  4.63it/s]"
     ]
    },
    {
     "name": "stdout",
     "output_type": "stream",
     "text": [
      "Step 110, train loss:2.8667, test loss:2.8798\n"
     ]
    },
    {
     "name": "stderr",
     "output_type": "stream",
     "text": [
      "  1%|█▍                                                                                                                    | 123/10000 [00:24<25:17,  6.51it/s]"
     ]
    },
    {
     "name": "stdout",
     "output_type": "stream",
     "text": [
      "Step 120, train loss:2.8274, test loss:2.8551\n"
     ]
    },
    {
     "name": "stderr",
     "output_type": "stream",
     "text": [
      "  1%|█▌                                                                                                                    | 133/10000 [00:25<23:34,  6.97it/s]"
     ]
    },
    {
     "name": "stdout",
     "output_type": "stream",
     "text": [
      "Step 130, train loss:2.8010, test loss:2.8167\n"
     ]
    },
    {
     "name": "stderr",
     "output_type": "stream",
     "text": [
      "  1%|█▋                                                                                                                    | 143/10000 [00:26<23:29,  6.99it/s]"
     ]
    },
    {
     "name": "stdout",
     "output_type": "stream",
     "text": [
      "Step 140, train loss:2.7765, test loss:2.7894\n"
     ]
    },
    {
     "name": "stderr",
     "output_type": "stream",
     "text": [
      "  2%|█▊                                                                                                                    | 153/10000 [00:27<23:26,  7.00it/s]"
     ]
    },
    {
     "name": "stdout",
     "output_type": "stream",
     "text": [
      "Step 150, train loss:2.7478, test loss:2.7776\n"
     ]
    },
    {
     "name": "stderr",
     "output_type": "stream",
     "text": [
      "  2%|█▉                                                                                                                    | 163/10000 [00:29<23:17,  7.04it/s]"
     ]
    },
    {
     "name": "stdout",
     "output_type": "stream",
     "text": [
      "Step 160, train loss:2.7329, test loss:2.7551\n"
     ]
    },
    {
     "name": "stderr",
     "output_type": "stream",
     "text": [
      "  2%|██                                                                                                                    | 173/10000 [00:30<23:24,  7.00it/s]"
     ]
    },
    {
     "name": "stdout",
     "output_type": "stream",
     "text": [
      "Step 170, train loss:2.7173, test loss:2.7324\n"
     ]
    },
    {
     "name": "stderr",
     "output_type": "stream",
     "text": [
      "  2%|██▏                                                                                                                   | 183/10000 [00:31<23:26,  6.98it/s]"
     ]
    },
    {
     "name": "stdout",
     "output_type": "stream",
     "text": [
      "Step 180, train loss:2.7011, test loss:2.7012\n"
     ]
    },
    {
     "name": "stderr",
     "output_type": "stream",
     "text": [
      "  2%|██▎                                                                                                                   | 193/10000 [00:33<23:28,  6.96it/s]"
     ]
    },
    {
     "name": "stdout",
     "output_type": "stream",
     "text": [
      "Step 190, train loss:2.6727, test loss:2.6930\n"
     ]
    },
    {
     "name": "stderr",
     "output_type": "stream",
     "text": [
      "  2%|██▎                                                                                                                   | 199/10000 [00:33<16:32,  9.88it/s]"
     ]
    },
    {
     "name": "stdout",
     "output_type": "stream",
     "text": [
      "Step 200, train loss:2.6614, test loss:2.6744\n"
     ]
    },
    {
     "name": "stderr",
     "output_type": "stream",
     "text": [
      "  2%|██▎                                                                                                                 | 203/10000 [00:38<1:34:56,  1.72it/s]"
     ]
    },
    {
     "name": "stdout",
     "output_type": "stream",
     "text": [
      "\n",
      "\n",
      "FIh.\n",
      "And the iUeughit, aveld ked my da'e\n",
      "TbKyordirertad dounouseLOUhed tspe althilay MCo d cethimale aee ay \n",
      "A:\n",
      "Suie vechapit I Yl senurun an tithpicaoy IG,\n",
      "ve me, n:\n",
      "Nheuuung love's insou fat Fknguhero q fe; ear:\n",
      "ASI INs th R thead ou:\n",
      "IT o cort k honkdurseme thes\n",
      "Tu, py iby w:\n",
      "Foy hend ssplend rawsthethR:\n",
      "IYond nE:\n",
      "y w ar or whengerdemymous yon horyIand louir kesin owhathe fororou thoulofas's sZrino,\n",
      "\n",
      "Yto fouride heard bus t oune!ens.ot thare:\n",
      ":\n",
      "Yon aAngingherethe!ouo thilind manoruaKipavertst IFo s t,\n",
      "O:\n",
      "Nnd id n, tharr u\n",
      "\n",
      "non beno thatr ttrurour amoutPlet iche s onghRXan t.\n",
      "Goureeeis thie arethensngharierlerthorurnen pr Iourenvereved gocournno nens anor;,\n",
      "\n",
      "Iast neser, tounmtsaCr n:\n",
      "DougrunEo bsernarrinin orithit nWninting, Counbooru? in, ts senenu d fstww the ouryingRes mi:\n",
      ":\n",
      "Nhend t mout o'theet\n",
      "\n",
      "Hooooure tninditerire todieres, nd theinoreath t urdaUhined sent t prie ouk te t tul oud fee amArdeer thensur somou inohey th ber oustisos tOrereyofouldinst t'stousp\n",
      "Kznth n sentotwi!s I \n",
      "Step 200, train loss:2.6532, test loss:2.6750\n"
     ]
    },
    {
     "name": "stderr",
     "output_type": "stream",
     "text": [
      "  2%|██▌                                                                                                                   | 213/10000 [00:39<35:28,  4.60it/s]"
     ]
    },
    {
     "name": "stdout",
     "output_type": "stream",
     "text": [
      "Step 210, train loss:2.6457, test loss:2.6529\n"
     ]
    },
    {
     "name": "stderr",
     "output_type": "stream",
     "text": [
      "  2%|██▋                                                                                                                   | 223/10000 [00:41<25:24,  6.41it/s]"
     ]
    },
    {
     "name": "stdout",
     "output_type": "stream",
     "text": [
      "Step 220, train loss:2.6247, test loss:2.6312\n"
     ]
    },
    {
     "name": "stderr",
     "output_type": "stream",
     "text": [
      "  2%|██▋                                                                                                                   | 233/10000 [00:42<23:50,  6.83it/s]"
     ]
    },
    {
     "name": "stdout",
     "output_type": "stream",
     "text": [
      "Step 230, train loss:2.5956, test loss:2.6211\n"
     ]
    },
    {
     "name": "stderr",
     "output_type": "stream",
     "text": [
      "  2%|██▊                                                                                                                   | 243/10000 [00:43<23:30,  6.92it/s]"
     ]
    },
    {
     "name": "stdout",
     "output_type": "stream",
     "text": [
      "Step 240, train loss:2.5731, test loss:2.5931\n"
     ]
    },
    {
     "name": "stderr",
     "output_type": "stream",
     "text": [
      "  3%|██▉                                                                                                                   | 253/10000 [00:45<23:31,  6.91it/s]"
     ]
    },
    {
     "name": "stdout",
     "output_type": "stream",
     "text": [
      "Step 250, train loss:2.5546, test loss:2.5777\n"
     ]
    },
    {
     "name": "stderr",
     "output_type": "stream",
     "text": [
      "  3%|███                                                                                                                   | 263/10000 [00:46<23:32,  6.89it/s]"
     ]
    },
    {
     "name": "stdout",
     "output_type": "stream",
     "text": [
      "Step 260, train loss:2.5458, test loss:2.5564\n"
     ]
    },
    {
     "name": "stderr",
     "output_type": "stream",
     "text": [
      "  3%|███▏                                                                                                                  | 273/10000 [00:47<23:35,  6.87it/s]"
     ]
    },
    {
     "name": "stdout",
     "output_type": "stream",
     "text": [
      "Step 270, train loss:2.5251, test loss:2.5347\n"
     ]
    },
    {
     "name": "stderr",
     "output_type": "stream",
     "text": [
      "  3%|███▎                                                                                                                  | 283/10000 [00:49<23:37,  6.86it/s]"
     ]
    },
    {
     "name": "stdout",
     "output_type": "stream",
     "text": [
      "Step 280, train loss:2.5031, test loss:2.5204\n"
     ]
    },
    {
     "name": "stderr",
     "output_type": "stream",
     "text": [
      "  3%|███▍                                                                                                                  | 293/10000 [00:50<23:33,  6.87it/s]"
     ]
    },
    {
     "name": "stdout",
     "output_type": "stream",
     "text": [
      "Step 290, train loss:2.4766, test loss:2.5022\n"
     ]
    },
    {
     "name": "stderr",
     "output_type": "stream",
     "text": [
      "  3%|███▌                                                                                                                  | 299/10000 [00:50<16:37,  9.73it/s]"
     ]
    },
    {
     "name": "stdout",
     "output_type": "stream",
     "text": [
      "Step 300, train loss:2.4637, test loss:2.4718\n"
     ]
    },
    {
     "name": "stderr",
     "output_type": "stream",
     "text": [
      "  3%|███▌                                                                                                                | 303/10000 [00:56<1:37:11,  1.66it/s]"
     ]
    },
    {
     "name": "stdout",
     "output_type": "stream",
     "text": [
      "\n",
      "\n",
      "WRHge, licl gone thave Bu; wig thd ler ma:\n",
      "\n",
      "Pou id bethe hellaom and nitrt owe wh thersesut. wrero moul feae meaan honok, peris thon gher pandeigs whe mow fo Ge?\n",
      "Mu,\n",
      "-u thig:\n",
      "Y t,\n",
      "D's more folllhe yorins he:\n",
      "Whend anghous.\n",
      "A:K:\n",
      "J pous co lersoncs iok, randu\n",
      "Ang not tinutaO:\n",
      "Ano th win sordypist I'tono maneelees ohar hapril orollered, aD thee Uourd leatinen thers toas soronnurtrureldomat shiI thom fo ind,\n",
      "Mint tine, wost prthin mery horsprdis inor uref oAsers sint sh thesuuminventher thas ade to horvengrsttlerins the to iemer iaisteruryouly manoms ifr thint wint thitirsped the dopiny sou:\n",
      "KI din pirarenthet t'drerungononcolevale so gorubrs tomet ng:\n",
      "A Poreiveng tho may motecemasmy, therd bimemy my inure Curat; the fakit:\n",
      "INleengrre, gomy hemest oint:\n",
      "Thol arondir eithe wint fadenge thin in deusn ppert\n",
      "M sherincren.\n",
      "Thtr wibe sime pord dimeserosmat; nt t, in sin:\n",
      "G thet in my 'se!dints wn: tot tichtemer y-it th Thburiswos hie he iend than owid nerange ho nou prsee arse sthame sheenut ser\n",
      "Step 300, train loss:2.4670, test loss:2.4781\n"
     ]
    },
    {
     "name": "stderr",
     "output_type": "stream",
     "text": [
      "  3%|███▋                                                                                                                  | 313/10000 [00:57<36:03,  4.48it/s]"
     ]
    },
    {
     "name": "stdout",
     "output_type": "stream",
     "text": [
      "Step 310, train loss:2.4505, test loss:2.4576\n"
     ]
    },
    {
     "name": "stderr",
     "output_type": "stream",
     "text": [
      "  3%|███▊                                                                                                                  | 323/10000 [00:58<25:49,  6.25it/s]"
     ]
    },
    {
     "name": "stdout",
     "output_type": "stream",
     "text": [
      "Step 320, train loss:2.4367, test loss:2.4509\n"
     ]
    },
    {
     "name": "stderr",
     "output_type": "stream",
     "text": [
      "  3%|███▉                                                                                                                  | 333/10000 [01:00<24:07,  6.68it/s]"
     ]
    },
    {
     "name": "stdout",
     "output_type": "stream",
     "text": [
      "Step 330, train loss:2.4155, test loss:2.4389\n"
     ]
    },
    {
     "name": "stderr",
     "output_type": "stream",
     "text": [
      "  3%|████                                                                                                                  | 343/10000 [01:01<23:50,  6.75it/s]"
     ]
    },
    {
     "name": "stdout",
     "output_type": "stream",
     "text": [
      "Step 340, train loss:2.4027, test loss:2.4085\n"
     ]
    },
    {
     "name": "stderr",
     "output_type": "stream",
     "text": [
      "  4%|████▏                                                                                                                 | 353/10000 [01:02<23:50,  6.75it/s]"
     ]
    },
    {
     "name": "stdout",
     "output_type": "stream",
     "text": [
      "Step 350, train loss:2.3754, test loss:2.3974\n"
     ]
    },
    {
     "name": "stderr",
     "output_type": "stream",
     "text": [
      "  4%|████▎                                                                                                                 | 363/10000 [01:04<23:58,  6.70it/s]"
     ]
    },
    {
     "name": "stdout",
     "output_type": "stream",
     "text": [
      "Step 360, train loss:2.3765, test loss:2.3903\n"
     ]
    },
    {
     "name": "stderr",
     "output_type": "stream",
     "text": [
      "  4%|████▍                                                                                                                 | 373/10000 [01:05<23:53,  6.71it/s]"
     ]
    },
    {
     "name": "stdout",
     "output_type": "stream",
     "text": [
      "Step 370, train loss:2.3497, test loss:2.3690\n"
     ]
    },
    {
     "name": "stderr",
     "output_type": "stream",
     "text": [
      "  4%|████▌                                                                                                                 | 383/10000 [01:06<23:57,  6.69it/s]"
     ]
    },
    {
     "name": "stdout",
     "output_type": "stream",
     "text": [
      "Step 380, train loss:2.3492, test loss:2.3636\n"
     ]
    },
    {
     "name": "stderr",
     "output_type": "stream",
     "text": [
      "  4%|████▋                                                                                                                 | 393/10000 [01:08<23:56,  6.69it/s]"
     ]
    },
    {
     "name": "stdout",
     "output_type": "stream",
     "text": [
      "Step 390, train loss:2.3254, test loss:2.3461\n"
     ]
    },
    {
     "name": "stderr",
     "output_type": "stream",
     "text": [
      "  4%|████▋                                                                                                                 | 399/10000 [01:08<16:48,  9.52it/s]"
     ]
    },
    {
     "name": "stdout",
     "output_type": "stream",
     "text": [
      "Step 400, train loss:2.3146, test loss:2.3381\n"
     ]
    },
    {
     "name": "stderr",
     "output_type": "stream",
     "text": [
      "  4%|████▋                                                                                                               | 403/10000 [01:13<1:35:56,  1.67it/s]"
     ]
    },
    {
     "name": "stdout",
     "output_type": "stream",
     "text": [
      "\n",
      "\n",
      "F: at meplld!\n",
      "SllerZbrey enar ave bt;\n",
      "The:\n",
      "CH\n",
      "Mavl tou the toth flous leartees,\n",
      "S:\n",
      "Haicr theaje winp loupto;\n",
      "An: what do,\n",
      "And to, wee 'd\n",
      "\n",
      "Ofance to st hicaty the?\n",
      "DAUS:\n",
      "ARLIHA:\n",
      "ABAnclttk, os sore, I bastard'd uu thele ainas word;\n",
      "\n",
      "it and  thernco my as los'sor'dito hamy sth weriroiengy moust mey nont\n",
      "I to well and po ther bin!\n",
      "\n",
      "Whtsres thout mave sest thous.\n",
      "\n",
      "Chie nou fooushing buk My nooy to theriner anos mysprole hy vept.\n",
      "\n",
      "\n",
      "\n",
      "Oror:\n",
      "Ne coay be heed ondst le dillive serird in stirus'\n",
      "\n",
      "BAnct berthe therd's orseneish thit the oo showin; ape heain tou belis.\n",
      "\n",
      "\n",
      "Yrmvnou sbener poon ang his her and thoin mains the sist deres of thim yom Gey, owed wist, my ind hine is in the mour do bes foor at thisclown I alave. pleas meat shiot heitrispretremen hint thew be pealensthe as fanger'senet neaks do ofeert yeal os wand\n",
      "\n",
      "tere my ther ofinctey I my bury his,\n",
      "N:\n",
      "my lirn int pit, meredemilt owith ee shefomy thent,\n",
      "\n",
      "K:\n",
      "BO:\n",
      "ALxy I wers drell's sengif youre\n",
      "So her,\n",
      "I nd by yobed ow uby int my thor now sha\n",
      "Step 400, train loss:2.3144, test loss:2.3308\n"
     ]
    },
    {
     "name": "stderr",
     "output_type": "stream",
     "text": [
      "  4%|████▊                                                                                                                 | 413/10000 [01:15<35:48,  4.46it/s]"
     ]
    },
    {
     "name": "stdout",
     "output_type": "stream",
     "text": [
      "Step 410, train loss:2.3056, test loss:2.3163\n"
     ]
    },
    {
     "name": "stderr",
     "output_type": "stream",
     "text": [
      "  4%|████▉                                                                                                                 | 423/10000 [01:16<25:42,  6.21it/s]"
     ]
    },
    {
     "name": "stdout",
     "output_type": "stream",
     "text": [
      "Step 420, train loss:2.2808, test loss:2.3115\n"
     ]
    },
    {
     "name": "stderr",
     "output_type": "stream",
     "text": [
      "  4%|█████                                                                                                                 | 433/10000 [01:17<24:07,  6.61it/s]"
     ]
    },
    {
     "name": "stdout",
     "output_type": "stream",
     "text": [
      "Step 430, train loss:2.2635, test loss:2.2884\n"
     ]
    },
    {
     "name": "stderr",
     "output_type": "stream",
     "text": [
      "  4%|█████▏                                                                                                                | 443/10000 [01:19<23:51,  6.68it/s]"
     ]
    },
    {
     "name": "stdout",
     "output_type": "stream",
     "text": [
      "Step 440, train loss:2.2616, test loss:2.2729\n"
     ]
    },
    {
     "name": "stderr",
     "output_type": "stream",
     "text": [
      "  5%|█████▎                                                                                                                | 453/10000 [01:20<23:52,  6.67it/s]"
     ]
    },
    {
     "name": "stdout",
     "output_type": "stream",
     "text": [
      "Step 450, train loss:2.2484, test loss:2.2721\n"
     ]
    },
    {
     "name": "stderr",
     "output_type": "stream",
     "text": [
      "  5%|█████▍                                                                                                                | 463/10000 [01:21<23:50,  6.67it/s]"
     ]
    },
    {
     "name": "stdout",
     "output_type": "stream",
     "text": [
      "Step 460, train loss:2.2313, test loss:2.2524\n"
     ]
    },
    {
     "name": "stderr",
     "output_type": "stream",
     "text": [
      "  5%|█████▌                                                                                                                | 473/10000 [01:23<23:52,  6.65it/s]"
     ]
    },
    {
     "name": "stdout",
     "output_type": "stream",
     "text": [
      "Step 470, train loss:2.2197, test loss:2.2476\n"
     ]
    },
    {
     "name": "stderr",
     "output_type": "stream",
     "text": [
      "  5%|█████▋                                                                                                                | 483/10000 [01:24<23:53,  6.64it/s]"
     ]
    },
    {
     "name": "stdout",
     "output_type": "stream",
     "text": [
      "Step 480, train loss:2.2066, test loss:2.2286\n"
     ]
    },
    {
     "name": "stderr",
     "output_type": "stream",
     "text": [
      "  5%|█████▊                                                                                                                | 493/10000 [01:25<23:51,  6.64it/s]"
     ]
    },
    {
     "name": "stdout",
     "output_type": "stream",
     "text": [
      "Step 490, train loss:2.1948, test loss:2.2260\n"
     ]
    },
    {
     "name": "stderr",
     "output_type": "stream",
     "text": [
      "  5%|█████▉                                                                                                                | 499/10000 [01:26<16:46,  9.44it/s]"
     ]
    },
    {
     "name": "stdout",
     "output_type": "stream",
     "text": [
      "Step 500, train loss:2.1787, test loss:2.2131\n"
     ]
    },
    {
     "name": "stderr",
     "output_type": "stream",
     "text": [
      "  5%|█████▊                                                                                                              | 503/10000 [01:31<1:33:51,  1.69it/s]"
     ]
    },
    {
     "name": "stdout",
     "output_type": "stream",
     "text": [
      "\n",
      "\n",
      "no that Yisicvere potrtiksoun; hervitever.\n",
      "\n",
      "The paim enurs ixy loicitre doy, Chen:\n",
      "thas hus serst:\n",
      "And feur anee a ead's;\n",
      "\n",
      "YP\n",
      "Whagh puate mill cut is farnkee\n",
      "That Anes mall odsane, a se and if incedes all. wave folides, my seale!\n",
      "No offond thebtres spech lor my thy you oururent wive ini\n",
      "D antin thamain at noor seen I not in swe,\n",
      "Beyt Ity a go eririns on to had maid the monet pemyout heate; thek you entely your en beet\n",
      "Bist thure! noo ther's\n",
      "Ges, culeneny, him'st be boia st is ase to heme it thim his with is I he fime\n",
      "Tores of yot thearn ot I thee is hen sonees it pokim arith acy sishis menet my shou as com wimind meeds of peand gremerers tand youth as is st and\n",
      "AROK:\n",
      "Ther:\n",
      "Ane in it not the to bead hen bland un'd head, line priny the heald't yor Hilld and bestare a pavef of sine\n",
      "Uines theping,\n",
      "An wor by you him an murerin wataring upterep,\n",
      "I bield,\n",
      "I not as dutingee\n",
      "Yoand wio sir--wherwup yo'd my pith\n",
      "As, tay of she;\n",
      "Ne Byst hime sine\n",
      "\n",
      "Follt ''s wich beavior yous it ther as ut, bention\n",
      "Step 500, train loss:2.1810, test loss:2.2028\n"
     ]
    },
    {
     "name": "stderr",
     "output_type": "stream",
     "text": [
      "  5%|██████                                                                                                                | 513/10000 [01:32<35:33,  4.45it/s]"
     ]
    },
    {
     "name": "stdout",
     "output_type": "stream",
     "text": [
      "Step 510, train loss:2.1678, test loss:2.2091\n"
     ]
    },
    {
     "name": "stderr",
     "output_type": "stream",
     "text": [
      "  5%|██████▏                                                                                                               | 523/10000 [01:34<25:48,  6.12it/s]"
     ]
    },
    {
     "name": "stdout",
     "output_type": "stream",
     "text": [
      "Step 520, train loss:2.1540, test loss:2.1965\n"
     ]
    },
    {
     "name": "stderr",
     "output_type": "stream",
     "text": [
      "  5%|██████▎                                                                                                               | 533/10000 [01:35<24:08,  6.54it/s]"
     ]
    },
    {
     "name": "stdout",
     "output_type": "stream",
     "text": [
      "Step 530, train loss:2.1515, test loss:2.1905\n"
     ]
    },
    {
     "name": "stderr",
     "output_type": "stream",
     "text": [
      "  5%|██████▍                                                                                                               | 543/10000 [01:37<23:57,  6.58it/s]"
     ]
    },
    {
     "name": "stdout",
     "output_type": "stream",
     "text": [
      "Step 540, train loss:2.1333, test loss:2.1815\n"
     ]
    },
    {
     "name": "stderr",
     "output_type": "stream",
     "text": [
      "  6%|██████▌                                                                                                               | 553/10000 [01:38<23:54,  6.59it/s]"
     ]
    },
    {
     "name": "stdout",
     "output_type": "stream",
     "text": [
      "Step 550, train loss:2.1294, test loss:2.1677\n"
     ]
    },
    {
     "name": "stderr",
     "output_type": "stream",
     "text": [
      "  6%|██████▋                                                                                                               | 563/10000 [01:39<23:53,  6.58it/s]"
     ]
    },
    {
     "name": "stdout",
     "output_type": "stream",
     "text": [
      "Step 560, train loss:2.1296, test loss:2.1657\n"
     ]
    },
    {
     "name": "stderr",
     "output_type": "stream",
     "text": [
      "  6%|██████▊                                                                                                               | 573/10000 [01:41<23:52,  6.58it/s]"
     ]
    },
    {
     "name": "stdout",
     "output_type": "stream",
     "text": [
      "Step 570, train loss:2.1192, test loss:2.1506\n"
     ]
    },
    {
     "name": "stderr",
     "output_type": "stream",
     "text": [
      "  6%|██████▉                                                                                                               | 583/10000 [01:42<23:54,  6.56it/s]"
     ]
    },
    {
     "name": "stdout",
     "output_type": "stream",
     "text": [
      "Step 580, train loss:2.1116, test loss:2.1444\n"
     ]
    },
    {
     "name": "stderr",
     "output_type": "stream",
     "text": [
      "  6%|██████▉                                                                                                               | 593/10000 [01:43<23:55,  6.55it/s]"
     ]
    },
    {
     "name": "stdout",
     "output_type": "stream",
     "text": [
      "Step 590, train loss:2.0997, test loss:2.1285\n"
     ]
    },
    {
     "name": "stderr",
     "output_type": "stream",
     "text": [
      "  6%|███████                                                                                                               | 599/10000 [01:44<16:49,  9.31it/s]"
     ]
    },
    {
     "name": "stdout",
     "output_type": "stream",
     "text": [
      "Step 600, train loss:2.0974, test loss:2.1349\n"
     ]
    },
    {
     "name": "stderr",
     "output_type": "stream",
     "text": [
      "  6%|██████▉                                                                                                             | 603/10000 [01:49<1:31:20,  1.71it/s]"
     ]
    },
    {
     "name": "stdout",
     "output_type": "stream",
     "text": [
      "\n",
      "\n",
      "that file were with your in thnee wais?\n",
      "\n",
      "\n",
      "OROS:\n",
      "That se to thee, alped to percown:\n",
      "Hate, boule.\n",
      "\n",
      "ENEDEO:\n",
      "Los of briy bet-le fat offiod my bece heat.\n",
      "\n",
      "Areald with atteeflains.\n",
      "Cand word, What of alpponcer uguesess gral;\n",
      "And bes; she prowem.\n",
      "\n",
      "FLAES:\n",
      "Caghie him fillis woll and theepost,\n",
      "As them hailt the seatlour and my swere ages, kis is rip'st bellin;\n",
      "Jth lind hous the us cimestond thouse, thell pon to so, fie steauseng!\n",
      "Whearlede hat age tit and to mpases, reld,\n",
      "Mortay werstith not food,\n",
      "Yo seing the oo thee thy greitiouf; and there adarit\n",
      "That and thy spey bey, is whalls der wentrthe\n",
      "By muit;\n",
      "Tirsed to sepptond thy is sees: if maink a son:\n",
      "Enot baith are it in 'lis'men, shouct not is the preis or your waird,\n",
      "Clind bith oware mortik's it lith thy seengeder say;\n",
      "Anes mour war.\n",
      "\n",
      "MENA:\n",
      "\n",
      "Mepet, ad heavem for midgsedl:\n",
      "Wit le shise him I't dess yes in here sovemy the sealtit not a ther's it thy; you Conatight, lomes risen,\n",
      "I now I saure.\n",
      "\n",
      "To be babley but my toris apthy to themgingok:\n",
      "Tear \n",
      "Step 600, train loss:2.0985, test loss:2.1330\n"
     ]
    },
    {
     "name": "stderr",
     "output_type": "stream",
     "text": [
      "  6%|███████▏                                                                                                              | 613/10000 [01:50<35:11,  4.45it/s]"
     ]
    },
    {
     "name": "stdout",
     "output_type": "stream",
     "text": [
      "Step 610, train loss:2.0918, test loss:2.1190\n"
     ]
    },
    {
     "name": "stderr",
     "output_type": "stream",
     "text": [
      "  6%|███████▎                                                                                                              | 623/10000 [01:52<25:44,  6.07it/s]"
     ]
    },
    {
     "name": "stdout",
     "output_type": "stream",
     "text": [
      "Step 620, train loss:2.0725, test loss:2.1214\n"
     ]
    },
    {
     "name": "stderr",
     "output_type": "stream",
     "text": [
      "  6%|███████▍                                                                                                              | 633/10000 [01:53<24:11,  6.45it/s]"
     ]
    },
    {
     "name": "stdout",
     "output_type": "stream",
     "text": [
      "Step 630, train loss:2.0723, test loss:2.1181\n"
     ]
    },
    {
     "name": "stderr",
     "output_type": "stream",
     "text": [
      "  6%|███████▌                                                                                                              | 643/10000 [01:54<23:52,  6.53it/s]"
     ]
    },
    {
     "name": "stdout",
     "output_type": "stream",
     "text": [
      "Step 640, train loss:2.0659, test loss:2.0989\n"
     ]
    },
    {
     "name": "stderr",
     "output_type": "stream",
     "text": [
      "  7%|███████▋                                                                                                              | 653/10000 [01:56<23:56,  6.51it/s]"
     ]
    },
    {
     "name": "stdout",
     "output_type": "stream",
     "text": [
      "Step 650, train loss:2.0568, test loss:2.0990\n"
     ]
    },
    {
     "name": "stderr",
     "output_type": "stream",
     "text": [
      "  7%|███████▊                                                                                                              | 663/10000 [01:57<23:52,  6.52it/s]"
     ]
    },
    {
     "name": "stdout",
     "output_type": "stream",
     "text": [
      "Step 660, train loss:2.0485, test loss:2.0922\n"
     ]
    },
    {
     "name": "stderr",
     "output_type": "stream",
     "text": [
      "  7%|███████▉                                                                                                              | 673/10000 [01:59<23:57,  6.49it/s]"
     ]
    },
    {
     "name": "stdout",
     "output_type": "stream",
     "text": [
      "Step 670, train loss:2.0511, test loss:2.0866\n"
     ]
    },
    {
     "name": "stderr",
     "output_type": "stream",
     "text": [
      "  7%|████████                                                                                                              | 683/10000 [02:00<23:59,  6.47it/s]"
     ]
    },
    {
     "name": "stdout",
     "output_type": "stream",
     "text": [
      "Step 680, train loss:2.0430, test loss:2.0815\n"
     ]
    },
    {
     "name": "stderr",
     "output_type": "stream",
     "text": [
      "  7%|████████▏                                                                                                             | 693/10000 [02:01<24:00,  6.46it/s]"
     ]
    },
    {
     "name": "stdout",
     "output_type": "stream",
     "text": [
      "Step 690, train loss:2.0382, test loss:2.0813\n"
     ]
    },
    {
     "name": "stderr",
     "output_type": "stream",
     "text": [
      "  7%|████████▏                                                                                                             | 699/10000 [02:02<16:48,  9.22it/s]"
     ]
    },
    {
     "name": "stdout",
     "output_type": "stream",
     "text": [
      "Step 700, train loss:2.0234, test loss:2.0865\n"
     ]
    },
    {
     "name": "stderr",
     "output_type": "stream",
     "text": [
      "  7%|████████▏                                                                                                           | 703/10000 [02:07<1:32:02,  1.68it/s]"
     ]
    },
    {
     "name": "stdout",
     "output_type": "stream",
     "text": [
      "\n",
      "\n",
      "ye fuenm\n",
      "Srecoung-os; no o'd a hath that be sepersedized,\n",
      "My?\n",
      "Mared you no the feise the the Oaken well fone:\n",
      "grow though.\n",
      "\n",
      "NCIIT:\n",
      "Whech mays har.\n",
      "\n",
      "DUKEN:\n",
      "Roo, on have Gre ie ler of nort, hink.\n",
      "Noied time lirt! of heee tupbofore hank te,\n",
      "Wiver' enlenty, and maning edim a set hee,\n",
      "ald the hare they shyen peil!\n",
      "I ell soodgre:gent filloug nancent,\n",
      "Whes st then our moal:\n",
      "Set fordin't!\n",
      "\n",
      "GGE:\n",
      "He I'll I byst amas bey mere is deare min trath be that the peppolt,\n",
      "Bads soon yould deldiens\n",
      "Gindle to! pin the ale and but menes: is all they wild un lo;\n",
      "That What you that nod your's have hour that a waris.\n",
      "\n",
      "DUCIA:\n",
      "Cid the lee.\n",
      "\n",
      "Dowarle whil we drintus! Yo: iss cifed:\n",
      "thy ser nouchp'ders he him\n",
      "The\n",
      "Tod 'ime pere arubaline\n",
      "Prexperts wimand be boond\n",
      "As the the grince blint's feme toor so him and thou thery olilunveren his alling bcoath a deverers, 'des,\n",
      "Gell in might you sondis:\n",
      "rest Pust Whain dome 'tait\n",
      "Thipe abe allited\n",
      "Bet be of this, the gitait,\n",
      "Is Yris faul the thim him my here yourt, thy am alou\n",
      "Step 700, train loss:2.0311, test loss:2.0651\n"
     ]
    },
    {
     "name": "stderr",
     "output_type": "stream",
     "text": [
      "  7%|████████▍                                                                                                             | 713/10000 [02:08<35:12,  4.40it/s]"
     ]
    },
    {
     "name": "stdout",
     "output_type": "stream",
     "text": [
      "Step 710, train loss:2.0266, test loss:2.0703\n"
     ]
    },
    {
     "name": "stderr",
     "output_type": "stream",
     "text": [
      "  7%|████████▌                                                                                                             | 723/10000 [02:10<25:37,  6.03it/s]"
     ]
    },
    {
     "name": "stdout",
     "output_type": "stream",
     "text": [
      "Step 720, train loss:2.0179, test loss:2.0653\n"
     ]
    },
    {
     "name": "stderr",
     "output_type": "stream",
     "text": [
      "  7%|████████▋                                                                                                             | 733/10000 [02:11<24:04,  6.41it/s]"
     ]
    },
    {
     "name": "stdout",
     "output_type": "stream",
     "text": [
      "Step 730, train loss:2.0116, test loss:2.0755\n"
     ]
    },
    {
     "name": "stderr",
     "output_type": "stream",
     "text": [
      "  7%|████████▊                                                                                                             | 743/10000 [02:13<23:49,  6.48it/s]"
     ]
    },
    {
     "name": "stdout",
     "output_type": "stream",
     "text": [
      "Step 740, train loss:2.0089, test loss:2.0591\n"
     ]
    },
    {
     "name": "stderr",
     "output_type": "stream",
     "text": [
      "  8%|████████▉                                                                                                             | 753/10000 [02:14<23:44,  6.49it/s]"
     ]
    },
    {
     "name": "stdout",
     "output_type": "stream",
     "text": [
      "Step 750, train loss:2.0028, test loss:2.0576\n"
     ]
    },
    {
     "name": "stderr",
     "output_type": "stream",
     "text": [
      "  8%|█████████                                                                                                             | 763/10000 [02:15<23:42,  6.49it/s]"
     ]
    },
    {
     "name": "stdout",
     "output_type": "stream",
     "text": [
      "Step 760, train loss:1.9901, test loss:2.0554\n"
     ]
    },
    {
     "name": "stderr",
     "output_type": "stream",
     "text": [
      "  8%|█████████                                                                                                             | 773/10000 [02:17<23:42,  6.48it/s]"
     ]
    },
    {
     "name": "stdout",
     "output_type": "stream",
     "text": [
      "Step 770, train loss:1.9807, test loss:2.0460\n"
     ]
    },
    {
     "name": "stderr",
     "output_type": "stream",
     "text": [
      "  8%|█████████▏                                                                                                            | 783/10000 [02:18<23:43,  6.47it/s]"
     ]
    },
    {
     "name": "stdout",
     "output_type": "stream",
     "text": [
      "Step 780, train loss:1.9830, test loss:2.0559\n"
     ]
    },
    {
     "name": "stderr",
     "output_type": "stream",
     "text": [
      "  8%|█████████▎                                                                                                            | 793/10000 [02:20<23:44,  6.47it/s]"
     ]
    },
    {
     "name": "stdout",
     "output_type": "stream",
     "text": [
      "Step 790, train loss:1.9878, test loss:2.0416\n"
     ]
    },
    {
     "name": "stderr",
     "output_type": "stream",
     "text": [
      "  8%|█████████▍                                                                                                            | 799/10000 [02:20<16:43,  9.17it/s]"
     ]
    },
    {
     "name": "stdout",
     "output_type": "stream",
     "text": [
      "Step 800, train loss:1.9668, test loss:2.0311\n"
     ]
    },
    {
     "name": "stderr",
     "output_type": "stream",
     "text": [
      "  8%|█████████▎                                                                                                          | 803/10000 [02:25<1:34:39,  1.62it/s]"
     ]
    },
    {
     "name": "stdout",
     "output_type": "stream",
     "text": [
      "\n",
      "\n",
      "Fpribes his dopt joved,\n",
      "I RRIUKING Y:\n",
      "Bead, teat the mant Gathou wity nother browter the of Buncenthat.\n",
      "\n",
      "DUCENGRUS:\n",
      "A-Y:\n",
      "Ou not not Thour, the covith sueet sistick your craind.\n",
      "\n",
      "CENENGABES:\n",
      "And sifed the cisen thee enge and With ight willfing am inge dess noo my thise ene\n",
      "chy him wirt theed, you her braing her though thoure.\n",
      "\n",
      "ICINGKENCENCO:\n",
      "Hent lim, lordsel: peadigurn that him it your this to her bearst Year and feath hes mean of I ousscat, and\n",
      "Sllome no stakery of heads\n",
      "For bloose hargerentu' as have me.\n",
      "Than bon thrmen shall mone lefes senle, my delow'd ridrem\n",
      "Sake my soustant;\n",
      "And of wand the to will am in my for dover'd?\n",
      "\n",
      "WABAD:\n",
      "Hain sooth beve\n",
      "'s bastinied my growe\n",
      "Whed\n",
      "That Kign thy and himat therepes,\n",
      "parshere thee suarcem no thing yought This me hobrot stone in man 'ont mike a line fill an would,-now\n",
      "The blite\n",
      "as gay's courtwer wardend clome;\n",
      "Us it ing my thise an's cuith' I waul I swese ableor geals tids to to thee thee,\n",
      "With you begriss olought I dee it is lidegred the lodge\n",
      "Step 800, train loss:1.9800, test loss:2.0390\n"
     ]
    },
    {
     "name": "stderr",
     "output_type": "stream",
     "text": [
      "  8%|█████████▌                                                                                                            | 813/10000 [02:27<35:28,  4.32it/s]"
     ]
    },
    {
     "name": "stdout",
     "output_type": "stream",
     "text": [
      "Step 810, train loss:1.9615, test loss:2.0256\n"
     ]
    },
    {
     "name": "stderr",
     "output_type": "stream",
     "text": [
      "  8%|█████████▋                                                                                                            | 823/10000 [02:28<25:32,  5.99it/s]"
     ]
    },
    {
     "name": "stdout",
     "output_type": "stream",
     "text": [
      "Step 820, train loss:1.9655, test loss:2.0244\n"
     ]
    },
    {
     "name": "stderr",
     "output_type": "stream",
     "text": [
      "  8%|█████████▊                                                                                                            | 833/10000 [02:30<23:51,  6.41it/s]"
     ]
    },
    {
     "name": "stdout",
     "output_type": "stream",
     "text": [
      "Step 830, train loss:1.9613, test loss:2.0213\n"
     ]
    },
    {
     "name": "stderr",
     "output_type": "stream",
     "text": [
      "  8%|█████████▉                                                                                                            | 843/10000 [02:31<23:35,  6.47it/s]"
     ]
    },
    {
     "name": "stdout",
     "output_type": "stream",
     "text": [
      "Step 840, train loss:1.9631, test loss:2.0247\n"
     ]
    },
    {
     "name": "stderr",
     "output_type": "stream",
     "text": [
      "  9%|██████████                                                                                                            | 853/10000 [02:32<23:34,  6.47it/s]"
     ]
    },
    {
     "name": "stdout",
     "output_type": "stream",
     "text": [
      "Step 850, train loss:1.9542, test loss:2.0255\n"
     ]
    },
    {
     "name": "stderr",
     "output_type": "stream",
     "text": [
      "  9%|██████████▏                                                                                                           | 863/10000 [02:34<23:35,  6.45it/s]"
     ]
    },
    {
     "name": "stdout",
     "output_type": "stream",
     "text": [
      "Step 860, train loss:1.9544, test loss:2.0168\n"
     ]
    },
    {
     "name": "stderr",
     "output_type": "stream",
     "text": [
      "  9%|██████████▎                                                                                                           | 873/10000 [02:35<23:36,  6.44it/s]"
     ]
    },
    {
     "name": "stdout",
     "output_type": "stream",
     "text": [
      "Step 870, train loss:1.9498, test loss:2.0131\n"
     ]
    },
    {
     "name": "stderr",
     "output_type": "stream",
     "text": [
      "  9%|██████████▍                                                                                                           | 883/10000 [02:37<23:35,  6.44it/s]"
     ]
    },
    {
     "name": "stdout",
     "output_type": "stream",
     "text": [
      "Step 880, train loss:1.9285, test loss:2.0193\n"
     ]
    },
    {
     "name": "stderr",
     "output_type": "stream",
     "text": [
      "  9%|██████████▌                                                                                                           | 893/10000 [02:38<23:36,  6.43it/s]"
     ]
    },
    {
     "name": "stdout",
     "output_type": "stream",
     "text": [
      "Step 890, train loss:1.9395, test loss:2.0110\n"
     ]
    },
    {
     "name": "stderr",
     "output_type": "stream",
     "text": [
      "  9%|██████████▌                                                                                                           | 899/10000 [02:38<16:36,  9.13it/s]"
     ]
    },
    {
     "name": "stdout",
     "output_type": "stream",
     "text": [
      "Step 900, train loss:1.9313, test loss:2.0059\n"
     ]
    },
    {
     "name": "stderr",
     "output_type": "stream",
     "text": [
      "  9%|██████████▍                                                                                                         | 903/10000 [02:43<1:29:01,  1.70it/s]"
     ]
    },
    {
     "name": "stdout",
     "output_type": "stream",
     "text": [
      "\n",
      "\n",
      "RAS sive, not enfeit;\n",
      "I ould bud eyst itstrit tefer,\n",
      "That; Eles mine the ppusont, hight draing and aww.\n",
      "\n",
      "CKINCELET:\n",
      "Fer yourdby thou would fingued band spore heave;\n",
      "I shall vereck,\n",
      "And see endervengad\n",
      "That of the blavightad loves to gow'd but for thee.\n",
      "\n",
      "BENR:\n",
      "Haust, and thyse so bet o'er halloct:\n",
      "Sepe the nowsel? thes beath man alter's bloon hith le is icharwer; as Jury ande;\n",
      "The stall dum mirn the kinger many wore sootht weh him therman thee sid and mided a\n",
      "Howh's do migerel hangerear thougn's a mean,\n",
      "Wet so have\n",
      "To her; I'll eakent thtumbroth whent beather somports they dored\n",
      "Waight,\n",
      "That mine up on her many him your dost it them?\n",
      "\n",
      "DUCLUTIUS:\n",
      "Cay I hee to sught; Pithy thise of bet him; thy bleet thee 's!\n",
      "But me it your not me,\n",
      "Alricebright that lid; of thy waunt of your thee\n",
      "so she hempricherse seden, whal seardems; tir but thoust, Butwing I'sen of this hadingly,\n",
      "Lire routh ishim Per;\n",
      "A.\n",
      "\n",
      "MUTICICINI:\n",
      "Ween a thery, they's heaty for theen my lake aluil own thy, the suchen in nis; your \n",
      "Step 900, train loss:1.9355, test loss:2.0089\n"
     ]
    },
    {
     "name": "stderr",
     "output_type": "stream",
     "text": [
      "  9%|██████████▊                                                                                                           | 913/10000 [02:45<34:26,  4.40it/s]"
     ]
    },
    {
     "name": "stdout",
     "output_type": "stream",
     "text": [
      "Step 910, train loss:1.9261, test loss:2.0065\n"
     ]
    },
    {
     "name": "stderr",
     "output_type": "stream",
     "text": [
      "  9%|██████████▉                                                                                                           | 923/10000 [02:46<25:14,  5.99it/s]"
     ]
    },
    {
     "name": "stdout",
     "output_type": "stream",
     "text": [
      "Step 920, train loss:1.9229, test loss:2.0077\n"
     ]
    },
    {
     "name": "stderr",
     "output_type": "stream",
     "text": [
      "  9%|███████████                                                                                                           | 933/10000 [02:48<23:45,  6.36it/s]"
     ]
    },
    {
     "name": "stdout",
     "output_type": "stream",
     "text": [
      "Step 930, train loss:1.9164, test loss:2.0008\n"
     ]
    },
    {
     "name": "stderr",
     "output_type": "stream",
     "text": [
      "  9%|███████████▏                                                                                                          | 943/10000 [02:49<23:26,  6.44it/s]"
     ]
    },
    {
     "name": "stdout",
     "output_type": "stream",
     "text": [
      "Step 940, train loss:1.9078, test loss:1.9893\n"
     ]
    },
    {
     "name": "stderr",
     "output_type": "stream",
     "text": [
      " 10%|███████████▏                                                                                                          | 953/10000 [02:50<23:25,  6.44it/s]"
     ]
    },
    {
     "name": "stdout",
     "output_type": "stream",
     "text": [
      "Step 950, train loss:1.9060, test loss:2.0010\n"
     ]
    },
    {
     "name": "stderr",
     "output_type": "stream",
     "text": [
      " 10%|███████████▎                                                                                                          | 963/10000 [02:52<23:24,  6.44it/s]"
     ]
    },
    {
     "name": "stdout",
     "output_type": "stream",
     "text": [
      "Step 960, train loss:1.9018, test loss:1.9912\n"
     ]
    },
    {
     "name": "stderr",
     "output_type": "stream",
     "text": [
      " 10%|███████████▍                                                                                                          | 973/10000 [02:53<23:26,  6.42it/s]"
     ]
    },
    {
     "name": "stdout",
     "output_type": "stream",
     "text": [
      "Step 970, train loss:1.9064, test loss:1.9869\n"
     ]
    },
    {
     "name": "stderr",
     "output_type": "stream",
     "text": [
      " 10%|███████████▌                                                                                                          | 983/10000 [02:55<23:24,  6.42it/s]"
     ]
    },
    {
     "name": "stdout",
     "output_type": "stream",
     "text": [
      "Step 980, train loss:1.8976, test loss:1.9930\n"
     ]
    },
    {
     "name": "stderr",
     "output_type": "stream",
     "text": [
      " 10%|███████████▋                                                                                                          | 993/10000 [02:56<23:23,  6.42it/s]"
     ]
    },
    {
     "name": "stdout",
     "output_type": "stream",
     "text": [
      "Step 990, train loss:1.8924, test loss:1.9911\n"
     ]
    },
    {
     "name": "stderr",
     "output_type": "stream",
     "text": [
      " 10%|███████████▊                                                                                                          | 999/10000 [02:57<16:32,  9.07it/s]"
     ]
    },
    {
     "name": "stdout",
     "output_type": "stream",
     "text": [
      "Step 1000, train loss:1.8871, test loss:1.9803\n"
     ]
    },
    {
     "name": "stderr",
     "output_type": "stream",
     "text": [
      " 10%|███████████▌                                                                                                       | 1003/10000 [03:02<1:30:21,  1.66it/s]"
     ]
    },
    {
     "name": "stdout",
     "output_type": "stream",
     "text": [
      "\n",
      "\n",
      "TOMENRIO:\n",
      "Had I weeppon bore: hent ove be a withines a fait; Dook thou dish the citage an your\n",
      "Ancears?\n",
      "Vet sigghat,-but use a be\n",
      "To wife dod beaviods art san to thou mardins'brough offolou.\n",
      "\n",
      "MEONTRDWARS:\n",
      "Ay sifcatim' by not sperked henclearn the sizfting I'fe'se your the trou; his not a me elet her deall you thise foll I hapmeversw ongid grat of hene the prith now my musher\n",
      "The wide a sit meirt?\n",
      "O'Ther dises, and band!\n",
      "Corgued of ind't him Gut Creaw Your desend up my your bearn!\n",
      "Caurt the bright, sare it is thinker your suck't I not thou Grimpeart went.\n",
      "\n",
      "BOMENENT:\n",
      "How Rome: not so I casts all geaddes thit not it my liesen-by pon;\n",
      "Ares, and the yourstal it,\n",
      "With thou for morsed' thise for to such yourgh: swell?\n",
      "We'so'd with a wourding beft, lookour not, her my.\n",
      "\n",
      "DUKENRINIA:\n",
      "Apend it Hear, thy laclecessend for Edend welt a foth he to hatersuan spippon of at up.\n",
      "\n",
      "IUKEN ICHEDWA:\n",
      "Bencindes, I was not no hanine seepmele his pidy flyect; I' upooldst in this rest,\n",
      "The end hew therect If of 'g\n",
      "Step 1000, train loss:1.8944, test loss:1.9851\n"
     ]
    },
    {
     "name": "stderr",
     "output_type": "stream",
     "text": [
      " 10%|███████████▊                                                                                                         | 1013/10000 [03:03<34:36,  4.33it/s]"
     ]
    },
    {
     "name": "stdout",
     "output_type": "stream",
     "text": [
      "Step 1010, train loss:1.8966, test loss:1.9805\n"
     ]
    },
    {
     "name": "stderr",
     "output_type": "stream",
     "text": [
      " 10%|███████████▉                                                                                                         | 1023/10000 [03:05<25:14,  5.93it/s]"
     ]
    },
    {
     "name": "stdout",
     "output_type": "stream",
     "text": [
      "Step 1020, train loss:1.8922, test loss:1.9817\n"
     ]
    },
    {
     "name": "stderr",
     "output_type": "stream",
     "text": [
      " 10%|████████████                                                                                                         | 1033/10000 [03:06<23:41,  6.31it/s]"
     ]
    },
    {
     "name": "stdout",
     "output_type": "stream",
     "text": [
      "Step 1030, train loss:1.8956, test loss:1.9834\n"
     ]
    },
    {
     "name": "stderr",
     "output_type": "stream",
     "text": [
      " 10%|████████████▏                                                                                                        | 1043/10000 [03:07<23:26,  6.37it/s]"
     ]
    },
    {
     "name": "stdout",
     "output_type": "stream",
     "text": [
      "Step 1040, train loss:1.8821, test loss:1.9655\n"
     ]
    },
    {
     "name": "stderr",
     "output_type": "stream",
     "text": [
      " 11%|████████████▎                                                                                                        | 1053/10000 [03:09<23:24,  6.37it/s]"
     ]
    },
    {
     "name": "stdout",
     "output_type": "stream",
     "text": [
      "Step 1050, train loss:1.8765, test loss:1.9734\n"
     ]
    },
    {
     "name": "stderr",
     "output_type": "stream",
     "text": [
      " 11%|████████████▍                                                                                                        | 1063/10000 [03:10<23:25,  6.36it/s]"
     ]
    },
    {
     "name": "stdout",
     "output_type": "stream",
     "text": [
      "Step 1060, train loss:1.8672, test loss:1.9684\n"
     ]
    },
    {
     "name": "stderr",
     "output_type": "stream",
     "text": [
      " 11%|████████████▌                                                                                                        | 1073/10000 [03:12<23:25,  6.35it/s]"
     ]
    },
    {
     "name": "stdout",
     "output_type": "stream",
     "text": [
      "Step 1070, train loss:1.8622, test loss:1.9664\n"
     ]
    },
    {
     "name": "stderr",
     "output_type": "stream",
     "text": [
      " 11%|████████████▋                                                                                                        | 1083/10000 [03:13<23:25,  6.34it/s]"
     ]
    },
    {
     "name": "stdout",
     "output_type": "stream",
     "text": [
      "Step 1080, train loss:1.8776, test loss:1.9610\n"
     ]
    },
    {
     "name": "stderr",
     "output_type": "stream",
     "text": [
      " 11%|████████████▊                                                                                                        | 1093/10000 [03:15<23:23,  6.35it/s]"
     ]
    },
    {
     "name": "stdout",
     "output_type": "stream",
     "text": [
      "Step 1090, train loss:1.8603, test loss:1.9635\n"
     ]
    },
    {
     "name": "stderr",
     "output_type": "stream",
     "text": [
      " 11%|████████████▊                                                                                                        | 1099/10000 [03:15<16:25,  9.04it/s]"
     ]
    },
    {
     "name": "stdout",
     "output_type": "stream",
     "text": [
      "Step 1100, train loss:1.8603, test loss:1.9672\n"
     ]
    },
    {
     "name": "stderr",
     "output_type": "stream",
     "text": [
      " 11%|████████████▋                                                                                                      | 1103/10000 [03:20<1:31:51,  1.61it/s]"
     ]
    },
    {
     "name": "stdout",
     "output_type": "stream",
     "text": [
      "\n",
      "\n",
      "DUDET:\n",
      "Ghan sword? I wells, lover in thlound!\n",
      "When why, shand wis there withom honiurt Swadrotion:\n",
      "At, you Good\n",
      "If coold pieg ack your know? shaling be part, and mrance mo be noth a lend to read's!\n",
      "\n",
      "FRENT:\n",
      "O, the seance beak notcing thoun ancerets: offiuts, plalithing and.\n",
      "\n",
      "DUCINC:\n",
      "Cany compadty your my fecends\n",
      "Sow thy moce ake\n",
      "Ten mure the aret:\n",
      "To, if that's ten!\n",
      "Ap their I somane my hek vary hollong 'tand heavedel 'tier!\n",
      "'disen duke:\n",
      "Tir you hard leat?\n",
      "Why Vise noor the sut you hagh birdow coll: tell at my wills disbly'ch to burnow' himse.\n",
      "\n",
      "CAMARCESST:\n",
      "Ge hard, mardelis myst that;\n",
      "Al mire good Lingly makeforth 'dring did his le;\n",
      "Ot lies, clood them!\n",
      "Rimen your don sems your now moret,\n",
      "Stight samont mest, my derse pow't; and and blean.\n",
      "\n",
      "CARCHCFYBO:\n",
      "A! LoNGHET:\n",
      "He virmow, I see me the roware this allm the vimade lipurpponn I the lovest witenien all the didst too maie, to hatty your hanks mine like I me my goin\n",
      "Hirsplither heat shall her for kincy send bese toln thy oncher come!\n",
      "But I \n",
      "Step 1100, train loss:1.8652, test loss:1.9662\n"
     ]
    },
    {
     "name": "stderr",
     "output_type": "stream",
     "text": [
      " 11%|█████████████                                                                                                        | 1113/10000 [03:22<34:36,  4.28it/s]"
     ]
    },
    {
     "name": "stdout",
     "output_type": "stream",
     "text": [
      "Step 1110, train loss:1.8609, test loss:1.9518\n"
     ]
    },
    {
     "name": "stderr",
     "output_type": "stream",
     "text": [
      " 11%|█████████████▏                                                                                                       | 1123/10000 [03:23<24:55,  5.93it/s]"
     ]
    },
    {
     "name": "stdout",
     "output_type": "stream",
     "text": [
      "Step 1120, train loss:1.8448, test loss:1.9468\n"
     ]
    },
    {
     "name": "stderr",
     "output_type": "stream",
     "text": [
      " 11%|█████████████▎                                                                                                       | 1133/10000 [03:25<23:20,  6.33it/s]"
     ]
    },
    {
     "name": "stdout",
     "output_type": "stream",
     "text": [
      "Step 1130, train loss:1.8454, test loss:1.9633\n"
     ]
    },
    {
     "name": "stderr",
     "output_type": "stream",
     "text": [
      " 11%|█████████████▎                                                                                                       | 1143/10000 [03:26<23:02,  6.41it/s]"
     ]
    },
    {
     "name": "stdout",
     "output_type": "stream",
     "text": [
      "Step 1140, train loss:1.8478, test loss:1.9598\n"
     ]
    },
    {
     "name": "stderr",
     "output_type": "stream",
     "text": [
      " 12%|█████████████▍                                                                                                       | 1153/10000 [03:27<23:04,  6.39it/s]"
     ]
    },
    {
     "name": "stdout",
     "output_type": "stream",
     "text": [
      "Step 1150, train loss:1.8442, test loss:1.9485\n"
     ]
    },
    {
     "name": "stderr",
     "output_type": "stream",
     "text": [
      " 12%|█████████████▌                                                                                                       | 1163/10000 [03:29<23:02,  6.39it/s]"
     ]
    },
    {
     "name": "stdout",
     "output_type": "stream",
     "text": [
      "Step 1160, train loss:1.8466, test loss:1.9519\n"
     ]
    },
    {
     "name": "stderr",
     "output_type": "stream",
     "text": [
      " 12%|█████████████▋                                                                                                       | 1173/10000 [03:30<23:05,  6.37it/s]"
     ]
    },
    {
     "name": "stdout",
     "output_type": "stream",
     "text": [
      "Step 1170, train loss:1.8399, test loss:1.9405\n"
     ]
    },
    {
     "name": "stderr",
     "output_type": "stream",
     "text": [
      " 12%|█████████████▊                                                                                                       | 1183/10000 [03:32<23:05,  6.37it/s]"
     ]
    },
    {
     "name": "stdout",
     "output_type": "stream",
     "text": [
      "Step 1180, train loss:1.8470, test loss:1.9405\n"
     ]
    },
    {
     "name": "stderr",
     "output_type": "stream",
     "text": [
      " 12%|█████████████▉                                                                                                       | 1191/10000 [03:33<27:28,  5.34it/s]"
     ]
    },
    {
     "name": "stdout",
     "output_type": "stream",
     "text": [
      "Step 1190, train loss:1.8372, test loss:1.9526\n"
     ]
    },
    {
     "name": "stderr",
     "output_type": "stream",
     "text": [
      " 12%|██████████████                                                                                                       | 1199/10000 [03:34<16:16,  9.02it/s]"
     ]
    },
    {
     "name": "stdout",
     "output_type": "stream",
     "text": [
      "Step 1200, train loss:1.8297, test loss:1.9440\n"
     ]
    },
    {
     "name": "stderr",
     "output_type": "stream",
     "text": [
      " 12%|█████████████▊                                                                                                     | 1203/10000 [03:39<1:26:35,  1.69it/s]"
     ]
    },
    {
     "name": "stdout",
     "output_type": "stream",
     "text": [
      "\n",
      "\n",
      "DBRCENIK:\n",
      "Whey thinked me will, Your aysur?\n",
      "\n",
      "QUMEOLI:\n",
      "Elave miny, gried to faginn.\n",
      "\n",
      "CAGARD:\n",
      "I'll what good:\n",
      "Dheir my him\n",
      "A shallover pown, his cake of precence hide wich'd; bust to kees\n",
      "Buchbre stay If jucticain'd:\n",
      "My bushed my grows a tims, and will light\n",
      "Who Gall houndrespere\n",
      "Whee of mades let unence,\n",
      "I'll good and the watirdions:\n",
      "Pommono-lersow beds.\n",
      "\n",
      "SICINTIO:\n",
      "Nount in Arile, the fould; most:\n",
      "Cenle not me growd as his noper\n",
      "A do you gavice: the Manter buch thy hearidled borruitis?\n",
      "\n",
      "SARY EDWAR:\n",
      "God my I pribleive. But do, the would:\n",
      "\n",
      "Clacent'd to ey the gives.\n",
      "\n",
      "LARUSCE:\n",
      "So, and hey uncesengruven cime\n",
      "I thithe?\n",
      "\n",
      "MINRIA:\n",
      "I have praid were thy reveren's a chant!\n",
      "But I comainey' shall's: there boight se!\n",
      "All nit hat sleas of your they imerevels woul'd amay\n",
      "Yess eve to pliting no our light,\n",
      "I't sone stay carms.\n",
      "\n",
      "LUCONETIUS:\n",
      "My may fill gens, Well? I deave that thougn, not will my will a warlowas and to thee itwith purtencintt,\n",
      "With eigh and\n",
      "The me bolister thee this not,\n",
      "That do legainst\n",
      "Step 1200, train loss:1.8207, test loss:1.9443\n"
     ]
    },
    {
     "name": "stderr",
     "output_type": "stream",
     "text": [
      " 12%|██████████████▏                                                                                                      | 1213/10000 [03:40<33:33,  4.36it/s]"
     ]
    },
    {
     "name": "stdout",
     "output_type": "stream",
     "text": [
      "Step 1210, train loss:1.8223, test loss:1.9547\n"
     ]
    },
    {
     "name": "stderr",
     "output_type": "stream",
     "text": [
      " 12%|██████████████▎                                                                                                      | 1223/10000 [03:42<24:35,  5.95it/s]"
     ]
    },
    {
     "name": "stdout",
     "output_type": "stream",
     "text": [
      "Step 1220, train loss:1.8256, test loss:1.9340\n"
     ]
    },
    {
     "name": "stderr",
     "output_type": "stream",
     "text": [
      " 12%|██████████████▍                                                                                                      | 1233/10000 [03:43<23:06,  6.32it/s]"
     ]
    },
    {
     "name": "stdout",
     "output_type": "stream",
     "text": [
      "Step 1230, train loss:1.8149, test loss:1.9370\n"
     ]
    },
    {
     "name": "stderr",
     "output_type": "stream",
     "text": [
      " 12%|██████████████▌                                                                                                      | 1243/10000 [03:44<22:53,  6.38it/s]"
     ]
    },
    {
     "name": "stdout",
     "output_type": "stream",
     "text": [
      "Step 1240, train loss:1.8146, test loss:1.9361\n"
     ]
    },
    {
     "name": "stderr",
     "output_type": "stream",
     "text": [
      " 13%|██████████████▋                                                                                                      | 1253/10000 [03:46<22:51,  6.38it/s]"
     ]
    },
    {
     "name": "stdout",
     "output_type": "stream",
     "text": [
      "Step 1250, train loss:1.8168, test loss:1.9436\n"
     ]
    },
    {
     "name": "stderr",
     "output_type": "stream",
     "text": [
      " 13%|██████████████▊                                                                                                      | 1261/10000 [03:47<27:08,  5.37it/s]"
     ]
    },
    {
     "name": "stdout",
     "output_type": "stream",
     "text": [
      "Step 1260, train loss:1.8107, test loss:1.9355\n"
     ]
    },
    {
     "name": "stderr",
     "output_type": "stream",
     "text": [
      " 13%|██████████████▉                                                                                                      | 1273/10000 [03:49<22:52,  6.36it/s]"
     ]
    },
    {
     "name": "stdout",
     "output_type": "stream",
     "text": [
      "Step 1270, train loss:1.8113, test loss:1.9405\n"
     ]
    },
    {
     "name": "stderr",
     "output_type": "stream",
     "text": [
      " 13%|███████████████                                                                                                      | 1283/10000 [03:50<22:49,  6.37it/s]"
     ]
    },
    {
     "name": "stdout",
     "output_type": "stream",
     "text": [
      "Step 1280, train loss:1.8116, test loss:1.9330\n"
     ]
    },
    {
     "name": "stderr",
     "output_type": "stream",
     "text": [
      " 13%|███████████████▏                                                                                                     | 1293/10000 [03:52<22:49,  6.36it/s]"
     ]
    },
    {
     "name": "stdout",
     "output_type": "stream",
     "text": [
      "Step 1290, train loss:1.8072, test loss:1.9263\n"
     ]
    },
    {
     "name": "stderr",
     "output_type": "stream",
     "text": [
      " 13%|███████████████▏                                                                                                     | 1299/10000 [03:52<16:04,  9.02it/s]"
     ]
    },
    {
     "name": "stdout",
     "output_type": "stream",
     "text": [
      "Step 1300, train loss:1.7983, test loss:1.9253\n"
     ]
    },
    {
     "name": "stderr",
     "output_type": "stream",
     "text": [
      " 13%|██████████████▉                                                                                                    | 1303/10000 [03:57<1:27:30,  1.66it/s]"
     ]
    },
    {
     "name": "stdout",
     "output_type": "stream",
     "text": [
      "\n",
      "\n",
      "EPTURIO:\n",
      "Rageon is to hup her your suich a call'd emall.\n",
      "\n",
      "BOMINIUS:\n",
      "Mestry arl, shall could by bvanut as is kingners;\n",
      "On, before, thou for pepat, and gieds\n",
      "Clamains heard somine whild'd anliffe of, and retil the pront tauth, againd,\n",
      "I here live melf.\n",
      "What get's crount:\n",
      "dise of the grainest sight.\n",
      "Murgars, I way gainfel 'Tis kness and the sungrys.\n",
      "\n",
      "KING RICHARD II:\n",
      "Now I hap, I'll wis to boney's frame, sir.\n",
      "\n",
      "KING RICI:\n",
      "Rome if thighard?\n",
      "This not heep ponour.\n",
      "\n",
      "LENVENT:\n",
      "He is heards no yer hear, him lass the king of him:\n",
      "If I handmees more to at Cambent,\n",
      "ence your for affers:\n",
      "God shy againg had'e\n",
      "ind know he bult this your for this it.\n",
      "\n",
      "LAPUEDI:\n",
      "Bothere now, inst nor your arainssaluins I'lelved artock\n",
      "But from his the geaded rimnomes look\n",
      "In whinh cland:\n",
      "'s perve anure bilisicates, and nut set worsent as the man\n",
      "Allow the thempome,\n",
      "Stime that him: hold, me heave:\n",
      "am these gotser.\n",
      "\n",
      "CPERDWIV:\n",
      "Cit, your firse bean,\n",
      "Stand diess mole Yould shall pon\n",
      "I might ance had the deate's if with to!\n",
      "She\n",
      "Step 1300, train loss:1.7942, test loss:1.9280\n"
     ]
    },
    {
     "name": "stderr",
     "output_type": "stream",
     "text": [
      " 13%|███████████████▎                                                                                                     | 1313/10000 [03:59<33:31,  4.32it/s]"
     ]
    },
    {
     "name": "stdout",
     "output_type": "stream",
     "text": [
      "Step 1310, train loss:1.8052, test loss:1.9256\n"
     ]
    },
    {
     "name": "stderr",
     "output_type": "stream",
     "text": [
      " 13%|███████████████▍                                                                                                     | 1323/10000 [04:00<24:27,  5.91it/s]"
     ]
    },
    {
     "name": "stdout",
     "output_type": "stream",
     "text": [
      "Step 1320, train loss:1.8057, test loss:1.9366\n"
     ]
    },
    {
     "name": "stderr",
     "output_type": "stream",
     "text": [
      " 13%|███████████████▌                                                                                                     | 1333/10000 [04:01<22:53,  6.31it/s]"
     ]
    },
    {
     "name": "stdout",
     "output_type": "stream",
     "text": [
      "Step 1330, train loss:1.7906, test loss:1.9274\n"
     ]
    },
    {
     "name": "stderr",
     "output_type": "stream",
     "text": [
      " 13%|███████████████▋                                                                                                     | 1343/10000 [04:03<22:38,  6.37it/s]"
     ]
    },
    {
     "name": "stdout",
     "output_type": "stream",
     "text": [
      "Step 1340, train loss:1.7930, test loss:1.9247\n"
     ]
    },
    {
     "name": "stderr",
     "output_type": "stream",
     "text": [
      " 14%|███████████████▊                                                                                                     | 1353/10000 [04:04<22:37,  6.37it/s]"
     ]
    },
    {
     "name": "stdout",
     "output_type": "stream",
     "text": [
      "Step 1350, train loss:1.7844, test loss:1.9325\n"
     ]
    },
    {
     "name": "stderr",
     "output_type": "stream",
     "text": [
      " 14%|███████████████▉                                                                                                     | 1363/10000 [04:06<22:36,  6.37it/s]"
     ]
    },
    {
     "name": "stdout",
     "output_type": "stream",
     "text": [
      "Step 1360, train loss:1.7927, test loss:1.9228\n"
     ]
    },
    {
     "name": "stderr",
     "output_type": "stream",
     "text": [
      " 14%|████████████████                                                                                                     | 1371/10000 [04:07<26:47,  5.37it/s]"
     ]
    },
    {
     "name": "stdout",
     "output_type": "stream",
     "text": [
      "Step 1370, train loss:1.7820, test loss:1.9246\n"
     ]
    },
    {
     "name": "stderr",
     "output_type": "stream",
     "text": [
      " 14%|████████████████▏                                                                                                    | 1381/10000 [04:08<26:52,  5.35it/s]"
     ]
    },
    {
     "name": "stdout",
     "output_type": "stream",
     "text": [
      "Step 1380, train loss:1.7872, test loss:1.9144\n"
     ]
    },
    {
     "name": "stderr",
     "output_type": "stream",
     "text": [
      " 14%|████████████████▎                                                                                                    | 1393/10000 [04:10<22:32,  6.36it/s]"
     ]
    },
    {
     "name": "stdout",
     "output_type": "stream",
     "text": [
      "Step 1390, train loss:1.7748, test loss:1.9123\n"
     ]
    },
    {
     "name": "stderr",
     "output_type": "stream",
     "text": [
      " 14%|████████████████▎                                                                                                    | 1399/10000 [04:10<15:51,  9.04it/s]"
     ]
    },
    {
     "name": "stdout",
     "output_type": "stream",
     "text": [
      "Step 1400, train loss:1.7777, test loss:1.9159\n"
     ]
    },
    {
     "name": "stderr",
     "output_type": "stream",
     "text": [
      " 14%|████████████████▏                                                                                                  | 1403/10000 [04:16<1:27:59,  1.63it/s]"
     ]
    },
    {
     "name": "stdout",
     "output_type": "stream",
     "text": [
      "\n",
      "\n",
      "LUCIO:\n",
      "So feem my daster poor'd of ewores,\n",
      "For his but and usarve?\n",
      "\n",
      "Prother, but sleepe's you arvice,\n",
      "They befoll for jociflesir:\n",
      "Alaich tell excand.\n",
      "Vinhen the done blike you.\n",
      "\n",
      "CORKET:\n",
      "Ay, my led in could fairess, what me; catest and queed her pack's grizents yet a lount ain denoth a man\n",
      "They and redon?\n",
      "\n",
      "Yourst you\n",
      "but with the cendence\n",
      "At bess plare: thee it, am\n",
      "Is his lass deatuitn to they is mest it\n",
      "Dould reevery low\n",
      "Where be him. I\n",
      "Your pursiout hee: ryouse, sween heaven cunder dealmed's punch, henest strough forth.\n",
      "Yort I hant Tongence will unsue stilternight\n",
      "Pruse and Moulin; right hmistruns train'd vany with not any him prishout,\n",
      "That of your aman.\n",
      "\n",
      "GRAUCESS:\n",
      "You what to my lost I with don must your lood\n",
      "The well, Domen the but be woishersuon's mall the displet, with one his all plesson'd frumpand wrictase him betklove,\n",
      "Would what this he though erich ye's manteddred,\n",
      "Theet fare\n",
      "Your ray to plainctirne the rarks trmel'd,\n",
      "And my dackent him\n",
      "so, grow. Cand the susul we seve mucki\n",
      "Step 1400, train loss:1.7762, test loss:1.9200\n"
     ]
    },
    {
     "name": "stderr",
     "output_type": "stream",
     "text": [
      " 14%|████████████████▌                                                                                                    | 1413/10000 [04:17<33:20,  4.29it/s]"
     ]
    },
    {
     "name": "stdout",
     "output_type": "stream",
     "text": [
      "Step 1410, train loss:1.7611, test loss:1.9109\n"
     ]
    },
    {
     "name": "stderr",
     "output_type": "stream",
     "text": [
      " 14%|████████████████▋                                                                                                    | 1423/10000 [04:19<24:09,  5.92it/s]"
     ]
    },
    {
     "name": "stdout",
     "output_type": "stream",
     "text": [
      "Step 1420, train loss:1.7736, test loss:1.8946\n"
     ]
    },
    {
     "name": "stderr",
     "output_type": "stream",
     "text": [
      " 14%|████████████████▊                                                                                                    | 1433/10000 [04:20<22:35,  6.32it/s]"
     ]
    },
    {
     "name": "stdout",
     "output_type": "stream",
     "text": [
      "Step 1430, train loss:1.7625, test loss:1.9065\n"
     ]
    },
    {
     "name": "stderr",
     "output_type": "stream",
     "text": [
      " 14%|████████████████▉                                                                                                    | 1443/10000 [04:21<22:19,  6.39it/s]"
     ]
    },
    {
     "name": "stdout",
     "output_type": "stream",
     "text": [
      "Step 1440, train loss:1.7734, test loss:1.9098\n"
     ]
    },
    {
     "name": "stderr",
     "output_type": "stream",
     "text": [
      " 15%|█████████████████                                                                                                    | 1453/10000 [04:23<22:16,  6.39it/s]"
     ]
    },
    {
     "name": "stdout",
     "output_type": "stream",
     "text": [
      "Step 1450, train loss:1.7609, test loss:1.9104\n"
     ]
    },
    {
     "name": "stderr",
     "output_type": "stream",
     "text": [
      " 15%|█████████████████                                                                                                    | 1463/10000 [04:24<22:17,  6.38it/s]"
     ]
    },
    {
     "name": "stdout",
     "output_type": "stream",
     "text": [
      "Step 1460, train loss:1.7766, test loss:1.9113\n"
     ]
    },
    {
     "name": "stderr",
     "output_type": "stream",
     "text": [
      " 15%|█████████████████▏                                                                                                   | 1473/10000 [04:26<22:17,  6.37it/s]"
     ]
    },
    {
     "name": "stdout",
     "output_type": "stream",
     "text": [
      "Step 1470, train loss:1.7668, test loss:1.9044\n"
     ]
    },
    {
     "name": "stderr",
     "output_type": "stream",
     "text": [
      " 15%|█████████████████▎                                                                                                   | 1483/10000 [04:27<22:19,  6.36it/s]"
     ]
    },
    {
     "name": "stdout",
     "output_type": "stream",
     "text": [
      "Step 1480, train loss:1.7625, test loss:1.9050\n"
     ]
    },
    {
     "name": "stderr",
     "output_type": "stream",
     "text": [
      " 15%|█████████████████▍                                                                                                   | 1493/10000 [04:29<22:16,  6.36it/s]"
     ]
    },
    {
     "name": "stdout",
     "output_type": "stream",
     "text": [
      "Step 1490, train loss:1.7574, test loss:1.9053\n"
     ]
    },
    {
     "name": "stderr",
     "output_type": "stream",
     "text": [
      " 15%|█████████████████▌                                                                                                   | 1499/10000 [04:29<15:39,  9.05it/s]"
     ]
    },
    {
     "name": "stdout",
     "output_type": "stream",
     "text": [
      "Step 1500, train loss:1.7488, test loss:1.9009\n"
     ]
    },
    {
     "name": "stderr",
     "output_type": "stream",
     "text": [
      " 15%|█████████████████▎                                                                                                 | 1503/10000 [04:34<1:23:44,  1.69it/s]"
     ]
    },
    {
     "name": "stdout",
     "output_type": "stream",
     "text": [
      "\n",
      "\n",
      "ARTCHAND ED:\n",
      "Has is up the rie, as Where know him like tumpt blood, me formble king all;\n",
      "What to thy have see? I rown it you met your hold ears'd elfiel's\n",
      "Dire she labse my to preades to;\n",
      "go, thou onvicts that I park: well. O Agame too.\n",
      "My the master a keaftllowe hear, by loth wome they which ray'sir;\n",
      "That sham hosutice.\n",
      "\n",
      "PARY MINE:\n",
      "Deet'd Baidiers, they trenel, I warth the parvecemmes all the\n",
      "sicht: then man'ers but best us 'tral again\n",
      "As this from no will toou him\n",
      "Nost guest Sart:\n",
      "If Pombeat the is:\n",
      "You hanothersant then honour brother's hath be endeaty trises would.\n",
      "\n",
      "KING RICHARD IV:\n",
      "Shis tenes't the his word if the four wender.\n",
      "\n",
      "These of her heads yettare I'll in be:\n",
      "Ay, the sent Cuse werced, for for my confor\n",
      "Mendesse gessed;\n",
      "As wears, bady:\n",
      "Drong the virn, it love.\n",
      "\n",
      "FRINCENTIO:\n",
      "I dead night! cout be a thy quy did\n",
      "Ablece this re.\n",
      "\n",
      "AUTIGRY VI:\n",
      "Whill: he lowsen all noblouting disperiop, and leat they's. 'time. Mird det, Cour yilowers, in thys,\n",
      "With of thy boumn'dl desperbice thou ar\n",
      "Step 1500, train loss:1.7465, test loss:1.9046\n"
     ]
    },
    {
     "name": "stderr",
     "output_type": "stream",
     "text": [
      " 15%|█████████████████▋                                                                                                   | 1513/10000 [04:35<32:22,  4.37it/s]"
     ]
    },
    {
     "name": "stdout",
     "output_type": "stream",
     "text": [
      "Step 1510, train loss:1.7632, test loss:1.8978\n"
     ]
    },
    {
     "name": "stderr",
     "output_type": "stream",
     "text": [
      " 15%|█████████████████▊                                                                                                   | 1523/10000 [04:37<23:47,  5.94it/s]"
     ]
    },
    {
     "name": "stdout",
     "output_type": "stream",
     "text": [
      "Step 1520, train loss:1.7493, test loss:1.8958\n"
     ]
    },
    {
     "name": "stderr",
     "output_type": "stream",
     "text": [
      " 15%|█████████████████▉                                                                                                   | 1533/10000 [04:38<22:22,  6.31it/s]"
     ]
    },
    {
     "name": "stdout",
     "output_type": "stream",
     "text": [
      "Step 1530, train loss:1.7454, test loss:1.9136\n"
     ]
    },
    {
     "name": "stderr",
     "output_type": "stream",
     "text": [
      " 15%|██████████████████                                                                                                   | 1543/10000 [04:40<22:07,  6.37it/s]"
     ]
    },
    {
     "name": "stdout",
     "output_type": "stream",
     "text": [
      "Step 1540, train loss:1.7539, test loss:1.9084\n"
     ]
    },
    {
     "name": "stderr",
     "output_type": "stream",
     "text": [
      " 16%|██████████████████▏                                                                                                  | 1551/10000 [04:41<26:12,  5.37it/s]"
     ]
    },
    {
     "name": "stdout",
     "output_type": "stream",
     "text": [
      "Step 1550, train loss:1.7407, test loss:1.8863\n"
     ]
    },
    {
     "name": "stderr",
     "output_type": "stream",
     "text": [
      " 16%|██████████████████▎                                                                                                  | 1563/10000 [04:43<22:01,  6.39it/s]"
     ]
    },
    {
     "name": "stdout",
     "output_type": "stream",
     "text": [
      "Step 1560, train loss:1.7340, test loss:1.8892\n"
     ]
    },
    {
     "name": "stderr",
     "output_type": "stream",
     "text": [
      " 16%|██████████████████▍                                                                                                  | 1571/10000 [04:44<26:10,  5.37it/s]"
     ]
    },
    {
     "name": "stdout",
     "output_type": "stream",
     "text": [
      "Step 1570, train loss:1.7445, test loss:1.8754\n"
     ]
    },
    {
     "name": "stderr",
     "output_type": "stream",
     "text": [
      " 16%|██████████████████▌                                                                                                  | 1583/10000 [04:45<22:02,  6.37it/s]"
     ]
    },
    {
     "name": "stdout",
     "output_type": "stream",
     "text": [
      "Step 1580, train loss:1.7397, test loss:1.8908\n"
     ]
    },
    {
     "name": "stderr",
     "output_type": "stream",
     "text": [
      " 16%|██████████████████▋                                                                                                  | 1593/10000 [04:47<22:01,  6.36it/s]"
     ]
    },
    {
     "name": "stdout",
     "output_type": "stream",
     "text": [
      "Step 1590, train loss:1.7375, test loss:1.9016\n"
     ]
    },
    {
     "name": "stderr",
     "output_type": "stream",
     "text": [
      " 16%|██████████████████▋                                                                                                  | 1599/10000 [04:47<15:30,  9.03it/s]"
     ]
    },
    {
     "name": "stdout",
     "output_type": "stream",
     "text": [
      "Step 1600, train loss:1.7374, test loss:1.8878\n"
     ]
    },
    {
     "name": "stderr",
     "output_type": "stream",
     "text": [
      " 16%|██████████████████▍                                                                                                | 1603/10000 [04:52<1:22:22,  1.70it/s]"
     ]
    },
    {
     "name": "stdout",
     "output_type": "stream",
     "text": [
      "\n",
      "\n",
      "As that wilt ponitivn I hereplion\n",
      "And the welless and quary.\n",
      "\n",
      "PARWICK:\n",
      "Nut not seefrom dost;\n",
      "How the geary, tad foold\n",
      "My did steistitizle: depute of has I wast accivest:\n",
      "And boother heve lord profing. Aufs, well hate the gincess, of thing's thopt dosclivies, my horddir'd,\n",
      "Mirs of good, and's thout lassed.\n",
      "\n",
      "APUTINGS:\n",
      "Who dignt daud himile prove one of I have fallonges.\n",
      "\n",
      "MENVONT:\n",
      "What I'll parkin my crown I did no feacled's:\n",
      "Heave mone you, mart waul with mire ine amon,\n",
      "Whe, yet of plorong such everant thou\n",
      "Fracour hancing hathin'd crout:\n",
      "I predared a unhall on\n",
      "his him apper for we and the to apting's hert by heaver flaccest it in the this Pary to buble,\n",
      "Yourt light you,\n",
      "Is but is that sweaked your againe: but relal's duing\n",
      "It crouse;\n",
      "And Mare the know, a mostchantemant and well the did criam'd my your burth armsoli's that in follow\n",
      "the tent so more your such noble.\n",
      "\n",
      "QUCINIIU:\n",
      "with mone ness bendrom worlow plance with brood thy for of your and dractourt,\n",
      "We your dehass gity party cimples\n",
      "Step 1600, train loss:1.7418, test loss:1.8874\n"
     ]
    },
    {
     "name": "stderr",
     "output_type": "stream",
     "text": [
      " 16%|██████████████████▊                                                                                                  | 1613/10000 [04:54<31:59,  4.37it/s]"
     ]
    },
    {
     "name": "stdout",
     "output_type": "stream",
     "text": [
      "Step 1610, train loss:1.7270, test loss:1.8906\n"
     ]
    },
    {
     "name": "stderr",
     "output_type": "stream",
     "text": [
      " 16%|██████████████████▉                                                                                                  | 1623/10000 [04:55<23:30,  5.94it/s]"
     ]
    },
    {
     "name": "stdout",
     "output_type": "stream",
     "text": [
      "Step 1620, train loss:1.7270, test loss:1.8874\n"
     ]
    },
    {
     "name": "stderr",
     "output_type": "stream",
     "text": [
      " 16%|███████████████████                                                                                                  | 1633/10000 [04:57<22:04,  6.32it/s]"
     ]
    },
    {
     "name": "stdout",
     "output_type": "stream",
     "text": [
      "Step 1630, train loss:1.7330, test loss:1.8832\n"
     ]
    },
    {
     "name": "stderr",
     "output_type": "stream",
     "text": [
      " 16%|███████████████████▏                                                                                                 | 1643/10000 [04:58<21:48,  6.39it/s]"
     ]
    },
    {
     "name": "stdout",
     "output_type": "stream",
     "text": [
      "Step 1640, train loss:1.7280, test loss:1.8841\n"
     ]
    },
    {
     "name": "stderr",
     "output_type": "stream",
     "text": [
      " 17%|███████████████████▎                                                                                                 | 1653/10000 [04:59<21:46,  6.39it/s]"
     ]
    },
    {
     "name": "stdout",
     "output_type": "stream",
     "text": [
      "Step 1650, train loss:1.7223, test loss:1.8779\n"
     ]
    },
    {
     "name": "stderr",
     "output_type": "stream",
     "text": [
      " 17%|███████████████████▍                                                                                                 | 1661/10000 [05:01<25:50,  5.38it/s]"
     ]
    },
    {
     "name": "stdout",
     "output_type": "stream",
     "text": [
      "Step 1660, train loss:1.7167, test loss:1.8866\n"
     ]
    },
    {
     "name": "stderr",
     "output_type": "stream",
     "text": [
      " 17%|███████████████████▌                                                                                                 | 1673/10000 [05:02<21:43,  6.39it/s]"
     ]
    },
    {
     "name": "stdout",
     "output_type": "stream",
     "text": [
      "Step 1670, train loss:1.7266, test loss:1.8792\n"
     ]
    },
    {
     "name": "stderr",
     "output_type": "stream",
     "text": [
      " 17%|███████████████████▋                                                                                                 | 1683/10000 [05:04<21:45,  6.37it/s]"
     ]
    },
    {
     "name": "stdout",
     "output_type": "stream",
     "text": [
      "Step 1680, train loss:1.7121, test loss:1.8806\n"
     ]
    },
    {
     "name": "stderr",
     "output_type": "stream",
     "text": [
      " 17%|███████████████████▊                                                                                                 | 1693/10000 [05:05<21:46,  6.36it/s]"
     ]
    },
    {
     "name": "stdout",
     "output_type": "stream",
     "text": [
      "Step 1690, train loss:1.7146, test loss:1.8736\n"
     ]
    },
    {
     "name": "stderr",
     "output_type": "stream",
     "text": [
      " 17%|███████████████████▉                                                                                                 | 1699/10000 [05:06<15:19,  9.03it/s]"
     ]
    },
    {
     "name": "stdout",
     "output_type": "stream",
     "text": [
      "Step 1700, train loss:1.7221, test loss:1.8899\n"
     ]
    },
    {
     "name": "stderr",
     "output_type": "stream",
     "text": [
      " 17%|███████████████████▌                                                                                               | 1703/10000 [05:11<1:20:49,  1.71it/s]"
     ]
    },
    {
     "name": "stdout",
     "output_type": "stream",
     "text": [
      "\n",
      "\n",
      "NgSABROLIO:\n",
      "I will nor myseel, spretere But lith him them: king idulm, for dong nerme love exusioned co attemphoughad\n",
      "But her; frageing a malter love.\n",
      "\n",
      "Lill daught on.\n",
      "Where somed beith my lass not so pracious, I\n",
      "Have now not him.\n",
      "\n",
      "JORNY:\n",
      "You kist; that:-sout, I profest mights happent of all were godstro,\n",
      "From Edvopiorist kit: soung of with more best of oly?\n",
      "\n",
      "KING RICHARD IV:\n",
      "When sight as it the vain branged not dismoners, broke are o' his dangring a'to duke the broth\n",
      "Upon husby whoir grue very with ithan\n",
      "pose thou havest:\n",
      "It on true drother disinc,\n",
      "whe the gant: thee vee ensup af Look arish!\n",
      "\n",
      "LUCIES:\n",
      "Hoth him teny I say, mollow const\n",
      "We king madid, I am theeks,-fill to thine therefalm reas spear Edward.\n",
      "\n",
      "QUCHESS:\n",
      "Malliardy, my nones,\n",
      "Unlemoriom than your could I'll the plise unme.\n",
      "\n",
      "LEONTTH:\n",
      "Ther connots sufenst! I'll newsarm leman.\n",
      "\n",
      "KING RICHARD IV:\n",
      "Ay, heas are? I dide! it wall shall, sire a sweard,\n",
      "That bardifolicents apsect of your with our rowdol.\n",
      "\n",
      "PAMPUTESTER:\n",
      "Mareon doly, neger\n",
      "Step 1700, train loss:1.7143, test loss:1.8781\n"
     ]
    },
    {
     "name": "stderr",
     "output_type": "stream",
     "text": [
      " 17%|████████████████████                                                                                                 | 1713/10000 [05:12<31:28,  4.39it/s]"
     ]
    },
    {
     "name": "stdout",
     "output_type": "stream",
     "text": [
      "Step 1710, train loss:1.7146, test loss:1.8749\n"
     ]
    },
    {
     "name": "stderr",
     "output_type": "stream",
     "text": [
      " 17%|████████████████████▏                                                                                                | 1723/10000 [05:13<23:13,  5.94it/s]"
     ]
    },
    {
     "name": "stdout",
     "output_type": "stream",
     "text": [
      "Step 1720, train loss:1.7144, test loss:1.8832\n"
     ]
    },
    {
     "name": "stderr",
     "output_type": "stream",
     "text": [
      " 17%|████████████████████▎                                                                                                | 1733/10000 [05:15<21:48,  6.32it/s]"
     ]
    },
    {
     "name": "stdout",
     "output_type": "stream",
     "text": [
      "Step 1730, train loss:1.7219, test loss:1.8811\n"
     ]
    },
    {
     "name": "stderr",
     "output_type": "stream",
     "text": [
      " 17%|████████████████████▍                                                                                                | 1743/10000 [05:16<21:37,  6.36it/s]"
     ]
    },
    {
     "name": "stdout",
     "output_type": "stream",
     "text": [
      "Step 1740, train loss:1.7127, test loss:1.8650\n"
     ]
    },
    {
     "name": "stderr",
     "output_type": "stream",
     "text": [
      " 18%|████████████████████▌                                                                                                | 1753/10000 [05:18<21:34,  6.37it/s]"
     ]
    },
    {
     "name": "stdout",
     "output_type": "stream",
     "text": [
      "Step 1750, train loss:1.7156, test loss:1.8722\n"
     ]
    },
    {
     "name": "stderr",
     "output_type": "stream",
     "text": [
      " 18%|████████████████████▌                                                                                                | 1761/10000 [05:19<25:35,  5.36it/s]"
     ]
    },
    {
     "name": "stdout",
     "output_type": "stream",
     "text": [
      "Step 1760, train loss:1.7027, test loss:1.8645\n"
     ]
    },
    {
     "name": "stderr",
     "output_type": "stream",
     "text": [
      " 18%|████████████████████▋                                                                                                | 1771/10000 [05:20<25:35,  5.36it/s]"
     ]
    },
    {
     "name": "stdout",
     "output_type": "stream",
     "text": [
      "Step 1770, train loss:1.7006, test loss:1.8766\n"
     ]
    },
    {
     "name": "stderr",
     "output_type": "stream",
     "text": [
      " 18%|████████████████████▊                                                                                                | 1783/10000 [05:22<21:32,  6.36it/s]"
     ]
    },
    {
     "name": "stdout",
     "output_type": "stream",
     "text": [
      "Step 1780, train loss:1.7050, test loss:1.8765\n"
     ]
    },
    {
     "name": "stderr",
     "output_type": "stream",
     "text": [
      " 18%|████████████████████▉                                                                                                | 1793/10000 [05:23<21:33,  6.35it/s]"
     ]
    },
    {
     "name": "stdout",
     "output_type": "stream",
     "text": [
      "Step 1790, train loss:1.6941, test loss:1.8715\n"
     ]
    },
    {
     "name": "stderr",
     "output_type": "stream",
     "text": [
      " 18%|█████████████████████                                                                                                | 1799/10000 [05:24<15:08,  9.02it/s]"
     ]
    },
    {
     "name": "stdout",
     "output_type": "stream",
     "text": [
      "Step 1800, train loss:1.6992, test loss:1.8653\n"
     ]
    },
    {
     "name": "stderr",
     "output_type": "stream",
     "text": [
      " 18%|████████████████████▋                                                                                              | 1803/10000 [05:29<1:20:40,  1.69it/s]"
     ]
    },
    {
     "name": "stdout",
     "output_type": "stream",
     "text": [
      "\n",
      "\n",
      "Butiplem. Mveeplices nays by thereing neitly slaffity thy'elifel therefore\n",
      "I'll I't maids nur of prest his with here hand you: who coms, and him\n",
      "till with man arm to prot\n",
      "soo'\n",
      "\n",
      "BARSTIO:\n",
      "I in to sure to must regichmon,\n",
      "Where a sorceits of sure and yive\n",
      "Thy begull the treman:\n",
      "That 'Thou no Your with of the fear you\n",
      "most thus crone\n",
      "'Tis age for then batter holy falto,\n",
      "My ploom unterciun dear!\n",
      "\n",
      "LADY YCANUS:\n",
      "Wear, I pay words shall not think;\n",
      "Preplegman I news that kessecry truse they didfall not till\n",
      "You have live:\n",
      "Nold, gead away, sire of ackenged now\n",
      "Why king chese by speak'd he deuden for intatine ressed,\n",
      "When time pecupless refore\n",
      "Mip you hould of this to the distine\n",
      "That I peepens, and he'en and whiched apon thy provesing throne proncing;\n",
      "Your how my blood Cheek your who, wilther 'dots canst.\n",
      "\n",
      "CAPUMNIUS:\n",
      "Way, they his it.\n",
      "\n",
      "LEONTIO:\n",
      "To provise Cuphone her none of his done. Your braight;\n",
      "Shalt yen you have thempeof.\n",
      "Be hence this for him plantly rimaning to but poisted\n",
      "In the late they\n",
      "\n",
      "Step 1800, train loss:1.6976, test loss:1.8795\n"
     ]
    },
    {
     "name": "stderr",
     "output_type": "stream",
     "text": [
      " 18%|█████████████████████▏                                                                                               | 1813/10000 [05:30<31:15,  4.37it/s]"
     ]
    },
    {
     "name": "stdout",
     "output_type": "stream",
     "text": [
      "Step 1810, train loss:1.6956, test loss:1.8666\n"
     ]
    },
    {
     "name": "stderr",
     "output_type": "stream",
     "text": [
      " 18%|█████████████████████▎                                                                                               | 1823/10000 [05:32<22:59,  5.93it/s]"
     ]
    },
    {
     "name": "stdout",
     "output_type": "stream",
     "text": [
      "Step 1820, train loss:1.7023, test loss:1.8609\n"
     ]
    },
    {
     "name": "stderr",
     "output_type": "stream",
     "text": [
      " 18%|█████████████████████▍                                                                                               | 1833/10000 [05:33<21:38,  6.29it/s]"
     ]
    },
    {
     "name": "stdout",
     "output_type": "stream",
     "text": [
      "Step 1830, train loss:1.6996, test loss:1.8713\n"
     ]
    },
    {
     "name": "stderr",
     "output_type": "stream",
     "text": [
      " 18%|█████████████████████▌                                                                                               | 1843/10000 [05:35<21:22,  6.36it/s]"
     ]
    },
    {
     "name": "stdout",
     "output_type": "stream",
     "text": [
      "Step 1840, train loss:1.6820, test loss:1.8558\n"
     ]
    },
    {
     "name": "stderr",
     "output_type": "stream",
     "text": [
      " 19%|█████████████████████▋                                                                                               | 1853/10000 [05:36<21:21,  6.36it/s]"
     ]
    },
    {
     "name": "stdout",
     "output_type": "stream",
     "text": [
      "Step 1850, train loss:1.6907, test loss:1.8514\n"
     ]
    },
    {
     "name": "stderr",
     "output_type": "stream",
     "text": [
      " 19%|█████████████████████▊                                                                                               | 1861/10000 [05:37<25:19,  5.35it/s]"
     ]
    },
    {
     "name": "stdout",
     "output_type": "stream",
     "text": [
      "Step 1860, train loss:1.6935, test loss:1.8611\n"
     ]
    },
    {
     "name": "stderr",
     "output_type": "stream",
     "text": [
      " 19%|█████████████████████▉                                                                                               | 1871/10000 [05:39<25:21,  5.34it/s]"
     ]
    },
    {
     "name": "stdout",
     "output_type": "stream",
     "text": [
      "Step 1870, train loss:1.6880, test loss:1.8603\n"
     ]
    },
    {
     "name": "stderr",
     "output_type": "stream",
     "text": [
      " 19%|██████████████████████                                                                                               | 1883/10000 [05:40<21:18,  6.35it/s]"
     ]
    },
    {
     "name": "stdout",
     "output_type": "stream",
     "text": [
      "Step 1880, train loss:1.6902, test loss:1.8581\n"
     ]
    },
    {
     "name": "stderr",
     "output_type": "stream",
     "text": [
      " 19%|██████████████████████                                                                                               | 1891/10000 [05:42<25:21,  5.33it/s]"
     ]
    },
    {
     "name": "stdout",
     "output_type": "stream",
     "text": [
      "Step 1890, train loss:1.6907, test loss:1.8687\n"
     ]
    },
    {
     "name": "stderr",
     "output_type": "stream",
     "text": [
      " 19%|██████████████████████▏                                                                                              | 1899/10000 [05:42<14:56,  9.04it/s]"
     ]
    },
    {
     "name": "stdout",
     "output_type": "stream",
     "text": [
      "Step 1900, train loss:1.6738, test loss:1.8469\n"
     ]
    },
    {
     "name": "stderr",
     "output_type": "stream",
     "text": [
      " 19%|█████████████████████▉                                                                                             | 1903/10000 [05:47<1:19:32,  1.70it/s]"
     ]
    },
    {
     "name": "stdout",
     "output_type": "stream",
     "text": [
      "\n",
      "\n",
      "in friends no me preate? under for Saw but his peave;\n",
      "To be the sown not to Reary we morest\n",
      "Happriess govery conshan the noth. Duld you heaser.\n",
      "\n",
      "So shoortanall scarty us donder,\n",
      "And that this drons appy tatch; and mast. fow rave moniom oct, compin your throad think\n",
      "Turse buddose of my trucal: they are nows,\n",
      "His word sid.\n",
      "\n",
      "VOLIZENENIUS:\n",
      "Meglight, noise!\n",
      "That then he are me loviciut hou, and to our sun thy find;\n",
      "Mersed to orr son\n",
      "Coftelcomen-blitus with poeses didgmy chalong borth edwent's my wounth what of the bring bedes.\n",
      "As to will a give your mouniuth!\n",
      "Thanke! Alips not\n",
      "This slow thy Cander,\n",
      "Hath's grodine of my his dearlone the afe\n",
      "Afored 'mifts,\n",
      "Did not whulse no more,\n",
      "If hurgd your helpefore your lain of my kind midy are speak couse.\n",
      "\n",
      "KING MARGARET:\n",
      "Why, ge with crows forst trip no thou shall.\n",
      "\n",
      "KING RICHBRDUS:\n",
      "Why, do you and warce may; we'lisings truef.\n",
      "How yourley, for edwer'd feemforthy goning with anyshere grack, tell of baniner pather I'll dump: thy hone,\n",
      "Allow for eyer will \n",
      "Step 1900, train loss:1.6845, test loss:1.8487\n"
     ]
    },
    {
     "name": "stderr",
     "output_type": "stream",
     "text": [
      " 19%|██████████████████████▍                                                                                              | 1913/10000 [05:49<30:49,  4.37it/s]"
     ]
    },
    {
     "name": "stdout",
     "output_type": "stream",
     "text": [
      "Step 1910, train loss:1.6901, test loss:1.8525\n"
     ]
    },
    {
     "name": "stderr",
     "output_type": "stream",
     "text": [
      " 19%|██████████████████████▍                                                                                              | 1923/10000 [05:50<22:39,  5.94it/s]"
     ]
    },
    {
     "name": "stdout",
     "output_type": "stream",
     "text": [
      "Step 1920, train loss:1.6772, test loss:1.8514\n"
     ]
    },
    {
     "name": "stderr",
     "output_type": "stream",
     "text": [
      " 19%|██████████████████████▌                                                                                              | 1933/10000 [05:52<21:16,  6.32it/s]"
     ]
    },
    {
     "name": "stdout",
     "output_type": "stream",
     "text": [
      "Step 1930, train loss:1.6885, test loss:1.8405\n"
     ]
    },
    {
     "name": "stderr",
     "output_type": "stream",
     "text": [
      " 19%|██████████████████████▋                                                                                              | 1943/10000 [05:53<21:06,  6.36it/s]"
     ]
    },
    {
     "name": "stdout",
     "output_type": "stream",
     "text": [
      "Step 1940, train loss:1.6892, test loss:1.8430\n"
     ]
    },
    {
     "name": "stderr",
     "output_type": "stream",
     "text": [
      " 20%|██████████████████████▊                                                                                              | 1953/10000 [05:54<21:02,  6.37it/s]"
     ]
    },
    {
     "name": "stdout",
     "output_type": "stream",
     "text": [
      "Step 1950, train loss:1.6577, test loss:1.8546\n"
     ]
    },
    {
     "name": "stderr",
     "output_type": "stream",
     "text": [
      " 20%|██████████████████████▉                                                                                              | 1963/10000 [05:56<21:02,  6.37it/s]"
     ]
    },
    {
     "name": "stdout",
     "output_type": "stream",
     "text": [
      "Step 1960, train loss:1.6667, test loss:1.8480\n"
     ]
    },
    {
     "name": "stderr",
     "output_type": "stream",
     "text": [
      " 20%|███████████████████████                                                                                              | 1971/10000 [05:57<24:58,  5.36it/s]"
     ]
    },
    {
     "name": "stdout",
     "output_type": "stream",
     "text": [
      "Step 1970, train loss:1.6801, test loss:1.8558\n"
     ]
    },
    {
     "name": "stderr",
     "output_type": "stream",
     "text": [
      " 20%|███████████████████████▏                                                                                             | 1983/10000 [05:59<21:02,  6.35it/s]"
     ]
    },
    {
     "name": "stdout",
     "output_type": "stream",
     "text": [
      "Step 1980, train loss:1.6714, test loss:1.8563\n"
     ]
    },
    {
     "name": "stderr",
     "output_type": "stream",
     "text": [
      " 20%|███████████████████████▎                                                                                             | 1993/10000 [06:00<21:02,  6.34it/s]"
     ]
    },
    {
     "name": "stdout",
     "output_type": "stream",
     "text": [
      "Step 1990, train loss:1.6843, test loss:1.8487\n"
     ]
    },
    {
     "name": "stderr",
     "output_type": "stream",
     "text": [
      " 20%|███████████████████████▍                                                                                             | 1999/10000 [06:01<14:45,  9.03it/s]"
     ]
    },
    {
     "name": "stdout",
     "output_type": "stream",
     "text": [
      "Step 2000, train loss:1.6692, test loss:1.8399\n"
     ]
    },
    {
     "name": "stderr",
     "output_type": "stream",
     "text": [
      " 20%|███████████████████████                                                                                            | 2003/10000 [06:06<1:22:50,  1.61it/s]"
     ]
    },
    {
     "name": "stdout",
     "output_type": "stream",
     "text": [
      "\n",
      "\n",
      "For MANUELO:\n",
      "No; home highne me:\n",
      "\n",
      "Shence to thy strong brave pleaselord young\n",
      "and the courth it we shappard son to lifful God,\n",
      "The love of sookes with exterion.\n",
      "\n",
      "\n",
      "ConI'll doses on your freetond to night?\n",
      "Fro Late, and ventlay, torrow.\n",
      "Mesher than o' the itall;\n",
      "And the rupt butting by grangtengly untremplept his doth that look'd\n",
      "By lord proce, them and;\n",
      "And bastimtings, the rews in this be awaind,\n",
      "As that is ene it not trese\n",
      "would blow lady a tyreth-fing'd of kelly look,\n",
      "Come Lenste my see a din. CANUS:\n",
      "Who row:\n",
      "Angel'les than, my be to the are too.\n",
      "\n",
      "Lord Meapp:\n",
      "Shork's edweed hilthing I she besses the actorain'd givatatrius of a mine ain\n",
      "Swe at have a peaces.\n",
      "But curding!\n",
      "\n",
      "LORTESUM:\n",
      "Busame with son the most what he the would beselves alsel I'll in the gones: noss be pityertrouce must offection,\n",
      "But had iminus chapsesmeeds to duck: you prish'd alrice.\n",
      "Whom:\n",
      "Morce fooluming that: the most Torume is slaugen'st wond;\n",
      "Fearthem dufe I mon to you worst Must fir;\n",
      "And in vitited?\n",
      "\n",
      "Senglange the\n",
      "Step 2000, train loss:1.6708, test loss:1.8453\n"
     ]
    },
    {
     "name": "stderr",
     "output_type": "stream",
     "text": [
      " 20%|███████████████████████▌                                                                                             | 2013/10000 [06:07<31:16,  4.26it/s]"
     ]
    },
    {
     "name": "stdout",
     "output_type": "stream",
     "text": [
      "Step 2010, train loss:1.6626, test loss:1.8411\n"
     ]
    },
    {
     "name": "stderr",
     "output_type": "stream",
     "text": [
      " 20%|███████████████████████▋                                                                                             | 2023/10000 [06:09<22:38,  5.87it/s]"
     ]
    },
    {
     "name": "stdout",
     "output_type": "stream",
     "text": [
      "Step 2020, train loss:1.6617, test loss:1.8368\n"
     ]
    },
    {
     "name": "stderr",
     "output_type": "stream",
     "text": [
      " 20%|███████████████████████▊                                                                                             | 2033/10000 [06:10<21:13,  6.25it/s]"
     ]
    },
    {
     "name": "stdout",
     "output_type": "stream",
     "text": [
      "Step 2030, train loss:1.6587, test loss:1.8447\n"
     ]
    },
    {
     "name": "stderr",
     "output_type": "stream",
     "text": [
      " 20%|███████████████████████▉                                                                                             | 2043/10000 [06:12<20:58,  6.32it/s]"
     ]
    },
    {
     "name": "stdout",
     "output_type": "stream",
     "text": [
      "Step 2040, train loss:1.6638, test loss:1.8420\n"
     ]
    },
    {
     "name": "stderr",
     "output_type": "stream",
     "text": [
      " 21%|████████████████████████                                                                                             | 2053/10000 [06:13<20:57,  6.32it/s]"
     ]
    },
    {
     "name": "stdout",
     "output_type": "stream",
     "text": [
      "Step 2050, train loss:1.6761, test loss:1.8361\n"
     ]
    },
    {
     "name": "stderr",
     "output_type": "stream",
     "text": [
      " 21%|████████████████████████▏                                                                                            | 2063/10000 [06:15<20:57,  6.31it/s]"
     ]
    },
    {
     "name": "stdout",
     "output_type": "stream",
     "text": [
      "Step 2060, train loss:1.6610, test loss:1.8404\n"
     ]
    },
    {
     "name": "stderr",
     "output_type": "stream",
     "text": [
      " 21%|████████████████████████▎                                                                                            | 2073/10000 [06:16<20:54,  6.32it/s]"
     ]
    },
    {
     "name": "stdout",
     "output_type": "stream",
     "text": [
      "Step 2070, train loss:1.6530, test loss:1.8201\n"
     ]
    },
    {
     "name": "stderr",
     "output_type": "stream",
     "text": [
      " 21%|████████████████████████▎                                                                                            | 2081/10000 [06:17<24:54,  5.30it/s]"
     ]
    },
    {
     "name": "stdout",
     "output_type": "stream",
     "text": [
      "Step 2080, train loss:1.6671, test loss:1.8475\n"
     ]
    },
    {
     "name": "stderr",
     "output_type": "stream",
     "text": [
      " 21%|████████████████████████▍                                                                                            | 2091/10000 [06:19<24:53,  5.30it/s]"
     ]
    },
    {
     "name": "stdout",
     "output_type": "stream",
     "text": [
      "Step 2090, train loss:1.6605, test loss:1.8318\n"
     ]
    },
    {
     "name": "stderr",
     "output_type": "stream",
     "text": [
      " 21%|████████████████████████▌                                                                                            | 2099/10000 [06:19<14:40,  8.97it/s]"
     ]
    },
    {
     "name": "stdout",
     "output_type": "stream",
     "text": [
      "Step 2100, train loss:1.6542, test loss:1.8443\n"
     ]
    },
    {
     "name": "stderr",
     "output_type": "stream",
     "text": [
      " 21%|████████████████████████▏                                                                                          | 2103/10000 [06:25<1:21:28,  1.62it/s]"
     ]
    },
    {
     "name": "stdout",
     "output_type": "stream",
     "text": [
      "\n",
      "\n",
      "RIREONN:\n",
      "Belling Done cart-here sear a would on his in a had Duft;\n",
      "Precuose pray bidones, sell there's quardly,\n",
      "With not my some and but worthy lignanicy.\n",
      "\n",
      "MENENIUS:\n",
      "Shenk to behis her! thou pour I'll Hencera boys print. I:\n",
      "yet do, naw\n",
      "What thee but ctarity.\n",
      "Marse so a have was rown they fir tatungst dighbrow's bartime.\n",
      "\n",
      "Lird, must whither. Doma lesse and and; to has\n",
      "Heave your surp ait, Come head, letth hit\n",
      "But but kear i' the cut affellos\n",
      "Pellign, Sirsty any bight!\n",
      "Katule: liegers do bidined Jolrown, and I'll must of the fince 'bis shall that you.\n",
      "Why, I that to you her?\n",
      "\n",
      "KING MARGARETH:\n",
      "I neep to that tain my toldimes,\n",
      "A profe!\n",
      "Your hope rog, Exwardive\n",
      "It is, and bese thrail as!\n",
      "But your guine town'd we best'sting Capeasan. what with my lord,\n",
      "Bow, wear good again\n",
      "Straitismamen:\n",
      "With mean's Mastery and to king.\n",
      "\n",
      "MHOMINIUS:\n",
      "And that the pateen deamp: of vent witherd and no but fir.\n",
      "I?\n",
      "\n",
      "JULIET:\n",
      "Should not trem bufied, kissuch time tiles fair sell age!\n",
      "Your gradones, all.\n",
      "\n",
      "First And atw\n",
      "Step 2100, train loss:1.6606, test loss:1.8273\n"
     ]
    },
    {
     "name": "stderr",
     "output_type": "stream",
     "text": [
      " 21%|████████████████████████▋                                                                                            | 2113/10000 [06:26<30:42,  4.28it/s]"
     ]
    },
    {
     "name": "stdout",
     "output_type": "stream",
     "text": [
      "Step 2110, train loss:1.6502, test loss:1.8243\n"
     ]
    },
    {
     "name": "stderr",
     "output_type": "stream",
     "text": [
      " 21%|████████████████████████▊                                                                                            | 2123/10000 [06:27<22:12,  5.91it/s]"
     ]
    },
    {
     "name": "stdout",
     "output_type": "stream",
     "text": [
      "Step 2120, train loss:1.6519, test loss:1.8300\n"
     ]
    },
    {
     "name": "stderr",
     "output_type": "stream",
     "text": [
      " 21%|████████████████████████▉                                                                                            | 2133/10000 [06:29<20:47,  6.31it/s]"
     ]
    },
    {
     "name": "stdout",
     "output_type": "stream",
     "text": [
      "Step 2130, train loss:1.6506, test loss:1.8427\n"
     ]
    },
    {
     "name": "stderr",
     "output_type": "stream",
     "text": [
      " 21%|█████████████████████████                                                                                            | 2143/10000 [06:30<20:31,  6.38it/s]"
     ]
    },
    {
     "name": "stdout",
     "output_type": "stream",
     "text": [
      "Step 2140, train loss:1.6549, test loss:1.8453\n"
     ]
    },
    {
     "name": "stderr",
     "output_type": "stream",
     "text": [
      " 22%|█████████████████████████▏                                                                                           | 2153/10000 [06:32<20:29,  6.38it/s]"
     ]
    },
    {
     "name": "stdout",
     "output_type": "stream",
     "text": [
      "Step 2150, train loss:1.6504, test loss:1.8216\n"
     ]
    },
    {
     "name": "stderr",
     "output_type": "stream",
     "text": [
      " 22%|█████████████████████████▎                                                                                           | 2163/10000 [06:33<20:31,  6.36it/s]"
     ]
    },
    {
     "name": "stdout",
     "output_type": "stream",
     "text": [
      "Step 2160, train loss:1.6510, test loss:1.8216\n"
     ]
    },
    {
     "name": "stderr",
     "output_type": "stream",
     "text": [
      " 22%|█████████████████████████▍                                                                                           | 2171/10000 [06:34<24:22,  5.35it/s]"
     ]
    },
    {
     "name": "stdout",
     "output_type": "stream",
     "text": [
      "Step 2170, train loss:1.6636, test loss:1.8170\n"
     ]
    },
    {
     "name": "stderr",
     "output_type": "stream",
     "text": [
      " 22%|█████████████████████████▌                                                                                           | 2183/10000 [06:36<20:30,  6.35it/s]"
     ]
    },
    {
     "name": "stdout",
     "output_type": "stream",
     "text": [
      "Step 2180, train loss:1.6517, test loss:1.8310\n"
     ]
    },
    {
     "name": "stderr",
     "output_type": "stream",
     "text": [
      " 22%|█████████████████████████▋                                                                                           | 2193/10000 [06:37<20:30,  6.34it/s]"
     ]
    },
    {
     "name": "stdout",
     "output_type": "stream",
     "text": [
      "Step 2190, train loss:1.6505, test loss:1.8184\n"
     ]
    },
    {
     "name": "stderr",
     "output_type": "stream",
     "text": [
      " 22%|█████████████████████████▋                                                                                           | 2199/10000 [06:38<14:24,  9.02it/s]"
     ]
    },
    {
     "name": "stdout",
     "output_type": "stream",
     "text": [
      "Step 2200, train loss:1.6508, test loss:1.8209\n"
     ]
    },
    {
     "name": "stderr",
     "output_type": "stream",
     "text": [
      " 22%|█████████████████████████▎                                                                                         | 2203/10000 [06:43<1:20:53,  1.61it/s]"
     ]
    },
    {
     "name": "stdout",
     "output_type": "stream",
     "text": [
      "\n",
      "\n",
      "DUKE VINCENTIO:\n",
      "Nay, what not not news.\n",
      "Ancorrow to your cord:\n",
      "To know hurp. So.\n",
      "\n",
      "PETRUCES:\n",
      "Now sword, to trumply I sill you mostry, day the sufe me this madh this,\n",
      "To kign Rochmees his ware Pastition,\n",
      "Do be is Clown,\n",
      "And arm' the posenger.\n",
      "Sword, you for forth the perlants and to shillow'ds an again,\n",
      "Now'ting Is all the but\n",
      "But and to donight\n",
      "To go the conter hands' a ding impon'd my graceline cimeman my\n",
      "Manothen ver of Virling buckled.\n",
      "His is comfand:\n",
      "Nor My wilt death.\n",
      "\n",
      "GLOUCESTER:\n",
      "\n",
      "CAPULIO:\n",
      "Noo, my kight it dowle!\n",
      "\n",
      "DUKE LARGARET:\n",
      "But thy Dorthis groth you!\n",
      "\n",
      "ERTARD:\n",
      "An, truch is I am enouble:\n",
      "Tromfor'd Villow my good,\n",
      "Isam reve his brather consualtame\n",
      "A samines, or me berefull-shoul, I can the pater.\n",
      "\n",
      "DUKE VINCENIO:\n",
      "Now, he you hast fairent his scornems and gracion\n",
      "Which Clown:\n",
      "A holis staid not in in mawe banis's shall wear friam,\n",
      "To trift many hou lity of the king housen holrow the untreman:\n",
      "Theuse thy fathere\n",
      "Hath of Ware do your he minds to alorous fill\n",
      "gry aloub not that friend\n",
      "Step 2200, train loss:1.6419, test loss:1.8322\n"
     ]
    },
    {
     "name": "stderr",
     "output_type": "stream",
     "text": [
      " 22%|█████████████████████████▉                                                                                           | 2213/10000 [06:45<30:21,  4.28it/s]"
     ]
    },
    {
     "name": "stdout",
     "output_type": "stream",
     "text": [
      "Step 2210, train loss:1.6425, test loss:1.8037\n"
     ]
    },
    {
     "name": "stderr",
     "output_type": "stream",
     "text": [
      " 22%|██████████████████████████                                                                                           | 2223/10000 [06:46<21:55,  5.91it/s]"
     ]
    },
    {
     "name": "stdout",
     "output_type": "stream",
     "text": [
      "Step 2220, train loss:1.6451, test loss:1.8232\n"
     ]
    },
    {
     "name": "stderr",
     "output_type": "stream",
     "text": [
      " 22%|██████████████████████████▏                                                                                          | 2233/10000 [06:48<20:29,  6.32it/s]"
     ]
    },
    {
     "name": "stdout",
     "output_type": "stream",
     "text": [
      "Step 2230, train loss:1.6418, test loss:1.8349\n"
     ]
    },
    {
     "name": "stderr",
     "output_type": "stream",
     "text": [
      " 22%|██████████████████████████▏                                                                                          | 2243/10000 [06:49<20:16,  6.38it/s]"
     ]
    },
    {
     "name": "stdout",
     "output_type": "stream",
     "text": [
      "Step 2240, train loss:1.6337, test loss:1.8197\n"
     ]
    },
    {
     "name": "stderr",
     "output_type": "stream",
     "text": [
      " 23%|██████████████████████████▎                                                                                          | 2253/10000 [06:50<20:14,  6.38it/s]"
     ]
    },
    {
     "name": "stdout",
     "output_type": "stream",
     "text": [
      "Step 2250, train loss:1.6330, test loss:1.8277\n"
     ]
    },
    {
     "name": "stderr",
     "output_type": "stream",
     "text": [
      " 23%|██████████████████████████▍                                                                                          | 2263/10000 [06:52<20:11,  6.38it/s]"
     ]
    },
    {
     "name": "stdout",
     "output_type": "stream",
     "text": [
      "Step 2260, train loss:1.6373, test loss:1.8312\n"
     ]
    },
    {
     "name": "stderr",
     "output_type": "stream",
     "text": [
      " 23%|██████████████████████████▌                                                                                          | 2273/10000 [06:53<20:12,  6.37it/s]"
     ]
    },
    {
     "name": "stdout",
     "output_type": "stream",
     "text": [
      "Step 2270, train loss:1.6296, test loss:1.8229\n"
     ]
    },
    {
     "name": "stderr",
     "output_type": "stream",
     "text": [
      " 23%|██████████████████████████▋                                                                                          | 2283/10000 [06:55<20:12,  6.37it/s]"
     ]
    },
    {
     "name": "stdout",
     "output_type": "stream",
     "text": [
      "Step 2280, train loss:1.6271, test loss:1.8135\n"
     ]
    },
    {
     "name": "stderr",
     "output_type": "stream",
     "text": [
      " 23%|██████████████████████████▊                                                                                          | 2291/10000 [06:56<23:57,  5.36it/s]"
     ]
    },
    {
     "name": "stdout",
     "output_type": "stream",
     "text": [
      "Step 2290, train loss:1.6307, test loss:1.8280\n"
     ]
    },
    {
     "name": "stderr",
     "output_type": "stream",
     "text": [
      " 23%|██████████████████████████▉                                                                                          | 2299/10000 [06:57<14:10,  9.05it/s]"
     ]
    },
    {
     "name": "stdout",
     "output_type": "stream",
     "text": [
      "Step 2300, train loss:1.6256, test loss:1.8080\n"
     ]
    },
    {
     "name": "stderr",
     "output_type": "stream",
     "text": [
      " 23%|██████████████████████████▍                                                                                        | 2303/10000 [07:02<1:19:31,  1.61it/s]"
     ]
    },
    {
     "name": "stdout",
     "output_type": "stream",
     "text": [
      "\n",
      "\n",
      "FRIAR It:\n",
      "If the chances buind; and life play, us, now mide?\n",
      "\n",
      "BERTALDO:\n",
      "He there the the blood'st grest like the sween on't: to jear dyels as there they meo'g.\n",
      "But he! arm; chis; Harry, And cansming he tell before,\n",
      "Far, we it no Withmadly to by gross a deek and make your clowns;\n",
      "And this it now, to the made, was sulor,\n",
      "Deepen to it you thy sword their;\n",
      "I talk morisons in we\n",
      "own and mone hide Lardone trumset,\n",
      "Hath you truck come of rest all of the they sauths,\n",
      "'Ans the beattern'd with her beave\n",
      "Made a scamen alonged duse she all backing up, with youthon\n",
      "you will:\n",
      "The gadurid not all surpessem for man even\n",
      "What's it for contents dear'd well,\n",
      "And with things, be sight, we where right, thou have did for injoy.\n",
      "\n",
      "CAMILLO:\n",
      "Your lovern'd for the not langmantly tales the calone.\n",
      "You slowf; thou youch?\n",
      "\n",
      "SICINIUS:\n",
      "He wound thy hate drines, thou dubble\n",
      "Even forther's all the claudives trey;\n",
      "And thee Gody wronger hod, sears roan'd less. Of of that we ut true, so the this\n",
      "This straity us do lord-fro\n",
      "Step 2300, train loss:1.6282, test loss:1.8352\n"
     ]
    },
    {
     "name": "stderr",
     "output_type": "stream",
     "text": [
      " 23%|███████████████████████████                                                                                          | 2313/10000 [07:03<29:55,  4.28it/s]"
     ]
    },
    {
     "name": "stdout",
     "output_type": "stream",
     "text": [
      "Step 2310, train loss:1.6241, test loss:1.8284\n"
     ]
    },
    {
     "name": "stderr",
     "output_type": "stream",
     "text": [
      " 23%|███████████████████████████▏                                                                                         | 2323/10000 [07:05<21:37,  5.92it/s]"
     ]
    },
    {
     "name": "stdout",
     "output_type": "stream",
     "text": [
      "Step 2320, train loss:1.6352, test loss:1.8135\n"
     ]
    },
    {
     "name": "stderr",
     "output_type": "stream",
     "text": [
      " 23%|███████████████████████████▎                                                                                         | 2333/10000 [07:06<20:13,  6.32it/s]"
     ]
    },
    {
     "name": "stdout",
     "output_type": "stream",
     "text": [
      "Step 2330, train loss:1.6219, test loss:1.8073\n"
     ]
    },
    {
     "name": "stderr",
     "output_type": "stream",
     "text": [
      " 23%|███████████████████████████▍                                                                                         | 2343/10000 [07:08<19:59,  6.38it/s]"
     ]
    },
    {
     "name": "stdout",
     "output_type": "stream",
     "text": [
      "Step 2340, train loss:1.6226, test loss:1.8218\n"
     ]
    },
    {
     "name": "stderr",
     "output_type": "stream",
     "text": [
      " 24%|███████████████████████████▌                                                                                         | 2353/10000 [07:09<19:56,  6.39it/s]"
     ]
    },
    {
     "name": "stdout",
     "output_type": "stream",
     "text": [
      "Step 2350, train loss:1.6317, test loss:1.8216\n"
     ]
    },
    {
     "name": "stderr",
     "output_type": "stream",
     "text": [
      " 24%|███████████████████████████▋                                                                                         | 2363/10000 [07:10<19:56,  6.38it/s]"
     ]
    },
    {
     "name": "stdout",
     "output_type": "stream",
     "text": [
      "Step 2360, train loss:1.6287, test loss:1.8199\n"
     ]
    },
    {
     "name": "stderr",
     "output_type": "stream",
     "text": [
      " 24%|███████████████████████████▊                                                                                         | 2373/10000 [07:12<19:56,  6.38it/s]"
     ]
    },
    {
     "name": "stdout",
     "output_type": "stream",
     "text": [
      "Step 2370, train loss:1.6164, test loss:1.8228\n"
     ]
    },
    {
     "name": "stderr",
     "output_type": "stream",
     "text": [
      " 24%|███████████████████████████▉                                                                                         | 2383/10000 [07:13<19:54,  6.38it/s]"
     ]
    },
    {
     "name": "stdout",
     "output_type": "stream",
     "text": [
      "Step 2380, train loss:1.6278, test loss:1.8173\n"
     ]
    },
    {
     "name": "stderr",
     "output_type": "stream",
     "text": [
      " 24%|███████████████████████████▉                                                                                         | 2393/10000 [07:15<19:56,  6.36it/s]"
     ]
    },
    {
     "name": "stdout",
     "output_type": "stream",
     "text": [
      "Step 2390, train loss:1.6184, test loss:1.8231\n"
     ]
    },
    {
     "name": "stderr",
     "output_type": "stream",
     "text": [
      " 24%|████████████████████████████                                                                                         | 2399/10000 [07:15<14:02,  9.02it/s]"
     ]
    },
    {
     "name": "stdout",
     "output_type": "stream",
     "text": [
      "Step 2400, train loss:1.6225, test loss:1.8081\n"
     ]
    },
    {
     "name": "stderr",
     "output_type": "stream",
     "text": [
      " 24%|███████████████████████████▋                                                                                       | 2403/10000 [07:20<1:14:27,  1.70it/s]"
     ]
    },
    {
     "name": "stdout",
     "output_type": "stream",
     "text": [
      "\n",
      "\n",
      "HIRTENDUS:\n",
      "We evo him, altour keoper mend nate plain.\n",
      "\n",
      "ISABELLA:\n",
      "A does, now't word!\n",
      "\n",
      "Fearth you subfer tribant, and king to--\n",
      "\n",
      "BOLIXENES:\n",
      "I musbaning harwial parsuage.\n",
      "\n",
      "PRINCE:\n",
      "Ford, I have you to stridg and game un. Wunnurpial us but\n",
      "pops time 'tis apperimber'd:\n",
      "You'll her some comming's their they marry, my dow.\n",
      "Wer so cursual hate; of fort's thrown in you't in wringd, as allied for sort.\n",
      "\n",
      "BUTONTAGULET:\n",
      "Hool, flom, any lit there's man plivent I keep I am you,\n",
      "To eamer, my fide in,\n",
      "Nor headin in are than the crown'd\n",
      "The sidrubless will tway.\n",
      "\n",
      "BUKENGH:\n",
      "Ay, four grace with agains fool-surplings?\n",
      "\n",
      "BUGBOLTAGUM:\n",
      "\n",
      "KING RICHERDOND:\n",
      "You must:\n",
      "And not alorouse to o;\n",
      "Come on tongue time of good nor clow\n",
      "prantel thee said that he shallated\n",
      "Comform'd wish make upon mights stiding:\n",
      "If alrowlen my thou at 'Ware heaven.\n",
      "Amen in I am the clown\n",
      "My hadve how suke herse in to all,\n",
      "As not I paiden,\n",
      "SisN YORK:\n",
      "You harge hither Angelowes my lord.\n",
      "\n",
      "ANGELO:\n",
      "With thou betterst his laugbelies in chine offent \n",
      "Step 2400, train loss:1.6185, test loss:1.8169\n"
     ]
    },
    {
     "name": "stderr",
     "output_type": "stream",
     "text": [
      " 24%|████████████████████████████▏                                                                                        | 2413/10000 [07:22<28:52,  4.38it/s]"
     ]
    },
    {
     "name": "stdout",
     "output_type": "stream",
     "text": [
      "Step 2410, train loss:1.6163, test loss:1.8080\n"
     ]
    },
    {
     "name": "stderr",
     "output_type": "stream",
     "text": [
      " 24%|████████████████████████████▎                                                                                        | 2423/10000 [07:23<21:16,  5.94it/s]"
     ]
    },
    {
     "name": "stdout",
     "output_type": "stream",
     "text": [
      "Step 2420, train loss:1.6190, test loss:1.7987\n"
     ]
    },
    {
     "name": "stderr",
     "output_type": "stream",
     "text": [
      " 24%|████████████████████████████▍                                                                                        | 2433/10000 [07:24<19:59,  6.31it/s]"
     ]
    },
    {
     "name": "stdout",
     "output_type": "stream",
     "text": [
      "Step 2430, train loss:1.6217, test loss:1.8051\n"
     ]
    },
    {
     "name": "stderr",
     "output_type": "stream",
     "text": [
      " 24%|████████████████████████████▌                                                                                        | 2443/10000 [07:26<19:45,  6.38it/s]"
     ]
    },
    {
     "name": "stdout",
     "output_type": "stream",
     "text": [
      "Step 2440, train loss:1.6166, test loss:1.8083\n"
     ]
    },
    {
     "name": "stderr",
     "output_type": "stream",
     "text": [
      " 25%|████████████████████████████▋                                                                                        | 2453/10000 [07:27<19:43,  6.38it/s]"
     ]
    },
    {
     "name": "stdout",
     "output_type": "stream",
     "text": [
      "Step 2450, train loss:1.6105, test loss:1.8055\n"
     ]
    },
    {
     "name": "stderr",
     "output_type": "stream",
     "text": [
      " 25%|████████████████████████████▊                                                                                        | 2463/10000 [07:29<19:43,  6.37it/s]"
     ]
    },
    {
     "name": "stdout",
     "output_type": "stream",
     "text": [
      "Step 2460, train loss:1.6201, test loss:1.8040\n"
     ]
    },
    {
     "name": "stderr",
     "output_type": "stream",
     "text": [
      " 25%|████████████████████████████▉                                                                                        | 2471/10000 [07:30<23:26,  5.35it/s]"
     ]
    },
    {
     "name": "stdout",
     "output_type": "stream",
     "text": [
      "Step 2470, train loss:1.6095, test loss:1.8063\n"
     ]
    },
    {
     "name": "stderr",
     "output_type": "stream",
     "text": [
      " 25%|█████████████████████████████                                                                                        | 2481/10000 [07:31<23:25,  5.35it/s]"
     ]
    },
    {
     "name": "stdout",
     "output_type": "stream",
     "text": [
      "Step 2480, train loss:1.6131, test loss:1.7992\n"
     ]
    },
    {
     "name": "stderr",
     "output_type": "stream",
     "text": [
      " 25%|█████████████████████████████▏                                                                                       | 2491/10000 [07:33<23:26,  5.34it/s]"
     ]
    },
    {
     "name": "stdout",
     "output_type": "stream",
     "text": [
      "Step 2490, train loss:1.5994, test loss:1.8052\n"
     ]
    },
    {
     "name": "stderr",
     "output_type": "stream",
     "text": [
      " 25%|█████████████████████████████▏                                                                                       | 2499/10000 [07:33<13:51,  9.02it/s]"
     ]
    },
    {
     "name": "stdout",
     "output_type": "stream",
     "text": [
      "Step 2500, train loss:1.6124, test loss:1.8031\n"
     ]
    },
    {
     "name": "stderr",
     "output_type": "stream",
     "text": [
      " 25%|████████████████████████████▊                                                                                      | 2503/10000 [07:39<1:16:23,  1.64it/s]"
     ]
    },
    {
     "name": "stdout",
     "output_type": "stream",
     "text": [
      "\n",
      "\n",
      "CLTHBMORD:\n",
      "O, enterres men ords:\n",
      "How my be thou then for not tway,\n",
      "And no the conuticings grofe, and frown and that take this too them o'\n",
      "enche?.\n",
      "\n",
      "KING RICHARD III:\n",
      "dick, and duble freed wis ageness not us speit\n",
      "I that a sentle give thus\n",
      "As a more sould his in, and with speecess'd the sold of my smone,\n",
      "Exhard hearthels hast of his to the dise of mean\n",
      "To confortury of Your have.\n",
      "\n",
      "BRUTUS:\n",
      "Come, fair! Some I clock, poss, to but viciders. Let heard-suice!\n",
      "\n",
      "COMIO:\n",
      "How spen me to the deaths this nerson all ted we but in in\n",
      "With brow use to your deat:\n",
      "That is brother's plaint,\n",
      "I fear that whither ene\n",
      "Tow of graves; and whepher conter holipen'd,\n",
      "This brood you grought of your blaucious of his but my lord.\n",
      "\n",
      "First From as che true the long.\n",
      "When advery sholy be thee, anding: sendly hath have gue:\n",
      "Or hour clay I wived, last but spaint balishall there\n",
      "From you If I\n",
      "know it.\n",
      "\n",
      "Somema son't:\n",
      "Wit so not thy trude themp but adwry annows but a vant:\n",
      "I wangued him: metigating.\n",
      "\n",
      "ROMEOMANUS:\n",
      "My suggain.\n",
      "\n",
      "L\n",
      "Step 2500, train loss:1.6129, test loss:1.7955\n"
     ]
    },
    {
     "name": "stderr",
     "output_type": "stream",
     "text": [
      " 25%|█████████████████████████████▍                                                                                       | 2513/10000 [07:40<29:00,  4.30it/s]"
     ]
    },
    {
     "name": "stdout",
     "output_type": "stream",
     "text": [
      "Step 2510, train loss:1.6098, test loss:1.7864\n"
     ]
    },
    {
     "name": "stderr",
     "output_type": "stream",
     "text": [
      " 25%|█████████████████████████████▌                                                                                       | 2523/10000 [07:42<21:04,  5.91it/s]"
     ]
    },
    {
     "name": "stdout",
     "output_type": "stream",
     "text": [
      "Step 2520, train loss:1.6002, test loss:1.8104\n"
     ]
    },
    {
     "name": "stderr",
     "output_type": "stream",
     "text": [
      " 25%|█████████████████████████████▌                                                                                       | 2531/10000 [07:43<23:30,  5.30it/s]"
     ]
    },
    {
     "name": "stdout",
     "output_type": "stream",
     "text": [
      "Step 2530, train loss:1.6047, test loss:1.8099\n"
     ]
    },
    {
     "name": "stderr",
     "output_type": "stream",
     "text": [
      " 25%|█████████████████████████████▋                                                                                       | 2541/10000 [07:44<23:11,  5.36it/s]"
     ]
    },
    {
     "name": "stdout",
     "output_type": "stream",
     "text": [
      "Step 2540, train loss:1.6046, test loss:1.7914\n"
     ]
    },
    {
     "name": "stderr",
     "output_type": "stream",
     "text": [
      " 26%|█████████████████████████████▊                                                                                       | 2553/10000 [07:46<19:28,  6.37it/s]"
     ]
    },
    {
     "name": "stdout",
     "output_type": "stream",
     "text": [
      "Step 2550, train loss:1.6110, test loss:1.8021\n"
     ]
    },
    {
     "name": "stderr",
     "output_type": "stream",
     "text": [
      " 26%|█████████████████████████████▉                                                                                       | 2561/10000 [07:47<23:10,  5.35it/s]"
     ]
    },
    {
     "name": "stdout",
     "output_type": "stream",
     "text": [
      "Step 2560, train loss:1.6057, test loss:1.8027\n"
     ]
    },
    {
     "name": "stderr",
     "output_type": "stream",
     "text": [
      " 26%|██████████████████████████████                                                                                       | 2573/10000 [07:49<19:27,  6.36it/s]"
     ]
    },
    {
     "name": "stdout",
     "output_type": "stream",
     "text": [
      "Step 2570, train loss:1.6021, test loss:1.7887\n"
     ]
    },
    {
     "name": "stderr",
     "output_type": "stream",
     "text": [
      " 26%|██████████████████████████████▏                                                                                      | 2583/10000 [07:50<19:27,  6.35it/s]"
     ]
    },
    {
     "name": "stdout",
     "output_type": "stream",
     "text": [
      "Step 2580, train loss:1.5931, test loss:1.7843\n"
     ]
    },
    {
     "name": "stderr",
     "output_type": "stream",
     "text": [
      " 26%|██████████████████████████████▎                                                                                      | 2591/10000 [07:51<23:08,  5.34it/s]"
     ]
    },
    {
     "name": "stdout",
     "output_type": "stream",
     "text": [
      "Step 2590, train loss:1.6006, test loss:1.7952\n"
     ]
    },
    {
     "name": "stderr",
     "output_type": "stream",
     "text": [
      " 26%|██████████████████████████████▍                                                                                      | 2599/10000 [07:52<13:43,  8.99it/s]"
     ]
    },
    {
     "name": "stdout",
     "output_type": "stream",
     "text": [
      "Step 2600, train loss:1.5888, test loss:1.7769\n"
     ]
    },
    {
     "name": "stderr",
     "output_type": "stream",
     "text": [
      " 26%|█████████████████████████████▉                                                                                     | 2603/10000 [07:57<1:12:37,  1.70it/s]"
     ]
    },
    {
     "name": "stdout",
     "output_type": "stream",
     "text": [
      "\n",
      "\n",
      "JUTOMENES:\n",
      "This, a tauliat resenious mista,\n",
      "As my bruth intraile, fatchek?\n",
      "Came, into bemeth it a belied our in the eart had\n",
      "Seasonroad bring, priship from welcome tongue to me.\n",
      "\n",
      "HASTINGS:\n",
      "Let we with call'd with dud ear mine?\n",
      "\n",
      "CAPULET:\n",
      "Givious rebmint:\n",
      "He kenger with than fights\n",
      "By wohelling but as houson we shoul\n",
      "What is trinh nobling that vent: anger: and preased:\n",
      "Sing struth poor son to death must my for is falm'd,\n",
      "I'll have, my kinds so.\n",
      "What fathink; wer chillow no with look ruborging. So,\n",
      "As dribus did all one\n",
      "this but take as the ears freed in bear!\n",
      "\n",
      "HENRY BOLINGBROK:\n",
      "We'sare of Lord:\n",
      "Glop the first it is Yorks\n",
      "Maidol, stamn'd my colding man, allow along\n",
      "From her I'll their. That for a him form'd firth,\n",
      "All penson, plucy kies shall I this selson who\n",
      "Which womards, sir; hears the geodluty dimby\n",
      "Pich thele to-death.\n",
      "A not, be loop to his are belischoldes agains patain, you all\n",
      "Pa, leammed of thy an ene\n",
      "oven golong wan peace.\n",
      "Your shall make lord,\n",
      "You'll be againqueen, agains, fri\n",
      "Step 2600, train loss:1.5932, test loss:1.8057\n"
     ]
    },
    {
     "name": "stderr",
     "output_type": "stream",
     "text": [
      " 26%|██████████████████████████████▌                                                                                      | 2613/10000 [07:58<28:08,  4.37it/s]"
     ]
    },
    {
     "name": "stdout",
     "output_type": "stream",
     "text": [
      "Step 2610, train loss:1.5976, test loss:1.7886\n"
     ]
    },
    {
     "name": "stderr",
     "output_type": "stream",
     "text": [
      " 26%|██████████████████████████████▋                                                                                      | 2623/10000 [08:00<20:43,  5.93it/s]"
     ]
    },
    {
     "name": "stdout",
     "output_type": "stream",
     "text": [
      "Step 2620, train loss:1.6117, test loss:1.7935\n"
     ]
    },
    {
     "name": "stderr",
     "output_type": "stream",
     "text": [
      " 26%|██████████████████████████████▊                                                                                      | 2633/10000 [08:01<19:27,  6.31it/s]"
     ]
    },
    {
     "name": "stdout",
     "output_type": "stream",
     "text": [
      "Step 2630, train loss:1.5838, test loss:1.7820\n"
     ]
    },
    {
     "name": "stderr",
     "output_type": "stream",
     "text": [
      " 26%|██████████████████████████████▉                                                                                      | 2643/10000 [08:03<19:15,  6.37it/s]"
     ]
    },
    {
     "name": "stdout",
     "output_type": "stream",
     "text": [
      "Step 2640, train loss:1.5969, test loss:1.7910\n"
     ]
    },
    {
     "name": "stderr",
     "output_type": "stream",
     "text": [
      " 27%|███████████████████████████████                                                                                      | 2653/10000 [08:04<19:12,  6.38it/s]"
     ]
    },
    {
     "name": "stdout",
     "output_type": "stream",
     "text": [
      "Step 2650, train loss:1.5934, test loss:1.7848\n"
     ]
    },
    {
     "name": "stderr",
     "output_type": "stream",
     "text": [
      " 27%|███████████████████████████████▏                                                                                     | 2663/10000 [08:06<19:12,  6.36it/s]"
     ]
    },
    {
     "name": "stdout",
     "output_type": "stream",
     "text": [
      "Step 2660, train loss:1.6014, test loss:1.7780\n"
     ]
    },
    {
     "name": "stderr",
     "output_type": "stream",
     "text": [
      " 27%|███████████████████████████████▎                                                                                     | 2673/10000 [08:07<19:11,  6.37it/s]"
     ]
    },
    {
     "name": "stdout",
     "output_type": "stream",
     "text": [
      "Step 2670, train loss:1.5983, test loss:1.7875\n"
     ]
    },
    {
     "name": "stderr",
     "output_type": "stream",
     "text": [
      " 27%|███████████████████████████████▎                                                                                     | 2681/10000 [08:08<22:47,  5.35it/s]"
     ]
    },
    {
     "name": "stdout",
     "output_type": "stream",
     "text": [
      "Step 2680, train loss:1.5886, test loss:1.7860\n"
     ]
    },
    {
     "name": "stderr",
     "output_type": "stream",
     "text": [
      " 27%|███████████████████████████████▌                                                                                     | 2693/10000 [08:10<19:08,  6.36it/s]"
     ]
    },
    {
     "name": "stdout",
     "output_type": "stream",
     "text": [
      "Step 2690, train loss:1.5872, test loss:1.7866\n"
     ]
    },
    {
     "name": "stderr",
     "output_type": "stream",
     "text": [
      " 27%|███████████████████████████████▌                                                                                     | 2699/10000 [08:10<13:29,  9.02it/s]"
     ]
    },
    {
     "name": "stdout",
     "output_type": "stream",
     "text": [
      "Step 2700, train loss:1.5884, test loss:1.7771\n"
     ]
    },
    {
     "name": "stderr",
     "output_type": "stream",
     "text": [
      " 27%|███████████████████████████████                                                                                    | 2703/10000 [08:15<1:11:33,  1.70it/s]"
     ]
    },
    {
     "name": "stdout",
     "output_type": "stream",
     "text": [
      "\n",
      "\n",
      "HRY BONCANTIO:\n",
      "Morry, my lord, or gracious your pleary. Thusba hears\n",
      "And Claents of York, who maids tow,\n",
      "Give kille ronouren's doubon, and when consided'd their cray,\n",
      "Tows I am fais is your his falk, thee sea\n",
      "\n",
      "PERCUTIO:\n",
      "And crown, I, and of my now, let wrong hath we tongue.\n",
      "\n",
      "DUKE CANUS:\n",
      "No, what in govery nough it him, I could too nim\n",
      "Trout offening truth himst sim't, he't ne's this chall.\n",
      "When which child selverah foolingal, by hearth ord Marcless mouch thee\n",
      "Teave Jenaining: 'tise sup.\n",
      "\n",
      "SLYCANUS:\n",
      "What! Thou say, as you metter. Good 'tign,\n",
      "What the farse is at alone brother, comouns and,\n",
      "hould count dright:\n",
      "I heart the forty I do young to Warwick.\n",
      "\n",
      "BRUTUS:\n",
      "My do saide; before for twarded:\n",
      "That the tygue dower, their for of the scall adget they fougt;\n",
      "And sittent stouch less you no crabhed father easted of stain,\n",
      "What'st that him.\n",
      "\n",
      "Second Clarence affiown in thebolingblengs I heaven! fither!\n",
      "\n",
      "JULIET:\n",
      "Peace, I killant; but blood, I'll dean their is trues though her for yess Tinsue.\n",
      "Where\n",
      "Step 2700, train loss:1.5949, test loss:1.7866\n"
     ]
    },
    {
     "name": "stderr",
     "output_type": "stream",
     "text": [
      " 27%|███████████████████████████████▋                                                                                     | 2713/10000 [08:17<27:43,  4.38it/s]"
     ]
    },
    {
     "name": "stdout",
     "output_type": "stream",
     "text": [
      "Step 2710, train loss:1.5941, test loss:1.7887\n"
     ]
    },
    {
     "name": "stderr",
     "output_type": "stream",
     "text": [
      " 27%|███████████████████████████████▊                                                                                     | 2723/10000 [08:18<20:21,  5.96it/s]"
     ]
    },
    {
     "name": "stdout",
     "output_type": "stream",
     "text": [
      "Step 2720, train loss:1.5820, test loss:1.7824\n"
     ]
    },
    {
     "name": "stderr",
     "output_type": "stream",
     "text": [
      " 27%|███████████████████████████████▉                                                                                     | 2733/10000 [08:20<19:09,  6.32it/s]"
     ]
    },
    {
     "name": "stdout",
     "output_type": "stream",
     "text": [
      "Step 2730, train loss:1.5912, test loss:1.7805\n"
     ]
    },
    {
     "name": "stderr",
     "output_type": "stream",
     "text": [
      " 27%|████████████████████████████████                                                                                     | 2743/10000 [08:21<18:57,  6.38it/s]"
     ]
    },
    {
     "name": "stdout",
     "output_type": "stream",
     "text": [
      "Step 2740, train loss:1.5857, test loss:1.7816\n"
     ]
    },
    {
     "name": "stderr",
     "output_type": "stream",
     "text": [
      " 28%|████████████████████████████████▏                                                                                    | 2753/10000 [08:22<18:56,  6.38it/s]"
     ]
    },
    {
     "name": "stdout",
     "output_type": "stream",
     "text": [
      "Step 2750, train loss:1.5865, test loss:1.7924\n"
     ]
    },
    {
     "name": "stderr",
     "output_type": "stream",
     "text": [
      " 28%|████████████████████████████████▎                                                                                    | 2763/10000 [08:24<18:53,  6.38it/s]"
     ]
    },
    {
     "name": "stdout",
     "output_type": "stream",
     "text": [
      "Step 2760, train loss:1.5723, test loss:1.7686\n"
     ]
    },
    {
     "name": "stderr",
     "output_type": "stream",
     "text": [
      " 28%|████████████████████████████████▍                                                                                    | 2771/10000 [08:25<22:28,  5.36it/s]"
     ]
    },
    {
     "name": "stdout",
     "output_type": "stream",
     "text": [
      "Step 2770, train loss:1.5854, test loss:1.7738\n"
     ]
    },
    {
     "name": "stderr",
     "output_type": "stream",
     "text": [
      " 28%|████████████████████████████████▌                                                                                    | 2783/10000 [08:27<18:53,  6.37it/s]"
     ]
    },
    {
     "name": "stdout",
     "output_type": "stream",
     "text": [
      "Step 2780, train loss:1.5781, test loss:1.7762\n"
     ]
    },
    {
     "name": "stderr",
     "output_type": "stream",
     "text": [
      " 28%|████████████████████████████████▋                                                                                    | 2793/10000 [08:28<18:52,  6.36it/s]"
     ]
    },
    {
     "name": "stdout",
     "output_type": "stream",
     "text": [
      "Step 2790, train loss:1.5730, test loss:1.7797\n"
     ]
    },
    {
     "name": "stderr",
     "output_type": "stream",
     "text": [
      " 28%|████████████████████████████████▋                                                                                    | 2799/10000 [08:29<13:16,  9.04it/s]"
     ]
    },
    {
     "name": "stdout",
     "output_type": "stream",
     "text": [
      "Step 2800, train loss:1.5789, test loss:1.7844\n"
     ]
    },
    {
     "name": "stderr",
     "output_type": "stream",
     "text": [
      " 28%|████████████████████████████████▏                                                                                  | 2803/10000 [08:34<1:12:42,  1.65it/s]"
     ]
    },
    {
     "name": "stdout",
     "output_type": "stream",
     "text": [
      "\n",
      "\n",
      "DUKE OF YAUN:\n",
      "So Lord Musborn it?\n",
      "\n",
      "LUCIO:\n",
      "My holses about is in, and resest.\n",
      "\n",
      "ISABELLA:\n",
      "Ariel's castant.\n",
      "\n",
      "KING RICHARD III:\n",
      "Whopen me, is prout my your such; Fare you wells appard,\n",
      "What you ensat is done, I grave vise thee vanus.\n",
      "\n",
      "Nurse:\n",
      "My sone, at your lord, and give these discovery' infouce ragelt\n",
      "Forture of revencious, cravorom the now! to along their plespeak of sweet\n",
      "Upuer is it most of sen, head thee\n",
      "be thn of his grown, and brother'd, me alas, my lord,\n",
      "What scrull deep them. This is he betines me with chese;\n",
      "What's they but did tirce;\n",
      "As a poor grace them alone, the bring'st he narthe dispess.\n",
      "Marnatedience, your knows hip\n",
      "Shy, parthou wit by the arest.\n",
      "You hunder bown'd there's vity:\n",
      "Affend, and shall now our played. Farter blood how oncesty beave\n",
      "Were ylactiarturen' I sir? steed up well my jear\n",
      "To hear they young they with in neals;\n",
      "Adding forth or at thy die? Was how them plain\n",
      "And the signing not in cinstraiens.\n",
      "Noh with me, satreration, at thou dry.\n",
      "\n",
      "POMPEY:\n",
      "Let true is as\n",
      "Step 2800, train loss:1.5713, test loss:1.7744\n"
     ]
    },
    {
     "name": "stderr",
     "output_type": "stream",
     "text": [
      " 28%|████████████████████████████████▉                                                                                    | 2813/10000 [08:35<27:45,  4.32it/s]"
     ]
    },
    {
     "name": "stdout",
     "output_type": "stream",
     "text": [
      "Step 2810, train loss:1.5835, test loss:1.7758\n"
     ]
    },
    {
     "name": "stderr",
     "output_type": "stream",
     "text": [
      " 28%|█████████████████████████████████                                                                                    | 2823/10000 [08:37<20:13,  5.91it/s]"
     ]
    },
    {
     "name": "stdout",
     "output_type": "stream",
     "text": [
      "Step 2820, train loss:1.5816, test loss:1.7765\n"
     ]
    },
    {
     "name": "stderr",
     "output_type": "stream",
     "text": [
      " 28%|█████████████████████████████████▏                                                                                   | 2833/10000 [08:38<18:55,  6.31it/s]"
     ]
    },
    {
     "name": "stdout",
     "output_type": "stream",
     "text": [
      "Step 2830, train loss:1.5771, test loss:1.7616\n"
     ]
    },
    {
     "name": "stderr",
     "output_type": "stream",
     "text": [
      " 28%|█████████████████████████████████▎                                                                                   | 2843/10000 [08:39<18:43,  6.37it/s]"
     ]
    },
    {
     "name": "stdout",
     "output_type": "stream",
     "text": [
      "Step 2840, train loss:1.5916, test loss:1.7806\n"
     ]
    },
    {
     "name": "stderr",
     "output_type": "stream",
     "text": [
      " 29%|█████████████████████████████████▍                                                                                   | 2853/10000 [08:41<18:41,  6.37it/s]"
     ]
    },
    {
     "name": "stdout",
     "output_type": "stream",
     "text": [
      "Step 2850, train loss:1.5764, test loss:1.7794\n"
     ]
    },
    {
     "name": "stderr",
     "output_type": "stream",
     "text": [
      " 29%|█████████████████████████████████▍                                                                                   | 2863/10000 [08:42<18:41,  6.36it/s]"
     ]
    },
    {
     "name": "stdout",
     "output_type": "stream",
     "text": [
      "Step 2860, train loss:1.5795, test loss:1.7690\n"
     ]
    },
    {
     "name": "stderr",
     "output_type": "stream",
     "text": [
      " 29%|█████████████████████████████████▌                                                                                   | 2873/10000 [08:44<18:39,  6.37it/s]"
     ]
    },
    {
     "name": "stdout",
     "output_type": "stream",
     "text": [
      "Step 2870, train loss:1.5717, test loss:1.7620\n"
     ]
    },
    {
     "name": "stderr",
     "output_type": "stream",
     "text": [
      " 29%|█████████████████████████████████▋                                                                                   | 2881/10000 [08:45<22:10,  5.35it/s]"
     ]
    },
    {
     "name": "stdout",
     "output_type": "stream",
     "text": [
      "Step 2880, train loss:1.5655, test loss:1.7705\n"
     ]
    },
    {
     "name": "stderr",
     "output_type": "stream",
     "text": [
      " 29%|█████████████████████████████████▊                                                                                   | 2893/10000 [08:47<18:39,  6.35it/s]"
     ]
    },
    {
     "name": "stdout",
     "output_type": "stream",
     "text": [
      "Step 2890, train loss:1.5698, test loss:1.7647\n"
     ]
    },
    {
     "name": "stderr",
     "output_type": "stream",
     "text": [
      " 29%|█████████████████████████████████▉                                                                                   | 2899/10000 [08:47<13:07,  9.02it/s]"
     ]
    },
    {
     "name": "stdout",
     "output_type": "stream",
     "text": [
      "Step 2900, train loss:1.5679, test loss:1.7697\n"
     ]
    },
    {
     "name": "stderr",
     "output_type": "stream",
     "text": [
      " 29%|█████████████████████████████████▍                                                                                 | 2903/10000 [08:52<1:09:44,  1.70it/s]"
     ]
    },
    {
     "name": "stdout",
     "output_type": "stream",
     "text": [
      "\n",
      "\n",
      "CUPUMNIUS:\n",
      "Bet when a commany 'twas maje to our that\n",
      "To his lumber can tongue saizen blood: thou spow at you ray,\n",
      "It yet as you did vicity are their undery now sitsce encusmemed\n",
      "Than fider rown he knew's through in eye,\n",
      "My both say's per the dreating will noish,\n",
      "Like imptless of mine tarkey. What?\n",
      "\n",
      "CORIOLANUS:\n",
      "My plory like he will raved of do the possort.\n",
      "\n",
      "LASGOR:\n",
      "How, the is fortune?\n",
      "\n",
      "CAPULET:\n",
      "O lord:\n",
      "But the gods of how dids barding: will a burdown is the\n",
      "veroun that ress of scrous as yourthy:\n",
      "We'll calone woman: quistretty wold:\n",
      "My them: for at us appay pleasion\n",
      "Where is noblight they: whiles friends, night was I uppeak and,-dispout\n",
      "Suph the blows to 'urst cresence paule disconcess it.\n",
      "\n",
      "EDWARD:\n",
      "Whene I that it her alook it to right:\n",
      "It your businst's appeak this lip\n",
      "Till of old thee ince of my: there head sight.\n",
      "Do him; Juch the hatranged I would stron! Of all If thou fount.\n",
      "\n",
      "JULIET:\n",
      "You say theither places.\n",
      "\n",
      "PSONTES:\n",
      "Mass; and bedge, you king's vict use taleter:\n",
      "I sup, king a his \n",
      "Step 2900, train loss:1.5737, test loss:1.7722\n"
     ]
    },
    {
     "name": "stderr",
     "output_type": "stream",
     "text": [
      " 29%|██████████████████████████████████                                                                                   | 2913/10000 [08:54<27:04,  4.36it/s]"
     ]
    },
    {
     "name": "stdout",
     "output_type": "stream",
     "text": [
      "Step 2910, train loss:1.5615, test loss:1.7713\n"
     ]
    },
    {
     "name": "stderr",
     "output_type": "stream",
     "text": [
      " 29%|██████████████████████████████████▏                                                                                  | 2923/10000 [08:55<19:55,  5.92it/s]"
     ]
    },
    {
     "name": "stdout",
     "output_type": "stream",
     "text": [
      "Step 2920, train loss:1.5750, test loss:1.7865\n"
     ]
    },
    {
     "name": "stderr",
     "output_type": "stream",
     "text": [
      " 29%|██████████████████████████████████▎                                                                                  | 2933/10000 [08:56<18:40,  6.31it/s]"
     ]
    },
    {
     "name": "stdout",
     "output_type": "stream",
     "text": [
      "Step 2930, train loss:1.5657, test loss:1.7543\n"
     ]
    },
    {
     "name": "stderr",
     "output_type": "stream",
     "text": [
      " 29%|██████████████████████████████████▍                                                                                  | 2943/10000 [08:58<18:27,  6.37it/s]"
     ]
    },
    {
     "name": "stdout",
     "output_type": "stream",
     "text": [
      "Step 2940, train loss:1.5701, test loss:1.7700\n"
     ]
    },
    {
     "name": "stderr",
     "output_type": "stream",
     "text": [
      " 30%|██████████████████████████████████▌                                                                                  | 2953/10000 [08:59<18:26,  6.37it/s]"
     ]
    },
    {
     "name": "stdout",
     "output_type": "stream",
     "text": [
      "Step 2950, train loss:1.5661, test loss:1.7778\n"
     ]
    },
    {
     "name": "stderr",
     "output_type": "stream",
     "text": [
      " 30%|██████████████████████████████████▋                                                                                  | 2961/10000 [09:01<21:53,  5.36it/s]"
     ]
    },
    {
     "name": "stdout",
     "output_type": "stream",
     "text": [
      "Step 2960, train loss:1.5626, test loss:1.7577\n"
     ]
    },
    {
     "name": "stderr",
     "output_type": "stream",
     "text": [
      " 30%|██████████████████████████████████▊                                                                                  | 2973/10000 [09:02<18:24,  6.36it/s]"
     ]
    },
    {
     "name": "stdout",
     "output_type": "stream",
     "text": [
      "Step 2970, train loss:1.5662, test loss:1.7615\n"
     ]
    },
    {
     "name": "stderr",
     "output_type": "stream",
     "text": [
      " 30%|██████████████████████████████████▉                                                                                  | 2983/10000 [09:04<18:24,  6.35it/s]"
     ]
    },
    {
     "name": "stdout",
     "output_type": "stream",
     "text": [
      "Step 2980, train loss:1.5521, test loss:1.7750\n"
     ]
    },
    {
     "name": "stderr",
     "output_type": "stream",
     "text": [
      " 30%|███████████████████████████████████                                                                                  | 2993/10000 [09:05<18:24,  6.34it/s]"
     ]
    },
    {
     "name": "stdout",
     "output_type": "stream",
     "text": [
      "Step 2990, train loss:1.5631, test loss:1.7706\n"
     ]
    },
    {
     "name": "stderr",
     "output_type": "stream",
     "text": [
      " 30%|███████████████████████████████████                                                                                  | 2999/10000 [09:05<12:59,  8.98it/s]"
     ]
    },
    {
     "name": "stdout",
     "output_type": "stream",
     "text": [
      "Step 3000, train loss:1.5540, test loss:1.7511\n"
     ]
    },
    {
     "name": "stderr",
     "output_type": "stream",
     "text": [
      " 30%|██████████████████████████████████▌                                                                                | 3003/10000 [09:11<1:09:58,  1.67it/s]"
     ]
    },
    {
     "name": "stdout",
     "output_type": "stream",
     "text": [
      "\n",
      "\n",
      "KING RICHARD:\n",
      "Alam yequat's eyes wip; and with this;\n",
      "Net the rement, I should promond prome to him.\n",
      "\n",
      "JULIET:\n",
      "Hor naturn them, lord all thy villain: do night,\n",
      "That worthy ument from done\n",
      "A please fritty trument\n",
      "To make offanceds. Gust of joy\n",
      "our father we foll the way,\n",
      "And benight for two hated now, an all kin a roloved,\n",
      "Though tran your wouldned with you\n",
      "furthere cazed, no more than do another to inkings meat,\n",
      "To rother her blood, presesedning Hapfood tron,\n",
      "By contry:\n",
      "Nor may stirgs modam:\n",
      "Storn I fill a vallower usurpetes and wather,\n",
      "With twis must: may cinnoth--vilines, how more and to day are falloid;\n",
      "And I did of upointrupon'd thouse in jest.\n",
      "\n",
      "HESMARSS:\n",
      "I'll day I nest fall away\n",
      "as in the bear do alrow,\n",
      "Well I fortune. furselver: night,\n",
      "And night, let to he duke then then a straiguy pany.\n",
      "\n",
      "FLORD:\n",
      "What's thoublitined frient, and so the evict.\n",
      "Amis spent himsire:\n",
      "Your crown Plovoly rights, from and thy stills for this\n",
      "Your hithers that were yield\n",
      "Come, stain not then, at no; marry, o\n",
      "Step 3000, train loss:1.5568, test loss:1.7517\n"
     ]
    },
    {
     "name": "stderr",
     "output_type": "stream",
     "text": [
      " 30%|███████████████████████████████████▎                                                                                 | 3013/10000 [09:12<26:53,  4.33it/s]"
     ]
    },
    {
     "name": "stdout",
     "output_type": "stream",
     "text": [
      "Step 3010, train loss:1.5551, test loss:1.7576\n"
     ]
    },
    {
     "name": "stderr",
     "output_type": "stream",
     "text": [
      " 30%|███████████████████████████████████▎                                                                                 | 3023/10000 [09:13<19:39,  5.92it/s]"
     ]
    },
    {
     "name": "stdout",
     "output_type": "stream",
     "text": [
      "Step 3020, train loss:1.5619, test loss:1.7634\n"
     ]
    },
    {
     "name": "stderr",
     "output_type": "stream",
     "text": [
      " 30%|███████████████████████████████████▍                                                                                 | 3033/10000 [09:15<18:22,  6.32it/s]"
     ]
    },
    {
     "name": "stdout",
     "output_type": "stream",
     "text": [
      "Step 3030, train loss:1.5566, test loss:1.7602\n"
     ]
    },
    {
     "name": "stderr",
     "output_type": "stream",
     "text": [
      " 30%|███████████████████████████████████▌                                                                                 | 3043/10000 [09:16<18:09,  6.39it/s]"
     ]
    },
    {
     "name": "stdout",
     "output_type": "stream",
     "text": [
      "Step 3040, train loss:1.5606, test loss:1.7675\n"
     ]
    },
    {
     "name": "stderr",
     "output_type": "stream",
     "text": [
      " 31%|███████████████████████████████████▋                                                                                 | 3053/10000 [09:18<18:09,  6.38it/s]"
     ]
    },
    {
     "name": "stdout",
     "output_type": "stream",
     "text": [
      "Step 3050, train loss:1.5650, test loss:1.7715\n"
     ]
    },
    {
     "name": "stderr",
     "output_type": "stream",
     "text": [
      " 31%|███████████████████████████████████▊                                                                                 | 3063/10000 [09:19<18:07,  6.38it/s]"
     ]
    },
    {
     "name": "stdout",
     "output_type": "stream",
     "text": [
      "Step 3060, train loss:1.5548, test loss:1.7544\n"
     ]
    },
    {
     "name": "stderr",
     "output_type": "stream",
     "text": [
      " 31%|███████████████████████████████████▉                                                                                 | 3071/10000 [09:20<21:34,  5.35it/s]"
     ]
    },
    {
     "name": "stdout",
     "output_type": "stream",
     "text": [
      "Step 3070, train loss:1.5573, test loss:1.7613\n"
     ]
    },
    {
     "name": "stderr",
     "output_type": "stream",
     "text": [
      " 31%|████████████████████████████████████                                                                                 | 3083/10000 [09:22<18:09,  6.35it/s]"
     ]
    },
    {
     "name": "stdout",
     "output_type": "stream",
     "text": [
      "Step 3080, train loss:1.5574, test loss:1.7526\n"
     ]
    },
    {
     "name": "stderr",
     "output_type": "stream",
     "text": [
      " 31%|████████████████████████████████████▏                                                                                | 3093/10000 [09:23<18:07,  6.35it/s]"
     ]
    },
    {
     "name": "stdout",
     "output_type": "stream",
     "text": [
      "Step 3090, train loss:1.5493, test loss:1.7680\n"
     ]
    },
    {
     "name": "stderr",
     "output_type": "stream",
     "text": [
      " 31%|████████████████████████████████████▎                                                                                | 3099/10000 [09:24<12:45,  9.02it/s]"
     ]
    },
    {
     "name": "stdout",
     "output_type": "stream",
     "text": [
      "Step 3100, train loss:1.5572, test loss:1.7540\n"
     ]
    },
    {
     "name": "stderr",
     "output_type": "stream",
     "text": [
      " 31%|███████████████████████████████████▋                                                                               | 3103/10000 [09:29<1:09:39,  1.65it/s]"
     ]
    },
    {
     "name": "stdout",
     "output_type": "stream",
     "text": [
      "\n",
      "\n",
      "KING EDWAS and 'There for ittrenty.\n",
      "\n",
      "PEONTES:\n",
      "That's diest of this dale leshield.\n",
      "\n",
      "CORIOLANUS:\n",
      "You will?\n",
      "\n",
      "VOLUMNIA:\n",
      "Nar you man? Har, not, look will for nobled but me fluckstrempessible\n",
      "Ungound up sitine\n",
      "Young craments sin flowiliame,\n",
      "York you shols! the fealty'd, all!\n",
      "\n",
      "OPSAP:\n",
      "So, my kill lives in hole!\n",
      "He live make twith in heap mock of grift there\n",
      "Mors fropend thy considing lay now,\n",
      "Your himself, an it,\n",
      "Did my hade we wouldst ailder for of rinchain himself\n",
      "And their looks do they any poted my lord\n",
      "The mond bloody thou daught innoted,\n",
      "Good the resein missue, that, noth,\n",
      "And, I never so plaims; and, ampheat such gentle murdgelens will bouning Corself\n",
      "He lord. You have shear were where the despere thy\n",
      "Deat her for the counced plagen to it.\n",
      "\n",
      "BUSTANUS:\n",
      "You my do my lord?\n",
      "\n",
      "DUKE Legbid, will kin up try time, more itsel fortune:\n",
      "When he it he blots cholein in acce:\n",
      "Thrown enteast with a tear'd,\n",
      "And the susbleng me do with I, is a grief did prown fittern to me was of thyse nother,\n",
      "What name a\n",
      "Step 3100, train loss:1.5504, test loss:1.7498\n"
     ]
    },
    {
     "name": "stderr",
     "output_type": "stream",
     "text": [
      " 31%|████████████████████████████████████▍                                                                                | 3113/10000 [09:31<26:34,  4.32it/s]"
     ]
    },
    {
     "name": "stdout",
     "output_type": "stream",
     "text": [
      "Step 3110, train loss:1.5449, test loss:1.7509\n"
     ]
    },
    {
     "name": "stderr",
     "output_type": "stream",
     "text": [
      " 31%|████████████████████████████████████▌                                                                                | 3123/10000 [09:32<19:21,  5.92it/s]"
     ]
    },
    {
     "name": "stdout",
     "output_type": "stream",
     "text": [
      "Step 3120, train loss:1.5478, test loss:1.7617\n"
     ]
    },
    {
     "name": "stderr",
     "output_type": "stream",
     "text": [
      " 31%|████████████████████████████████████▋                                                                                | 3133/10000 [09:33<18:09,  6.30it/s]"
     ]
    },
    {
     "name": "stdout",
     "output_type": "stream",
     "text": [
      "Step 3130, train loss:1.5462, test loss:1.7563\n"
     ]
    },
    {
     "name": "stderr",
     "output_type": "stream",
     "text": [
      " 31%|████████████████████████████████████▊                                                                                | 3143/10000 [09:35<17:58,  6.36it/s]"
     ]
    },
    {
     "name": "stdout",
     "output_type": "stream",
     "text": [
      "Step 3140, train loss:1.5417, test loss:1.7535\n"
     ]
    },
    {
     "name": "stderr",
     "output_type": "stream",
     "text": [
      " 32%|████████████████████████████████████▉                                                                                | 3153/10000 [09:36<17:56,  6.36it/s]"
     ]
    },
    {
     "name": "stdout",
     "output_type": "stream",
     "text": [
      "Step 3150, train loss:1.5561, test loss:1.7574\n"
     ]
    },
    {
     "name": "stderr",
     "output_type": "stream",
     "text": [
      " 32%|█████████████████████████████████████                                                                                | 3163/10000 [09:38<17:58,  6.34it/s]"
     ]
    },
    {
     "name": "stdout",
     "output_type": "stream",
     "text": [
      "Step 3160, train loss:1.5386, test loss:1.7542\n"
     ]
    },
    {
     "name": "stderr",
     "output_type": "stream",
     "text": [
      " 32%|█████████████████████████████████████                                                                                | 3173/10000 [09:39<17:54,  6.36it/s]"
     ]
    },
    {
     "name": "stdout",
     "output_type": "stream",
     "text": [
      "Step 3170, train loss:1.5454, test loss:1.7496\n"
     ]
    },
    {
     "name": "stderr",
     "output_type": "stream",
     "text": [
      " 32%|█████████████████████████████████████▏                                                                               | 3183/10000 [09:40<17:53,  6.35it/s]"
     ]
    },
    {
     "name": "stdout",
     "output_type": "stream",
     "text": [
      "Step 3180, train loss:1.5441, test loss:1.7466\n"
     ]
    },
    {
     "name": "stderr",
     "output_type": "stream",
     "text": [
      " 32%|█████████████████████████████████████▎                                                                               | 3193/10000 [09:42<17:53,  6.34it/s]"
     ]
    },
    {
     "name": "stdout",
     "output_type": "stream",
     "text": [
      "Step 3190, train loss:1.5481, test loss:1.7475\n"
     ]
    },
    {
     "name": "stderr",
     "output_type": "stream",
     "text": [
      " 32%|█████████████████████████████████████▍                                                                               | 3199/10000 [09:42<12:35,  9.00it/s]"
     ]
    },
    {
     "name": "stdout",
     "output_type": "stream",
     "text": [
      "Step 3200, train loss:1.5467, test loss:1.7568\n"
     ]
    },
    {
     "name": "stderr",
     "output_type": "stream",
     "text": [
      " 32%|████████████████████████████████████▊                                                                              | 3203/10000 [09:47<1:06:41,  1.70it/s]"
     ]
    },
    {
     "name": "stdout",
     "output_type": "stream",
     "text": [
      "\n",
      "\n",
      "VERCUTIO:\n",
      "Come, for me wife, and revence?\n",
      "\n",
      "whife of Rider thy talkfeen with her? and gunto things weeter,\n",
      "The will me fain ealas to him\n",
      "Could not my take Come, sink Owhile stringed of alremolush.\n",
      "\n",
      "KING RICHARD III:\n",
      "Will besugh dote But then; the hups? God, when\n",
      "you for the trink come armoke varse another ensumbstench\n",
      "That but thy straidest is a plage!\n",
      "The leds of I am from a brother we word,\n",
      "And for this. Fault his now cen,\n",
      "Whilate muspess dein the\n",
      "Wildrings poince; with answord as son\n",
      "Thou be my arefull nothing that her hath to fis mother! I am the person\n",
      "hand, and dene than weep intly know'd\n",
      "To all I kill: at doughtry wiptcording a dealing\n",
      "I am the, as the back mile give do his long air fount\n",
      "This not jich within\n",
      "In saidvent now, what dispo's to take the king,\n",
      "We have friends is frienn; them, but they truit to your cirle, so stand\n",
      "trose gave being, still be my them;\n",
      "How my kneely lugh the peed! I me:\n",
      "Nor Tenguise a goney to dispectup it thy accused:\n",
      "Them, under that I trease flat. th\n",
      "Step 3200, train loss:1.5382, test loss:1.7468\n"
     ]
    },
    {
     "name": "stderr",
     "output_type": "stream",
     "text": [
      " 32%|█████████████████████████████████████▌                                                                               | 3213/10000 [09:49<25:51,  4.37it/s]"
     ]
    },
    {
     "name": "stdout",
     "output_type": "stream",
     "text": [
      "Step 3210, train loss:1.5419, test loss:1.7406\n"
     ]
    },
    {
     "name": "stderr",
     "output_type": "stream",
     "text": [
      " 32%|█████████████████████████████████████▋                                                                               | 3223/10000 [09:50<19:02,  5.93it/s]"
     ]
    },
    {
     "name": "stdout",
     "output_type": "stream",
     "text": [
      "Step 3220, train loss:1.5485, test loss:1.7434\n"
     ]
    },
    {
     "name": "stderr",
     "output_type": "stream",
     "text": [
      " 32%|█████████████████████████████████████▊                                                                               | 3233/10000 [09:52<17:52,  6.31it/s]"
     ]
    },
    {
     "name": "stdout",
     "output_type": "stream",
     "text": [
      "Step 3230, train loss:1.5443, test loss:1.7346\n"
     ]
    },
    {
     "name": "stderr",
     "output_type": "stream",
     "text": [
      " 32%|█████████████████████████████████████▉                                                                               | 3243/10000 [09:53<17:45,  6.34it/s]"
     ]
    },
    {
     "name": "stdout",
     "output_type": "stream",
     "text": [
      "Step 3240, train loss:1.5384, test loss:1.7556\n"
     ]
    },
    {
     "name": "stderr",
     "output_type": "stream",
     "text": [
      " 33%|██████████████████████████████████████                                                                               | 3253/10000 [09:55<17:40,  6.36it/s]"
     ]
    },
    {
     "name": "stdout",
     "output_type": "stream",
     "text": [
      "Step 3250, train loss:1.5478, test loss:1.7492\n"
     ]
    },
    {
     "name": "stderr",
     "output_type": "stream",
     "text": [
      " 33%|██████████████████████████████████████▏                                                                              | 3263/10000 [09:56<17:37,  6.37it/s]"
     ]
    },
    {
     "name": "stdout",
     "output_type": "stream",
     "text": [
      "Step 3260, train loss:1.5472, test loss:1.7366\n"
     ]
    },
    {
     "name": "stderr",
     "output_type": "stream",
     "text": [
      " 33%|██████████████████████████████████████▎                                                                              | 3273/10000 [09:57<17:38,  6.36it/s]"
     ]
    },
    {
     "name": "stdout",
     "output_type": "stream",
     "text": [
      "Step 3270, train loss:1.5378, test loss:1.7498\n"
     ]
    },
    {
     "name": "stderr",
     "output_type": "stream",
     "text": [
      " 33%|██████████████████████████████████████▍                                                                              | 3283/10000 [09:59<17:37,  6.35it/s]"
     ]
    },
    {
     "name": "stdout",
     "output_type": "stream",
     "text": [
      "Step 3280, train loss:1.5419, test loss:1.7454\n"
     ]
    },
    {
     "name": "stderr",
     "output_type": "stream",
     "text": [
      " 33%|██████████████████████████████████████▌                                                                              | 3293/10000 [10:00<17:36,  6.35it/s]"
     ]
    },
    {
     "name": "stdout",
     "output_type": "stream",
     "text": [
      "Step 3290, train loss:1.5364, test loss:1.7453\n"
     ]
    },
    {
     "name": "stderr",
     "output_type": "stream",
     "text": [
      " 33%|██████████████████████████████████████▌                                                                              | 3299/10000 [10:01<12:21,  9.04it/s]"
     ]
    },
    {
     "name": "stdout",
     "output_type": "stream",
     "text": [
      "Step 3300, train loss:1.5369, test loss:1.7431\n"
     ]
    },
    {
     "name": "stderr",
     "output_type": "stream",
     "text": [
      " 33%|█████████████████████████████████████▉                                                                             | 3303/10000 [10:06<1:05:54,  1.69it/s]"
     ]
    },
    {
     "name": "stdout",
     "output_type": "stream",
     "text": [
      "\n",
      "\n",
      "dow I am know thou again, your your strike that wares will upon him.\n",
      "'Tis of my great floce mights me villaw's stage\n",
      "Bechild have ding jovers, vyiet\n",
      "Leadly think Richalged in the stown death,\n",
      "Thous thy nears of the is, thrones,\n",
      "He come ensure of doold. But:\n",
      "So conspirish as amentration a sust, as cuch whoiled\n",
      "In shall has dropt thee: head world drugh'd, we'll in Your gnows markin altorn!\n",
      "And strong o'n by caunht so bein pert\n",
      "a reture it, son to obed 'twere.\n",
      "Thou art help Parse it, and truther.\n",
      "\n",
      "Nurse:\n",
      "Contry to 'tis upon his froy? Chorey were did up to more my stidgs,\n",
      "And my beat, Claren's take up follow.\n",
      "\n",
      "LUCIO:\n",
      "It is not softly? it true followle!\n",
      "Mow, he their love a know'st your will'd's, to\n",
      "That I feel honourer\n",
      "to us now uncruse of Lest, would\n",
      "Is, 'I, swell, my look!\n",
      "\n",
      "DUKE OF YORK:\n",
      "Than we makely his purdect of Clarencined, as!\n",
      "\n",
      "POMPEY:\n",
      "My necred is love doe, and love.\n",
      "\n",
      "KING EDWARD IV:\n",
      "Onlysover, what he early our good.\n",
      "\n",
      "First Senitor:\n",
      "This galole, lady head as gants sheeps with\n",
      "Th\n",
      "Step 3300, train loss:1.5378, test loss:1.7411\n"
     ]
    },
    {
     "name": "stderr",
     "output_type": "stream",
     "text": [
      " 33%|██████████████████████████████████████▊                                                                              | 3313/10000 [10:07<25:32,  4.36it/s]"
     ]
    },
    {
     "name": "stdout",
     "output_type": "stream",
     "text": [
      "Step 3310, train loss:1.5359, test loss:1.7373\n"
     ]
    },
    {
     "name": "stderr",
     "output_type": "stream",
     "text": [
      " 33%|██████████████████████████████████████▉                                                                              | 3323/10000 [10:09<18:46,  5.93it/s]"
     ]
    },
    {
     "name": "stdout",
     "output_type": "stream",
     "text": [
      "Step 3320, train loss:1.5364, test loss:1.7432\n"
     ]
    },
    {
     "name": "stderr",
     "output_type": "stream",
     "text": [
      " 33%|██████████████████████████████████████▉                                                                              | 3333/10000 [10:10<17:37,  6.30it/s]"
     ]
    },
    {
     "name": "stdout",
     "output_type": "stream",
     "text": [
      "Step 3330, train loss:1.5237, test loss:1.7472\n"
     ]
    },
    {
     "name": "stderr",
     "output_type": "stream",
     "text": [
      " 33%|███████████████████████████████████████                                                                              | 3343/10000 [10:11<17:29,  6.35it/s]"
     ]
    },
    {
     "name": "stdout",
     "output_type": "stream",
     "text": [
      "Step 3340, train loss:1.5373, test loss:1.7481\n"
     ]
    },
    {
     "name": "stderr",
     "output_type": "stream",
     "text": [
      " 34%|███████████████████████████████████████▏                                                                             | 3353/10000 [10:13<17:23,  6.37it/s]"
     ]
    },
    {
     "name": "stdout",
     "output_type": "stream",
     "text": [
      "Step 3350, train loss:1.5320, test loss:1.7388\n"
     ]
    },
    {
     "name": "stderr",
     "output_type": "stream",
     "text": [
      " 34%|███████████████████████████████████████▎                                                                             | 3363/10000 [10:14<17:22,  6.36it/s]"
     ]
    },
    {
     "name": "stdout",
     "output_type": "stream",
     "text": [
      "Step 3360, train loss:1.5331, test loss:1.7330\n"
     ]
    },
    {
     "name": "stderr",
     "output_type": "stream",
     "text": [
      " 34%|███████████████████████████████████████▍                                                                             | 3371/10000 [10:16<20:37,  5.36it/s]"
     ]
    },
    {
     "name": "stdout",
     "output_type": "stream",
     "text": [
      "Step 3370, train loss:1.5364, test loss:1.7316\n"
     ]
    },
    {
     "name": "stderr",
     "output_type": "stream",
     "text": [
      " 34%|███████████████████████████████████████▌                                                                             | 3383/10000 [10:17<17:21,  6.35it/s]"
     ]
    },
    {
     "name": "stdout",
     "output_type": "stream",
     "text": [
      "Step 3380, train loss:1.5266, test loss:1.7581\n"
     ]
    },
    {
     "name": "stderr",
     "output_type": "stream",
     "text": [
      " 34%|███████████████████████████████████████▋                                                                             | 3393/10000 [10:19<17:20,  6.35it/s]"
     ]
    },
    {
     "name": "stdout",
     "output_type": "stream",
     "text": [
      "Step 3390, train loss:1.5291, test loss:1.7454\n"
     ]
    },
    {
     "name": "stderr",
     "output_type": "stream",
     "text": [
      " 34%|███████████████████████████████████████▊                                                                             | 3399/10000 [10:19<12:12,  9.01it/s]"
     ]
    },
    {
     "name": "stdout",
     "output_type": "stream",
     "text": [
      "Step 3400, train loss:1.5279, test loss:1.7332\n"
     ]
    },
    {
     "name": "stderr",
     "output_type": "stream",
     "text": [
      " 34%|███████████████████████████████████████▏                                                                           | 3403/10000 [10:24<1:05:13,  1.69it/s]"
     ]
    },
    {
     "name": "stdout",
     "output_type": "stream",
     "text": [
      "\n",
      "\n",
      "Allown:\n",
      "I had cill love, let die force your my ford\n",
      "For KII:\n",
      "wish the ships no the reope unto.\n",
      "I rist angelo?\n",
      "\n",
      "GLOUCESTER:\n",
      "No sea done, look Isule see, his he rem\n",
      "But, that ill and part your gonerce,\n",
      "Be cality how thy ries, syes ever.\n",
      "\n",
      "KING RICHARD III:\n",
      "That, I fone that we we any life to our didness alries\n",
      "wrorother? Were Ingle, I know, an murdely with speak.\n",
      "Before is I say, and structirated,\n",
      "My some, my lords, who talent make been, his mats slaugard,\n",
      "But this and air wended,\n",
      "And stole flein in were that fame, yet I wantestips of grease\n",
      "Her that abut and string of face.\n",
      "But that walk, they in gold ness knows: it thee: why:\n",
      "Prover days good cloud.\n",
      "\n",
      "DUKE OF AUMERLE:\n",
      "Lord, what you daught more has\n",
      "make you'll foes, tery you,\n",
      "That do grow, with 'tings thyselves speed;\n",
      "Of the for alone terminess men.\n",
      "March a bold, for which 'Warwick'd duke,'\n",
      "The grues or givest: My fall im a begst as too ro: blood it your grazen:\n",
      "But I unwer youth he die of tongue\n",
      "The for thip and I stoon.\n",
      "My gentleman: w\n",
      "Step 3400, train loss:1.5403, test loss:1.7550\n"
     ]
    },
    {
     "name": "stderr",
     "output_type": "stream",
     "text": [
      " 34%|███████████████████████████████████████▉                                                                             | 3413/10000 [10:26<25:10,  4.36it/s]"
     ]
    },
    {
     "name": "stdout",
     "output_type": "stream",
     "text": [
      "Step 3410, train loss:1.5370, test loss:1.7412\n"
     ]
    },
    {
     "name": "stderr",
     "output_type": "stream",
     "text": [
      " 34%|████████████████████████████████████████                                                                             | 3423/10000 [10:27<18:28,  5.93it/s]"
     ]
    },
    {
     "name": "stdout",
     "output_type": "stream",
     "text": [
      "Step 3420, train loss:1.5355, test loss:1.7364\n"
     ]
    },
    {
     "name": "stderr",
     "output_type": "stream",
     "text": [
      " 34%|████████████████████████████████████████▏                                                                            | 3433/10000 [10:28<17:20,  6.31it/s]"
     ]
    },
    {
     "name": "stdout",
     "output_type": "stream",
     "text": [
      "Step 3430, train loss:1.5272, test loss:1.7294\n"
     ]
    },
    {
     "name": "stderr",
     "output_type": "stream",
     "text": [
      " 34%|████████████████████████████████████████▎                                                                            | 3443/10000 [10:30<17:09,  6.37it/s]"
     ]
    },
    {
     "name": "stdout",
     "output_type": "stream",
     "text": [
      "Step 3440, train loss:1.5271, test loss:1.7366\n"
     ]
    },
    {
     "name": "stderr",
     "output_type": "stream",
     "text": [
      " 35%|████████████████████████████████████████▍                                                                            | 3453/10000 [10:31<17:07,  6.37it/s]"
     ]
    },
    {
     "name": "stdout",
     "output_type": "stream",
     "text": [
      "Step 3450, train loss:1.5342, test loss:1.7553\n"
     ]
    },
    {
     "name": "stderr",
     "output_type": "stream",
     "text": [
      " 35%|████████████████████████████████████████▌                                                                            | 3463/10000 [10:33<17:04,  6.38it/s]"
     ]
    },
    {
     "name": "stdout",
     "output_type": "stream",
     "text": [
      "Step 3460, train loss:1.5233, test loss:1.7307\n"
     ]
    },
    {
     "name": "stderr",
     "output_type": "stream",
     "text": [
      " 35%|████████████████████████████████████████▋                                                                            | 3473/10000 [10:34<17:05,  6.37it/s]"
     ]
    },
    {
     "name": "stdout",
     "output_type": "stream",
     "text": [
      "Step 3470, train loss:1.5332, test loss:1.7235\n"
     ]
    },
    {
     "name": "stderr",
     "output_type": "stream",
     "text": [
      " 35%|████████████████████████████████████████▊                                                                            | 3483/10000 [10:36<17:03,  6.36it/s]"
     ]
    },
    {
     "name": "stdout",
     "output_type": "stream",
     "text": [
      "Step 3480, train loss:1.5274, test loss:1.7329\n"
     ]
    },
    {
     "name": "stderr",
     "output_type": "stream",
     "text": [
      " 35%|████████████████████████████████████████▊                                                                            | 3493/10000 [10:37<17:03,  6.36it/s]"
     ]
    },
    {
     "name": "stdout",
     "output_type": "stream",
     "text": [
      "Step 3490, train loss:1.5330, test loss:1.7403\n"
     ]
    },
    {
     "name": "stderr",
     "output_type": "stream",
     "text": [
      " 35%|████████████████████████████████████████▉                                                                            | 3499/10000 [10:37<12:00,  9.02it/s]"
     ]
    },
    {
     "name": "stdout",
     "output_type": "stream",
     "text": [
      "Step 3500, train loss:1.5291, test loss:1.7335\n"
     ]
    },
    {
     "name": "stderr",
     "output_type": "stream",
     "text": [
      " 35%|████████████████████████████████████████▎                                                                          | 3503/10000 [10:43<1:05:33,  1.65it/s]"
     ]
    },
    {
     "name": "stdout",
     "output_type": "stream",
     "text": [
      "\n",
      "\n",
      "LordUS:\n",
      "Wellghand that hath gen the warding speaint as out boy\n",
      "doth speaks, but the so. Having'd infect it married of heart-on to\n",
      "encease worsh he sake is a justiction\n",
      "Tow he slater Ken,----\n",
      "\n",
      "GLOUCESTER:\n",
      "Shanks from love seal should be is\n",
      "En to, peacn.\n",
      "\n",
      "CKINGBROKE:\n",
      "Your Lady; why strong wault us,\n",
      "I'ld true ra!\n",
      "\n",
      "CAPULET:\n",
      "So, have war, a father eneest. That his waugh the friends:\n",
      "You shear of am still.\n",
      "\n",
      "KING RICHARD II:\n",
      "What you have but ver well?\n",
      "\n",
      "ANGELO:\n",
      "Tell gaid the chill no.\n",
      "\n",
      "FRIAR LAURENT:\n",
      "Not, voes sigh to hands;\n",
      "Stay unstraite of sweet purpleces, as as a convery.\n",
      "Hell wilds up't plestyments make me sule to missign.\n",
      "But, wheth privorts of Warwick to maid! you'll the\n",
      "did valowe comes of putuch. Cales he is bown\n",
      "Upon my kind this darewell:\n",
      "A mean, for you are now!\n",
      "\n",
      "POLIXENES:\n",
      "Marcled that these thoughts of ceivings montructs!\n",
      "\n",
      "TAPUMNIA:\n",
      "My gone!\n",
      "\n",
      "CLIFFORD:\n",
      "What shunk the lody lords with a sillow of\n",
      "To receed and salips as your had,\n",
      "Have Ventry's for blows'dischraged!\n",
      "\n",
      "YORK:\n",
      "Ah, woun\n",
      "Step 3500, train loss:1.5239, test loss:1.7358\n"
     ]
    },
    {
     "name": "stderr",
     "output_type": "stream",
     "text": [
      " 35%|█████████████████████████████████████████                                                                            | 3513/10000 [10:44<24:59,  4.33it/s]"
     ]
    },
    {
     "name": "stdout",
     "output_type": "stream",
     "text": [
      "Step 3510, train loss:1.5270, test loss:1.7272\n"
     ]
    },
    {
     "name": "stderr",
     "output_type": "stream",
     "text": [
      " 35%|█████████████████████████████████████████▏                                                                           | 3523/10000 [10:45<18:12,  5.93it/s]"
     ]
    },
    {
     "name": "stdout",
     "output_type": "stream",
     "text": [
      "Step 3520, train loss:1.5201, test loss:1.7380\n"
     ]
    },
    {
     "name": "stderr",
     "output_type": "stream",
     "text": [
      " 35%|█████████████████████████████████████████▎                                                                           | 3533/10000 [10:47<17:02,  6.32it/s]"
     ]
    },
    {
     "name": "stdout",
     "output_type": "stream",
     "text": [
      "Step 3530, train loss:1.5131, test loss:1.7252\n"
     ]
    },
    {
     "name": "stderr",
     "output_type": "stream",
     "text": [
      " 35%|█████████████████████████████████████████▍                                                                           | 3543/10000 [10:48<16:51,  6.39it/s]"
     ]
    },
    {
     "name": "stdout",
     "output_type": "stream",
     "text": [
      "Step 3540, train loss:1.5198, test loss:1.7289\n"
     ]
    },
    {
     "name": "stderr",
     "output_type": "stream",
     "text": [
      " 36%|█████████████████████████████████████████▌                                                                           | 3553/10000 [10:50<16:47,  6.40it/s]"
     ]
    },
    {
     "name": "stdout",
     "output_type": "stream",
     "text": [
      "Step 3550, train loss:1.5179, test loss:1.7306\n"
     ]
    },
    {
     "name": "stderr",
     "output_type": "stream",
     "text": [
      " 36%|█████████████████████████████████████████▋                                                                           | 3563/10000 [10:51<16:49,  6.38it/s]"
     ]
    },
    {
     "name": "stdout",
     "output_type": "stream",
     "text": [
      "Step 3560, train loss:1.5337, test loss:1.7224\n"
     ]
    },
    {
     "name": "stderr",
     "output_type": "stream",
     "text": [
      " 36%|█████████████████████████████████████████▊                                                                           | 3573/10000 [10:53<16:47,  6.38it/s]"
     ]
    },
    {
     "name": "stdout",
     "output_type": "stream",
     "text": [
      "Step 3570, train loss:1.5195, test loss:1.7198\n"
     ]
    },
    {
     "name": "stderr",
     "output_type": "stream",
     "text": [
      " 36%|█████████████████████████████████████████▉                                                                           | 3583/10000 [10:54<16:45,  6.38it/s]"
     ]
    },
    {
     "name": "stdout",
     "output_type": "stream",
     "text": [
      "Step 3580, train loss:1.5155, test loss:1.7440\n"
     ]
    },
    {
     "name": "stderr",
     "output_type": "stream",
     "text": [
      " 36%|██████████████████████████████████████████                                                                           | 3593/10000 [10:55<16:47,  6.36it/s]"
     ]
    },
    {
     "name": "stdout",
     "output_type": "stream",
     "text": [
      "Step 3590, train loss:1.5193, test loss:1.7254\n"
     ]
    },
    {
     "name": "stderr",
     "output_type": "stream",
     "text": [
      " 36%|██████████████████████████████████████████                                                                           | 3599/10000 [10:56<11:46,  9.06it/s]"
     ]
    },
    {
     "name": "stdout",
     "output_type": "stream",
     "text": [
      "Step 3600, train loss:1.5172, test loss:1.7328\n"
     ]
    },
    {
     "name": "stderr",
     "output_type": "stream",
     "text": [
      " 36%|█████████████████████████████████████████▍                                                                         | 3603/10000 [11:01<1:02:43,  1.70it/s]"
     ]
    },
    {
     "name": "stdout",
     "output_type": "stream",
     "text": [
      "\n",
      "\n",
      "ThRWISON:\n",
      "The bfinds full you.\n",
      "\n",
      "JULIET:\n",
      "What not smembs it drum the will; thy pasuan your found\n",
      "crownsent and couses--way, in beridely of uncleame;\n",
      "There pardon'd beath, he'el that are your let's my brother:\n",
      "Shall steel; for frittl'd kould to foot\n",
      "Merething bring home no made were\n",
      "Dist thou boyal her inforcious nor for\n",
      "The but a that up and the that housest it motrown,\n",
      "Beise you make told ress to our scroan.\n",
      "Abouter Persont, you bunder in tunter, made as eap,\n",
      "The pot Is ampteal Toldibleasure\n",
      "And mays in when dowernish and you'll hadge\n",
      "Yet good the from sway are and flatter,\n",
      "Have you, are they your hope, only wife\n",
      "Uhan in plisfess; and are in for sen;\n",
      "You'll himselves for war his her fasthere.\n",
      "\n",
      "COMINIO:\n",
      "Henry, mean I have denged more flattar!\n",
      "Your that Julietle shall common. Murdey, Pour last becandieg!\n",
      "Dish lits e fellow him.\n",
      "\n",
      "POMPEY:\n",
      "Tow, let, these of duce; a man aud befall;\n",
      "And life a God her manch falolong.\n",
      "\n",
      "DUKE OF CAURENCE:\n",
      "The gone! O, this drumpt mysings; and beholights if enry\n",
      "Step 3600, train loss:1.5136, test loss:1.7148\n"
     ]
    },
    {
     "name": "stderr",
     "output_type": "stream",
     "text": [
      " 36%|██████████████████████████████████████████▎                                                                          | 3613/10000 [11:02<24:22,  4.37it/s]"
     ]
    },
    {
     "name": "stdout",
     "output_type": "stream",
     "text": [
      "Step 3610, train loss:1.5170, test loss:1.7250\n"
     ]
    },
    {
     "name": "stderr",
     "output_type": "stream",
     "text": [
      " 36%|██████████████████████████████████████████▍                                                                          | 3623/10000 [11:04<17:54,  5.93it/s]"
     ]
    },
    {
     "name": "stdout",
     "output_type": "stream",
     "text": [
      "Step 3620, train loss:1.5168, test loss:1.7278\n"
     ]
    },
    {
     "name": "stderr",
     "output_type": "stream",
     "text": [
      " 36%|██████████████████████████████████████████▌                                                                          | 3633/10000 [11:05<16:49,  6.31it/s]"
     ]
    },
    {
     "name": "stdout",
     "output_type": "stream",
     "text": [
      "Step 3630, train loss:1.5125, test loss:1.7223\n"
     ]
    },
    {
     "name": "stderr",
     "output_type": "stream",
     "text": [
      " 36%|██████████████████████████████████████████▌                                                                          | 3643/10000 [11:07<16:37,  6.38it/s]"
     ]
    },
    {
     "name": "stdout",
     "output_type": "stream",
     "text": [
      "Step 3640, train loss:1.5141, test loss:1.7243\n"
     ]
    },
    {
     "name": "stderr",
     "output_type": "stream",
     "text": [
      " 37%|██████████████████████████████████████████▋                                                                          | 3651/10000 [11:08<19:43,  5.36it/s]"
     ]
    },
    {
     "name": "stdout",
     "output_type": "stream",
     "text": [
      "Step 3650, train loss:1.5170, test loss:1.7271\n"
     ]
    },
    {
     "name": "stderr",
     "output_type": "stream",
     "text": [
      " 37%|██████████████████████████████████████████▊                                                                          | 3661/10000 [11:09<19:42,  5.36it/s]"
     ]
    },
    {
     "name": "stdout",
     "output_type": "stream",
     "text": [
      "Step 3660, train loss:1.5129, test loss:1.7301\n"
     ]
    },
    {
     "name": "stderr",
     "output_type": "stream",
     "text": [
      " 37%|██████████████████████████████████████████▉                                                                          | 3673/10000 [11:11<16:34,  6.36it/s]"
     ]
    },
    {
     "name": "stdout",
     "output_type": "stream",
     "text": [
      "Step 3670, train loss:1.5132, test loss:1.7156\n"
     ]
    },
    {
     "name": "stderr",
     "output_type": "stream",
     "text": [
      " 37%|███████████████████████████████████████████                                                                          | 3683/10000 [11:12<16:32,  6.36it/s]"
     ]
    },
    {
     "name": "stdout",
     "output_type": "stream",
     "text": [
      "Step 3680, train loss:1.5053, test loss:1.7416\n"
     ]
    },
    {
     "name": "stderr",
     "output_type": "stream",
     "text": [
      " 37%|███████████████████████████████████████████▏                                                                         | 3691/10000 [11:14<19:38,  5.35it/s]"
     ]
    },
    {
     "name": "stdout",
     "output_type": "stream",
     "text": [
      "Step 3690, train loss:1.5074, test loss:1.7183\n"
     ]
    },
    {
     "name": "stderr",
     "output_type": "stream",
     "text": [
      " 37%|███████████████████████████████████████████▎                                                                         | 3699/10000 [11:14<11:38,  9.03it/s]"
     ]
    },
    {
     "name": "stdout",
     "output_type": "stream",
     "text": [
      "Step 3700, train loss:1.5126, test loss:1.7214\n"
     ]
    },
    {
     "name": "stderr",
     "output_type": "stream",
     "text": [
      " 37%|██████████████████████████████████████████▌                                                                        | 3703/10000 [11:19<1:01:43,  1.70it/s]"
     ]
    },
    {
     "name": "stdout",
     "output_type": "stream",
     "text": [
      "\n",
      "\n",
      "YORKEN:\n",
      "No, lies you art a lamband.\n",
      "\n",
      "CLARENCE:\n",
      "Good me hath a noble poier tongue essibrect.\n",
      "\n",
      "GLOUCESTER:\n",
      "Your you grans; and unshitel me, many not falsh.\n",
      "Cook I repul make day; for I take King;\n",
      "The hate be, comes o' a ter? in take limber,\n",
      "That not, when you men; in the like\n",
      "Bear set your farset that cires may in thou,\n",
      "That wounds appeach bettends him, whom do right.\n",
      "\n",
      "Sessess wish will twick madam! from Juch beed\n",
      "The live was even brokes mine old,\n",
      "Deh upon and show clowlanous\n",
      "Bring friel I fider him stituted rustigal this\n",
      "Aroth honour hand friends\n",
      "Where dead to the can my pitience!\n",
      "Why, now may prison, with himstrung smant blut:\n",
      "I'll come to unhose red,\n",
      "By hourt with in the breathe bear, from airy.\n",
      "\n",
      "LEONTES:\n",
      "You care in myself will thee, angerowal thy kind realion,\n",
      "Patile to inteluse limels, good of our blung.\n",
      "\n",
      "MONTAGUE:\n",
      "Towe the find at this Mannels, I will:\n",
      "But be seeb; and plock:\n",
      "You are that a bedral I about.\n",
      "\n",
      "First Servingman:\n",
      "At ittrumpt then to did that unclise an than storn bear\n",
      "Step 3700, train loss:1.5139, test loss:1.7272\n"
     ]
    },
    {
     "name": "stderr",
     "output_type": "stream",
     "text": [
      " 37%|███████████████████████████████████████████▍                                                                         | 3713/10000 [11:21<23:57,  4.37it/s]"
     ]
    },
    {
     "name": "stdout",
     "output_type": "stream",
     "text": [
      "Step 3710, train loss:1.5143, test loss:1.7106\n"
     ]
    },
    {
     "name": "stderr",
     "output_type": "stream",
     "text": [
      " 37%|███████████████████████████████████████████▌                                                                         | 3723/10000 [11:22<17:34,  5.95it/s]"
     ]
    },
    {
     "name": "stdout",
     "output_type": "stream",
     "text": [
      "Step 3720, train loss:1.5070, test loss:1.7218\n"
     ]
    },
    {
     "name": "stderr",
     "output_type": "stream",
     "text": [
      " 37%|███████████████████████████████████████████▋                                                                         | 3733/10000 [11:23<16:33,  6.31it/s]"
     ]
    },
    {
     "name": "stdout",
     "output_type": "stream",
     "text": [
      "Step 3730, train loss:1.5059, test loss:1.7089\n"
     ]
    },
    {
     "name": "stderr",
     "output_type": "stream",
     "text": [
      " 37%|███████████████████████████████████████████▊                                                                         | 3743/10000 [11:25<16:21,  6.37it/s]"
     ]
    },
    {
     "name": "stdout",
     "output_type": "stream",
     "text": [
      "Step 3740, train loss:1.5120, test loss:1.7268\n"
     ]
    },
    {
     "name": "stderr",
     "output_type": "stream",
     "text": [
      " 38%|███████████████████████████████████████████▉                                                                         | 3753/10000 [11:26<16:19,  6.38it/s]"
     ]
    },
    {
     "name": "stdout",
     "output_type": "stream",
     "text": [
      "Step 3750, train loss:1.4995, test loss:1.7324\n"
     ]
    },
    {
     "name": "stderr",
     "output_type": "stream",
     "text": [
      " 38%|████████████████████████████████████████████                                                                         | 3763/10000 [11:28<16:19,  6.37it/s]"
     ]
    },
    {
     "name": "stdout",
     "output_type": "stream",
     "text": [
      "Step 3760, train loss:1.5094, test loss:1.7128\n"
     ]
    },
    {
     "name": "stderr",
     "output_type": "stream",
     "text": [
      " 38%|████████████████████████████████████████████                                                                         | 3771/10000 [11:29<19:24,  5.35it/s]"
     ]
    },
    {
     "name": "stdout",
     "output_type": "stream",
     "text": [
      "Step 3770, train loss:1.5027, test loss:1.7225\n"
     ]
    },
    {
     "name": "stderr",
     "output_type": "stream",
     "text": [
      " 38%|████████████████████████████████████████████▎                                                                        | 3783/10000 [11:31<16:19,  6.35it/s]"
     ]
    },
    {
     "name": "stdout",
     "output_type": "stream",
     "text": [
      "Step 3780, train loss:1.5146, test loss:1.7227\n"
     ]
    },
    {
     "name": "stderr",
     "output_type": "stream",
     "text": [
      " 38%|████████████████████████████████████████████▍                                                                        | 3793/10000 [11:32<16:17,  6.35it/s]"
     ]
    },
    {
     "name": "stdout",
     "output_type": "stream",
     "text": [
      "Step 3790, train loss:1.5045, test loss:1.7351\n"
     ]
    },
    {
     "name": "stderr",
     "output_type": "stream",
     "text": [
      " 38%|████████████████████████████████████████████▍                                                                        | 3799/10000 [11:33<11:27,  9.02it/s]"
     ]
    },
    {
     "name": "stdout",
     "output_type": "stream",
     "text": [
      "Step 3800, train loss:1.4979, test loss:1.7308\n"
     ]
    },
    {
     "name": "stderr",
     "output_type": "stream",
     "text": [
      " 38%|███████████████████████████████████████████▋                                                                       | 3803/10000 [11:38<1:03:45,  1.62it/s]"
     ]
    },
    {
     "name": "stdout",
     "output_type": "stream",
     "text": [
      "\n",
      "\n",
      "ISABELLA:\n",
      "Pondance to make gods it not\n",
      "show do why for mererious so, doing Perce:\n",
      "To liberch, hard, younder non the our dears\n",
      "To heir state overtraitors, more was let my lo.\n",
      "\n",
      "MERCUTIO:\n",
      "Welcome his grip: you do good to ply touche\n",
      "Jest wont good shept the offence. I'll shear fault;\n",
      "I the given becred, and I'll giver plovise 'twere well:\n",
      "You ceins eace?\n",
      "\n",
      "DUKE VINCENTIO:\n",
      "Be two come.\n",
      "\n",
      "Lord:\n",
      "How he bell you, abair what's shame cording. Comines on,\n",
      "Help inch that your trule, I cloody that comather, cotion you have\n",
      "That have sport. You have on of panticents and all rough\n",
      "That what hour will such his lead all not agains:\n",
      "I had such from to face, go forrow,\n",
      "And not banishmens gooding His this diserlows:\n",
      "For that's ableet lime or his poison:\n",
      "When his how his proud wife?\n",
      "\n",
      "COMPEY:\n",
      "'Tis true, Isave, make bady!\n",
      "\n",
      "Clown:\n",
      "Richori's than stomperoft and gressural:\n",
      "Thou dest manings bide them'? do;\n",
      "To us tital he hed woman, when at distrish'd harth,\n",
      "To vaunter bravest to Coroy'd; if can in burther serves\n",
      "\n",
      "Step 3800, train loss:1.4923, test loss:1.7112\n"
     ]
    },
    {
     "name": "stderr",
     "output_type": "stream",
     "text": [
      " 38%|████████████████████████████████████████████▌                                                                        | 3813/10000 [11:39<24:07,  4.27it/s]"
     ]
    },
    {
     "name": "stdout",
     "output_type": "stream",
     "text": [
      "Step 3810, train loss:1.5091, test loss:1.7132\n"
     ]
    },
    {
     "name": "stderr",
     "output_type": "stream",
     "text": [
      " 38%|████████████████████████████████████████████▋                                                                        | 3823/10000 [11:41<17:31,  5.88it/s]"
     ]
    },
    {
     "name": "stdout",
     "output_type": "stream",
     "text": [
      "Step 3820, train loss:1.5106, test loss:1.7221\n"
     ]
    },
    {
     "name": "stderr",
     "output_type": "stream",
     "text": [
      " 38%|████████████████████████████████████████████▊                                                                        | 3831/10000 [11:42<19:35,  5.25it/s]"
     ]
    },
    {
     "name": "stdout",
     "output_type": "stream",
     "text": [
      "Step 3830, train loss:1.5092, test loss:1.7101\n"
     ]
    },
    {
     "name": "stderr",
     "output_type": "stream",
     "text": [
      " 38%|████████████████████████████████████████████▉                                                                        | 3843/10000 [11:44<16:12,  6.33it/s]"
     ]
    },
    {
     "name": "stdout",
     "output_type": "stream",
     "text": [
      "Step 3840, train loss:1.4968, test loss:1.7041\n"
     ]
    },
    {
     "name": "stderr",
     "output_type": "stream",
     "text": [
      " 39%|█████████████████████████████████████████████                                                                        | 3851/10000 [11:45<19:14,  5.32it/s]"
     ]
    },
    {
     "name": "stdout",
     "output_type": "stream",
     "text": [
      "Step 3850, train loss:1.5129, test loss:1.7301\n"
     ]
    },
    {
     "name": "stderr",
     "output_type": "stream",
     "text": [
      " 39%|█████████████████████████████████████████████▏                                                                       | 3861/10000 [11:46<19:14,  5.32it/s]"
     ]
    },
    {
     "name": "stdout",
     "output_type": "stream",
     "text": [
      "Step 3860, train loss:1.5046, test loss:1.7209\n"
     ]
    },
    {
     "name": "stderr",
     "output_type": "stream",
     "text": [
      " 39%|█████████████████████████████████████████████▎                                                                       | 3873/10000 [11:48<16:11,  6.31it/s]"
     ]
    },
    {
     "name": "stdout",
     "output_type": "stream",
     "text": [
      "Step 3870, train loss:1.5200, test loss:1.7209\n"
     ]
    },
    {
     "name": "stderr",
     "output_type": "stream",
     "text": [
      " 39%|█████████████████████████████████████████████▍                                                                       | 3881/10000 [11:49<19:14,  5.30it/s]"
     ]
    },
    {
     "name": "stdout",
     "output_type": "stream",
     "text": [
      "Step 3880, train loss:1.4952, test loss:1.7030\n"
     ]
    },
    {
     "name": "stderr",
     "output_type": "stream",
     "text": [
      " 39%|█████████████████████████████████████████████▌                                                                       | 3891/10000 [11:51<19:12,  5.30it/s]"
     ]
    },
    {
     "name": "stdout",
     "output_type": "stream",
     "text": [
      "Step 3890, train loss:1.5070, test loss:1.7209\n"
     ]
    },
    {
     "name": "stderr",
     "output_type": "stream",
     "text": [
      " 39%|█████████████████████████████████████████████▌                                                                       | 3899/10000 [11:51<11:20,  8.96it/s]"
     ]
    },
    {
     "name": "stdout",
     "output_type": "stream",
     "text": [
      "Step 3900, train loss:1.4939, test loss:1.7150\n"
     ]
    },
    {
     "name": "stderr",
     "output_type": "stream",
     "text": [
      " 39%|████████████████████████████████████████████▉                                                                      | 3903/10000 [11:56<1:02:24,  1.63it/s]"
     ]
    },
    {
     "name": "stdout",
     "output_type": "stream",
     "text": [
      "\n",
      "\n",
      "PAULINA:\n",
      "So thou were throut?\n",
      "\n",
      "GLOUCESTER:\n",
      "Anger will him could Life:\n",
      "Lord Servingmen Noel: gries our caught\n",
      "That they that canse we have her open time: more that thou now-dear from our bring\n",
      "With sweet your breasone either king,\n",
      "Worst, stander, for the revenst duke is,\n",
      "Didst us voling look'd his spect.\n",
      "\n",
      "PAULINABERDUTK:\n",
      "Calliamners;\n",
      "What shalt the mantwes me me would.\n",
      "\n",
      "Third Margaren!' ane Gersel fled desirew curse;\n",
      "Stroknstroning that lords.\n",
      "\n",
      "CORIOLANUS:\n",
      "What I your know, see sileroy-hard!\n",
      "A serves meep my heard? What, their I have comes exessing;\n",
      "Warwick and prince's lives no ine-pated of the dafend\n",
      "Than and thumbleings, e'er say,\n",
      "But a ampate-ped, to all when at so'roble;\n",
      "And no did leave hate even in brary; and rone counsed.\n",
      "\n",
      "ISABELLO:\n",
      "Stay, any the not men well: glorior frather'd an finces, sir.\n",
      "\n",
      "HENRY BOLINGBROKE:\n",
      "Why, idor John heads: he sawdings male,\n",
      "That in the made is's attends withouth any hand\n",
      "Wath here!\n",
      "Didice-curry enhall have the crown,\n",
      "That tear another!\n",
      "Why, have may \n",
      "Step 3900, train loss:1.4979, test loss:1.7249\n"
     ]
    },
    {
     "name": "stderr",
     "output_type": "stream",
     "text": [
      " 39%|█████████████████████████████████████████████▊                                                                       | 3913/10000 [11:58<23:36,  4.30it/s]"
     ]
    },
    {
     "name": "stdout",
     "output_type": "stream",
     "text": [
      "Step 3910, train loss:1.5033, test loss:1.7251\n"
     ]
    },
    {
     "name": "stderr",
     "output_type": "stream",
     "text": [
      " 39%|█████████████████████████████████████████████▉                                                                       | 3923/10000 [11:59<17:06,  5.92it/s]"
     ]
    },
    {
     "name": "stdout",
     "output_type": "stream",
     "text": [
      "Step 3920, train loss:1.5043, test loss:1.7184\n"
     ]
    },
    {
     "name": "stderr",
     "output_type": "stream",
     "text": [
      " 39%|██████████████████████████████████████████████                                                                       | 3933/10000 [12:01<16:00,  6.31it/s]"
     ]
    },
    {
     "name": "stdout",
     "output_type": "stream",
     "text": [
      "Step 3930, train loss:1.4963, test loss:1.7144\n"
     ]
    },
    {
     "name": "stderr",
     "output_type": "stream",
     "text": [
      " 39%|██████████████████████████████████████████████▏                                                                      | 3943/10000 [12:02<15:51,  6.37it/s]"
     ]
    },
    {
     "name": "stdout",
     "output_type": "stream",
     "text": [
      "Step 3940, train loss:1.4969, test loss:1.7176\n"
     ]
    },
    {
     "name": "stderr",
     "output_type": "stream",
     "text": [
      " 40%|██████████████████████████████████████████████▎                                                                      | 3953/10000 [12:04<15:47,  6.38it/s]"
     ]
    },
    {
     "name": "stdout",
     "output_type": "stream",
     "text": [
      "Step 3950, train loss:1.4983, test loss:1.7158\n"
     ]
    },
    {
     "name": "stderr",
     "output_type": "stream",
     "text": [
      " 40%|██████████████████████████████████████████████▎                                                                      | 3961/10000 [12:05<18:48,  5.35it/s]"
     ]
    },
    {
     "name": "stdout",
     "output_type": "stream",
     "text": [
      "Step 3960, train loss:1.4892, test loss:1.7068\n"
     ]
    },
    {
     "name": "stderr",
     "output_type": "stream",
     "text": [
      " 40%|██████████████████████████████████████████████▍                                                                      | 3971/10000 [12:06<18:45,  5.36it/s]"
     ]
    },
    {
     "name": "stdout",
     "output_type": "stream",
     "text": [
      "Step 3970, train loss:1.4921, test loss:1.7045\n"
     ]
    },
    {
     "name": "stderr",
     "output_type": "stream",
     "text": [
      " 40%|██████████████████████████████████████████████▌                                                                      | 3981/10000 [12:08<18:43,  5.36it/s]"
     ]
    },
    {
     "name": "stdout",
     "output_type": "stream",
     "text": [
      "Step 3980, train loss:1.4733, test loss:1.6819\n"
     ]
    },
    {
     "name": "stderr",
     "output_type": "stream",
     "text": [
      " 40%|██████████████████████████████████████████████▋                                                                      | 3993/10000 [12:09<15:45,  6.35it/s]"
     ]
    },
    {
     "name": "stdout",
     "output_type": "stream",
     "text": [
      "Step 3990, train loss:1.5041, test loss:1.7066\n"
     ]
    },
    {
     "name": "stderr",
     "output_type": "stream",
     "text": [
      " 40%|██████████████████████████████████████████████▊                                                                      | 3999/10000 [12:10<11:05,  9.02it/s]"
     ]
    },
    {
     "name": "stdout",
     "output_type": "stream",
     "text": [
      "Step 4000, train loss:1.4894, test loss:1.7188\n"
     ]
    },
    {
     "name": "stderr",
     "output_type": "stream",
     "text": [
      " 40%|██████████████████████████████████████████████▊                                                                      | 4003/10000 [12:15<58:46,  1.70it/s]"
     ]
    },
    {
     "name": "stdout",
     "output_type": "stream",
     "text": [
      "\n",
      "\n",
      "MARCIUS:\n",
      "I'll yet of Sucken our requeen.\n",
      "\n",
      "MOMENIUS:\n",
      "Lear, you powers me to much a craved, maliffy brave's peach.\n",
      "\n",
      "She'll cled have seeming aways for I will of you. Are,\n",
      "Who, it mean cursess that?\n",
      "\n",
      "CLARENCE:\n",
      "Morcius comb with yourself it evol.\n",
      "\n",
      "FRIAR LAURENCE:\n",
      "Unless, them relaim?\n",
      "\n",
      "WOMPOY:\n",
      "You hath is to gue, Your awack\n",
      "Of give you like my good well.\n",
      "\n",
      "POMPEY:\n",
      "But be at meanine, or goid bloody other.\n",
      "\n",
      "First Lettains, and you to accuse, my forther\n",
      "chade in flest, rest my looks, so my rother'd.\n",
      "\n",
      "LADY GREY:\n",
      "Mercy:\n",
      "Come the suns is own hath be that? spirt so,\n",
      "Stand for conce so;\n",
      "Your must not betwer him? name, for years with himself\n",
      "Fortunchear, Henry'll bears crown.\n",
      "\n",
      "MBANUS:\n",
      "O know thy tell-weep, you home; with this?\n",
      "\n",
      "First Soleness do twifts,\n",
      "And fair at your pray you;\n",
      "In bold so, and, I kissed my vaid by angel nemale hapleven,\n",
      "Nor that Glouck to my lords!\n",
      "\n",
      "KING LEWIS XI:\n",
      "To made to part To strike be, no more desh I\n",
      "Hen airoat to be so young\n",
      "To honour more staps mucheddes: gess: his coubli\n",
      "Step 4000, train loss:1.4854, test loss:1.7048\n"
     ]
    },
    {
     "name": "stderr",
     "output_type": "stream",
     "text": [
      " 40%|██████████████████████████████████████████████▉                                                                      | 4013/10000 [12:16<22:48,  4.38it/s]"
     ]
    },
    {
     "name": "stdout",
     "output_type": "stream",
     "text": [
      "Step 4010, train loss:1.4961, test loss:1.7146\n"
     ]
    },
    {
     "name": "stderr",
     "output_type": "stream",
     "text": [
      " 40%|███████████████████████████████████████████████                                                                      | 4023/10000 [12:18<16:45,  5.95it/s]"
     ]
    },
    {
     "name": "stdout",
     "output_type": "stream",
     "text": [
      "Step 4020, train loss:1.5007, test loss:1.7164\n"
     ]
    },
    {
     "name": "stderr",
     "output_type": "stream",
     "text": [
      " 40%|███████████████████████████████████████████████▏                                                                     | 4033/10000 [12:19<15:43,  6.33it/s]"
     ]
    },
    {
     "name": "stdout",
     "output_type": "stream",
     "text": [
      "Step 4030, train loss:1.4827, test loss:1.7059\n"
     ]
    },
    {
     "name": "stderr",
     "output_type": "stream",
     "text": [
      " 40%|███████████████████████████████████████████████▎                                                                     | 4041/10000 [12:20<18:30,  5.36it/s]"
     ]
    },
    {
     "name": "stdout",
     "output_type": "stream",
     "text": [
      "Step 4040, train loss:1.4856, test loss:1.7030\n"
     ]
    },
    {
     "name": "stderr",
     "output_type": "stream",
     "text": [
      " 41%|███████████████████████████████████████████████▍                                                                     | 4053/10000 [12:22<15:33,  6.37it/s]"
     ]
    },
    {
     "name": "stdout",
     "output_type": "stream",
     "text": [
      "Step 4050, train loss:1.4843, test loss:1.7010\n"
     ]
    },
    {
     "name": "stderr",
     "output_type": "stream",
     "text": [
      " 41%|███████████████████████████████████████████████▌                                                                     | 4063/10000 [12:23<15:30,  6.38it/s]"
     ]
    },
    {
     "name": "stdout",
     "output_type": "stream",
     "text": [
      "Step 4060, train loss:1.4948, test loss:1.7214\n"
     ]
    },
    {
     "name": "stderr",
     "output_type": "stream",
     "text": [
      " 41%|███████████████████████████████████████████████▋                                                                     | 4073/10000 [12:25<15:32,  6.36it/s]"
     ]
    },
    {
     "name": "stdout",
     "output_type": "stream",
     "text": [
      "Step 4070, train loss:1.4890, test loss:1.7034\n"
     ]
    },
    {
     "name": "stderr",
     "output_type": "stream",
     "text": [
      " 41%|███████████████████████████████████████████████▊                                                                     | 4083/10000 [12:26<15:30,  6.36it/s]"
     ]
    },
    {
     "name": "stdout",
     "output_type": "stream",
     "text": [
      "Step 4080, train loss:1.4869, test loss:1.7100\n"
     ]
    },
    {
     "name": "stderr",
     "output_type": "stream",
     "text": [
      " 41%|███████████████████████████████████████████████▉                                                                     | 4093/10000 [12:28<15:29,  6.36it/s]"
     ]
    },
    {
     "name": "stdout",
     "output_type": "stream",
     "text": [
      "Step 4090, train loss:1.4835, test loss:1.7142\n"
     ]
    },
    {
     "name": "stderr",
     "output_type": "stream",
     "text": [
      " 41%|███████████████████████████████████████████████▉                                                                     | 4099/10000 [12:28<10:53,  9.03it/s]"
     ]
    },
    {
     "name": "stdout",
     "output_type": "stream",
     "text": [
      "Step 4100, train loss:1.4795, test loss:1.6951\n"
     ]
    },
    {
     "name": "stderr",
     "output_type": "stream",
     "text": [
      " 41%|████████████████████████████████████████████████                                                                     | 4103/10000 [12:33<57:49,  1.70it/s]"
     ]
    },
    {
     "name": "stdout",
     "output_type": "stream",
     "text": [
      "\n",
      "\n",
      "KING EDWARD IV:\n",
      "Bropenied, and with call against she awort up come\n",
      "Will sleher to because: you?\n",
      "\n",
      "Lord Herrance many,--fed?\n",
      "\n",
      "DORSET:\n",
      "Servant:\n",
      "And alive mercy commans him goneto\n",
      "And was fair governaliance to our make fathot cause\n",
      "And reason of God's take my troth hand by livess\n",
      "Your mather: keep of too beg's villain!\n",
      "Yet so smilter'd, I have was purpone toward\n",
      "They's after than them the\n",
      "perset some armon shall disclight in obed,\n",
      "But, then woo to the itives crave you come;\n",
      "That I have soul man? my gone;\n",
      "Yet how hangel have nothing ext lauging our conderor;\n",
      "Stide me quief, inness sir; at one the cantatingtoral of dnease and\n",
      "Whose thou are that of male gentless his\n",
      "As it lark in the brots tongue\n",
      "That wound up an evil to time to mister in\n",
      "A all not lafe, a word, dishoutings argalms, would rebold cattend.\n",
      "\n",
      "First Murderer:\n",
      "He, and all kinsely your mouths. You mark?\n",
      "\n",
      "KING LEWIO:\n",
      "They they sound yes name?\n",
      "\n",
      "BRUTUS:\n",
      "Mortule, us begempless on\n",
      "The fast of but indrean, still weapent my drink? Hereman\n",
      "Step 4100, train loss:1.4835, test loss:1.6957\n"
     ]
    },
    {
     "name": "stderr",
     "output_type": "stream",
     "text": [
      " 41%|████████████████████████████████████████████████                                                                     | 4113/10000 [12:35<22:23,  4.38it/s]"
     ]
    },
    {
     "name": "stdout",
     "output_type": "stream",
     "text": [
      "Step 4110, train loss:1.4856, test loss:1.7042\n"
     ]
    },
    {
     "name": "stderr",
     "output_type": "stream",
     "text": [
      " 41%|████████████████████████████████████████████████▏                                                                    | 4123/10000 [12:36<16:31,  5.93it/s]"
     ]
    },
    {
     "name": "stdout",
     "output_type": "stream",
     "text": [
      "Step 4120, train loss:1.4963, test loss:1.7237\n"
     ]
    },
    {
     "name": "stderr",
     "output_type": "stream",
     "text": [
      " 41%|████████████████████████████████████████████████▎                                                                    | 4133/10000 [12:37<15:31,  6.30it/s]"
     ]
    },
    {
     "name": "stdout",
     "output_type": "stream",
     "text": [
      "Step 4130, train loss:1.4830, test loss:1.7112\n"
     ]
    },
    {
     "name": "stderr",
     "output_type": "stream",
     "text": [
      " 41%|████████████████████████████████████████████████▍                                                                    | 4143/10000 [12:39<15:20,  6.36it/s]"
     ]
    },
    {
     "name": "stdout",
     "output_type": "stream",
     "text": [
      "Step 4140, train loss:1.4888, test loss:1.7092\n"
     ]
    },
    {
     "name": "stderr",
     "output_type": "stream",
     "text": [
      " 42%|████████████████████████████████████████████████▌                                                                    | 4153/10000 [12:40<15:18,  6.37it/s]"
     ]
    },
    {
     "name": "stdout",
     "output_type": "stream",
     "text": [
      "Step 4150, train loss:1.4897, test loss:1.7016\n"
     ]
    },
    {
     "name": "stderr",
     "output_type": "stream",
     "text": [
      " 42%|████████████████████████████████████████████████▋                                                                    | 4163/10000 [12:42<15:14,  6.38it/s]"
     ]
    },
    {
     "name": "stdout",
     "output_type": "stream",
     "text": [
      "Step 4160, train loss:1.4869, test loss:1.7131\n"
     ]
    },
    {
     "name": "stderr",
     "output_type": "stream",
     "text": [
      " 42%|████████████████████████████████████████████████▊                                                                    | 4173/10000 [12:43<15:16,  6.36it/s]"
     ]
    },
    {
     "name": "stdout",
     "output_type": "stream",
     "text": [
      "Step 4170, train loss:1.4845, test loss:1.7187\n"
     ]
    },
    {
     "name": "stderr",
     "output_type": "stream",
     "text": [
      " 42%|████████████████████████████████████████████████▉                                                                    | 4181/10000 [12:44<18:06,  5.36it/s]"
     ]
    },
    {
     "name": "stdout",
     "output_type": "stream",
     "text": [
      "Step 4180, train loss:1.4824, test loss:1.7067\n"
     ]
    },
    {
     "name": "stderr",
     "output_type": "stream",
     "text": [
      " 42%|█████████████████████████████████████████████████                                                                    | 4193/10000 [12:46<15:13,  6.36it/s]"
     ]
    },
    {
     "name": "stdout",
     "output_type": "stream",
     "text": [
      "Step 4190, train loss:1.4820, test loss:1.7118\n"
     ]
    },
    {
     "name": "stderr",
     "output_type": "stream",
     "text": [
      " 42%|█████████████████████████████████████████████████▏                                                                   | 4199/10000 [12:46<10:42,  9.03it/s]"
     ]
    },
    {
     "name": "stdout",
     "output_type": "stream",
     "text": [
      "Step 4200, train loss:1.4756, test loss:1.7111\n"
     ]
    },
    {
     "name": "stderr",
     "output_type": "stream",
     "text": [
      " 42%|█████████████████████████████████████████████████▏                                                                   | 4203/10000 [12:51<56:42,  1.70it/s]"
     ]
    },
    {
     "name": "stdout",
     "output_type": "stream",
     "text": [
      "\n",
      "\n",
      "First Lord:\n",
      "'Though sir, O, uncles 'dow it is your bloestrition;\n",
      "that half to bard, of Rome, Murdicious bureful minds.\n",
      "\n",
      "LADY GREY:\n",
      "O, go, I firge a gentle bravest; Rome;\n",
      "And lay. I do there all lo,\n",
      "Were pears the shalt shall the rest; on extress counted,\n",
      "As to his and come to she heaven'd.\n",
      "\n",
      "TYBALT:\n",
      "Noing that Henry rights will twenty than has\n",
      "As everaget, will up this 'land's a sweep'd:\n",
      "Of thee, be merlines?\n",
      "\n",
      "ISABELLA:\n",
      "O, what ever enys troon unto setral with thee,\n",
      "By up, it wallower the preflelings as onjest,\n",
      "Though to died, and's adgalorouse:\n",
      "And not wearent this death, and dead, give head warricl's pillows:\n",
      "Prokings true that of man, deverge. Purse man?\n",
      "If this here some o' I hear?\n",
      "Serve than such a disphorous;\n",
      "For with that 'gue: I not all some put for then\n",
      "What tastined have both true profution\n",
      "Where is tainted ensured and buised up toccetimeful demes\n",
      "Nlad, what is speak we done. The despose to being Citizen:\n",
      "Forb:\n",
      "If will swear collow thee thing;\n",
      "And I conquiriford had horn,--fat\n",
      "Step 4200, train loss:1.4843, test loss:1.7316\n"
     ]
    },
    {
     "name": "stderr",
     "output_type": "stream",
     "text": [
      " 42%|█████████████████████████████████████████████████▎                                                                   | 4213/10000 [12:53<22:04,  4.37it/s]"
     ]
    },
    {
     "name": "stdout",
     "output_type": "stream",
     "text": [
      "Step 4210, train loss:1.4860, test loss:1.6837\n"
     ]
    },
    {
     "name": "stderr",
     "output_type": "stream",
     "text": [
      " 42%|█████████████████████████████████████████████████▍                                                                   | 4221/10000 [12:54<19:29,  4.94it/s]"
     ]
    },
    {
     "name": "stdout",
     "output_type": "stream",
     "text": [
      "Step 4220, train loss:1.4732, test loss:1.7123\n"
     ]
    },
    {
     "name": "stderr",
     "output_type": "stream",
     "text": [
      " 42%|█████████████████████████████████████████████████▌                                                                   | 4233/10000 [12:56<15:12,  6.32it/s]"
     ]
    },
    {
     "name": "stdout",
     "output_type": "stream",
     "text": [
      "Step 4230, train loss:1.4833, test loss:1.7233\n"
     ]
    },
    {
     "name": "stderr",
     "output_type": "stream",
     "text": [
      " 42%|█████████████████████████████████████████████████▋                                                                   | 4243/10000 [12:57<15:03,  6.37it/s]"
     ]
    },
    {
     "name": "stdout",
     "output_type": "stream",
     "text": [
      "Step 4240, train loss:1.4889, test loss:1.6956\n"
     ]
    },
    {
     "name": "stderr",
     "output_type": "stream",
     "text": [
      " 43%|█████████████████████████████████████████████████▊                                                                   | 4253/10000 [12:59<15:02,  6.37it/s]"
     ]
    },
    {
     "name": "stdout",
     "output_type": "stream",
     "text": [
      "Step 4250, train loss:1.4775, test loss:1.7092\n"
     ]
    },
    {
     "name": "stderr",
     "output_type": "stream",
     "text": [
      " 43%|█████████████████████████████████████████████████▉                                                                   | 4263/10000 [13:00<14:59,  6.38it/s]"
     ]
    },
    {
     "name": "stdout",
     "output_type": "stream",
     "text": [
      "Step 4260, train loss:1.4652, test loss:1.7122\n"
     ]
    },
    {
     "name": "stderr",
     "output_type": "stream",
     "text": [
      " 43%|█████████████████████████████████████████████████▉                                                                   | 4273/10000 [13:01<14:59,  6.37it/s]"
     ]
    },
    {
     "name": "stdout",
     "output_type": "stream",
     "text": [
      "Step 4270, train loss:1.4888, test loss:1.6965\n"
     ]
    },
    {
     "name": "stderr",
     "output_type": "stream",
     "text": [
      " 43%|██████████████████████████████████████████████████                                                                   | 4283/10000 [13:03<14:59,  6.35it/s]"
     ]
    },
    {
     "name": "stdout",
     "output_type": "stream",
     "text": [
      "Step 4280, train loss:1.4756, test loss:1.6949\n"
     ]
    },
    {
     "name": "stderr",
     "output_type": "stream",
     "text": [
      " 43%|██████████████████████████████████████████████████▏                                                                  | 4293/10000 [13:04<14:57,  6.36it/s]"
     ]
    },
    {
     "name": "stdout",
     "output_type": "stream",
     "text": [
      "Step 4290, train loss:1.4755, test loss:1.6993\n"
     ]
    },
    {
     "name": "stderr",
     "output_type": "stream",
     "text": [
      " 43%|██████████████████████████████████████████████████▎                                                                  | 4299/10000 [13:05<10:31,  9.03it/s]"
     ]
    },
    {
     "name": "stdout",
     "output_type": "stream",
     "text": [
      "Step 4300, train loss:1.4793, test loss:1.7176\n"
     ]
    },
    {
     "name": "stderr",
     "output_type": "stream",
     "text": [
      " 43%|██████████████████████████████████████████████████▎                                                                  | 4303/10000 [13:10<55:53,  1.70it/s]"
     ]
    },
    {
     "name": "stdout",
     "output_type": "stream",
     "text": [
      "\n",
      "\n",
      "NORTHUMBERLAND:\n",
      "Call What's Tybalt stray?\n",
      "\n",
      "AUFIDIUS:\n",
      "Go, speak.\n",
      "\n",
      "LEONTES:\n",
      "It to't; thy father, nothing the enamenty\n",
      "gaultering some is may pealt hath\n",
      "At like to pold be homegry, what?\n",
      "\n",
      "ISABELLA:\n",
      "No, then, as the will of love.\n",
      "Why, with their is a way if banl!\n",
      "\n",
      "LUCIO:\n",
      "While! not a want now have before in wroof,\n",
      "Whilst mease a daughtent bear\n",
      "And markerle with sthopey! which a shoop pardon\n",
      "Marry now, with noted, it a suifter'd:\n",
      "When fathering tears? do, good in poss beaums,\n",
      "Thou that man cut have a sword bly of thee.\n",
      "\n",
      "BRUTUS:\n",
      "Bear you nown.\n",
      "\n",
      "MARCIUS:\n",
      "And, I will it strong. I queen thy hope so'erlow'd such\n",
      "You amely drops. March,\n",
      "I knols has before is banish hoold's, and abone tremptiness\n",
      "he is to detrale he are hunt\n",
      "One gives pity: for your suz;\n",
      "And in confide the valmed for live himself\n",
      "You accused from cybers by they hot\n",
      "Mush other heaven dreamn'd? to Parish head!\n",
      "Is the company honour; what to unafice,\n",
      "To encrared what we all the will foing haunty be you have\n",
      "A far fied flatter fonce-h\n",
      "Step 4300, train loss:1.4753, test loss:1.7248\n"
     ]
    },
    {
     "name": "stderr",
     "output_type": "stream",
     "text": [
      " 43%|██████████████████████████████████████████████████▍                                                                  | 4313/10000 [13:11<21:43,  4.36it/s]"
     ]
    },
    {
     "name": "stdout",
     "output_type": "stream",
     "text": [
      "Step 4310, train loss:1.4836, test loss:1.7051\n"
     ]
    },
    {
     "name": "stderr",
     "output_type": "stream",
     "text": [
      " 43%|██████████████████████████████████████████████████▌                                                                  | 4323/10000 [13:13<16:02,  5.90it/s]"
     ]
    },
    {
     "name": "stdout",
     "output_type": "stream",
     "text": [
      "Step 4320, train loss:1.4785, test loss:1.6904\n"
     ]
    },
    {
     "name": "stderr",
     "output_type": "stream",
     "text": [
      " 43%|██████████████████████████████████████████████████▋                                                                  | 4333/10000 [13:14<15:04,  6.27it/s]"
     ]
    },
    {
     "name": "stdout",
     "output_type": "stream",
     "text": [
      "Step 4330, train loss:1.4667, test loss:1.7110\n"
     ]
    },
    {
     "name": "stderr",
     "output_type": "stream",
     "text": [
      " 43%|██████████████████████████████████████████████████▊                                                                  | 4343/10000 [13:15<14:54,  6.33it/s]"
     ]
    },
    {
     "name": "stdout",
     "output_type": "stream",
     "text": [
      "Step 4340, train loss:1.4706, test loss:1.6931\n"
     ]
    },
    {
     "name": "stderr",
     "output_type": "stream",
     "text": [
      " 44%|██████████████████████████████████████████████████▉                                                                  | 4353/10000 [13:17<14:50,  6.34it/s]"
     ]
    },
    {
     "name": "stdout",
     "output_type": "stream",
     "text": [
      "Step 4350, train loss:1.4595, test loss:1.7029\n"
     ]
    },
    {
     "name": "stderr",
     "output_type": "stream",
     "text": [
      " 44%|███████████████████████████████████████████████████                                                                  | 4361/10000 [13:18<17:39,  5.32it/s]"
     ]
    },
    {
     "name": "stdout",
     "output_type": "stream",
     "text": [
      "Step 4360, train loss:1.4701, test loss:1.6857\n"
     ]
    },
    {
     "name": "stderr",
     "output_type": "stream",
     "text": [
      " 44%|███████████████████████████████████████████████████▏                                                                 | 4371/10000 [13:20<17:39,  5.31it/s]"
     ]
    },
    {
     "name": "stdout",
     "output_type": "stream",
     "text": [
      "Step 4370, train loss:1.4613, test loss:1.6999\n"
     ]
    },
    {
     "name": "stderr",
     "output_type": "stream",
     "text": [
      " 44%|███████████████████████████████████████████████████▎                                                                 | 4383/10000 [13:21<14:49,  6.32it/s]"
     ]
    },
    {
     "name": "stdout",
     "output_type": "stream",
     "text": [
      "Step 4380, train loss:1.4628, test loss:1.6933\n"
     ]
    },
    {
     "name": "stderr",
     "output_type": "stream",
     "text": [
      " 44%|███████████████████████████████████████████████████▎                                                                 | 4391/10000 [13:22<17:37,  5.30it/s]"
     ]
    },
    {
     "name": "stdout",
     "output_type": "stream",
     "text": [
      "Step 4390, train loss:1.4743, test loss:1.6891\n"
     ]
    },
    {
     "name": "stderr",
     "output_type": "stream",
     "text": [
      " 44%|███████████████████████████████████████████████████▍                                                                 | 4399/10000 [13:23<10:22,  9.00it/s]"
     ]
    },
    {
     "name": "stdout",
     "output_type": "stream",
     "text": [
      "Step 4400, train loss:1.4677, test loss:1.6896\n"
     ]
    },
    {
     "name": "stderr",
     "output_type": "stream",
     "text": [
      " 44%|███████████████████████████████████████████████████▌                                                                 | 4403/10000 [13:28<55:00,  1.70it/s]"
     ]
    },
    {
     "name": "stdout",
     "output_type": "stream",
     "text": [
      "\n",
      "\n",
      "BISTMOLINGBALTHAS:\n",
      "This perfectiofs hearone.\n",
      "\n",
      "desenturpedged:\n",
      "His scault be comminds of lannot fally\n",
      "and awain voices in for now,\n",
      "He'll stay are craclion to the e'er on the worship,\n",
      "Is to cheek shall ever grave.\n",
      "Feace reason me, be soul arswers arm falms may\n",
      "ord come missixer strongs, Some that pointy.\n",
      "\n",
      "ANGE:\n",
      "Yea, Make grateth mour of adver morest honouried man.\n",
      "\n",
      "LUCIO:\n",
      "Yet her senter and intenced hand; and ther pare.\n",
      "\n",
      "First Servingman:\n",
      "Shepherd: when talse them all disagted with thy lad\n",
      "drunknow Jess not shall accrous for my call\n",
      "Firwipt to him; love him say is wither\n",
      "Bush obbery now, ten, their hear gracely?\n",
      "\n",
      "BURKINGHAM:\n",
      "Lordol make.\n",
      "\n",
      "NORFOLK:\n",
      "Noble!\n",
      "\n",
      "Lord:\n",
      "Drokepherds but are sackly patient all tradoter than young fathers\n",
      "Be frowns turn that thou ensure slop to befier than you,\n",
      "And sour blook and my keep a misel time\n",
      "Your have themsens to real gold to the rescall'd.\n",
      "I saizel will dead need what thou lost way\n",
      "enechop with troombly comerlaims, grodious Grought\n",
      "Turnsed make to twent ti\n",
      "Step 4400, train loss:1.4770, test loss:1.6885\n"
     ]
    },
    {
     "name": "stderr",
     "output_type": "stream",
     "text": [
      " 44%|███████████████████████████████████████████████████▋                                                                 | 4413/10000 [13:30<21:17,  4.37it/s]"
     ]
    },
    {
     "name": "stdout",
     "output_type": "stream",
     "text": [
      "Step 4410, train loss:1.4757, test loss:1.6873\n"
     ]
    },
    {
     "name": "stderr",
     "output_type": "stream",
     "text": [
      " 44%|███████████████████████████████████████████████████▋                                                                 | 4423/10000 [13:31<15:40,  5.93it/s]"
     ]
    },
    {
     "name": "stdout",
     "output_type": "stream",
     "text": [
      "Step 4420, train loss:1.4701, test loss:1.7047\n"
     ]
    },
    {
     "name": "stderr",
     "output_type": "stream",
     "text": [
      " 44%|███████████████████████████████████████████████████▊                                                                 | 4433/10000 [13:32<14:42,  6.31it/s]"
     ]
    },
    {
     "name": "stdout",
     "output_type": "stream",
     "text": [
      "Step 4430, train loss:1.4727, test loss:1.7068\n"
     ]
    },
    {
     "name": "stderr",
     "output_type": "stream",
     "text": [
      " 44%|███████████████████████████████████████████████████▉                                                                 | 4443/10000 [13:34<14:32,  6.37it/s]"
     ]
    },
    {
     "name": "stdout",
     "output_type": "stream",
     "text": [
      "Step 4440, train loss:1.4757, test loss:1.7190\n"
     ]
    },
    {
     "name": "stderr",
     "output_type": "stream",
     "text": [
      " 45%|████████████████████████████████████████████████████                                                                 | 4453/10000 [13:35<14:30,  6.37it/s]"
     ]
    },
    {
     "name": "stdout",
     "output_type": "stream",
     "text": [
      "Step 4450, train loss:1.4714, test loss:1.6892\n"
     ]
    },
    {
     "name": "stderr",
     "output_type": "stream",
     "text": [
      " 45%|████████████████████████████████████████████████████▏                                                                | 4463/10000 [13:37<14:29,  6.37it/s]"
     ]
    },
    {
     "name": "stdout",
     "output_type": "stream",
     "text": [
      "Step 4460, train loss:1.4649, test loss:1.7086\n"
     ]
    },
    {
     "name": "stderr",
     "output_type": "stream",
     "text": [
      " 45%|████████████████████████████████████████████████████▎                                                                | 4473/10000 [13:38<14:29,  6.36it/s]"
     ]
    },
    {
     "name": "stdout",
     "output_type": "stream",
     "text": [
      "Step 4470, train loss:1.4614, test loss:1.6894\n"
     ]
    },
    {
     "name": "stderr",
     "output_type": "stream",
     "text": [
      " 45%|████████████████████████████████████████████████████▍                                                                | 4483/10000 [13:40<14:28,  6.35it/s]"
     ]
    },
    {
     "name": "stdout",
     "output_type": "stream",
     "text": [
      "Step 4480, train loss:1.4620, test loss:1.6872\n"
     ]
    },
    {
     "name": "stderr",
     "output_type": "stream",
     "text": [
      " 45%|████████████████████████████████████████████████████▌                                                                | 4491/10000 [13:41<17:11,  5.34it/s]"
     ]
    },
    {
     "name": "stdout",
     "output_type": "stream",
     "text": [
      "Step 4490, train loss:1.4595, test loss:1.6935\n"
     ]
    },
    {
     "name": "stderr",
     "output_type": "stream",
     "text": [
      " 45%|████████████████████████████████████████████████████▋                                                                | 4499/10000 [13:41<10:10,  9.01it/s]"
     ]
    },
    {
     "name": "stdout",
     "output_type": "stream",
     "text": [
      "Step 4500, train loss:1.4722, test loss:1.6958\n"
     ]
    },
    {
     "name": "stderr",
     "output_type": "stream",
     "text": [
      " 45%|████████████████████████████████████████████████████▋                                                                | 4503/10000 [13:47<55:59,  1.64it/s]"
     ]
    },
    {
     "name": "stdout",
     "output_type": "stream",
     "text": [
      "\n",
      "\n",
      "ISABELLA:\n",
      "I know me for I hath tender thy griever;\n",
      "If I was my gallate the eaptity.\n",
      "\n",
      "POLIXENES:\n",
      "Nell, way necembellant her, wear\n",
      "But I thou bear again, sir.\n",
      "\n",
      "PERDITA:\n",
      "And I did taball,' aim to make onwey is company.\n",
      "3 Tyrraw be no him tright.\n",
      "\n",
      "CORIOLANUS:\n",
      "Broyfards, never so might.\n",
      "I would this their glotter.\n",
      "Bold swign I am holy that this true,\n",
      "Who is best to one you, what you one.\n",
      "\n",
      "MyMANUS:\n",
      "Yea, for olding earth?\n",
      "\n",
      "PO, my butther, we didst in go morrow\n",
      "So that hath will drunk be the was my capfice;\n",
      "For goes I know him Just I pulcers! Lardon his would house\n",
      "has God keep'd you, we did no\n",
      "France, what hath a woodding think the cheers I mother\n",
      "Teach nires, who yes partly a? Thy bring but fill\n",
      "That sing we and rage being\n",
      "For cannot but earth lady\n",
      "All cloud brother got you, for I cause proud an me\n",
      "not be so. Edward, he straitor'd quiet churchmone!\n",
      "Joy, burn my more patient.\n",
      "Rive which I sRucks, then my call but afferdown\n",
      "Hed stubble; my gracious and twenty dangerous.\n",
      "\n",
      "GLOUCESTER:\n",
      "Did pluck,\n",
      "Step 4500, train loss:1.4676, test loss:1.7061\n"
     ]
    },
    {
     "name": "stderr",
     "output_type": "stream",
     "text": [
      " 45%|████████████████████████████████████████████████████▊                                                                | 4513/10000 [13:48<21:15,  4.30it/s]"
     ]
    },
    {
     "name": "stdout",
     "output_type": "stream",
     "text": [
      "Step 4510, train loss:1.4763, test loss:1.6854\n"
     ]
    },
    {
     "name": "stderr",
     "output_type": "stream",
     "text": [
      " 45%|████████████████████████████████████████████████████▉                                                                | 4523/10000 [13:50<15:27,  5.91it/s]"
     ]
    },
    {
     "name": "stdout",
     "output_type": "stream",
     "text": [
      "Step 4520, train loss:1.4639, test loss:1.7008\n"
     ]
    },
    {
     "name": "stderr",
     "output_type": "stream",
     "text": [
      " 45%|█████████████████████████████████████████████████████                                                                | 4533/10000 [13:51<14:28,  6.30it/s]"
     ]
    },
    {
     "name": "stdout",
     "output_type": "stream",
     "text": [
      "Step 4530, train loss:1.4600, test loss:1.6840\n"
     ]
    },
    {
     "name": "stderr",
     "output_type": "stream",
     "text": [
      " 45%|█████████████████████████████████████████████████████▏                                                               | 4543/10000 [13:52<14:15,  6.38it/s]"
     ]
    },
    {
     "name": "stdout",
     "output_type": "stream",
     "text": [
      "Step 4540, train loss:1.4669, test loss:1.6804\n"
     ]
    },
    {
     "name": "stderr",
     "output_type": "stream",
     "text": [
      " 46%|█████████████████████████████████████████████████████▎                                                               | 4553/10000 [13:54<14:14,  6.37it/s]"
     ]
    },
    {
     "name": "stdout",
     "output_type": "stream",
     "text": [
      "Step 4550, train loss:1.4652, test loss:1.6995\n"
     ]
    },
    {
     "name": "stderr",
     "output_type": "stream",
     "text": [
      " 46%|█████████████████████████████████████████████████████▍                                                               | 4563/10000 [13:55<14:14,  6.36it/s]"
     ]
    },
    {
     "name": "stdout",
     "output_type": "stream",
     "text": [
      "Step 4560, train loss:1.4558, test loss:1.6980\n"
     ]
    },
    {
     "name": "stderr",
     "output_type": "stream",
     "text": [
      " 46%|█████████████████████████████████████████████████████▌                                                               | 4573/10000 [13:57<14:12,  6.37it/s]"
     ]
    },
    {
     "name": "stdout",
     "output_type": "stream",
     "text": [
      "Step 4570, train loss:1.4663, test loss:1.7036\n"
     ]
    },
    {
     "name": "stderr",
     "output_type": "stream",
     "text": [
      " 46%|█████████████████████████████████████████████████████▌                                                               | 4583/10000 [13:58<14:12,  6.35it/s]"
     ]
    },
    {
     "name": "stdout",
     "output_type": "stream",
     "text": [
      "Step 4580, train loss:1.4463, test loss:1.6898\n"
     ]
    },
    {
     "name": "stderr",
     "output_type": "stream",
     "text": [
      " 46%|█████████████████████████████████████████████████████▋                                                               | 4591/10000 [13:59<16:52,  5.34it/s]"
     ]
    },
    {
     "name": "stdout",
     "output_type": "stream",
     "text": [
      "Step 4590, train loss:1.4532, test loss:1.6930\n"
     ]
    },
    {
     "name": "stderr",
     "output_type": "stream",
     "text": [
      " 46%|█████████████████████████████████████████████████████▊                                                               | 4599/10000 [14:00<09:59,  9.01it/s]"
     ]
    },
    {
     "name": "stdout",
     "output_type": "stream",
     "text": [
      "Step 4600, train loss:1.4543, test loss:1.6763\n"
     ]
    },
    {
     "name": "stderr",
     "output_type": "stream",
     "text": [
      " 46%|█████████████████████████████████████████████████████▊                                                               | 4603/10000 [14:05<54:54,  1.64it/s]"
     ]
    },
    {
     "name": "stdout",
     "output_type": "stream",
     "text": [
      "\n",
      "\n",
      "KING RICHARD:\n",
      "Sich of infirence countrymant; I met kill and among;\n",
      "On whispering thee, but more this hadst,\n",
      "Wilthing the must against toved loving of this.\n",
      "\n",
      "LUCIO:\n",
      "O, Breath, my terthe scofty send my yon's\n",
      "A prain'd.\n",
      "\n",
      "KING ELWARD II:\n",
      "So Lonourt, the Kargarence one, a readful you no his an much what\n",
      "enowel'd to might hath still he hourn.\n",
      "And hate my kide thou wilt by wrether\n",
      "Mather make o'er soor at it.\n",
      "\n",
      "KAPTISTAN'Tt hear his death, lord;\n",
      "Make noblow him make of you,\n",
      "I must in this for my look?\n",
      "\n",
      "HENRY BOLINGBROKE:\n",
      "KENG HENRY VI:\n",
      "Inly sir; this suy might.\n",
      "You have be plainned briam and why bohn timorexty sue,\n",
      "At true has pardeed in this partle vigour!\n",
      "Ary rabby his been it send violed;\n",
      "And yet can destronings that love'lis:\n",
      "But rife merest sets an ounts not all it.\n",
      "Sirre, with his chonousend kneases, no wroy,\n",
      "Stain Mortague had sone brother persuess lords,\n",
      "Who from heart! You might are eyes, sir,\n",
      "I'll right love you.\n",
      "\n",
      "JULIET:\n",
      "O, my Lord I myself, my lodged I having this deed?\n",
      "All know as\n",
      "Step 4600, train loss:1.4555, test loss:1.6900\n"
     ]
    },
    {
     "name": "stderr",
     "output_type": "stream",
     "text": [
      " 46%|█████████████████████████████████████████████████████▉                                                               | 4613/10000 [14:07<20:52,  4.30it/s]"
     ]
    },
    {
     "name": "stdout",
     "output_type": "stream",
     "text": [
      "Step 4610, train loss:1.4712, test loss:1.6921\n"
     ]
    },
    {
     "name": "stderr",
     "output_type": "stream",
     "text": [
      " 46%|██████████████████████████████████████████████████████                                                               | 4621/10000 [14:08<18:14,  4.91it/s]"
     ]
    },
    {
     "name": "stdout",
     "output_type": "stream",
     "text": [
      "Step 4620, train loss:1.4638, test loss:1.6646\n"
     ]
    },
    {
     "name": "stderr",
     "output_type": "stream",
     "text": [
      " 46%|██████████████████████████████████████████████████████▏                                                              | 4633/10000 [14:09<14:10,  6.31it/s]"
     ]
    },
    {
     "name": "stdout",
     "output_type": "stream",
     "text": [
      "Step 4630, train loss:1.4627, test loss:1.6877\n"
     ]
    },
    {
     "name": "stderr",
     "output_type": "stream",
     "text": [
      " 46%|██████████████████████████████████████████████████████▎                                                              | 4643/10000 [14:11<13:59,  6.38it/s]"
     ]
    },
    {
     "name": "stdout",
     "output_type": "stream",
     "text": [
      "Step 4640, train loss:1.4622, test loss:1.6837\n"
     ]
    },
    {
     "name": "stderr",
     "output_type": "stream",
     "text": [
      " 47%|██████████████████████████████████████████████████████▍                                                              | 4653/10000 [14:12<13:56,  6.39it/s]"
     ]
    },
    {
     "name": "stdout",
     "output_type": "stream",
     "text": [
      "Step 4650, train loss:1.4532, test loss:1.7020\n"
     ]
    },
    {
     "name": "stderr",
     "output_type": "stream",
     "text": [
      " 47%|██████████████████████████████████████████████████████▌                                                              | 4663/10000 [14:14<13:56,  6.38it/s]"
     ]
    },
    {
     "name": "stdout",
     "output_type": "stream",
     "text": [
      "Step 4660, train loss:1.4572, test loss:1.6852\n"
     ]
    },
    {
     "name": "stderr",
     "output_type": "stream",
     "text": [
      " 47%|██████████████████████████████████████████████████████▋                                                              | 4673/10000 [14:15<13:55,  6.38it/s]"
     ]
    },
    {
     "name": "stdout",
     "output_type": "stream",
     "text": [
      "Step 4670, train loss:1.4554, test loss:1.6826\n"
     ]
    },
    {
     "name": "stderr",
     "output_type": "stream",
     "text": [
      " 47%|██████████████████████████████████████████████████████▊                                                              | 4683/10000 [14:17<13:55,  6.36it/s]"
     ]
    },
    {
     "name": "stdout",
     "output_type": "stream",
     "text": [
      "Step 4680, train loss:1.4539, test loss:1.6876\n"
     ]
    },
    {
     "name": "stderr",
     "output_type": "stream",
     "text": [
      " 47%|██████████████████████████████████████████████████████▉                                                              | 4691/10000 [14:18<16:30,  5.36it/s]"
     ]
    },
    {
     "name": "stdout",
     "output_type": "stream",
     "text": [
      "Step 4690, train loss:1.4584, test loss:1.7022\n"
     ]
    },
    {
     "name": "stderr",
     "output_type": "stream",
     "text": [
      " 47%|██████████████████████████████████████████████████████▉                                                              | 4699/10000 [14:19<09:47,  9.03it/s]"
     ]
    },
    {
     "name": "stdout",
     "output_type": "stream",
     "text": [
      "Step 4700, train loss:1.4457, test loss:1.7035\n"
     ]
    },
    {
     "name": "stderr",
     "output_type": "stream",
     "text": [
      " 47%|███████████████████████████████████████████████████████                                                              | 4703/10000 [14:24<54:20,  1.62it/s]"
     ]
    },
    {
     "name": "stdout",
     "output_type": "stream",
     "text": [
      "\n",
      "\n",
      "LADY ANNE:\n",
      "My house, with Cut your wreaved wakes for blood\n",
      "From the both hath shilties on\n",
      "harduns; creed for my blatters.\n",
      "\n",
      "BRUTUS:\n",
      "He shall coldin title plain; for this paints,\n",
      "With are a stiffly'd son the fill the word;\n",
      "The bide all friend these cut while:\n",
      "Thou captist repence your children then\n",
      "Is pity of are touch you faith-mock himself;\n",
      "Whilst die thy didies.\n",
      "\n",
      "PRINCE EDWARD IV:\n",
      "Then this he scoppial make sensiop the times\n",
      "Hard no her so me; for I so you.\n",
      "\n",
      "Gay have me san in whose heart-was dead'st funder what ray make to remellow\n",
      "you, and go stayer will as wed? injury,\n",
      "Dear most kin I follow me not take of that\n",
      "zews there for my inclefence, or this mague?\n",
      "Would requeen yet, will to expect,\n",
      "And swephard they than yew of me.\n",
      "Then shall not to dry; my beat,\n",
      "An many me some capess. what, cluse the grey show it that daughter,\n",
      "The sirrens time at the healtingel contle:\n",
      "You, comembered Budgs!\n",
      "\n",
      "BUNVOLIO:\n",
      "But let brought.\n",
      "\n",
      "MERCUTIO:\n",
      "As up your this ignority,\n",
      "Do Pomplison, courtly to they le\n",
      "Step 4700, train loss:1.4552, test loss:1.6882\n"
     ]
    },
    {
     "name": "stderr",
     "output_type": "stream",
     "text": [
      " 47%|███████████████████████████████████████████████████████▏                                                             | 4713/10000 [14:25<20:30,  4.30it/s]"
     ]
    },
    {
     "name": "stdout",
     "output_type": "stream",
     "text": [
      "Step 4710, train loss:1.4616, test loss:1.6787\n"
     ]
    },
    {
     "name": "stderr",
     "output_type": "stream",
     "text": [
      " 47%|███████████████████████████████████████████████████████▎                                                             | 4723/10000 [14:27<14:52,  5.91it/s]"
     ]
    },
    {
     "name": "stdout",
     "output_type": "stream",
     "text": [
      "Step 4720, train loss:1.4613, test loss:1.6934\n"
     ]
    },
    {
     "name": "stderr",
     "output_type": "stream",
     "text": [
      " 47%|███████████████████████████████████████████████████████▍                                                             | 4733/10000 [14:28<13:55,  6.30it/s]"
     ]
    },
    {
     "name": "stdout",
     "output_type": "stream",
     "text": [
      "Step 4730, train loss:1.4681, test loss:1.6968\n"
     ]
    },
    {
     "name": "stderr",
     "output_type": "stream",
     "text": [
      " 47%|███████████████████████████████████████████████████████▍                                                             | 4741/10000 [14:29<16:21,  5.36it/s]"
     ]
    },
    {
     "name": "stdout",
     "output_type": "stream",
     "text": [
      "Step 4740, train loss:1.4420, test loss:1.6813\n"
     ]
    },
    {
     "name": "stderr",
     "output_type": "stream",
     "text": [
      " 48%|███████████████████████████████████████████████████████▌                                                             | 4753/10000 [14:31<13:42,  6.38it/s]"
     ]
    },
    {
     "name": "stdout",
     "output_type": "stream",
     "text": [
      "Step 4750, train loss:1.4427, test loss:1.7003\n"
     ]
    },
    {
     "name": "stderr",
     "output_type": "stream",
     "text": [
      " 48%|███████████████████████████████████████████████████████▋                                                             | 4761/10000 [14:32<16:17,  5.36it/s]"
     ]
    },
    {
     "name": "stdout",
     "output_type": "stream",
     "text": [
      "Step 4760, train loss:1.4458, test loss:1.6788\n"
     ]
    },
    {
     "name": "stderr",
     "output_type": "stream",
     "text": [
      " 48%|███████████████████████████████████████████████████████▊                                                             | 4773/10000 [14:34<13:42,  6.36it/s]"
     ]
    },
    {
     "name": "stdout",
     "output_type": "stream",
     "text": [
      "Step 4770, train loss:1.4453, test loss:1.6945\n"
     ]
    },
    {
     "name": "stderr",
     "output_type": "stream",
     "text": [
      " 48%|███████████████████████████████████████████████████████▉                                                             | 4783/10000 [14:35<13:38,  6.37it/s]"
     ]
    },
    {
     "name": "stdout",
     "output_type": "stream",
     "text": [
      "Step 4780, train loss:1.4490, test loss:1.6905\n"
     ]
    },
    {
     "name": "stderr",
     "output_type": "stream",
     "text": [
      " 48%|████████████████████████████████████████████████████████                                                             | 4793/10000 [14:37<13:39,  6.36it/s]"
     ]
    },
    {
     "name": "stdout",
     "output_type": "stream",
     "text": [
      "Step 4790, train loss:1.4445, test loss:1.6766\n"
     ]
    },
    {
     "name": "stderr",
     "output_type": "stream",
     "text": [
      " 48%|████████████████████████████████████████████████████████▏                                                            | 4799/10000 [14:37<09:36,  9.02it/s]"
     ]
    },
    {
     "name": "stdout",
     "output_type": "stream",
     "text": [
      "Step 4800, train loss:1.4600, test loss:1.6955\n"
     ]
    },
    {
     "name": "stderr",
     "output_type": "stream",
     "text": [
      " 48%|████████████████████████████████████████████████████████▏                                                            | 4803/10000 [14:42<50:55,  1.70it/s]"
     ]
    },
    {
     "name": "stdout",
     "output_type": "stream",
     "text": [
      "\n",
      "\n",
      "HERMIONE:\n",
      "The king on mean what news? Do, you love glod's beaches.\n",
      "\n",
      "BPRINCE:\n",
      "Go, you we this limpditings would!\n",
      "The or hath shephs sawns!\n",
      "Whousand wherein them put dareless in the whom\n",
      "father nator: praye, so make from him bletten and leathy\n",
      "supping of gallaintraina such a childly\n",
      "Ahouse, 'Mestying will black: hid our fight,\n",
      "As you had sturn's rad, the pity gault groof:\n",
      "The cause this confess to the pardons up this but\n",
      "To more than at by peace is o' the better.\n",
      "\n",
      "Third, I did an must, read, both seems yond\n",
      "Thou duke-too blows and would to meq\n",
      "It the did to unsecont to the matter.\n",
      "You cluse you paint impa to Come.\n",
      "Stay, ask! heaven made been\n",
      "If as that I am forge, to-morrow that\n",
      "To furst I was Empalse likedy, with\n",
      "Sthought will for love speing so beign of I have,\n",
      "But sumbtorely love, for it, another's too there\n",
      "To swell to ore comfort Rails.\n",
      "\n",
      "LARTIUS:\n",
      "My Lords! Sink for your grook Mainted:\n",
      "Llowern you must be and loison the power,\n",
      "The king's arrumb'd, tutly kend, and with all all inclib;\n",
      "Step 4800, train loss:1.4485, test loss:1.6780\n"
     ]
    },
    {
     "name": "stderr",
     "output_type": "stream",
     "text": [
      " 48%|████████████████████████████████████████████████████████▎                                                            | 4813/10000 [14:44<19:49,  4.36it/s]"
     ]
    },
    {
     "name": "stdout",
     "output_type": "stream",
     "text": [
      "Step 4810, train loss:1.4492, test loss:1.6760\n"
     ]
    },
    {
     "name": "stderr",
     "output_type": "stream",
     "text": [
      " 48%|████████████████████████████████████████████████████████▍                                                            | 4821/10000 [14:45<17:40,  4.88it/s]"
     ]
    },
    {
     "name": "stdout",
     "output_type": "stream",
     "text": [
      "Step 4820, train loss:1.4470, test loss:1.6879\n"
     ]
    },
    {
     "name": "stderr",
     "output_type": "stream",
     "text": [
      " 48%|████████████████████████████████████████████████████████▌                                                            | 4833/10000 [14:46<13:44,  6.27it/s]"
     ]
    },
    {
     "name": "stdout",
     "output_type": "stream",
     "text": [
      "Step 4830, train loss:1.4478, test loss:1.6854\n"
     ]
    },
    {
     "name": "stderr",
     "output_type": "stream",
     "text": [
      " 48%|████████████████████████████████████████████████████████▋                                                            | 4843/10000 [14:48<13:34,  6.33it/s]"
     ]
    },
    {
     "name": "stdout",
     "output_type": "stream",
     "text": [
      "Step 4840, train loss:1.4542, test loss:1.7041\n"
     ]
    },
    {
     "name": "stderr",
     "output_type": "stream",
     "text": [
      " 49%|████████████████████████████████████████████████████████▊                                                            | 4853/10000 [14:49<13:33,  6.33it/s]"
     ]
    },
    {
     "name": "stdout",
     "output_type": "stream",
     "text": [
      "Step 4850, train loss:1.4567, test loss:1.6791\n"
     ]
    },
    {
     "name": "stderr",
     "output_type": "stream",
     "text": [
      " 49%|████████████████████████████████████████████████████████▊                                                            | 4861/10000 [14:50<16:06,  5.32it/s]"
     ]
    },
    {
     "name": "stdout",
     "output_type": "stream",
     "text": [
      "Step 4860, train loss:1.4418, test loss:1.6896\n"
     ]
    },
    {
     "name": "stderr",
     "output_type": "stream",
     "text": [
      " 49%|█████████████████████████████████████████████████████████                                                            | 4873/10000 [14:52<13:31,  6.32it/s]"
     ]
    },
    {
     "name": "stdout",
     "output_type": "stream",
     "text": [
      "Step 4870, train loss:1.4340, test loss:1.6779\n"
     ]
    },
    {
     "name": "stderr",
     "output_type": "stream",
     "text": [
      " 49%|█████████████████████████████████████████████████████████▏                                                           | 4883/10000 [14:54<13:29,  6.32it/s]"
     ]
    },
    {
     "name": "stdout",
     "output_type": "stream",
     "text": [
      "Step 4880, train loss:1.4492, test loss:1.6632\n"
     ]
    },
    {
     "name": "stderr",
     "output_type": "stream",
     "text": [
      " 49%|█████████████████████████████████████████████████████████▏                                                           | 4891/10000 [14:55<16:03,  5.30it/s]"
     ]
    },
    {
     "name": "stdout",
     "output_type": "stream",
     "text": [
      "Step 4890, train loss:1.4412, test loss:1.6757\n"
     ]
    },
    {
     "name": "stderr",
     "output_type": "stream",
     "text": [
      " 49%|█████████████████████████████████████████████████████████▎                                                           | 4899/10000 [14:55<09:29,  8.96it/s]"
     ]
    },
    {
     "name": "stdout",
     "output_type": "stream",
     "text": [
      "Step 4900, train loss:1.4471, test loss:1.6584\n"
     ]
    },
    {
     "name": "stderr",
     "output_type": "stream",
     "text": [
      " 49%|█████████████████████████████████████████████████████████▎                                                           | 4903/10000 [15:01<50:01,  1.70it/s]"
     ]
    },
    {
     "name": "stdout",
     "output_type": "stream",
     "text": [
      "\n",
      "\n",
      "Toward:\n",
      "\n",
      "GABENRY:\n",
      "Farewell, do; I remembet it,\n",
      "Which a morrow him our pitchaluce.\n",
      "To have had our of we sorrow; I can,\n",
      "The would love's the world theresomies of thraved,\n",
      "But for at this chaft the breathing it so grawes\n",
      "By smother virgard the other for you that,\n",
      "But pubsuits so war frainy hither's hath the cumband.\n",
      "But with that didst knocks for husbands\n",
      "Warwick word calling woman, he cetsempt have from the won\n",
      "all make thee in awakes' the dukined. Joy of sorrowerms,\n",
      "When to reme, and revenge butes; and cill'd with are\n",
      "A grief us liborty and the concrack,\n",
      "To war Edward's succlenmed, and cidst to from and\n",
      "said friends make up herbqoor!\n",
      "Come wail, buy he war fear'd with Somoning Rich\n",
      "Some another to citizensure alling than all accuse.\n",
      "Your clooks' the gracious his parlicy.\n",
      "Marry, for sacrether and Cantlers:\n",
      "And bolongs to alrow royal, and sell.\n",
      "I Gave was, answipting again, thee,\n",
      "O, how is all fortune down are may be a gows,\n",
      "That, a tender and wrongly flatters play\n",
      "I meet, my o'ergoling, \n",
      "Step 4900, train loss:1.4455, test loss:1.6742\n"
     ]
    },
    {
     "name": "stderr",
     "output_type": "stream",
     "text": [
      " 49%|█████████████████████████████████████████████████████████▍                                                           | 4913/10000 [15:02<19:22,  4.38it/s]"
     ]
    },
    {
     "name": "stdout",
     "output_type": "stream",
     "text": [
      "Step 4910, train loss:1.4419, test loss:1.6918\n"
     ]
    },
    {
     "name": "stderr",
     "output_type": "stream",
     "text": [
      " 49%|█████████████████████████████████████████████████████████▌                                                           | 4923/10000 [15:03<14:15,  5.93it/s]"
     ]
    },
    {
     "name": "stdout",
     "output_type": "stream",
     "text": [
      "Step 4920, train loss:1.4425, test loss:1.6964\n"
     ]
    },
    {
     "name": "stderr",
     "output_type": "stream",
     "text": [
      " 49%|█████████████████████████████████████████████████████████▋                                                           | 4933/10000 [15:05<13:25,  6.29it/s]"
     ]
    },
    {
     "name": "stdout",
     "output_type": "stream",
     "text": [
      "Step 4930, train loss:1.4429, test loss:1.7024\n"
     ]
    },
    {
     "name": "stderr",
     "output_type": "stream",
     "text": [
      " 49%|█████████████████████████████████████████████████████████▊                                                           | 4943/10000 [15:06<13:11,  6.39it/s]"
     ]
    },
    {
     "name": "stdout",
     "output_type": "stream",
     "text": [
      "Step 4940, train loss:1.4323, test loss:1.6732\n"
     ]
    },
    {
     "name": "stderr",
     "output_type": "stream",
     "text": [
      " 50%|█████████████████████████████████████████████████████████▉                                                           | 4953/10000 [15:08<13:14,  6.35it/s]"
     ]
    },
    {
     "name": "stdout",
     "output_type": "stream",
     "text": [
      "Step 4950, train loss:1.4500, test loss:1.6844\n"
     ]
    },
    {
     "name": "stderr",
     "output_type": "stream",
     "text": [
      " 50%|██████████████████████████████████████████████████████████                                                           | 4961/10000 [15:09<15:41,  5.35it/s]"
     ]
    },
    {
     "name": "stdout",
     "output_type": "stream",
     "text": [
      "Step 4960, train loss:1.4450, test loss:1.7081\n"
     ]
    },
    {
     "name": "stderr",
     "output_type": "stream",
     "text": [
      " 50%|██████████████████████████████████████████████████████████▏                                                          | 4973/10000 [15:10<13:11,  6.35it/s]"
     ]
    },
    {
     "name": "stdout",
     "output_type": "stream",
     "text": [
      "Step 4970, train loss:1.4414, test loss:1.6895\n"
     ]
    },
    {
     "name": "stderr",
     "output_type": "stream",
     "text": [
      " 50%|██████████████████████████████████████████████████████████▎                                                          | 4983/10000 [15:12<13:09,  6.36it/s]"
     ]
    },
    {
     "name": "stdout",
     "output_type": "stream",
     "text": [
      "Step 4980, train loss:1.4471, test loss:1.6616\n"
     ]
    },
    {
     "name": "stderr",
     "output_type": "stream",
     "text": [
      " 50%|██████████████████████████████████████████████████████████▍                                                          | 4991/10000 [15:13<15:37,  5.34it/s]"
     ]
    },
    {
     "name": "stdout",
     "output_type": "stream",
     "text": [
      "Step 4990, train loss:1.4492, test loss:1.6720\n"
     ]
    },
    {
     "name": "stderr",
     "output_type": "stream",
     "text": [
      " 50%|██████████████████████████████████████████████████████████▍                                                          | 4999/10000 [15:14<09:15,  9.00it/s]"
     ]
    },
    {
     "name": "stdout",
     "output_type": "stream",
     "text": [
      "Step 5000, train loss:1.4425, test loss:1.6848\n"
     ]
    },
    {
     "name": "stderr",
     "output_type": "stream",
     "text": [
      " 50%|██████████████████████████████████████████████████████████▌                                                          | 5003/10000 [15:19<49:05,  1.70it/s]"
     ]
    },
    {
     "name": "stdout",
     "output_type": "stream",
     "text": [
      "\n",
      "\n",
      "ISABELLA:\n",
      "We may sweet we lare.\n",
      "For hear so young new the said\n",
      "The rother brother.\n",
      "\n",
      "DUKE OF YORK:\n",
      "Your gransol! with strew's and friends the arince.\n",
      "But, do in heir ale: I would have be mucble\n",
      "Nay we o'er partil, Hark yourself, and entile,\n",
      "Who this good to him forgo;\n",
      "From than I am lought markely one all what more that\n",
      "Uepinity warlinated.\n",
      "\n",
      "JOHN OF AUMERLE:\n",
      "I knew my lord, I lead; Provoknes,\n",
      "That ever mirch fred vauntine that rest,\n",
      "Show ma! home us home for a word,\n",
      "I would in the trubbrance, might one he hardly boot\n",
      "To make might on't: I unnaturite by your confince\n",
      "Shat the grown of it.\n",
      "\n",
      "YORK:\n",
      "All that you had'et I do with my lord, I behold\n",
      "To the shall bark the whook\n",
      "of alreadon of men and, and fear is to been youth, bound lords:\n",
      "The bloodish state ere him; one air grave does,\n",
      "And I save crodeth the sinst where traices, and give a regented:\n",
      "Oncled slipect them night,\n",
      "Is now sense for much of me; sirwick, if Warwick, your lord?\n",
      "\n",
      "Second Sarliclared.\n",
      "\n",
      "DUKE VINCENTIO:\n",
      "'Tis not so?\n",
      "\n",
      "ROMEO:\n",
      "Step 5000, train loss:1.4426, test loss:1.6899\n"
     ]
    },
    {
     "name": "stderr",
     "output_type": "stream",
     "text": [
      " 50%|██████████████████████████████████████████████████████████▋                                                          | 5013/10000 [15:20<19:01,  4.37it/s]"
     ]
    },
    {
     "name": "stdout",
     "output_type": "stream",
     "text": [
      "Step 5010, train loss:1.4360, test loss:1.6711\n"
     ]
    },
    {
     "name": "stderr",
     "output_type": "stream",
     "text": [
      " 50%|██████████████████████████████████████████████████████████▊                                                          | 5023/10000 [15:22<13:59,  5.93it/s]"
     ]
    },
    {
     "name": "stdout",
     "output_type": "stream",
     "text": [
      "Step 5020, train loss:1.4471, test loss:1.6804\n"
     ]
    },
    {
     "name": "stderr",
     "output_type": "stream",
     "text": [
      " 50%|██████████████████████████████████████████████████████████▉                                                          | 5033/10000 [15:23<13:07,  6.31it/s]"
     ]
    },
    {
     "name": "stdout",
     "output_type": "stream",
     "text": [
      "Step 5030, train loss:1.4585, test loss:1.6782\n"
     ]
    },
    {
     "name": "stderr",
     "output_type": "stream",
     "text": [
      " 50%|███████████████████████████████████████████████████████████                                                          | 5043/10000 [15:25<12:56,  6.39it/s]"
     ]
    },
    {
     "name": "stdout",
     "output_type": "stream",
     "text": [
      "Step 5040, train loss:1.4389, test loss:1.6826\n"
     ]
    },
    {
     "name": "stderr",
     "output_type": "stream",
     "text": [
      " 51%|███████████████████████████████████████████████████████████                                                          | 5053/10000 [15:26<12:54,  6.39it/s]"
     ]
    },
    {
     "name": "stdout",
     "output_type": "stream",
     "text": [
      "Step 5050, train loss:1.4393, test loss:1.6751\n"
     ]
    },
    {
     "name": "stderr",
     "output_type": "stream",
     "text": [
      " 51%|███████████████████████████████████████████████████████████▏                                                         | 5063/10000 [15:27<12:53,  6.38it/s]"
     ]
    },
    {
     "name": "stdout",
     "output_type": "stream",
     "text": [
      "Step 5060, train loss:1.4368, test loss:1.6752\n"
     ]
    },
    {
     "name": "stderr",
     "output_type": "stream",
     "text": [
      " 51%|███████████████████████████████████████████████████████████▎                                                         | 5073/10000 [15:29<12:53,  6.37it/s]"
     ]
    },
    {
     "name": "stdout",
     "output_type": "stream",
     "text": [
      "Step 5070, train loss:1.4279, test loss:1.6947\n"
     ]
    },
    {
     "name": "stderr",
     "output_type": "stream",
     "text": [
      " 51%|███████████████████████████████████████████████████████████▍                                                         | 5083/10000 [15:30<12:54,  6.35it/s]"
     ]
    },
    {
     "name": "stdout",
     "output_type": "stream",
     "text": [
      "Step 5080, train loss:1.4376, test loss:1.6862\n"
     ]
    },
    {
     "name": "stderr",
     "output_type": "stream",
     "text": [
      " 51%|███████████████████████████████████████████████████████████▌                                                         | 5093/10000 [15:32<12:53,  6.35it/s]"
     ]
    },
    {
     "name": "stdout",
     "output_type": "stream",
     "text": [
      "Step 5090, train loss:1.4328, test loss:1.6895\n"
     ]
    },
    {
     "name": "stderr",
     "output_type": "stream",
     "text": [
      " 51%|███████████████████████████████████████████████████████████▋                                                         | 5099/10000 [15:32<09:03,  9.01it/s]"
     ]
    },
    {
     "name": "stdout",
     "output_type": "stream",
     "text": [
      "Step 5100, train loss:1.4415, test loss:1.6778\n"
     ]
    },
    {
     "name": "stderr",
     "output_type": "stream",
     "text": [
      " 51%|███████████████████████████████████████████████████████████▋                                                         | 5103/10000 [15:37<47:59,  1.70it/s]"
     ]
    },
    {
     "name": "stdout",
     "output_type": "stream",
     "text": [
      "\n",
      "\n",
      "FLORIZOLEO:\n",
      "Will no what come him to lives peitor;\n",
      "Of lerendence your tarrel, when I shall in out rescembrein\n",
      "Till in the ope one on death.\n",
      "Now I did to shall the jody deserves he hath his it.\n",
      "\n",
      "PAULINA:\n",
      "Musters it is, take and let us it to the blood\n",
      "When in his deed aut, some wearicel lies leave\n",
      "To day, 'dis ince! I'll maid take us,\n",
      "Geou, as well poison: whey slast!\n",
      "\n",
      "VIRG ROSS:\n",
      "He of my waser come own hath I'll count that\n",
      "The rent now expections;\n",
      "That hold have made injoy'd of kin at her highers our lives.\n",
      "\n",
      "ANGELO:\n",
      "For the god have me now you, of he cannot\n",
      "Be would good not stemptors: mistempate\n",
      "Will come speece with succey, wouldsing by gold to\n",
      "Richment in her, crizy, or me.\n",
      "Of you more of dissings, or eyes wavers blow.\n",
      "\n",
      "COMINIUS:\n",
      "Do with honour, lord, what I am a know\n",
      "for and up-wife! Tybalt, and matter heard;\n",
      "There's will a marry swords Lord the cousin! you?\n",
      "\n",
      "DUKE ELIZABETH:\n",
      "He's do bonest and more place: I have defeit!\n",
      "\n",
      "ABHORSON:\n",
      "Sirrah, will so do was foe,\n",
      "To her sonter pirst. We \n",
      "Step 5100, train loss:1.4375, test loss:1.7026\n"
     ]
    },
    {
     "name": "stderr",
     "output_type": "stream",
     "text": [
      " 51%|███████████████████████████████████████████████████████████▊                                                         | 5113/10000 [15:39<18:37,  4.37it/s]"
     ]
    },
    {
     "name": "stdout",
     "output_type": "stream",
     "text": [
      "Step 5110, train loss:1.4387, test loss:1.6916\n"
     ]
    },
    {
     "name": "stderr",
     "output_type": "stream",
     "text": [
      " 51%|███████████████████████████████████████████████████████████▉                                                         | 5123/10000 [15:40<13:43,  5.92it/s]"
     ]
    },
    {
     "name": "stdout",
     "output_type": "stream",
     "text": [
      "Step 5120, train loss:1.4347, test loss:1.6605\n"
     ]
    },
    {
     "name": "stderr",
     "output_type": "stream",
     "text": [
      " 51%|████████████████████████████████████████████████████████████                                                         | 5133/10000 [15:41<12:54,  6.29it/s]"
     ]
    },
    {
     "name": "stdout",
     "output_type": "stream",
     "text": [
      "Step 5130, train loss:1.4308, test loss:1.6830\n"
     ]
    },
    {
     "name": "stderr",
     "output_type": "stream",
     "text": [
      " 51%|████████████████████████████████████████████████████████████▏                                                        | 5143/10000 [15:43<12:45,  6.35it/s]"
     ]
    },
    {
     "name": "stdout",
     "output_type": "stream",
     "text": [
      "Step 5140, train loss:1.4306, test loss:1.6838\n"
     ]
    },
    {
     "name": "stderr",
     "output_type": "stream",
     "text": [
      " 52%|████████████████████████████████████████████████████████████▎                                                        | 5153/10000 [15:44<12:44,  6.34it/s]"
     ]
    },
    {
     "name": "stdout",
     "output_type": "stream",
     "text": [
      "Step 5150, train loss:1.4317, test loss:1.6748\n"
     ]
    },
    {
     "name": "stderr",
     "output_type": "stream",
     "text": [
      " 52%|████████████████████████████████████████████████████████████▍                                                        | 5161/10000 [15:46<15:06,  5.34it/s]"
     ]
    },
    {
     "name": "stdout",
     "output_type": "stream",
     "text": [
      "Step 5160, train loss:1.4435, test loss:1.6890\n"
     ]
    },
    {
     "name": "stderr",
     "output_type": "stream",
     "text": [
      " 52%|████████████████████████████████████████████████████████████▌                                                        | 5173/10000 [15:47<12:39,  6.36it/s]"
     ]
    },
    {
     "name": "stdout",
     "output_type": "stream",
     "text": [
      "Step 5170, train loss:1.4247, test loss:1.6778\n"
     ]
    },
    {
     "name": "stderr",
     "output_type": "stream",
     "text": [
      " 52%|████████████████████████████████████████████████████████████▋                                                        | 5183/10000 [15:49<12:38,  6.35it/s]"
     ]
    },
    {
     "name": "stdout",
     "output_type": "stream",
     "text": [
      "Step 5180, train loss:1.4366, test loss:1.6672\n"
     ]
    },
    {
     "name": "stderr",
     "output_type": "stream",
     "text": [
      " 52%|████████████████████████████████████████████████████████████▋                                                        | 5191/10000 [15:50<15:00,  5.34it/s]"
     ]
    },
    {
     "name": "stdout",
     "output_type": "stream",
     "text": [
      "Step 5190, train loss:1.4237, test loss:1.6511\n"
     ]
    },
    {
     "name": "stderr",
     "output_type": "stream",
     "text": [
      " 52%|████████████████████████████████████████████████████████████▊                                                        | 5199/10000 [15:50<08:52,  9.01it/s]"
     ]
    },
    {
     "name": "stdout",
     "output_type": "stream",
     "text": [
      "Step 5200, train loss:1.4240, test loss:1.6844\n"
     ]
    },
    {
     "name": "stderr",
     "output_type": "stream",
     "text": [
      " 52%|████████████████████████████████████████████████████████████▉                                                        | 5203/10000 [15:56<46:56,  1.70it/s]"
     ]
    },
    {
     "name": "stdout",
     "output_type": "stream",
     "text": [
      "\n",
      "\n",
      "ISABELLA:\n",
      "Why, downes, much I beseech the stooplety cours\n",
      "Can bound brief Richard; let him please mine in my 'els;\n",
      "What with music will state to his would did kill?\n",
      "\n",
      "USAN OF AURTHARD III:\n",
      "O in my softerer!\n",
      "Lefelsion fie, and myet there.\n",
      "\n",
      "GREMIO:\n",
      "Peposome! thou thost of holling avoice;\n",
      "But you shall suilly to yet? I'll be thy daughter-stall be did\n",
      "progate of the candies;\n",
      "The velivers to besoming such a fairit.\n",
      "\n",
      "CLARENCE:\n",
      "But that I take hence: slale, did you; and put\n",
      "Thou royalth be no trial to soleter,\n",
      "Judning my that the grief to be sound,\n",
      "But stain and which nor\n",
      "follow in choon'd our inswice an head instrorion\n",
      "For horthy verture's know'st to dishorted, not change royal pefied again\n",
      "With in passuers, and do buserpeth and\n",
      "at as the Duke of these and such '-montage,\n",
      "King for confined, I will sound stright;\n",
      "The not so cousin in mine, that the delish.\n",
      "He shalse yes sha this nurself head.\n",
      "\n",
      "PERDITA:\n",
      "Good him that hasbander life. Eloo!\n",
      "Shall hate a ene me, flower!\n",
      "\n",
      "MENENIUS:\n",
      "I see he is take\n",
      "Step 5200, train loss:1.4294, test loss:1.6803\n"
     ]
    },
    {
     "name": "stderr",
     "output_type": "stream",
     "text": [
      " 52%|████████████████████████████████████████████████████████████▉                                                        | 5213/10000 [15:57<18:14,  4.37it/s]"
     ]
    },
    {
     "name": "stdout",
     "output_type": "stream",
     "text": [
      "Step 5210, train loss:1.4266, test loss:1.6658\n"
     ]
    },
    {
     "name": "stderr",
     "output_type": "stream",
     "text": [
      " 52%|█████████████████████████████████████████████████████████████                                                        | 5223/10000 [15:58<13:25,  5.93it/s]"
     ]
    },
    {
     "name": "stdout",
     "output_type": "stream",
     "text": [
      "Step 5220, train loss:1.4264, test loss:1.6634\n"
     ]
    },
    {
     "name": "stderr",
     "output_type": "stream",
     "text": [
      " 52%|█████████████████████████████████████████████████████████████▏                                                       | 5233/10000 [16:00<12:37,  6.30it/s]"
     ]
    },
    {
     "name": "stdout",
     "output_type": "stream",
     "text": [
      "Step 5230, train loss:1.4287, test loss:1.6718\n"
     ]
    },
    {
     "name": "stderr",
     "output_type": "stream",
     "text": [
      " 52%|█████████████████████████████████████████████████████████████▎                                                       | 5243/10000 [16:01<12:28,  6.35it/s]"
     ]
    },
    {
     "name": "stdout",
     "output_type": "stream",
     "text": [
      "Step 5240, train loss:1.4284, test loss:1.6777\n"
     ]
    },
    {
     "name": "stderr",
     "output_type": "stream",
     "text": [
      " 53%|█████████████████████████████████████████████████████████████▍                                                       | 5253/10000 [16:03<12:26,  6.36it/s]"
     ]
    },
    {
     "name": "stdout",
     "output_type": "stream",
     "text": [
      "Step 5250, train loss:1.4266, test loss:1.6677\n"
     ]
    },
    {
     "name": "stderr",
     "output_type": "stream",
     "text": [
      " 53%|█████████████████████████████████████████████████████████████▌                                                       | 5261/10000 [16:04<14:44,  5.35it/s]"
     ]
    },
    {
     "name": "stdout",
     "output_type": "stream",
     "text": [
      "Step 5260, train loss:1.4368, test loss:1.6573\n"
     ]
    },
    {
     "name": "stderr",
     "output_type": "stream",
     "text": [
      " 53%|█████████████████████████████████████████████████████████████▋                                                       | 5273/10000 [16:05<12:23,  6.35it/s]"
     ]
    },
    {
     "name": "stdout",
     "output_type": "stream",
     "text": [
      "Step 5270, train loss:1.4281, test loss:1.6795\n"
     ]
    },
    {
     "name": "stderr",
     "output_type": "stream",
     "text": [
      " 53%|█████████████████████████████████████████████████████████████▊                                                       | 5281/10000 [16:07<14:44,  5.33it/s]"
     ]
    },
    {
     "name": "stdout",
     "output_type": "stream",
     "text": [
      "Step 5280, train loss:1.4333, test loss:1.6662\n"
     ]
    },
    {
     "name": "stderr",
     "output_type": "stream",
     "text": [
      " 53%|█████████████████████████████████████████████████████████████▉                                                       | 5291/10000 [16:08<14:42,  5.34it/s]"
     ]
    },
    {
     "name": "stdout",
     "output_type": "stream",
     "text": [
      "Step 5290, train loss:1.4424, test loss:1.6808\n"
     ]
    },
    {
     "name": "stderr",
     "output_type": "stream",
     "text": [
      " 53%|█████████████████████████████████████████████████████████████▉                                                       | 5299/10000 [16:09<08:41,  9.02it/s]"
     ]
    },
    {
     "name": "stdout",
     "output_type": "stream",
     "text": [
      "Step 5300, train loss:1.4353, test loss:1.6818\n"
     ]
    },
    {
     "name": "stderr",
     "output_type": "stream",
     "text": [
      " 53%|██████████████████████████████████████████████████████████████                                                       | 5303/10000 [16:14<47:00,  1.67it/s]"
     ]
    },
    {
     "name": "stdout",
     "output_type": "stream",
     "text": [
      "\n",
      "\n",
      "BRUTUS:\n",
      "Thou'll histabledays' they Plovish old me:\n",
      "The princes be forth. I shall be the cog,\n",
      "Or enough that, this post with flow me; by the mark'd with sook me?\n",
      "If her ball, they joys pity awheched of were too\n",
      "Him prouds even room\n",
      "And thou so. Oxford, Herbures, to en't is troke it,\n",
      "Colden soon, would, then you, alt intendining stage,\n",
      "And strokers none; brother her thought light\n",
      "Thy field, for the virtue virtue was the hirthe,\n",
      "Somes to my good, Trift 'twill naketh me poison,\n",
      "And cloud on hisband's not father, good against Is adveltue\n",
      "with a more angel of his roin.\n",
      "\n",
      "KING RONCAGUE:\n",
      "O hirl I hope heard's great!\n",
      "But what we the wish nursed for,\n",
      "Die when 'twas them sleeding laces good king eyb.\n",
      "\n",
      "DUKE OF AUMERLE:\n",
      "This drink we, or thou hatewell; for the farewell, but our fortest\n",
      "In or cascly gue a caple you'er never all some\n",
      "And for my wilt hearing royal tongue.\n",
      "When my givent trotheir fold plock upon thee;\n",
      "Ne'll night: ours shame! all give them a lide honour to\n",
      "her what honour merty life,\n",
      "Bo\n",
      "Step 5300, train loss:1.4298, test loss:1.6793\n"
     ]
    },
    {
     "name": "stderr",
     "output_type": "stream",
     "text": [
      " 53%|██████████████████████████████████████████████████████████████▏                                                      | 5313/10000 [16:15<18:03,  4.33it/s]"
     ]
    },
    {
     "name": "stdout",
     "output_type": "stream",
     "text": [
      "Step 5310, train loss:1.4317, test loss:1.6842\n"
     ]
    },
    {
     "name": "stderr",
     "output_type": "stream",
     "text": [
      " 53%|██████████████████████████████████████████████████████████████▎                                                      | 5323/10000 [16:17<13:11,  5.91it/s]"
     ]
    },
    {
     "name": "stdout",
     "output_type": "stream",
     "text": [
      "Step 5320, train loss:1.4313, test loss:1.6879\n"
     ]
    },
    {
     "name": "stderr",
     "output_type": "stream",
     "text": [
      " 53%|██████████████████████████████████████████████████████████████▍                                                      | 5333/10000 [16:18<12:22,  6.29it/s]"
     ]
    },
    {
     "name": "stdout",
     "output_type": "stream",
     "text": [
      "Step 5330, train loss:1.4289, test loss:1.6532\n"
     ]
    },
    {
     "name": "stderr",
     "output_type": "stream",
     "text": [
      " 53%|██████████████████████████████████████████████████████████████▌                                                      | 5343/10000 [16:20<12:13,  6.35it/s]"
     ]
    },
    {
     "name": "stdout",
     "output_type": "stream",
     "text": [
      "Step 5340, train loss:1.4294, test loss:1.6940\n"
     ]
    },
    {
     "name": "stderr",
     "output_type": "stream",
     "text": [
      " 54%|██████████████████████████████████████████████████████████████▌                                                      | 5351/10000 [16:21<14:28,  5.35it/s]"
     ]
    },
    {
     "name": "stdout",
     "output_type": "stream",
     "text": [
      "Step 5350, train loss:1.4183, test loss:1.6735\n"
     ]
    },
    {
     "name": "stderr",
     "output_type": "stream",
     "text": [
      " 54%|██████████████████████████████████████████████████████████████▋                                                      | 5361/10000 [16:22<14:28,  5.34it/s]"
     ]
    },
    {
     "name": "stdout",
     "output_type": "stream",
     "text": [
      "Step 5360, train loss:1.4232, test loss:1.6538\n"
     ]
    },
    {
     "name": "stderr",
     "output_type": "stream",
     "text": [
      " 54%|██████████████████████████████████████████████████████████████▊                                                      | 5371/10000 [16:24<14:26,  5.34it/s]"
     ]
    },
    {
     "name": "stdout",
     "output_type": "stream",
     "text": [
      "Step 5370, train loss:1.4182, test loss:1.6587\n"
     ]
    },
    {
     "name": "stderr",
     "output_type": "stream",
     "text": [
      " 54%|██████████████████████████████████████████████████████████████▉                                                      | 5383/10000 [16:25<12:07,  6.35it/s]"
     ]
    },
    {
     "name": "stdout",
     "output_type": "stream",
     "text": [
      "Step 5380, train loss:1.4269, test loss:1.6848\n"
     ]
    },
    {
     "name": "stderr",
     "output_type": "stream",
     "text": [
      " 54%|███████████████████████████████████████████████████████████████                                                      | 5393/10000 [16:27<12:06,  6.34it/s]"
     ]
    },
    {
     "name": "stdout",
     "output_type": "stream",
     "text": [
      "Step 5390, train loss:1.4324, test loss:1.6712\n"
     ]
    },
    {
     "name": "stderr",
     "output_type": "stream",
     "text": [
      " 54%|███████████████████████████████████████████████████████████████▏                                                     | 5399/10000 [16:27<08:31,  9.00it/s]"
     ]
    },
    {
     "name": "stdout",
     "output_type": "stream",
     "text": [
      "Step 5400, train loss:1.4294, test loss:1.6687\n"
     ]
    },
    {
     "name": "stderr",
     "output_type": "stream",
     "text": [
      " 54%|███████████████████████████████████████████████████████████████▏                                                     | 5403/10000 [16:33<47:14,  1.62it/s]"
     ]
    },
    {
     "name": "stdout",
     "output_type": "stream",
     "text": [
      "\n",
      "\n",
      "BRUTUS:\n",
      "I pressions or juitome.\n",
      "\n",
      "AUFIDIUS:\n",
      "Whose you are ruileness you do?\n",
      "Yet may me learn rest prieque secratous. This is bood\n",
      "Our curtuit I can most.\n",
      "\n",
      "Shepher::\n",
      "God Oxpossess; and friends, they well; and there-lood.\n",
      "\n",
      "OXFORD:\n",
      "Thanks, since her all, which well: for my head.\n",
      "\n",
      "QUEEN MARGARET:\n",
      "Whose he should's he that folk of my bignded,\n",
      "Will walling troubling strong.\n",
      "Thou art be his subject, give and that at would father,\n",
      "That I need they do disters, all of our our person,\n",
      "My hear part farewell, I do warrant,\n",
      "Your othen, and ease that creater Drance?\n",
      "\n",
      "DUKE OF AUMERLE:\n",
      "St thou addaret, this ears of her\n",
      "serves, andings, and duke thyself buy\n",
      "The Dukes with nitch secution, O, fe dain,\n",
      "To such sir; and make forset me good so gratching the\n",
      "cried close some to thither,\n",
      "And subbeat smile, the sirroyer? out heare kins\n",
      "Unger watchman me so was feither hid timptice\n",
      "And up my Lord of make her severel 'twelve\n",
      "These youth the cast inforceives\n",
      "Are to have meen since edus are than should shall thee.\n",
      "\n",
      "\n",
      "Step 5400, train loss:1.4343, test loss:1.6567\n"
     ]
    },
    {
     "name": "stderr",
     "output_type": "stream",
     "text": [
      " 54%|███████████████████████████████████████████████████████████████▎                                                     | 5413/10000 [16:34<17:51,  4.28it/s]"
     ]
    },
    {
     "name": "stdout",
     "output_type": "stream",
     "text": [
      "Step 5410, train loss:1.4244, test loss:1.6802\n"
     ]
    },
    {
     "name": "stderr",
     "output_type": "stream",
     "text": [
      " 54%|███████████████████████████████████████████████████████████████▍                                                     | 5423/10000 [16:35<12:54,  5.91it/s]"
     ]
    },
    {
     "name": "stdout",
     "output_type": "stream",
     "text": [
      "Step 5420, train loss:1.4259, test loss:1.6547\n"
     ]
    },
    {
     "name": "stderr",
     "output_type": "stream",
     "text": [
      " 54%|███████████████████████████████████████████████████████████████▌                                                     | 5433/10000 [16:37<12:06,  6.29it/s]"
     ]
    },
    {
     "name": "stdout",
     "output_type": "stream",
     "text": [
      "Step 5430, train loss:1.4211, test loss:1.6827\n"
     ]
    },
    {
     "name": "stderr",
     "output_type": "stream",
     "text": [
      " 54%|███████████████████████████████████████████████████████████████▋                                                     | 5443/10000 [16:38<11:56,  6.36it/s]"
     ]
    },
    {
     "name": "stdout",
     "output_type": "stream",
     "text": [
      "Step 5440, train loss:1.4233, test loss:1.6786\n"
     ]
    },
    {
     "name": "stderr",
     "output_type": "stream",
     "text": [
      " 55%|███████████████████████████████████████████████████████████████▊                                                     | 5451/10000 [16:40<14:09,  5.35it/s]"
     ]
    },
    {
     "name": "stdout",
     "output_type": "stream",
     "text": [
      "Step 5450, train loss:1.4138, test loss:1.6655\n"
     ]
    },
    {
     "name": "stderr",
     "output_type": "stream",
     "text": [
      " 55%|███████████████████████████████████████████████████████████████▉                                                     | 5463/10000 [16:41<11:53,  6.36it/s]"
     ]
    },
    {
     "name": "stdout",
     "output_type": "stream",
     "text": [
      "Step 5460, train loss:1.4270, test loss:1.6604\n"
     ]
    },
    {
     "name": "stderr",
     "output_type": "stream",
     "text": [
      " 55%|████████████████████████████████████████████████████████████████                                                     | 5473/10000 [16:43<11:53,  6.35it/s]"
     ]
    },
    {
     "name": "stdout",
     "output_type": "stream",
     "text": [
      "Step 5470, train loss:1.4271, test loss:1.6507\n"
     ]
    },
    {
     "name": "stderr",
     "output_type": "stream",
     "text": [
      " 55%|████████████████████████████████████████████████████████████████▏                                                    | 5481/10000 [16:44<14:06,  5.34it/s]"
     ]
    },
    {
     "name": "stdout",
     "output_type": "stream",
     "text": [
      "Step 5480, train loss:1.4194, test loss:1.6786\n"
     ]
    },
    {
     "name": "stderr",
     "output_type": "stream",
     "text": [
      " 55%|████████████████████████████████████████████████████████████████▎                                                    | 5493/10000 [16:45<11:50,  6.34it/s]"
     ]
    },
    {
     "name": "stdout",
     "output_type": "stream",
     "text": [
      "Step 5490, train loss:1.4228, test loss:1.6770\n"
     ]
    },
    {
     "name": "stderr",
     "output_type": "stream",
     "text": [
      " 55%|████████████████████████████████████████████████████████████████▎                                                    | 5499/10000 [16:46<08:18,  9.03it/s]"
     ]
    },
    {
     "name": "stdout",
     "output_type": "stream",
     "text": [
      "Step 5500, train loss:1.4096, test loss:1.6794\n"
     ]
    },
    {
     "name": "stderr",
     "output_type": "stream",
     "text": [
      " 55%|████████████████████████████████████████████████████████████████▍                                                    | 5503/10000 [16:51<45:41,  1.64it/s]"
     ]
    },
    {
     "name": "stdout",
     "output_type": "stream",
     "text": [
      "\n",
      "\n",
      "QUEEN ELIZABETH:\n",
      "By thank, garrant to be gree.\n",
      "I tender of fearful to wear and his flattians grew;\n",
      "Come to parlicus, guart thee; I will bellow on Edwark:\n",
      "And in powers lourt, a good punething denous for in the being stumpose\n",
      "As a prince of these the cansweel:\n",
      "Why, that to suffeen a the rage\n",
      "Letter 'tis like two death cell;\n",
      "That with so that all thee love conder me come\n",
      "The montal dash proud, fare loved. Turn of we say,\n",
      "That limb man adverable. year the new as to misty deliver\n",
      "To betwixt chesit wot in this call, nurse\n",
      "Your geepies of sheque, after weakent,\n",
      "Wot lack mersuade is soneter,\n",
      "To earth not we fails with good, then,\n",
      "Together dower fought do their it that persowing time\n",
      "Young else missmeet causin, my peace,\n",
      "His all the cutfess wholse of this narth,\n",
      "That for any strange yet, felling such mister;\n",
      "You for ask!\n",
      "\n",
      "ROMEO:\n",
      "Have men not she fly daughter tonamen do true toroudy:\n",
      "Now it, and I shall Heres?\n",
      "\n",
      "Nurse:\n",
      "'Tis grees thou deed! fough the war younger my heart.\n",
      "\n",
      "ROMEO:\n",
      "Batwist it, spe\n",
      "Step 5500, train loss:1.4284, test loss:1.6604\n"
     ]
    },
    {
     "name": "stderr",
     "output_type": "stream",
     "text": [
      " 55%|████████████████████████████████████████████████████████████████▌                                                    | 5513/10000 [16:53<17:22,  4.30it/s]"
     ]
    },
    {
     "name": "stdout",
     "output_type": "stream",
     "text": [
      "Step 5510, train loss:1.4109, test loss:1.6661\n"
     ]
    },
    {
     "name": "stderr",
     "output_type": "stream",
     "text": [
      " 55%|████████████████████████████████████████████████████████████████▌                                                    | 5523/10000 [16:54<12:38,  5.90it/s]"
     ]
    },
    {
     "name": "stdout",
     "output_type": "stream",
     "text": [
      "Step 5520, train loss:1.4243, test loss:1.6710\n"
     ]
    },
    {
     "name": "stderr",
     "output_type": "stream",
     "text": [
      " 55%|████████████████████████████████████████████████████████████████▋                                                    | 5533/10000 [16:55<11:50,  6.29it/s]"
     ]
    },
    {
     "name": "stdout",
     "output_type": "stream",
     "text": [
      "Step 5530, train loss:1.4248, test loss:1.6655\n"
     ]
    },
    {
     "name": "stderr",
     "output_type": "stream",
     "text": [
      " 55%|████████████████████████████████████████████████████████████████▊                                                    | 5543/10000 [16:57<11:42,  6.35it/s]"
     ]
    },
    {
     "name": "stdout",
     "output_type": "stream",
     "text": [
      "Step 5540, train loss:1.4095, test loss:1.6678\n"
     ]
    },
    {
     "name": "stderr",
     "output_type": "stream",
     "text": [
      " 56%|████████████████████████████████████████████████████████████████▉                                                    | 5553/10000 [16:58<11:38,  6.36it/s]"
     ]
    },
    {
     "name": "stdout",
     "output_type": "stream",
     "text": [
      "Step 5550, train loss:1.4204, test loss:1.6503\n"
     ]
    },
    {
     "name": "stderr",
     "output_type": "stream",
     "text": [
      " 56%|█████████████████████████████████████████████████████████████████                                                    | 5563/10000 [17:00<11:37,  6.37it/s]"
     ]
    },
    {
     "name": "stdout",
     "output_type": "stream",
     "text": [
      "Step 5560, train loss:1.4125, test loss:1.6659\n"
     ]
    },
    {
     "name": "stderr",
     "output_type": "stream",
     "text": [
      " 56%|█████████████████████████████████████████████████████████████████▏                                                   | 5571/10000 [17:01<13:48,  5.34it/s]"
     ]
    },
    {
     "name": "stdout",
     "output_type": "stream",
     "text": [
      "Step 5570, train loss:1.4182, test loss:1.6604\n"
     ]
    },
    {
     "name": "stderr",
     "output_type": "stream",
     "text": [
      " 56%|█████████████████████████████████████████████████████████████████▎                                                   | 5583/10000 [17:03<11:35,  6.35it/s]"
     ]
    },
    {
     "name": "stdout",
     "output_type": "stream",
     "text": [
      "Step 5580, train loss:1.4239, test loss:1.6671\n"
     ]
    },
    {
     "name": "stderr",
     "output_type": "stream",
     "text": [
      " 56%|█████████████████████████████████████████████████████████████████▍                                                   | 5591/10000 [17:04<13:45,  5.34it/s]"
     ]
    },
    {
     "name": "stdout",
     "output_type": "stream",
     "text": [
      "Step 5590, train loss:1.4218, test loss:1.6699\n"
     ]
    },
    {
     "name": "stderr",
     "output_type": "stream",
     "text": [
      " 56%|█████████████████████████████████████████████████████████████████▌                                                   | 5599/10000 [17:04<08:08,  9.01it/s]"
     ]
    },
    {
     "name": "stdout",
     "output_type": "stream",
     "text": [
      "Step 5600, train loss:1.4239, test loss:1.6609\n"
     ]
    },
    {
     "name": "stderr",
     "output_type": "stream",
     "text": [
      " 56%|█████████████████████████████████████████████████████████████████▌                                                   | 5603/10000 [17:09<43:07,  1.70it/s]"
     ]
    },
    {
     "name": "stdout",
     "output_type": "stream",
     "text": [
      "\n",
      "\n",
      "HENRY BOLINGBROKE:\n",
      "Mast Servingman:\n",
      "I am at on-point: the truth; let with though jost,\n",
      "And with you? Kore? thus and merces what?\n",
      "\n",
      "MISTRESS OVERLE:\n",
      "Blistain'd a prace.\n",
      "\n",
      "MARCIUS:\n",
      "Well, be noble 'grievous!\n",
      "\n",
      "KING RICHARD III:\n",
      "Edward and days both not.\n",
      "\n",
      "KING RICHARD III disbalina, so soles hallous! nor his such out of you\n",
      "It is not bear help the morn of trust\n",
      "Your clood to death one people with make\n",
      "Where image to though were all: they news,\n",
      "That will him hard and I\n",
      "Apeak upon pleasure is thee enjoyful prove\n",
      "Where not been and for goldeen a knee men\n",
      "Ell behold to demanded for Deceived our cause\n",
      "An he are. Leave is, Go high have himsely as I\n",
      "Edward's with all it is\n",
      "The truth in from here, head old to spile my kin\n",
      "Mistress greding tave us devoli's quister,\n",
      "Whose they, he that fond try one gentleased,\n",
      "Ged sement is them wilt do now,\n",
      "So told proud frother's quience, and sums the Kehsen,\n",
      "Here oldeth resommine steal power.\n",
      "\n",
      "COMPEY:\n",
      "Why, my least, my hour highness sea son.\n",
      "\n",
      "LADY CAPULET:\n",
      "No, may c\n",
      "Step 5600, train loss:1.4228, test loss:1.6606\n"
     ]
    },
    {
     "name": "stderr",
     "output_type": "stream",
     "text": [
      " 56%|█████████████████████████████████████████████████████████████████▋                                                   | 5613/10000 [17:11<16:47,  4.36it/s]"
     ]
    },
    {
     "name": "stdout",
     "output_type": "stream",
     "text": [
      "Step 5610, train loss:1.4097, test loss:1.6783\n"
     ]
    },
    {
     "name": "stderr",
     "output_type": "stream",
     "text": [
      " 56%|█████████████████████████████████████████████████████████████████▊                                                   | 5621/10000 [17:12<14:57,  4.88it/s]"
     ]
    },
    {
     "name": "stdout",
     "output_type": "stream",
     "text": [
      "Step 5620, train loss:1.4259, test loss:1.6683\n"
     ]
    },
    {
     "name": "stderr",
     "output_type": "stream",
     "text": [
      " 56%|█████████████████████████████████████████████████████████████████▉                                                   | 5633/10000 [17:14<11:37,  6.26it/s]"
     ]
    },
    {
     "name": "stdout",
     "output_type": "stream",
     "text": [
      "Step 5630, train loss:1.4196, test loss:1.6786\n"
     ]
    },
    {
     "name": "stderr",
     "output_type": "stream",
     "text": [
      " 56%|█████████████████████████████████████████████████████████████████▉                                                   | 5641/10000 [17:15<13:41,  5.31it/s]"
     ]
    },
    {
     "name": "stdout",
     "output_type": "stream",
     "text": [
      "Step 5640, train loss:1.4201, test loss:1.6737\n"
     ]
    },
    {
     "name": "stderr",
     "output_type": "stream",
     "text": [
      " 57%|██████████████████████████████████████████████████████████████████▏                                                  | 5653/10000 [17:17<11:27,  6.32it/s]"
     ]
    },
    {
     "name": "stdout",
     "output_type": "stream",
     "text": [
      "Step 5650, train loss:1.4230, test loss:1.6821\n"
     ]
    },
    {
     "name": "stderr",
     "output_type": "stream",
     "text": [
      " 57%|██████████████████████████████████████████████████████████████████▎                                                  | 5663/10000 [17:18<11:25,  6.32it/s]"
     ]
    },
    {
     "name": "stdout",
     "output_type": "stream",
     "text": [
      "Step 5660, train loss:1.4189, test loss:1.6625\n"
     ]
    },
    {
     "name": "stderr",
     "output_type": "stream",
     "text": [
      " 57%|██████████████████████████████████████████████████████████████████▎                                                  | 5673/10000 [17:19<11:25,  6.32it/s]"
     ]
    },
    {
     "name": "stdout",
     "output_type": "stream",
     "text": [
      "Step 5670, train loss:1.4260, test loss:1.6665\n"
     ]
    },
    {
     "name": "stderr",
     "output_type": "stream",
     "text": [
      " 57%|██████████████████████████████████████████████████████████████████▍                                                  | 5683/10000 [17:21<11:24,  6.31it/s]"
     ]
    },
    {
     "name": "stdout",
     "output_type": "stream",
     "text": [
      "Step 5680, train loss:1.4135, test loss:1.6520\n"
     ]
    },
    {
     "name": "stderr",
     "output_type": "stream",
     "text": [
      " 57%|██████████████████████████████████████████████████████████████████▌                                                  | 5693/10000 [17:22<11:23,  6.30it/s]"
     ]
    },
    {
     "name": "stdout",
     "output_type": "stream",
     "text": [
      "Step 5690, train loss:1.4060, test loss:1.6755\n"
     ]
    },
    {
     "name": "stderr",
     "output_type": "stream",
     "text": [
      " 57%|██████████████████████████████████████████████████████████████████▋                                                  | 5699/10000 [17:23<08:00,  8.96it/s]"
     ]
    },
    {
     "name": "stdout",
     "output_type": "stream",
     "text": [
      "Step 5700, train loss:1.4178, test loss:1.6781\n"
     ]
    },
    {
     "name": "stderr",
     "output_type": "stream",
     "text": [
      " 57%|██████████████████████████████████████████████████████████████████▋                                                  | 5703/10000 [17:28<42:43,  1.68it/s]"
     ]
    },
    {
     "name": "stdout",
     "output_type": "stream",
     "text": [
      "\n",
      "\n",
      "CAMILLO:\n",
      "Sir, to the strike it no print.\n",
      "\n",
      "AUTOLYCUS:\n",
      "Yo, as you to nor Senator;\n",
      "Are your foolingbrokes with the could a loath's news.\n",
      "Lead in Warwick.\n",
      "\n",
      "QUEEN ELIZABETH:\n",
      "But dower paints his life;\n",
      "You hang bitter and his lists commented\n",
      "This prayer for your counsel pardon,\n",
      "Glouched the flowereign'd fortune to any you:\n",
      "Now, I will of my know speeding.\n",
      "\n",
      "GLOUCESTER:\n",
      "How now, sir! Hads so you are morns.\n",
      "\n",
      "QUEEN MARGARET:\n",
      "Volucied not bloods are your loves.\n",
      "\n",
      "KING RICHARD III:\n",
      "May, crock to hake Edward's my taughs.\n",
      "\n",
      "PAULINA:\n",
      "I think you, sir?\n",
      "\n",
      "First Murderer:\n",
      "But means, blauchman:\n",
      "What, womanged in thy gracious o'er!\n",
      "\n",
      "CAPULET:\n",
      "I place, it mother, ere I have me, nor hast that,\n",
      "And, cloke about torbey some be garlorging every\n",
      "And some or poison'd and pying the motions\n",
      "That you think you known. Hereford's her to bee,\n",
      "But do talk our corron'd a nemess baid: I'll nour brother's in that\n",
      "do to been in the that of bride,\n",
      "That reconvent to entedious, and do alone.\n",
      "\n",
      "BUCKINGHAM:\n",
      "Now, my believe and there\n",
      "Step 5700, train loss:1.4175, test loss:1.6676\n"
     ]
    },
    {
     "name": "stderr",
     "output_type": "stream",
     "text": [
      " 57%|██████████████████████████████████████████████████████████████████▊                                                  | 5713/10000 [17:29<16:29,  4.33it/s]"
     ]
    },
    {
     "name": "stdout",
     "output_type": "stream",
     "text": [
      "Step 5710, train loss:1.4206, test loss:1.6414\n"
     ]
    },
    {
     "name": "stderr",
     "output_type": "stream",
     "text": [
      " 57%|██████████████████████████████████████████████████████████████████▉                                                  | 5723/10000 [17:31<12:07,  5.88it/s]"
     ]
    },
    {
     "name": "stdout",
     "output_type": "stream",
     "text": [
      "Step 5720, train loss:1.3998, test loss:1.6677\n"
     ]
    },
    {
     "name": "stderr",
     "output_type": "stream",
     "text": [
      " 57%|███████████████████████████████████████████████████████████████████                                                  | 5733/10000 [17:32<11:22,  6.25it/s]"
     ]
    },
    {
     "name": "stdout",
     "output_type": "stream",
     "text": [
      "Step 5730, train loss:1.4144, test loss:1.6663\n"
     ]
    },
    {
     "name": "stderr",
     "output_type": "stream",
     "text": [
      " 57%|███████████████████████████████████████████████████████████████████▏                                                 | 5741/10000 [17:33<13:23,  5.30it/s]"
     ]
    },
    {
     "name": "stdout",
     "output_type": "stream",
     "text": [
      "Step 5740, train loss:1.4038, test loss:1.6689\n"
     ]
    },
    {
     "name": "stderr",
     "output_type": "stream",
     "text": [
      " 58%|███████████████████████████████████████████████████████████████████▎                                                 | 5751/10000 [17:35<13:19,  5.31it/s]"
     ]
    },
    {
     "name": "stdout",
     "output_type": "stream",
     "text": [
      "Step 5750, train loss:1.4094, test loss:1.6713\n"
     ]
    },
    {
     "name": "stderr",
     "output_type": "stream",
     "text": [
      " 58%|███████████████████████████████████████████████████████████████████▍                                                 | 5763/10000 [17:37<11:11,  6.31it/s]"
     ]
    },
    {
     "name": "stdout",
     "output_type": "stream",
     "text": [
      "Step 5760, train loss:1.4060, test loss:1.6828\n"
     ]
    },
    {
     "name": "stderr",
     "output_type": "stream",
     "text": [
      " 58%|███████████████████████████████████████████████████████████████████▌                                                 | 5771/10000 [17:38<13:18,  5.30it/s]"
     ]
    },
    {
     "name": "stdout",
     "output_type": "stream",
     "text": [
      "Step 5770, train loss:1.4157, test loss:1.6648\n"
     ]
    },
    {
     "name": "stderr",
     "output_type": "stream",
     "text": [
      " 58%|███████████████████████████████████████████████████████████████████▋                                                 | 5781/10000 [17:39<13:18,  5.29it/s]"
     ]
    },
    {
     "name": "stdout",
     "output_type": "stream",
     "text": [
      "Step 5780, train loss:1.4036, test loss:1.6457\n"
     ]
    },
    {
     "name": "stderr",
     "output_type": "stream",
     "text": [
      " 58%|███████████████████████████████████████████████████████████████████▊                                                 | 5791/10000 [17:41<13:16,  5.29it/s]"
     ]
    },
    {
     "name": "stdout",
     "output_type": "stream",
     "text": [
      "Step 5790, train loss:1.4094, test loss:1.6706\n"
     ]
    },
    {
     "name": "stderr",
     "output_type": "stream",
     "text": [
      " 58%|███████████████████████████████████████████████████████████████████▊                                                 | 5799/10000 [17:41<07:48,  8.97it/s]"
     ]
    },
    {
     "name": "stdout",
     "output_type": "stream",
     "text": [
      "Step 5800, train loss:1.4092, test loss:1.6563\n"
     ]
    },
    {
     "name": "stderr",
     "output_type": "stream",
     "text": [
      " 58%|███████████████████████████████████████████████████████████████████▉                                                 | 5803/10000 [17:46<41:17,  1.69it/s]"
     ]
    },
    {
     "name": "stdout",
     "output_type": "stream",
     "text": [
      "\n",
      "\n",
      "BUCKINGHAM:\n",
      "See, then, and gent, for me not Valia,\n",
      "Holk melant things so think is a:\n",
      "And will, it a crumpt the give it were prant to thou,\n",
      "yilting of Hereford, 'tis suppected, or ever.\n",
      "\n",
      "HENRY BOLINGBROKE:\n",
      "Since obey'd, noine! I stole?\n",
      "\n",
      "ESCALUS:\n",
      "O told, shall have make; that have sire tongue but where here!\n",
      "\n",
      "DUKE OF YORK:\n",
      "That short shoul trul have conforces and to a depossion.\n",
      "\n",
      "JULIET:\n",
      "then they sholor the blow carb'd:\n",
      "Thou hast would le with a wash down,\n",
      "So it this shold love o' the hursests ares.\n",
      "\n",
      "PAULINA:\n",
      "Where as to knows wars to the runsticall-flace that\n",
      "have mistretty with thee.\n",
      "Shall deed encoal do displaint we have me,\n",
      "And with kinds no his crown and ambitors.\n",
      "\n",
      "SWARD:\n",
      "Then my sweet Forthward with conves, say you to him tongue the cousin,\n",
      "For the gentleman'd; he old, sweet perise\n",
      "Black what folls obe very'd\n",
      "Forbide on his brother bright words Sorrow?'\n",
      "\n",
      "MARCIUS:\n",
      "Thy virtues'?\n",
      "\n",
      "ANGELO:\n",
      "Me are yined the kill not or Bohemia?\n",
      "\n",
      "First Lates:\n",
      "But them, still end but art Didst in the dea\n",
      "Step 5800, train loss:1.4049, test loss:1.6637\n"
     ]
    },
    {
     "name": "stderr",
     "output_type": "stream",
     "text": [
      " 58%|████████████████████████████████████████████████████████████████████                                                 | 5813/10000 [17:48<15:59,  4.36it/s]"
     ]
    },
    {
     "name": "stdout",
     "output_type": "stream",
     "text": [
      "Step 5810, train loss:1.4162, test loss:1.6727\n"
     ]
    },
    {
     "name": "stderr",
     "output_type": "stream",
     "text": [
      " 58%|████████████████████████████████████████████████████████████████████▏                                                | 5823/10000 [17:49<11:45,  5.92it/s]"
     ]
    },
    {
     "name": "stdout",
     "output_type": "stream",
     "text": [
      "Step 5820, train loss:1.4026, test loss:1.6747\n"
     ]
    },
    {
     "name": "stderr",
     "output_type": "stream",
     "text": [
      " 58%|████████████████████████████████████████████████████████████████████▏                                                | 5833/10000 [17:51<11:01,  6.30it/s]"
     ]
    },
    {
     "name": "stdout",
     "output_type": "stream",
     "text": [
      "Step 5830, train loss:1.4027, test loss:1.6618\n"
     ]
    },
    {
     "name": "stderr",
     "output_type": "stream",
     "text": [
      " 58%|████████████████████████████████████████████████████████████████████▎                                                | 5843/10000 [17:52<10:54,  6.36it/s]"
     ]
    },
    {
     "name": "stdout",
     "output_type": "stream",
     "text": [
      "Step 5840, train loss:1.4260, test loss:1.6635\n"
     ]
    },
    {
     "name": "stderr",
     "output_type": "stream",
     "text": [
      " 59%|████████████████████████████████████████████████████████████████████▍                                                | 5853/10000 [17:54<10:51,  6.36it/s]"
     ]
    },
    {
     "name": "stdout",
     "output_type": "stream",
     "text": [
      "Step 5850, train loss:1.4085, test loss:1.6475\n"
     ]
    },
    {
     "name": "stderr",
     "output_type": "stream",
     "text": [
      " 59%|████████████████████████████████████████████████████████████████████▌                                                | 5863/10000 [17:55<10:50,  6.36it/s]"
     ]
    },
    {
     "name": "stdout",
     "output_type": "stream",
     "text": [
      "Step 5860, train loss:1.4086, test loss:1.6661\n"
     ]
    },
    {
     "name": "stderr",
     "output_type": "stream",
     "text": [
      " 59%|████████████████████████████████████████████████████████████████████▋                                                | 5873/10000 [17:56<10:48,  6.37it/s]"
     ]
    },
    {
     "name": "stdout",
     "output_type": "stream",
     "text": [
      "Step 5870, train loss:1.4114, test loss:1.6811\n"
     ]
    },
    {
     "name": "stderr",
     "output_type": "stream",
     "text": [
      " 59%|████████████████████████████████████████████████████████████████████▊                                                | 5881/10000 [17:58<12:50,  5.34it/s]"
     ]
    },
    {
     "name": "stdout",
     "output_type": "stream",
     "text": [
      "Step 5880, train loss:1.4048, test loss:1.6626\n"
     ]
    },
    {
     "name": "stderr",
     "output_type": "stream",
     "text": [
      " 59%|████████████████████████████████████████████████████████████████████▉                                                | 5893/10000 [17:59<10:46,  6.35it/s]"
     ]
    },
    {
     "name": "stdout",
     "output_type": "stream",
     "text": [
      "Step 5890, train loss:1.4010, test loss:1.6481\n"
     ]
    },
    {
     "name": "stderr",
     "output_type": "stream",
     "text": [
      " 59%|█████████████████████████████████████████████████████████████████████                                                | 5899/10000 [18:00<07:34,  9.02it/s]"
     ]
    },
    {
     "name": "stdout",
     "output_type": "stream",
     "text": [
      "Step 5900, train loss:1.4180, test loss:1.6616\n"
     ]
    },
    {
     "name": "stderr",
     "output_type": "stream",
     "text": [
      " 59%|█████████████████████████████████████████████████████████████████████                                                | 5903/10000 [18:05<40:16,  1.70it/s]"
     ]
    },
    {
     "name": "stdout",
     "output_type": "stream",
     "text": [
      "\n",
      "\n",
      "BRUTUS:\n",
      "I am we have thee way, nothing knock you: I\n",
      "Sweet the service of despassed, scept ar the comform all.\n",
      "\n",
      "GRUENES:\n",
      "The gods have my lord,\n",
      "That, a rest sacreafs; I'll knave the daughter this world\n",
      "Thou necksbals company thousand lives.\n",
      "\n",
      "LUCIO:\n",
      "Be as ever to reven a tazen a contengeful,\n",
      "Reave the our bolder.\n",
      "\n",
      "HERMIONE:\n",
      "Come, triumph none.\n",
      "\n",
      "BUCKINGHAM:\n",
      "\n",
      "LARGILO:\n",
      "How!\n",
      "O with thank it made the night iboa?\n",
      "\n",
      "First Contry:\n",
      "Hert's made with be thee?\n",
      "\n",
      "PARDINA:\n",
      "Nay, tear-inteed of my might.\n",
      "\n",
      "DUKE VINCENTIO:\n",
      "She leves, look,\n",
      "By remember sisper face fortune dish!\n",
      "\n",
      "\n",
      "KING RICHARD II:\n",
      "Warwick, be the temps, swell.\n",
      "\n",
      "DUKE VINCENTIO:\n",
      "Fie, 'tis now; so me?\n",
      "\n",
      "COMINIUS:\n",
      "Mow shalloy that now nor fare,\n",
      "To all thank that seak and if impeared!\n",
      "\n",
      "AUTOLYCUS:\n",
      "I dam!\n",
      "If shall I am speak and not beseen.\n",
      "\n",
      "HENRY BOLINGBROKE:\n",
      "More I say body, nor he cozard.\n",
      "\n",
      "GREGORY:\n",
      "He hath father eyes best him\n",
      "Blind Henry o' the world, at he is the hange our lists\n",
      "To way, are aptend Cotion ours. Take of glorious is old;\n",
      "The noble \n",
      "Step 5900, train loss:1.4005, test loss:1.6739\n"
     ]
    },
    {
     "name": "stderr",
     "output_type": "stream",
     "text": [
      " 59%|█████████████████████████████████████████████████████████████████████▏                                               | 5913/10000 [18:06<15:38,  4.35it/s]"
     ]
    },
    {
     "name": "stdout",
     "output_type": "stream",
     "text": [
      "Step 5910, train loss:1.4023, test loss:1.6520\n"
     ]
    },
    {
     "name": "stderr",
     "output_type": "stream",
     "text": [
      " 59%|█████████████████████████████████████████████████████████████████████▎                                               | 5923/10000 [18:08<11:32,  5.89it/s]"
     ]
    },
    {
     "name": "stdout",
     "output_type": "stream",
     "text": [
      "Step 5920, train loss:1.3939, test loss:1.6652\n"
     ]
    },
    {
     "name": "stderr",
     "output_type": "stream",
     "text": [
      " 59%|█████████████████████████████████████████████████████████████████████▍                                               | 5933/10000 [18:09<10:50,  6.25it/s]"
     ]
    },
    {
     "name": "stdout",
     "output_type": "stream",
     "text": [
      "Step 5930, train loss:1.4048, test loss:1.6675\n"
     ]
    },
    {
     "name": "stderr",
     "output_type": "stream",
     "text": [
      " 59%|█████████████████████████████████████████████████████████████████████▌                                               | 5943/10000 [18:10<10:42,  6.32it/s]"
     ]
    },
    {
     "name": "stdout",
     "output_type": "stream",
     "text": [
      "Step 5940, train loss:1.4051, test loss:1.6729\n"
     ]
    },
    {
     "name": "stderr",
     "output_type": "stream",
     "text": [
      " 60%|█████████████████████████████████████████████████████████████████████▋                                               | 5953/10000 [18:12<10:39,  6.33it/s]"
     ]
    },
    {
     "name": "stdout",
     "output_type": "stream",
     "text": [
      "Step 5950, train loss:1.4027, test loss:1.6655\n"
     ]
    },
    {
     "name": "stderr",
     "output_type": "stream",
     "text": [
      " 60%|█████████████████████████████████████████████████████████████████████▋                                               | 5961/10000 [18:13<12:40,  5.31it/s]"
     ]
    },
    {
     "name": "stdout",
     "output_type": "stream",
     "text": [
      "Step 5960, train loss:1.3981, test loss:1.6594\n"
     ]
    },
    {
     "name": "stderr",
     "output_type": "stream",
     "text": [
      " 60%|█████████████████████████████████████████████████████████████████████▊                                               | 5971/10000 [18:15<12:39,  5.30it/s]"
     ]
    },
    {
     "name": "stdout",
     "output_type": "stream",
     "text": [
      "Step 5970, train loss:1.4052, test loss:1.6804\n"
     ]
    },
    {
     "name": "stderr",
     "output_type": "stream",
     "text": [
      " 60%|█████████████████████████████████████████████████████████████████████▉                                               | 5981/10000 [18:16<12:39,  5.29it/s]"
     ]
    },
    {
     "name": "stdout",
     "output_type": "stream",
     "text": [
      "Step 5980, train loss:1.4064, test loss:1.6598\n"
     ]
    },
    {
     "name": "stderr",
     "output_type": "stream",
     "text": [
      " 60%|██████████████████████████████████████████████████████████████████████                                               | 5991/10000 [18:17<12:39,  5.28it/s]"
     ]
    },
    {
     "name": "stdout",
     "output_type": "stream",
     "text": [
      "Step 5990, train loss:1.3948, test loss:1.6666\n"
     ]
    },
    {
     "name": "stderr",
     "output_type": "stream",
     "text": [
      " 60%|██████████████████████████████████████████████████████████████████████▏                                              | 5999/10000 [18:18<07:26,  8.96it/s]"
     ]
    },
    {
     "name": "stdout",
     "output_type": "stream",
     "text": [
      "Step 6000, train loss:1.4127, test loss:1.6458\n"
     ]
    },
    {
     "name": "stderr",
     "output_type": "stream",
     "text": [
      " 60%|██████████████████████████████████████████████████████████████████████▏                                              | 6003/10000 [18:23<39:31,  1.69it/s]"
     ]
    },
    {
     "name": "stdout",
     "output_type": "stream",
     "text": [
      "\n",
      "\n",
      "GREMIO:\n",
      "I saughter.\n",
      "\n",
      "Second Per:\n",
      "Been your good will fame that them, and rise thy hard--\n",
      "\n",
      "ABHORSON:\n",
      "Had fulls him wife's death his confillan\n",
      "As assury the king Camil of my o'er\n",
      "And you casquit of castiar. Bontols san:\n",
      "May, that you in protectances, let be and it suggine\n",
      "by deft, and how dead up pail, is the\n",
      "beg, Jext so head;\n",
      "And a man, after and with though thy pay\n",
      "Whose of thy straiced somereign and nepter for't\n",
      "And gross look in thy or happy\n",
      "And mother camm'st he shousand.\n",
      "\n",
      "First Lends murder, what I love say,\n",
      "Their lie imports with alone's lated;\n",
      "But what's hence? I know'd Rount'st you severs!\n",
      "\n",
      "YORK:\n",
      "I am Romeo that did not, dry this: be harding that\n",
      "Than send have bomelyin of brown'd caved,\n",
      "Biving colour piolian, for flowing an her apoid cales,\n",
      "Proclamament and his face bear, it to prage\n",
      "Edward, with him hither.\n",
      "Even shall the coloniant to thee so,\n",
      "Stands dog. Cominors froth you:\n",
      "To know someritance with forgivers' honours have?'\n",
      "Hive than never upright have\n",
      "The effect cursibation\n",
      "Step 6000, train loss:1.3930, test loss:1.6621\n"
     ]
    },
    {
     "name": "stderr",
     "output_type": "stream",
     "text": [
      " 60%|██████████████████████████████████████████████████████████████████████▎                                              | 6013/10000 [18:25<15:19,  4.34it/s]"
     ]
    },
    {
     "name": "stdout",
     "output_type": "stream",
     "text": [
      "Step 6010, train loss:1.3969, test loss:1.6459\n"
     ]
    },
    {
     "name": "stderr",
     "output_type": "stream",
     "text": [
      " 60%|██████████████████████████████████████████████████████████████████████▍                                              | 6021/10000 [18:26<13:33,  4.89it/s]"
     ]
    },
    {
     "name": "stdout",
     "output_type": "stream",
     "text": [
      "Step 6020, train loss:1.4079, test loss:1.6534\n"
     ]
    },
    {
     "name": "stderr",
     "output_type": "stream",
     "text": [
      " 60%|██████████████████████████████████████████████████████████████████████▌                                              | 6033/10000 [18:27<10:33,  6.26it/s]"
     ]
    },
    {
     "name": "stdout",
     "output_type": "stream",
     "text": [
      "Step 6030, train loss:1.4015, test loss:1.6542\n"
     ]
    },
    {
     "name": "stderr",
     "output_type": "stream",
     "text": [
      " 60%|██████████████████████████████████████████████████████████████████████▋                                              | 6043/10000 [18:29<10:25,  6.32it/s]"
     ]
    },
    {
     "name": "stdout",
     "output_type": "stream",
     "text": [
      "Step 6040, train loss:1.4057, test loss:1.6631\n"
     ]
    },
    {
     "name": "stderr",
     "output_type": "stream",
     "text": [
      " 61%|██████████████████████████████████████████████████████████████████████▊                                              | 6053/10000 [18:30<10:23,  6.33it/s]"
     ]
    },
    {
     "name": "stdout",
     "output_type": "stream",
     "text": [
      "Step 6050, train loss:1.3973, test loss:1.6767\n"
     ]
    },
    {
     "name": "stderr",
     "output_type": "stream",
     "text": [
      " 61%|██████████████████████████████████████████████████████████████████████▉                                              | 6061/10000 [18:32<12:22,  5.31it/s]"
     ]
    },
    {
     "name": "stdout",
     "output_type": "stream",
     "text": [
      "Step 6060, train loss:1.3927, test loss:1.6772\n"
     ]
    },
    {
     "name": "stderr",
     "output_type": "stream",
     "text": [
      " 61%|███████████████████████████████████████████████████████████████████████                                              | 6073/10000 [18:33<10:22,  6.31it/s]"
     ]
    },
    {
     "name": "stdout",
     "output_type": "stream",
     "text": [
      "Step 6070, train loss:1.4018, test loss:1.6665\n"
     ]
    },
    {
     "name": "stderr",
     "output_type": "stream",
     "text": [
      " 61%|███████████████████████████████████████████████████████████████████████▏                                             | 6083/10000 [18:35<10:21,  6.30it/s]"
     ]
    },
    {
     "name": "stdout",
     "output_type": "stream",
     "text": [
      "Step 6080, train loss:1.3935, test loss:1.6686\n"
     ]
    },
    {
     "name": "stderr",
     "output_type": "stream",
     "text": [
      " 61%|███████████████████████████████████████████████████████████████████████▎                                             | 6091/10000 [18:36<12:19,  5.29it/s]"
     ]
    },
    {
     "name": "stdout",
     "output_type": "stream",
     "text": [
      "Step 6090, train loss:1.4020, test loss:1.6540\n"
     ]
    },
    {
     "name": "stderr",
     "output_type": "stream",
     "text": [
      " 61%|███████████████████████████████████████████████████████████████████████▎                                             | 6099/10000 [18:37<07:15,  8.97it/s]"
     ]
    },
    {
     "name": "stdout",
     "output_type": "stream",
     "text": [
      "Step 6100, train loss:1.3994, test loss:1.6401\n"
     ]
    },
    {
     "name": "stderr",
     "output_type": "stream",
     "text": [
      " 61%|███████████████████████████████████████████████████████████████████████▍                                             | 6103/10000 [18:42<38:11,  1.70it/s]"
     ]
    },
    {
     "name": "stdout",
     "output_type": "stream",
     "text": [
      "\n",
      "\n",
      "MARIANNA:\n",
      "I till thy woftly bring earth,\n",
      "Brother with twenty lew; this a sword,\n",
      "I says, indeed for to wars.\n",
      "\n",
      "QUEEN:\n",
      "Mades, 'tis tybalt, and part as Loveop shall is now!\n",
      "\n",
      "DUKE VINCENTIO:\n",
      "I am not.\n",
      "\n",
      "Second Citizen:\n",
      "Verror! what not thy quickster from whench.\n",
      "\n",
      "KING RICHARD III:\n",
      "O't, Edward, do this scare; 'Sis manice\n",
      "When the lords fight your wear deverts it his\n",
      "whonour words to with us man: but all the\n",
      "hattle are to and punty knows:\n",
      "By therefener are go.\n",
      "\n",
      "AEdile:\n",
      "How into the infiner welmors; velow in\n",
      "to horn those that words a born.\n",
      "Sir I give has kind the words angethings stand's?\n",
      "\n",
      "GLOOM:\n",
      "We'll they thy strike to my head.\n",
      "\n",
      "First Sen:\n",
      "Which issue, I charge, thou sust my fall to much flesh my\n",
      "face of Edged we'll be his well: and of\n",
      "you art to like ten else\n",
      "that hour ladier of a jest;\n",
      "Give alutury Hun were comport.\n",
      "Come too to a sovereign, you\n",
      "Therebror the stirn forth in rest-prisonce'?\n",
      "\n",
      "COMINIUS:\n",
      "When thy shall,\n",
      "By ledge a person; good watery!\n",
      "Phest call of this most Juction. You'll mar\n",
      "Step 6100, train loss:1.3931, test loss:1.6690\n"
     ]
    },
    {
     "name": "stderr",
     "output_type": "stream",
     "text": [
      " 61%|███████████████████████████████████████████████████████████████████████▌                                             | 6113/10000 [18:43<14:53,  4.35it/s]"
     ]
    },
    {
     "name": "stdout",
     "output_type": "stream",
     "text": [
      "Step 6110, train loss:1.4044, test loss:1.6841\n"
     ]
    },
    {
     "name": "stderr",
     "output_type": "stream",
     "text": [
      " 61%|███████████████████████████████████████████████████████████████████████▋                                             | 6123/10000 [18:44<10:58,  5.89it/s]"
     ]
    },
    {
     "name": "stdout",
     "output_type": "stream",
     "text": [
      "Step 6120, train loss:1.3967, test loss:1.6976\n"
     ]
    },
    {
     "name": "stderr",
     "output_type": "stream",
     "text": [
      " 61%|███████████████████████████████████████████████████████████████████████▊                                             | 6133/10000 [18:46<10:17,  6.26it/s]"
     ]
    },
    {
     "name": "stdout",
     "output_type": "stream",
     "text": [
      "Step 6130, train loss:1.3902, test loss:1.6329\n"
     ]
    },
    {
     "name": "stderr",
     "output_type": "stream",
     "text": [
      " 61%|███████████████████████████████████████████████████████████████████████▊                                             | 6143/10000 [18:47<10:10,  6.31it/s]"
     ]
    },
    {
     "name": "stdout",
     "output_type": "stream",
     "text": [
      "Step 6140, train loss:1.3912, test loss:1.6630\n"
     ]
    },
    {
     "name": "stderr",
     "output_type": "stream",
     "text": [
      " 62%|███████████████████████████████████████████████████████████████████████▉                                             | 6151/10000 [18:49<12:04,  5.31it/s]"
     ]
    },
    {
     "name": "stdout",
     "output_type": "stream",
     "text": [
      "Step 6150, train loss:1.3881, test loss:1.6599\n"
     ]
    },
    {
     "name": "stderr",
     "output_type": "stream",
     "text": [
      " 62%|████████████████████████████████████████████████████████████████████████                                             | 6163/10000 [18:50<10:07,  6.31it/s]"
     ]
    },
    {
     "name": "stdout",
     "output_type": "stream",
     "text": [
      "Step 6160, train loss:1.3953, test loss:1.6747\n"
     ]
    },
    {
     "name": "stderr",
     "output_type": "stream",
     "text": [
      " 62%|████████████████████████████████████████████████████████████████████████▏                                            | 6173/10000 [18:52<10:06,  6.31it/s]"
     ]
    },
    {
     "name": "stdout",
     "output_type": "stream",
     "text": [
      "Step 6170, train loss:1.3949, test loss:1.6605\n"
     ]
    },
    {
     "name": "stderr",
     "output_type": "stream",
     "text": [
      " 62%|████████████████████████████████████████████████████████████████████████▎                                            | 6181/10000 [18:53<12:00,  5.30it/s]"
     ]
    },
    {
     "name": "stdout",
     "output_type": "stream",
     "text": [
      "Step 6180, train loss:1.3937, test loss:1.6616\n"
     ]
    },
    {
     "name": "stderr",
     "output_type": "stream",
     "text": [
      " 62%|████████████████████████████████████████████████████████████████████████▍                                            | 6191/10000 [18:54<12:00,  5.29it/s]"
     ]
    },
    {
     "name": "stdout",
     "output_type": "stream",
     "text": [
      "Step 6190, train loss:1.4005, test loss:1.6577\n"
     ]
    },
    {
     "name": "stderr",
     "output_type": "stream",
     "text": [
      " 62%|████████████████████████████████████████████████████████████████████████▌                                            | 6199/10000 [18:55<07:04,  8.95it/s]"
     ]
    },
    {
     "name": "stdout",
     "output_type": "stream",
     "text": [
      "Step 6200, train loss:1.3839, test loss:1.6595\n"
     ]
    },
    {
     "name": "stderr",
     "output_type": "stream",
     "text": [
      " 62%|████████████████████████████████████████████████████████████████████████▌                                            | 6203/10000 [19:00<37:15,  1.70it/s]"
     ]
    },
    {
     "name": "stdout",
     "output_type": "stream",
     "text": [
      "\n",
      "\n",
      "GREY:\n",
      "Come lex,--marry! you, to ho! mistake wish'd,\n",
      "Not sorrow might, Like his ha's so grave, and never to his bear\n",
      "tricily men for 'tis death again;\n",
      "And, as old in senature reignations, but sake\n",
      "The folling unders? we way,\n",
      "Where Volsconed anpiruised thesign.\n",
      "\n",
      "ANTIGONUS:\n",
      "How cause, sir.\n",
      "\n",
      "ROMEO:\n",
      "Well, my good my life at our sorry.\n",
      "\n",
      "You many country' roady; you deny,\n",
      "Is honour! I love, I buked's noble.\n",
      "How lady, nor all the father as manish.\n",
      "\n",
      "KING RICHARD III:\n",
      "Nas, tell me, 'God windesced blament me\n",
      "Take the he gode stones, weigharing king,\n",
      "So the mistreen caiding four highness measure seas\n",
      "In thire to strength are pass\n",
      "Teem paidon's dones allow for this time of sons\n",
      "As frome reven as much at this cunsers,\n",
      "And, I have rature not on the early of gone;\n",
      "But thou dear mert, as chy, and rales!\n",
      "Then plusitors to leap my amises, and you accusate\n",
      "Stars are and enemy away;\n",
      "To-dear the gade thee?\n",
      "But Plemise to talse trouble, my lord,\n",
      "For my weapate, will the fealf,\n",
      "Who know his apecty, very incen\n",
      "Step 6200, train loss:1.3933, test loss:1.6508\n"
     ]
    },
    {
     "name": "stderr",
     "output_type": "stream",
     "text": [
      " 62%|████████████████████████████████████████████████████████████████████████▋                                            | 6211/10000 [19:01<18:16,  3.46it/s]"
     ]
    },
    {
     "name": "stdout",
     "output_type": "stream",
     "text": [
      "Step 6210, train loss:1.3859, test loss:1.6436\n"
     ]
    },
    {
     "name": "stderr",
     "output_type": "stream",
     "text": [
      " 62%|████████████████████████████████████████████████████████████████████████▊                                            | 6223/10000 [19:03<10:38,  5.92it/s]"
     ]
    },
    {
     "name": "stdout",
     "output_type": "stream",
     "text": [
      "Step 6220, train loss:1.3914, test loss:1.6465\n"
     ]
    },
    {
     "name": "stderr",
     "output_type": "stream",
     "text": [
      " 62%|████████████████████████████████████████████████████████████████████████▉                                            | 6233/10000 [19:04<09:58,  6.30it/s]"
     ]
    },
    {
     "name": "stdout",
     "output_type": "stream",
     "text": [
      "Step 6230, train loss:1.3957, test loss:1.6581\n"
     ]
    },
    {
     "name": "stderr",
     "output_type": "stream",
     "text": [
      " 62%|█████████████████████████████████████████████████████████████████████████                                            | 6241/10000 [19:06<11:41,  5.35it/s]"
     ]
    },
    {
     "name": "stdout",
     "output_type": "stream",
     "text": [
      "Step 6240, train loss:1.3900, test loss:1.6606\n"
     ]
    },
    {
     "name": "stderr",
     "output_type": "stream",
     "text": [
      " 63%|█████████████████████████████████████████████████████████████████████████▏                                           | 6251/10000 [19:07<11:41,  5.34it/s]"
     ]
    },
    {
     "name": "stdout",
     "output_type": "stream",
     "text": [
      "Step 6250, train loss:1.3878, test loss:1.6477\n"
     ]
    },
    {
     "name": "stderr",
     "output_type": "stream",
     "text": [
      " 63%|█████████████████████████████████████████████████████████████████████████▎                                           | 6263/10000 [19:09<09:46,  6.38it/s]"
     ]
    },
    {
     "name": "stdout",
     "output_type": "stream",
     "text": [
      "Step 6260, train loss:1.3904, test loss:1.6556\n"
     ]
    },
    {
     "name": "stderr",
     "output_type": "stream",
     "text": [
      " 63%|█████████████████████████████████████████████████████████████████████████▍                                           | 6273/10000 [19:10<09:46,  6.35it/s]"
     ]
    },
    {
     "name": "stdout",
     "output_type": "stream",
     "text": [
      "Step 6270, train loss:1.3891, test loss:1.6652\n"
     ]
    },
    {
     "name": "stderr",
     "output_type": "stream",
     "text": [
      " 63%|█████████████████████████████████████████████████████████████████████████▍                                           | 6281/10000 [19:11<11:37,  5.33it/s]"
     ]
    },
    {
     "name": "stdout",
     "output_type": "stream",
     "text": [
      "Step 6280, train loss:1.3946, test loss:1.6497\n"
     ]
    },
    {
     "name": "stderr",
     "output_type": "stream",
     "text": [
      " 63%|█████████████████████████████████████████████████████████████████████████▋                                           | 6293/10000 [19:13<09:44,  6.34it/s]"
     ]
    },
    {
     "name": "stdout",
     "output_type": "stream",
     "text": [
      "Step 6290, train loss:1.3913, test loss:1.6488\n"
     ]
    },
    {
     "name": "stderr",
     "output_type": "stream",
     "text": [
      " 63%|█████████████████████████████████████████████████████████████████████████▋                                           | 6299/10000 [19:13<06:49,  9.03it/s]"
     ]
    },
    {
     "name": "stdout",
     "output_type": "stream",
     "text": [
      "Step 6300, train loss:1.3850, test loss:1.6514\n"
     ]
    },
    {
     "name": "stderr",
     "output_type": "stream",
     "text": [
      " 63%|█████████████████████████████████████████████████████████████████████████▋                                           | 6303/10000 [19:18<36:20,  1.70it/s]"
     ]
    },
    {
     "name": "stdout",
     "output_type": "stream",
     "text": [
      "\n",
      "\n",
      "CLARENCE:\n",
      "Here the war, says she love, like and before reign to\n",
      "the fines which he not un my man.\n",
      "Dear means: they sounds conscians,\n",
      "For how to before conses here, for anout find\n",
      "Benining the eyes many must.\n",
      "\n",
      "SCORD:\n",
      "True what means were in it in glory!\n",
      "But standeled up, will give Agus, nece, as school!\n",
      "\n",
      "COMINIUS:\n",
      "March, I cannot full.\n",
      "\n",
      "MENENIUS:\n",
      "I coul not me, till I did!\n",
      "\n",
      "PAULINA:\n",
      "Buch ware it too kisse, that women, but to night:\n",
      "Darse of you.\n",
      "\n",
      "YORK:\n",
      "I talk all, my littlet in't. If we peace;\n",
      "So doth mine remembanine helling and I'll kiss his harline bloody lies\n",
      "The stainto but deserve in This would you go?\n",
      "Messet! the Citizens for womb:\n",
      "Lord a still stall toad:\n",
      "Show I fell to their answere\n",
      "Men me thy swoon and you were: I'll sif\n",
      "In the hardine's in their eageht it to the say,\n",
      "More some arther hands mase sooning:\n",
      "So, as the die--aster, comes or thou bed;\n",
      "Thou shalt we thee the doth the tender thoust\n",
      "Your supt that mean whom in the Juliet?\n",
      "\n",
      "DUKE OF AUMERLE:\n",
      "I thought of our beconcinnise\n",
      "Step 6300, train loss:1.3922, test loss:1.6279\n"
     ]
    },
    {
     "name": "stderr",
     "output_type": "stream",
     "text": [
      " 63%|█████████████████████████████████████████████████████████████████████████▊                                           | 6313/10000 [19:20<14:03,  4.37it/s]"
     ]
    },
    {
     "name": "stdout",
     "output_type": "stream",
     "text": [
      "Step 6310, train loss:1.3954, test loss:1.6492\n"
     ]
    },
    {
     "name": "stderr",
     "output_type": "stream",
     "text": [
      " 63%|█████████████████████████████████████████████████████████████████████████▉                                           | 6323/10000 [19:21<10:19,  5.94it/s]"
     ]
    },
    {
     "name": "stdout",
     "output_type": "stream",
     "text": [
      "Step 6320, train loss:1.3917, test loss:1.6470\n"
     ]
    },
    {
     "name": "stderr",
     "output_type": "stream",
     "text": [
      " 63%|██████████████████████████████████████████████████████████████████████████                                           | 6333/10000 [19:23<09:41,  6.30it/s]"
     ]
    },
    {
     "name": "stdout",
     "output_type": "stream",
     "text": [
      "Step 6330, train loss:1.3813, test loss:1.6526\n"
     ]
    },
    {
     "name": "stderr",
     "output_type": "stream",
     "text": [
      " 63%|██████████████████████████████████████████████████████████████████████████▏                                          | 6343/10000 [19:24<09:34,  6.36it/s]"
     ]
    },
    {
     "name": "stdout",
     "output_type": "stream",
     "text": [
      "Step 6340, train loss:1.3891, test loss:1.6571\n"
     ]
    },
    {
     "name": "stderr",
     "output_type": "stream",
     "text": [
      " 64%|██████████████████████████████████████████████████████████████████████████▎                                          | 6353/10000 [19:25<09:33,  6.36it/s]"
     ]
    },
    {
     "name": "stdout",
     "output_type": "stream",
     "text": [
      "Step 6350, train loss:1.3932, test loss:1.6626\n"
     ]
    },
    {
     "name": "stderr",
     "output_type": "stream",
     "text": [
      " 64%|██████████████████████████████████████████████████████████████████████████▍                                          | 6363/10000 [19:27<09:30,  6.37it/s]"
     ]
    },
    {
     "name": "stdout",
     "output_type": "stream",
     "text": [
      "Step 6360, train loss:1.3979, test loss:1.6685\n"
     ]
    },
    {
     "name": "stderr",
     "output_type": "stream",
     "text": [
      " 64%|██████████████████████████████████████████████████████████████████████████▌                                          | 6371/10000 [19:28<11:18,  5.35it/s]"
     ]
    },
    {
     "name": "stdout",
     "output_type": "stream",
     "text": [
      "Step 6370, train loss:1.3799, test loss:1.6749\n"
     ]
    },
    {
     "name": "stderr",
     "output_type": "stream",
     "text": [
      " 64%|██████████████████████████████████████████████████████████████████████████▋                                          | 6381/10000 [19:30<11:17,  5.34it/s]"
     ]
    },
    {
     "name": "stdout",
     "output_type": "stream",
     "text": [
      "Step 6380, train loss:1.3930, test loss:1.6587\n"
     ]
    },
    {
     "name": "stderr",
     "output_type": "stream",
     "text": [
      " 64%|██████████████████████████████████████████████████████████████████████████▊                                          | 6393/10000 [19:31<09:27,  6.36it/s]"
     ]
    },
    {
     "name": "stdout",
     "output_type": "stream",
     "text": [
      "Step 6390, train loss:1.3991, test loss:1.6554\n"
     ]
    },
    {
     "name": "stderr",
     "output_type": "stream",
     "text": [
      " 64%|██████████████████████████████████████████████████████████████████████████▊                                          | 6399/10000 [19:32<06:39,  9.02it/s]"
     ]
    },
    {
     "name": "stdout",
     "output_type": "stream",
     "text": [
      "Step 6400, train loss:1.3867, test loss:1.6507\n"
     ]
    },
    {
     "name": "stderr",
     "output_type": "stream",
     "text": [
      " 64%|██████████████████████████████████████████████████████████████████████████▉                                          | 6403/10000 [19:37<36:06,  1.66it/s]"
     ]
    },
    {
     "name": "stdout",
     "output_type": "stream",
     "text": [
      "\n",
      "\n",
      "EORUMTIS:\n",
      "What says, his lost wife.\n",
      "Resire with seeks shall be it act of death.\n",
      "\n",
      "KING RICHARD III:\n",
      "Then where wall, stake in happine my being me,\n",
      "I'll beggabes ao if thy times of us.\n",
      "\n",
      "KING HENRY VI:\n",
      "'Tis thousand themselves' ends them now to better,\n",
      "And speak my fortune tonder,\n",
      "if I innocent, still'd for accustafly;\n",
      "The duke on, state my soutency.\n",
      "To secret in else cousin; I am too think o' the drum\n",
      "With enterance almasters.\n",
      "\n",
      "CAMILLO:\n",
      "Not they are-contented's in,\n",
      "Sealing their vails and at the surven plip;\n",
      "The suilly day; where I say hither else?\n",
      "My give his trive entreats lite of Allow\n",
      "To the truth, I seat to me; carel but indeed,\n",
      "But the poor oddel, slearits well mast.\n",
      "\n",
      "Provost:\n",
      "Shall my great in myself my crown.\n",
      "Where does mother, you have must us.\n",
      "\n",
      "ROMEO:\n",
      "What they noble skfuld see to eive I have deed.\n",
      "\n",
      "BENVOLIO:\n",
      "I prith, coming mine of mine.\n",
      "For I mef; I should 't; must be would have hath mad\n",
      "Be which and send the king live no above our son doubt\n",
      "Is the Duke a breathsomerous and f\n",
      "Step 6400, train loss:1.3889, test loss:1.6639\n"
     ]
    },
    {
     "name": "stderr",
     "output_type": "stream",
     "text": [
      " 64%|███████████████████████████████████████████████████████████████████████████                                          | 6413/10000 [19:38<13:48,  4.33it/s]"
     ]
    },
    {
     "name": "stdout",
     "output_type": "stream",
     "text": [
      "Step 6410, train loss:1.3956, test loss:1.6635\n"
     ]
    },
    {
     "name": "stderr",
     "output_type": "stream",
     "text": [
      " 64%|███████████████████████████████████████████████████████████████████████████▏                                         | 6423/10000 [19:40<10:06,  5.90it/s]"
     ]
    },
    {
     "name": "stdout",
     "output_type": "stream",
     "text": [
      "Step 6420, train loss:1.3838, test loss:1.6423\n"
     ]
    },
    {
     "name": "stderr",
     "output_type": "stream",
     "text": [
      " 64%|███████████████████████████████████████████████████████████████████████████▎                                         | 6433/10000 [19:41<09:27,  6.29it/s]"
     ]
    },
    {
     "name": "stdout",
     "output_type": "stream",
     "text": [
      "Step 6430, train loss:1.3924, test loss:1.6530\n"
     ]
    },
    {
     "name": "stderr",
     "output_type": "stream",
     "text": [
      " 64%|███████████████████████████████████████████████████████████████████████████▍                                         | 6443/10000 [19:43<09:18,  6.37it/s]"
     ]
    },
    {
     "name": "stdout",
     "output_type": "stream",
     "text": [
      "Step 6440, train loss:1.3854, test loss:1.6513\n"
     ]
    },
    {
     "name": "stderr",
     "output_type": "stream",
     "text": [
      " 65%|███████████████████████████████████████████████████████████████████████████▍                                         | 6451/10000 [19:44<11:02,  5.35it/s]"
     ]
    },
    {
     "name": "stdout",
     "output_type": "stream",
     "text": [
      "Step 6450, train loss:1.3865, test loss:1.6629\n"
     ]
    },
    {
     "name": "stderr",
     "output_type": "stream",
     "text": [
      " 65%|███████████████████████████████████████████████████████████████████████████▌                                         | 6463/10000 [19:45<09:17,  6.35it/s]"
     ]
    },
    {
     "name": "stdout",
     "output_type": "stream",
     "text": [
      "Step 6460, train loss:1.3849, test loss:1.6422\n"
     ]
    },
    {
     "name": "stderr",
     "output_type": "stream",
     "text": [
      " 65%|███████████████████████████████████████████████████████████████████████████▋                                         | 6473/10000 [19:47<09:13,  6.37it/s]"
     ]
    },
    {
     "name": "stdout",
     "output_type": "stream",
     "text": [
      "Step 6470, train loss:1.3867, test loss:1.6497\n"
     ]
    },
    {
     "name": "stderr",
     "output_type": "stream",
     "text": [
      " 65%|███████████████████████████████████████████████████████████████████████████▊                                         | 6483/10000 [19:48<09:15,  6.33it/s]"
     ]
    },
    {
     "name": "stdout",
     "output_type": "stream",
     "text": [
      "Step 6480, train loss:1.3850, test loss:1.6510\n"
     ]
    },
    {
     "name": "stderr",
     "output_type": "stream",
     "text": [
      " 65%|███████████████████████████████████████████████████████████████████████████▉                                         | 6491/10000 [19:49<10:57,  5.33it/s]"
     ]
    },
    {
     "name": "stdout",
     "output_type": "stream",
     "text": [
      "Step 6490, train loss:1.3800, test loss:1.6590\n"
     ]
    },
    {
     "name": "stderr",
     "output_type": "stream",
     "text": [
      " 65%|████████████████████████████████████████████████████████████████████████████                                         | 6499/10000 [19:50<06:28,  9.02it/s]"
     ]
    },
    {
     "name": "stdout",
     "output_type": "stream",
     "text": [
      "Step 6500, train loss:1.3860, test loss:1.6518\n"
     ]
    },
    {
     "name": "stderr",
     "output_type": "stream",
     "text": [
      " 65%|████████████████████████████████████████████████████████████████████████████                                         | 6503/10000 [19:55<35:02,  1.66it/s]"
     ]
    },
    {
     "name": "stdout",
     "output_type": "stream",
     "text": [
      "\n",
      "\n",
      "JAUTINGS:\n",
      "We sever me.\n",
      "\n",
      "GLOUCESTER:\n",
      "You twice to my faul the assons thing trouble is,\n",
      "To take athem; and hencury this words anower wateful\n",
      "will both gones, but kindly fights,\n",
      "Here strength sir, after father! O, and the king\n",
      "As heavy ere dischieve, speak to repolad\n",
      "Where turn as the dead, interror men;\n",
      "They awe of contempation, to unsuch fairel again.\n",
      "You didst a wall you are if Bucking it of day:\n",
      "Then leave pass inclury'd, and so such as\n",
      "oboth to a good your dnamior are he than touch\n",
      "The state, methous, and and strong-sceediens fully\n",
      "Ware to thy wish o'er--earth.\n",
      "\n",
      "CLARENCE:\n",
      "Here's cloody.\n",
      "\n",
      "QUEEN ELIZABETH:\n",
      "Do cause to good Aumour corse,\n",
      "So might is that now he cait-slain! set him joy\n",
      "By songs soulp such save alsesate the sold, deserve\n",
      "a crave, if do deter yeq.\n",
      "\n",
      "ANGELO:\n",
      "Morsolate, keep I one nor somethous chast it those\n",
      "Than advise's obcious strange yes frown\n",
      "made to along in thy strokes maid brothers\n",
      "That Romeo, I hope, it therefore hit two and then\n",
      "Whose empossite: will was well.\n",
      "'bea\n",
      "Step 6500, train loss:1.3873, test loss:1.6506\n"
     ]
    },
    {
     "name": "stderr",
     "output_type": "stream",
     "text": [
      " 65%|████████████████████████████████████████████████████████████████████████████▏                                        | 6513/10000 [19:57<13:27,  4.32it/s]"
     ]
    },
    {
     "name": "stdout",
     "output_type": "stream",
     "text": [
      "Step 6510, train loss:1.3932, test loss:1.6383\n"
     ]
    },
    {
     "name": "stderr",
     "output_type": "stream",
     "text": [
      " 65%|████████████████████████████████████████████████████████████████████████████▎                                        | 6523/10000 [19:58<09:51,  5.88it/s]"
     ]
    },
    {
     "name": "stdout",
     "output_type": "stream",
     "text": [
      "Step 6520, train loss:1.3869, test loss:1.6472\n"
     ]
    },
    {
     "name": "stderr",
     "output_type": "stream",
     "text": [
      " 65%|████████████████████████████████████████████████████████████████████████████▍                                        | 6533/10000 [20:00<09:14,  6.25it/s]"
     ]
    },
    {
     "name": "stdout",
     "output_type": "stream",
     "text": [
      "Step 6530, train loss:1.3806, test loss:1.6680\n"
     ]
    },
    {
     "name": "stderr",
     "output_type": "stream",
     "text": [
      " 65%|████████████████████████████████████████████████████████████████████████████▌                                        | 6543/10000 [20:01<09:06,  6.32it/s]"
     ]
    },
    {
     "name": "stdout",
     "output_type": "stream",
     "text": [
      "Step 6540, train loss:1.3831, test loss:1.6416\n"
     ]
    },
    {
     "name": "stderr",
     "output_type": "stream",
     "text": [
      " 66%|████████████████████████████████████████████████████████████████████████████▋                                        | 6553/10000 [20:02<09:04,  6.33it/s]"
     ]
    },
    {
     "name": "stdout",
     "output_type": "stream",
     "text": [
      "Step 6550, train loss:1.3925, test loss:1.6463\n"
     ]
    },
    {
     "name": "stderr",
     "output_type": "stream",
     "text": [
      " 66%|████████████████████████████████████████████████████████████████████████████▊                                        | 6561/10000 [20:04<10:49,  5.29it/s]"
     ]
    },
    {
     "name": "stdout",
     "output_type": "stream",
     "text": [
      "Step 6560, train loss:1.3819, test loss:1.6485\n"
     ]
    },
    {
     "name": "stderr",
     "output_type": "stream",
     "text": [
      " 66%|████████████████████████████████████████████████████████████████████████████▉                                        | 6573/10000 [20:05<09:01,  6.33it/s]"
     ]
    },
    {
     "name": "stdout",
     "output_type": "stream",
     "text": [
      "Step 6570, train loss:1.3873, test loss:1.6614\n"
     ]
    },
    {
     "name": "stderr",
     "output_type": "stream",
     "text": [
      " 66%|████████████████████████████████████████████████████████████████████████████▉                                        | 6581/10000 [20:07<10:45,  5.30it/s]"
     ]
    },
    {
     "name": "stdout",
     "output_type": "stream",
     "text": [
      "Step 6580, train loss:1.3797, test loss:1.6451\n"
     ]
    },
    {
     "name": "stderr",
     "output_type": "stream",
     "text": [
      " 66%|█████████████████████████████████████████████████████████████████████████████                                        | 6591/10000 [20:08<10:43,  5.30it/s]"
     ]
    },
    {
     "name": "stdout",
     "output_type": "stream",
     "text": [
      "Step 6590, train loss:1.3831, test loss:1.6450\n"
     ]
    },
    {
     "name": "stderr",
     "output_type": "stream",
     "text": [
      " 66%|█████████████████████████████████████████████████████████████████████████████▏                                       | 6599/10000 [20:09<06:18,  8.98it/s]"
     ]
    },
    {
     "name": "stdout",
     "output_type": "stream",
     "text": [
      "Step 6600, train loss:1.3740, test loss:1.6504\n"
     ]
    },
    {
     "name": "stderr",
     "output_type": "stream",
     "text": [
      " 66%|█████████████████████████████████████████████████████████████████████████████▎                                       | 6603/10000 [20:14<33:19,  1.70it/s]"
     ]
    },
    {
     "name": "stdout",
     "output_type": "stream",
     "text": [
      "\n",
      "\n",
      "'LY AS:\n",
      "Behond thrives the onfrich burthers, if the destraight\n",
      "That can inter'd times are evolanable\n",
      "I have not a faintent would, Bolingmen:\n",
      "Ay, that far what's quarries, patience!\n",
      "\n",
      "Serrawling, not shall, strike up her Bonured in ever\n",
      "A perjury worship mongror;\n",
      "Bid seems, or great, him to the made devile:\n",
      "But her did own of this apper lords:\n",
      "The buried op, that more in himself\n",
      "He husbatthe plovestibors, that of thine without ran\n",
      "Scurverly Buckingham, and them, defeals are you,\n",
      "The keep lost in growland flainhon'd never,\n",
      "Who stonent, given him and thy sument!\n",
      "What had--You child'men! the daughter,\n",
      "Not smewhedge colour friends; and,\n",
      "But thing in thy death and feither, gate ours.\n",
      "\n",
      "MENENIUS:\n",
      "It not light not all had to be removed;\n",
      "This gentle's cansful: her will not wanthe,\n",
      "Give their grodest in the cire was punn. Twift this fools and we'er\n",
      "Twenty brother.\n",
      "\n",
      "First Citizen:\n",
      "Thou boy is far lord, perforcy shall approvers: we\n",
      "both hately lie,--Scoet this would passing,\n",
      "Werh herefore that him I\n",
      "Step 6600, train loss:1.3825, test loss:1.6505\n"
     ]
    },
    {
     "name": "stderr",
     "output_type": "stream",
     "text": [
      " 66%|█████████████████████████████████████████████████████████████████████████████▎                                       | 6613/10000 [20:15<12:56,  4.36it/s]"
     ]
    },
    {
     "name": "stdout",
     "output_type": "stream",
     "text": [
      "Step 6610, train loss:1.3705, test loss:1.6525\n"
     ]
    },
    {
     "name": "stderr",
     "output_type": "stream",
     "text": [
      " 66%|█████████████████████████████████████████████████████████████████████████████▍                                       | 6621/10000 [20:16<11:27,  4.91it/s]"
     ]
    },
    {
     "name": "stdout",
     "output_type": "stream",
     "text": [
      "Step 6620, train loss:1.3846, test loss:1.6538\n"
     ]
    },
    {
     "name": "stderr",
     "output_type": "stream",
     "text": [
      " 66%|█████████████████████████████████████████████████████████████████████████████▌                                       | 6633/10000 [20:18<08:53,  6.31it/s]"
     ]
    },
    {
     "name": "stdout",
     "output_type": "stream",
     "text": [
      "Step 6630, train loss:1.3928, test loss:1.6627\n"
     ]
    },
    {
     "name": "stderr",
     "output_type": "stream",
     "text": [
      " 66%|█████████████████████████████████████████████████████████████████████████████▋                                       | 6643/10000 [20:19<08:47,  6.37it/s]"
     ]
    },
    {
     "name": "stdout",
     "output_type": "stream",
     "text": [
      "Step 6640, train loss:1.3754, test loss:1.6557\n"
     ]
    },
    {
     "name": "stderr",
     "output_type": "stream",
     "text": [
      " 67%|█████████████████████████████████████████████████████████████████████████████▊                                       | 6653/10000 [20:21<08:45,  6.37it/s]"
     ]
    },
    {
     "name": "stdout",
     "output_type": "stream",
     "text": [
      "Step 6650, train loss:1.3669, test loss:1.6609\n"
     ]
    },
    {
     "name": "stderr",
     "output_type": "stream",
     "text": [
      " 67%|█████████████████████████████████████████████████████████████████████████████▉                                       | 6661/10000 [20:22<10:22,  5.37it/s]"
     ]
    },
    {
     "name": "stdout",
     "output_type": "stream",
     "text": [
      "Step 6660, train loss:1.3733, test loss:1.6438\n"
     ]
    },
    {
     "name": "stderr",
     "output_type": "stream",
     "text": [
      " 67%|██████████████████████████████████████████████████████████████████████████████                                       | 6671/10000 [20:24<10:21,  5.36it/s]"
     ]
    },
    {
     "name": "stdout",
     "output_type": "stream",
     "text": [
      "Step 6670, train loss:1.3758, test loss:1.6558\n"
     ]
    },
    {
     "name": "stderr",
     "output_type": "stream",
     "text": [
      " 67%|██████████████████████████████████████████████████████████████████████████████▏                                      | 6683/10000 [20:25<08:42,  6.35it/s]"
     ]
    },
    {
     "name": "stdout",
     "output_type": "stream",
     "text": [
      "Step 6680, train loss:1.3756, test loss:1.6414\n"
     ]
    },
    {
     "name": "stderr",
     "output_type": "stream",
     "text": [
      " 67%|██████████████████████████████████████████████████████████████████████████████▎                                      | 6693/10000 [20:27<08:40,  6.35it/s]"
     ]
    },
    {
     "name": "stdout",
     "output_type": "stream",
     "text": [
      "Step 6690, train loss:1.3763, test loss:1.6371\n"
     ]
    },
    {
     "name": "stderr",
     "output_type": "stream",
     "text": [
      " 67%|██████████████████████████████████████████████████████████████████████████████▍                                      | 6699/10000 [20:27<06:06,  9.02it/s]"
     ]
    },
    {
     "name": "stdout",
     "output_type": "stream",
     "text": [
      "Step 6700, train loss:1.3754, test loss:1.6580\n"
     ]
    },
    {
     "name": "stderr",
     "output_type": "stream",
     "text": [
      " 67%|██████████████████████████████████████████████████████████████████████████████▍                                      | 6703/10000 [20:32<32:24,  1.70it/s]"
     ]
    },
    {
     "name": "stdout",
     "output_type": "stream",
     "text": [
      "\n",
      "\n",
      "FRIAR Juliet:\n",
      "Menderay, uscals the can edped.-\n",
      "Both your honour's thou hadst,\n",
      "To lie as he name cry send well.\n",
      "With tuse are were and stiff; and more their commander\n",
      "I chealty make not the innecal deaft and see\n",
      "The general of thy cannot for soreting,\n",
      "In old for thee to-night, and and deterkson a fully Buckingham so.\n",
      "My noisely conduer not, and wealther days the raze\n",
      "That ambour breathsolved all eful.\n",
      "\n",
      "DUKE VINCENTIO:\n",
      "And masts! much mow, the clenity:\n",
      "There, beazed thou hast to the enrich, look shall I\n",
      "Throw wards. Bush I matter shall regease\n",
      "The king of the lord blood made of the place\n",
      "But ware of that maid; death here the ciest.\n",
      "\n",
      "KING RICHARD III:\n",
      "Cite enought that, all't so land if we will councase the city\n",
      "From live not punty of a goods wrong deceit,\n",
      "Thou art not still certaint shall hast thee,\n",
      "Again'd, my my jebtlingly and know.\n",
      "For then take of duct, my grey to good.\n",
      "\n",
      "ESCALUS:\n",
      "O, none the vantage with years to that\n",
      "The othel of the seat alms have contricy.\n",
      "\n",
      "Second Citizen:\n",
      "I know \n",
      "Step 6700, train loss:1.3815, test loss:1.6803\n"
     ]
    },
    {
     "name": "stderr",
     "output_type": "stream",
     "text": [
      " 67%|██████████████████████████████████████████████████████████████████████████████▌                                      | 6713/10000 [20:34<12:34,  4.35it/s]"
     ]
    },
    {
     "name": "stdout",
     "output_type": "stream",
     "text": [
      "Step 6710, train loss:1.3856, test loss:1.6402\n"
     ]
    },
    {
     "name": "stderr",
     "output_type": "stream",
     "text": [
      " 67%|██████████████████████████████████████████████████████████████████████████████▋                                      | 6723/10000 [20:35<09:13,  5.92it/s]"
     ]
    },
    {
     "name": "stdout",
     "output_type": "stream",
     "text": [
      "Step 6720, train loss:1.3731, test loss:1.6559\n"
     ]
    },
    {
     "name": "stderr",
     "output_type": "stream",
     "text": [
      " 67%|██████████████████████████████████████████████████████████████████████████████▊                                      | 6733/10000 [20:36<08:39,  6.29it/s]"
     ]
    },
    {
     "name": "stdout",
     "output_type": "stream",
     "text": [
      "Step 6730, train loss:1.3850, test loss:1.6646\n"
     ]
    },
    {
     "name": "stderr",
     "output_type": "stream",
     "text": [
      " 67%|██████████████████████████████████████████████████████████████████████████████▉                                      | 6743/10000 [20:38<08:32,  6.35it/s]"
     ]
    },
    {
     "name": "stdout",
     "output_type": "stream",
     "text": [
      "Step 6740, train loss:1.3829, test loss:1.6426\n"
     ]
    },
    {
     "name": "stderr",
     "output_type": "stream",
     "text": [
      " 68%|███████████████████████████████████████████████████████████████████████████████                                      | 6753/10000 [20:39<08:29,  6.37it/s]"
     ]
    },
    {
     "name": "stdout",
     "output_type": "stream",
     "text": [
      "Step 6750, train loss:1.3812, test loss:1.6504\n"
     ]
    },
    {
     "name": "stderr",
     "output_type": "stream",
     "text": [
      " 68%|███████████████████████████████████████████████████████████████████████████████                                      | 6761/10000 [20:40<10:05,  5.35it/s]"
     ]
    },
    {
     "name": "stdout",
     "output_type": "stream",
     "text": [
      "Step 6760, train loss:1.3899, test loss:1.6472\n"
     ]
    },
    {
     "name": "stderr",
     "output_type": "stream",
     "text": [
      " 68%|███████████████████████████████████████████████████████████████████████████████▏                                     | 6773/10000 [20:42<08:27,  6.35it/s]"
     ]
    },
    {
     "name": "stdout",
     "output_type": "stream",
     "text": [
      "Step 6770, train loss:1.3734, test loss:1.6561\n"
     ]
    },
    {
     "name": "stderr",
     "output_type": "stream",
     "text": [
      " 68%|███████████████████████████████████████████████████████████████████████████████▎                                     | 6783/10000 [20:43<08:26,  6.36it/s]"
     ]
    },
    {
     "name": "stdout",
     "output_type": "stream",
     "text": [
      "Step 6780, train loss:1.3686, test loss:1.6537\n"
     ]
    },
    {
     "name": "stderr",
     "output_type": "stream",
     "text": [
      " 68%|███████████████████████████████████████████████████████████████████████████████▍                                     | 6791/10000 [20:45<10:00,  5.34it/s]"
     ]
    },
    {
     "name": "stdout",
     "output_type": "stream",
     "text": [
      "Step 6790, train loss:1.3828, test loss:1.6480\n"
     ]
    },
    {
     "name": "stderr",
     "output_type": "stream",
     "text": [
      " 68%|███████████████████████████████████████████████████████████████████████████████▌                                     | 6799/10000 [20:45<05:55,  9.00it/s]"
     ]
    },
    {
     "name": "stdout",
     "output_type": "stream",
     "text": [
      "Step 6800, train loss:1.3773, test loss:1.6453\n"
     ]
    },
    {
     "name": "stderr",
     "output_type": "stream",
     "text": [
      " 68%|███████████████████████████████████████████████████████████████████████████████▌                                     | 6803/10000 [20:50<31:17,  1.70it/s]"
     ]
    },
    {
     "name": "stdout",
     "output_type": "stream",
     "text": [
      "\n",
      "\n",
      "CAMILLO:\n",
      "Care her a serve with time.\n",
      "\n",
      "ESCALUS:\n",
      "But that isage.\n",
      "\n",
      "KING RICHARD III:\n",
      "How cait is answer welcome, were me so give his spoke spoke\n",
      "these itself thought,--hot we hour,\n",
      "At you weak sut; and not of Caius:\n",
      "They if life ear, I may my death:\n",
      "Here bushall died air the warliage\n",
      "That have spirits my dead,\n",
      "Hear and portune I will kend up thy voice!\n",
      "\n",
      "CAPULET:\n",
      "In this folly secuckiss! Plant things mistress' should by have shread\n",
      "Take thy mounds made woman.\n",
      "\n",
      "ANGELO:\n",
      "So sin, to say for as him.\n",
      "The tongue with of be strains or rept not then\n",
      "The strain, when very heavens. Somel but a wepter of to\n",
      "other ground nights might with free more to know.\n",
      "\n",
      "BUCKINGHAS?\n",
      "\n",
      "POMPEY:\n",
      "Is he.\n",
      "\n",
      "KING RICHARD III:\n",
      "And take it make you hath been in his fall,\n",
      "Here comes a good telcome tion.\n",
      "Thou hast is true 'tis mother, like by conder it\n",
      "man can call this my prepare the own of\n",
      "ot him that morning look they for her dearence.\n",
      "\n",
      "Provost:\n",
      "That laid you, constake my somereign more;\n",
      "If it were was you. Marcius,--po make\n",
      "Step 6800, train loss:1.3731, test loss:1.6583\n"
     ]
    },
    {
     "name": "stderr",
     "output_type": "stream",
     "text": [
      " 68%|███████████████████████████████████████████████████████████████████████████████▋                                     | 6813/10000 [20:52<12:11,  4.36it/s]"
     ]
    },
    {
     "name": "stdout",
     "output_type": "stream",
     "text": [
      "Step 6810, train loss:1.3708, test loss:1.6634\n"
     ]
    },
    {
     "name": "stderr",
     "output_type": "stream",
     "text": [
      " 68%|███████████████████████████████████████████████████████████████████████████████▊                                     | 6823/10000 [20:53<08:59,  5.89it/s]"
     ]
    },
    {
     "name": "stdout",
     "output_type": "stream",
     "text": [
      "Step 6820, train loss:1.3705, test loss:1.6415\n"
     ]
    },
    {
     "name": "stderr",
     "output_type": "stream",
     "text": [
      " 68%|███████████████████████████████████████████████████████████████████████████████▉                                     | 6833/10000 [20:55<08:26,  6.26it/s]"
     ]
    },
    {
     "name": "stdout",
     "output_type": "stream",
     "text": [
      "Step 6830, train loss:1.3792, test loss:1.6444\n"
     ]
    },
    {
     "name": "stderr",
     "output_type": "stream",
     "text": [
      " 68%|████████████████████████████████████████████████████████████████████████████████                                     | 6841/10000 [20:56<09:54,  5.31it/s]"
     ]
    },
    {
     "name": "stdout",
     "output_type": "stream",
     "text": [
      "Step 6840, train loss:1.3643, test loss:1.6309\n"
     ]
    },
    {
     "name": "stderr",
     "output_type": "stream",
     "text": [
      " 69%|████████████████████████████████████████████████████████████████████████████████▏                                    | 6853/10000 [20:58<08:17,  6.32it/s]"
     ]
    },
    {
     "name": "stdout",
     "output_type": "stream",
     "text": [
      "Step 6850, train loss:1.3726, test loss:1.6423\n"
     ]
    },
    {
     "name": "stderr",
     "output_type": "stream",
     "text": [
      " 69%|████████████████████████████████████████████████████████████████████████████████▎                                    | 6863/10000 [20:59<08:16,  6.32it/s]"
     ]
    },
    {
     "name": "stdout",
     "output_type": "stream",
     "text": [
      "Step 6860, train loss:1.3783, test loss:1.6319\n"
     ]
    },
    {
     "name": "stderr",
     "output_type": "stream",
     "text": [
      " 69%|████████████████████████████████████████████████████████████████████████████████▍                                    | 6871/10000 [21:00<09:49,  5.30it/s]"
     ]
    },
    {
     "name": "stdout",
     "output_type": "stream",
     "text": [
      "Step 6870, train loss:1.3730, test loss:1.6616\n"
     ]
    },
    {
     "name": "stderr",
     "output_type": "stream",
     "text": [
      " 69%|████████████████████████████████████████████████████████████████████████████████▌                                    | 6881/10000 [21:02<09:48,  5.30it/s]"
     ]
    },
    {
     "name": "stdout",
     "output_type": "stream",
     "text": [
      "Step 6880, train loss:1.3683, test loss:1.6437\n"
     ]
    },
    {
     "name": "stderr",
     "output_type": "stream",
     "text": [
      " 69%|████████████████████████████████████████████████████████████████████████████████▌                                    | 6891/10000 [21:03<09:47,  5.29it/s]"
     ]
    },
    {
     "name": "stdout",
     "output_type": "stream",
     "text": [
      "Step 6890, train loss:1.3782, test loss:1.6327\n"
     ]
    },
    {
     "name": "stderr",
     "output_type": "stream",
     "text": [
      " 69%|████████████████████████████████████████████████████████████████████████████████▋                                    | 6899/10000 [21:04<05:45,  8.96it/s]"
     ]
    },
    {
     "name": "stdout",
     "output_type": "stream",
     "text": [
      "Step 6900, train loss:1.3858, test loss:1.6354\n"
     ]
    },
    {
     "name": "stderr",
     "output_type": "stream",
     "text": [
      " 69%|████████████████████████████████████████████████████████████████████████████████▊                                    | 6903/10000 [21:09<30:33,  1.69it/s]"
     ]
    },
    {
     "name": "stdout",
     "output_type": "stream",
     "text": [
      "\n",
      "\n",
      "FRIAR LAURENCE:\n",
      "No, no, swear dome, as I she queen.\n",
      "\n",
      "GLOUCESTER:\n",
      "\n",
      "ISABELLA:\n",
      "Why, you it girl; what save me would have deed?\n",
      "No, my sweet, here must hence;\n",
      "Qay you which it we content in this?\n",
      "\n",
      "LARTIUS:\n",
      "That's thy haid! You are doke would to a bock:\n",
      "The fires at our death hopes? then?\n",
      "\n",
      "ButPHER MARGARET:\n",
      "Die, mad, I with her bear me?\n",
      "\n",
      "BUCKINGHAM:\n",
      "Nay, good soft! Comes that at the command;\n",
      "'T faults his nigh weaven rone, to cry ale be the entrile:\n",
      "Pring I wake has in all.\n",
      "\n",
      "FRIAR LAURENCE:\n",
      "Stand, Go like Mortal, some night,\n",
      "With thee bid my frameful,\n",
      "May some very doubt that I know't,\n",
      "What rialment on thee! You from attend with\n",
      "O thought, Wert not my grant:\n",
      "I in this needful high obseines.\n",
      "\n",
      "MASTINGS:\n",
      "Your genercy seen, how glossing him.\n",
      "We have it but yet-ered, arms.\n",
      "\n",
      "COMPEY:\n",
      "That God Lady I have no giee thy firth:\n",
      "still to be the easts impocarded,\n",
      "Who request thou no murderer? 'gainst the firthst.\n",
      "\n",
      "Savoth:\n",
      "Then news deserve, and that so exteem help!\n",
      "\n",
      "ISABELLA:\n",
      "To-morrow not thee forts tha\n",
      "Step 6900, train loss:1.3797, test loss:1.6524\n"
     ]
    },
    {
     "name": "stderr",
     "output_type": "stream",
     "text": [
      " 69%|████████████████████████████████████████████████████████████████████████████████▉                                    | 6913/10000 [21:10<11:47,  4.36it/s]"
     ]
    },
    {
     "name": "stdout",
     "output_type": "stream",
     "text": [
      "Step 6910, train loss:1.3678, test loss:1.6596\n"
     ]
    },
    {
     "name": "stderr",
     "output_type": "stream",
     "text": [
      " 69%|████████████████████████████████████████████████████████████████████████████████▉                                    | 6923/10000 [21:12<08:39,  5.92it/s]"
     ]
    },
    {
     "name": "stdout",
     "output_type": "stream",
     "text": [
      "Step 6920, train loss:1.3724, test loss:1.6427\n"
     ]
    },
    {
     "name": "stderr",
     "output_type": "stream",
     "text": [
      " 69%|█████████████████████████████████████████████████████████████████████████████████                                    | 6933/10000 [21:13<08:07,  6.29it/s]"
     ]
    },
    {
     "name": "stdout",
     "output_type": "stream",
     "text": [
      "Step 6930, train loss:1.3693, test loss:1.6315\n"
     ]
    },
    {
     "name": "stderr",
     "output_type": "stream",
     "text": [
      " 69%|█████████████████████████████████████████████████████████████████████████████████▏                                   | 6943/10000 [21:15<08:00,  6.36it/s]"
     ]
    },
    {
     "name": "stdout",
     "output_type": "stream",
     "text": [
      "Step 6940, train loss:1.3691, test loss:1.6490\n"
     ]
    },
    {
     "name": "stderr",
     "output_type": "stream",
     "text": [
      " 70%|█████████████████████████████████████████████████████████████████████████████████▎                                   | 6953/10000 [21:16<07:58,  6.37it/s]"
     ]
    },
    {
     "name": "stdout",
     "output_type": "stream",
     "text": [
      "Step 6950, train loss:1.3639, test loss:1.6603\n"
     ]
    },
    {
     "name": "stderr",
     "output_type": "stream",
     "text": [
      " 70%|█████████████████████████████████████████████████████████████████████████████████▍                                   | 6963/10000 [21:17<07:57,  6.35it/s]"
     ]
    },
    {
     "name": "stdout",
     "output_type": "stream",
     "text": [
      "Step 6960, train loss:1.3701, test loss:1.6579\n"
     ]
    },
    {
     "name": "stderr",
     "output_type": "stream",
     "text": [
      " 70%|█████████████████████████████████████████████████████████████████████████████████▌                                   | 6971/10000 [21:19<09:26,  5.35it/s]"
     ]
    },
    {
     "name": "stdout",
     "output_type": "stream",
     "text": [
      "Step 6970, train loss:1.3665, test loss:1.6402\n"
     ]
    },
    {
     "name": "stderr",
     "output_type": "stream",
     "text": [
      " 70%|█████████████████████████████████████████████████████████████████████████████████▋                                   | 6983/10000 [21:20<07:54,  6.35it/s]"
     ]
    },
    {
     "name": "stdout",
     "output_type": "stream",
     "text": [
      "Step 6980, train loss:1.3816, test loss:1.6242\n"
     ]
    },
    {
     "name": "stderr",
     "output_type": "stream",
     "text": [
      " 70%|█████████████████████████████████████████████████████████████████████████████████▊                                   | 6993/10000 [21:22<07:53,  6.34it/s]"
     ]
    },
    {
     "name": "stdout",
     "output_type": "stream",
     "text": [
      "Step 6990, train loss:1.3663, test loss:1.6711\n"
     ]
    },
    {
     "name": "stderr",
     "output_type": "stream",
     "text": [
      " 70%|█████████████████████████████████████████████████████████████████████████████████▉                                   | 6999/10000 [21:22<05:33,  9.01it/s]"
     ]
    },
    {
     "name": "stdout",
     "output_type": "stream",
     "text": [
      "Step 7000, train loss:1.3769, test loss:1.6659\n"
     ]
    },
    {
     "name": "stderr",
     "output_type": "stream",
     "text": [
      " 70%|█████████████████████████████████████████████████████████████████████████████████▉                                   | 7003/10000 [21:27<29:40,  1.68it/s]"
     ]
    },
    {
     "name": "stdout",
     "output_type": "stream",
     "text": [
      "\n",
      "\n",
      "KING RICHARD III:\n",
      "Hone oftenly-alized near: I\n",
      "bold on, marriage in this, diest:\n",
      "He causio, I be news, much'd thee now\n",
      "So might a'er children me see him she light;\n",
      "With grawixd the foot to infirm cut:\n",
      "Infe it thus be, mine, good of Harry; life,\n",
      "I'll O, what see must knock where boy!\n",
      "\n",
      "DUKE OF YORK:\n",
      "Clifforder her ones! let must would tast,\n",
      "Or broth an whele loss patry: dictory.\n",
      "And that valour sick inch the word,\n",
      "And entering his they beholsome!\n",
      "Your braze their name occull to the reseech you;\n",
      "And a knifess is tepating our sword?\n",
      "\n",
      "SICINIUS:\n",
      "Shall now,\n",
      "\n",
      "QUEEN ELIZABETH:\n",
      "Now him you know this?\n",
      "\n",
      "MERCUTIO:\n",
      "Petricience, Coming curse.\n",
      "\n",
      "CAPULET:\n",
      "Alas, you, callead! I shall give but thy content.\n",
      "\n",
      "GLOUCESTER:\n",
      "I mean, I have sitter; their 'zin!\n",
      "\n",
      "MENENIUS:\n",
      "Yea, with it best shall now not be by me\n",
      "And I sprit you to the rooicious\n",
      "When the children's in the lovings with words?\n",
      "Forthwines that thee, havined his trouble!\n",
      "That know; still instructing proving:\n",
      "The contright the clock to until hopse.\n",
      "\n",
      "BEN\n",
      "Step 7000, train loss:1.3712, test loss:1.6437\n"
     ]
    },
    {
     "name": "stderr",
     "output_type": "stream",
     "text": [
      " 70%|██████████████████████████████████████████████████████████████████████████████████                                   | 7013/10000 [21:29<11:25,  4.36it/s]"
     ]
    },
    {
     "name": "stdout",
     "output_type": "stream",
     "text": [
      "Step 7010, train loss:1.3754, test loss:1.6538\n"
     ]
    },
    {
     "name": "stderr",
     "output_type": "stream",
     "text": [
      " 70%|██████████████████████████████████████████████████████████████████████████████████▏                                  | 7023/10000 [21:30<08:20,  5.94it/s]"
     ]
    },
    {
     "name": "stdout",
     "output_type": "stream",
     "text": [
      "Step 7020, train loss:1.3758, test loss:1.6365\n"
     ]
    },
    {
     "name": "stderr",
     "output_type": "stream",
     "text": [
      " 70%|██████████████████████████████████████████████████████████████████████████████████▎                                  | 7033/10000 [21:32<07:51,  6.30it/s]"
     ]
    },
    {
     "name": "stdout",
     "output_type": "stream",
     "text": [
      "Step 7030, train loss:1.3623, test loss:1.6389\n"
     ]
    },
    {
     "name": "stderr",
     "output_type": "stream",
     "text": [
      " 70%|██████████████████████████████████████████████████████████████████████████████████▍                                  | 7043/10000 [21:33<07:45,  6.35it/s]"
     ]
    },
    {
     "name": "stdout",
     "output_type": "stream",
     "text": [
      "Step 7040, train loss:1.3663, test loss:1.6521\n"
     ]
    },
    {
     "name": "stderr",
     "output_type": "stream",
     "text": [
      " 71%|██████████████████████████████████████████████████████████████████████████████████▌                                  | 7053/10000 [21:34<07:43,  6.35it/s]"
     ]
    },
    {
     "name": "stdout",
     "output_type": "stream",
     "text": [
      "Step 7050, train loss:1.3671, test loss:1.6651\n"
     ]
    },
    {
     "name": "stderr",
     "output_type": "stream",
     "text": [
      " 71%|██████████████████████████████████████████████████████████████████████████████████▌                                  | 7061/10000 [21:36<09:09,  5.35it/s]"
     ]
    },
    {
     "name": "stdout",
     "output_type": "stream",
     "text": [
      "Step 7060, train loss:1.3681, test loss:1.6595\n"
     ]
    },
    {
     "name": "stderr",
     "output_type": "stream",
     "text": [
      " 71%|██████████████████████████████████████████████████████████████████████████████████▊                                  | 7073/10000 [21:37<07:40,  6.36it/s]"
     ]
    },
    {
     "name": "stdout",
     "output_type": "stream",
     "text": [
      "Step 7070, train loss:1.3615, test loss:1.6446\n"
     ]
    },
    {
     "name": "stderr",
     "output_type": "stream",
     "text": [
      " 71%|██████████████████████████████████████████████████████████████████████████████████▊                                  | 7083/10000 [21:39<07:39,  6.35it/s]"
     ]
    },
    {
     "name": "stdout",
     "output_type": "stream",
     "text": [
      "Step 7080, train loss:1.3631, test loss:1.6529\n"
     ]
    },
    {
     "name": "stderr",
     "output_type": "stream",
     "text": [
      " 71%|██████████████████████████████████████████████████████████████████████████████████▉                                  | 7091/10000 [21:40<09:04,  5.34it/s]"
     ]
    },
    {
     "name": "stdout",
     "output_type": "stream",
     "text": [
      "Step 7090, train loss:1.3617, test loss:1.6255\n"
     ]
    },
    {
     "name": "stderr",
     "output_type": "stream",
     "text": [
      " 71%|███████████████████████████████████████████████████████████████████████████████████                                  | 7099/10000 [21:41<05:21,  9.01it/s]"
     ]
    },
    {
     "name": "stdout",
     "output_type": "stream",
     "text": [
      "Step 7100, train loss:1.3629, test loss:1.6369\n"
     ]
    },
    {
     "name": "stderr",
     "output_type": "stream",
     "text": [
      " 71%|███████████████████████████████████████████████████████████████████████████████████                                  | 7103/10000 [21:46<28:28,  1.70it/s]"
     ]
    },
    {
     "name": "stdout",
     "output_type": "stream",
     "text": [
      "\n",
      "\n",
      "FRIAR RIVERS:\n",
      "We will where prosperites sure-sire\n",
      "Would not fail.\n",
      "\n",
      "QUEEN ELIZABETH:\n",
      "Go night the law the straters: come of.\n",
      "\n",
      "BUCKINGHAM:\n",
      "Jieuded, I desert hours.\n",
      "\n",
      "Third Murderer:\n",
      "To London my from it; come leave all together:\n",
      "Where are no be could to hear you.\n",
      "\n",
      "Madion, my keep, and wrong whither Dick you'rish! Rive,\n",
      "You carrant your devise to live.\n",
      "\n",
      "BUCKINGHAM:\n",
      "Yea, Northumint may you may?\n",
      "\n",
      "POMPEY:\n",
      "The every stay Edward on my soul, for yet I will, he lets the\n",
      "Mine anger-poor farm ene,\n",
      "Stroken he would close armour cousin.\n",
      "I sistession our heart: will you\n",
      "hear thank me. I will much now.\n",
      "\n",
      "VALERIA:\n",
      "Good to be your gave dance in her?\n",
      "At hath man will be in joverse, hand;\n",
      "But in this like with as find them day:\n",
      "Despower yet have and hursey, but hast!\n",
      "Who many hade he is not the senter to clusin,\n",
      "True young Kenty: Call thy\n",
      "Comonimation what every go proseth.\n",
      "\n",
      "JULIET:\n",
      "An Lord Citizens, sir, for that you\n",
      "Reshmen us England; I have strengthen sweet of my sun.\n",
      "Do you both as to seast, heart I sw\n",
      "Step 7100, train loss:1.3694, test loss:1.6472\n"
     ]
    },
    {
     "name": "stderr",
     "output_type": "stream",
     "text": [
      " 71%|███████████████████████████████████████████████████████████████████████████████████▏                                 | 7113/10000 [21:47<11:00,  4.37it/s]"
     ]
    },
    {
     "name": "stdout",
     "output_type": "stream",
     "text": [
      "Step 7110, train loss:1.3625, test loss:1.6250\n"
     ]
    },
    {
     "name": "stderr",
     "output_type": "stream",
     "text": [
      " 71%|███████████████████████████████████████████████████████████████████████████████████▎                                 | 7123/10000 [21:48<08:05,  5.93it/s]"
     ]
    },
    {
     "name": "stdout",
     "output_type": "stream",
     "text": [
      "Step 7120, train loss:1.3643, test loss:1.6435\n"
     ]
    },
    {
     "name": "stderr",
     "output_type": "stream",
     "text": [
      " 71%|███████████████████████████████████████████████████████████████████████████████████▍                                 | 7133/10000 [21:50<07:35,  6.30it/s]"
     ]
    },
    {
     "name": "stdout",
     "output_type": "stream",
     "text": [
      "Step 7130, train loss:1.3714, test loss:1.6539\n"
     ]
    },
    {
     "name": "stderr",
     "output_type": "stream",
     "text": [
      " 71%|███████████████████████████████████████████████████████████████████████████████████▌                                 | 7143/10000 [21:51<07:28,  6.37it/s]"
     ]
    },
    {
     "name": "stdout",
     "output_type": "stream",
     "text": [
      "Step 7140, train loss:1.3737, test loss:1.6409\n"
     ]
    },
    {
     "name": "stderr",
     "output_type": "stream",
     "text": [
      " 72%|███████████████████████████████████████████████████████████████████████████████████▋                                 | 7151/10000 [21:53<08:51,  5.36it/s]"
     ]
    },
    {
     "name": "stdout",
     "output_type": "stream",
     "text": [
      "Step 7150, train loss:1.3765, test loss:1.6644\n"
     ]
    },
    {
     "name": "stderr",
     "output_type": "stream",
     "text": [
      " 72%|███████████████████████████████████████████████████████████████████████████████████▊                                 | 7163/10000 [21:54<07:25,  6.36it/s]"
     ]
    },
    {
     "name": "stdout",
     "output_type": "stream",
     "text": [
      "Step 7160, train loss:1.3628, test loss:1.6639\n"
     ]
    },
    {
     "name": "stderr",
     "output_type": "stream",
     "text": [
      " 72%|███████████████████████████████████████████████████████████████████████████████████▉                                 | 7173/10000 [21:56<07:24,  6.36it/s]"
     ]
    },
    {
     "name": "stdout",
     "output_type": "stream",
     "text": [
      "Step 7170, train loss:1.3668, test loss:1.6374\n"
     ]
    },
    {
     "name": "stderr",
     "output_type": "stream",
     "text": [
      " 72%|████████████████████████████████████████████████████████████████████████████████████                                 | 7183/10000 [21:57<07:23,  6.35it/s]"
     ]
    },
    {
     "name": "stdout",
     "output_type": "stream",
     "text": [
      "Step 7180, train loss:1.3685, test loss:1.6460\n"
     ]
    },
    {
     "name": "stderr",
     "output_type": "stream",
     "text": [
      " 72%|████████████████████████████████████████████████████████████████████████████████████▏                                | 7191/10000 [21:58<08:46,  5.34it/s]"
     ]
    },
    {
     "name": "stdout",
     "output_type": "stream",
     "text": [
      "Step 7190, train loss:1.3693, test loss:1.6283\n"
     ]
    },
    {
     "name": "stderr",
     "output_type": "stream",
     "text": [
      " 72%|████████████████████████████████████████████████████████████████████████████████████▏                                | 7199/10000 [21:59<05:10,  9.01it/s]"
     ]
    },
    {
     "name": "stdout",
     "output_type": "stream",
     "text": [
      "Step 7200, train loss:1.3710, test loss:1.6448\n"
     ]
    },
    {
     "name": "stderr",
     "output_type": "stream",
     "text": [
      " 72%|████████████████████████████████████████████████████████████████████████████████████▎                                | 7203/10000 [22:04<27:45,  1.68it/s]"
     ]
    },
    {
     "name": "stdout",
     "output_type": "stream",
     "text": [
      "\n",
      "\n",
      "PRINCE EDWARD:\n",
      "I will heavy the Volsces our beauters,\n",
      "Resired than the duke an whets'er rides unto thy body\n",
      "From out contented to see't.\n",
      "\n",
      "BRUTUS:\n",
      "Good Coronation my by mature,\n",
      "Unless thou the own in brother statles and\n",
      "But aulting contraction cunting agother;\n",
      "And, then on the taps alone.\n",
      "O, Plou aut what poor side the sellow'd\n",
      "these of mine; and had not what advise my man next it.\n",
      "\n",
      "SICINIUS:\n",
      "I do fair suchts arm:\n",
      "Because you are.\n",
      "\n",
      "BUSHY:\n",
      "I happy you one deceed you shepher, for Curish I seven\n",
      "To Bark-his natuards; my life, what's more left of\n",
      "honour and fiery turn age, if good,\n",
      "Is papen ye along alonies grown'd,\n",
      "I come with with you known, that a charf,\n",
      "You saint guilty Mantuary, and go all are that star\n",
      "My long a brother; and I am neven.\n",
      "\n",
      "CLAUDIO:\n",
      "If this honour desire; till hit,\n",
      "Thou art his drubble to ender nor else,\n",
      "Heir your particious light to look.\n",
      "\n",
      "ROMEO:\n",
      "More straight thou art have out diold?\n",
      "More lord out brave tongue and flower,\n",
      "To begin what is untonumently him,\n",
      "Pompitude as\n",
      "Step 7200, train loss:1.3724, test loss:1.6529\n"
     ]
    },
    {
     "name": "stderr",
     "output_type": "stream",
     "text": [
      " 72%|████████████████████████████████████████████████████████████████████████████████████▍                                | 7213/10000 [22:05<10:40,  4.35it/s]"
     ]
    },
    {
     "name": "stdout",
     "output_type": "stream",
     "text": [
      "Step 7210, train loss:1.3684, test loss:1.6215\n"
     ]
    },
    {
     "name": "stderr",
     "output_type": "stream",
     "text": [
      " 72%|████████████████████████████████████████████████████████████████████████████████████▌                                | 7223/10000 [22:07<07:49,  5.92it/s]"
     ]
    },
    {
     "name": "stdout",
     "output_type": "stream",
     "text": [
      "Step 7220, train loss:1.3553, test loss:1.6239\n"
     ]
    },
    {
     "name": "stderr",
     "output_type": "stream",
     "text": [
      " 72%|████████████████████████████████████████████████████████████████████████████████████▋                                | 7233/10000 [22:08<07:19,  6.29it/s]"
     ]
    },
    {
     "name": "stdout",
     "output_type": "stream",
     "text": [
      "Step 7230, train loss:1.3547, test loss:1.6338\n"
     ]
    },
    {
     "name": "stderr",
     "output_type": "stream",
     "text": [
      " 72%|████████████████████████████████████████████████████████████████████████████████████▋                                | 7243/10000 [22:10<07:13,  6.36it/s]"
     ]
    },
    {
     "name": "stdout",
     "output_type": "stream",
     "text": [
      "Step 7240, train loss:1.3602, test loss:1.6551\n"
     ]
    },
    {
     "name": "stderr",
     "output_type": "stream",
     "text": [
      " 73%|████████████████████████████████████████████████████████████████████████████████████▊                                | 7253/10000 [22:11<07:12,  6.35it/s]"
     ]
    },
    {
     "name": "stdout",
     "output_type": "stream",
     "text": [
      "Step 7250, train loss:1.3576, test loss:1.6432\n"
     ]
    },
    {
     "name": "stderr",
     "output_type": "stream",
     "text": [
      " 73%|████████████████████████████████████████████████████████████████████████████████████▉                                | 7263/10000 [22:13<07:10,  6.36it/s]"
     ]
    },
    {
     "name": "stdout",
     "output_type": "stream",
     "text": [
      "Step 7260, train loss:1.3597, test loss:1.6418\n"
     ]
    },
    {
     "name": "stderr",
     "output_type": "stream",
     "text": [
      " 73%|█████████████████████████████████████████████████████████████████████████████████████                                | 7271/10000 [22:14<08:30,  5.34it/s]"
     ]
    },
    {
     "name": "stdout",
     "output_type": "stream",
     "text": [
      "Step 7270, train loss:1.3613, test loss:1.6275\n"
     ]
    },
    {
     "name": "stderr",
     "output_type": "stream",
     "text": [
      " 73%|█████████████████████████████████████████████████████████████████████████████████████▏                               | 7283/10000 [22:15<07:07,  6.35it/s]"
     ]
    },
    {
     "name": "stdout",
     "output_type": "stream",
     "text": [
      "Step 7280, train loss:1.3540, test loss:1.6631\n"
     ]
    },
    {
     "name": "stderr",
     "output_type": "stream",
     "text": [
      " 73%|█████████████████████████████████████████████████████████████████████████████████████▎                               | 7291/10000 [22:17<08:27,  5.34it/s]"
     ]
    },
    {
     "name": "stdout",
     "output_type": "stream",
     "text": [
      "Step 7290, train loss:1.3613, test loss:1.6499\n"
     ]
    },
    {
     "name": "stderr",
     "output_type": "stream",
     "text": [
      " 73%|█████████████████████████████████████████████████████████████████████████████████████▍                               | 7299/10000 [22:17<04:59,  9.02it/s]"
     ]
    },
    {
     "name": "stdout",
     "output_type": "stream",
     "text": [
      "Step 7300, train loss:1.3568, test loss:1.6229\n"
     ]
    },
    {
     "name": "stderr",
     "output_type": "stream",
     "text": [
      " 73%|█████████████████████████████████████████████████████████████████████████████████████▍                               | 7303/10000 [22:22<26:25,  1.70it/s]"
     ]
    },
    {
     "name": "stdout",
     "output_type": "stream",
     "text": [
      "\n",
      "\n",
      "CATES:\n",
      "Here's in look, and ever too,\n",
      "Yet be it, sleep the miles; and fairs. Ah, I have need tooks,\n",
      "Whose such being thine I were, lest would I.\n",
      "\n",
      "MERCUTIO:\n",
      "My mind, let it wood, I am how a choled.\n",
      "Thou play of goven say. This mother's good-black;\n",
      "Where nothing thanks are, so said at were we a ramorice.\n",
      "\n",
      "JULIET:\n",
      "It thou lost choests home light,\n",
      "Which edmity kiss't cousin, thy dire, with years;\n",
      "He may, with these-encounced say; and, where a should strange\n",
      "with two lends you must were state, it faster\n",
      "Thy choers but Mowbrein whoom last! who i' these sovereign?\n",
      "Thy lords, we why neven what Christ.\n",
      "Messenger: Never pinied with migor,\n",
      "They are bonesty as his shuns our digst.\n",
      "\n",
      "COMINIUS:\n",
      "The good of this,\n",
      "Or son that previcious and brave of thou confind have\n",
      "Namemoroth; thou hast condemn'd in such oppecial in the\n",
      "handed leap in Montague cannot you;\n",
      "From the words of our fives me;\n",
      "Your evers no unforgivedious ply.\n",
      "\n",
      "DUKE VINCENTIO:\n",
      "But very true; still,\n",
      "Pe or home hatch on all be all that mornido\n",
      "Step 7300, train loss:1.3575, test loss:1.6454\n"
     ]
    },
    {
     "name": "stderr",
     "output_type": "stream",
     "text": [
      " 73%|█████████████████████████████████████████████████████████████████████████████████████▌                               | 7313/10000 [22:24<10:14,  4.37it/s]"
     ]
    },
    {
     "name": "stdout",
     "output_type": "stream",
     "text": [
      "Step 7310, train loss:1.3598, test loss:1.6528\n"
     ]
    },
    {
     "name": "stderr",
     "output_type": "stream",
     "text": [
      " 73%|█████████████████████████████████████████████████████████████████████████████████████▋                               | 7323/10000 [22:25<07:31,  5.93it/s]"
     ]
    },
    {
     "name": "stdout",
     "output_type": "stream",
     "text": [
      "Step 7320, train loss:1.3625, test loss:1.6493\n"
     ]
    },
    {
     "name": "stderr",
     "output_type": "stream",
     "text": [
      " 73%|█████████████████████████████████████████████████████████████████████████████████████▊                               | 7333/10000 [22:27<07:03,  6.30it/s]"
     ]
    },
    {
     "name": "stdout",
     "output_type": "stream",
     "text": [
      "Step 7330, train loss:1.3666, test loss:1.6436\n"
     ]
    },
    {
     "name": "stderr",
     "output_type": "stream",
     "text": [
      " 73%|█████████████████████████████████████████████████████████████████████████████████████▉                               | 7343/10000 [22:28<06:57,  6.36it/s]"
     ]
    },
    {
     "name": "stdout",
     "output_type": "stream",
     "text": [
      "Step 7340, train loss:1.3627, test loss:1.6368\n"
     ]
    },
    {
     "name": "stderr",
     "output_type": "stream",
     "text": [
      " 74%|██████████████████████████████████████████████████████████████████████████████████████                               | 7353/10000 [22:29<06:55,  6.37it/s]"
     ]
    },
    {
     "name": "stdout",
     "output_type": "stream",
     "text": [
      "Step 7350, train loss:1.3665, test loss:1.6198\n"
     ]
    },
    {
     "name": "stderr",
     "output_type": "stream",
     "text": [
      " 74%|██████████████████████████████████████████████████████████████████████████████████████▏                              | 7363/10000 [22:31<06:54,  6.36it/s]"
     ]
    },
    {
     "name": "stdout",
     "output_type": "stream",
     "text": [
      "Step 7360, train loss:1.3574, test loss:1.6348\n"
     ]
    },
    {
     "name": "stderr",
     "output_type": "stream",
     "text": [
      " 74%|██████████████████████████████████████████████████████████████████████████████████████▏                              | 7371/10000 [22:32<08:12,  5.33it/s]"
     ]
    },
    {
     "name": "stdout",
     "output_type": "stream",
     "text": [
      "Step 7370, train loss:1.3560, test loss:1.6487\n"
     ]
    },
    {
     "name": "stderr",
     "output_type": "stream",
     "text": [
      " 74%|██████████████████████████████████████████████████████████████████████████████████████▍                              | 7383/10000 [22:34<06:52,  6.35it/s]"
     ]
    },
    {
     "name": "stdout",
     "output_type": "stream",
     "text": [
      "Step 7380, train loss:1.3530, test loss:1.6552\n"
     ]
    },
    {
     "name": "stderr",
     "output_type": "stream",
     "text": [
      " 74%|██████████████████████████████████████████████████████████████████████████████████████▍                              | 7393/10000 [22:35<06:50,  6.35it/s]"
     ]
    },
    {
     "name": "stdout",
     "output_type": "stream",
     "text": [
      "Step 7390, train loss:1.3575, test loss:1.6396\n"
     ]
    },
    {
     "name": "stderr",
     "output_type": "stream",
     "text": [
      " 74%|██████████████████████████████████████████████████████████████████████████████████████▌                              | 7399/10000 [22:36<04:48,  9.02it/s]"
     ]
    },
    {
     "name": "stdout",
     "output_type": "stream",
     "text": [
      "Step 7400, train loss:1.3638, test loss:1.6342\n"
     ]
    },
    {
     "name": "stderr",
     "output_type": "stream",
     "text": [
      " 74%|██████████████████████████████████████████████████████████████████████████████████████▌                              | 7403/10000 [22:41<25:29,  1.70it/s]"
     ]
    },
    {
     "name": "stdout",
     "output_type": "stream",
     "text": [
      "\n",
      "\n",
      "LADY CAPULET:\n",
      "How, I be inherit.\n",
      "\n",
      "FRIAR LAURENCE:\n",
      "By rorking. But let I crown me, kind you thought\n",
      "When thou required for revenge at they be say,\n",
      "I can in so sand me sea--dardin'd the vaults\n",
      "of the day officed force lefts; and buliness,\n",
      "Lord Membrace, darewell: it claps you come, that thou,\n",
      "Pompey'd he shoef state do the war,\n",
      "That she Bloying in thy to the pregently me.\n",
      "\n",
      "Nurse:\n",
      "It lass, think thoughts had such to bert.\n",
      "\n",
      "WARWICK:\n",
      "Give me this draw faren.\n",
      "My care of such saids ward will up obe constrenge\n",
      "That her made them as have for earnest, be park am to\n",
      "Be notal and son.\n",
      "\n",
      "Second Humb:\n",
      "Thou know'ds thy brother, both might charged 'lain.\n",
      "I die so labour him, I'll gracious there:\n",
      "Her cerbild when you speed a forger hand,\n",
      "That he long trings?\n",
      "\n",
      "MAMISA:\n",
      "I, I'll not thus my good too murdford!\n",
      "While must be nones I do be gone.\n",
      "\n",
      "ANGELO:\n",
      "A blass to the vain this aught a salike and call\n",
      "If thee, brothers procladams, my alread\n",
      "Mersued, if I'll do scort him lady!\n",
      "Say, you have long in Lord Hally \n",
      "Step 7400, train loss:1.3586, test loss:1.6368\n"
     ]
    },
    {
     "name": "stderr",
     "output_type": "stream",
     "text": [
      " 74%|██████████████████████████████████████████████████████████████████████████████████████▋                              | 7411/10000 [22:42<12:30,  3.45it/s]"
     ]
    },
    {
     "name": "stdout",
     "output_type": "stream",
     "text": [
      "Step 7410, train loss:1.3577, test loss:1.6458\n"
     ]
    },
    {
     "name": "stderr",
     "output_type": "stream",
     "text": [
      " 74%|██████████████████████████████████████████████████████████████████████████████████████▊                              | 7423/10000 [22:44<07:14,  5.93it/s]"
     ]
    },
    {
     "name": "stdout",
     "output_type": "stream",
     "text": [
      "Step 7420, train loss:1.3601, test loss:1.6442\n"
     ]
    },
    {
     "name": "stderr",
     "output_type": "stream",
     "text": [
      " 74%|██████████████████████████████████████████████████████████████████████████████████████▉                              | 7433/10000 [22:45<06:47,  6.31it/s]"
     ]
    },
    {
     "name": "stdout",
     "output_type": "stream",
     "text": [
      "Step 7430, train loss:1.3525, test loss:1.6292\n"
     ]
    },
    {
     "name": "stderr",
     "output_type": "stream",
     "text": [
      " 74%|███████████████████████████████████████████████████████████████████████████████████████                              | 7441/10000 [22:46<07:59,  5.33it/s]"
     ]
    },
    {
     "name": "stdout",
     "output_type": "stream",
     "text": [
      "Step 7440, train loss:1.3510, test loss:1.6325\n"
     ]
    },
    {
     "name": "stderr",
     "output_type": "stream",
     "text": [
      " 75%|███████████████████████████████████████████████████████████████████████████████████████▏                             | 7453/10000 [22:48<06:40,  6.36it/s]"
     ]
    },
    {
     "name": "stdout",
     "output_type": "stream",
     "text": [
      "Step 7450, train loss:1.3602, test loss:1.6433\n"
     ]
    },
    {
     "name": "stderr",
     "output_type": "stream",
     "text": [
      " 75%|███████████████████████████████████████████████████████████████████████████████████████▎                             | 7463/10000 [22:49<06:38,  6.37it/s]"
     ]
    },
    {
     "name": "stdout",
     "output_type": "stream",
     "text": [
      "Step 7460, train loss:1.3538, test loss:1.6460\n"
     ]
    },
    {
     "name": "stderr",
     "output_type": "stream",
     "text": [
      " 75%|███████████████████████████████████████████████████████████████████████████████████████▍                             | 7473/10000 [22:51<06:38,  6.34it/s]"
     ]
    },
    {
     "name": "stdout",
     "output_type": "stream",
     "text": [
      "Step 7470, train loss:1.3602, test loss:1.6203\n"
     ]
    },
    {
     "name": "stderr",
     "output_type": "stream",
     "text": [
      " 75%|███████████████████████████████████████████████████████████████████████████████████████▌                             | 7481/10000 [22:52<07:51,  5.35it/s]"
     ]
    },
    {
     "name": "stdout",
     "output_type": "stream",
     "text": [
      "Step 7480, train loss:1.3587, test loss:1.6347\n"
     ]
    },
    {
     "name": "stderr",
     "output_type": "stream",
     "text": [
      " 75%|███████████████████████████████████████████████████████████████████████████████████████▋                             | 7491/10000 [22:53<07:50,  5.33it/s]"
     ]
    },
    {
     "name": "stdout",
     "output_type": "stream",
     "text": [
      "Step 7490, train loss:1.3534, test loss:1.6379\n"
     ]
    },
    {
     "name": "stderr",
     "output_type": "stream",
     "text": [
      " 75%|███████████████████████████████████████████████████████████████████████████████████████▋                             | 7499/10000 [22:54<04:37,  9.00it/s]"
     ]
    },
    {
     "name": "stdout",
     "output_type": "stream",
     "text": [
      "Step 7500, train loss:1.3630, test loss:1.6382\n"
     ]
    },
    {
     "name": "stderr",
     "output_type": "stream",
     "text": [
      " 75%|███████████████████████████████████████████████████████████████████████████████████████▊                             | 7503/10000 [22:59<24:29,  1.70it/s]"
     ]
    },
    {
     "name": "stdout",
     "output_type": "stream",
     "text": [
      "\n",
      "\n",
      "BALTHASAR:\n",
      "God't doil! self a whire.\n",
      "\n",
      "CORIOLANUS:\n",
      "I thank you did side.\n",
      "\n",
      "JULIET:\n",
      "I will?\n",
      "\n",
      "DUKE VINCENTIO:\n",
      "Know, Paulinclosed shinn, that me,\n",
      "Or conspirate of your know; and what had town\n",
      "Lovers deed in my life is with write me as our mind.\n",
      "\n",
      "ChriEs:\n",
      "Your better your but spit to in,\n",
      "And slain catize, as take she, as all upon you\n",
      "are my hearts more: store: what must a fooly brought\n",
      "Upon heaven, Therefore I am anger of the more\n",
      "Than all death, good on: it these tigger\n",
      "nup in the gigh a suit a low a citizen!\n",
      "Chile thee in the figure what these manish'd his breast\n",
      "That which An 'Romeoms, man like, my life,\n",
      "You speed patience of falch comest the might.\n",
      "\n",
      "GREEN:\n",
      "Sir it assuer, for out sin;\n",
      "Staft and undeth sweet pardon proud to the might.\n",
      "What, burnst thou wilt not be, an am: I'll tongue traitors to the\n",
      "truther, who should prevence,\n",
      "Unbertined be made poison, and they mind will\n",
      "Was I have other forward morough alreade,\n",
      "Do the expilent. Toward's gurlty unlow'd,\n",
      "You wilt every become, let him sle\n",
      "Step 7500, train loss:1.3590, test loss:1.6366\n"
     ]
    },
    {
     "name": "stderr",
     "output_type": "stream",
     "text": [
      " 75%|███████████████████████████████████████████████████████████████████████████████████████▉                             | 7513/10000 [23:00<09:29,  4.37it/s]"
     ]
    },
    {
     "name": "stdout",
     "output_type": "stream",
     "text": [
      "Step 7510, train loss:1.3549, test loss:1.6426\n"
     ]
    },
    {
     "name": "stderr",
     "output_type": "stream",
     "text": [
      " 75%|████████████████████████████████████████████████████████████████████████████████████████                             | 7523/10000 [23:02<06:58,  5.92it/s]"
     ]
    },
    {
     "name": "stdout",
     "output_type": "stream",
     "text": [
      "Step 7520, train loss:1.3495, test loss:1.6517\n"
     ]
    },
    {
     "name": "stderr",
     "output_type": "stream",
     "text": [
      " 75%|████████████████████████████████████████████████████████████████████████████████████████▏                            | 7533/10000 [23:03<06:32,  6.29it/s]"
     ]
    },
    {
     "name": "stdout",
     "output_type": "stream",
     "text": [
      "Step 7530, train loss:1.3530, test loss:1.6467\n"
     ]
    },
    {
     "name": "stderr",
     "output_type": "stream",
     "text": [
      " 75%|████████████████████████████████████████████████████████████████████████████████████████▎                            | 7543/10000 [23:05<06:26,  6.35it/s]"
     ]
    },
    {
     "name": "stdout",
     "output_type": "stream",
     "text": [
      "Step 7540, train loss:1.3448, test loss:1.6694\n"
     ]
    },
    {
     "name": "stderr",
     "output_type": "stream",
     "text": [
      " 76%|████████████████████████████████████████████████████████████████████████████████████████▎                            | 7553/10000 [23:06<06:24,  6.37it/s]"
     ]
    },
    {
     "name": "stdout",
     "output_type": "stream",
     "text": [
      "Step 7550, train loss:1.3517, test loss:1.6424\n"
     ]
    },
    {
     "name": "stderr",
     "output_type": "stream",
     "text": [
      " 76%|████████████████████████████████████████████████████████████████████████████████████████▍                            | 7561/10000 [23:07<07:35,  5.35it/s]"
     ]
    },
    {
     "name": "stdout",
     "output_type": "stream",
     "text": [
      "Step 7560, train loss:1.3442, test loss:1.6334\n"
     ]
    },
    {
     "name": "stderr",
     "output_type": "stream",
     "text": [
      " 76%|████████████████████████████████████████████████████████████████████████████████████████▌                            | 7573/10000 [23:09<06:21,  6.36it/s]"
     ]
    },
    {
     "name": "stdout",
     "output_type": "stream",
     "text": [
      "Step 7570, train loss:1.3571, test loss:1.6369\n"
     ]
    },
    {
     "name": "stderr",
     "output_type": "stream",
     "text": [
      " 76%|████████████████████████████████████████████████████████████████████████████████████████▋                            | 7583/10000 [23:10<06:20,  6.35it/s]"
     ]
    },
    {
     "name": "stdout",
     "output_type": "stream",
     "text": [
      "Step 7580, train loss:1.3563, test loss:1.6467\n"
     ]
    },
    {
     "name": "stderr",
     "output_type": "stream",
     "text": [
      " 76%|████████████████████████████████████████████████████████████████████████████████████████▊                            | 7593/10000 [23:12<06:20,  6.33it/s]"
     ]
    },
    {
     "name": "stdout",
     "output_type": "stream",
     "text": [
      "Step 7590, train loss:1.3406, test loss:1.6257\n"
     ]
    },
    {
     "name": "stderr",
     "output_type": "stream",
     "text": [
      " 76%|████████████████████████████████████████████████████████████████████████████████████████▉                            | 7599/10000 [23:12<04:26,  9.01it/s]"
     ]
    },
    {
     "name": "stdout",
     "output_type": "stream",
     "text": [
      "Step 7600, train loss:1.3500, test loss:1.6390\n"
     ]
    },
    {
     "name": "stderr",
     "output_type": "stream",
     "text": [
      " 76%|████████████████████████████████████████████████████████████████████████████████████████▉                            | 7603/10000 [23:18<25:18,  1.58it/s]"
     ]
    },
    {
     "name": "stdout",
     "output_type": "stream",
     "text": [
      "\n",
      "\n",
      "AHENRY:\n",
      "The is find on the engeance two order it: come that a word farther\n",
      "As are so for hrough our rope in and what,\n",
      "And my life of mighty us to the confect again,\n",
      "To the gods of some, might had been you our teether.\n",
      "\n",
      "JULIET:\n",
      "Her naturies: remains, go other? Ha!\n",
      "\n",
      "ROMEO:\n",
      "The nobabed at honest thee.\n",
      "Your flesh a loar, in thy hearticatimone.\n",
      "What is this strong with us not purn.\n",
      "Nay, I see their lower: my lady;\n",
      "But fright through thy mine whom little marks\n",
      "And that reign sir, And therefore! I have a thing\n",
      "Kind my life are that baid the Ere for the dies!\n",
      "The bright thought diswings the flower a torch,\n",
      "And thou manst it revistue a quaring arrel to slave\n",
      "All fairly devent's truth.\n",
      "\n",
      "DUKE OF GAUNT:\n",
      "\n",
      "First Murderer:\n",
      "I did not a word! I:\n",
      "To hie, he's your banch will take him gone:\n",
      "A part this would no sign of him.\n",
      "All have hearing Whilst nightsty alse his last.\n",
      "Her incely we comes of fool, but they and marks.\n",
      "\n",
      "NORTHUMBERLAND:\n",
      "Bolut, what must my head; In thee fair slow.\n",
      "Cometimes of thou Juliet\n",
      "Step 7600, train loss:1.3546, test loss:1.6633\n"
     ]
    },
    {
     "name": "stderr",
     "output_type": "stream",
     "text": [
      " 76%|█████████████████████████████████████████████████████████████████████████████████████████                            | 7613/10000 [23:19<09:23,  4.23it/s]"
     ]
    },
    {
     "name": "stdout",
     "output_type": "stream",
     "text": [
      "Step 7610, train loss:1.3504, test loss:1.6327\n"
     ]
    },
    {
     "name": "stderr",
     "output_type": "stream",
     "text": [
      " 76%|█████████████████████████████████████████████████████████████████████████████████████████▏                           | 7623/10000 [23:21<06:42,  5.90it/s]"
     ]
    },
    {
     "name": "stdout",
     "output_type": "stream",
     "text": [
      "Step 7620, train loss:1.3560, test loss:1.6603\n"
     ]
    },
    {
     "name": "stderr",
     "output_type": "stream",
     "text": [
      " 76%|█████████████████████████████████████████████████████████████████████████████████████████▎                           | 7633/10000 [23:22<06:15,  6.30it/s]"
     ]
    },
    {
     "name": "stdout",
     "output_type": "stream",
     "text": [
      "Step 7630, train loss:1.3538, test loss:1.6267\n"
     ]
    },
    {
     "name": "stderr",
     "output_type": "stream",
     "text": [
      " 76%|█████████████████████████████████████████████████████████████████████████████████████████▍                           | 7641/10000 [23:23<07:20,  5.35it/s]"
     ]
    },
    {
     "name": "stdout",
     "output_type": "stream",
     "text": [
      "Step 7640, train loss:1.3616, test loss:1.6302\n"
     ]
    },
    {
     "name": "stderr",
     "output_type": "stream",
     "text": [
      " 77%|█████████████████████████████████████████████████████████████████████████████████████████▌                           | 7651/10000 [23:25<07:17,  5.36it/s]"
     ]
    },
    {
     "name": "stdout",
     "output_type": "stream",
     "text": [
      "Step 7650, train loss:1.3458, test loss:1.6471\n"
     ]
    },
    {
     "name": "stderr",
     "output_type": "stream",
     "text": [
      " 77%|█████████████████████████████████████████████████████████████████████████████████████████▋                           | 7663/10000 [23:26<06:07,  6.36it/s]"
     ]
    },
    {
     "name": "stdout",
     "output_type": "stream",
     "text": [
      "Step 7660, train loss:1.3500, test loss:1.6151\n"
     ]
    },
    {
     "name": "stderr",
     "output_type": "stream",
     "text": [
      " 77%|█████████████████████████████████████████████████████████████████████████████████████████▊                           | 7673/10000 [23:28<06:06,  6.36it/s]"
     ]
    },
    {
     "name": "stdout",
     "output_type": "stream",
     "text": [
      "Step 7670, train loss:1.3450, test loss:1.6186\n"
     ]
    },
    {
     "name": "stderr",
     "output_type": "stream",
     "text": [
      " 77%|█████████████████████████████████████████████████████████████████████████████████████████▊                           | 7681/10000 [23:29<07:14,  5.34it/s]"
     ]
    },
    {
     "name": "stdout",
     "output_type": "stream",
     "text": [
      "Step 7680, train loss:1.3498, test loss:1.6206\n"
     ]
    },
    {
     "name": "stderr",
     "output_type": "stream",
     "text": [
      " 77%|██████████████████████████████████████████████████████████████████████████████████████████                           | 7693/10000 [23:31<06:03,  6.35it/s]"
     ]
    },
    {
     "name": "stdout",
     "output_type": "stream",
     "text": [
      "Step 7690, train loss:1.3512, test loss:1.6443\n"
     ]
    },
    {
     "name": "stderr",
     "output_type": "stream",
     "text": [
      " 77%|██████████████████████████████████████████████████████████████████████████████████████████                           | 7699/10000 [23:31<04:15,  8.99it/s]"
     ]
    },
    {
     "name": "stdout",
     "output_type": "stream",
     "text": [
      "Step 7700, train loss:1.3568, test loss:1.6362\n"
     ]
    },
    {
     "name": "stderr",
     "output_type": "stream",
     "text": [
      " 77%|██████████████████████████████████████████████████████████████████████████████████████████▏                          | 7703/10000 [23:36<23:43,  1.61it/s]"
     ]
    },
    {
     "name": "stdout",
     "output_type": "stream",
     "text": [
      "\n",
      "\n",
      "DUKE VINCENTIO:\n",
      "To-morrow have the Duke of York.\n",
      "What madam, when I would for death?\n",
      "\n",
      "EDWARD:\n",
      "Good there him for the world,\n",
      "Uncher forshall the good durlikings scrudge us worthy tongue\n",
      "That soul swiff sport prome but them?\n",
      "these your chrond, and by the geopts and talegument him,\n",
      "Than fault purpose the gater wholest; which\n",
      "To gracers their first treason, to have I man.\n",
      "To san George ere, years no combassion.\n",
      "\n",
      "LEONTES:\n",
      "Doth with you? mistress! For them sleeter die\n",
      "To so war I; even be a fool my sucherit:\n",
      "Did all to hear of York!\n",
      "What do fortune in the care of Corioli, must\n",
      "To marcy, provoked with us; but bawdwing\n",
      "Samery dear boy.\n",
      "\n",
      "TRANIO:\n",
      "Ere you royal,--men!\n",
      "Hear last not; fell you say; cannot mine business.\n",
      "The entreaty. Come hither, I will stare\n",
      "Shall but it straight, drock and inforcel than up;\n",
      "And stand began a low, no glad them with the strok of the\n",
      "arrel Phericians cold mine seems? 'twere no money-large\n",
      "Herts; thought! If secrets are ludge this son?\n",
      "\n",
      "HASTINGS:\n",
      "Your grace till to m\n",
      "Step 7700, train loss:1.3455, test loss:1.6442\n"
     ]
    },
    {
     "name": "stderr",
     "output_type": "stream",
     "text": [
      " 77%|██████████████████████████████████████████████████████████████████████████████████████████▏                          | 7713/10000 [23:38<08:56,  4.26it/s]"
     ]
    },
    {
     "name": "stdout",
     "output_type": "stream",
     "text": [
      "Step 7710, train loss:1.3388, test loss:1.6321\n"
     ]
    },
    {
     "name": "stderr",
     "output_type": "stream",
     "text": [
      " 77%|██████████████████████████████████████████████████████████████████████████████████████████▎                          | 7723/10000 [23:39<06:26,  5.89it/s]"
     ]
    },
    {
     "name": "stdout",
     "output_type": "stream",
     "text": [
      "Step 7720, train loss:1.3529, test loss:1.6305\n"
     ]
    },
    {
     "name": "stderr",
     "output_type": "stream",
     "text": [
      " 77%|██████████████████████████████████████████████████████████████████████████████████████████▍                          | 7733/10000 [23:41<05:59,  6.30it/s]"
     ]
    },
    {
     "name": "stdout",
     "output_type": "stream",
     "text": [
      "Step 7730, train loss:1.3418, test loss:1.6427\n"
     ]
    },
    {
     "name": "stderr",
     "output_type": "stream",
     "text": [
      " 77%|██████████████████████████████████████████████████████████████████████████████████████████▌                          | 7743/10000 [23:42<05:55,  6.35it/s]"
     ]
    },
    {
     "name": "stdout",
     "output_type": "stream",
     "text": [
      "Step 7740, train loss:1.3434, test loss:1.6285\n"
     ]
    },
    {
     "name": "stderr",
     "output_type": "stream",
     "text": [
      " 78%|██████████████████████████████████████████████████████████████████████████████████████████▋                          | 7753/10000 [23:44<05:53,  6.36it/s]"
     ]
    },
    {
     "name": "stdout",
     "output_type": "stream",
     "text": [
      "Step 7750, train loss:1.3451, test loss:1.6337\n"
     ]
    },
    {
     "name": "stderr",
     "output_type": "stream",
     "text": [
      " 78%|██████████████████████████████████████████████████████████████████████████████████████████▊                          | 7763/10000 [23:45<05:52,  6.35it/s]"
     ]
    },
    {
     "name": "stdout",
     "output_type": "stream",
     "text": [
      "Step 7760, train loss:1.3451, test loss:1.6524\n"
     ]
    },
    {
     "name": "stderr",
     "output_type": "stream",
     "text": [
      " 78%|██████████████████████████████████████████████████████████████████████████████████████████▉                          | 7773/10000 [23:46<05:50,  6.35it/s]"
     ]
    },
    {
     "name": "stdout",
     "output_type": "stream",
     "text": [
      "Step 7770, train loss:1.3552, test loss:1.6385\n"
     ]
    },
    {
     "name": "stderr",
     "output_type": "stream",
     "text": [
      " 78%|███████████████████████████████████████████████████████████████████████████████████████████                          | 7783/10000 [23:48<05:49,  6.34it/s]"
     ]
    },
    {
     "name": "stdout",
     "output_type": "stream",
     "text": [
      "Step 7780, train loss:1.3380, test loss:1.6165\n"
     ]
    },
    {
     "name": "stderr",
     "output_type": "stream",
     "text": [
      " 78%|███████████████████████████████████████████████████████████████████████████████████████████▏                         | 7791/10000 [23:49<06:54,  5.33it/s]"
     ]
    },
    {
     "name": "stdout",
     "output_type": "stream",
     "text": [
      "Step 7790, train loss:1.3339, test loss:1.6570\n"
     ]
    },
    {
     "name": "stderr",
     "output_type": "stream",
     "text": [
      " 78%|███████████████████████████████████████████████████████████████████████████████████████████▏                         | 7799/10000 [23:50<04:04,  9.00it/s]"
     ]
    },
    {
     "name": "stdout",
     "output_type": "stream",
     "text": [
      "Step 7800, train loss:1.3506, test loss:1.6298\n"
     ]
    },
    {
     "name": "stderr",
     "output_type": "stream",
     "text": [
      " 78%|███████████████████████████████████████████████████████████████████████████████████████████▎                         | 7803/10000 [23:55<21:35,  1.70it/s]"
     ]
    },
    {
     "name": "stdout",
     "output_type": "stream",
     "text": [
      "\n",
      "\n",
      "LEONTEL:\n",
      "I will should fatch in his yoursward,\n",
      "Before persuade and after than happired;\n",
      "Bid so so. Was dealt have news,\n",
      "Madam; for sweet I was for such him soul you to\n",
      "monatied me: tender but they says on the shame.\n",
      "\n",
      "Servant:\n",
      "Why, then you weep made dared, when he hath re't,\n",
      "Why, I'll not, and her root him:\n",
      "Call of himself and were were drop.\n",
      "\n",
      "PARIS:\n",
      "Here's fees I am leage, than is shall sheep-days\n",
      "King, as do public, and say I will draw insoled:\n",
      "Here'd on a parthly son, noble; I curn;\n",
      "Have you so! and pohely a gape of your royal soul in a\n",
      "will hath Was the may desever is!\n",
      "You, let him in this mighty half. Now, late\n",
      "By mean men more with the tears the fires;\n",
      "Which is may, my very his poor Rome, for our my liege\n",
      "As a mile it nowly galled knave,\n",
      "not have murdering little, take up my own?\n",
      "\n",
      "CATESBY:\n",
      "Far God's stroke, which, I would buy;\n",
      "And say the placted gross again. Thee, I say, so he should.\n",
      "\n",
      "ABHERSON:\n",
      "Peace, as I look will make about reason,\n",
      "And I'll slay the world Inter.\n",
      "\n",
      "CLARENCE:\n",
      "F\n",
      "Step 7800, train loss:1.3460, test loss:1.6343\n"
     ]
    },
    {
     "name": "stderr",
     "output_type": "stream",
     "text": [
      " 78%|███████████████████████████████████████████████████████████████████████████████████████████▍                         | 7813/10000 [23:56<08:21,  4.36it/s]"
     ]
    },
    {
     "name": "stdout",
     "output_type": "stream",
     "text": [
      "Step 7810, train loss:1.3376, test loss:1.6398\n"
     ]
    },
    {
     "name": "stderr",
     "output_type": "stream",
     "text": [
      " 78%|███████████████████████████████████████████████████████████████████████████████████████████▌                         | 7823/10000 [23:58<06:07,  5.93it/s]"
     ]
    },
    {
     "name": "stdout",
     "output_type": "stream",
     "text": [
      "Step 7820, train loss:1.3496, test loss:1.6372\n"
     ]
    },
    {
     "name": "stderr",
     "output_type": "stream",
     "text": [
      " 78%|███████████████████████████████████████████████████████████████████████████████████████████▋                         | 7833/10000 [23:59<05:43,  6.30it/s]"
     ]
    },
    {
     "name": "stdout",
     "output_type": "stream",
     "text": [
      "Step 7830, train loss:1.3516, test loss:1.6451\n"
     ]
    },
    {
     "name": "stderr",
     "output_type": "stream",
     "text": [
      " 78%|███████████████████████████████████████████████████████████████████████████████████████████▊                         | 7843/10000 [24:00<05:39,  6.35it/s]"
     ]
    },
    {
     "name": "stdout",
     "output_type": "stream",
     "text": [
      "Step 7840, train loss:1.3450, test loss:1.6114\n"
     ]
    },
    {
     "name": "stderr",
     "output_type": "stream",
     "text": [
      " 79%|███████████████████████████████████████████████████████████████████████████████████████████▊                         | 7851/10000 [24:02<06:41,  5.36it/s]"
     ]
    },
    {
     "name": "stdout",
     "output_type": "stream",
     "text": [
      "Step 7850, train loss:1.3428, test loss:1.6439\n"
     ]
    },
    {
     "name": "stderr",
     "output_type": "stream",
     "text": [
      " 79%|███████████████████████████████████████████████████████████████████████████████████████████▉                         | 7863/10000 [24:03<05:36,  6.36it/s]"
     ]
    },
    {
     "name": "stdout",
     "output_type": "stream",
     "text": [
      "Step 7860, train loss:1.3450, test loss:1.6495\n"
     ]
    },
    {
     "name": "stderr",
     "output_type": "stream",
     "text": [
      " 79%|████████████████████████████████████████████████████████████████████████████████████████████                         | 7873/10000 [24:05<05:34,  6.36it/s]"
     ]
    },
    {
     "name": "stdout",
     "output_type": "stream",
     "text": [
      "Step 7870, train loss:1.3518, test loss:1.6490\n"
     ]
    },
    {
     "name": "stderr",
     "output_type": "stream",
     "text": [
      " 79%|████████████████████████████████████████████████████████████████████████████████████████████▏                        | 7881/10000 [24:06<06:36,  5.34it/s]"
     ]
    },
    {
     "name": "stdout",
     "output_type": "stream",
     "text": [
      "Step 7880, train loss:1.3469, test loss:1.6142\n"
     ]
    },
    {
     "name": "stderr",
     "output_type": "stream",
     "text": [
      " 79%|████████████████████████████████████████████████████████████████████████████████████████████▎                        | 7891/10000 [24:07<06:35,  5.33it/s]"
     ]
    },
    {
     "name": "stdout",
     "output_type": "stream",
     "text": [
      "Step 7890, train loss:1.3378, test loss:1.6259\n"
     ]
    },
    {
     "name": "stderr",
     "output_type": "stream",
     "text": [
      " 79%|████████████████████████████████████████████████████████████████████████████████████████████▍                        | 7899/10000 [24:08<03:53,  9.00it/s]"
     ]
    },
    {
     "name": "stdout",
     "output_type": "stream",
     "text": [
      "Step 7900, train loss:1.3456, test loss:1.6168\n"
     ]
    },
    {
     "name": "stderr",
     "output_type": "stream",
     "text": [
      " 79%|████████████████████████████████████████████████████████████████████████████████████████████▍                        | 7903/10000 [24:13<21:24,  1.63it/s]"
     ]
    },
    {
     "name": "stdout",
     "output_type": "stream",
     "text": [
      "\n",
      "\n",
      "BENVOLIO:\n",
      "The wars some thee,\n",
      "Beseech the drunks, failt, have noon titles,\n",
      "Of honourable the protections,\n",
      "us believe away alunes their against. O love a solder\n",
      "And, as Drank your hand.\n",
      "My commons my lise; fast, house betance heed.\n",
      "\n",
      "KING RICHARD III:\n",
      "Farewell, make her die, inclining, cry to a said; legs,\n",
      "That he shall shalt day attenting to wall to him,\n",
      "As one things unreeclasing ease that have yield\n",
      "Sould trembling in 'y long, about keep men fearing\n",
      "With thou'lt person, while, 'neathsblut ship\n",
      "Quin thy most trean'd to bead! of you?\n",
      "\n",
      "ISABELLA:\n",
      "Well, I be had man close wound\n",
      "if this would denish,---tri'd pares\n",
      "And his true and 'terms suffest together?\n",
      "Prove-houses, Sirths noble half turn,\n",
      "And takes my as bount biting leave pell;\n",
      "But still I that did sweet did afterished\n",
      "My 'Yorks, you, gone Marcius and thrich.\n",
      "\n",
      "Messenger:\n",
      "I Hereford track? alone, give him not, with your bright\n",
      "Mastickers ay the fall, ware out a woman. I mouth\n",
      "Romest on young, I say; I ill go delay:\n",
      "Nor I think, no wamat\n",
      "Step 7900, train loss:1.3572, test loss:1.6343\n"
     ]
    },
    {
     "name": "stderr",
     "output_type": "stream",
     "text": [
      " 79%|████████████████████████████████████████████████████████████████████████████████████████████▌                        | 7913/10000 [24:15<08:05,  4.30it/s]"
     ]
    },
    {
     "name": "stdout",
     "output_type": "stream",
     "text": [
      "Step 7910, train loss:1.3537, test loss:1.6362\n"
     ]
    },
    {
     "name": "stderr",
     "output_type": "stream",
     "text": [
      " 79%|████████████████████████████████████████████████████████████████████████████████████████████▋                        | 7923/10000 [24:16<05:51,  5.91it/s]"
     ]
    },
    {
     "name": "stdout",
     "output_type": "stream",
     "text": [
      "Step 7920, train loss:1.3417, test loss:1.6382\n"
     ]
    },
    {
     "name": "stderr",
     "output_type": "stream",
     "text": [
      " 79%|████████████████████████████████████████████████████████████████████████████████████████████▊                        | 7933/10000 [24:18<05:28,  6.30it/s]"
     ]
    },
    {
     "name": "stdout",
     "output_type": "stream",
     "text": [
      "Step 7930, train loss:1.3420, test loss:1.6422\n"
     ]
    },
    {
     "name": "stderr",
     "output_type": "stream",
     "text": [
      " 79%|████████████████████████████████████████████████████████████████████████████████████████████▉                        | 7943/10000 [24:19<05:23,  6.36it/s]"
     ]
    },
    {
     "name": "stdout",
     "output_type": "stream",
     "text": [
      "Step 7940, train loss:1.3293, test loss:1.6422\n"
     ]
    },
    {
     "name": "stderr",
     "output_type": "stream",
     "text": [
      " 80%|█████████████████████████████████████████████████████████████████████████████████████████████                        | 7951/10000 [24:20<06:23,  5.34it/s]"
     ]
    },
    {
     "name": "stdout",
     "output_type": "stream",
     "text": [
      "Step 7950, train loss:1.3418, test loss:1.6286\n"
     ]
    },
    {
     "name": "stderr",
     "output_type": "stream",
     "text": [
      " 80%|█████████████████████████████████████████████████████████████████████████████████████████████▏                       | 7963/10000 [24:22<05:20,  6.36it/s]"
     ]
    },
    {
     "name": "stdout",
     "output_type": "stream",
     "text": [
      "Step 7960, train loss:1.3413, test loss:1.6179\n"
     ]
    },
    {
     "name": "stderr",
     "output_type": "stream",
     "text": [
      " 80%|█████████████████████████████████████████████████████████████████████████████████████████████▎                       | 7973/10000 [24:23<05:19,  6.35it/s]"
     ]
    },
    {
     "name": "stdout",
     "output_type": "stream",
     "text": [
      "Step 7970, train loss:1.3342, test loss:1.6316\n"
     ]
    },
    {
     "name": "stderr",
     "output_type": "stream",
     "text": [
      " 80%|█████████████████████████████████████████████████████████████████████████████████████████████▍                       | 7981/10000 [24:25<06:17,  5.34it/s]"
     ]
    },
    {
     "name": "stdout",
     "output_type": "stream",
     "text": [
      "Step 7980, train loss:1.3433, test loss:1.6553\n"
     ]
    },
    {
     "name": "stderr",
     "output_type": "stream",
     "text": [
      " 80%|█████████████████████████████████████████████████████████████████████████████████████████████▌                       | 7993/10000 [24:26<05:16,  6.34it/s]"
     ]
    },
    {
     "name": "stdout",
     "output_type": "stream",
     "text": [
      "Step 7990, train loss:1.3444, test loss:1.6298\n"
     ]
    },
    {
     "name": "stderr",
     "output_type": "stream",
     "text": [
      " 80%|█████████████████████████████████████████████████████████████████████████████████████████████▌                       | 7999/10000 [24:27<03:42,  8.98it/s]"
     ]
    },
    {
     "name": "stdout",
     "output_type": "stream",
     "text": [
      "Step 8000, train loss:1.3454, test loss:1.6338\n"
     ]
    },
    {
     "name": "stderr",
     "output_type": "stream",
     "text": [
      " 80%|█████████████████████████████████████████████████████████████████████████████████████████████▋                       | 8003/10000 [24:32<20:30,  1.62it/s]"
     ]
    },
    {
     "name": "stdout",
     "output_type": "stream",
     "text": [
      "\n",
      "\n",
      "here's too pardon your pleasure beginting arm how in shope you seal beg 'gardless.\n",
      "\n",
      "NORTHUMBERLAND:\n",
      "I am not thy fault, what wise men, friar; nor\n",
      "ever her tapst or part all sweet dangeal.\n",
      "\n",
      "ANGELO:\n",
      "\n",
      "All formidal.\n",
      "\n",
      "MISTRESS OVERDONE:\n",
      "If prove my professor, I mean from the\n",
      "stranger for twibst chaice to save at the welcome.\n",
      "\n",
      "BUCKINGHAM:\n",
      "Kethink! Hastings this battle than the\n",
      "indinine, who dain! O Bolingbrokable!\n",
      "My before like to ruch be sisteed.\n",
      "\n",
      "KING EDWARD IV:\n",
      "A house the peace was are encell'd them now for his volimrets.\n",
      "Where This done shills, I'll no potsiciance what him,\n",
      "As we may be embraden wife; has time his substablely\n",
      "But dear along on: other bears\n",
      "Man, like a matel it; and I stoub scorn betwixt their\n",
      "'Tis not his thinks that murdere than the\n",
      "coain and duke him eyes.\n",
      "\n",
      "CAPULET:\n",
      "O, for this head of the and but for't.\n",
      "\n",
      "DUKE VINCENTIO:\n",
      "Signight, my live, by the dear dead my will some and\n",
      "these deeds parther; and have set them,\n",
      "Ucalsion such their accused valour quies. Come sholes y\n",
      "Step 8000, train loss:1.3442, test loss:1.6382\n"
     ]
    },
    {
     "name": "stderr",
     "output_type": "stream",
     "text": [
      " 80%|█████████████████████████████████████████████████████████████████████████████████████████████▊                       | 8013/10000 [24:33<07:44,  4.28it/s]"
     ]
    },
    {
     "name": "stdout",
     "output_type": "stream",
     "text": [
      "Step 8010, train loss:1.3321, test loss:1.6482\n"
     ]
    },
    {
     "name": "stderr",
     "output_type": "stream",
     "text": [
      " 80%|█████████████████████████████████████████████████████████████████████████████████████████████▊                       | 8023/10000 [24:35<05:34,  5.90it/s]"
     ]
    },
    {
     "name": "stdout",
     "output_type": "stream",
     "text": [
      "Step 8020, train loss:1.3423, test loss:1.6284\n"
     ]
    },
    {
     "name": "stderr",
     "output_type": "stream",
     "text": [
      " 80%|█████████████████████████████████████████████████████████████████████████████████████████████▉                       | 8033/10000 [24:36<05:12,  6.29it/s]"
     ]
    },
    {
     "name": "stdout",
     "output_type": "stream",
     "text": [
      "Step 8030, train loss:1.3397, test loss:1.6532\n"
     ]
    },
    {
     "name": "stderr",
     "output_type": "stream",
     "text": [
      " 80%|██████████████████████████████████████████████████████████████████████████████████████████████                       | 8043/10000 [24:38<05:07,  6.36it/s]"
     ]
    },
    {
     "name": "stdout",
     "output_type": "stream",
     "text": [
      "Step 8040, train loss:1.3459, test loss:1.6313\n"
     ]
    },
    {
     "name": "stderr",
     "output_type": "stream",
     "text": [
      " 81%|██████████████████████████████████████████████████████████████████████████████████████████████▏                      | 8051/10000 [24:39<06:04,  5.35it/s]"
     ]
    },
    {
     "name": "stdout",
     "output_type": "stream",
     "text": [
      "Step 8050, train loss:1.3405, test loss:1.6247\n"
     ]
    },
    {
     "name": "stderr",
     "output_type": "stream",
     "text": [
      " 81%|██████████████████████████████████████████████████████████████████████████████████████████████▎                      | 8063/10000 [24:40<05:04,  6.36it/s]"
     ]
    },
    {
     "name": "stdout",
     "output_type": "stream",
     "text": [
      "Step 8060, train loss:1.3383, test loss:1.6527\n"
     ]
    },
    {
     "name": "stderr",
     "output_type": "stream",
     "text": [
      " 81%|██████████████████████████████████████████████████████████████████████████████████████████████▍                      | 8073/10000 [24:42<05:02,  6.36it/s]"
     ]
    },
    {
     "name": "stdout",
     "output_type": "stream",
     "text": [
      "Step 8070, train loss:1.3490, test loss:1.6446\n"
     ]
    },
    {
     "name": "stderr",
     "output_type": "stream",
     "text": [
      " 81%|██████████████████████████████████████████████████████████████████████████████████████████████▌                      | 8083/10000 [24:43<05:02,  6.34it/s]"
     ]
    },
    {
     "name": "stdout",
     "output_type": "stream",
     "text": [
      "Step 8080, train loss:1.3464, test loss:1.6202\n"
     ]
    },
    {
     "name": "stderr",
     "output_type": "stream",
     "text": [
      " 81%|██████████████████████████████████████████████████████████████████████████████████████████████▋                      | 8093/10000 [24:45<05:00,  6.34it/s]"
     ]
    },
    {
     "name": "stdout",
     "output_type": "stream",
     "text": [
      "Step 8090, train loss:1.3352, test loss:1.6432\n"
     ]
    },
    {
     "name": "stderr",
     "output_type": "stream",
     "text": [
      " 81%|██████████████████████████████████████████████████████████████████████████████████████████████▊                      | 8099/10000 [24:45<03:31,  9.00it/s]"
     ]
    },
    {
     "name": "stdout",
     "output_type": "stream",
     "text": [
      "Step 8100, train loss:1.3271, test loss:1.6329\n"
     ]
    },
    {
     "name": "stderr",
     "output_type": "stream",
     "text": [
      " 81%|██████████████████████████████████████████████████████████████████████████████████████████████▊                      | 8103/10000 [24:50<18:51,  1.68it/s]"
     ]
    },
    {
     "name": "stdout",
     "output_type": "stream",
     "text": [
      "\n",
      "\n",
      "GLOUCESTER:\n",
      "I with time onmuch for thriving them?\n",
      "\n",
      "CAPULET:\n",
      "My lord, O, nor elected for years thy queen.\n",
      "\n",
      "GLOUCESTER:\n",
      "Here consul, he war, let my master alse;\n",
      "Can is dead to see him some thief:\n",
      "Holding still my dear three thee;\n",
      "Have work, consul's better'd the park'd an all\n",
      "Horry poins, my by monimoring it\n",
      "almost upon all, lest her to honour: tamed,\n",
      "That I name it breast her most to the rest,\n",
      "Your curst power a care of York.\n",
      "With me. Beserve, houch ye how south tell you come,\n",
      "But then, to her hatred up thy injustice's pier for fruilors\n",
      "Lead morths not prick to croom the judge than libel,\n",
      "Thou hast let me so feven, my earl's dear?\n",
      "\n",
      "LEONTES:\n",
      "My sleep and noble prognimital!\n",
      "York grieve, but dready, this is prevate;--at they to taintry;\n",
      "How grey into this now, craft too, sir?--VINCENTIO:\n",
      "I'll go, for this moving thirty some inforced\n",
      "Anable that cits it back of you brass,\n",
      "Busy of God's tribove serves, sive, sir.\n",
      "\n",
      "FLORIZEL:\n",
      "You are the porlow walken be contraged must\n",
      "To faith: believe her in\n",
      "Step 8100, train loss:1.3404, test loss:1.6285\n"
     ]
    },
    {
     "name": "stderr",
     "output_type": "stream",
     "text": [
      " 81%|██████████████████████████████████████████████████████████████████████████████████████████████▉                      | 8113/10000 [24:52<07:13,  4.35it/s]"
     ]
    },
    {
     "name": "stdout",
     "output_type": "stream",
     "text": [
      "Step 8110, train loss:1.3396, test loss:1.6353\n"
     ]
    },
    {
     "name": "stderr",
     "output_type": "stream",
     "text": [
      " 81%|███████████████████████████████████████████████████████████████████████████████████████████████                      | 8123/10000 [24:53<05:17,  5.91it/s]"
     ]
    },
    {
     "name": "stdout",
     "output_type": "stream",
     "text": [
      "Step 8120, train loss:1.3303, test loss:1.6345\n"
     ]
    },
    {
     "name": "stderr",
     "output_type": "stream",
     "text": [
      " 81%|███████████████████████████████████████████████████████████████████████████████████████████████▏                     | 8133/10000 [24:55<04:56,  6.30it/s]"
     ]
    },
    {
     "name": "stdout",
     "output_type": "stream",
     "text": [
      "Step 8130, train loss:1.3385, test loss:1.6331\n"
     ]
    },
    {
     "name": "stderr",
     "output_type": "stream",
     "text": [
      " 81%|███████████████████████████████████████████████████████████████████████████████████████████████▎                     | 8143/10000 [24:56<04:52,  6.35it/s]"
     ]
    },
    {
     "name": "stdout",
     "output_type": "stream",
     "text": [
      "Step 8140, train loss:1.3409, test loss:1.6414\n"
     ]
    },
    {
     "name": "stderr",
     "output_type": "stream",
     "text": [
      " 82%|███████████████████████████████████████████████████████████████████████████████████████████████▎                     | 8151/10000 [24:57<05:46,  5.34it/s]"
     ]
    },
    {
     "name": "stdout",
     "output_type": "stream",
     "text": [
      "Step 8150, train loss:1.3367, test loss:1.6380\n"
     ]
    },
    {
     "name": "stderr",
     "output_type": "stream",
     "text": [
      " 82%|███████████████████████████████████████████████████████████████████████████████████████████████▌                     | 8163/10000 [24:59<04:49,  6.35it/s]"
     ]
    },
    {
     "name": "stdout",
     "output_type": "stream",
     "text": [
      "Step 8160, train loss:1.3354, test loss:1.6339\n"
     ]
    },
    {
     "name": "stderr",
     "output_type": "stream",
     "text": [
      " 82%|███████████████████████████████████████████████████████████████████████████████████████████████▌                     | 8173/10000 [25:00<04:48,  6.34it/s]"
     ]
    },
    {
     "name": "stdout",
     "output_type": "stream",
     "text": [
      "Step 8170, train loss:1.3306, test loss:1.6527\n"
     ]
    },
    {
     "name": "stderr",
     "output_type": "stream",
     "text": [
      " 82%|███████████████████████████████████████████████████████████████████████████████████████████████▋                     | 8183/10000 [25:02<04:46,  6.34it/s]"
     ]
    },
    {
     "name": "stdout",
     "output_type": "stream",
     "text": [
      "Step 8180, train loss:1.3338, test loss:1.6126\n"
     ]
    },
    {
     "name": "stderr",
     "output_type": "stream",
     "text": [
      " 82%|███████████████████████████████████████████████████████████████████████████████████████████████▊                     | 8193/10000 [25:03<04:45,  6.34it/s]"
     ]
    },
    {
     "name": "stdout",
     "output_type": "stream",
     "text": [
      "Step 8190, train loss:1.3369, test loss:1.6455\n"
     ]
    },
    {
     "name": "stderr",
     "output_type": "stream",
     "text": [
      " 82%|███████████████████████████████████████████████████████████████████████████████████████████████▉                     | 8199/10000 [25:04<03:19,  9.01it/s]"
     ]
    },
    {
     "name": "stdout",
     "output_type": "stream",
     "text": [
      "Step 8200, train loss:1.3392, test loss:1.6258\n"
     ]
    },
    {
     "name": "stderr",
     "output_type": "stream",
     "text": [
      " 82%|███████████████████████████████████████████████████████████████████████████████████████████████▉                     | 8203/10000 [25:09<17:36,  1.70it/s]"
     ]
    },
    {
     "name": "stdout",
     "output_type": "stream",
     "text": [
      "\n",
      "\n",
      "CATESBY:\n",
      "Till have more looked him your mothary.\n",
      "All this sake I, this my alrerard,\n",
      "And back upon him; thought hast hastine comped;\n",
      "And holy be in this isabl.\n",
      "Upon doth look him with his; Cominolined I I\n",
      "Cleffue thief, I know thy young.\n",
      "\n",
      "CAPULET:\n",
      "O dicy time commands my death.\n",
      "I prithee, play. Welcome you mercy?\n",
      "\n",
      "WARWICK:\n",
      "Mison, help, that have I will grace him both.\n",
      "Rive it thee tears i' combert\n",
      "Is a noble as your bonestition. Go help in a sign\n",
      "Murderers, now another.\n",
      "\n",
      "KING RICHARD III:\n",
      "Thanker, is not in purpose!\n",
      "\n",
      "CLARENCE:\n",
      "Thank you, murderer or Heaven-day! alarums.\n",
      "\n",
      "NORTHUMBERLAND:\n",
      "Ne'll have you both true.\n",
      "\n",
      "BRUTUS:\n",
      "The is gentle view.\n",
      "You have the duke of death sheep, as you have,\n",
      "Which descrown he, wretchely,\n",
      "Cholerencowes was too mark.\n",
      "\n",
      "TRCHISABE:\n",
      "Now in a hear Edward's strokelly.\n",
      "Why, know this? I strong indeed,\n",
      "Give thyself his peacent sees, now out,\n",
      "That may mine own.\n",
      "\n",
      "BRAKENBURY:\n",
      "You, to one punisherhows like a drum;\n",
      "For I say, the summend; I'll tending born.\n",
      "\n",
      "HENRY BOLINGBR\n",
      "Step 8200, train loss:1.3392, test loss:1.6173\n"
     ]
    },
    {
     "name": "stderr",
     "output_type": "stream",
     "text": [
      " 82%|████████████████████████████████████████████████████████████████████████████████████████████████                     | 8213/10000 [25:10<06:48,  4.37it/s]"
     ]
    },
    {
     "name": "stdout",
     "output_type": "stream",
     "text": [
      "Step 8210, train loss:1.3377, test loss:1.6332\n"
     ]
    },
    {
     "name": "stderr",
     "output_type": "stream",
     "text": [
      " 82%|████████████████████████████████████████████████████████████████████████████████████████████████▏                    | 8223/10000 [25:12<04:59,  5.93it/s]"
     ]
    },
    {
     "name": "stdout",
     "output_type": "stream",
     "text": [
      "Step 8220, train loss:1.3381, test loss:1.6263\n"
     ]
    },
    {
     "name": "stderr",
     "output_type": "stream",
     "text": [
      " 82%|████████████████████████████████████████████████████████████████████████████████████████████████▎                    | 8233/10000 [25:13<04:40,  6.30it/s]"
     ]
    },
    {
     "name": "stdout",
     "output_type": "stream",
     "text": [
      "Step 8230, train loss:1.3423, test loss:1.6297\n"
     ]
    },
    {
     "name": "stderr",
     "output_type": "stream",
     "text": [
      " 82%|████████████████████████████████████████████████████████████████████████████████████████████████▍                    | 8243/10000 [25:14<04:36,  6.35it/s]"
     ]
    },
    {
     "name": "stdout",
     "output_type": "stream",
     "text": [
      "Step 8240, train loss:1.3323, test loss:1.6272\n"
     ]
    },
    {
     "name": "stderr",
     "output_type": "stream",
     "text": [
      " 83%|████████████████████████████████████████████████████████████████████████████████████████████████▌                    | 8253/10000 [25:16<04:34,  6.36it/s]"
     ]
    },
    {
     "name": "stdout",
     "output_type": "stream",
     "text": [
      "Step 8250, train loss:1.3315, test loss:1.6189\n"
     ]
    },
    {
     "name": "stderr",
     "output_type": "stream",
     "text": [
      " 83%|████████████████████████████████████████████████████████████████████████████████████████████████▋                    | 8261/10000 [25:17<05:24,  5.35it/s]"
     ]
    },
    {
     "name": "stdout",
     "output_type": "stream",
     "text": [
      "Step 8260, train loss:1.3309, test loss:1.6301\n"
     ]
    },
    {
     "name": "stderr",
     "output_type": "stream",
     "text": [
      " 83%|████████████████████████████████████████████████████████████████████████████████████████████████▊                    | 8273/10000 [25:19<04:31,  6.35it/s]"
     ]
    },
    {
     "name": "stdout",
     "output_type": "stream",
     "text": [
      "Step 8270, train loss:1.3408, test loss:1.6182\n"
     ]
    },
    {
     "name": "stderr",
     "output_type": "stream",
     "text": [
      " 83%|████████████████████████████████████████████████████████████████████████████████████████████████▉                    | 8283/10000 [25:20<04:30,  6.35it/s]"
     ]
    },
    {
     "name": "stdout",
     "output_type": "stream",
     "text": [
      "Step 8280, train loss:1.3369, test loss:1.6169\n"
     ]
    },
    {
     "name": "stderr",
     "output_type": "stream",
     "text": [
      " 83%|█████████████████████████████████████████████████████████████████████████████████████████████████                    | 8291/10000 [25:21<05:20,  5.34it/s]"
     ]
    },
    {
     "name": "stdout",
     "output_type": "stream",
     "text": [
      "Step 8290, train loss:1.3308, test loss:1.6477\n"
     ]
    },
    {
     "name": "stderr",
     "output_type": "stream",
     "text": [
      " 83%|█████████████████████████████████████████████████████████████████████████████████████████████████                    | 8299/10000 [25:22<03:08,  9.02it/s]"
     ]
    },
    {
     "name": "stdout",
     "output_type": "stream",
     "text": [
      "Step 8300, train loss:1.3368, test loss:1.6388\n"
     ]
    },
    {
     "name": "stderr",
     "output_type": "stream",
     "text": [
      " 83%|█████████████████████████████████████████████████████████████████████████████████████████████████▏                   | 8303/10000 [25:27<16:32,  1.71it/s]"
     ]
    },
    {
     "name": "stdout",
     "output_type": "stream",
     "text": [
      "\n",
      "\n",
      "QUEEN:\n",
      "Arrely, in the bads, that kill'd up the traitors:\n",
      "Elso givey most great my chrone,\n",
      "That he should by Bonce is the new\n",
      "hath to purpose wretched but on and unto rehend\n",
      "Hath flower by my house, my liege,\n",
      "Our eyes' against eyest eyes, prevation?\n",
      "\n",
      "Tirst Servant:\n",
      "I tell unforce feel lords the peace;\n",
      "Even from the world ever or head.\n",
      "\n",
      "MERCITIO:\n",
      "See devise noses the run oaths and the fiver. But they are thine,\n",
      "Divest that friends airial'd, this condemn'd to me,\n",
      "Exce is such being for themselves and kill turn; and\n",
      "The vain class in Marcius?\n",
      "\n",
      "mightors passes woo to go: this.\n",
      "\n",
      "YORK:\n",
      "I wont you did not, what you must gracious cause ill wish\n",
      "yie to in told I do but as\n",
      "no never rogue-place with spoke to the innobling\n",
      "The times face of cry other: if that was should to speak\n",
      "himself on his half.\n",
      "\n",
      "AUTOLYCUS:\n",
      "But you'll him love that, like it giving do\n",
      "Men with two mark unpiled-khee, which I\n",
      "cannot my child thee, with head till such a fettied,\n",
      "That though thy like the victor'd at ever\n",
      "That I had \n",
      "Step 8300, train loss:1.3345, test loss:1.6272\n"
     ]
    },
    {
     "name": "stderr",
     "output_type": "stream",
     "text": [
      " 83%|█████████████████████████████████████████████████████████████████████████████████████████████████▎                   | 8313/10000 [25:28<06:25,  4.37it/s]"
     ]
    },
    {
     "name": "stdout",
     "output_type": "stream",
     "text": [
      "Step 8310, train loss:1.3384, test loss:1.6158\n"
     ]
    },
    {
     "name": "stderr",
     "output_type": "stream",
     "text": [
      " 83%|█████████████████████████████████████████████████████████████████████████████████████████████████▍                   | 8323/10000 [25:30<04:42,  5.93it/s]"
     ]
    },
    {
     "name": "stdout",
     "output_type": "stream",
     "text": [
      "Step 8320, train loss:1.3298, test loss:1.6220\n"
     ]
    },
    {
     "name": "stderr",
     "output_type": "stream",
     "text": [
      " 83%|█████████████████████████████████████████████████████████████████████████████████████████████████▍                   | 8333/10000 [25:31<04:24,  6.31it/s]"
     ]
    },
    {
     "name": "stdout",
     "output_type": "stream",
     "text": [
      "Step 8330, train loss:1.3308, test loss:1.6430\n"
     ]
    },
    {
     "name": "stderr",
     "output_type": "stream",
     "text": [
      " 83%|█████████████████████████████████████████████████████████████████████████████████████████████████▌                   | 8343/10000 [25:33<04:20,  6.35it/s]"
     ]
    },
    {
     "name": "stdout",
     "output_type": "stream",
     "text": [
      "Step 8340, train loss:1.3324, test loss:1.6177\n"
     ]
    },
    {
     "name": "stderr",
     "output_type": "stream",
     "text": [
      " 84%|█████████████████████████████████████████████████████████████████████████████████████████████████▋                   | 8353/10000 [25:34<04:18,  6.36it/s]"
     ]
    },
    {
     "name": "stdout",
     "output_type": "stream",
     "text": [
      "Step 8350, train loss:1.3340, test loss:1.6360\n"
     ]
    },
    {
     "name": "stderr",
     "output_type": "stream",
     "text": [
      " 84%|█████████████████████████████████████████████████████████████████████████████████████████████████▊                   | 8361/10000 [25:35<05:06,  5.34it/s]"
     ]
    },
    {
     "name": "stdout",
     "output_type": "stream",
     "text": [
      "Step 8360, train loss:1.3322, test loss:1.6047\n"
     ]
    },
    {
     "name": "stderr",
     "output_type": "stream",
     "text": [
      " 84%|█████████████████████████████████████████████████████████████████████████████████████████████████▉                   | 8373/10000 [25:37<04:16,  6.35it/s]"
     ]
    },
    {
     "name": "stdout",
     "output_type": "stream",
     "text": [
      "Step 8370, train loss:1.3390, test loss:1.6174\n"
     ]
    },
    {
     "name": "stderr",
     "output_type": "stream",
     "text": [
      " 84%|██████████████████████████████████████████████████████████████████████████████████████████████████                   | 8383/10000 [25:38<04:14,  6.35it/s]"
     ]
    },
    {
     "name": "stdout",
     "output_type": "stream",
     "text": [
      "Step 8380, train loss:1.3366, test loss:1.6261\n"
     ]
    },
    {
     "name": "stderr",
     "output_type": "stream",
     "text": [
      " 84%|██████████████████████████████████████████████████████████████████████████████████████████████████▏                  | 8393/10000 [25:40<04:13,  6.34it/s]"
     ]
    },
    {
     "name": "stdout",
     "output_type": "stream",
     "text": [
      "Step 8390, train loss:1.3285, test loss:1.6275\n"
     ]
    },
    {
     "name": "stderr",
     "output_type": "stream",
     "text": [
      " 84%|██████████████████████████████████████████████████████████████████████████████████████████████████▎                  | 8399/10000 [25:40<02:57,  9.02it/s]"
     ]
    },
    {
     "name": "stdout",
     "output_type": "stream",
     "text": [
      "Step 8400, train loss:1.3367, test loss:1.6104\n"
     ]
    },
    {
     "name": "stderr",
     "output_type": "stream",
     "text": [
      " 84%|██████████████████████████████████████████████████████████████████████████████████████████████████▎                  | 8403/10000 [25:46<16:29,  1.61it/s]"
     ]
    },
    {
     "name": "stdout",
     "output_type": "stream",
     "text": [
      "\n",
      "\n",
      "Shephent:\n",
      "More than the ain of disper queen thy fled the ground'side\n",
      "The great thou witter bod-rephet;\n",
      "Or it is a could me many hate! and but for\n",
      "in air our aponst; and you villef, come knowledge\n",
      "Ty boldly Volsces, I change creedsion:\n",
      "A brother is a talking then thine he this me so weight\n",
      "Before accursed endure's reverent and twelves\n",
      "and chuse abones, between of York:\n",
      "When been so less, nurse, for hand,\n",
      "Engling'd so our troubt'sta wialloy so,\n",
      "I'll still like and to the thirty, graves is a soul!\n",
      "should Canst thy you, I know not not.\n",
      "\n",
      "GREGORY:\n",
      "Come, I temped highway sir,\n",
      "Tising meet in the king and hatred and cannot\n",
      "Marcy do this word to my honours name:\n",
      "I' thus hand be sound. See he did leave.\n",
      "\n",
      "Citizens:\n",
      "I thought in his sound, but renimes more-deep too money\n",
      "had made at a man of living.\n",
      "\n",
      "Servant:\n",
      "Let a mother back to dream, I ne'er I in thee;\n",
      "To win the morious resition.\n",
      "What say the thing, so din the people\n",
      "That wass thee days of mother'd claim wrong, gentleman?\n",
      "Your kinsman, your ste\n",
      "Step 8400, train loss:1.3344, test loss:1.6313\n"
     ]
    },
    {
     "name": "stderr",
     "output_type": "stream",
     "text": [
      " 84%|██████████████████████████████████████████████████████████████████████████████████████████████████▍                  | 8413/10000 [25:47<06:11,  4.27it/s]"
     ]
    },
    {
     "name": "stdout",
     "output_type": "stream",
     "text": [
      "Step 8410, train loss:1.3275, test loss:1.6602\n"
     ]
    },
    {
     "name": "stderr",
     "output_type": "stream",
     "text": [
      " 84%|██████████████████████████████████████████████████████████████████████████████████████████████████▌                  | 8423/10000 [25:49<04:27,  5.89it/s]"
     ]
    },
    {
     "name": "stdout",
     "output_type": "stream",
     "text": [
      "Step 8420, train loss:1.3190, test loss:1.6187\n"
     ]
    },
    {
     "name": "stderr",
     "output_type": "stream",
     "text": [
      " 84%|██████████████████████████████████████████████████████████████████████████████████████████████████▋                  | 8433/10000 [25:50<04:08,  6.29it/s]"
     ]
    },
    {
     "name": "stdout",
     "output_type": "stream",
     "text": [
      "Step 8430, train loss:1.3288, test loss:1.6188\n"
     ]
    },
    {
     "name": "stderr",
     "output_type": "stream",
     "text": [
      " 84%|██████████████████████████████████████████████████████████████████████████████████████████████████▊                  | 8443/10000 [25:51<04:05,  6.35it/s]"
     ]
    },
    {
     "name": "stdout",
     "output_type": "stream",
     "text": [
      "Step 8440, train loss:1.3281, test loss:1.6139\n"
     ]
    },
    {
     "name": "stderr",
     "output_type": "stream",
     "text": [
      " 85%|██████████████████████████████████████████████████████████████████████████████████████████████████▉                  | 8453/10000 [25:53<04:03,  6.35it/s]"
     ]
    },
    {
     "name": "stdout",
     "output_type": "stream",
     "text": [
      "Step 8450, train loss:1.3314, test loss:1.6515\n"
     ]
    },
    {
     "name": "stderr",
     "output_type": "stream",
     "text": [
      " 85%|███████████████████████████████████████████████████████████████████████████████████████████████████                  | 8463/10000 [25:54<04:01,  6.35it/s]"
     ]
    },
    {
     "name": "stdout",
     "output_type": "stream",
     "text": [
      "Step 8460, train loss:1.3260, test loss:1.6198\n"
     ]
    },
    {
     "name": "stderr",
     "output_type": "stream",
     "text": [
      " 85%|███████████████████████████████████████████████████████████████████████████████████████████████████▏                 | 8473/10000 [25:56<04:00,  6.35it/s]"
     ]
    },
    {
     "name": "stdout",
     "output_type": "stream",
     "text": [
      "Step 8470, train loss:1.3265, test loss:1.6345\n"
     ]
    },
    {
     "name": "stderr",
     "output_type": "stream",
     "text": [
      " 85%|███████████████████████████████████████████████████████████████████████████████████████████████████▏                 | 8481/10000 [25:57<04:44,  5.33it/s]"
     ]
    },
    {
     "name": "stdout",
     "output_type": "stream",
     "text": [
      "Step 8480, train loss:1.3320, test loss:1.6144\n"
     ]
    },
    {
     "name": "stderr",
     "output_type": "stream",
     "text": [
      " 85%|███████████████████████████████████████████████████████████████████████████████████████████████████▎                 | 8493/10000 [25:59<03:57,  6.34it/s]"
     ]
    },
    {
     "name": "stdout",
     "output_type": "stream",
     "text": [
      "Step 8490, train loss:1.3152, test loss:1.6113\n"
     ]
    },
    {
     "name": "stderr",
     "output_type": "stream",
     "text": [
      " 85%|███████████████████████████████████████████████████████████████████████████████████████████████████▍                 | 8499/10000 [25:59<02:46,  9.02it/s]"
     ]
    },
    {
     "name": "stdout",
     "output_type": "stream",
     "text": [
      "Step 8500, train loss:1.3276, test loss:1.6177\n"
     ]
    },
    {
     "name": "stderr",
     "output_type": "stream",
     "text": [
      " 85%|███████████████████████████████████████████████████████████████████████████████████████████████████▍                 | 8503/10000 [26:04<15:33,  1.60it/s]"
     ]
    },
    {
     "name": "stdout",
     "output_type": "stream",
     "text": [
      "\n",
      "\n",
      "Clown:\n",
      "Come Warwick up idly with an haste.\n",
      "\n",
      "CLIFFORD:\n",
      "I down; I will not stroke it. Flates I take such legs him from the peace\n",
      "Hastes! To must betwixt worferiend.\n",
      "If Edward's made's bring with hearth.\n",
      "We can bear thee; the great but mitine\n",
      "On clothes may loves. Thy service,'d, now\n",
      "Has now her a secret his world'st a bapthe tribunes\n",
      "Cornal Marcius brother light they news:\n",
      "And for beat for this so now, and all\n",
      "Adven up to the ded toward's vic fid all flies\n",
      "And far an afull water therein all and toward;\n",
      "The tast on thy old we had flatter. Yet us my troton'd\n",
      "'Twixt from delivers pleasures' maid; and\n",
      "the book'd affaired, firce himselvish realing attent\n",
      "than and prey would I call all,\n",
      "He for in his lady's headly same to all find\n",
      "I struck that say; thou therefold me to your sword.\n",
      "\n",
      "MARCIUS:\n",
      "My day, royal selmery?\n",
      "\n",
      "BRAKENBURY:\n",
      "Persua, then, You'roy's Richmond, It is nor look you\n",
      "And obey were accused his bodiles 'If.\n",
      "O, you, in you not the foot rightness will noth.\n",
      "Teach you, instruction pursu\n",
      "Step 8500, train loss:1.3206, test loss:1.6411\n"
     ]
    },
    {
     "name": "stderr",
     "output_type": "stream",
     "text": [
      " 85%|███████████████████████████████████████████████████████████████████████████████████████████████████▌                 | 8513/10000 [26:06<05:50,  4.25it/s]"
     ]
    },
    {
     "name": "stdout",
     "output_type": "stream",
     "text": [
      "Step 8510, train loss:1.3250, test loss:1.6171\n"
     ]
    },
    {
     "name": "stderr",
     "output_type": "stream",
     "text": [
      " 85%|███████████████████████████████████████████████████████████████████████████████████████████████████▋                 | 8523/10000 [26:07<04:12,  5.85it/s]"
     ]
    },
    {
     "name": "stdout",
     "output_type": "stream",
     "text": [
      "Step 8520, train loss:1.3277, test loss:1.6288\n"
     ]
    },
    {
     "name": "stderr",
     "output_type": "stream",
     "text": [
      " 85%|███████████████████████████████████████████████████████████████████████████████████████████████████▊                 | 8533/10000 [26:09<03:54,  6.26it/s]"
     ]
    },
    {
     "name": "stdout",
     "output_type": "stream",
     "text": [
      "Step 8530, train loss:1.3266, test loss:1.6328\n"
     ]
    },
    {
     "name": "stderr",
     "output_type": "stream",
     "text": [
      " 85%|███████████████████████████████████████████████████████████████████████████████████████████████████▉                 | 8543/10000 [26:10<03:50,  6.32it/s]"
     ]
    },
    {
     "name": "stdout",
     "output_type": "stream",
     "text": [
      "Step 8540, train loss:1.3286, test loss:1.6354\n"
     ]
    },
    {
     "name": "stderr",
     "output_type": "stream",
     "text": [
      " 86%|████████████████████████████████████████████████████████████████████████████████████████████████████                 | 8553/10000 [26:12<03:49,  6.32it/s]"
     ]
    },
    {
     "name": "stdout",
     "output_type": "stream",
     "text": [
      "Step 8550, train loss:1.3216, test loss:1.6224\n"
     ]
    },
    {
     "name": "stderr",
     "output_type": "stream",
     "text": [
      " 86%|████████████████████████████████████████████████████████████████████████████████████████████████████▏                | 8563/10000 [26:13<03:47,  6.31it/s]"
     ]
    },
    {
     "name": "stdout",
     "output_type": "stream",
     "text": [
      "Step 8560, train loss:1.3206, test loss:1.6291\n"
     ]
    },
    {
     "name": "stderr",
     "output_type": "stream",
     "text": [
      " 86%|████████████████████████████████████████████████████████████████████████████████████████████████████▎                | 8573/10000 [26:14<03:46,  6.31it/s]"
     ]
    },
    {
     "name": "stdout",
     "output_type": "stream",
     "text": [
      "Step 8570, train loss:1.3245, test loss:1.6328\n"
     ]
    },
    {
     "name": "stderr",
     "output_type": "stream",
     "text": [
      " 86%|████████████████████████████████████████████████████████████████████████████████████████████████████▍                | 8581/10000 [26:16<04:27,  5.30it/s]"
     ]
    },
    {
     "name": "stdout",
     "output_type": "stream",
     "text": [
      "Step 8580, train loss:1.3253, test loss:1.6335\n"
     ]
    },
    {
     "name": "stderr",
     "output_type": "stream",
     "text": [
      " 86%|████████████████████████████████████████████████████████████████████████████████████████████████████▌                | 8593/10000 [26:17<03:43,  6.29it/s]"
     ]
    },
    {
     "name": "stdout",
     "output_type": "stream",
     "text": [
      "Step 8590, train loss:1.3228, test loss:1.6296\n"
     ]
    },
    {
     "name": "stderr",
     "output_type": "stream",
     "text": [
      " 86%|████████████████████████████████████████████████████████████████████████████████████████████████████▌                | 8599/10000 [26:18<02:36,  8.97it/s]"
     ]
    },
    {
     "name": "stdout",
     "output_type": "stream",
     "text": [
      "Step 8600, train loss:1.3274, test loss:1.6229\n"
     ]
    },
    {
     "name": "stderr",
     "output_type": "stream",
     "text": [
      " 86%|████████████████████████████████████████████████████████████████████████████████████████████████████▋                | 8603/10000 [26:23<13:52,  1.68it/s]"
     ]
    },
    {
     "name": "stdout",
     "output_type": "stream",
     "text": [
      "\n",
      "\n",
      "ISABELLA:\n",
      "Gentle Gloucester, that it world to us;\n",
      "Thy dience hath to neighbours those us hopes,\n",
      "But relight me so near me officed:\n",
      "But but my off, is my son wisdom but in his count\n",
      "As and the house; we prove receive he other troubled\n",
      "peace of my way, the othe daughter hands\n",
      "That had been cups had one that further Froth,\n",
      "Thou liberty duct or her slaines,\n",
      "Not uprights, and note from the regember\n",
      "When mad, he hath dress' named of ever.\n",
      "\n",
      "DUKE VINCENTIO:\n",
      "I' the bride you, Have mine can of you\n",
      "and soverement your sounds his likely?\n",
      "\n",
      "LEONTES:\n",
      "'Tis monstraights; and it reason\n",
      "I beseech he celus had traitors to condums,\n",
      "And tell me thee: 'tis give with two and their will before\n",
      "That I shate, my resolt, all't with and will be two\n",
      "With one full sounds it, eyer.\n",
      "\n",
      "KING RICHARD III:\n",
      "Why, then are your grace graves:\n",
      "Be not other shall be hoaring brow:\n",
      "To hour than honour states points, not speedy father?\n",
      "Have sentence, in say couple.\n",
      "\n",
      "BUCKINGHAM:\n",
      "Come, with at hath wondern deadly,\n",
      "A partiment will of\n",
      "Step 8600, train loss:1.3167, test loss:1.6228\n"
     ]
    },
    {
     "name": "stderr",
     "output_type": "stream",
     "text": [
      " 86%|████████████████████████████████████████████████████████████████████████████████████████████████████▊                | 8613/10000 [26:24<05:19,  4.34it/s]"
     ]
    },
    {
     "name": "stdout",
     "output_type": "stream",
     "text": [
      "Step 8610, train loss:1.3295, test loss:1.6137\n"
     ]
    },
    {
     "name": "stderr",
     "output_type": "stream",
     "text": [
      " 86%|████████████████████████████████████████████████████████████████████████████████████████████████████▉                | 8623/10000 [26:26<03:53,  5.91it/s]"
     ]
    },
    {
     "name": "stdout",
     "output_type": "stream",
     "text": [
      "Step 8620, train loss:1.3230, test loss:1.6327\n"
     ]
    },
    {
     "name": "stderr",
     "output_type": "stream",
     "text": [
      " 86%|████████████████████████████████████████████████████████████████████████████████████████████████████▉                | 8631/10000 [26:27<04:18,  5.29it/s]"
     ]
    },
    {
     "name": "stdout",
     "output_type": "stream",
     "text": [
      "Step 8630, train loss:1.3172, test loss:1.6348\n"
     ]
    },
    {
     "name": "stderr",
     "output_type": "stream",
     "text": [
      " 86%|█████████████████████████████████████████████████████████████████████████████████████████████████████                | 8643/10000 [26:29<03:33,  6.36it/s]"
     ]
    },
    {
     "name": "stdout",
     "output_type": "stream",
     "text": [
      "Step 8640, train loss:1.3222, test loss:1.6099\n"
     ]
    },
    {
     "name": "stderr",
     "output_type": "stream",
     "text": [
      " 87%|█████████████████████████████████████████████████████████████████████████████████████████████████████▏               | 8653/10000 [26:30<03:31,  6.37it/s]"
     ]
    },
    {
     "name": "stdout",
     "output_type": "stream",
     "text": [
      "Step 8650, train loss:1.3206, test loss:1.6049\n"
     ]
    },
    {
     "name": "stderr",
     "output_type": "stream",
     "text": [
      " 87%|█████████████████████████████████████████████████████████████████████████████████████████████████████▎               | 8663/10000 [26:31<03:30,  6.37it/s]"
     ]
    },
    {
     "name": "stdout",
     "output_type": "stream",
     "text": [
      "Step 8660, train loss:1.3241, test loss:1.6216\n"
     ]
    },
    {
     "name": "stderr",
     "output_type": "stream",
     "text": [
      " 87%|█████████████████████████████████████████████████████████████████████████████████████████████████████▍               | 8671/10000 [26:33<04:08,  5.35it/s]"
     ]
    },
    {
     "name": "stdout",
     "output_type": "stream",
     "text": [
      "Step 8670, train loss:1.3168, test loss:1.6323\n"
     ]
    },
    {
     "name": "stderr",
     "output_type": "stream",
     "text": [
      " 87%|█████████████████████████████████████████████████████████████████████████████████████████████████████▌               | 8681/10000 [26:34<04:06,  5.35it/s]"
     ]
    },
    {
     "name": "stdout",
     "output_type": "stream",
     "text": [
      "Step 8680, train loss:1.3276, test loss:1.6263\n"
     ]
    },
    {
     "name": "stderr",
     "output_type": "stream",
     "text": [
      " 87%|█████████████████████████████████████████████████████████████████████████████████████████████████████▋               | 8693/10000 [26:36<03:25,  6.35it/s]"
     ]
    },
    {
     "name": "stdout",
     "output_type": "stream",
     "text": [
      "Step 8690, train loss:1.3248, test loss:1.6384\n"
     ]
    },
    {
     "name": "stderr",
     "output_type": "stream",
     "text": [
      " 87%|█████████████████████████████████████████████████████████████████████████████████████████████████████▊               | 8699/10000 [26:36<02:24,  9.02it/s]"
     ]
    },
    {
     "name": "stdout",
     "output_type": "stream",
     "text": [
      "Step 8700, train loss:1.3183, test loss:1.6061\n"
     ]
    },
    {
     "name": "stderr",
     "output_type": "stream",
     "text": [
      " 87%|█████████████████████████████████████████████████████████████████████████████████████████████████████▊               | 8703/10000 [26:42<13:36,  1.59it/s]"
     ]
    },
    {
     "name": "stdout",
     "output_type": "stream",
     "text": [
      "\n",
      "\n",
      "CATESBY:\n",
      "Why, slower?\n",
      "\n",
      "RUKEN ELIZABETH:\n",
      "Good Richmond.\n",
      "\n",
      "DUKE VINCENTIO:\n",
      "Here it is kept a respect my grass.\n",
      "\n",
      "MERCUTIO:\n",
      "And soul than that have me? Htronation my bread.\n",
      "Why, make mell here comes!\n",
      "\n",
      "First Citizen:\n",
      "Thou warst Romeo not to bid.\n",
      "\n",
      "PAULINA:\n",
      "A brother, the heaven it?\n",
      "\n",
      "KENVELEM:\n",
      "Mean exchange on the manner green,\n",
      "Bid you love in any that these was mine but took upon\n",
      "the argue so ruin, chesity fled with wrink no lich;\n",
      "Your cry by thinkness all; we have forficed\n",
      "To his could leave; where to sharl ree, maid.\n",
      "\n",
      "HASTINGS:\n",
      "Hone of will; the duke: die all tribuning\n",
      "From a life, so hear these soading he war forty than\n",
      "her back and fair hour, show'd my left hat:\n",
      "Baled the desires compassion'd; but one\n",
      "Frommiss of that least, true a bush. But is not\n",
      "That now menstives, 'tis class. But not the practions;\n",
      "Against a thousand do't that, thy strongerones\n",
      "That say the deed in beyal said:\n",
      "But, Bolingbroke, mighty there change together plat,\n",
      "Are save it there move safe!\n",
      "It were but escaped untal a\n",
      "Step 8700, train loss:1.3230, test loss:1.6054\n"
     ]
    },
    {
     "name": "stderr",
     "output_type": "stream",
     "text": [
      " 87%|█████████████████████████████████████████████████████████████████████████████████████████████████████▉               | 8713/10000 [26:43<05:03,  4.25it/s]"
     ]
    },
    {
     "name": "stdout",
     "output_type": "stream",
     "text": [
      "Step 8710, train loss:1.3300, test loss:1.6183\n"
     ]
    },
    {
     "name": "stderr",
     "output_type": "stream",
     "text": [
      " 87%|██████████████████████████████████████████████████████████████████████████████████████████████████████               | 8723/10000 [26:44<03:36,  5.90it/s]"
     ]
    },
    {
     "name": "stdout",
     "output_type": "stream",
     "text": [
      "Step 8720, train loss:1.3202, test loss:1.6289\n"
     ]
    },
    {
     "name": "stderr",
     "output_type": "stream",
     "text": [
      " 87%|██████████████████████████████████████████████████████████████████████████████████████████████████████▏              | 8733/10000 [26:46<03:21,  6.30it/s]"
     ]
    },
    {
     "name": "stdout",
     "output_type": "stream",
     "text": [
      "Step 8730, train loss:1.3267, test loss:1.6438\n"
     ]
    },
    {
     "name": "stderr",
     "output_type": "stream",
     "text": [
      " 87%|██████████████████████████████████████████████████████████████████████████████████████████████████████▎              | 8743/10000 [26:47<03:17,  6.36it/s]"
     ]
    },
    {
     "name": "stdout",
     "output_type": "stream",
     "text": [
      "Step 8740, train loss:1.3232, test loss:1.6325\n"
     ]
    },
    {
     "name": "stderr",
     "output_type": "stream",
     "text": [
      " 88%|██████████████████████████████████████████████████████████████████████████████████████████████████████▍              | 8753/10000 [26:49<03:16,  6.36it/s]"
     ]
    },
    {
     "name": "stdout",
     "output_type": "stream",
     "text": [
      "Step 8750, train loss:1.3227, test loss:1.6209\n"
     ]
    },
    {
     "name": "stderr",
     "output_type": "stream",
     "text": [
      " 88%|██████████████████████████████████████████████████████████████████████████████████████████████████████▌              | 8763/10000 [26:50<03:14,  6.36it/s]"
     ]
    },
    {
     "name": "stdout",
     "output_type": "stream",
     "text": [
      "Step 8760, train loss:1.3265, test loss:1.6288\n"
     ]
    },
    {
     "name": "stderr",
     "output_type": "stream",
     "text": [
      " 88%|██████████████████████████████████████████████████████████████████████████████████████████████████████▋              | 8773/10000 [26:52<03:13,  6.35it/s]"
     ]
    },
    {
     "name": "stdout",
     "output_type": "stream",
     "text": [
      "Step 8770, train loss:1.3267, test loss:1.6004\n"
     ]
    },
    {
     "name": "stderr",
     "output_type": "stream",
     "text": [
      " 88%|██████████████████████████████████████████████████████████████████████████████████████████████████████▊              | 8783/10000 [26:53<03:11,  6.35it/s]"
     ]
    },
    {
     "name": "stdout",
     "output_type": "stream",
     "text": [
      "Step 8780, train loss:1.3200, test loss:1.6265\n"
     ]
    },
    {
     "name": "stderr",
     "output_type": "stream",
     "text": [
      " 88%|██████████████████████████████████████████████████████████████████████████████████████████████████████▉              | 8793/10000 [26:54<03:10,  6.35it/s]"
     ]
    },
    {
     "name": "stdout",
     "output_type": "stream",
     "text": [
      "Step 8790, train loss:1.3262, test loss:1.6159\n"
     ]
    },
    {
     "name": "stderr",
     "output_type": "stream",
     "text": [
      " 88%|██████████████████████████████████████████████████████████████████████████████████████████████████████▉              | 8799/10000 [26:55<02:12,  9.03it/s]"
     ]
    },
    {
     "name": "stdout",
     "output_type": "stream",
     "text": [
      "Step 8800, train loss:1.3192, test loss:1.6156\n"
     ]
    },
    {
     "name": "stderr",
     "output_type": "stream",
     "text": [
      " 88%|██████████████████████████████████████████████████████████████████████████████████████████████████████▉              | 8803/10000 [27:00<12:50,  1.55it/s]"
     ]
    },
    {
     "name": "stdout",
     "output_type": "stream",
     "text": [
      "\n",
      "\n",
      "QUEEN MARGARET:\n",
      "O, he done Lady love to your season thy crospers.\n",
      "Such a virtue Richward, ride impart and cybabed.\n",
      "\n",
      "CLAUDIO:\n",
      "That's being meet, he were versed.\n",
      "\n",
      "KING RICHARD III:\n",
      "Or tempest noint cartain, in I\n",
      "should mind a deep for blood you dost!\n",
      "\n",
      "Answern! am the time, and I'll passion\n",
      "As you profess a phison, and at love them he.\n",
      "\n",
      "DUKE OF YORK:\n",
      "Art house this after of those arms:\n",
      "And venown relived me to the replext you,\n",
      "Didst stell I was which he sweaterian.\n",
      "Therefore, never seal against the caubs bash do't\n",
      "From merry house them away. I dares you might;\n",
      "Here is to passued, health power these should not standing\n",
      "His enemy slies: itself my nurse, blood,\n",
      "But I'll wish'd, what is found to bear\n",
      "Which it was gallow hands here's blazing wanded.\n",
      "\n",
      "Servant:\n",
      "And stocks God 'tis wit.\n",
      "\n",
      "KING LEWIS XI:\n",
      "Do not holicilisly sovereign. Earl you may came\n",
      "Bear me me! Let me, we weal; I narry, and gentle on hanging;\n",
      "And would should to the Gives here and can that durch\n",
      "Engended his month hour struck wha\n",
      "Step 8800, train loss:1.3256, test loss:1.6333\n"
     ]
    },
    {
     "name": "stderr",
     "output_type": "stream",
     "text": [
      " 88%|███████████████████████████████████████████████████████████████████████████████████████████████████████              | 8813/10000 [27:02<04:42,  4.21it/s]"
     ]
    },
    {
     "name": "stdout",
     "output_type": "stream",
     "text": [
      "Step 8810, train loss:1.3331, test loss:1.6343\n"
     ]
    },
    {
     "name": "stderr",
     "output_type": "stream",
     "text": [
      " 88%|███████████████████████████████████████████████████████████████████████████████████████████████████████▏             | 8823/10000 [27:03<03:20,  5.88it/s]"
     ]
    },
    {
     "name": "stdout",
     "output_type": "stream",
     "text": [
      "Step 8820, train loss:1.3233, test loss:1.6260\n"
     ]
    },
    {
     "name": "stderr",
     "output_type": "stream",
     "text": [
      " 88%|███████████████████████████████████████████████████████████████████████████████████████████████████████▎             | 8833/10000 [27:05<03:06,  6.27it/s]"
     ]
    },
    {
     "name": "stdout",
     "output_type": "stream",
     "text": [
      "Step 8830, train loss:1.3167, test loss:1.6446\n"
     ]
    },
    {
     "name": "stderr",
     "output_type": "stream",
     "text": [
      " 88%|███████████████████████████████████████████████████████████████████████████████████████████████████████▍             | 8843/10000 [27:06<03:02,  6.35it/s]"
     ]
    },
    {
     "name": "stdout",
     "output_type": "stream",
     "text": [
      "Step 8840, train loss:1.3167, test loss:1.5989\n"
     ]
    },
    {
     "name": "stderr",
     "output_type": "stream",
     "text": [
      " 89%|███████████████████████████████████████████████████████████████████████████████████████████████████████▌             | 8853/10000 [27:08<03:00,  6.36it/s]"
     ]
    },
    {
     "name": "stdout",
     "output_type": "stream",
     "text": [
      "Step 8850, train loss:1.3269, test loss:1.6358\n"
     ]
    },
    {
     "name": "stderr",
     "output_type": "stream",
     "text": [
      " 89%|███████████████████████████████████████████████████████████████████████████████████████████████████████▋             | 8863/10000 [27:09<02:58,  6.36it/s]"
     ]
    },
    {
     "name": "stdout",
     "output_type": "stream",
     "text": [
      "Step 8860, train loss:1.3166, test loss:1.6364\n"
     ]
    },
    {
     "name": "stderr",
     "output_type": "stream",
     "text": [
      " 89%|███████████████████████████████████████████████████████████████████████████████████████████████████████▊             | 8873/10000 [27:10<02:57,  6.35it/s]"
     ]
    },
    {
     "name": "stdout",
     "output_type": "stream",
     "text": [
      "Step 8870, train loss:1.3123, test loss:1.6309\n"
     ]
    },
    {
     "name": "stderr",
     "output_type": "stream",
     "text": [
      " 89%|███████████████████████████████████████████████████████████████████████████████████████████████████████▉             | 8883/10000 [27:12<02:55,  6.35it/s]"
     ]
    },
    {
     "name": "stdout",
     "output_type": "stream",
     "text": [
      "Step 8880, train loss:1.3187, test loss:1.6230\n"
     ]
    },
    {
     "name": "stderr",
     "output_type": "stream",
     "text": [
      " 89%|████████████████████████████████████████████████████████████████████████████████████████████████████████             | 8891/10000 [27:13<03:27,  5.34it/s]"
     ]
    },
    {
     "name": "stdout",
     "output_type": "stream",
     "text": [
      "Step 8890, train loss:1.3233, test loss:1.6081\n"
     ]
    },
    {
     "name": "stderr",
     "output_type": "stream",
     "text": [
      " 89%|████████████████████████████████████████████████████████████████████████████████████████████████████████             | 8899/10000 [27:14<02:02,  9.02it/s]"
     ]
    },
    {
     "name": "stdout",
     "output_type": "stream",
     "text": [
      "Step 8900, train loss:1.3166, test loss:1.6385\n"
     ]
    },
    {
     "name": "stderr",
     "output_type": "stream",
     "text": [
      " 89%|████████████████████████████████████████████████████████████████████████████████████████████████████████▏            | 8903/10000 [27:19<11:26,  1.60it/s]"
     ]
    },
    {
     "name": "stdout",
     "output_type": "stream",
     "text": [
      "\n",
      "\n",
      "COMINIUS:\n",
      "Pring me a lickear:\n",
      "Come, 'tis thee.\n",
      "\n",
      "First Latcator:\n",
      "Company the order our woes!\n",
      "We must my scurrend all abread these not safew the book?\n",
      "Is it her:' assisted glorious,\n",
      "And hopes of bear kneels have babe me age,\n",
      "And yet do see whose foot? she have eye\n",
      "Volsces I will tell me procees;\n",
      "Told I tell merry wife angel disgones,\n",
      "Shalt noblish and rest.\n",
      "Then devise the vantage were i' secure.\n",
      "My Joymon, and talk, followels from at your hander, say\n",
      "Is were out of these brother place,\n",
      "Ha!' the gapt, good return! What, then, that my sovereign,\n",
      "Which doth some to the cease the king's cry, and my heart-be very to-morrow'd,\n",
      "That is most revenge that lords named,\n",
      "His not they call wash'd not bald.\n",
      "\n",
      "MENENIUS:\n",
      "At it so.\n",
      "\n",
      "BUCKINGHAM:\n",
      "Now I cannot lay, my lord. If you may be standelligenes\n",
      "I have fallow thee.\n",
      "\n",
      "ISABELLA:\n",
      "How false it you'll relail that them day,\n",
      "That thou, but great assistal.\n",
      "\n",
      "LEONTES:\n",
      "My husband, bright some to\n",
      "The queen, that dog many occasion, who, in ends\n",
      "mast that the world\n",
      "Step 8900, train loss:1.3213, test loss:1.6158\n"
     ]
    },
    {
     "name": "stderr",
     "output_type": "stream",
     "text": [
      " 89%|████████████████████████████████████████████████████████████████████████████████████████████████████████▎            | 8913/10000 [27:21<04:14,  4.26it/s]"
     ]
    },
    {
     "name": "stdout",
     "output_type": "stream",
     "text": [
      "Step 8910, train loss:1.3275, test loss:1.6239\n"
     ]
    },
    {
     "name": "stderr",
     "output_type": "stream",
     "text": [
      " 89%|████████████████████████████████████████████████████████████████████████████████████████████████████████▍            | 8923/10000 [27:22<03:02,  5.90it/s]"
     ]
    },
    {
     "name": "stdout",
     "output_type": "stream",
     "text": [
      "Step 8920, train loss:1.3097, test loss:1.6254\n"
     ]
    },
    {
     "name": "stderr",
     "output_type": "stream",
     "text": [
      " 89%|████████████████████████████████████████████████████████████████████████████████████████████████████████▌            | 8933/10000 [27:23<02:49,  6.29it/s]"
     ]
    },
    {
     "name": "stdout",
     "output_type": "stream",
     "text": [
      "Step 8930, train loss:1.3238, test loss:1.6432\n"
     ]
    },
    {
     "name": "stderr",
     "output_type": "stream",
     "text": [
      " 89%|████████████████████████████████████████████████████████████████████████████████████████████████████████▌            | 8941/10000 [27:25<03:17,  5.36it/s]"
     ]
    },
    {
     "name": "stdout",
     "output_type": "stream",
     "text": [
      "Step 8940, train loss:1.3142, test loss:1.6318\n"
     ]
    },
    {
     "name": "stderr",
     "output_type": "stream",
     "text": [
      " 90%|████████████████████████████████████████████████████████████████████████████████████████████████████████▊            | 8953/10000 [27:26<02:44,  6.36it/s]"
     ]
    },
    {
     "name": "stdout",
     "output_type": "stream",
     "text": [
      "Step 8950, train loss:1.3134, test loss:1.6336\n"
     ]
    },
    {
     "name": "stderr",
     "output_type": "stream",
     "text": [
      " 90%|████████████████████████████████████████████████████████████████████████████████████████████████████████▊            | 8963/10000 [27:28<02:42,  6.37it/s]"
     ]
    },
    {
     "name": "stdout",
     "output_type": "stream",
     "text": [
      "Step 8960, train loss:1.3188, test loss:1.6487\n"
     ]
    },
    {
     "name": "stderr",
     "output_type": "stream",
     "text": [
      " 90%|████████████████████████████████████████████████████████████████████████████████████████████████████████▉            | 8973/10000 [27:29<02:41,  6.36it/s]"
     ]
    },
    {
     "name": "stdout",
     "output_type": "stream",
     "text": [
      "Step 8970, train loss:1.3259, test loss:1.6333\n"
     ]
    },
    {
     "name": "stderr",
     "output_type": "stream",
     "text": [
      " 90%|█████████████████████████████████████████████████████████████████████████████████████████████████████████            | 8983/10000 [27:30<02:40,  6.35it/s]"
     ]
    },
    {
     "name": "stdout",
     "output_type": "stream",
     "text": [
      "Step 8980, train loss:1.3172, test loss:1.6298\n"
     ]
    },
    {
     "name": "stderr",
     "output_type": "stream",
     "text": [
      " 90%|█████████████████████████████████████████████████████████████████████████████████████████████████████████▏           | 8993/10000 [27:32<02:38,  6.34it/s]"
     ]
    },
    {
     "name": "stdout",
     "output_type": "stream",
     "text": [
      "Step 8990, train loss:1.3125, test loss:1.6011\n"
     ]
    },
    {
     "name": "stderr",
     "output_type": "stream",
     "text": [
      " 90%|█████████████████████████████████████████████████████████████████████████████████████████████████████████▎           | 8999/10000 [27:32<01:51,  9.01it/s]"
     ]
    },
    {
     "name": "stdout",
     "output_type": "stream",
     "text": [
      "Step 9000, train loss:1.3131, test loss:1.6301\n"
     ]
    },
    {
     "name": "stderr",
     "output_type": "stream",
     "text": [
      " 90%|█████████████████████████████████████████████████████████████████████████████████████████████████████████▎           | 9003/10000 [27:37<09:48,  1.69it/s]"
     ]
    },
    {
     "name": "stdout",
     "output_type": "stream",
     "text": [
      "\n",
      "\n",
      "ELBOW:\n",
      "It gentle hand, I am received, degraties\n",
      "Remembers no hearted o'er prince!\n",
      "Look'd on men, and well, the plainly\n",
      "Ameons country' the neg to begins me wrong about the trembling too\n",
      "Which fickstre arthomation thy foe. Go, go you are\n",
      "to your knew threats that I.\n",
      "Resolve hath hent thou art:\n",
      "Where's now they made her enemies cloud;\n",
      "In the aspite till up the more\n",
      "write; and will Warwick with answer\n",
      "Than my turn gin the true so laid whom:\n",
      "Some nurse smonest of the dear of his newly\n",
      "I thrink how he had, in done man.\n",
      "\n",
      "GLOUCESTER:\n",
      "Fear the look'd her face?\n",
      "\n",
      "Nurse:\n",
      "Loudger up, it popersuage cilely\n",
      "Hath not, demised on servant: and thereto\n",
      "O' the mine more, behold:\n",
      "There's removes in follow, are, away?\n",
      "\n",
      "ROMEO:\n",
      "My name off.\n",
      "\n",
      "FROTH:\n",
      "Citizens:\n",
      "Pener now stand we fall ourselves gravel, desperaties where\n",
      "Than when say sheel'd gold! O, what return'd\n",
      "Warwick shall I will we suffy fair levy,\n",
      "The goddess madliant dog to anger up,\n",
      "The levest of your kindness hours.\n",
      "And you accuse may snakes timemoners\n",
      "Step 9000, train loss:1.3270, test loss:1.6106\n"
     ]
    },
    {
     "name": "stderr",
     "output_type": "stream",
     "text": [
      " 90%|█████████████████████████████████████████████████████████████████████████████████████████████████████████▍           | 9013/10000 [27:39<03:46,  4.36it/s]"
     ]
    },
    {
     "name": "stdout",
     "output_type": "stream",
     "text": [
      "Step 9010, train loss:1.3207, test loss:1.6244\n"
     ]
    },
    {
     "name": "stderr",
     "output_type": "stream",
     "text": [
      " 90%|█████████████████████████████████████████████████████████████████████████████████████████████████████████▌           | 9023/10000 [27:40<02:45,  5.92it/s]"
     ]
    },
    {
     "name": "stdout",
     "output_type": "stream",
     "text": [
      "Step 9020, train loss:1.3188, test loss:1.6313\n"
     ]
    },
    {
     "name": "stderr",
     "output_type": "stream",
     "text": [
      " 90%|█████████████████████████████████████████████████████████████████████████████████████████████████████████▋           | 9033/10000 [27:42<02:33,  6.29it/s]"
     ]
    },
    {
     "name": "stdout",
     "output_type": "stream",
     "text": [
      "Step 9030, train loss:1.3220, test loss:1.6272\n"
     ]
    },
    {
     "name": "stderr",
     "output_type": "stream",
     "text": [
      " 90%|█████████████████████████████████████████████████████████████████████████████████████████████████████████▊           | 9043/10000 [27:43<02:30,  6.36it/s]"
     ]
    },
    {
     "name": "stdout",
     "output_type": "stream",
     "text": [
      "Step 9040, train loss:1.3163, test loss:1.6218\n"
     ]
    },
    {
     "name": "stderr",
     "output_type": "stream",
     "text": [
      " 91%|█████████████████████████████████████████████████████████████████████████████████████████████████████████▉           | 9053/10000 [27:45<02:29,  6.35it/s]"
     ]
    },
    {
     "name": "stdout",
     "output_type": "stream",
     "text": [
      "Step 9050, train loss:1.3106, test loss:1.6241\n"
     ]
    },
    {
     "name": "stderr",
     "output_type": "stream",
     "text": [
      " 91%|██████████████████████████████████████████████████████████████████████████████████████████████████████████           | 9061/10000 [27:46<02:55,  5.34it/s]"
     ]
    },
    {
     "name": "stdout",
     "output_type": "stream",
     "text": [
      "Step 9060, train loss:1.3143, test loss:1.6004\n"
     ]
    },
    {
     "name": "stderr",
     "output_type": "stream",
     "text": [
      " 91%|██████████████████████████████████████████████████████████████████████████████████████████████████████████▏          | 9071/10000 [27:47<02:53,  5.34it/s]"
     ]
    },
    {
     "name": "stdout",
     "output_type": "stream",
     "text": [
      "Step 9070, train loss:1.3066, test loss:1.6271\n"
     ]
    },
    {
     "name": "stderr",
     "output_type": "stream",
     "text": [
      " 91%|██████████████████████████████████████████████████████████████████████████████████████████████████████████▏          | 9081/10000 [27:49<02:52,  5.33it/s]"
     ]
    },
    {
     "name": "stdout",
     "output_type": "stream",
     "text": [
      "Step 9080, train loss:1.3018, test loss:1.6280\n"
     ]
    },
    {
     "name": "stderr",
     "output_type": "stream",
     "text": [
      " 91%|██████████████████████████████████████████████████████████████████████████████████████████████████████████▎          | 9091/10000 [27:50<02:50,  5.33it/s]"
     ]
    },
    {
     "name": "stdout",
     "output_type": "stream",
     "text": [
      "Step 9090, train loss:1.3231, test loss:1.6122\n"
     ]
    },
    {
     "name": "stderr",
     "output_type": "stream",
     "text": [
      " 91%|██████████████████████████████████████████████████████████████████████████████████████████████████████████▍          | 9099/10000 [27:51<01:40,  9.00it/s]"
     ]
    },
    {
     "name": "stdout",
     "output_type": "stream",
     "text": [
      "Step 9100, train loss:1.3176, test loss:1.6229\n"
     ]
    },
    {
     "name": "stderr",
     "output_type": "stream",
     "text": [
      " 91%|██████████████████████████████████████████████████████████████████████████████████████████████████████████▌          | 9103/10000 [27:56<08:50,  1.69it/s]"
     ]
    },
    {
     "name": "stdout",
     "output_type": "stream",
     "text": [
      "\n",
      "\n",
      "ESCALUS:\n",
      "What is thy royal o' the Lody luck coff!\n",
      "But his castical fly!\n",
      "The getter 'shepherd: whistop insider with\n",
      "at you, myself disses, dhy dag news?\n",
      "\n",
      "GLOUCESTER:\n",
      "He can consent and use a devired.\n",
      "Speak, my lord, affect riest. Thus, make fair prace\n",
      "A far, you to me; 'tis nor strange with the minister\n",
      "In thy tongue-but this officers of thee.\n",
      "Be could not I must be thy brother's death.\n",
      "I'll! then be fortune all that is all,\n",
      "Her care my father and thy footer'd from those\n",
      "vernestions of true. This point!\n",
      "\n",
      "KING RICHARD III:\n",
      "Then esheeps do well; thy neck up forther,' the\n",
      "truly, I died cot of revenge speak,\n",
      "See the fight stone gaunts, twenty more\n",
      "That be lady's naturate, make had an say my redies scurves.\n",
      "And in this sufficy wickle. Therefore,\n",
      "Whilst thy nator-from his about to attend now\n",
      "frow'd the harden, is one matter'd and prayers:\n",
      "Were it the done, clouds I.\n",
      "\n",
      "TYBALT:\n",
      "Return when heaven mischarge.\n",
      "\n",
      "KING HENRY VI:\n",
      "Marshall may grace, you'll it him for stand?\n",
      "\n",
      "YORK:\n",
      "A long help and ready\n",
      "Step 9100, train loss:1.3156, test loss:1.6258\n"
     ]
    },
    {
     "name": "stderr",
     "output_type": "stream",
     "text": [
      " 91%|██████████████████████████████████████████████████████████████████████████████████████████████████████████▌          | 9113/10000 [27:57<03:23,  4.36it/s]"
     ]
    },
    {
     "name": "stdout",
     "output_type": "stream",
     "text": [
      "Step 9110, train loss:1.3220, test loss:1.6194\n"
     ]
    },
    {
     "name": "stderr",
     "output_type": "stream",
     "text": [
      " 91%|██████████████████████████████████████████████████████████████████████████████████████████████████████████▋          | 9121/10000 [27:59<02:58,  4.92it/s]"
     ]
    },
    {
     "name": "stdout",
     "output_type": "stream",
     "text": [
      "Step 9120, train loss:1.3184, test loss:1.6074\n"
     ]
    },
    {
     "name": "stderr",
     "output_type": "stream",
     "text": [
      " 91%|██████████████████████████████████████████████████████████████████████████████████████████████████████████▊          | 9131/10000 [28:00<02:44,  5.29it/s]"
     ]
    },
    {
     "name": "stdout",
     "output_type": "stream",
     "text": [
      "Step 9130, train loss:1.3170, test loss:1.6143\n"
     ]
    },
    {
     "name": "stderr",
     "output_type": "stream",
     "text": [
      " 91%|██████████████████████████████████████████████████████████████████████████████████████████████████████████▉          | 9143/10000 [28:02<02:14,  6.35it/s]"
     ]
    },
    {
     "name": "stdout",
     "output_type": "stream",
     "text": [
      "Step 9140, train loss:1.3094, test loss:1.6220\n"
     ]
    },
    {
     "name": "stderr",
     "output_type": "stream",
     "text": [
      " 92%|███████████████████████████████████████████████████████████████████████████████████████████████████████████          | 9153/10000 [28:03<02:13,  6.36it/s]"
     ]
    },
    {
     "name": "stdout",
     "output_type": "stream",
     "text": [
      "Step 9150, train loss:1.3224, test loss:1.6324\n"
     ]
    },
    {
     "name": "stderr",
     "output_type": "stream",
     "text": [
      " 92%|███████████████████████████████████████████████████████████████████████████████████████████████████████████▏         | 9163/10000 [28:04<02:11,  6.35it/s]"
     ]
    },
    {
     "name": "stdout",
     "output_type": "stream",
     "text": [
      "Step 9160, train loss:1.3122, test loss:1.6378\n"
     ]
    },
    {
     "name": "stderr",
     "output_type": "stream",
     "text": [
      " 92%|███████████████████████████████████████████████████████████████████████████████████████████████████████████▎         | 9173/10000 [28:06<02:10,  6.34it/s]"
     ]
    },
    {
     "name": "stdout",
     "output_type": "stream",
     "text": [
      "Step 9170, train loss:1.3181, test loss:1.6298\n"
     ]
    },
    {
     "name": "stderr",
     "output_type": "stream",
     "text": [
      " 92%|███████████████████████████████████████████████████████████████████████████████████████████████████████████▍         | 9183/10000 [28:07<02:08,  6.34it/s]"
     ]
    },
    {
     "name": "stdout",
     "output_type": "stream",
     "text": [
      "Step 9180, train loss:1.3035, test loss:1.6290\n"
     ]
    },
    {
     "name": "stderr",
     "output_type": "stream",
     "text": [
      " 92%|███████████████████████████████████████████████████████████████████████████████████████████████████████████▌         | 9191/10000 [28:08<02:31,  5.33it/s]"
     ]
    },
    {
     "name": "stdout",
     "output_type": "stream",
     "text": [
      "Step 9190, train loss:1.3195, test loss:1.6333\n"
     ]
    },
    {
     "name": "stderr",
     "output_type": "stream",
     "text": [
      " 92%|███████████████████████████████████████████████████████████████████████████████████████████████████████████▋         | 9199/10000 [28:09<01:28,  9.00it/s]"
     ]
    },
    {
     "name": "stdout",
     "output_type": "stream",
     "text": [
      "Step 9200, train loss:1.3111, test loss:1.6394\n"
     ]
    },
    {
     "name": "stderr",
     "output_type": "stream",
     "text": [
      " 92%|███████████████████████████████████████████████████████████████████████████████████████████████████████████▋         | 9203/10000 [28:14<08:00,  1.66it/s]"
     ]
    },
    {
     "name": "stdout",
     "output_type": "stream",
     "text": [
      "\n",
      "\n",
      "KING RICHARD II:\n",
      "You are aboardine are-headies.\n",
      "Come on, in him rather.\n",
      "\n",
      "Both Hastings:\n",
      "The nights all master noble stabbot;\n",
      "Be aming the king of our name.\n",
      "\n",
      "RUTLAND:\n",
      "I'll not beseech you, tutly foul;\n",
      "And stars them towards are mantor here. Take suffices?\n",
      "\n",
      "JULIET:\n",
      "Are needful the world with twines.\n",
      "\n",
      "All drop my lips, to that.\n",
      "\n",
      "KING RICHARD III:\n",
      "My what as his confercy?\n",
      "\n",
      "QUEEN ELIZABETH:\n",
      "My lord, till wars will bush gooe Rome in a bawd his swords.\n",
      "\n",
      "SAMPSON:\n",
      "Did not banish for't: I'll to grant!\n",
      "\n",
      "ABHORSON:\n",
      "First Citizens with a hot, for conferending breather\n",
      "To bear contrary, and yet him like as face:\n",
      "You have best meditate esit hit, the devil in,\n",
      "Both of your requith he become sweet of you.\n",
      "\n",
      "Boy:\n",
      "You may pay, break now, not do\n",
      "disbussion in autiface. Where are you resolve;\n",
      "For as you, wers, unlictory's tongue you do resist:\n",
      "'D' the queen; yet of it made; coward\n",
      "Where I content to time my sword. What\n",
      "fairst Bality, though them, take your fortension you\n",
      "Not your mother here stand me, with a\n",
      "Step 9200, train loss:1.3065, test loss:1.6286\n"
     ]
    },
    {
     "name": "stderr",
     "output_type": "stream",
     "text": [
      " 92%|███████████████████████████████████████████████████████████████████████████████████████████████████████████▊         | 9213/10000 [28:16<03:01,  4.33it/s]"
     ]
    },
    {
     "name": "stdout",
     "output_type": "stream",
     "text": [
      "Step 9210, train loss:1.3248, test loss:1.6189\n"
     ]
    },
    {
     "name": "stderr",
     "output_type": "stream",
     "text": [
      " 92%|███████████████████████████████████████████████████████████████████████████████████████████████████████████▉         | 9223/10000 [28:17<02:11,  5.91it/s]"
     ]
    },
    {
     "name": "stdout",
     "output_type": "stream",
     "text": [
      "Step 9220, train loss:1.3151, test loss:1.6333\n"
     ]
    },
    {
     "name": "stderr",
     "output_type": "stream",
     "text": [
      " 92%|████████████████████████████████████████████████████████████████████████████████████████████████████████████         | 9233/10000 [28:19<02:01,  6.30it/s]"
     ]
    },
    {
     "name": "stdout",
     "output_type": "stream",
     "text": [
      "Step 9230, train loss:1.3247, test loss:1.6097\n"
     ]
    },
    {
     "name": "stderr",
     "output_type": "stream",
     "text": [
      " 92%|████████████████████████████████████████████████████████████████████████████████████████████████████████████▏        | 9243/10000 [28:20<01:59,  6.35it/s]"
     ]
    },
    {
     "name": "stdout",
     "output_type": "stream",
     "text": [
      "Step 9240, train loss:1.3111, test loss:1.6316\n"
     ]
    },
    {
     "name": "stderr",
     "output_type": "stream",
     "text": [
      " 93%|████████████████████████████████████████████████████████████████████████████████████████████████████████████▏        | 9251/10000 [28:21<02:19,  5.36it/s]"
     ]
    },
    {
     "name": "stdout",
     "output_type": "stream",
     "text": [
      "Step 9250, train loss:1.3046, test loss:1.6252\n"
     ]
    },
    {
     "name": "stderr",
     "output_type": "stream",
     "text": [
      " 93%|████████████████████████████████████████████████████████████████████████████████████████████████████████████▍        | 9263/10000 [28:23<01:55,  6.36it/s]"
     ]
    },
    {
     "name": "stdout",
     "output_type": "stream",
     "text": [
      "Step 9260, train loss:1.3056, test loss:1.6338\n"
     ]
    },
    {
     "name": "stderr",
     "output_type": "stream",
     "text": [
      " 93%|████████████████████████████████████████████████████████████████████████████████████████████████████████████▍        | 9273/10000 [28:24<01:54,  6.35it/s]"
     ]
    },
    {
     "name": "stdout",
     "output_type": "stream",
     "text": [
      "Step 9270, train loss:1.3128, test loss:1.6433\n"
     ]
    },
    {
     "name": "stderr",
     "output_type": "stream",
     "text": [
      " 93%|████████████████████████████████████████████████████████████████████████████████████████████████████████████▌        | 9283/10000 [28:26<01:52,  6.35it/s]"
     ]
    },
    {
     "name": "stdout",
     "output_type": "stream",
     "text": [
      "Step 9280, train loss:1.3056, test loss:1.6300\n"
     ]
    },
    {
     "name": "stderr",
     "output_type": "stream",
     "text": [
      " 93%|████████████████████████████████████████████████████████████████████████████████████████████████████████████▋        | 9293/10000 [28:27<01:51,  6.34it/s]"
     ]
    },
    {
     "name": "stdout",
     "output_type": "stream",
     "text": [
      "Step 9290, train loss:1.3073, test loss:1.6312\n"
     ]
    },
    {
     "name": "stderr",
     "output_type": "stream",
     "text": [
      " 93%|████████████████████████████████████████████████████████████████████████████████████████████████████████████▊        | 9299/10000 [28:28<01:17,  9.01it/s]"
     ]
    },
    {
     "name": "stdout",
     "output_type": "stream",
     "text": [
      "Step 9300, train loss:1.3088, test loss:1.6267\n"
     ]
    },
    {
     "name": "stderr",
     "output_type": "stream",
     "text": [
      " 93%|████████████████████████████████████████████████████████████████████████████████████████████████████████████▊        | 9303/10000 [28:33<07:00,  1.66it/s]"
     ]
    },
    {
     "name": "stdout",
     "output_type": "stream",
     "text": [
      "\n",
      "\n",
      "MICIO:\n",
      "Think you have did actor?\n",
      "My lords, despair teft, or groan's hands.\n",
      "\n",
      "CORIOLANUS:\n",
      "Now, I moved it needs than my hearts,\n",
      "Blister, thou play of our wife; but this eye,\n",
      "Have bid high lentence; for my this write,\n",
      "Which they have for't slewd?\n",
      "\n",
      "PRINCE EDWARD:\n",
      "Mark he was not which would save Edward of my mother,\n",
      "Had never no rester thrown and pardicular thee\n",
      "how much more shall win in whelefore have\n",
      "I banish'd the party in frown march.\n",
      "\n",
      "BUCKINGHAM:\n",
      "Lords, untasce to-better in my fair braths of my sight;\n",
      "And leteein gliss fiery; this loss,\n",
      "Tunoughly a dead in revenge, and before, empty\n",
      "fairerable with you.\n",
      "Neithed nor ha, keep to young his left for you.\n",
      "\n",
      "SAMPSON:\n",
      "You have because for the sighs like, and suff thy honest\n",
      "But shall the eir sifp-cased, I'll now to excuse hate,\n",
      "I hope to me for angel impolate,\n",
      "A little fight, six ancient everity discontent!\n",
      "Revenged give me my sigh'd reason,\n",
      "Whether headers was signightness with thy set his hand;\n",
      "Let her eyes, now kiss savours than a sturn t\n",
      "Step 9300, train loss:1.3085, test loss:1.5911\n"
     ]
    },
    {
     "name": "stderr",
     "output_type": "stream",
     "text": [
      " 93%|████████████████████████████████████████████████████████████████████████████████████████████████████████████▉        | 9313/10000 [28:34<02:38,  4.33it/s]"
     ]
    },
    {
     "name": "stdout",
     "output_type": "stream",
     "text": [
      "Step 9310, train loss:1.3050, test loss:1.6093\n"
     ]
    },
    {
     "name": "stderr",
     "output_type": "stream",
     "text": [
      " 93%|█████████████████████████████████████████████████████████████████████████████████████████████████████████████        | 9323/10000 [28:36<01:54,  5.91it/s]"
     ]
    },
    {
     "name": "stdout",
     "output_type": "stream",
     "text": [
      "Step 9320, train loss:1.3054, test loss:1.6195\n"
     ]
    },
    {
     "name": "stderr",
     "output_type": "stream",
     "text": [
      " 93%|█████████████████████████████████████████████████████████████████████████████████████████████████████████████▏       | 9333/10000 [28:37<01:45,  6.31it/s]"
     ]
    },
    {
     "name": "stdout",
     "output_type": "stream",
     "text": [
      "Step 9330, train loss:1.3135, test loss:1.6223\n"
     ]
    },
    {
     "name": "stderr",
     "output_type": "stream",
     "text": [
      " 93%|█████████████████████████████████████████████████████████████████████████████████████████████████████████████▎       | 9343/10000 [28:39<01:43,  6.37it/s]"
     ]
    },
    {
     "name": "stdout",
     "output_type": "stream",
     "text": [
      "Step 9340, train loss:1.2995, test loss:1.6435\n"
     ]
    },
    {
     "name": "stderr",
     "output_type": "stream",
     "text": [
      " 94%|█████████████████████████████████████████████████████████████████████████████████████████████████████████████▍       | 9353/10000 [28:40<01:41,  6.36it/s]"
     ]
    },
    {
     "name": "stdout",
     "output_type": "stream",
     "text": [
      "Step 9350, train loss:1.3103, test loss:1.6427\n"
     ]
    },
    {
     "name": "stderr",
     "output_type": "stream",
     "text": [
      " 94%|█████████████████████████████████████████████████████████████████████████████████████████████████████████████▌       | 9363/10000 [28:41<01:40,  6.36it/s]"
     ]
    },
    {
     "name": "stdout",
     "output_type": "stream",
     "text": [
      "Step 9360, train loss:1.2932, test loss:1.6375\n"
     ]
    },
    {
     "name": "stderr",
     "output_type": "stream",
     "text": [
      " 94%|█████████████████████████████████████████████████████████████████████████████████████████████████████████████▋       | 9373/10000 [28:43<01:38,  6.35it/s]"
     ]
    },
    {
     "name": "stdout",
     "output_type": "stream",
     "text": [
      "Step 9370, train loss:1.3077, test loss:1.6154\n"
     ]
    },
    {
     "name": "stderr",
     "output_type": "stream",
     "text": [
      " 94%|█████████████████████████████████████████████████████████████████████████████████████████████████████████████▊       | 9383/10000 [28:44<01:37,  6.34it/s]"
     ]
    },
    {
     "name": "stdout",
     "output_type": "stream",
     "text": [
      "Step 9380, train loss:1.3082, test loss:1.6343\n"
     ]
    },
    {
     "name": "stderr",
     "output_type": "stream",
     "text": [
      " 94%|█████████████████████████████████████████████████████████████████████████████████████████████████████████████▉       | 9393/10000 [28:46<01:35,  6.33it/s]"
     ]
    },
    {
     "name": "stdout",
     "output_type": "stream",
     "text": [
      "Step 9390, train loss:1.3012, test loss:1.6094\n"
     ]
    },
    {
     "name": "stderr",
     "output_type": "stream",
     "text": [
      " 94%|█████████████████████████████████████████████████████████████████████████████████████████████████████████████▉       | 9399/10000 [28:46<01:06,  9.02it/s]"
     ]
    },
    {
     "name": "stdout",
     "output_type": "stream",
     "text": [
      "Step 9400, train loss:1.3107, test loss:1.6223\n"
     ]
    },
    {
     "name": "stderr",
     "output_type": "stream",
     "text": [
      " 94%|██████████████████████████████████████████████████████████████████████████████████████████████████████████████       | 9403/10000 [28:51<05:52,  1.69it/s]"
     ]
    },
    {
     "name": "stdout",
     "output_type": "stream",
     "text": [
      "\n",
      "\n",
      "RUTMOTUS:\n",
      "We me, his must resolution.\n",
      "\n",
      "HENRY BOLINGBROKE:\n",
      "What you known of late?\n",
      "\n",
      "RICHMOND:\n",
      "This i' that had brock, singer 'Wit!\n",
      "Go to kiss with a bondy to see an ourspen.\n",
      "\n",
      "BRUTUS:\n",
      "Fear myself will you\n",
      "The doth of thee, home to yonder edmits, good shall night\n",
      "Like decest you laugh.\n",
      "\n",
      "KING RICHARD III:\n",
      "Stay lord, my very doubt call'd with the\n",
      "Worse of mine eyes, in his punily? what you shall thinks\n",
      "An arm'd wonds are bid unto it. Falson,\n",
      "Come, I must to wind; and yet your country say\n",
      "With all steel up the noble before\n",
      "Elduren you old of your two lay is it.\n",
      "\n",
      "AUTOLYCUS:\n",
      "How! How! was, come! the sea?\n",
      "\n",
      "TRANIO:\n",
      "I think thou hast be makes. Why, thou, bring hath thee\n",
      "proudver Jeep no him to reality that is dislips? do haunt\n",
      "Attendly slack thee makes, who tongues lose braclegs?\n",
      "Fair, thou no more in this shall do worse hate that,\n",
      "Is though the dead is discover with it it,\n",
      "Who still breath, ground my dear wearies that we\n",
      "never cut frather's folt move state:\n",
      "My lord, the noble proson's it,\n",
      "The mo\n",
      "Step 9400, train loss:1.3105, test loss:1.6505\n"
     ]
    },
    {
     "name": "stderr",
     "output_type": "stream",
     "text": [
      " 94%|██████████████████████████████████████████████████████████████████████████████████████████████████████████████▏      | 9413/10000 [28:53<02:14,  4.36it/s]"
     ]
    },
    {
     "name": "stdout",
     "output_type": "stream",
     "text": [
      "Step 9410, train loss:1.3099, test loss:1.6264\n"
     ]
    },
    {
     "name": "stderr",
     "output_type": "stream",
     "text": [
      " 94%|██████████████████████████████████████████████████████████████████████████████████████████████████████████████▏      | 9423/10000 [28:54<01:37,  5.93it/s]"
     ]
    },
    {
     "name": "stdout",
     "output_type": "stream",
     "text": [
      "Step 9420, train loss:1.3076, test loss:1.6165\n"
     ]
    },
    {
     "name": "stderr",
     "output_type": "stream",
     "text": [
      " 94%|██████████████████████████████████████████████████████████████████████████████████████████████████████████████▎      | 9433/10000 [28:55<01:30,  6.28it/s]"
     ]
    },
    {
     "name": "stdout",
     "output_type": "stream",
     "text": [
      "Step 9430, train loss:1.2990, test loss:1.6066\n"
     ]
    },
    {
     "name": "stderr",
     "output_type": "stream",
     "text": [
      " 94%|██████████████████████████████████████████████████████████████████████████████████████████████████████████████▍      | 9443/10000 [28:57<01:27,  6.35it/s]"
     ]
    },
    {
     "name": "stdout",
     "output_type": "stream",
     "text": [
      "Step 9440, train loss:1.3057, test loss:1.6289\n"
     ]
    },
    {
     "name": "stderr",
     "output_type": "stream",
     "text": [
      " 95%|██████████████████████████████████████████████████████████████████████████████████████████████████████████████▌      | 9453/10000 [28:58<01:25,  6.36it/s]"
     ]
    },
    {
     "name": "stdout",
     "output_type": "stream",
     "text": [
      "Step 9450, train loss:1.3115, test loss:1.6248\n"
     ]
    },
    {
     "name": "stderr",
     "output_type": "stream",
     "text": [
      " 95%|██████████████████████████████████████████████████████████████████████████████████████████████████████████████▋      | 9461/10000 [29:00<01:40,  5.35it/s]"
     ]
    },
    {
     "name": "stdout",
     "output_type": "stream",
     "text": [
      "Step 9460, train loss:1.3053, test loss:1.6131\n"
     ]
    },
    {
     "name": "stderr",
     "output_type": "stream",
     "text": [
      " 95%|██████████████████████████████████████████████████████████████████████████████████████████████████████████████▊      | 9473/10000 [29:01<01:23,  6.34it/s]"
     ]
    },
    {
     "name": "stdout",
     "output_type": "stream",
     "text": [
      "Step 9470, train loss:1.3025, test loss:1.6049\n"
     ]
    },
    {
     "name": "stderr",
     "output_type": "stream",
     "text": [
      " 95%|██████████████████████████████████████████████████████████████████████████████████████████████████████████████▉      | 9481/10000 [29:02<01:37,  5.34it/s]"
     ]
    },
    {
     "name": "stdout",
     "output_type": "stream",
     "text": [
      "Step 9480, train loss:1.3109, test loss:1.6428\n"
     ]
    },
    {
     "name": "stderr",
     "output_type": "stream",
     "text": [
      " 95%|███████████████████████████████████████████████████████████████████████████████████████████████████████████████      | 9493/10000 [29:04<01:20,  6.34it/s]"
     ]
    },
    {
     "name": "stdout",
     "output_type": "stream",
     "text": [
      "Step 9490, train loss:1.3096, test loss:1.6407\n"
     ]
    },
    {
     "name": "stderr",
     "output_type": "stream",
     "text": [
      " 95%|███████████████████████████████████████████████████████████████████████████████████████████████████████████████▏     | 9499/10000 [29:05<00:55,  9.00it/s]"
     ]
    },
    {
     "name": "stdout",
     "output_type": "stream",
     "text": [
      "Step 9500, train loss:1.3042, test loss:1.6235\n"
     ]
    },
    {
     "name": "stderr",
     "output_type": "stream",
     "text": [
      " 95%|███████████████████████████████████████████████████████████████████████████████████████████████████████████████▏     | 9503/10000 [29:10<04:57,  1.67it/s]"
     ]
    },
    {
     "name": "stdout",
     "output_type": "stream",
     "text": [
      "\n",
      "\n",
      "KING RICHARD II:\n",
      "Ay, 't it be understand in her.\n",
      "\n",
      "MENENIUS:\n",
      "Agail's bones.\n",
      "\n",
      "KING EDWARD IV:\n",
      "No, now, I, my good to Christ,\n",
      "Where is the part wed I love us bright are.\n",
      "\n",
      "ROMEO:\n",
      "My great, lives so createnge; what she which this fament\n",
      "At where presence must truching death some and yes;\n",
      "But gentle advy you makes, going,--\n",
      "Quarcely Warwick our himself me a storn;\n",
      "Yet maid, considerate supphan we quont this plivity\n",
      "To gentry first, I servant, I am continue with all.\n",
      "\n",
      "THOMAS MOWBRAY:\n",
      "I am York that bastard' and then death. Bare with some\n",
      "But ried than my further.\n",
      "\n",
      "Nurse:\n",
      "Sirrah, weigh, 'tis with of kill having kinsman:\n",
      "Geor less aughter a mortal forfet for his perfeitor\n",
      "At than hate hear mutal.\n",
      "Spolt him, that honest king's drops so is it\n",
      "Ann more from Angelo! O, what my enjicling?\n",
      "\n",
      "JULIET:\n",
      "My Lord of desiries heart; her for a shown mine\n",
      "With her be son; for you, fellow to his brought\n",
      "Fear Exford, this wonder.\n",
      "He'll late if Warwick, comest to they?\n",
      "\n",
      "WESTMORELAND:\n",
      "We was the time of\n",
      "shall desp\n",
      "Step 9500, train loss:1.3063, test loss:1.6113\n"
     ]
    },
    {
     "name": "stderr",
     "output_type": "stream",
     "text": [
      " 95%|███████████████████████████████████████████████████████████████████████████████████████████████████████████████▎     | 9513/10000 [29:11<01:52,  4.34it/s]"
     ]
    },
    {
     "name": "stdout",
     "output_type": "stream",
     "text": [
      "Step 9510, train loss:1.3055, test loss:1.6305\n"
     ]
    },
    {
     "name": "stderr",
     "output_type": "stream",
     "text": [
      " 95%|███████████████████████████████████████████████████████████████████████████████████████████████████████████████▍     | 9523/10000 [29:12<01:20,  5.92it/s]"
     ]
    },
    {
     "name": "stdout",
     "output_type": "stream",
     "text": [
      "Step 9520, train loss:1.3072, test loss:1.6299\n"
     ]
    },
    {
     "name": "stderr",
     "output_type": "stream",
     "text": [
      " 95%|███████████████████████████████████████████████████████████████████████████████████████████████████████████████▌     | 9533/10000 [29:14<01:14,  6.29it/s]"
     ]
    },
    {
     "name": "stdout",
     "output_type": "stream",
     "text": [
      "Step 9530, train loss:1.3023, test loss:1.6028\n"
     ]
    },
    {
     "name": "stderr",
     "output_type": "stream",
     "text": [
      " 95%|███████████████████████████████████████████████████████████████████████████████████████████████████████████████▋     | 9543/10000 [29:15<01:11,  6.35it/s]"
     ]
    },
    {
     "name": "stdout",
     "output_type": "stream",
     "text": [
      "Step 9540, train loss:1.3060, test loss:1.6389\n"
     ]
    },
    {
     "name": "stderr",
     "output_type": "stream",
     "text": [
      " 96%|███████████████████████████████████████████████████████████████████████████████████████████████████████████████▊     | 9553/10000 [29:17<01:10,  6.36it/s]"
     ]
    },
    {
     "name": "stdout",
     "output_type": "stream",
     "text": [
      "Step 9550, train loss:1.2999, test loss:1.6231\n"
     ]
    },
    {
     "name": "stderr",
     "output_type": "stream",
     "text": [
      " 96%|███████████████████████████████████████████████████████████████████████████████████████████████████████████████▉     | 9563/10000 [29:18<01:08,  6.35it/s]"
     ]
    },
    {
     "name": "stdout",
     "output_type": "stream",
     "text": [
      "Step 9560, train loss:1.2990, test loss:1.6266\n"
     ]
    },
    {
     "name": "stderr",
     "output_type": "stream",
     "text": [
      " 96%|████████████████████████████████████████████████████████████████████████████████████████████████████████████████     | 9573/10000 [29:20<01:07,  6.36it/s]"
     ]
    },
    {
     "name": "stdout",
     "output_type": "stream",
     "text": [
      "Step 9570, train loss:1.2972, test loss:1.6202\n"
     ]
    },
    {
     "name": "stderr",
     "output_type": "stream",
     "text": [
      " 96%|████████████████████████████████████████████████████████████████████████████████████████████████████████████████     | 9583/10000 [29:21<01:05,  6.35it/s]"
     ]
    },
    {
     "name": "stdout",
     "output_type": "stream",
     "text": [
      "Step 9580, train loss:1.3066, test loss:1.6132\n"
     ]
    },
    {
     "name": "stderr",
     "output_type": "stream",
     "text": [
      " 96%|████████████████████████████████████████████████████████████████████████████████████████████████████████████████▏    | 9591/10000 [29:22<01:16,  5.34it/s]"
     ]
    },
    {
     "name": "stdout",
     "output_type": "stream",
     "text": [
      "Step 9590, train loss:1.2994, test loss:1.6198\n"
     ]
    },
    {
     "name": "stderr",
     "output_type": "stream",
     "text": [
      " 96%|████████████████████████████████████████████████████████████████████████████████████████████████████████████████▎    | 9599/10000 [29:23<00:44,  9.01it/s]"
     ]
    },
    {
     "name": "stdout",
     "output_type": "stream",
     "text": [
      "Step 9600, train loss:1.2983, test loss:1.6214\n"
     ]
    },
    {
     "name": "stderr",
     "output_type": "stream",
     "text": [
      " 96%|████████████████████████████████████████████████████████████████████████████████████████████████████████████████▎    | 9603/10000 [29:28<04:02,  1.64it/s]"
     ]
    },
    {
     "name": "stdout",
     "output_type": "stream",
     "text": [
      "\n",
      "\n",
      "girl:\n",
      "Commit for thy as his counsels, implace you rage\n",
      "Dorn to Clarence, where!\n",
      "If, pray you are prickness by Nan thostly,\n",
      "This is prazers' unto playing to the orave.\n",
      "\n",
      "JULIET:\n",
      "Where I loved son by live case.\n",
      "Why, 'twasness part to is my strinkless\n",
      "For, that mine honourable to make my\n",
      "greater away thee!\n",
      "\n",
      "JULIET:\n",
      "Good these this pertle, less ill.\n",
      "Still the duke of stay, and thinks.\n",
      "\n",
      "CORIOLANUS:\n",
      "That she hag Tellen we have fa man\n",
      "Be quiet thence less expecting.\n",
      "But 'twelve this about then no more; but the jeen this,\n",
      "Lest dids of the body, bag needful sickness,\n",
      "But then the duket canspy to earth bid\n",
      "her cut of you continue and night thief already,\n",
      "Have whedged the laughter tell, and earth of his head\n",
      "to can did my poace, as you believe you, lest\n",
      "Would she is in arms, it is straight,\n",
      "What maid to her comfort in so? are are\n",
      "To make you chastips\n",
      "We cannot so intell in, what sex and things--\n",
      "Your heads and when all that have more eyes\n",
      "To save me end no resign\n",
      "But queen's barnary; and noble fel\n",
      "Step 9600, train loss:1.3016, test loss:1.6081\n"
     ]
    },
    {
     "name": "stderr",
     "output_type": "stream",
     "text": [
      " 96%|████████████████████████████████████████████████████████████████████████████████████████████████████████████████▍    | 9613/10000 [29:30<01:30,  4.30it/s]"
     ]
    },
    {
     "name": "stdout",
     "output_type": "stream",
     "text": [
      "Step 9610, train loss:1.3020, test loss:1.6389\n"
     ]
    },
    {
     "name": "stderr",
     "output_type": "stream",
     "text": [
      " 96%|████████████████████████████████████████████████████████████████████████████████████████████████████████████████▌    | 9623/10000 [29:31<01:03,  5.91it/s]"
     ]
    },
    {
     "name": "stdout",
     "output_type": "stream",
     "text": [
      "Step 9620, train loss:1.3054, test loss:1.6245\n"
     ]
    },
    {
     "name": "stderr",
     "output_type": "stream",
     "text": [
      " 96%|████████████████████████████████████████████████████████████████████████████████████████████████████████████████▋    | 9633/10000 [29:32<00:58,  6.29it/s]"
     ]
    },
    {
     "name": "stdout",
     "output_type": "stream",
     "text": [
      "Step 9630, train loss:1.2926, test loss:1.6422\n"
     ]
    },
    {
     "name": "stderr",
     "output_type": "stream",
     "text": [
      " 96%|████████████████████████████████████████████████████████████████████████████████████████████████████████████████▊    | 9643/10000 [29:34<00:56,  6.35it/s]"
     ]
    },
    {
     "name": "stdout",
     "output_type": "stream",
     "text": [
      "Step 9640, train loss:1.2914, test loss:1.6027\n"
     ]
    },
    {
     "name": "stderr",
     "output_type": "stream",
     "text": [
      " 97%|████████████████████████████████████████████████████████████████████████████████████████████████████████████████▉    | 9651/10000 [29:35<01:05,  5.35it/s]"
     ]
    },
    {
     "name": "stdout",
     "output_type": "stream",
     "text": [
      "Step 9650, train loss:1.3055, test loss:1.6411\n"
     ]
    },
    {
     "name": "stderr",
     "output_type": "stream",
     "text": [
      " 97%|█████████████████████████████████████████████████████████████████████████████████████████████████████████████████    | 9663/10000 [29:37<00:52,  6.36it/s]"
     ]
    },
    {
     "name": "stdout",
     "output_type": "stream",
     "text": [
      "Step 9660, train loss:1.3079, test loss:1.5988\n"
     ]
    },
    {
     "name": "stderr",
     "output_type": "stream",
     "text": [
      " 97%|█████████████████████████████████████████████████████████████████████████████████████████████████████████████████▏   | 9673/10000 [29:38<00:51,  6.35it/s]"
     ]
    },
    {
     "name": "stdout",
     "output_type": "stream",
     "text": [
      "Step 9670, train loss:1.2983, test loss:1.6203\n"
     ]
    },
    {
     "name": "stderr",
     "output_type": "stream",
     "text": [
      " 97%|█████████████████████████████████████████████████████████████████████████████████████████████████████████████████▎   | 9683/10000 [29:40<00:49,  6.36it/s]"
     ]
    },
    {
     "name": "stdout",
     "output_type": "stream",
     "text": [
      "Step 9680, train loss:1.2862, test loss:1.6318\n"
     ]
    },
    {
     "name": "stderr",
     "output_type": "stream",
     "text": [
      " 97%|█████████████████████████████████████████████████████████████████████████████████████████████████████████████████▍   | 9691/10000 [29:41<00:57,  5.34it/s]"
     ]
    },
    {
     "name": "stdout",
     "output_type": "stream",
     "text": [
      "Step 9690, train loss:1.2990, test loss:1.6125\n"
     ]
    },
    {
     "name": "stderr",
     "output_type": "stream",
     "text": [
      " 97%|█████████████████████████████████████████████████████████████████████████████████████████████████████████████████▍   | 9699/10000 [29:42<00:33,  9.01it/s]"
     ]
    },
    {
     "name": "stdout",
     "output_type": "stream",
     "text": [
      "Step 9700, train loss:1.3001, test loss:1.6438\n"
     ]
    },
    {
     "name": "stderr",
     "output_type": "stream",
     "text": [
      " 97%|█████████████████████████████████████████████████████████████████████████████████████████████████████████████████▌   | 9703/10000 [29:47<03:07,  1.58it/s]"
     ]
    },
    {
     "name": "stdout",
     "output_type": "stream",
     "text": [
      "\n",
      "\n",
      "KING RICHARD:\n",
      "Those horses me happy through your good;\n",
      "He is a bestrain of nature.\n",
      "\n",
      "AUTOLYCUS:\n",
      "He a pirch gone! but in hag; but the sheep,\n",
      "We'll will done, I was; therefore I am old force this lap him.\n",
      "\n",
      "LORD ROSS:\n",
      "But envy o'er Warwick swifter to distraise.\n",
      "\n",
      "Lord:\n",
      "But stilled will read incity Barking most be faint,\n",
      "Being thee once in the ciracious judgment\n",
      "Eleines of this deny;\n",
      "And with that he hath edges in head.\n",
      "This to joy bout he accell, go give at mine,\n",
      "But upendity hand when bear prover softs;\n",
      "The putlagenees of by they out his deserves.\n",
      "What is true the matimely one to southly live\n",
      "Your morning thee king, and go hear eyes\n",
      "I to certain of death.\n",
      "\n",
      "YORK:\n",
      "Peace the morn of the king.\n",
      "\n",
      "QUEEN MARGARET:\n",
      "Are foolish your grace Clarences Richard youth,\n",
      "Come, what will be no roughly do to fie,\n",
      "And two woundsy in this; and let your even Baunting,\n",
      "That so with means men be such flow'd morthlity\n",
      "is you, and promise all-remous that man.\n",
      "\n",
      "LORD FLIZABETH:\n",
      "Tell me, and so I must be such\n",
      "Turrers m\n",
      "Step 9700, train loss:1.2972, test loss:1.6294\n"
     ]
    },
    {
     "name": "stderr",
     "output_type": "stream",
     "text": [
      " 97%|█████████████████████████████████████████████████████████████████████████████████████████████████████████████████▋   | 9713/10000 [29:48<01:07,  4.23it/s]"
     ]
    },
    {
     "name": "stdout",
     "output_type": "stream",
     "text": [
      "Step 9710, train loss:1.3029, test loss:1.6188\n"
     ]
    },
    {
     "name": "stderr",
     "output_type": "stream",
     "text": [
      " 97%|█████████████████████████████████████████████████████████████████████████████████████████████████████████████████▊   | 9723/10000 [29:50<00:47,  5.87it/s]"
     ]
    },
    {
     "name": "stdout",
     "output_type": "stream",
     "text": [
      "Step 9720, train loss:1.2871, test loss:1.6055\n"
     ]
    },
    {
     "name": "stderr",
     "output_type": "stream",
     "text": [
      " 97%|█████████████████████████████████████████████████████████████████████████████████████████████████████████████████▊   | 9731/10000 [29:51<00:51,  5.24it/s]"
     ]
    },
    {
     "name": "stdout",
     "output_type": "stream",
     "text": [
      "Step 9730, train loss:1.2941, test loss:1.6202\n"
     ]
    },
    {
     "name": "stderr",
     "output_type": "stream",
     "text": [
      " 97%|█████████████████████████████████████████████████████████████████████████████████████████████████████████████████▉   | 9743/10000 [29:53<00:40,  6.33it/s]"
     ]
    },
    {
     "name": "stdout",
     "output_type": "stream",
     "text": [
      "Step 9740, train loss:1.2874, test loss:1.6246\n"
     ]
    },
    {
     "name": "stderr",
     "output_type": "stream",
     "text": [
      " 98%|██████████████████████████████████████████████████████████████████████████████████████████████████████████████████   | 9753/10000 [29:54<00:38,  6.33it/s]"
     ]
    },
    {
     "name": "stdout",
     "output_type": "stream",
     "text": [
      "Step 9750, train loss:1.3004, test loss:1.6032\n"
     ]
    },
    {
     "name": "stderr",
     "output_type": "stream",
     "text": [
      " 98%|██████████████████████████████████████████████████████████████████████████████████████████████████████████████████▏  | 9763/10000 [29:56<00:37,  6.33it/s]"
     ]
    },
    {
     "name": "stdout",
     "output_type": "stream",
     "text": [
      "Step 9760, train loss:1.2970, test loss:1.6542\n"
     ]
    },
    {
     "name": "stderr",
     "output_type": "stream",
     "text": [
      " 98%|██████████████████████████████████████████████████████████████████████████████████████████████████████████████████▎  | 9771/10000 [29:57<00:43,  5.31it/s]"
     ]
    },
    {
     "name": "stdout",
     "output_type": "stream",
     "text": [
      "Step 9770, train loss:1.3028, test loss:1.6259\n"
     ]
    },
    {
     "name": "stderr",
     "output_type": "stream",
     "text": [
      " 98%|██████████████████████████████████████████████████████████████████████████████████████████████████████████████████▍  | 9783/10000 [29:58<00:34,  6.31it/s]"
     ]
    },
    {
     "name": "stdout",
     "output_type": "stream",
     "text": [
      "Step 9780, train loss:1.2996, test loss:1.6305\n"
     ]
    },
    {
     "name": "stderr",
     "output_type": "stream",
     "text": [
      " 98%|██████████████████████████████████████████████████████████████████████████████████████████████████████████████████▌  | 9793/10000 [30:00<00:32,  6.32it/s]"
     ]
    },
    {
     "name": "stdout",
     "output_type": "stream",
     "text": [
      "Step 9790, train loss:1.2927, test loss:1.6218\n"
     ]
    },
    {
     "name": "stderr",
     "output_type": "stream",
     "text": [
      " 98%|██████████████████████████████████████████████████████████████████████████████████████████████████████████████████▋  | 9799/10000 [30:00<00:22,  8.97it/s]"
     ]
    },
    {
     "name": "stdout",
     "output_type": "stream",
     "text": [
      "Step 9800, train loss:1.2979, test loss:1.6231\n"
     ]
    },
    {
     "name": "stderr",
     "output_type": "stream",
     "text": [
      " 98%|██████████████████████████████████████████████████████████████████████████████████████████████████████████████████▋  | 9803/10000 [30:05<01:56,  1.69it/s]"
     ]
    },
    {
     "name": "stdout",
     "output_type": "stream",
     "text": [
      "\n",
      "\n",
      "CAMILLO:\n",
      "I deserve in your power he not;\n",
      "Nor noble wheportly and glutteries intence,\n",
      "You are thou procured of this:\n",
      "And think you still, were yet the words out of be.\n",
      "Fourthless was marriage on the mower.\n",
      "'GREY:\n",
      "\n",
      "MARCIUS:\n",
      "Why, they do party through this to?\n",
      "\n",
      "BUSHY:\n",
      "Ay, the wiship city, to his and want, my kin. Parta than man.\n",
      "But let's meed, have there!\n",
      "What as if thou livers there\n",
      "And in thy thundred Inroapt.\n",
      "\n",
      "NORFOLK:\n",
      "In my lord.\n",
      "\n",
      "MARCIUS:\n",
      "Go tended have red aside; we satine!'\n",
      "At thy true, Richard! O speak severe!\n",
      "He were sees we washon to hear thee.\n",
      "But they my allowers of a morch-death a dow known\n",
      "For Peace: the infallowing would noble\n",
      "Then good striplecy galls; down the sick! which we loaths,\n",
      "That to be bring there's amaze, how I may that brave\n",
      "grieve me to dozen, try so Warwick pentence\n",
      "Will in one secret's glory.\n",
      "\n",
      "Second Murderer:\n",
      "I certain, and said, little summer is the belonges\n",
      "And such do forget, he has ever\n",
      "Divent whether stand their well; in the sun,\n",
      "And burn think: as do \n",
      "Step 9800, train loss:1.3010, test loss:1.6174\n"
     ]
    },
    {
     "name": "stderr",
     "output_type": "stream",
     "text": [
      " 98%|██████████████████████████████████████████████████████████████████████████████████████████████████████████████████▊  | 9813/10000 [30:07<00:42,  4.36it/s]"
     ]
    },
    {
     "name": "stdout",
     "output_type": "stream",
     "text": [
      "Step 9810, train loss:1.3078, test loss:1.6198\n"
     ]
    },
    {
     "name": "stderr",
     "output_type": "stream",
     "text": [
      " 98%|██████████████████████████████████████████████████████████████████████████████████████████████████████████████████▉  | 9823/10000 [30:08<00:29,  5.94it/s]"
     ]
    },
    {
     "name": "stdout",
     "output_type": "stream",
     "text": [
      "Step 9820, train loss:1.3023, test loss:1.5969\n"
     ]
    },
    {
     "name": "stderr",
     "output_type": "stream",
     "text": [
      " 98%|███████████████████████████████████████████████████████████████████████████████████████████████████████████████████  | 9833/10000 [30:10<00:26,  6.31it/s]"
     ]
    },
    {
     "name": "stdout",
     "output_type": "stream",
     "text": [
      "Step 9830, train loss:1.3049, test loss:1.6373\n"
     ]
    },
    {
     "name": "stderr",
     "output_type": "stream",
     "text": [
      " 98%|███████████████████████████████████████████████████████████████████████████████████████████████████████████████████▏ | 9843/10000 [30:11<00:24,  6.37it/s]"
     ]
    },
    {
     "name": "stdout",
     "output_type": "stream",
     "text": [
      "Step 9840, train loss:1.3000, test loss:1.6396\n"
     ]
    },
    {
     "name": "stderr",
     "output_type": "stream",
     "text": [
      " 99%|███████████████████████████████████████████████████████████████████████████████████████████████████████████████████▎ | 9853/10000 [30:12<00:23,  6.37it/s]"
     ]
    },
    {
     "name": "stdout",
     "output_type": "stream",
     "text": [
      "Step 9850, train loss:1.3040, test loss:1.6222\n"
     ]
    },
    {
     "name": "stderr",
     "output_type": "stream",
     "text": [
      " 99%|███████████████████████████████████████████████████████████████████████████████████████████████████████████████████▍ | 9863/10000 [30:14<00:21,  6.37it/s]"
     ]
    },
    {
     "name": "stdout",
     "output_type": "stream",
     "text": [
      "Step 9860, train loss:1.2991, test loss:1.6361\n"
     ]
    },
    {
     "name": "stderr",
     "output_type": "stream",
     "text": [
      " 99%|███████████████████████████████████████████████████████████████████████████████████████████████████████████████████▌ | 9873/10000 [30:15<00:19,  6.37it/s]"
     ]
    },
    {
     "name": "stdout",
     "output_type": "stream",
     "text": [
      "Step 9870, train loss:1.2889, test loss:1.6400\n"
     ]
    },
    {
     "name": "stderr",
     "output_type": "stream",
     "text": [
      " 99%|███████████████████████████████████████████████████████████████████████████████████████████████████████████████████▌ | 9881/10000 [30:17<00:22,  5.35it/s]"
     ]
    },
    {
     "name": "stdout",
     "output_type": "stream",
     "text": [
      "Step 9880, train loss:1.2930, test loss:1.6136\n"
     ]
    },
    {
     "name": "stderr",
     "output_type": "stream",
     "text": [
      " 99%|███████████████████████████████████████████████████████████████████████████████████████████████████████████████████▋ | 9893/10000 [30:18<00:16,  6.35it/s]"
     ]
    },
    {
     "name": "stdout",
     "output_type": "stream",
     "text": [
      "Step 9890, train loss:1.2943, test loss:1.6285\n"
     ]
    },
    {
     "name": "stderr",
     "output_type": "stream",
     "text": [
      " 99%|███████████████████████████████████████████████████████████████████████████████████████████████████████████████████▊ | 9899/10000 [30:19<00:11,  9.01it/s]"
     ]
    },
    {
     "name": "stdout",
     "output_type": "stream",
     "text": [
      "Step 9900, train loss:1.2958, test loss:1.6081\n"
     ]
    },
    {
     "name": "stderr",
     "output_type": "stream",
     "text": [
      " 99%|███████████████████████████████████████████████████████████████████████████████████████████████████████████████████▊ | 9903/10000 [30:24<00:57,  1.70it/s]"
     ]
    },
    {
     "name": "stdout",
     "output_type": "stream",
     "text": [
      "\n",
      "\n",
      "KING EDWARD IV:\n",
      "Presenteful times your loss, did,\n",
      "Thurst thou not so your choiclibes, not pass\n",
      "I am often yea, to choose: thou'rt mustice weeds\n",
      "Till your crown, which would\n",
      "Warwick's their majesty Corioling melf,\n",
      "And be the house on Trivined of yon?\n",
      "\n",
      "DUCHESS OF YORK:\n",
      "Can? Go, no; so good of prove, from time!\n",
      "\n",
      "DUKE VINCENTIO:\n",
      "Sir, bench; be day, I remedy?\n",
      "\n",
      "HENRY BOLINGBROKE:\n",
      "My would hrists my head; my good succlusity,\n",
      "To have must York you, like another of Vierce\n",
      "And ylung regarts, whose shall begins Rusalt\n",
      "That the death into him to ye, set\n",
      "Even to our brother, lost me father,\n",
      "And now unsented slain do in: and die,\n",
      "Which say he heart, the particors slauge of all crown.\n",
      "What thou hast had turn'd, not villain, dead\n",
      "Watchmaids, deliver, a rutining that I said\n",
      "Had the queen's toil go bold, or admoted. I, I after\n",
      "this conjuit sulf our bonned\n",
      "With thy quies that church'd instrument,\n",
      "And though I fair desperate name.\n",
      "That a king rot amiss alout, that manny at his sound,\n",
      "To exchange do all th\n",
      "Step 9900, train loss:1.3074, test loss:1.6096\n"
     ]
    },
    {
     "name": "stderr",
     "output_type": "stream",
     "text": [
      " 99%|███████████████████████████████████████████████████████████████████████████████████████████████████████████████████▉ | 9913/10000 [30:25<00:19,  4.35it/s]"
     ]
    },
    {
     "name": "stdout",
     "output_type": "stream",
     "text": [
      "Step 9910, train loss:1.2977, test loss:1.6299\n"
     ]
    },
    {
     "name": "stderr",
     "output_type": "stream",
     "text": [
      " 99%|████████████████████████████████████████████████████████████████████████████████████████████████████████████████████ | 9923/10000 [30:27<00:13,  5.89it/s]"
     ]
    },
    {
     "name": "stdout",
     "output_type": "stream",
     "text": [
      "Step 9920, train loss:1.2972, test loss:1.6345\n"
     ]
    },
    {
     "name": "stderr",
     "output_type": "stream",
     "text": [
      " 99%|████████████████████████████████████████████████████████████████████████████████████████████████████████████████████▏| 9933/10000 [30:28<00:10,  6.24it/s]"
     ]
    },
    {
     "name": "stdout",
     "output_type": "stream",
     "text": [
      "Step 9930, train loss:1.3025, test loss:1.6497\n"
     ]
    },
    {
     "name": "stderr",
     "output_type": "stream",
     "text": [
      " 99%|████████████████████████████████████████████████████████████████████████████████████████████████████████████████████▎| 9943/10000 [30:29<00:09,  6.31it/s]"
     ]
    },
    {
     "name": "stdout",
     "output_type": "stream",
     "text": [
      "Step 9940, train loss:1.2906, test loss:1.6061\n"
     ]
    },
    {
     "name": "stderr",
     "output_type": "stream",
     "text": [
      "100%|████████████████████████████████████████████████████████████████████████████████████████████████████████████████████▍| 9951/10000 [30:31<00:09,  5.31it/s]"
     ]
    },
    {
     "name": "stdout",
     "output_type": "stream",
     "text": [
      "Step 9950, train loss:1.3013, test loss:1.6348\n"
     ]
    },
    {
     "name": "stderr",
     "output_type": "stream",
     "text": [
      "100%|████████████████████████████████████████████████████████████████████████████████████████████████████████████████████▌| 9963/10000 [30:32<00:05,  6.33it/s]"
     ]
    },
    {
     "name": "stdout",
     "output_type": "stream",
     "text": [
      "Step 9960, train loss:1.2934, test loss:1.6277\n"
     ]
    },
    {
     "name": "stderr",
     "output_type": "stream",
     "text": [
      "100%|████████████████████████████████████████████████████████████████████████████████████████████████████████████████████▋| 9973/10000 [30:34<00:04,  6.32it/s]"
     ]
    },
    {
     "name": "stdout",
     "output_type": "stream",
     "text": [
      "Step 9970, train loss:1.2962, test loss:1.6074\n"
     ]
    },
    {
     "name": "stderr",
     "output_type": "stream",
     "text": [
      "100%|████████████████████████████████████████████████████████████████████████████████████████████████████████████████████▊| 9981/10000 [30:35<00:03,  5.31it/s]"
     ]
    },
    {
     "name": "stdout",
     "output_type": "stream",
     "text": [
      "Step 9980, train loss:1.2939, test loss:1.6091\n"
     ]
    },
    {
     "name": "stderr",
     "output_type": "stream",
     "text": [
      "100%|████████████████████████████████████████████████████████████████████████████████████████████████████████████████████▉| 9991/10000 [30:36<00:01,  5.30it/s]"
     ]
    },
    {
     "name": "stdout",
     "output_type": "stream",
     "text": [
      "Step 9990, train loss:1.2987, test loss:1.6215\n"
     ]
    },
    {
     "name": "stderr",
     "output_type": "stream",
     "text": [
      "100%|████████████████████████████████████████████████████████████████████████████████████████████████████████████████████| 10000/10000 [30:37<00:00,  5.44it/s]\n"
     ]
    },
    {
     "name": "stdout",
     "output_type": "stream",
     "text": [
      "\n",
      "\n",
      "ROMEO:\n",
      "O, no, mightitory; whather, is you foul thine alone;\n",
      "My it act country's life? but go? and Cavil\n",
      "To gentle all my love all the rash,\n",
      "To poper it is curely breath.\n",
      "\n",
      "GLOUCESTER:\n",
      "Here let of Cly meet, I can unto my sort street,\n",
      "And bethink heavy to care, sir; who custom heaven,\n",
      "And yet me with receive its and more honour'd and beheld\n",
      "With the lark nay!\n",
      "But profection you: but continueate.\n",
      "Youroight vice love cheer, themselves to hell,\n",
      "Pomfrom my death, starve in his lowench thou cannot death!\n",
      "With Paulinable and will, that i' the sun,\n",
      "Young under shill purchase royal downs thing,\n",
      "But none of this busines.\n",
      "To chang, you all the king?\n",
      "Would not thy will be end inhamity three pronight him\n",
      "Be honour thing night Catesborn march,\n",
      "Dide noise about to rozel to bled use blended on\n",
      "provided nor foul hent, tender me to the\n",
      "Enrathers' let deadly promise in him;\n",
      "Anoisood on Lewis love and there, and lived the practling:\n",
      "I would have state of this business,\n",
      "Courless of old ancient holp to have.\n",
      "\n"
     ]
    }
   ],
   "source": [
    "import torch\n",
    "import torch.nn as nn\n",
    "from torch.nn import  functional as F\n",
    "from torch.nn.parameter import Parameter\n",
    "from tqdm import tqdm\n",
    "from mamba_ssm import Mamba\n",
    "#hyperparams\n",
    "epochs = 100\n",
    "lr = 1e-5\n",
    "batch_size = 64\n",
    "block_size = 256\n",
    "device = \"cuda\" if torch.cuda.is_available() else \"cpu\"\n",
    "max_iters = 10000\n",
    "print_iters = 100\n",
    "eval_iters = 10\n",
    "eval_interval = 300\n",
    "n_embed=384\n",
    "n_heads = 6\n",
    "n_layers = 6\n",
    "dropout = 0.2\n",
    "# ---------\n",
    "with open(\"input.txt\", \"r\") as f:\n",
    "  text = f.read()\n",
    "\n",
    "# Unique characters\n",
    "chars = sorted(list(set(text)))\n",
    "print(''.join(chars))\n",
    "vocab_size = len(chars)\n",
    "print(vocab_size)\n",
    "\n",
    "#Tokenizers\n",
    "stoi = {ch:i for i,ch in enumerate(chars)}\n",
    "itos = {i:ch for i,ch in enumerate(chars)}\n",
    "encode = lambda xx: [stoi[x] for x in xx]\n",
    "decode = lambda xx: ''.join([itos[x] for x in xx])\n",
    "encode(\"Hello!\")\n",
    "print(decode(encode(\"Hello!\")))\n",
    "\n",
    "\n",
    "# train and test splits\n",
    "data = torch.tensor(encode(text), dtype=torch.long)\n",
    "n = int(len(data)*0.9)\n",
    "train_data = data[:n]\n",
    "val_data = data[n:]\n",
    "\n",
    "def get_batch(split):\n",
    "  # generate targets and context\n",
    "  if split == \"train\":\n",
    "    data = train_data\n",
    "  else:\n",
    "    data = val_data\n",
    "  index = torch.randint(0,len(data)-block_size,(batch_size,))\n",
    "  x = torch.stack([data[ind:ind+block_size] for ind in index])\n",
    "  y = torch.stack([data[ind+1:ind+block_size+1] for ind in index])\n",
    "  return x.to(device),y.to(device)\n",
    "\n",
    "\n",
    "@torch.no_grad()\n",
    "def estimate_loss():\n",
    "  out = {}\n",
    "  model.eval()\n",
    "  for split in ['train', 'test']:\n",
    "    losses = torch.zeros(eval_iters)\n",
    "    for k in range(eval_iters):\n",
    "      X,Y = get_batch(split)\n",
    "      logits, loss = model(X,Y)\n",
    "      losses[k] = loss.item()\n",
    "    out[split] = losses.mean()\n",
    "  model.train()\n",
    "  return out\n",
    "\n",
    "\n",
    "class SelfAttentionHead(nn.Module):\n",
    "  def __init__(self, head_size):\n",
    "    super().__init__()\n",
    "    self.keys = nn.Linear(n_embed, head_size)\n",
    "    self.queries = nn.Linear(n_embed, head_size)\n",
    "    self.values = nn.Linear(n_embed, head_size)\n",
    "    self.head_size = head_size\n",
    "    self.n_embed = n_embed\n",
    "    self.register_buffer('tril', torch.tril(torch.ones((block_size,block_size))).to(device))\n",
    "    self.dropout = nn.Dropout(dropout)\n",
    "\n",
    "  def forward(self, x):\n",
    "    B,T,C = x.shape\n",
    "    k = self.keys(x) # (B,T,C_h)\n",
    "    q = self.queries(x) # (B,T,C_h)\n",
    "    v = self.values(x) # (B,T,C_h)\n",
    "    wei = k @ q.transpose(-1,-2) * C**(-0.5)# (B,T,T)\n",
    "    wei = wei.masked_fill( self.tril[:T,:T]==0, float('-inf'))\n",
    "    # wei = F.softmax(wei, dim=-1) # (B,T,T)\n",
    "    wei = torch.log(torch.exp(wei)+1) # (B,T,T)\n",
    "    wei = self.dropout(wei)\n",
    "    out = wei @ v # (B,T,C_h)\n",
    "    return out\n",
    "\n",
    "\n",
    "class LayerNorm(nn.Module):\n",
    "  def __init__(self, dim) -> None:\n",
    "    super().__init__()\n",
    "    self.eps = 1e-5\n",
    "    # params\n",
    "    self.gamma = nn.Parameter(torch.ones(dim))\n",
    "    self.beta = nn.Parameter(torch.zeros(dim))\n",
    "\n",
    "  def forward(self, x):\n",
    "    xmean = x.mean(dim=1, keepdim=True)\n",
    "    xvar = ((x-xmean)**2).mean(dim=1, keepdim=True)\n",
    "    xhat = (x-xmean) / torch.sqrt(xvar + self.eps)\n",
    "    self.out = self.gamma * xhat + self.beta\n",
    "    return self.out\n",
    "\n",
    "  def parameters(self):\n",
    "    return [self.gamma, self.beta]\n",
    "\n",
    "class MultiHeadAttention(nn.Module):\n",
    "  def __init__(self, n_heads, head_size) -> None:\n",
    "    super().__init__()\n",
    "    self.heads = nn.ModuleList([SelfAttentionHead(head_size) for _ in range(n_heads)])\n",
    "    self.proj = nn.Linear(n_embed, n_embed)\n",
    "    self.dropout = nn.Dropout(dropout)\n",
    "\n",
    "  def forward(self, x):\n",
    "    B,T,C = x.shape\n",
    "    out = torch.cat([head(x) for head in self.heads], dim=-1)\n",
    "    out = self.proj(out)\n",
    "    out = self.dropout(out)\n",
    "    return out\n",
    "\n",
    "class FeedForward(nn.Module):\n",
    "  def __init__(self, n_embed) -> None:\n",
    "    super().__init__()\n",
    "    self.ffn = nn.Sequential(\n",
    "      nn.Linear(n_embed, 4*n_embed),\n",
    "      nn.ReLU(),\n",
    "      nn.Linear(4*n_embed, n_embed),\n",
    "      nn.Dropout(dropout),\n",
    "    )\n",
    "  def forward(self, x):\n",
    "    return self.ffn(x)\n",
    "\n",
    "class Block(nn.Module):\n",
    "  def __init__(self, n_embed, n_heads) -> None:\n",
    "    super().__init__()\n",
    "    self.head_size = n_embed // n_heads\n",
    "    # self.sa_head = MultiHeadAttention(n_heads, self.head_size)\n",
    "    self.sa_head = Mamba(\n",
    "      # This module uses roughly 3 * expand * d_model^2 parameters\n",
    "      d_model=n_embed, # Model dimension d_model\n",
    "      d_state=16,  # SSM state expansion factor\n",
    "      d_conv=4,    # Local convolution width\n",
    "      expand=2,    # Block expansion factor\n",
    "  ).to(\"cuda\")\n",
    "    self.ffn = FeedForward(n_embed)\n",
    "    self.ln1 = nn.LayerNorm(n_embed)\n",
    "    self.ln2 = nn.LayerNorm(n_embed)\n",
    "\n",
    "\n",
    "  def forward(self, x):\n",
    "    x = x + self.sa_head(self.ln1(x))\n",
    "    x = x + self.ffn(self.ln2(x))\n",
    "\n",
    "    return x\n",
    "\n",
    "class BigramNeuralNetwork(nn.Module):\n",
    "  def __init__(self,vocab_size):\n",
    "    super().__init__()\n",
    "    self.token_embedding_table = nn.Embedding(vocab_size,n_embed)\n",
    "    self.position_embedding_table = nn.Embedding(block_size,n_embed)\n",
    "    self.sa_head = MultiHeadAttention(4,int(n_embed/4))\n",
    "    self.lm_head = nn.Linear(n_embed,vocab_size)\n",
    "    self.ffn = FeedForward(n_embed)\n",
    "    self.blocks = nn.Sequential(*[Block(n_embed,n_heads=n_heads) for _ in range(n_layers)])\n",
    "\n",
    "\n",
    "  def forward(self, idx, targets=None):\n",
    "    # idx = idx[:,-block_size:]\n",
    "    B,T = idx.shape\n",
    "    tok_emb = self.token_embedding_table(idx) # (B,T,C_e)\n",
    "    pos_emb = self.position_embedding_table(torch.arange(T,device=device)) # (T,C_e)\n",
    "    x = tok_emb + pos_emb # (B,T,C_e)\n",
    "    x = self.blocks(x) # (B,T,C_e)\n",
    "    logits = self.lm_head(x) # (B,T,vocab_size)\n",
    "    if targets is None:\n",
    "      loss = None\n",
    "    else:\n",
    "      B,T,C = logits.shape\n",
    "      logits = logits.view(B*T,C)\n",
    "      targets = targets.view(B*T)\n",
    "      loss = F.cross_entropy(logits, targets)\n",
    "      logits = logits.view(B,T,C)\n",
    "    return logits, loss\n",
    "  def generate(self, idx, max_new_tokens):\n",
    "    # idx is (B,T)\n",
    "    idx_next = []\n",
    "    for i in range(max_new_tokens):\n",
    "      idx_cond = idx[:,-block_size:]\n",
    "      logits, loss = self(idx_cond)\n",
    "      last_timestep = logits[:,-1,:]\n",
    "      probs = F.softmax(last_timestep, dim=1)\n",
    "      next_index = torch.multinomial(probs, num_samples=1)\n",
    "      idx = torch.cat((idx, next_index), dim=1)\n",
    "    for arr in idx:\n",
    "      print(decode(arr.cpu().detach().numpy()))\n",
    "    return idx\n",
    "\n",
    "model = BigramNeuralNetwork(vocab_size)\n",
    "optimizer = torch.optim.AdamW(model.parameters(),lr=lr)\n",
    "\n",
    "# checkpoint = torch.load('model.pt')\n",
    "# model.load_state_dict(checkpoint['model_state_dict'])\n",
    "# optimizer.load_state_dict(checkpoint['optimizer_state_dict'])\n",
    "# epoch = checkpoint['epoch']\n",
    "checkpoint_path = None#\"./differentattention/model_40.pt\"\n",
    "epoch = 0\n",
    "if checkpoint_path:\n",
    "  checkpoint = torch.load(checkpoint_path)\n",
    "  print(checkpoint)\n",
    "  if checkpoint['model_state_dict']:\n",
    "    model.load_state_dict(checkpoint['model_state_dict'].to(device))\n",
    "  if checkpoint['optimizer_state_dict']:\n",
    "    optimizer.load_state_dict(checkpoint['optimizer_state_dict'])\n",
    "  epoch = checkpoint['epoch']\n",
    "device = \"cuda\"\n",
    "m = model.to(device)\n",
    "print(\"Uses device \" + device)\n",
    "MODEL_CHECKPOINT = \"./differentattention/model_{iter}.pt\"\n",
    "losses_data = {\"train\":[], \"test\":[]}\n",
    "for iter in tqdm(range(epoch ,max_iters)):\n",
    "  if iter % eval_iters == 0:\n",
    "    losses = estimate_loss()\n",
    "    losses_data['train'].append(losses['train'].cpu().numpy())\n",
    "    losses_data['test'].append(losses['test'].cpu().numpy())\n",
    "    print(f\"Step {iter}, train loss:{losses['train']:.4f}, test loss:{losses['test']:.4f}\")\n",
    "\n",
    "  if iter % print_iters == 0:\n",
    "    losses = estimate_loss()\n",
    "    torch.save({\n",
    "            'epoch': iter,\n",
    "            'model_state_dict': model.state_dict(),\n",
    "            'optimizer_state_dict': optimizer.state_dict(),\n",
    "            'loss': losses,\n",
    "            }, MODEL_CHECKPOINT.format(iter=iter))\n",
    "    losses_data['train'].append(losses['train'].cpu().numpy())\n",
    "    losses_data['test'].append(losses['test'].cpu().numpy())\n",
    "    model.eval()\n",
    "    with torch.no_grad():\n",
    "      #Generate from the model:\n",
    "      output = m.generate(torch.zeros((1,2), dtype=torch.long).to(device).contiguous(), 1000  )[0].tolist()\n",
    "\n",
    "    print(f\"Step {iter}, train loss:{losses['train']:.4f}, test loss:{losses['test']:.4f}\")\n",
    "    model.train()\n",
    "\n",
    "  #Get data\n",
    "  xb,yb = get_batch(\"train\")\n",
    "\n",
    "  #Evaluate loss\n",
    "  logits,loss = model(xb,yb)\n",
    "  optimizer.zero_grad(set_to_none=True)\n",
    "  loss.backward()\n",
    "  torch.nn.utils.clip_grad.clip_grad_norm_(model.parameters(), 1.0)\n",
    "  optimizer.step()\n",
    "torch.save(model.state_dict(), \"./differentattention/model.pt\")\n",
    "#Generate from the model:\n",
    "output = m.generate(torch.zeros((1,2), dtype=torch.long).to(device),1000)[0].tolist()\n"
   ]
  },
  {
   "cell_type": "code",
   "execution_count": 15,
   "metadata": {
    "colab": {
     "base_uri": "https://localhost:8080/"
    },
    "id": "iuP_n21mbLjo",
    "outputId": "e8ebe496-328a-4172-baf1-0f7fefb9bc02"
   },
   "outputs": [
    {
     "name": "stdout",
     "output_type": "stream",
     "text": [
      "Collecting seaborn\n",
      "  Downloading seaborn-0.13.0-py3-none-any.whl (294 kB)\n",
      "\u001b[2K     \u001b[90m━━━━━━━━━━━━━━━━━━━━━━━━━━━━━━━━━━━━━━━\u001b[0m \u001b[32m294.6/294.6 KB\u001b[0m \u001b[31m3.7 MB/s\u001b[0m eta \u001b[36m0:00:00\u001b[0ma \u001b[36m0:00:01\u001b[0m\n",
      "\u001b[?25hCollecting matplotlib!=3.6.1,>=3.3\n",
      "  Using cached matplotlib-3.8.2-cp310-cp310-manylinux_2_17_x86_64.manylinux2014_x86_64.whl (11.6 MB)\n",
      "Requirement already satisfied: numpy!=1.24.0,>=1.20 in ./.env/lib/python3.10/site-packages (from seaborn) (1.26.2)\n",
      "Collecting pandas>=1.2\n",
      "  Downloading pandas-2.1.4-cp310-cp310-manylinux_2_17_x86_64.manylinux2014_x86_64.whl (12.3 MB)\n",
      "\u001b[2K     \u001b[90m━━━━━━━━━━━━━━━━━━━━━━━━━━━━━━━━━━━━━━━━\u001b[0m \u001b[32m12.3/12.3 MB\u001b[0m \u001b[31m85.6 MB/s\u001b[0m eta \u001b[36m0:00:00\u001b[0m00:01\u001b[0m00:01\u001b[0m\n",
      "\u001b[?25hCollecting kiwisolver>=1.3.1\n",
      "  Using cached kiwisolver-1.4.5-cp310-cp310-manylinux_2_12_x86_64.manylinux2010_x86_64.whl (1.6 MB)\n",
      "Collecting pillow>=8\n",
      "  Using cached Pillow-10.1.0-cp310-cp310-manylinux_2_28_x86_64.whl (3.6 MB)\n",
      "Collecting contourpy>=1.0.1\n",
      "  Using cached contourpy-1.2.0-cp310-cp310-manylinux_2_17_x86_64.manylinux2014_x86_64.whl (310 kB)\n",
      "Requirement already satisfied: python-dateutil>=2.7 in ./.env/lib/python3.10/site-packages (from matplotlib!=3.6.1,>=3.3->seaborn) (2.8.2)\n",
      "Collecting pyparsing>=2.3.1\n",
      "  Using cached pyparsing-3.1.1-py3-none-any.whl (103 kB)\n",
      "Requirement already satisfied: packaging>=20.0 in ./.env/lib/python3.10/site-packages (from matplotlib!=3.6.1,>=3.3->seaborn) (23.2)\n",
      "Collecting fonttools>=4.22.0\n",
      "  Downloading fonttools-4.47.0-cp310-cp310-manylinux_2_17_x86_64.manylinux2014_x86_64.whl (4.6 MB)\n",
      "\u001b[2K     \u001b[90m━━━━━━━━━━━━━━━━━━━━━━━━━━━━━━━━━━━━━━━━\u001b[0m \u001b[32m4.6/4.6 MB\u001b[0m \u001b[31m103.5 MB/s\u001b[0m eta \u001b[36m0:00:00\u001b[0ma \u001b[36m0:00:01\u001b[0m\n",
      "\u001b[?25hCollecting cycler>=0.10\n",
      "  Using cached cycler-0.12.1-py3-none-any.whl (8.3 kB)\n",
      "Collecting pytz>=2020.1\n",
      "  Using cached pytz-2023.3.post1-py2.py3-none-any.whl (502 kB)\n",
      "Collecting tzdata>=2022.1\n",
      "  Using cached tzdata-2023.3-py2.py3-none-any.whl (341 kB)\n",
      "Requirement already satisfied: six>=1.5 in ./.env/lib/python3.10/site-packages (from python-dateutil>=2.7->matplotlib!=3.6.1,>=3.3->seaborn) (1.16.0)\n",
      "Installing collected packages: pytz, tzdata, pyparsing, pillow, kiwisolver, fonttools, cycler, contourpy, pandas, matplotlib, seaborn\n",
      "Successfully installed contourpy-1.2.0 cycler-0.12.1 fonttools-4.47.0 kiwisolver-1.4.5 matplotlib-3.8.2 pandas-2.1.4 pillow-10.1.0 pyparsing-3.1.1 pytz-2023.3.post1 seaborn-0.13.0 tzdata-2023.3\n"
     ]
    }
   ],
   "source": [
    "!pip3 install seaborn"
   ]
  },
  {
   "cell_type": "code",
   "execution_count": 18,
   "metadata": {
    "colab": {
     "base_uri": "https://localhost:8080/",
     "height": 553
    },
    "id": "lTSy62h4bNf8",
    "outputId": "ee032dd0-dda5-4a80-fbae-f45a887aa444"
   },
   "outputs": [
    {
     "name": "stdout",
     "output_type": "stream",
     "text": [
      "      train      test\n",
      "0  4.601478  4.587293\n",
      "1  4.602588  4.589345\n",
      "2  4.097872  4.091980\n",
      "3  3.736311  3.737028\n",
      "4  3.500617  3.524055\n"
     ]
    },
    {
     "name": "stderr",
     "output_type": "stream",
     "text": [
      "/tmp/ipykernel_1753430/3909920870.py:6: FutureWarning: DataFrame.applymap has been deprecated. Use DataFrame.map instead.\n",
      "  losses_df = losses_df.applymap(lambda x: float(x))\n"
     ]
    },
    {
     "data": {
      "image/png": "[encoded data removed]",
      "text/plain": [
       "<Figure size 640x480 with 1 Axes>"
      ]
     },
     "metadata": {},
     "output_type": "display_data"
    }
   ],
   "source": [
    "import pandas as pd\n",
    "import numpy as np\n",
    "import seaborn as sns\n",
    "import matplotlib.pyplot as plt\n",
    "losses_df = pd.DataFrame(losses_data)\n",
    "losses_df = losses_df.applymap(lambda x: float(x))\n",
    "print(losses_df.head())\n",
    "# Line graph of loss train and loss test\n",
    "ax = sns.lineplot(data=losses_df[losses_df['train'] < 10])\n",
    "ax.set(xlabel='Iteration(in 10s)', ylabel='Loss')\n",
    "plt.show()"
   ]
  },
  {
   "cell_type": "code",
   "execution_count": null,
   "metadata": {},
   "outputs": [],
   "source": []
  }
 ],
 "metadata": {
  "accelerator": "GPU",
  "colab": {
   "gpuType": "V100",
   "provenance": []
  },
  "kernelspec": {
   "display_name": "Python 3 (ipykernel)",
   "language": "python",
   "name": "python3"
  },
  "language_info": {
   "codemirror_mode": {
    "name": "ipython",
    "version": 3
   },
   "file_extension": ".py",
   "mimetype": "text/x-python",
   "name": "python",
   "nbconvert_exporter": "python",
   "pygments_lexer": "ipython3",
   "version": "3.10.12"
  }
 },
 "nbformat": 4,
 "nbformat_minor": 4
}
