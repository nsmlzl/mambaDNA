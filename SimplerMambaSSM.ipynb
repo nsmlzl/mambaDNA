{
 "cells": [
  {
   "cell_type": "code",
   "execution_count": 1,
   "metadata": {
    "colab": {
     "base_uri": "https://localhost:8080/",
     "height": 1000
    },
    "id": "boUz4Cj6N1ZM",
    "outputId": "a1aa7db8-963d-41cd-df88-d045092ebb08"
   },
   "outputs": [
    {
     "name": "stdout",
     "output_type": "stream",
     "text": [
      "Collecting wheel\n",
      "  Using cached wheel-0.42.0-py3-none-any.whl (65 kB)\n",
      "Installing collected packages: wheel\n",
      "Successfully installed wheel-0.42.0\n"
     ]
    }
   ],
   "source": [
    "!pip install wheel"
   ]
  },
  {
   "cell_type": "code",
   "execution_count": 8,
   "metadata": {},
   "outputs": [
    {
     "name": "stdout",
     "output_type": "stream",
     "text": [
      "Collecting causal-conv1d==1.0.0\n",
      "  Using cached causal_conv1d-1.0.0-cp310-cp310-linux_x86_64.whl\n",
      "Requirement already satisfied: ninja in ./.env/lib/python3.10/site-packages (from causal-conv1d==1.0.0) (1.11.1.1)\n",
      "Collecting torch\n",
      "  Using cached torch-2.1.2-cp310-cp310-manylinux1_x86_64.whl (670.2 MB)\n",
      "Requirement already satisfied: packaging in ./.env/lib/python3.10/site-packages (from causal-conv1d==1.0.0) (23.2)\n",
      "Collecting nvidia-cusolver-cu12==11.4.5.107\n",
      "  Using cached nvidia_cusolver_cu12-11.4.5.107-py3-none-manylinux1_x86_64.whl (124.2 MB)\n",
      "Requirement already satisfied: nvidia-cuda-nvrtc-cu12==12.1.105 in ./.env/lib/python3.10/site-packages (from torch->causal-conv1d==1.0.0) (12.1.105)\n",
      "Requirement already satisfied: nvidia-cufft-cu12==11.0.2.54 in ./.env/lib/python3.10/site-packages (from torch->causal-conv1d==1.0.0) (11.0.2.54)\n",
      "Requirement already satisfied: nvidia-nccl-cu12==2.18.1 in ./.env/lib/python3.10/site-packages (from torch->causal-conv1d==1.0.0) (2.18.1)\n",
      "Requirement already satisfied: nvidia-nvtx-cu12==12.1.105 in ./.env/lib/python3.10/site-packages (from torch->causal-conv1d==1.0.0) (12.1.105)\n",
      "Requirement already satisfied: triton==2.1.0 in ./.env/lib/python3.10/site-packages (from torch->causal-conv1d==1.0.0) (2.1.0)\n",
      "Requirement already satisfied: nvidia-curand-cu12==10.3.2.106 in ./.env/lib/python3.10/site-packages (from torch->causal-conv1d==1.0.0) (10.3.2.106)\n",
      "Requirement already satisfied: filelock in ./.env/lib/python3.10/site-packages (from torch->causal-conv1d==1.0.0) (3.13.1)\n",
      "Requirement already satisfied: fsspec in ./.env/lib/python3.10/site-packages (from torch->causal-conv1d==1.0.0) (2023.12.2)\n",
      "Requirement already satisfied: sympy in ./.env/lib/python3.10/site-packages (from torch->causal-conv1d==1.0.0) (1.12)\n",
      "Requirement already satisfied: nvidia-cublas-cu12==12.1.3.1 in ./.env/lib/python3.10/site-packages (from torch->causal-conv1d==1.0.0) (12.1.3.1)\n",
      "Requirement already satisfied: nvidia-cusparse-cu12==12.1.0.106 in ./.env/lib/python3.10/site-packages (from torch->causal-conv1d==1.0.0) (12.1.0.106)\n",
      "Requirement already satisfied: typing-extensions in ./.env/lib/python3.10/site-packages (from torch->causal-conv1d==1.0.0) (4.9.0)\n",
      "Collecting nvidia-cudnn-cu12==8.9.2.26\n",
      "  Using cached nvidia_cudnn_cu12-8.9.2.26-py3-none-manylinux1_x86_64.whl (731.7 MB)\n",
      "Requirement already satisfied: nvidia-cuda-runtime-cu12==12.1.105 in ./.env/lib/python3.10/site-packages (from torch->causal-conv1d==1.0.0) (12.1.105)\n",
      "Requirement already satisfied: jinja2 in ./.env/lib/python3.10/site-packages (from torch->causal-conv1d==1.0.0) (3.1.2)\n",
      "Requirement already satisfied: nvidia-cuda-cupti-cu12==12.1.105 in ./.env/lib/python3.10/site-packages (from torch->causal-conv1d==1.0.0) (12.1.105)\n",
      "Requirement already satisfied: networkx in ./.env/lib/python3.10/site-packages (from torch->causal-conv1d==1.0.0) (3.2.1)\n",
      "Requirement already satisfied: nvidia-nvjitlink-cu12 in ./.env/lib/python3.10/site-packages (from nvidia-cusolver-cu12==11.4.5.107->torch->causal-conv1d==1.0.0) (12.3.101)\n",
      "Requirement already satisfied: MarkupSafe>=2.0 in ./.env/lib/python3.10/site-packages (from jinja2->torch->causal-conv1d==1.0.0) (2.1.3)\n",
      "Requirement already satisfied: mpmath>=0.19 in ./.env/lib/python3.10/site-packages (from sympy->torch->causal-conv1d==1.0.0) (1.3.0)\n",
      "Installing collected packages: nvidia-cudnn-cu12, nvidia-cusolver-cu12, torch, causal-conv1d\n",
      "Successfully installed causal-conv1d-1.0.0 nvidia-cudnn-cu12-8.9.2.26 nvidia-cusolver-cu12-11.4.5.107 torch-2.1.2\n"
     ]
    }
   ],
   "source": [
    "!pip install causal-conv1d==1.0.0"
   ]
  },
  {
   "cell_type": "code",
   "execution_count": 9,
   "metadata": {
    "colab": {
     "base_uri": "https://localhost:8080/",
     "height": 1000
    },
    "id": "boUz4Cj6N1ZM",
    "outputId": "a1aa7db8-963d-41cd-df88-d045092ebb08"
   },
   "outputs": [
    {
     "name": "stdout",
     "output_type": "stream",
     "text": [
      "Collecting mamba-ssm==1.0.1\n",
      "  Using cached mamba_ssm-1.0.1-cp310-cp310-linux_x86_64.whl\n",
      "Requirement already satisfied: causal-conv1d in ./.env/lib/python3.10/site-packages (from mamba-ssm==1.0.1) (1.0.0)\n",
      "Collecting transformers\n",
      "  Using cached transformers-4.36.2-py3-none-any.whl (8.2 MB)\n",
      "Collecting einops\n",
      "  Using cached einops-0.7.0-py3-none-any.whl (44 kB)\n",
      "Requirement already satisfied: packaging in ./.env/lib/python3.10/site-packages (from mamba-ssm==1.0.1) (23.2)\n",
      "Requirement already satisfied: torch in ./.env/lib/python3.10/site-packages (from mamba-ssm==1.0.1) (2.1.2)\n",
      "Requirement already satisfied: triton in ./.env/lib/python3.10/site-packages (from mamba-ssm==1.0.1) (2.1.0)\n",
      "Requirement already satisfied: ninja in ./.env/lib/python3.10/site-packages (from mamba-ssm==1.0.1) (1.11.1.1)\n",
      "Requirement already satisfied: nvidia-cublas-cu12==12.1.3.1 in ./.env/lib/python3.10/site-packages (from torch->mamba-ssm==1.0.1) (12.1.3.1)\n",
      "Requirement already satisfied: nvidia-cusolver-cu12==11.4.5.107 in ./.env/lib/python3.10/site-packages (from torch->mamba-ssm==1.0.1) (11.4.5.107)\n",
      "Requirement already satisfied: nvidia-nvtx-cu12==12.1.105 in ./.env/lib/python3.10/site-packages (from torch->mamba-ssm==1.0.1) (12.1.105)\n",
      "Requirement already satisfied: nvidia-cusparse-cu12==12.1.0.106 in ./.env/lib/python3.10/site-packages (from torch->mamba-ssm==1.0.1) (12.1.0.106)\n",
      "Requirement already satisfied: typing-extensions in ./.env/lib/python3.10/site-packages (from torch->mamba-ssm==1.0.1) (4.9.0)\n",
      "Requirement already satisfied: jinja2 in ./.env/lib/python3.10/site-packages (from torch->mamba-ssm==1.0.1) (3.1.2)\n",
      "Requirement already satisfied: networkx in ./.env/lib/python3.10/site-packages (from torch->mamba-ssm==1.0.1) (3.2.1)\n",
      "Requirement already satisfied: nvidia-cuda-runtime-cu12==12.1.105 in ./.env/lib/python3.10/site-packages (from torch->mamba-ssm==1.0.1) (12.1.105)\n",
      "Requirement already satisfied: nvidia-curand-cu12==10.3.2.106 in ./.env/lib/python3.10/site-packages (from torch->mamba-ssm==1.0.1) (10.3.2.106)\n",
      "Requirement already satisfied: nvidia-cuda-nvrtc-cu12==12.1.105 in ./.env/lib/python3.10/site-packages (from torch->mamba-ssm==1.0.1) (12.1.105)\n",
      "Requirement already satisfied: nvidia-nccl-cu12==2.18.1 in ./.env/lib/python3.10/site-packages (from torch->mamba-ssm==1.0.1) (2.18.1)\n",
      "Requirement already satisfied: sympy in ./.env/lib/python3.10/site-packages (from torch->mamba-ssm==1.0.1) (1.12)\n",
      "Requirement already satisfied: fsspec in ./.env/lib/python3.10/site-packages (from torch->mamba-ssm==1.0.1) (2023.12.2)\n",
      "Requirement already satisfied: nvidia-cudnn-cu12==8.9.2.26 in ./.env/lib/python3.10/site-packages (from torch->mamba-ssm==1.0.1) (8.9.2.26)\n",
      "Requirement already satisfied: filelock in ./.env/lib/python3.10/site-packages (from torch->mamba-ssm==1.0.1) (3.13.1)\n",
      "Requirement already satisfied: nvidia-cufft-cu12==11.0.2.54 in ./.env/lib/python3.10/site-packages (from torch->mamba-ssm==1.0.1) (11.0.2.54)\n",
      "Requirement already satisfied: nvidia-cuda-cupti-cu12==12.1.105 in ./.env/lib/python3.10/site-packages (from torch->mamba-ssm==1.0.1) (12.1.105)\n",
      "Requirement already satisfied: nvidia-nvjitlink-cu12 in ./.env/lib/python3.10/site-packages (from nvidia-cusolver-cu12==11.4.5.107->torch->mamba-ssm==1.0.1) (12.3.101)\n",
      "Collecting regex!=2019.12.17\n",
      "  Using cached regex-2023.10.3-cp310-cp310-manylinux_2_17_x86_64.manylinux2014_x86_64.whl (773 kB)\n",
      "Collecting huggingface-hub<1.0,>=0.19.3\n",
      "  Using cached huggingface_hub-0.19.4-py3-none-any.whl (311 kB)\n",
      "Requirement already satisfied: requests in ./.env/lib/python3.10/site-packages (from transformers->mamba-ssm==1.0.1) (2.31.0)\n",
      "Collecting tqdm>=4.27\n",
      "  Using cached tqdm-4.66.1-py3-none-any.whl (78 kB)\n",
      "Collecting safetensors>=0.3.1\n",
      "  Using cached safetensors-0.4.1-cp310-cp310-manylinux_2_17_x86_64.manylinux2014_x86_64.whl (1.3 MB)\n",
      "Collecting tokenizers<0.19,>=0.14\n",
      "  Using cached tokenizers-0.15.0-cp310-cp310-manylinux_2_17_x86_64.manylinux2014_x86_64.whl (3.8 MB)\n",
      "Requirement already satisfied: pyyaml>=5.1 in ./.env/lib/python3.10/site-packages (from transformers->mamba-ssm==1.0.1) (6.0.1)\n",
      "Collecting numpy>=1.17\n",
      "  Using cached numpy-1.26.2-cp310-cp310-manylinux_2_17_x86_64.manylinux2014_x86_64.whl (18.2 MB)\n",
      "Requirement already satisfied: MarkupSafe>=2.0 in ./.env/lib/python3.10/site-packages (from jinja2->torch->mamba-ssm==1.0.1) (2.1.3)\n",
      "Requirement already satisfied: urllib3<3,>=1.21.1 in ./.env/lib/python3.10/site-packages (from requests->transformers->mamba-ssm==1.0.1) (2.1.0)\n",
      "Requirement already satisfied: idna<4,>=2.5 in ./.env/lib/python3.10/site-packages (from requests->transformers->mamba-ssm==1.0.1) (3.6)\n",
      "Requirement already satisfied: charset-normalizer<4,>=2 in ./.env/lib/python3.10/site-packages (from requests->transformers->mamba-ssm==1.0.1) (3.3.2)\n",
      "Requirement already satisfied: certifi>=2017.4.17 in ./.env/lib/python3.10/site-packages (from requests->transformers->mamba-ssm==1.0.1) (2023.11.17)\n",
      "Requirement already satisfied: mpmath>=0.19 in ./.env/lib/python3.10/site-packages (from sympy->torch->mamba-ssm==1.0.1) (1.3.0)\n",
      "Installing collected packages: tqdm, safetensors, regex, numpy, einops, huggingface-hub, tokenizers, transformers, mamba-ssm\n",
      "Successfully installed einops-0.7.0 huggingface-hub-0.19.4 mamba-ssm-1.0.1 numpy-1.26.2 regex-2023.10.3 safetensors-0.4.1 tokenizers-0.15.0 tqdm-4.66.1 transformers-4.36.2\n"
     ]
    }
   ],
   "source": [
    "!pip install mamba-ssm==1.0.1"
   ]
  },
  {
   "cell_type": "code",
   "execution_count": 10,
   "metadata": {},
   "outputs": [
    {
     "name": "stdout",
     "output_type": "stream",
     "text": [
      "Collecting ipywidgets\n",
      "  Using cached ipywidgets-8.1.1-py3-none-any.whl (139 kB)\n",
      "Requirement already satisfied: comm>=0.1.3 in ./.env/lib/python3.10/site-packages (from ipywidgets) (0.2.0)\n",
      "Collecting jupyterlab-widgets~=3.0.9\n",
      "  Using cached jupyterlab_widgets-3.0.9-py3-none-any.whl (214 kB)\n",
      "Requirement already satisfied: traitlets>=4.3.1 in ./.env/lib/python3.10/site-packages (from ipywidgets) (5.14.0)\n",
      "Collecting widgetsnbextension~=4.0.9\n",
      "  Using cached widgetsnbextension-4.0.9-py3-none-any.whl (2.3 MB)\n",
      "Requirement already satisfied: ipython>=6.1.0 in ./.env/lib/python3.10/site-packages (from ipywidgets) (8.18.1)\n",
      "Requirement already satisfied: stack-data in ./.env/lib/python3.10/site-packages (from ipython>=6.1.0->ipywidgets) (0.6.3)\n",
      "Requirement already satisfied: pexpect>4.3 in ./.env/lib/python3.10/site-packages (from ipython>=6.1.0->ipywidgets) (4.9.0)\n",
      "Requirement already satisfied: jedi>=0.16 in ./.env/lib/python3.10/site-packages (from ipython>=6.1.0->ipywidgets) (0.19.1)\n",
      "Requirement already satisfied: decorator in ./.env/lib/python3.10/site-packages (from ipython>=6.1.0->ipywidgets) (5.1.1)\n",
      "Requirement already satisfied: matplotlib-inline in ./.env/lib/python3.10/site-packages (from ipython>=6.1.0->ipywidgets) (0.1.6)\n",
      "Requirement already satisfied: exceptiongroup in ./.env/lib/python3.10/site-packages (from ipython>=6.1.0->ipywidgets) (1.2.0)\n",
      "Requirement already satisfied: pygments>=2.4.0 in ./.env/lib/python3.10/site-packages (from ipython>=6.1.0->ipywidgets) (2.17.2)\n",
      "Requirement already satisfied: prompt-toolkit<3.1.0,>=3.0.41 in ./.env/lib/python3.10/site-packages (from ipython>=6.1.0->ipywidgets) (3.0.43)\n",
      "Requirement already satisfied: parso<0.9.0,>=0.8.3 in ./.env/lib/python3.10/site-packages (from jedi>=0.16->ipython>=6.1.0->ipywidgets) (0.8.3)\n",
      "Requirement already satisfied: ptyprocess>=0.5 in ./.env/lib/python3.10/site-packages (from pexpect>4.3->ipython>=6.1.0->ipywidgets) (0.7.0)\n",
      "Requirement already satisfied: wcwidth in ./.env/lib/python3.10/site-packages (from prompt-toolkit<3.1.0,>=3.0.41->ipython>=6.1.0->ipywidgets) (0.2.12)\n",
      "Requirement already satisfied: pure-eval in ./.env/lib/python3.10/site-packages (from stack-data->ipython>=6.1.0->ipywidgets) (0.2.2)\n",
      "Requirement already satisfied: executing>=1.2.0 in ./.env/lib/python3.10/site-packages (from stack-data->ipython>=6.1.0->ipywidgets) (2.0.1)\n",
      "Requirement already satisfied: asttokens>=2.1.0 in ./.env/lib/python3.10/site-packages (from stack-data->ipython>=6.1.0->ipywidgets) (2.4.1)\n",
      "Requirement already satisfied: six>=1.12.0 in ./.env/lib/python3.10/site-packages (from asttokens>=2.1.0->stack-data->ipython>=6.1.0->ipywidgets) (1.16.0)\n",
      "Installing collected packages: widgetsnbextension, jupyterlab-widgets, ipywidgets\n",
      "Successfully installed ipywidgets-8.1.1 jupyterlab-widgets-3.0.9 widgetsnbextension-4.0.9\n"
     ]
    }
   ],
   "source": [
    "!pip install ipywidgets"
   ]
  },
  {
   "cell_type": "code",
   "execution_count": 11,
   "metadata": {
    "colab": {
     "base_uri": "https://localhost:8080/"
    },
    "id": "jIYu0grlX8sD",
    "outputId": "b1542d79-0137-4304-a18c-1376775c024b"
   },
   "outputs": [
    {
     "name": "stdout",
     "output_type": "stream",
     "text": [
      "--2023-12-18 21:44:16--  https://raw.githubusercontent.com/karpathy/char-rnn/master/data/tinyshakespeare/input.txt\n",
      "Resolving raw.githubusercontent.com (raw.githubusercontent.com)... 185.199.108.133, 185.199.110.133, 185.199.109.133, ...\n",
      "Connecting to raw.githubusercontent.com (raw.githubusercontent.com)|185.199.108.133|:443... connected.\n",
      "HTTP request sent, awaiting response... 200 OK\n",
      "Length: 1115394 (1.1M) [text/plain]\n",
      "Saving to: ‘input.txt.2’\n",
      "\n",
      "input.txt.2         100%[===================>]   1.06M  3.00MB/s    in 0.4s    \n",
      "\n",
      "2023-12-18 21:44:16 (3.00 MB/s) - ‘input.txt.2’ saved [1115394/1115394]\n",
      "\n"
     ]
    }
   ],
   "source": [
    "!wget https://raw.githubusercontent.com/karpathy/char-rnn/master/data/tinyshakespeare/input.txt"
   ]
  },
  {
   "cell_type": "code",
   "execution_count": 13,
   "metadata": {
    "id": "b4hR736M5eNT"
   },
   "outputs": [],
   "source": [
    "!mkdir -p differentattention"
   ]
  },
  {
   "cell_type": "code",
   "execution_count": null,
   "metadata": {
    "colab": {
     "base_uri": "https://localhost:8080/"
    },
    "id": "2lECw6S4N7cn",
    "outputId": "135ddfeb-f728-48d4-d061-08fdb0dfbbbb",
    "scrolled": true
   },
   "outputs": [
    {
     "name": "stdout",
     "output_type": "stream",
     "text": [
      "\n",
      " !$&',-.3:;?ABCDEFGHIJKLMNOPQRSTUVWXYZabcdefghijklmnopqrstuvwxyz\n",
      "65\n",
      "Hello!\n",
      "Uses device cuda\n"
     ]
    },
    {
     "name": "stderr",
     "output_type": "stream",
     "text": [
      "  0%|                                                                                                                                | 0/10000 [00:00<?, ?it/s]"
     ]
    },
    {
     "name": "stdout",
     "output_type": "stream",
     "text": [
      "Step 0, train loss:4.6412, test loss:4.6341\n"
     ]
    },
    {
     "name": "stderr",
     "output_type": "stream",
     "text": [
      "  0%|                                                                                                                     | 1/10000 [00:04<13:21:33,  4.81s/it]"
     ]
    },
    {
     "name": "stdout",
     "output_type": "stream",
     "text": [
      "\n",
      "\n",
      "u-J!M.OuQwRyBT:RmTGNjWpxIe!DPAdEZZSbwLDX:GrWu;\n",
      "RPVsZ!Ml;XUTcePEcqyN.ztQV,vtXDR?,H;3cvFzPctk&Qo!ym'PaOz!\n",
      ":a,k!fKZ:ddi&YrM,PAV$\n",
      "yJuUEFZxlBGEZxJrjd!Lo-WE$PpHM!VkBNTc&mC;h3EOw axDqq-LIwVl:Slu &MN,$wRyLc\n",
      "IjZJwRmdolqlA?e3EnHrSVvbkcZuyR!IoM?SvklEMWEFIuBn?;&jn\n",
      "M--.IVZ;Xh??.Hq.jlRAM:eT.GUdgLQsx-RGtoARZHDRxjNllsyGgITeqMfxuIIzDegQ:R$RGsvMcjJgrYicauTGMXRZ!g.IxyGyA?.HE&$iZuQ.OqR.;ezZb.HxiGXrSIPADRKfDRy3DRegRzIjlsRa?ZzuhoiOsu?agFR3bSZnRSWtKPJesJKyve\n",
      "ev?jUAcX\n",
      ",-LZlRZuIaf\n",
      "D$GXuIJRXT\n",
      "ePV&3bSiDRHuSQroIS$jJKHlXeaIvHZ.fzYIYRiUMbRW$ZuM3gg?MkvfShn!CEumfSJNKae\n",
      "HGTkKAh-\n",
      ",lk,X'GuZIgK'lc'CeiuD\n",
      "Zb?A&K'fTQeG\n",
      "eaaxQZPAa'Ia.VwryAZQ'cZXR\n",
      "llnGicqGR'GeNCZyZeIGXgWOZsSgoZpcDh-rna\n",
      "IRNXGX.XDReuwrI,\n",
      "UTuzDIgiRETRycRGUKsceSSIaT?DACT\n",
      "T\n",
      "fZxRGhIsgNV.'A3$eENfJZW.VD.Z\n",
      "eItQZOl?qWNZR3wPDKHja'ThMqKNcrDRSIaGcD\n",
      "lNsNRZn$s&SI.fH''egZXIOXfozfCe\n",
      "B.:ko!D\n",
      "ekXG\n",
      ",aA;GD\n",
      "D\n",
      "Ise'GvShMeRfXVuOl?yG\n",
      "yAaZ.KJfHj.IfPhKAVWbeVwH!IEFe3AtSJD;SADF.f!,OkcaIuAfuN,MlN\n",
      "Gregx.NiWIsVH:ZOlM.zggDV$?pJiglSZX.ZuTIGMG.VkeR$;o\n",
      "IeYrWR,VW!ZuRIM.zDeItRU?ERM';elW$eIJfV&IhtTD\n",
      "Step 0, train loss:4.6459, test loss:4.6344\n"
     ]
    },
    {
     "name": "stderr",
     "output_type": "stream",
     "text": [
      "  0%|▏                                                                                                                      | 12/10000 [00:06<47:33,  3.50it/s]"
     ]
    },
    {
     "name": "stdout",
     "output_type": "stream",
     "text": [
      "Step 10, train loss:2.8636, test loss:2.8849\n"
     ]
    },
    {
     "name": "stderr",
     "output_type": "stream",
     "text": [
      "  0%|▎                                                                                                                      | 22/10000 [00:07<29:59,  5.54it/s]"
     ]
    },
    {
     "name": "stdout",
     "output_type": "stream",
     "text": [
      "Step 20, train loss:2.3168, test loss:2.3445\n"
     ]
    },
    {
     "name": "stderr",
     "output_type": "stream",
     "text": [
      "  0%|▍                                                                                                                      | 32/10000 [00:08<27:18,  6.08it/s]"
     ]
    },
    {
     "name": "stdout",
     "output_type": "stream",
     "text": [
      "Step 30, train loss:2.0825, test loss:2.1283\n"
     ]
    },
    {
     "name": "stderr",
     "output_type": "stream",
     "text": [
      "  0%|▍                                                                                                                      | 42/10000 [00:09<27:01,  6.14it/s]"
     ]
    },
    {
     "name": "stdout",
     "output_type": "stream",
     "text": [
      "Step 40, train loss:1.9429, test loss:2.0221\n"
     ]
    },
    {
     "name": "stderr",
     "output_type": "stream",
     "text": [
      "  1%|▌                                                                                                                      | 52/10000 [00:10<26:48,  6.18it/s]"
     ]
    },
    {
     "name": "stdout",
     "output_type": "stream",
     "text": [
      "Step 50, train loss:1.8240, test loss:1.9568\n"
     ]
    },
    {
     "name": "stderr",
     "output_type": "stream",
     "text": [
      "  1%|▋                                                                                                                      | 62/10000 [00:12<26:44,  6.19it/s]"
     ]
    },
    {
     "name": "stdout",
     "output_type": "stream",
     "text": [
      "Step 60, train loss:1.7517, test loss:1.9417\n"
     ]
    },
    {
     "name": "stderr",
     "output_type": "stream",
     "text": [
      "  1%|▊                                                                                                                      | 72/10000 [00:13<26:38,  6.21it/s]"
     ]
    },
    {
     "name": "stdout",
     "output_type": "stream",
     "text": [
      "Step 70, train loss:1.6906, test loss:1.8901\n"
     ]
    },
    {
     "name": "stderr",
     "output_type": "stream",
     "text": [
      "  1%|▉                                                                                                                      | 82/10000 [00:14<26:46,  6.18it/s]"
     ]
    },
    {
     "name": "stdout",
     "output_type": "stream",
     "text": [
      "Step 80, train loss:1.6513, test loss:1.8445\n"
     ]
    },
    {
     "name": "stderr",
     "output_type": "stream",
     "text": [
      "  1%|█                                                                                                                      | 92/10000 [00:15<26:47,  6.17it/s]"
     ]
    },
    {
     "name": "stdout",
     "output_type": "stream",
     "text": [
      "Step 90, train loss:1.6026, test loss:1.7990\n"
     ]
    },
    {
     "name": "stderr",
     "output_type": "stream",
     "text": [
      "  1%|█▏                                                                                                                    | 100/10000 [00:16<15:55, 10.36it/s]"
     ]
    },
    {
     "name": "stdout",
     "output_type": "stream",
     "text": [
      "Step 100, train loss:1.5672, test loss:1.7751\n"
     ]
    },
    {
     "name": "stderr",
     "output_type": "stream",
     "text": [
      "  1%|█▏                                                                                                                  | 102/10000 [00:21<2:13:58,  1.23it/s]"
     ]
    },
    {
     "name": "stdout",
     "output_type": "stream",
     "text": [
      "\n",
      "\n",
      "BRUTUS:\n",
      "Naure haw anged, bovicia-bose of his some of his,\n",
      "The heirle him: he complance mosses; your genting, and blothing she\n",
      "now to elde of Your conformen this which dip 'tis fight three 's might\n",
      "And your gods and thou?\n",
      "\n",
      "BRompany?\n",
      "\n",
      "CATESBY:\n",
      "I craven my it do her we have Menamen I would\n",
      "King and her Bask:\n",
      "Breceties oven as act, how conqueats of conscate. But faulty; unberchan be,\n",
      "And are that your father. Shall not in thou reldfing hind\n",
      "How that man's to't now chave your Rome.\n",
      "3gbreaks you\n",
      "shall take bobs stool Ricencher schwered, swifter To starn. Cleen this despect on, kille\n",
      "To been and withal whost. I day carwer!\n",
      "And be not me free men,\n",
      "Valland made stouch then event.\n",
      "To do roub off, and do revol! my contin,\n",
      "Citizen:\n",
      "Thy have by kink!'\n",
      "Shall the justices be the volder .\n",
      "Now now that Cyeather of hour,\n",
      "That squess and come is my besench octain pity\n",
      "As 'way a servy chain!\n",
      "Give thy fendful to.\n",
      "\n",
      "GORUCHIDA:\n",
      "Go, if antoouther; as magine.\n",
      "\n",
      "ROMEO:\n",
      "What I do atful voice the forthout he.\n",
      "\n",
      "RICH\n",
      "Step 100, train loss:1.5686, test loss:1.7709\n"
     ]
    },
    {
     "name": "stderr",
     "output_type": "stream",
     "text": [
      "  1%|█▎                                                                                                                    | 112/10000 [00:22<45:06,  3.65it/s]"
     ]
    },
    {
     "name": "stdout",
     "output_type": "stream",
     "text": [
      "Step 110, train loss:1.5301, test loss:1.7533\n"
     ]
    },
    {
     "name": "stderr",
     "output_type": "stream",
     "text": [
      "  1%|█▍                                                                                                                    | 122/10000 [00:23<30:11,  5.45it/s]"
     ]
    },
    {
     "name": "stdout",
     "output_type": "stream",
     "text": [
      "Step 120, train loss:1.5088, test loss:1.7461\n"
     ]
    },
    {
     "name": "stderr",
     "output_type": "stream",
     "text": [
      "  1%|█▌                                                                                                                    | 132/10000 [00:25<27:39,  5.95it/s]"
     ]
    },
    {
     "name": "stdout",
     "output_type": "stream",
     "text": [
      "Step 130, train loss:1.4902, test loss:1.7257\n"
     ]
    },
    {
     "name": "stderr",
     "output_type": "stream",
     "text": [
      "  1%|█▋                                                                                                                    | 142/10000 [00:26<27:11,  6.04it/s]"
     ]
    },
    {
     "name": "stdout",
     "output_type": "stream",
     "text": [
      "Step 140, train loss:1.4613, test loss:1.6948\n"
     ]
    },
    {
     "name": "stderr",
     "output_type": "stream",
     "text": [
      "  2%|█▊                                                                                                                    | 152/10000 [00:27<27:17,  6.02it/s]"
     ]
    },
    {
     "name": "stdout",
     "output_type": "stream",
     "text": [
      "Step 150, train loss:1.4459, test loss:1.6857\n"
     ]
    },
    {
     "name": "stderr",
     "output_type": "stream",
     "text": [
      "  2%|█▉                                                                                                                    | 162/10000 [00:28<27:20,  6.00it/s]"
     ]
    },
    {
     "name": "stdout",
     "output_type": "stream",
     "text": [
      "Step 160, train loss:1.4261, test loss:1.6574\n"
     ]
    },
    {
     "name": "stderr",
     "output_type": "stream",
     "text": [
      "  2%|██                                                                                                                    | 172/10000 [00:30<27:29,  5.96it/s]"
     ]
    },
    {
     "name": "stdout",
     "output_type": "stream",
     "text": [
      "Step 170, train loss:1.4210, test loss:1.6215\n"
     ]
    },
    {
     "name": "stderr",
     "output_type": "stream",
     "text": [
      "  2%|██▏                                                                                                                   | 182/10000 [00:31<27:25,  5.96it/s]"
     ]
    },
    {
     "name": "stdout",
     "output_type": "stream",
     "text": [
      "Step 180, train loss:1.4024, test loss:1.6171\n"
     ]
    },
    {
     "name": "stderr",
     "output_type": "stream",
     "text": [
      "  2%|██▎                                                                                                                   | 192/10000 [00:32<27:27,  5.95it/s]"
     ]
    },
    {
     "name": "stdout",
     "output_type": "stream",
     "text": [
      "Step 190, train loss:1.3755, test loss:1.6276\n"
     ]
    },
    {
     "name": "stderr",
     "output_type": "stream",
     "text": [
      "  2%|██▎                                                                                                                   | 200/10000 [00:33<16:13, 10.06it/s]"
     ]
    },
    {
     "name": "stdout",
     "output_type": "stream",
     "text": [
      "Step 200, train loss:1.3783, test loss:1.6154\n"
     ]
    },
    {
     "name": "stderr",
     "output_type": "stream",
     "text": [
      "  2%|██▎                                                                                                                 | 202/10000 [00:38<2:09:42,  1.26it/s]"
     ]
    },
    {
     "name": "stdout",
     "output_type": "stream",
     "text": [
      "\n",
      "\n",
      "CLARENCE:\n",
      "Conspirator purpose to only talks, and my fellow to kill\n",
      "Counteousing. And devior up the ciruse maid.\n",
      "\n",
      "KING RICHARD III:\n",
      "But she bare, I love you a gentlious queen, in enger'd\n",
      "For I think of a dured her cause; I was king Read\n",
      "With teven away; I day by Again.\n",
      "\n",
      "JULIET:\n",
      "Ay! I rot with the Duke of Ruch and such do wry.\n",
      "\n",
      "ANGELO:\n",
      "SICINIUS:\n",
      "Where love you a right?\n",
      "\n",
      "VOLUMNIA:\n",
      "Your great commending heavy against have me,\n",
      "That love I subject to the bell! all?\n",
      "\n",
      "All:\n",
      "Not give to; the, ill'd, prive that our know,\n",
      "What's War all too much her stay ! would there's are before\n",
      "From my tongue than; ere abroad of her bear must\n",
      "Inteed's cap of all mistres palk'st respect.\n",
      "\n",
      "NORTHUMBERLAND:\n",
      "I ready or blick against, and More commons.\n",
      "\n",
      "LADY ANNE:\n",
      "We'll take thee all her knee, a stage mether, venom and too;\n",
      "Jull there scome leave mortly saw's none.\n",
      "\n",
      "SICINIUS:\n",
      "'Tis no touch no mark'd not\n",
      "The told thy become of a Rumble, unsingal.\n",
      "\n",
      "DUKE VINCENTIO:\n",
      "Were by the warm'd by kneeth to accond:\n",
      "'Fis Lord, whic\n",
      "Step 200, train loss:1.3827, test loss:1.6200\n"
     ]
    },
    {
     "name": "stderr",
     "output_type": "stream",
     "text": [
      "  2%|██▌                                                                                                                   | 212/10000 [00:39<44:33,  3.66it/s]"
     ]
    },
    {
     "name": "stdout",
     "output_type": "stream",
     "text": [
      "Step 210, train loss:1.3624, test loss:1.6376\n"
     ]
    },
    {
     "name": "stderr",
     "output_type": "stream",
     "text": [
      "  2%|██▌                                                                                                                   | 222/10000 [00:40<30:22,  5.36it/s]"
     ]
    },
    {
     "name": "stdout",
     "output_type": "stream",
     "text": [
      "Step 220, train loss:1.3437, test loss:1.6097\n"
     ]
    },
    {
     "name": "stderr",
     "output_type": "stream",
     "text": [
      "  2%|██▋                                                                                                                   | 232/10000 [00:42<28:02,  5.81it/s]"
     ]
    },
    {
     "name": "stdout",
     "output_type": "stream",
     "text": [
      "Step 230, train loss:1.3362, test loss:1.6264\n"
     ]
    },
    {
     "name": "stderr",
     "output_type": "stream",
     "text": [
      "  2%|██▊                                                                                                                   | 242/10000 [00:43<27:39,  5.88it/s]"
     ]
    },
    {
     "name": "stdout",
     "output_type": "stream",
     "text": [
      "Step 240, train loss:1.3312, test loss:1.5893\n"
     ]
    },
    {
     "name": "stderr",
     "output_type": "stream",
     "text": [
      "  3%|██▉                                                                                                                   | 252/10000 [00:44<27:32,  5.90it/s]"
     ]
    },
    {
     "name": "stdout",
     "output_type": "stream",
     "text": [
      "Step 250, train loss:1.3077, test loss:1.6213\n"
     ]
    },
    {
     "name": "stderr",
     "output_type": "stream",
     "text": [
      "  3%|███                                                                                                                   | 262/10000 [00:46<27:43,  5.85it/s]"
     ]
    },
    {
     "name": "stdout",
     "output_type": "stream",
     "text": [
      "Step 260, train loss:1.2952, test loss:1.6029\n"
     ]
    },
    {
     "name": "stderr",
     "output_type": "stream",
     "text": [
      "  3%|███▏                                                                                                                  | 272/10000 [00:47<27:41,  5.86it/s]"
     ]
    },
    {
     "name": "stdout",
     "output_type": "stream",
     "text": [
      "Step 270, train loss:1.2943, test loss:1.5776\n"
     ]
    },
    {
     "name": "stderr",
     "output_type": "stream",
     "text": [
      "  3%|███▎                                                                                                                  | 282/10000 [00:48<27:50,  5.82it/s]"
     ]
    },
    {
     "name": "stdout",
     "output_type": "stream",
     "text": [
      "Step 280, train loss:1.2900, test loss:1.5623\n"
     ]
    },
    {
     "name": "stderr",
     "output_type": "stream",
     "text": [
      "  3%|███▍                                                                                                                  | 292/10000 [00:49<27:44,  5.83it/s]"
     ]
    },
    {
     "name": "stdout",
     "output_type": "stream",
     "text": [
      "Step 290, train loss:1.2737, test loss:1.5651\n"
     ]
    },
    {
     "name": "stderr",
     "output_type": "stream",
     "text": [
      "  3%|███▌                                                                                                                  | 300/10000 [00:50<16:23,  9.87it/s]"
     ]
    },
    {
     "name": "stdout",
     "output_type": "stream",
     "text": [
      "Step 300, train loss:1.2607, test loss:1.5931\n"
     ]
    },
    {
     "name": "stderr",
     "output_type": "stream",
     "text": [
      "  3%|███▌                                                                                                                | 302/10000 [00:55<2:08:37,  1.26it/s]"
     ]
    },
    {
     "name": "stdout",
     "output_type": "stream",
     "text": [
      "\n",
      "\n",
      "CAMILLO:\n",
      "Gentlemen,\n",
      "Which lengtom the few, you valiant presence.\n",
      "\n",
      "PAULINA:\n",
      "My mab patience is it out.\n",
      "\n",
      "TRANIO:\n",
      "Mighter of Gloucester; visiting soldiers,\n",
      "To do the termitancies of this drovening,\n",
      "When you may changing, you be not swear than we here\n",
      "not tell my hands that is this pipers broke!\n",
      "\n",
      "Fcolot!\n",
      "\n",
      "SLY:\n",
      "Come for a trust to by Gloucester, steal freegements.\n",
      "\n",
      "ROMEO:\n",
      "Your feeding heart, I saw to shape some married.\n",
      "\n",
      "ISABELLA:\n",
      "I am yonder'd in him: I have not myself might do you to command,\n",
      "Of Julits all they will appear time please.\n",
      "Good curse the Romeo to spark commit chwards being\n",
      "Our great childrens times. Thereto me, Geolend, filght all glory our tribles;\n",
      "Twelve at a mind; but not claim, gentling the\n",
      "soul still wanton, who gates all, die, that is not never\n",
      "And men on him: what once mine,'d in our curstion,\n",
      "Give me the geor of Warwick's emfect to engross,\n",
      "Alio we justify to my advocate,\n",
      "Clerusagely scurrunken bids my son, likes on\n",
      "This bearing what you stand, though defend down upon\n",
      "Step 300, train loss:1.2684, test loss:1.5673\n"
     ]
    },
    {
     "name": "stderr",
     "output_type": "stream",
     "text": [
      "  3%|███▋                                                                                                                  | 312/10000 [00:56<44:30,  3.63it/s]"
     ]
    },
    {
     "name": "stdout",
     "output_type": "stream",
     "text": [
      "Step 310, train loss:1.2544, test loss:1.5801\n"
     ]
    },
    {
     "name": "stderr",
     "output_type": "stream",
     "text": [
      "  3%|███▊                                                                                                                  | 322/10000 [00:57<30:34,  5.28it/s]"
     ]
    },
    {
     "name": "stdout",
     "output_type": "stream",
     "text": [
      "Step 320, train loss:1.2435, test loss:1.5592\n"
     ]
    },
    {
     "name": "stderr",
     "output_type": "stream",
     "text": [
      "  3%|███▉                                                                                                                  | 332/10000 [00:59<28:10,  5.72it/s]"
     ]
    },
    {
     "name": "stdout",
     "output_type": "stream",
     "text": [
      "Step 330, train loss:1.2380, test loss:1.5503\n"
     ]
    },
    {
     "name": "stderr",
     "output_type": "stream",
     "text": [
      "  3%|████                                                                                                                  | 342/10000 [01:00<27:52,  5.77it/s]"
     ]
    },
    {
     "name": "stdout",
     "output_type": "stream",
     "text": [
      "Step 340, train loss:1.2239, test loss:1.5508\n"
     ]
    },
    {
     "name": "stderr",
     "output_type": "stream",
     "text": [
      "  4%|████▏                                                                                                                 | 352/10000 [01:01<27:41,  5.81it/s]"
     ]
    },
    {
     "name": "stdout",
     "output_type": "stream",
     "text": [
      "Step 350, train loss:1.2240, test loss:1.5625\n"
     ]
    },
    {
     "name": "stderr",
     "output_type": "stream",
     "text": [
      "  4%|████▎                                                                                                                 | 362/10000 [01:03<27:49,  5.77it/s]"
     ]
    },
    {
     "name": "stdout",
     "output_type": "stream",
     "text": [
      "Step 360, train loss:1.2125, test loss:1.5608\n"
     ]
    },
    {
     "name": "stderr",
     "output_type": "stream",
     "text": [
      "  4%|████▍                                                                                                                 | 372/10000 [01:04<27:49,  5.77it/s]"
     ]
    },
    {
     "name": "stdout",
     "output_type": "stream",
     "text": [
      "Step 370, train loss:1.2085, test loss:1.5458\n"
     ]
    },
    {
     "name": "stderr",
     "output_type": "stream",
     "text": [
      "  4%|████▌                                                                                                                 | 382/10000 [01:05<27:49,  5.76it/s]"
     ]
    },
    {
     "name": "stdout",
     "output_type": "stream",
     "text": [
      "Step 380, train loss:1.2045, test loss:1.5931\n"
     ]
    },
    {
     "name": "stderr",
     "output_type": "stream",
     "text": [
      "  4%|████▋                                                                                                                 | 392/10000 [01:07<27:45,  5.77it/s]"
     ]
    },
    {
     "name": "stdout",
     "output_type": "stream",
     "text": [
      "Step 390, train loss:1.1928, test loss:1.5985\n"
     ]
    },
    {
     "name": "stderr",
     "output_type": "stream",
     "text": [
      "  4%|████▋                                                                                                                 | 400/10000 [01:07<16:24,  9.75it/s]"
     ]
    },
    {
     "name": "stdout",
     "output_type": "stream",
     "text": [
      "Step 400, train loss:1.1896, test loss:1.5773\n"
     ]
    },
    {
     "name": "stderr",
     "output_type": "stream",
     "text": [
      "  4%|████▋                                                                                                               | 402/10000 [01:12<2:02:57,  1.30it/s]"
     ]
    },
    {
     "name": "stdout",
     "output_type": "stream",
     "text": [
      "\n",
      "\n",
      "DUCHESS OF YORK:\n",
      "For Warwick, like justice; Let my proper son:\n",
      "Thy new-be pack'd one what which he I shall well,\n",
      "I change the fault of it. This is almost\n",
      "aothousand man do make my soul:\n",
      "That once be he speak.\n",
      "\n",
      "GLOUCESTER:\n",
      "I would buy false for fight:\n",
      "But I, I beseech you guard that stay your days?\n",
      "\n",
      "KING RICHARD III:\n",
      "Through I saw conspiracious search'd you?\n",
      "\n",
      "ELBOW:\n",
      "Richmond, clear, I pray you, and all deaths as your\n",
      "interchange and receive on the caust: a\n",
      "presently giving itself showled of my servants,\n",
      "thievests famaining upon this action.\n",
      "\n",
      "QUEEN MARGARET:\n",
      "Henry, less our scause.\n",
      "\n",
      "KING RICHARD III:\n",
      "Christian's death;\n",
      "Pray you, we do worship with caust!\n",
      "I would those would not take his presense and staught\n",
      "A hundred many a sebjoin'd with him.\n",
      "\n",
      "SAMPSON:\n",
      "'Cate your chaving south'd and crapted the ugcle\n",
      "That being indeed.\n",
      "\n",
      "POLIXENES:\n",
      "Miscarry; I wander'd stay to bitter;\n",
      "For she is strange not railiff have an ountent,\n",
      "To let him as this.\n",
      "\n",
      "CAPULET:\n",
      "More than the cunning those hands must me n\n",
      "Step 400, train loss:1.1780, test loss:1.5912\n"
     ]
    },
    {
     "name": "stderr",
     "output_type": "stream",
     "text": [
      "  4%|████▊                                                                                                                 | 412/10000 [01:13<43:41,  3.66it/s]"
     ]
    },
    {
     "name": "stdout",
     "output_type": "stream",
     "text": [
      "Step 410, train loss:1.1695, test loss:1.5521\n"
     ]
    },
    {
     "name": "stderr",
     "output_type": "stream",
     "text": [
      "  4%|████▉                                                                                                                 | 422/10000 [01:15<30:29,  5.24it/s]"
     ]
    },
    {
     "name": "stdout",
     "output_type": "stream",
     "text": [
      "Step 420, train loss:1.1793, test loss:1.5888\n"
     ]
    },
    {
     "name": "stderr",
     "output_type": "stream",
     "text": [
      "  4%|█████                                                                                                                 | 432/10000 [01:16<28:29,  5.60it/s]"
     ]
    },
    {
     "name": "stdout",
     "output_type": "stream",
     "text": [
      "Step 430, train loss:1.1664, test loss:1.5552\n"
     ]
    },
    {
     "name": "stderr",
     "output_type": "stream",
     "text": [
      "  4%|█████▏                                                                                                                | 442/10000 [01:17<28:00,  5.69it/s]"
     ]
    },
    {
     "name": "stdout",
     "output_type": "stream",
     "text": [
      "Step 440, train loss:1.1646, test loss:1.5598\n"
     ]
    },
    {
     "name": "stderr",
     "output_type": "stream",
     "text": [
      "  5%|█████▎                                                                                                                | 452/10000 [01:19<27:56,  5.70it/s]"
     ]
    },
    {
     "name": "stdout",
     "output_type": "stream",
     "text": [
      "Step 450, train loss:1.1424, test loss:1.5953\n"
     ]
    },
    {
     "name": "stderr",
     "output_type": "stream",
     "text": [
      "  5%|█████▍                                                                                                                | 462/10000 [01:20<28:01,  5.67it/s]"
     ]
    },
    {
     "name": "stdout",
     "output_type": "stream",
     "text": [
      "Step 460, train loss:1.1324, test loss:1.5870\n"
     ]
    },
    {
     "name": "stderr",
     "output_type": "stream",
     "text": [
      "  5%|█████▌                                                                                                                | 472/10000 [01:21<28:03,  5.66it/s]"
     ]
    },
    {
     "name": "stdout",
     "output_type": "stream",
     "text": [
      "Step 470, train loss:1.1370, test loss:1.6014\n"
     ]
    },
    {
     "name": "stderr",
     "output_type": "stream",
     "text": [
      "  5%|█████▋                                                                                                                | 482/10000 [01:23<28:05,  5.65it/s]"
     ]
    },
    {
     "name": "stdout",
     "output_type": "stream",
     "text": [
      "Step 480, train loss:1.1192, test loss:1.5808\n"
     ]
    },
    {
     "name": "stderr",
     "output_type": "stream",
     "text": [
      "  5%|█████▊                                                                                                                | 492/10000 [01:24<28:06,  5.64it/s]"
     ]
    },
    {
     "name": "stdout",
     "output_type": "stream",
     "text": [
      "Step 490, train loss:1.1267, test loss:1.5940\n"
     ]
    },
    {
     "name": "stderr",
     "output_type": "stream",
     "text": [
      "  5%|█████▉                                                                                                                | 500/10000 [01:25<16:36,  9.54it/s]"
     ]
    },
    {
     "name": "stdout",
     "output_type": "stream",
     "text": [
      "Step 500, train loss:1.1002, test loss:1.5910\n"
     ]
    },
    {
     "name": "stderr",
     "output_type": "stream",
     "text": [
      "  5%|█████▊                                                                                                              | 502/10000 [01:29<2:01:34,  1.30it/s]"
     ]
    },
    {
     "name": "stdout",
     "output_type": "stream",
     "text": [
      "\n",
      "\n",
      "QUEEN:\n",
      "Ay, and that's possess and hands upon him;\n",
      "If she that sits make him depart but that\n",
      "Which shall hear these and faults, that merciful arm,\n",
      "With sent conceit nor threats of virtues,\n",
      "Would prove a larking report, and therefore,\n",
      "His daughter lip, that the unnatural pines\n",
      "Draven a perpetual gangerous error in:\n",
      "It is, it is no greater fantastic several cracks,\n",
      "Come, in that dangerously will not, by me in it:\n",
      "Therefore aurn in that touch thy brother bellion,\n",
      "But thou the noble Northumberland,\n",
      "Why arthorn most wert to chase the 'For that is frown.\n",
      "\n",
      "VIRGILIA:\n",
      "Now, billy the conduct. Worms you are a Right?\n",
      "Lie, unringly love and schoolmaster? purses\n",
      "Pass that outward back to the heart? What do you gone,\n",
      "That thou shalt not scape! Therefore snain to pips of king:\n",
      "I am a cretch shall not strange selfarks for in water\n",
      "Was ever melting on this presecrit.--pitch'd mind\n",
      "And fellow our sutfif that ballied farther pvellar me,\n",
      "Afthe unscruption't, sleep, having not the neck open\n",
      "That were bases f\n",
      "Step 500, train loss:1.1080, test loss:1.5767\n"
     ]
    },
    {
     "name": "stderr",
     "output_type": "stream",
     "text": [
      "  5%|██████                                                                                                                | 512/10000 [01:31<43:27,  3.64it/s]"
     ]
    },
    {
     "name": "stdout",
     "output_type": "stream",
     "text": [
      "Step 510, train loss:1.1045, test loss:1.6203\n"
     ]
    },
    {
     "name": "stderr",
     "output_type": "stream",
     "text": [
      "  5%|██████▏                                                                                                               | 522/10000 [01:32<30:23,  5.20it/s]"
     ]
    },
    {
     "name": "stdout",
     "output_type": "stream",
     "text": [
      "Step 520, train loss:1.0846, test loss:1.6233\n"
     ]
    },
    {
     "name": "stderr",
     "output_type": "stream",
     "text": [
      "  5%|██████▎                                                                                                               | 532/10000 [01:33<28:11,  5.60it/s]"
     ]
    },
    {
     "name": "stdout",
     "output_type": "stream",
     "text": [
      "Step 530, train loss:1.0845, test loss:1.6140\n"
     ]
    },
    {
     "name": "stderr",
     "output_type": "stream",
     "text": [
      "  5%|██████▍                                                                                                               | 542/10000 [01:35<27:53,  5.65it/s]"
     ]
    },
    {
     "name": "stdout",
     "output_type": "stream",
     "text": [
      "Step 540, train loss:1.0826, test loss:1.6126\n"
     ]
    },
    {
     "name": "stderr",
     "output_type": "stream",
     "text": [
      "  6%|██████▌                                                                                                               | 552/10000 [01:36<27:55,  5.64it/s]"
     ]
    },
    {
     "name": "stdout",
     "output_type": "stream",
     "text": [
      "Step 550, train loss:1.0813, test loss:1.6390\n"
     ]
    },
    {
     "name": "stderr",
     "output_type": "stream",
     "text": [
      "  6%|██████▋                                                                                                               | 562/10000 [01:37<27:49,  5.65it/s]"
     ]
    },
    {
     "name": "stdout",
     "output_type": "stream",
     "text": [
      "Step 560, train loss:1.0633, test loss:1.6296\n"
     ]
    },
    {
     "name": "stderr",
     "output_type": "stream",
     "text": [
      "  6%|██████▋                                                                                                               | 572/10000 [01:39<27:49,  5.65it/s]"
     ]
    },
    {
     "name": "stdout",
     "output_type": "stream",
     "text": [
      "Step 570, train loss:1.0520, test loss:1.6920\n"
     ]
    },
    {
     "name": "stderr",
     "output_type": "stream",
     "text": [
      "  6%|██████▊                                                                                                               | 582/10000 [01:40<27:53,  5.63it/s]"
     ]
    },
    {
     "name": "stdout",
     "output_type": "stream",
     "text": [
      "Step 580, train loss:1.0469, test loss:1.6403\n"
     ]
    },
    {
     "name": "stderr",
     "output_type": "stream",
     "text": [
      "  6%|██████▉                                                                                                               | 592/10000 [01:41<27:55,  5.62it/s]"
     ]
    },
    {
     "name": "stdout",
     "output_type": "stream",
     "text": [
      "Step 590, train loss:1.0378, test loss:1.6526\n"
     ]
    },
    {
     "name": "stderr",
     "output_type": "stream",
     "text": [
      "  6%|███████                                                                                                               | 600/10000 [01:42<16:32,  9.47it/s]"
     ]
    },
    {
     "name": "stdout",
     "output_type": "stream",
     "text": [
      "Step 600, train loss:1.0271, test loss:1.6826\n"
     ]
    },
    {
     "name": "stderr",
     "output_type": "stream",
     "text": [
      "  6%|██████▉                                                                                                             | 602/10000 [01:47<2:12:12,  1.18it/s]"
     ]
    },
    {
     "name": "stdout",
     "output_type": "stream",
     "text": [
      "\n",
      "\n",
      "RICHARD:\n",
      "Qind thereby good and entertainment:\n",
      "Therefore, were well approved by disloyal lips:\n",
      "And for that for this royalty lord choken\n",
      "Arms to command the Duke of Hereford, Duked blemish.\n",
      "To HENRYluing God's vanour, I her, both are attain.\n",
      "Ah, Hugh, angerbers, to live time soon,\n",
      "And, as are beamen to sweet as I should, cheer so\n",
      "Do the applaud the issue. O, the sea-sick, I may she--\n",
      "Away, let not be just on thee, father.\n",
      "There is that to help you return?\n",
      "\n",
      "PETRUCHIO:\n",
      "All burns for this wit, and not her love.\n",
      "Was crown have often bosom, echolity\n",
      "Doth not noble and report him between\n",
      "They came not only, and anon it, provinction;\n",
      "Nothing but to raiment and follow'd the sea\n",
      "And flatterest baby and in their name this time?\n",
      "Was not Richmond in that blown his lible.\n",
      "Boy! then, their that is thy humble thing,\n",
      "So woe thee well why who's this torments live?\n",
      "Why, they told her, and this I know him out of;\n",
      "Asking their furgeor.\n",
      "\n",
      "SICINIUS:\n",
      "What, which our own leave?\n",
      "\n",
      "BRUTUS:\n",
      "The other taught as hard\n",
      "Step 600, train loss:1.0244, test loss:1.6744\n"
     ]
    },
    {
     "name": "stderr",
     "output_type": "stream",
     "text": [
      "  6%|███████▏                                                                                                              | 612/10000 [01:48<45:17,  3.45it/s]"
     ]
    },
    {
     "name": "stdout",
     "output_type": "stream",
     "text": [
      "Step 610, train loss:1.0245, test loss:1.6777\n"
     ]
    },
    {
     "name": "stderr",
     "output_type": "stream",
     "text": [
      "  6%|███████▎                                                                                                              | 622/10000 [01:50<30:34,  5.11it/s]"
     ]
    },
    {
     "name": "stdout",
     "output_type": "stream",
     "text": [
      "Step 620, train loss:1.0008, test loss:1.7058\n"
     ]
    },
    {
     "name": "stderr",
     "output_type": "stream",
     "text": [
      "  6%|███████▍                                                                                                              | 632/10000 [01:51<28:14,  5.53it/s]"
     ]
    },
    {
     "name": "stdout",
     "output_type": "stream",
     "text": [
      "Step 630, train loss:1.0068, test loss:1.7259\n"
     ]
    },
    {
     "name": "stderr",
     "output_type": "stream",
     "text": [
      "  6%|███████▌                                                                                                              | 642/10000 [01:52<27:49,  5.61it/s]"
     ]
    },
    {
     "name": "stdout",
     "output_type": "stream",
     "text": [
      "Step 640, train loss:0.9982, test loss:1.6873\n"
     ]
    },
    {
     "name": "stderr",
     "output_type": "stream",
     "text": [
      "  7%|███████▋                                                                                                              | 652/10000 [01:54<27:48,  5.60it/s]"
     ]
    },
    {
     "name": "stdout",
     "output_type": "stream",
     "text": [
      "Step 650, train loss:0.9830, test loss:1.7093\n"
     ]
    },
    {
     "name": "stderr",
     "output_type": "stream",
     "text": [
      "  7%|███████▊                                                                                                              | 662/10000 [01:55<27:46,  5.60it/s]"
     ]
    },
    {
     "name": "stdout",
     "output_type": "stream",
     "text": [
      "Step 660, train loss:0.9650, test loss:1.6925\n"
     ]
    },
    {
     "name": "stderr",
     "output_type": "stream",
     "text": [
      "  7%|███████▉                                                                                                              | 672/10000 [01:57<27:51,  5.58it/s]"
     ]
    },
    {
     "name": "stdout",
     "output_type": "stream",
     "text": [
      "Step 670, train loss:0.9677, test loss:1.7265\n"
     ]
    },
    {
     "name": "stderr",
     "output_type": "stream",
     "text": [
      "  7%|████████                                                                                                              | 682/10000 [01:58<27:47,  5.59it/s]"
     ]
    },
    {
     "name": "stdout",
     "output_type": "stream",
     "text": [
      "Step 680, train loss:0.9473, test loss:1.7590\n"
     ]
    },
    {
     "name": "stderr",
     "output_type": "stream",
     "text": [
      "  7%|████████▏                                                                                                             | 692/10000 [01:59<27:46,  5.58it/s]"
     ]
    },
    {
     "name": "stdout",
     "output_type": "stream",
     "text": [
      "Step 690, train loss:0.9419, test loss:1.7627\n"
     ]
    },
    {
     "name": "stderr",
     "output_type": "stream",
     "text": [
      "  7%|████████▎                                                                                                             | 700/10000 [02:00<16:24,  9.45it/s]"
     ]
    },
    {
     "name": "stdout",
     "output_type": "stream",
     "text": [
      "Step 700, train loss:0.9350, test loss:1.7377\n"
     ]
    },
    {
     "name": "stderr",
     "output_type": "stream",
     "text": [
      "  7%|████████▏                                                                                                           | 702/10000 [02:05<2:03:38,  1.25it/s]"
     ]
    },
    {
     "name": "stdout",
     "output_type": "stream",
     "text": [
      "\n",
      "\n",
      "CLARENCE:\n",
      "These rather were my true lost for the traitor's hand.\n",
      "Their love I would not have thee dead,\n",
      "To come to her fearful voices too bad,\n",
      "And charge them troops of fdmiral tongues;\n",
      "And were potions sunshine that art thou there,\n",
      "Ah, who separation thus senseless-skews,\n",
      "To make my poor instate with that souls;\n",
      "Thine only for the silent upon thyself,\n",
      "To sullen with thunder straight deputy,\n",
      "To stain the greater glory to wash the\n",
      "Tower in the tremble: out, an some punished\n",
      "To some equally mine exaplaing;\n",
      "So many growit to make my veins,\n",
      "Yet are more in grave beholding trembs,\n",
      "That sounds not likews, or a soldier's hand,\n",
      "That cause to make service am strange;\n",
      "Who sues his queen, but two is most be,\n",
      "The mouse of choice in his sun, being jot,\n",
      "To trust them into my soul with John;\n",
      "And, make that wilt know, this shertain quarrels\n",
      "Do Jeson. The woe, sunce.\n",
      "\n",
      "LADY CAPULET:\n",
      "Where is the king?\n",
      "\n",
      "GLOUCESTER:\n",
      "\n",
      "KATHARINA:\n",
      "'Twere it well for a scouldy: but it choose a frighter,\n",
      "Nor of all these wound\n",
      "Step 700, train loss:0.9332, test loss:1.7596\n"
     ]
    },
    {
     "name": "stderr",
     "output_type": "stream",
     "text": [
      "  7%|████████▍                                                                                                             | 712/10000 [02:06<43:47,  3.53it/s]"
     ]
    },
    {
     "name": "stdout",
     "output_type": "stream",
     "text": [
      "Step 710, train loss:0.9269, test loss:1.7299\n"
     ]
    },
    {
     "name": "stderr",
     "output_type": "stream",
     "text": [
      "  7%|████████▌                                                                                                             | 722/10000 [02:07<30:23,  5.09it/s]"
     ]
    },
    {
     "name": "stdout",
     "output_type": "stream",
     "text": [
      "Step 720, train loss:0.9349, test loss:1.7997\n"
     ]
    },
    {
     "name": "stderr",
     "output_type": "stream",
     "text": [
      "  7%|████████▋                                                                                                             | 732/10000 [02:09<28:08,  5.49it/s]"
     ]
    },
    {
     "name": "stdout",
     "output_type": "stream",
     "text": [
      "Step 730, train loss:0.9253, test loss:1.8602\n"
     ]
    },
    {
     "name": "stderr",
     "output_type": "stream",
     "text": [
      "  7%|████████▊                                                                                                             | 742/10000 [02:10<27:44,  5.56it/s]"
     ]
    },
    {
     "name": "stdout",
     "output_type": "stream",
     "text": [
      "Step 740, train loss:0.8998, test loss:1.7795\n"
     ]
    },
    {
     "name": "stderr",
     "output_type": "stream",
     "text": [
      "  8%|████████▊                                                                                                             | 752/10000 [02:12<27:43,  5.56it/s]"
     ]
    },
    {
     "name": "stdout",
     "output_type": "stream",
     "text": [
      "Step 750, train loss:0.9032, test loss:1.7988\n"
     ]
    },
    {
     "name": "stderr",
     "output_type": "stream",
     "text": [
      "  8%|████████▉                                                                                                             | 762/10000 [02:13<27:37,  5.57it/s]"
     ]
    },
    {
     "name": "stdout",
     "output_type": "stream",
     "text": [
      "Step 760, train loss:0.8859, test loss:1.8106\n"
     ]
    },
    {
     "name": "stderr",
     "output_type": "stream",
     "text": [
      "  8%|█████████                                                                                                             | 772/10000 [02:14<27:39,  5.56it/s]"
     ]
    },
    {
     "name": "stdout",
     "output_type": "stream",
     "text": [
      "Step 770, train loss:0.8718, test loss:1.8337\n"
     ]
    },
    {
     "name": "stderr",
     "output_type": "stream",
     "text": [
      "  8%|█████████▏                                                                                                            | 782/10000 [02:16<27:44,  5.54it/s]"
     ]
    },
    {
     "name": "stdout",
     "output_type": "stream",
     "text": [
      "Step 780, train loss:0.8495, test loss:1.8351\n"
     ]
    },
    {
     "name": "stderr",
     "output_type": "stream",
     "text": [
      "  8%|█████████▎                                                                                                            | 792/10000 [02:17<27:39,  5.55it/s]"
     ]
    },
    {
     "name": "stdout",
     "output_type": "stream",
     "text": [
      "Step 790, train loss:0.8371, test loss:1.8749\n"
     ]
    },
    {
     "name": "stderr",
     "output_type": "stream",
     "text": [
      "  8%|█████████▍                                                                                                            | 800/10000 [02:18<16:19,  9.39it/s]"
     ]
    },
    {
     "name": "stdout",
     "output_type": "stream",
     "text": [
      "Step 800, train loss:0.8465, test loss:1.8588\n"
     ]
    },
    {
     "name": "stderr",
     "output_type": "stream",
     "text": [
      "  8%|█████████▎                                                                                                          | 802/10000 [02:22<1:58:40,  1.29it/s]"
     ]
    },
    {
     "name": "stdout",
     "output_type": "stream",
     "text": [
      "\n",
      "\n",
      "LEONTES:\n",
      "Did you got history in the city.\n",
      "Is now no vinour of his timeless sounds,\n",
      "How weep's tent; and long as seen his reasons,\n",
      "Letters your highness to Ansorrey me.\n",
      "\n",
      "KING HENRY VI:\n",
      "How I prison!--\n",
      "I am wedded that did for his fand fall.\n",
      "Should enjoy, be gone, so foul a poor an\n",
      "opening the post that glory. So,\n",
      "ere we the  our works and attended to be a\n",
      "stch-viled in ground? Oven in the winds and drows\n",
      "common pity gentleman: butchers, as I said,\n",
      "Respects back, in breathing in the east,\n",
      "He hath given against us rid his earth,\n",
      "With one, whiles, hisart him not his country.\n",
      "\n",
      "LEONTES:\n",
      "What now!\n",
      "Good night, good grant!\n",
      "\n",
      "LEONTES:\n",
      "Make the absence is not the countenand\n",
      "Till she had the conduct to earth to teach?\n",
      "\n",
      "PAULINA:\n",
      "You guest, not smell with her;\n",
      "But how then may dismutation swords, and good,\n",
      "To go with him shut misdoth gried in hell.\n",
      "This shows are true.\n",
      "\n",
      "MENENIUS:\n",
      "The one whom partoken in the villain\n",
      "Of all the way: we say you consent to Wolshian\n",
      "I would beg instruct his person. Music\n",
      "Step 800, train loss:0.8469, test loss:1.8274\n"
     ]
    },
    {
     "name": "stderr",
     "output_type": "stream",
     "text": [
      "  8%|█████████▌                                                                                                            | 812/10000 [02:24<42:46,  3.58it/s]"
     ]
    },
    {
     "name": "stdout",
     "output_type": "stream",
     "text": [
      "Step 810, train loss:0.8271, test loss:1.8996\n"
     ]
    },
    {
     "name": "stderr",
     "output_type": "stream",
     "text": [
      "  8%|█████████▋                                                                                                            | 822/10000 [02:25<30:03,  5.09it/s]"
     ]
    },
    {
     "name": "stdout",
     "output_type": "stream",
     "text": [
      "Step 820, train loss:0.8331, test loss:1.8762\n"
     ]
    },
    {
     "name": "stderr",
     "output_type": "stream",
     "text": [
      "  8%|█████████▊                                                                                                            | 832/10000 [02:26<27:53,  5.48it/s]"
     ]
    },
    {
     "name": "stdout",
     "output_type": "stream",
     "text": [
      "Step 830, train loss:0.8073, test loss:1.9451\n"
     ]
    },
    {
     "name": "stderr",
     "output_type": "stream",
     "text": [
      "  8%|█████████▉                                                                                                            | 842/10000 [02:28<27:35,  5.53it/s]"
     ]
    },
    {
     "name": "stdout",
     "output_type": "stream",
     "text": [
      "Step 840, train loss:0.7970, test loss:1.8876\n"
     ]
    },
    {
     "name": "stderr",
     "output_type": "stream",
     "text": [
      "  9%|██████████                                                                                                            | 852/10000 [02:29<27:33,  5.53it/s]"
     ]
    },
    {
     "name": "stdout",
     "output_type": "stream",
     "text": [
      "Step 850, train loss:0.7919, test loss:1.9661\n"
     ]
    },
    {
     "name": "stderr",
     "output_type": "stream",
     "text": [
      "  9%|██████████▏                                                                                                           | 862/10000 [02:31<27:29,  5.54it/s]"
     ]
    },
    {
     "name": "stdout",
     "output_type": "stream",
     "text": [
      "Step 860, train loss:0.7771, test loss:1.9709\n"
     ]
    },
    {
     "name": "stderr",
     "output_type": "stream",
     "text": [
      "  9%|██████████▎                                                                                                           | 872/10000 [02:32<27:29,  5.53it/s]"
     ]
    },
    {
     "name": "stdout",
     "output_type": "stream",
     "text": [
      "Step 870, train loss:0.7652, test loss:1.9989\n"
     ]
    },
    {
     "name": "stderr",
     "output_type": "stream",
     "text": [
      "  9%|██████████▍                                                                                                           | 882/10000 [02:33<27:34,  5.51it/s]"
     ]
    },
    {
     "name": "stdout",
     "output_type": "stream",
     "text": [
      "Step 880, train loss:0.7626, test loss:1.9903\n"
     ]
    },
    {
     "name": "stderr",
     "output_type": "stream",
     "text": [
      "  9%|██████████▌                                                                                                           | 892/10000 [02:35<27:34,  5.51it/s]"
     ]
    },
    {
     "name": "stdout",
     "output_type": "stream",
     "text": [
      "Step 890, train loss:0.7633, test loss:2.0039\n"
     ]
    },
    {
     "name": "stderr",
     "output_type": "stream",
     "text": [
      "  9%|██████████▌                                                                                                           | 900/10000 [02:35<16:12,  9.36it/s]"
     ]
    },
    {
     "name": "stdout",
     "output_type": "stream",
     "text": [
      "Step 900, train loss:0.7284, test loss:2.0123\n"
     ]
    },
    {
     "name": "stderr",
     "output_type": "stream",
     "text": [
      "  9%|██████████▍                                                                                                         | 902/10000 [02:40<1:58:47,  1.28it/s]"
     ]
    },
    {
     "name": "stdout",
     "output_type": "stream",
     "text": [
      "\n",
      "\n",
      "LEONTES:\n",
      "Why, so you come, gentlemen!\n",
      "The first I suddese have been doing the world,\n",
      "Unto the waters of your own belly;\n",
      "Or and we, not veen here it is.\n",
      "Here comes his golden heart is but one:\n",
      "Rest you now, when such fanish'd wife,\n",
      "Whose sealto's glad, till bafford lightning have.\n",
      "First, though is overthrow without erral the foe,\n",
      "Unto'st thou that hear thee heaven forbid\n",
      "Acceed their own flowers they.\n",
      "\n",
      "BRUTUS:\n",
      "I aim'd such tells you.\n",
      "\n",
      "VOLUMNIA:\n",
      "I am had, though they did but oney it.\n",
      "\n",
      "VALERCENTIO:\n",
      "O sir, look upon this day that I, brother,\n",
      "That he did please your leisure seem,\n",
      "Does not that Bolingbroke.\n",
      "\n",
      "CORIOLANUS:\n",
      "Go thou away:\n",
      "How change their mother gave at thy near doth grieve\n",
      "At thy dame till is this, and sway too late?\n",
      "Nothing she be, thy son and heart will not\n",
      "Thmus lend me thy play'd: wyilty didst thou, dread I,\n",
      "Razeant thee, child, perhaps, well thither, present,\n",
      "For conscent I am as seat as those,\n",
      "Travelling my fresh wind in commons.\n",
      "\n",
      "DUKE VINCENTIO:\n",
      "'Tis this there, by your v\n",
      "Step 900, train loss:0.7455, test loss:2.0247\n"
     ]
    },
    {
     "name": "stderr",
     "output_type": "stream",
     "text": [
      "  9%|██████████▊                                                                                                           | 912/10000 [02:41<42:40,  3.55it/s]"
     ]
    },
    {
     "name": "stdout",
     "output_type": "stream",
     "text": [
      "Step 910, train loss:0.7517, test loss:2.0231\n"
     ]
    },
    {
     "name": "stderr",
     "output_type": "stream",
     "text": [
      "  9%|██████████▉                                                                                                           | 922/10000 [02:43<29:54,  5.06it/s]"
     ]
    },
    {
     "name": "stdout",
     "output_type": "stream",
     "text": [
      "Step 920, train loss:0.7299, test loss:2.0449\n"
     ]
    },
    {
     "name": "stderr",
     "output_type": "stream",
     "text": [
      "  9%|██████████▉                                                                                                           | 932/10000 [02:44<27:46,  5.44it/s]"
     ]
    },
    {
     "name": "stdout",
     "output_type": "stream",
     "text": [
      "Step 930, train loss:0.7170, test loss:2.0471\n"
     ]
    },
    {
     "name": "stderr",
     "output_type": "stream",
     "text": [
      "  9%|███████████                                                                                                           | 942/10000 [02:46<27:24,  5.51it/s]"
     ]
    },
    {
     "name": "stdout",
     "output_type": "stream",
     "text": [
      "Step 940, train loss:0.7126, test loss:2.0932\n"
     ]
    },
    {
     "name": "stderr",
     "output_type": "stream",
     "text": [
      " 10%|███████████▏                                                                                                          | 952/10000 [02:47<27:22,  5.51it/s]"
     ]
    },
    {
     "name": "stdout",
     "output_type": "stream",
     "text": [
      "Step 950, train loss:0.6944, test loss:2.0961\n"
     ]
    },
    {
     "name": "stderr",
     "output_type": "stream",
     "text": [
      " 10%|███████████▎                                                                                                          | 962/10000 [02:48<27:23,  5.50it/s]"
     ]
    },
    {
     "name": "stdout",
     "output_type": "stream",
     "text": [
      "Step 960, train loss:0.6742, test loss:2.1328\n"
     ]
    },
    {
     "name": "stderr",
     "output_type": "stream",
     "text": [
      " 10%|███████████▍                                                                                                          | 972/10000 [02:50<27:22,  5.50it/s]"
     ]
    },
    {
     "name": "stdout",
     "output_type": "stream",
     "text": [
      "Step 970, train loss:0.6894, test loss:2.1251\n"
     ]
    },
    {
     "name": "stderr",
     "output_type": "stream",
     "text": [
      " 10%|███████████▌                                                                                                          | 982/10000 [02:51<27:21,  5.49it/s]"
     ]
    },
    {
     "name": "stdout",
     "output_type": "stream",
     "text": [
      "Step 980, train loss:0.6548, test loss:2.1240\n"
     ]
    },
    {
     "name": "stderr",
     "output_type": "stream",
     "text": [
      " 10%|███████████▋                                                                                                          | 992/10000 [02:52<27:20,  5.49it/s]"
     ]
    },
    {
     "name": "stdout",
     "output_type": "stream",
     "text": [
      "Step 990, train loss:0.6719, test loss:2.1070\n"
     ]
    },
    {
     "name": "stderr",
     "output_type": "stream",
     "text": [
      " 10%|███████████▋                                                                                                         | 1000/10000 [02:53<16:01,  9.36it/s]"
     ]
    },
    {
     "name": "stdout",
     "output_type": "stream",
     "text": [
      "Step 1000, train loss:0.6380, test loss:2.1667\n"
     ]
    },
    {
     "name": "stderr",
     "output_type": "stream",
     "text": [
      " 10%|███████████▌                                                                                                       | 1002/10000 [02:58<1:55:47,  1.30it/s]"
     ]
    },
    {
     "name": "stdout",
     "output_type": "stream",
     "text": [
      "\n",
      "\n",
      "PAULINA:\n",
      "Sir, lo, my lord.\n",
      "\n",
      "PERDITA:\n",
      "Even he shall thing o'er her new-beloved,\n",
      "To be redomption kept her beheld their woes,\n",
      "O'er lawyers; and then for Clarence is so\n",
      "It:\n",
      "But when your fault to do some powlers could not\n",
      "Like socies, or I'll determine of any wits\n",
      "are pleasant.\n",
      "\n",
      "LUCIO:\n",
      "Carnall!\n",
      "\n",
      "ISCENTIO:\n",
      "The your lassas with his state should be put\n",
      "ful vauntlerenity. What copes our norse with her\n",
      "they vunsported and neather club; never correct,\n",
      "With this once coll with clipping, and he comes\n",
      "Where these shrering holy curse hath been,\n",
      "Nor shall be well.\n",
      "\n",
      "CORIOLANUS:\n",
      "I do but queen them not?\n",
      "\n",
      "LADY CAPULET:\n",
      "We have.\n",
      "\n",
      "CLAUDIO:\n",
      "As well as London, take the crown.\n",
      "\n",
      "ISABELLA:\n",
      "O give leave!\n",
      "And his son?\n",
      "\n",
      "CLAUDIO:\n",
      "One word, Lord Salisbury\n",
      "She loves me chief, deace to the greater.\n",
      "Gentlemen, let's along.\n",
      "\n",
      "Provost:\n",
      "Hypardon'd heart\n",
      "Above her breedings, eardy see anon.\n",
      "\n",
      "LUCIO:\n",
      "Nay, not for death; guess what hand was her.\n",
      "Please you, lords; give I heard from the crown.\n",
      "Look, and be a word: if I fear, \n",
      "Step 1000, train loss:0.6617, test loss:2.1814\n"
     ]
    },
    {
     "name": "stderr",
     "output_type": "stream",
     "text": [
      " 10%|███████████▊                                                                                                         | 1012/10000 [02:59<41:58,  3.57it/s]"
     ]
    },
    {
     "name": "stdout",
     "output_type": "stream",
     "text": [
      "Step 1010, train loss:0.6395, test loss:2.1644\n"
     ]
    },
    {
     "name": "stderr",
     "output_type": "stream",
     "text": [
      " 10%|███████████▉                                                                                                         | 1022/10000 [03:00<29:37,  5.05it/s]"
     ]
    },
    {
     "name": "stdout",
     "output_type": "stream",
     "text": [
      "Step 1020, train loss:0.6138, test loss:2.2191\n"
     ]
    },
    {
     "name": "stderr",
     "output_type": "stream",
     "text": [
      " 10%|████████████                                                                                                         | 1032/10000 [03:02<27:32,  5.43it/s]"
     ]
    },
    {
     "name": "stdout",
     "output_type": "stream",
     "text": [
      "Step 1030, train loss:0.6328, test loss:2.1601\n"
     ]
    },
    {
     "name": "stderr",
     "output_type": "stream",
     "text": [
      " 10%|████████████▏                                                                                                        | 1042/10000 [03:03<27:11,  5.49it/s]"
     ]
    },
    {
     "name": "stdout",
     "output_type": "stream",
     "text": [
      "Step 1040, train loss:0.6170, test loss:2.2282\n"
     ]
    },
    {
     "name": "stderr",
     "output_type": "stream",
     "text": [
      " 11%|████████████▎                                                                                                        | 1052/10000 [03:05<27:08,  5.50it/s]"
     ]
    },
    {
     "name": "stdout",
     "output_type": "stream",
     "text": [
      "Step 1050, train loss:0.6061, test loss:2.2674\n"
     ]
    },
    {
     "name": "stderr",
     "output_type": "stream",
     "text": [
      " 11%|████████████▍                                                                                                        | 1062/10000 [03:06<27:11,  5.48it/s]"
     ]
    },
    {
     "name": "stdout",
     "output_type": "stream",
     "text": [
      "Step 1060, train loss:0.5970, test loss:2.3055\n"
     ]
    },
    {
     "name": "stderr",
     "output_type": "stream",
     "text": [
      " 11%|████████████▌                                                                                                        | 1072/10000 [03:07<27:07,  5.49it/s]"
     ]
    },
    {
     "name": "stdout",
     "output_type": "stream",
     "text": [
      "Step 1070, train loss:0.5866, test loss:2.2973\n"
     ]
    },
    {
     "name": "stderr",
     "output_type": "stream",
     "text": [
      " 11%|████████████▋                                                                                                        | 1082/10000 [03:09<27:05,  5.49it/s]"
     ]
    },
    {
     "name": "stdout",
     "output_type": "stream",
     "text": [
      "Step 1080, train loss:0.5850, test loss:2.2667\n"
     ]
    },
    {
     "name": "stderr",
     "output_type": "stream",
     "text": [
      " 11%|████████████▊                                                                                                        | 1092/10000 [03:10<27:05,  5.48it/s]"
     ]
    },
    {
     "name": "stdout",
     "output_type": "stream",
     "text": [
      "Step 1090, train loss:0.5657, test loss:2.3266\n"
     ]
    },
    {
     "name": "stderr",
     "output_type": "stream",
     "text": [
      " 11%|████████████▊                                                                                                        | 1100/10000 [03:11<15:54,  9.32it/s]"
     ]
    },
    {
     "name": "stdout",
     "output_type": "stream",
     "text": [
      "Step 1100, train loss:0.5602, test loss:2.3292\n"
     ]
    },
    {
     "name": "stderr",
     "output_type": "stream",
     "text": [
      " 11%|████████████▋                                                                                                      | 1102/10000 [03:15<1:54:42,  1.29it/s]"
     ]
    },
    {
     "name": "stdout",
     "output_type": "stream",
     "text": [
      "\n",
      "\n",
      "PICINIUS:\n",
      "Let me but speak.\n",
      "\n",
      "CORIOLANUS:\n",
      "Tyrelable what.\n",
      "\n",
      "BRUTUS:\n",
      "Ay, say'st thou the Marcius?\n",
      "\n",
      "BRUTUS:\n",
      "Not so sofn to tongue and heart\n",
      "To hear the king.\n",
      "\n",
      "CORIOLANUS:\n",
      "Measurel Clarence!\n",
      "\n",
      "CORIOLANUS:\n",
      "I wish't poor i' the people.\n",
      "\n",
      "BRUTUS:\n",
      "Go, you consent to-morrow.\n",
      "\n",
      "SICINIUS:\n",
      "You have ever can.\n",
      "\n",
      "SICINIUS:\n",
      "As I Richard\n",
      "Whilst, then?\n",
      "\n",
      "Messenger:\n",
      "They should have slept affected him to the hill.\n",
      "\n",
      "SICINIUS:\n",
      "'Tis his tewth\n",
      "As wisdom the people, which I damn'd in them;\n",
      "Have done with Juliet and it.\n",
      "\n",
      "CORIOLANUS:\n",
      "I do beseech your husband.\n",
      "\n",
      "MARCIUS:\n",
      "My noble lords. I do not say 'thrive our own,'\n",
      "And one word ' I saw to hell: and my grow would smell\n",
      "Were come to me a mistress' man? how it\n",
      "will I rose the loss! If thou wilt be hoped to-night\n",
      "And feast, I have the mother stands,\n",
      "Whose hate her have and maid'd to troubled friends.\n",
      "Brother, why promised the hours of wreath, I cry thee.\n",
      "My loving Lord Baptista's daughter hold,\n",
      "That from his sister boils being enthralled as become\n",
      "As Jew's partier eye h\n",
      "Step 1100, train loss:0.5658, test loss:2.3449\n"
     ]
    },
    {
     "name": "stderr",
     "output_type": "stream",
     "text": [
      " 11%|█████████████                                                                                                        | 1112/10000 [03:17<41:37,  3.56it/s]"
     ]
    },
    {
     "name": "stdout",
     "output_type": "stream",
     "text": [
      "Step 1110, train loss:0.5569, test loss:2.3428\n"
     ]
    },
    {
     "name": "stderr",
     "output_type": "stream",
     "text": [
      " 11%|█████████████▏                                                                                                       | 1122/10000 [03:18<29:23,  5.04it/s]"
     ]
    },
    {
     "name": "stdout",
     "output_type": "stream",
     "text": [
      "Step 1120, train loss:0.5480, test loss:2.3724\n"
     ]
    },
    {
     "name": "stderr",
     "output_type": "stream",
     "text": [
      " 11%|█████████████▏                                                                                                       | 1132/10000 [03:20<27:18,  5.41it/s]"
     ]
    },
    {
     "name": "stdout",
     "output_type": "stream",
     "text": [
      "Step 1130, train loss:0.5339, test loss:2.3547\n"
     ]
    },
    {
     "name": "stderr",
     "output_type": "stream",
     "text": [
      " 11%|█████████████▎                                                                                                       | 1142/10000 [03:21<26:57,  5.48it/s]"
     ]
    },
    {
     "name": "stdout",
     "output_type": "stream",
     "text": [
      "Step 1140, train loss:0.5210, test loss:2.4182\n"
     ]
    },
    {
     "name": "stderr",
     "output_type": "stream",
     "text": [
      " 12%|█████████████▍                                                                                                       | 1152/10000 [03:22<26:52,  5.49it/s]"
     ]
    },
    {
     "name": "stdout",
     "output_type": "stream",
     "text": [
      "Step 1150, train loss:0.5154, test loss:2.4370\n"
     ]
    },
    {
     "name": "stderr",
     "output_type": "stream",
     "text": [
      " 12%|█████████████▌                                                                                                       | 1162/10000 [03:24<26:52,  5.48it/s]"
     ]
    },
    {
     "name": "stdout",
     "output_type": "stream",
     "text": [
      "Step 1160, train loss:0.5315, test loss:2.4219\n"
     ]
    },
    {
     "name": "stderr",
     "output_type": "stream",
     "text": [
      " 12%|█████████████▋                                                                                                       | 1172/10000 [03:25<26:51,  5.48it/s]"
     ]
    },
    {
     "name": "stdout",
     "output_type": "stream",
     "text": [
      "Step 1170, train loss:0.5142, test loss:2.5085\n"
     ]
    },
    {
     "name": "stderr",
     "output_type": "stream",
     "text": [
      " 12%|█████████████▊                                                                                                       | 1182/10000 [03:27<26:51,  5.47it/s]"
     ]
    },
    {
     "name": "stdout",
     "output_type": "stream",
     "text": [
      "Step 1180, train loss:0.4950, test loss:2.4731\n"
     ]
    },
    {
     "name": "stderr",
     "output_type": "stream",
     "text": [
      " 12%|█████████████▉                                                                                                       | 1192/10000 [03:28<26:51,  5.47it/s]"
     ]
    },
    {
     "name": "stdout",
     "output_type": "stream",
     "text": [
      "Step 1190, train loss:0.4874, test loss:2.4639\n"
     ]
    },
    {
     "name": "stderr",
     "output_type": "stream",
     "text": [
      " 12%|██████████████                                                                                                       | 1200/10000 [03:29<15:47,  9.29it/s]"
     ]
    },
    {
     "name": "stdout",
     "output_type": "stream",
     "text": [
      "Step 1200, train loss:0.4709, test loss:2.4762\n"
     ]
    },
    {
     "name": "stderr",
     "output_type": "stream",
     "text": [
      " 12%|█████████████▊                                                                                                     | 1202/10000 [03:33<1:53:31,  1.29it/s]"
     ]
    },
    {
     "name": "stdout",
     "output_type": "stream",
     "text": [
      "\n",
      "\n",
      "BENVOLIO:\n",
      "Tybalt, sovereign, when a sovereign close which\n",
      "and point! his chival gentleman born befall'n King Edward.\n",
      "\n",
      "BUCKINGHAM:\n",
      "Fortune and Gloucester's death, nor Hereford,\n",
      "As he consent his death English gild disige,\n",
      "Take the wars of York. That hast thou never will\n",
      "The squiet out of first, his instantly makes\n",
      "Enexter the matter to his beavery tongue\n",
      "And make his spalling ropurating tize,\n",
      "And he's in courtier steps and men,\n",
      "With magistness of his charge his stamp'd,\n",
      "And I, as he valianted a speak at a\n",
      "second his friends with a vain. The steal tard\n",
      "up full of this formall; whose fearful spirit,\n",
      "An ounterfeit stands, and levelves men leave!\n",
      "\n",
      "ENRUCHIO:\n",
      "Very sorrow to my guilty murder was.\n",
      "\n",
      "HORTENSIO:\n",
      "Sir, my woman of virtue fellows,\n",
      "She slips to me no surfeit and malice and\n",
      "will give me joy my dug breaks and groans\n",
      "May move you to pure in some saping father;\n",
      "Why give you an you then were flint en it speak?\n",
      "Nor did you speak not for it: O, hear you none.\n",
      "\n",
      "Abot:\n",
      "Meeter:\n",
      "I'll tell you wha\n",
      "Step 1200, train loss:0.4846, test loss:2.4849\n"
     ]
    },
    {
     "name": "stderr",
     "output_type": "stream",
     "text": [
      " 12%|██████████████▏                                                                                                      | 1212/10000 [03:35<41:22,  3.54it/s]"
     ]
    },
    {
     "name": "stdout",
     "output_type": "stream",
     "text": [
      "Step 1210, train loss:0.4746, test loss:2.5109\n"
     ]
    },
    {
     "name": "stderr",
     "output_type": "stream",
     "text": [
      " 12%|██████████████▎                                                                                                      | 1222/10000 [03:36<29:18,  4.99it/s]"
     ]
    },
    {
     "name": "stdout",
     "output_type": "stream",
     "text": [
      "Step 1220, train loss:0.4784, test loss:2.5880\n"
     ]
    },
    {
     "name": "stderr",
     "output_type": "stream",
     "text": [
      " 12%|██████████████▍                                                                                                      | 1232/10000 [03:37<27:18,  5.35it/s]"
     ]
    },
    {
     "name": "stdout",
     "output_type": "stream",
     "text": [
      "Step 1230, train loss:0.4665, test loss:2.5944\n"
     ]
    },
    {
     "name": "stderr",
     "output_type": "stream",
     "text": [
      " 12%|██████████████▌                                                                                                      | 1242/10000 [03:39<26:53,  5.43it/s]"
     ]
    },
    {
     "name": "stdout",
     "output_type": "stream",
     "text": [
      "Step 1240, train loss:0.4489, test loss:2.5772\n"
     ]
    },
    {
     "name": "stderr",
     "output_type": "stream",
     "text": [
      " 13%|██████████████▋                                                                                                      | 1252/10000 [03:40<26:47,  5.44it/s]"
     ]
    },
    {
     "name": "stdout",
     "output_type": "stream",
     "text": [
      "Step 1250, train loss:0.4493, test loss:2.6524\n"
     ]
    },
    {
     "name": "stderr",
     "output_type": "stream",
     "text": [
      " 13%|██████████████▊                                                                                                      | 1262/10000 [03:42<26:53,  5.42it/s]"
     ]
    },
    {
     "name": "stdout",
     "output_type": "stream",
     "text": [
      "Step 1260, train loss:0.4460, test loss:2.6992\n"
     ]
    },
    {
     "name": "stderr",
     "output_type": "stream",
     "text": [
      " 13%|██████████████▉                                                                                                      | 1272/10000 [03:43<26:51,  5.42it/s]"
     ]
    },
    {
     "name": "stdout",
     "output_type": "stream",
     "text": [
      "Step 1270, train loss:0.4277, test loss:2.6901\n"
     ]
    },
    {
     "name": "stderr",
     "output_type": "stream",
     "text": [
      " 13%|██████████████▉                                                                                                      | 1282/10000 [03:44<26:49,  5.42it/s]"
     ]
    },
    {
     "name": "stdout",
     "output_type": "stream",
     "text": [
      "Step 1280, train loss:0.4166, test loss:2.6816\n"
     ]
    },
    {
     "name": "stderr",
     "output_type": "stream",
     "text": [
      " 13%|███████████████                                                                                                      | 1292/10000 [03:46<26:50,  5.41it/s]"
     ]
    },
    {
     "name": "stdout",
     "output_type": "stream",
     "text": [
      "Step 1290, train loss:0.4230, test loss:2.7087\n"
     ]
    },
    {
     "name": "stderr",
     "output_type": "stream",
     "text": [
      " 13%|███████████████▏                                                                                                     | 1300/10000 [03:46<15:43,  9.22it/s]"
     ]
    },
    {
     "name": "stdout",
     "output_type": "stream",
     "text": [
      "Step 1300, train loss:0.4130, test loss:2.7082\n"
     ]
    },
    {
     "name": "stderr",
     "output_type": "stream",
     "text": [
      " 13%|██████████████▉                                                                                                    | 1302/10000 [03:51<1:52:45,  1.29it/s]"
     ]
    },
    {
     "name": "stdout",
     "output_type": "stream",
     "text": [
      "\n",
      "\n",
      "ELBOW:\n",
      "Great kinsman! young men, the lady winger gates!\n",
      "Here comes his majesty to sa hard that it speaks:\n",
      "Sometime she hath been debating thee;\n",
      "She hath sot down, or kiln-hathless rancour\n",
      "With old enemy in fortune.\n",
      "\n",
      "PERDITA:\n",
      "Now Jove afford you cause!\n",
      "To thee of those that have been I am not?\n",
      "\n",
      "LUCENTIO:\n",
      "Sirrah, no more! none are but sees any thing:\n",
      "Grandsire goes, thou knows when thou art:\n",
      "Tyball men will burn shed to be to stray away?\n",
      "\n",
      "JULIET:\n",
      "Ay, but thou dream not of thy care suit.\n",
      "\n",
      "JULIET:\n",
      "Balm hither can I straw a strange must\n",
      "Belike a gloyal batches: who look you all\n",
      "I am not done; sweet Mammift them\n",
      "Am a bank to be pronounce there.\n",
      "\n",
      "BUCKINGHAM:\n",
      "Say that I intent to do;\n",
      "It were a better play the eyil sight;\n",
      "And so do I love thee to be treaded upon\n",
      "A banish'd rude belly falling wars\n",
      "Since Warwick bad of wicked earth.\n",
      "And, as go on marriage with a tender\n",
      "Although they be oppreited in the business,\n",
      "Not charging the day, is my bondered light\n",
      "Unto to an hours servite to a gossip,\n",
      "Go h\n",
      "Step 1300, train loss:0.4075, test loss:2.7030\n"
     ]
    },
    {
     "name": "stderr",
     "output_type": "stream",
     "text": [
      " 13%|███████████████▎                                                                                                     | 1312/10000 [03:53<40:52,  3.54it/s]"
     ]
    },
    {
     "name": "stdout",
     "output_type": "stream",
     "text": [
      "Step 1310, train loss:0.4018, test loss:2.7142\n"
     ]
    },
    {
     "name": "stderr",
     "output_type": "stream",
     "text": [
      " 13%|███████████████▍                                                                                                     | 1322/10000 [03:54<28:47,  5.02it/s]"
     ]
    },
    {
     "name": "stdout",
     "output_type": "stream",
     "text": [
      "Step 1320, train loss:0.3984, test loss:2.8198\n"
     ]
    },
    {
     "name": "stderr",
     "output_type": "stream",
     "text": [
      " 13%|███████████████▌                                                                                                     | 1332/10000 [03:55<26:46,  5.40it/s]"
     ]
    },
    {
     "name": "stdout",
     "output_type": "stream",
     "text": [
      "Step 1330, train loss:0.4014, test loss:2.7927\n"
     ]
    },
    {
     "name": "stderr",
     "output_type": "stream",
     "text": [
      " 13%|███████████████▋                                                                                                     | 1342/10000 [03:57<26:28,  5.45it/s]"
     ]
    },
    {
     "name": "stdout",
     "output_type": "stream",
     "text": [
      "Step 1340, train loss:0.3937, test loss:2.8119\n"
     ]
    },
    {
     "name": "stderr",
     "output_type": "stream",
     "text": [
      " 14%|███████████████▊                                                                                                     | 1352/10000 [03:58<26:22,  5.47it/s]"
     ]
    },
    {
     "name": "stdout",
     "output_type": "stream",
     "text": [
      "Step 1350, train loss:0.3917, test loss:2.8035\n"
     ]
    },
    {
     "name": "stderr",
     "output_type": "stream",
     "text": [
      " 14%|███████████████▉                                                                                                     | 1362/10000 [03:59<26:22,  5.46it/s]"
     ]
    },
    {
     "name": "stdout",
     "output_type": "stream",
     "text": [
      "Step 1360, train loss:0.3771, test loss:2.8817\n"
     ]
    },
    {
     "name": "stderr",
     "output_type": "stream",
     "text": [
      " 14%|████████████████                                                                                                     | 1372/10000 [04:01<26:20,  5.46it/s]"
     ]
    },
    {
     "name": "stdout",
     "output_type": "stream",
     "text": [
      "Step 1370, train loss:0.3663, test loss:2.8538\n"
     ]
    },
    {
     "name": "stderr",
     "output_type": "stream",
     "text": [
      " 14%|████████████████▏                                                                                                    | 1382/10000 [04:02<26:20,  5.45it/s]"
     ]
    },
    {
     "name": "stdout",
     "output_type": "stream",
     "text": [
      "Step 1380, train loss:0.3691, test loss:2.8163\n"
     ]
    },
    {
     "name": "stderr",
     "output_type": "stream",
     "text": [
      " 14%|████████████████▎                                                                                                    | 1392/10000 [04:04<26:17,  5.46it/s]"
     ]
    },
    {
     "name": "stdout",
     "output_type": "stream",
     "text": [
      "Step 1390, train loss:0.3695, test loss:2.9404\n"
     ]
    },
    {
     "name": "stderr",
     "output_type": "stream",
     "text": [
      " 14%|████████████████▍                                                                                                    | 1400/10000 [04:04<15:30,  9.25it/s]"
     ]
    },
    {
     "name": "stdout",
     "output_type": "stream",
     "text": [
      "Step 1400, train loss:0.3656, test loss:2.8705\n"
     ]
    },
    {
     "name": "stderr",
     "output_type": "stream",
     "text": [
      " 14%|████████████████                                                                                                   | 1402/10000 [04:09<1:51:04,  1.29it/s]"
     ]
    },
    {
     "name": "stdout",
     "output_type": "stream",
     "text": [
      "\n",
      "\n",
      "WARWICK:\n",
      "Edward will we here, were hard like a lady:\n",
      "And revenue is dead, and I'll be sworn brother.\n",
      "\n",
      "KING HENRY VI:\n",
      "The lords are nobleness of my carest, and that\n",
      "Witness so bound in have but little scout and away.\n",
      "Nay, since we such guide toise do mourn to discrease.\n",
      "\n",
      "GLOUCESTER:\n",
      "Yes, I know this attend you were, faith.\n",
      "\n",
      "HASTINGS:\n",
      "My lord, this most good man of you.\n",
      "\n",
      "DUKE VINCENTIO:\n",
      "There was a word;\n",
      "But make his entrails of unbarnal man:\n",
      "He is much reguiles of the state with her\n",
      "To save these little thoughts, I then was thought,\n",
      "And with their hearts for and duty bier!\n",
      "\n",
      "QUEEN:\n",
      "This is strange: methinks it were a very gross\n",
      "kind of a thing, well-halling, So;\n",
      "I am content: a bawdle'f believe-knightly\n",
      "Which then blows have wrong'd Richard's friends.\n",
      "I saw the quickland for revenge,\n",
      "Until the king set on that sorrow's ear.\n",
      "Fir Menrach vellet.\n",
      "\n",
      "BRUTUS:\n",
      "Could she have eat cred the air of mercy,\n",
      "And shakes the sea full of tears that wretch\n",
      "Thou shalt deserve to him.\n",
      "\n",
      "First Servingman:\n",
      "Nay,\n",
      "Step 1400, train loss:0.3529, test loss:2.9121\n"
     ]
    },
    {
     "name": "stderr",
     "output_type": "stream",
     "text": [
      " 14%|████████████████▌                                                                                                    | 1412/10000 [04:10<40:30,  3.53it/s]"
     ]
    },
    {
     "name": "stdout",
     "output_type": "stream",
     "text": [
      "Step 1410, train loss:0.3488, test loss:2.8971\n"
     ]
    },
    {
     "name": "stderr",
     "output_type": "stream",
     "text": [
      " 14%|████████████████▋                                                                                                    | 1422/10000 [04:12<28:35,  5.00it/s]"
     ]
    },
    {
     "name": "stdout",
     "output_type": "stream",
     "text": [
      "Step 1420, train loss:0.3440, test loss:2.8162\n"
     ]
    },
    {
     "name": "stderr",
     "output_type": "stream",
     "text": [
      " 14%|████████████████▊                                                                                                    | 1432/10000 [04:13<26:40,  5.35it/s]"
     ]
    },
    {
     "name": "stdout",
     "output_type": "stream",
     "text": [
      "Step 1430, train loss:0.3632, test loss:2.9511\n"
     ]
    },
    {
     "name": "stderr",
     "output_type": "stream",
     "text": [
      " 14%|████████████████▊                                                                                                    | 1442/10000 [04:15<26:21,  5.41it/s]"
     ]
    },
    {
     "name": "stdout",
     "output_type": "stream",
     "text": [
      "Step 1440, train loss:0.3418, test loss:2.9514\n"
     ]
    },
    {
     "name": "stderr",
     "output_type": "stream",
     "text": [
      " 15%|████████████████▉                                                                                                    | 1452/10000 [04:16<26:16,  5.42it/s]"
     ]
    },
    {
     "name": "stdout",
     "output_type": "stream",
     "text": [
      "Step 1450, train loss:0.3314, test loss:2.9519\n"
     ]
    },
    {
     "name": "stderr",
     "output_type": "stream",
     "text": [
      " 15%|█████████████████                                                                                                    | 1462/10000 [04:17<26:14,  5.42it/s]"
     ]
    },
    {
     "name": "stdout",
     "output_type": "stream",
     "text": [
      "Step 1460, train loss:0.3203, test loss:3.0073\n"
     ]
    },
    {
     "name": "stderr",
     "output_type": "stream",
     "text": [
      " 15%|█████████████████▏                                                                                                   | 1472/10000 [04:19<26:14,  5.42it/s]"
     ]
    },
    {
     "name": "stdout",
     "output_type": "stream",
     "text": [
      "Step 1470, train loss:0.3222, test loss:3.0323\n"
     ]
    },
    {
     "name": "stderr",
     "output_type": "stream",
     "text": [
      " 15%|█████████████████▎                                                                                                   | 1482/10000 [04:20<26:14,  5.41it/s]"
     ]
    },
    {
     "name": "stdout",
     "output_type": "stream",
     "text": [
      "Step 1480, train loss:0.3193, test loss:3.0351\n"
     ]
    },
    {
     "name": "stderr",
     "output_type": "stream",
     "text": [
      " 15%|█████████████████▍                                                                                                   | 1492/10000 [04:22<26:16,  5.40it/s]"
     ]
    },
    {
     "name": "stdout",
     "output_type": "stream",
     "text": [
      "Step 1490, train loss:0.3034, test loss:3.0278\n"
     ]
    },
    {
     "name": "stderr",
     "output_type": "stream",
     "text": [
      " 15%|█████████████████▌                                                                                                   | 1500/10000 [04:22<15:20,  9.23it/s]"
     ]
    },
    {
     "name": "stdout",
     "output_type": "stream",
     "text": [
      "Step 1500, train loss:0.3028, test loss:3.0384\n"
     ]
    },
    {
     "name": "stderr",
     "output_type": "stream",
     "text": [
      " 15%|█████████████████▎                                                                                                 | 1502/10000 [04:27<1:50:04,  1.29it/s]"
     ]
    },
    {
     "name": "stdout",
     "output_type": "stream",
     "text": [
      "\n",
      "\n",
      "SICINIUS:\n",
      "Have a cause to go by charm\n",
      "Be still then; and more incense their time\n",
      "When I weep fault I was respected with\n",
      "Hurn bag and yet a brain: but we part of him\n",
      "As that the present portal general\n",
      "Will be best beside: he wangs are he for\n",
      "Alack the world, an a fool in the sun\n",
      "And dies of heaven, and devour such a noble\n",
      "And a thousand straight to close thy sons,\n",
      "Death hath thyself to scorn us to turn the gift?\n",
      "Which once the soft killing? O fool! I think of\n",
      "recover her honour; 'tis not ten thoughts of our last;\n",
      "and then to crave a widow of their liking\n",
      "That victory my boars and clubs: them go\n",
      "To him that ere entered and make cries out\n",
      "Most audible, even from his propose to the\n",
      "entrails, and cried upon the anrich stamp'ds of knowledge!\n",
      "Make poor pounds! o' the earth, they do change thempelves\n",
      "As much as man's as heaven as my nature:\n",
      "Doth not then my life, how shall we do?\n",
      "Are so holds up Lancagiance, and with me\n",
      "Therefore, if absolute shall never could tell\n",
      "When he does bear her proper\n",
      "Step 1500, train loss:0.3172, test loss:2.9890\n"
     ]
    },
    {
     "name": "stderr",
     "output_type": "stream",
     "text": [
      " 15%|█████████████████▋                                                                                                   | 1512/10000 [04:28<39:52,  3.55it/s]"
     ]
    },
    {
     "name": "stdout",
     "output_type": "stream",
     "text": [
      "Step 1510, train loss:0.3022, test loss:3.0609\n"
     ]
    },
    {
     "name": "stderr",
     "output_type": "stream",
     "text": [
      " 15%|█████████████████▊                                                                                                   | 1522/10000 [04:30<28:08,  5.02it/s]"
     ]
    },
    {
     "name": "stdout",
     "output_type": "stream",
     "text": [
      "Step 1520, train loss:0.3050, test loss:3.0879\n"
     ]
    },
    {
     "name": "stderr",
     "output_type": "stream",
     "text": [
      " 15%|█████████████████▉                                                                                                   | 1532/10000 [04:31<26:08,  5.40it/s]"
     ]
    },
    {
     "name": "stdout",
     "output_type": "stream",
     "text": [
      "Step 1530, train loss:0.3029, test loss:3.0978\n"
     ]
    },
    {
     "name": "stderr",
     "output_type": "stream",
     "text": [
      " 15%|██████████████████                                                                                                   | 1542/10000 [04:32<25:51,  5.45it/s]"
     ]
    },
    {
     "name": "stdout",
     "output_type": "stream",
     "text": [
      "Step 1540, train loss:0.3090, test loss:3.1222\n"
     ]
    },
    {
     "name": "stderr",
     "output_type": "stream",
     "text": [
      " 16%|██████████████████▏                                                                                                  | 1552/10000 [04:34<25:48,  5.45it/s]"
     ]
    },
    {
     "name": "stdout",
     "output_type": "stream",
     "text": [
      "Step 1550, train loss:0.2953, test loss:3.1740\n"
     ]
    },
    {
     "name": "stderr",
     "output_type": "stream",
     "text": [
      " 16%|██████████████████▎                                                                                                  | 1562/10000 [04:35<25:43,  5.47it/s]"
     ]
    },
    {
     "name": "stdout",
     "output_type": "stream",
     "text": [
      "Step 1560, train loss:0.2925, test loss:3.1510\n"
     ]
    },
    {
     "name": "stderr",
     "output_type": "stream",
     "text": [
      " 16%|██████████████████▍                                                                                                  | 1572/10000 [04:37<25:45,  5.45it/s]"
     ]
    },
    {
     "name": "stdout",
     "output_type": "stream",
     "text": [
      "Step 1570, train loss:0.2851, test loss:3.1492\n"
     ]
    },
    {
     "name": "stderr",
     "output_type": "stream",
     "text": [
      " 16%|██████████████████▌                                                                                                  | 1582/10000 [04:38<25:45,  5.45it/s]"
     ]
    },
    {
     "name": "stdout",
     "output_type": "stream",
     "text": [
      "Step 1580, train loss:0.2811, test loss:3.1867\n"
     ]
    },
    {
     "name": "stderr",
     "output_type": "stream",
     "text": [
      " 16%|██████████████████▋                                                                                                  | 1592/10000 [04:39<25:44,  5.44it/s]"
     ]
    },
    {
     "name": "stdout",
     "output_type": "stream",
     "text": [
      "Step 1590, train loss:0.2849, test loss:3.1801\n"
     ]
    },
    {
     "name": "stderr",
     "output_type": "stream",
     "text": [
      " 16%|██████████████████▋                                                                                                  | 1600/10000 [04:40<15:09,  9.23it/s]"
     ]
    },
    {
     "name": "stdout",
     "output_type": "stream",
     "text": [
      "Step 1600, train loss:0.2756, test loss:3.1963\n"
     ]
    },
    {
     "name": "stderr",
     "output_type": "stream",
     "text": [
      " 16%|██████████████████▍                                                                                                | 1602/10000 [04:45<1:48:27,  1.29it/s]"
     ]
    },
    {
     "name": "stdout",
     "output_type": "stream",
     "text": [
      "\n",
      "\n",
      "JULIET:\n",
      "Yet let me know the best.\n",
      "\n",
      "ROMEO:\n",
      "Tybalt, the bloodce of the mother's pardon.\n",
      "\n",
      "First Soldier:\n",
      "Fear not, frowns, we'll make consul.\n",
      "\n",
      "First Senator:\n",
      "Now, sir, come.\n",
      "\n",
      "MENENIUS:\n",
      "Has not honest men; let him come down hour:\n",
      "Speak, Clifford, will you fiel him working.\n",
      "\n",
      "Second Murderer:\n",
      "A!ull as he be?\n",
      "\n",
      "First Murderer:\n",
      "Then he hath sprungess the rock in the him.\n",
      "\n",
      "Choler:\n",
      "You live your honour, play is fulfed about\n",
      "To pluck out of thy chair. Go, come to me;\n",
      "And, if you conceal it so?\n",
      "\n",
      "BRAKENBURY:\n",
      "Ay, my lord. God forgive my sins, and bid and cere\n",
      "Clifford for his mercy was or world hence;\n",
      "Put in the courage out look upon, and discords me\n",
      "and me will so much that my soul they have:\n",
      "If the king perfect danger that he forsworn\n",
      "At any he did behind himself with him,\n",
      "The rumour and his present portance of their\n",
      "febborn, the nobles of the pars that can grows! The\n",
      "duke's in our nothing which he justs in one.\n",
      "\n",
      "KING LEWIS XI:\n",
      "But stay apt o'ercome to kept it; for with us,\n",
      "Taking wastes' violence,\n",
      "Step 1600, train loss:0.2759, test loss:3.2197\n"
     ]
    },
    {
     "name": "stderr",
     "output_type": "stream",
     "text": [
      " 16%|██████████████████▊                                                                                                  | 1612/10000 [04:46<39:22,  3.55it/s]"
     ]
    },
    {
     "name": "stdout",
     "output_type": "stream",
     "text": [
      "Step 1610, train loss:0.2772, test loss:3.2627\n"
     ]
    },
    {
     "name": "stderr",
     "output_type": "stream",
     "text": [
      " 16%|██████████████████▉                                                                                                  | 1622/10000 [04:48<27:47,  5.02it/s]"
     ]
    },
    {
     "name": "stdout",
     "output_type": "stream",
     "text": [
      "Step 1620, train loss:0.2651, test loss:3.2423\n"
     ]
    },
    {
     "name": "stderr",
     "output_type": "stream",
     "text": [
      " 16%|███████████████████                                                                                                  | 1632/10000 [04:49<25:48,  5.41it/s]"
     ]
    },
    {
     "name": "stdout",
     "output_type": "stream",
     "text": [
      "Step 1630, train loss:0.2634, test loss:3.2522\n"
     ]
    },
    {
     "name": "stderr",
     "output_type": "stream",
     "text": [
      " 16%|███████████████████▏                                                                                                 | 1642/10000 [04:50<25:30,  5.46it/s]"
     ]
    },
    {
     "name": "stdout",
     "output_type": "stream",
     "text": [
      "Step 1640, train loss:0.2715, test loss:3.2421\n"
     ]
    },
    {
     "name": "stderr",
     "output_type": "stream",
     "text": [
      " 17%|███████████████████▎                                                                                                 | 1652/10000 [04:52<25:31,  5.45it/s]"
     ]
    },
    {
     "name": "stdout",
     "output_type": "stream",
     "text": [
      "Step 1650, train loss:0.2594, test loss:3.2775\n"
     ]
    },
    {
     "name": "stderr",
     "output_type": "stream",
     "text": [
      " 17%|███████████████████▍                                                                                                 | 1662/10000 [04:53<25:27,  5.46it/s]"
     ]
    },
    {
     "name": "stdout",
     "output_type": "stream",
     "text": [
      "Step 1660, train loss:0.2585, test loss:3.2910\n"
     ]
    },
    {
     "name": "stderr",
     "output_type": "stream",
     "text": [
      " 17%|███████████████████▌                                                                                                 | 1672/10000 [04:54<25:29,  5.45it/s]"
     ]
    },
    {
     "name": "stdout",
     "output_type": "stream",
     "text": [
      "Step 1670, train loss:0.2587, test loss:3.3190\n"
     ]
    },
    {
     "name": "stderr",
     "output_type": "stream",
     "text": [
      " 17%|███████████████████▋                                                                                                 | 1682/10000 [04:56<25:27,  5.45it/s]"
     ]
    },
    {
     "name": "stdout",
     "output_type": "stream",
     "text": [
      "Step 1680, train loss:0.2453, test loss:3.3223\n"
     ]
    },
    {
     "name": "stderr",
     "output_type": "stream",
     "text": [
      " 17%|███████████████████▊                                                                                                 | 1692/10000 [04:57<25:25,  5.45it/s]"
     ]
    },
    {
     "name": "stdout",
     "output_type": "stream",
     "text": [
      "Step 1690, train loss:0.2556, test loss:3.2668\n"
     ]
    },
    {
     "name": "stderr",
     "output_type": "stream",
     "text": [
      " 17%|███████████████████▉                                                                                                 | 1700/10000 [04:58<15:00,  9.22it/s]"
     ]
    },
    {
     "name": "stdout",
     "output_type": "stream",
     "text": [
      "Step 1700, train loss:0.2502, test loss:3.3180\n"
     ]
    },
    {
     "name": "stderr",
     "output_type": "stream",
     "text": [
      " 17%|███████████████████▌                                                                                               | 1702/10000 [05:03<1:47:12,  1.29it/s]"
     ]
    },
    {
     "name": "stdout",
     "output_type": "stream",
     "text": [
      "\n",
      "\n",
      "NORTHUMBERLAND:\n",
      "The news is very fair and good, my lord:\n",
      "Richard not far from hence hath hid his head.\n",
      "\n",
      "DUKE OF YORK:\n",
      "'Tis but thy name is Elbow: come all then.\n",
      "\n",
      "KING EDWARD IV:\n",
      "If thou be men, I fear thy conspiracy,\n",
      "Or like a guest nor call me hence in thee.\n",
      "\n",
      "LADY ANNE:\n",
      "O just, alandy! mock me, good comfort!\n",
      "For every pelper than the wind ather man.\n",
      "Qome trust I may be well: be content'd for the gillytake,\n",
      "With those guests and then they changed's eldest soul.\n",
      "For them they love they have under them, but rule forth\n",
      "A call'd in downright and bereaven here in them\n",
      "Against the tyrannous and the third in the world\n",
      "To seek the eagle, who day discontented\n",
      "In every precious pervices that he\n",
      "Does not that war strength in the heard a licol!\n",
      "You shall have none ill, sir?\n",
      "\n",
      "FLORIZEL:\n",
      "And fires said the gown of her our king,\n",
      "With whom the beauty arithment and from her\n",
      "As easy dear Juliet's given, here;\n",
      "It should be thine.\n",
      "\n",
      "CAMILLO:\n",
      "He's gracious silence, how deadly son!\n",
      "\n",
      "BUSHY:\n",
      "And that is needful\n",
      "Step 1700, train loss:0.2428, test loss:3.3155\n"
     ]
    },
    {
     "name": "stderr",
     "output_type": "stream",
     "text": [
      " 17%|████████████████████                                                                                                 | 1712/10000 [05:04<38:51,  3.55it/s]"
     ]
    },
    {
     "name": "stdout",
     "output_type": "stream",
     "text": [
      "Step 1710, train loss:0.2402, test loss:3.3912\n"
     ]
    },
    {
     "name": "stderr",
     "output_type": "stream",
     "text": [
      " 17%|████████████████████▏                                                                                                | 1722/10000 [05:05<27:26,  5.03it/s]"
     ]
    },
    {
     "name": "stdout",
     "output_type": "stream",
     "text": [
      "Step 1720, train loss:0.2342, test loss:3.4143\n"
     ]
    },
    {
     "name": "stderr",
     "output_type": "stream",
     "text": [
      " 17%|████████████████████▎                                                                                                | 1732/10000 [05:07<25:32,  5.40it/s]"
     ]
    },
    {
     "name": "stdout",
     "output_type": "stream",
     "text": [
      "Step 1730, train loss:0.2340, test loss:3.3839\n"
     ]
    },
    {
     "name": "stderr",
     "output_type": "stream",
     "text": [
      " 17%|████████████████████▍                                                                                                | 1742/10000 [05:08<25:14,  5.45it/s]"
     ]
    },
    {
     "name": "stdout",
     "output_type": "stream",
     "text": [
      "Step 1740, train loss:0.2424, test loss:3.4052\n"
     ]
    },
    {
     "name": "stderr",
     "output_type": "stream",
     "text": [
      " 18%|████████████████████▍                                                                                                | 1752/10000 [05:10<25:11,  5.46it/s]"
     ]
    },
    {
     "name": "stdout",
     "output_type": "stream",
     "text": [
      "Step 1750, train loss:0.2319, test loss:3.3728\n"
     ]
    },
    {
     "name": "stderr",
     "output_type": "stream",
     "text": [
      " 18%|████████████████████▌                                                                                                | 1762/10000 [05:11<25:10,  5.45it/s]"
     ]
    },
    {
     "name": "stdout",
     "output_type": "stream",
     "text": [
      "Step 1760, train loss:0.2306, test loss:3.4194\n"
     ]
    },
    {
     "name": "stderr",
     "output_type": "stream",
     "text": [
      " 18%|████████████████████▋                                                                                                | 1772/10000 [05:12<25:10,  5.45it/s]"
     ]
    },
    {
     "name": "stdout",
     "output_type": "stream",
     "text": [
      "Step 1770, train loss:0.2209, test loss:3.4487\n"
     ]
    },
    {
     "name": "stderr",
     "output_type": "stream",
     "text": [
      " 18%|████████████████████▊                                                                                                | 1782/10000 [05:14<25:11,  5.44it/s]"
     ]
    },
    {
     "name": "stdout",
     "output_type": "stream",
     "text": [
      "Step 1780, train loss:0.2333, test loss:3.4771\n"
     ]
    },
    {
     "name": "stderr",
     "output_type": "stream",
     "text": [
      " 18%|████████████████████▉                                                                                                | 1792/10000 [05:15<25:07,  5.44it/s]"
     ]
    },
    {
     "name": "stdout",
     "output_type": "stream",
     "text": [
      "Step 1790, train loss:0.2207, test loss:3.4721\n"
     ]
    },
    {
     "name": "stderr",
     "output_type": "stream",
     "text": [
      " 18%|█████████████████████                                                                                                | 1800/10000 [05:16<14:47,  9.24it/s]"
     ]
    },
    {
     "name": "stdout",
     "output_type": "stream",
     "text": [
      "Step 1800, train loss:0.2252, test loss:3.5692\n"
     ]
    },
    {
     "name": "stderr",
     "output_type": "stream",
     "text": [
      " 18%|████████████████████▋                                                                                              | 1802/10000 [05:20<1:45:32,  1.29it/s]"
     ]
    },
    {
     "name": "stdout",
     "output_type": "stream",
     "text": [
      "\n",
      "\n",
      "BRUTUS:\n",
      "Why then should you find us unbuilded?\n",
      "\n",
      "SICINIUS:\n",
      "Hath set the desire of the people?\n",
      "\n",
      "CORIOLANUS:\n",
      "That which I did weep myn for the lists,\n",
      "Both feeding, greet I thee, make to my ear,\n",
      "No heart's\n",
      "Than they are mine, even young men thrive work\n",
      "And am your fellow Tranio in your mouth:\n",
      "Tranio is spoken, in the power lost\n",
      "What Cled with the warlike Surrey sleward\n",
      "Most the tale to send him still refient\n",
      "Whil'er the sea put of his house, sir,\n",
      "Can change the sweet with his speed so farth.\n",
      "\n",
      "HENRY BOLINGBROKE:\n",
      "What men mads be?\n",
      "\n",
      "DUKE OF YORK:\n",
      "To great merchant of remember who bids my state.\n",
      "\n",
      "KING RICHARD II:\n",
      "Hark ye, your Romeo will change you all are and mine?\n",
      "\n",
      "JOHN OF GAUNT:\n",
      "To take is to fare.\n",
      "Thy head is weary at 'scape:'\n",
      "And thereto make Oxwomt mine own Lord of reposing,\n",
      "Bade's well to Brcome it on my love:\n",
      "Sir, Tybalt is granted no more but than mine,\n",
      "Who is as from me and cheer execution.\n",
      "As that talk of cares their gentle parks\n",
      "In this on my faith and honour, to make his,\n",
      "And make\n",
      "Step 1800, train loss:0.2210, test loss:3.6378\n"
     ]
    },
    {
     "name": "stderr",
     "output_type": "stream",
     "text": [
      " 18%|█████████████████████▏                                                                                               | 1812/10000 [05:22<38:25,  3.55it/s]"
     ]
    },
    {
     "name": "stdout",
     "output_type": "stream",
     "text": [
      "Step 1810, train loss:0.2127, test loss:3.4760\n"
     ]
    },
    {
     "name": "stderr",
     "output_type": "stream",
     "text": [
      " 18%|█████████████████████▎                                                                                               | 1822/10000 [05:23<27:07,  5.03it/s]"
     ]
    },
    {
     "name": "stdout",
     "output_type": "stream",
     "text": [
      "Step 1820, train loss:0.2208, test loss:3.5483\n"
     ]
    },
    {
     "name": "stderr",
     "output_type": "stream",
     "text": [
      " 18%|█████████████████████▍                                                                                               | 1832/10000 [05:25<25:12,  5.40it/s]"
     ]
    },
    {
     "name": "stdout",
     "output_type": "stream",
     "text": [
      "Step 1830, train loss:0.2164, test loss:3.5766\n"
     ]
    },
    {
     "name": "stderr",
     "output_type": "stream",
     "text": [
      " 18%|█████████████████████▌                                                                                               | 1842/10000 [05:26<24:52,  5.47it/s]"
     ]
    },
    {
     "name": "stdout",
     "output_type": "stream",
     "text": [
      "Step 1840, train loss:0.2169, test loss:3.5472\n"
     ]
    },
    {
     "name": "stderr",
     "output_type": "stream",
     "text": [
      " 19%|█████████████████████▋                                                                                               | 1852/10000 [05:27<24:47,  5.48it/s]"
     ]
    },
    {
     "name": "stdout",
     "output_type": "stream",
     "text": [
      "Step 1850, train loss:0.2121, test loss:3.4649\n"
     ]
    },
    {
     "name": "stderr",
     "output_type": "stream",
     "text": [
      " 19%|█████████████████████▊                                                                                               | 1862/10000 [05:29<24:48,  5.47it/s]"
     ]
    },
    {
     "name": "stdout",
     "output_type": "stream",
     "text": [
      "Step 1860, train loss:0.2111, test loss:3.5499\n"
     ]
    },
    {
     "name": "stderr",
     "output_type": "stream",
     "text": [
      " 19%|█████████████████████▉                                                                                               | 1872/10000 [05:30<24:46,  5.47it/s]"
     ]
    },
    {
     "name": "stdout",
     "output_type": "stream",
     "text": [
      "Step 1870, train loss:0.2198, test loss:3.6149\n"
     ]
    },
    {
     "name": "stderr",
     "output_type": "stream",
     "text": [
      " 19%|██████████████████████                                                                                               | 1882/10000 [05:31<24:52,  5.44it/s]"
     ]
    },
    {
     "name": "stdout",
     "output_type": "stream",
     "text": [
      "Step 1880, train loss:0.2070, test loss:3.6255\n"
     ]
    },
    {
     "name": "stderr",
     "output_type": "stream",
     "text": [
      " 19%|██████████████████████▏                                                                                              | 1892/10000 [05:33<24:50,  5.44it/s]"
     ]
    },
    {
     "name": "stdout",
     "output_type": "stream",
     "text": [
      "Step 1890, train loss:0.2098, test loss:3.5311\n"
     ]
    },
    {
     "name": "stderr",
     "output_type": "stream",
     "text": [
      " 19%|██████████████████████▏                                                                                              | 1900/10000 [05:34<14:35,  9.25it/s]"
     ]
    },
    {
     "name": "stdout",
     "output_type": "stream",
     "text": [
      "Step 1900, train loss:0.2069, test loss:3.5404\n"
     ]
    },
    {
     "name": "stderr",
     "output_type": "stream",
     "text": [
      " 19%|█████████████████████▊                                                                                             | 1902/10000 [05:38<1:46:17,  1.27it/s]"
     ]
    },
    {
     "name": "stdout",
     "output_type": "stream",
     "text": [
      "\n",
      "\n",
      "KING merrily.\n",
      "\n",
      "SICINIUS:\n",
      "Go tell the people:\n",
      "You will have you do it kindly with the citizens,\n",
      "Lest you behold the bell: speak it again.\n",
      "\n",
      "CORIOLANUS:\n",
      "I did not I, her:\n",
      "But my arms and banish'd Engarants\n",
      "That they they do not knowledge. By the poor\n",
      "Perchance is letter; or the king's water\n",
      "May be rough w'd a fearful fly: and swallow me\n",
      "The lads and given to one for either swords,\n",
      "But meet anon, take almost stole,\n",
      "That mistake the hollow of the Antiates\n",
      "That when he may dighter away the drops!\n",
      "Give me another was, and justified\n",
      "Who is in Romeo!\n",
      "\n",
      "PAULINGS:\n",
      "Was ever king so far I may give;\n",
      "But he, as thou hast object me, thy kind woose,\n",
      "Her only that I  murder'd my soul's hand\n",
      "Being blank'stable there affriction.\n",
      "Made him in Bore to Laura Untant,\n",
      "The Lord of Somerset, which stand I account\n",
      "'Tis strength without it, at what discourtesy,\n",
      "Where be shive befiex the hard way with the gazing.\n",
      "\n",
      "ROMEO:\n",
      "But sound'?\n",
      "\n",
      "BENVOlD:\n",
      "What counsel on my head, what wouldst thou had\n",
      "My wardly entreaty to my kin\n",
      "Step 1900, train loss:0.2052, test loss:3.6017\n"
     ]
    },
    {
     "name": "stderr",
     "output_type": "stream",
     "text": [
      " 19%|██████████████████████▎                                                                                              | 1912/10000 [05:40<38:17,  3.52it/s]"
     ]
    },
    {
     "name": "stdout",
     "output_type": "stream",
     "text": [
      "Step 1910, train loss:0.2025, test loss:3.6660\n"
     ]
    },
    {
     "name": "stderr",
     "output_type": "stream",
     "text": [
      " 19%|██████████████████████▍                                                                                              | 1922/10000 [05:41<26:50,  5.02it/s]"
     ]
    },
    {
     "name": "stdout",
     "output_type": "stream",
     "text": [
      "Step 1920, train loss:0.2037, test loss:3.6182\n"
     ]
    },
    {
     "name": "stderr",
     "output_type": "stream",
     "text": [
      " 19%|██████████████████████▌                                                                                              | 1932/10000 [05:42<24:54,  5.40it/s]"
     ]
    },
    {
     "name": "stdout",
     "output_type": "stream",
     "text": [
      "Step 1930, train loss:0.2005, test loss:3.6247\n"
     ]
    },
    {
     "name": "stderr",
     "output_type": "stream",
     "text": [
      " 19%|██████████████████████▋                                                                                              | 1942/10000 [05:44<24:34,  5.46it/s]"
     ]
    },
    {
     "name": "stdout",
     "output_type": "stream",
     "text": [
      "Step 1940, train loss:0.2044, test loss:3.6667\n"
     ]
    },
    {
     "name": "stderr",
     "output_type": "stream",
     "text": [
      " 20%|██████████████████████▊                                                                                              | 1952/10000 [05:45<24:32,  5.46it/s]"
     ]
    },
    {
     "name": "stdout",
     "output_type": "stream",
     "text": [
      "Step 1950, train loss:0.1972, test loss:3.6283\n"
     ]
    },
    {
     "name": "stderr",
     "output_type": "stream",
     "text": [
      " 20%|██████████████████████▉                                                                                              | 1962/10000 [05:47<24:32,  5.46it/s]"
     ]
    },
    {
     "name": "stdout",
     "output_type": "stream",
     "text": [
      "Step 1960, train loss:0.1924, test loss:3.6955\n"
     ]
    },
    {
     "name": "stderr",
     "output_type": "stream",
     "text": [
      " 20%|███████████████████████                                                                                              | 1972/10000 [05:48<24:32,  5.45it/s]"
     ]
    },
    {
     "name": "stdout",
     "output_type": "stream",
     "text": [
      "Step 1970, train loss:0.1933, test loss:3.6993\n"
     ]
    },
    {
     "name": "stderr",
     "output_type": "stream",
     "text": [
      " 20%|███████████████████████▏                                                                                             | 1982/10000 [05:49<24:31,  5.45it/s]"
     ]
    },
    {
     "name": "stdout",
     "output_type": "stream",
     "text": [
      "Step 1980, train loss:0.1945, test loss:3.7001\n"
     ]
    },
    {
     "name": "stderr",
     "output_type": "stream",
     "text": [
      " 20%|███████████████████████▎                                                                                             | 1992/10000 [05:51<24:30,  5.45it/s]"
     ]
    },
    {
     "name": "stdout",
     "output_type": "stream",
     "text": [
      "Step 1990, train loss:0.1945, test loss:3.6753\n"
     ]
    },
    {
     "name": "stderr",
     "output_type": "stream",
     "text": [
      " 20%|███████████████████████▍                                                                                             | 2000/10000 [05:51<14:27,  9.22it/s]"
     ]
    },
    {
     "name": "stdout",
     "output_type": "stream",
     "text": [
      "Step 2000, train loss:0.1852, test loss:3.7454\n"
     ]
    },
    {
     "name": "stderr",
     "output_type": "stream",
     "text": [
      " 20%|███████████████████████                                                                                            | 2002/10000 [05:56<1:44:26,  1.28it/s]"
     ]
    },
    {
     "name": "stdout",
     "output_type": "stream",
     "text": [
      "\n",
      "\n",
      "Pursuivant.\n",
      "Welcome, Clifford, pitiful truggest-malchion--where\n",
      "I thought thou shalt make that I must excuse.\n",
      "I thought it myself in hazards too much.\n",
      "There is my purse to commit me masking:\n",
      "any, it were stand upon our arraign toe!--\n",
      "In graceZ-phead had menril, arbour of resolved.\n",
      "Most mighty, if justify have I unto the Tower.\n",
      "Prepare thy slaughter'd, and thou shalt quive thither\n",
      "To gnaw these robes encounters, which slew makes unquish'd.\n",
      "\n",
      "GLOUCESTER:\n",
      "He that bereft thee, lady, of thy husband,\n",
      "Did it to help thee to a better husband.\n",
      "Have I thought long to see thy life and thy belong\n",
      "Are on thy mother's name is ringest daughter\n",
      "'Pardon' should be 'longing the king's life.\n",
      "\n",
      "FRIAR LAURENCE:\n",
      "The duty is dead; and yet it within the hand that\n",
      "loved his body.\n",
      "\n",
      "LEONTES:\n",
      "Good Paulina,\n",
      "Who hast the memory of Hermione,\n",
      "I know, in honour, O, that e'er I\n",
      "Had squared me to the course! Why dost thou say King Richard?\n",
      "My dear-loving too, my peace is made.\n",
      "\n",
      "LADY ANNE:\n",
      "Name to joy; but I will not hear \n",
      "Step 2000, train loss:0.1913, test loss:3.7499\n"
     ]
    },
    {
     "name": "stderr",
     "output_type": "stream",
     "text": [
      " 20%|███████████████████████▌                                                                                             | 2012/10000 [05:58<37:38,  3.54it/s]"
     ]
    },
    {
     "name": "stdout",
     "output_type": "stream",
     "text": [
      "Step 2010, train loss:0.1854, test loss:3.7874\n"
     ]
    },
    {
     "name": "stderr",
     "output_type": "stream",
     "text": [
      " 20%|███████████████████████▋                                                                                             | 2022/10000 [05:59<26:29,  5.02it/s]"
     ]
    },
    {
     "name": "stdout",
     "output_type": "stream",
     "text": [
      "Step 2020, train loss:0.1875, test loss:3.7611\n"
     ]
    },
    {
     "name": "stderr",
     "output_type": "stream",
     "text": [
      " 20%|███████████████████████▊                                                                                             | 2032/10000 [06:00<24:36,  5.40it/s]"
     ]
    },
    {
     "name": "stdout",
     "output_type": "stream",
     "text": [
      "Step 2030, train loss:0.1866, test loss:3.7532\n"
     ]
    },
    {
     "name": "stderr",
     "output_type": "stream",
     "text": [
      " 20%|███████████████████████▉                                                                                             | 2042/10000 [06:02<24:17,  5.46it/s]"
     ]
    },
    {
     "name": "stdout",
     "output_type": "stream",
     "text": [
      "Step 2040, train loss:0.1843, test loss:3.7868\n"
     ]
    },
    {
     "name": "stderr",
     "output_type": "stream",
     "text": [
      " 21%|████████████████████████                                                                                             | 2052/10000 [06:03<24:11,  5.47it/s]"
     ]
    },
    {
     "name": "stdout",
     "output_type": "stream",
     "text": [
      "Step 2050, train loss:0.1855, test loss:3.7406\n"
     ]
    },
    {
     "name": "stderr",
     "output_type": "stream",
     "text": [
      " 21%|████████████████████████▏                                                                                            | 2062/10000 [06:04<24:11,  5.47it/s]"
     ]
    },
    {
     "name": "stdout",
     "output_type": "stream",
     "text": [
      "Step 2060, train loss:0.1823, test loss:3.8491\n"
     ]
    },
    {
     "name": "stderr",
     "output_type": "stream",
     "text": [
      " 21%|████████████████████████▏                                                                                            | 2072/10000 [06:06<24:12,  5.46it/s]"
     ]
    },
    {
     "name": "stdout",
     "output_type": "stream",
     "text": [
      "Step 2070, train loss:0.1854, test loss:3.8220\n"
     ]
    },
    {
     "name": "stderr",
     "output_type": "stream",
     "text": [
      " 21%|████████████████████████▎                                                                                            | 2082/10000 [06:07<24:08,  5.47it/s]"
     ]
    },
    {
     "name": "stdout",
     "output_type": "stream",
     "text": [
      "Step 2080, train loss:0.1799, test loss:3.7562\n"
     ]
    },
    {
     "name": "stderr",
     "output_type": "stream",
     "text": [
      " 21%|████████████████████████▍                                                                                            | 2092/10000 [06:09<24:10,  5.45it/s]"
     ]
    },
    {
     "name": "stdout",
     "output_type": "stream",
     "text": [
      "Step 2090, train loss:0.1778, test loss:3.8388\n"
     ]
    },
    {
     "name": "stderr",
     "output_type": "stream",
     "text": [
      " 21%|████████████████████████▌                                                                                            | 2100/10000 [06:09<14:10,  9.29it/s]"
     ]
    },
    {
     "name": "stdout",
     "output_type": "stream",
     "text": [
      "Step 2100, train loss:0.1801, test loss:3.8091\n"
     ]
    },
    {
     "name": "stderr",
     "output_type": "stream",
     "text": [
      " 21%|████████████████████████▏                                                                                          | 2102/10000 [06:14<1:47:45,  1.22it/s]"
     ]
    },
    {
     "name": "stdout",
     "output_type": "stream",
     "text": [
      "\n",
      "\n",
      "ESCALUS:\n",
      "How would you live, Pompey? by being a bawd? What\n",
      "was a bawd to give great that he is at hand?\n",
      "\n",
      "LEONTES:\n",
      "A Harry Bolingbroke.\n",
      "\n",
      "PAULINA:\n",
      "You have done to him?\n",
      "\n",
      "Provost:\n",
      "None, since. Can you, sir, come him less your converses; be\n",
      "thine own contents.\n",
      "\n",
      "CORIOLANUS:\n",
      "Give me thy hand: Come.\n",
      "\n",
      "Second Servingman:\n",
      "I' the matter: pray you, sir, look your birth.\n",
      "\n",
      "CORIOLANUS:\n",
      "The gods begin to mock me.\n",
      "\n",
      "CORIOLANUS:\n",
      "True, so I am.\n",
      "\n",
      "Third STINGS:\n",
      "A fellow.\n",
      "\n",
      "Clown:\n",
      "Pray your tent.\n",
      "\n",
      "CORIOLANUS:\n",
      "So then to me?\n",
      "\n",
      "SICINIUS:\n",
      "No, sweet faction, now.\n",
      "\n",
      "CORIOLANUS:\n",
      "So the next me i'?\n",
      "\n",
      "LARTIUS:\n",
      "O,\n",
      "'Tis so: and the heart will fly to our own in.\n",
      "\n",
      "Citizens:\n",
      "The king's name changes, envey'd at Milfort; for thou\n",
      "Turn great to see his lustter and the king;\n",
      "Commend them and condemn'd to himself.\n",
      "\n",
      "First Senator:\n",
      "My father's maid and his mind:\n",
      "The very liquid can rage; and then to any he\n",
      "What victory Warwick's bones. I beseech thee\n",
      "My misery hath terrible conceited\n",
      "To say extremities with you of such ang\n",
      "So many \n",
      "Step 2100, train loss:0.1786, test loss:3.7581\n"
     ]
    },
    {
     "name": "stderr",
     "output_type": "stream",
     "text": [
      " 21%|████████████████████████▋                                                                                            | 2112/10000 [06:16<37:57,  3.46it/s]"
     ]
    },
    {
     "name": "stdout",
     "output_type": "stream",
     "text": [
      "Step 2110, train loss:0.1748, test loss:3.8881\n"
     ]
    },
    {
     "name": "stderr",
     "output_type": "stream",
     "text": [
      " 21%|████████████████████████▊                                                                                            | 2122/10000 [06:17<26:12,  5.01it/s]"
     ]
    },
    {
     "name": "stdout",
     "output_type": "stream",
     "text": [
      "Step 2120, train loss:0.1792, test loss:3.8422\n"
     ]
    },
    {
     "name": "stderr",
     "output_type": "stream",
     "text": [
      " 21%|████████████████████████▉                                                                                            | 2132/10000 [06:18<24:13,  5.41it/s]"
     ]
    },
    {
     "name": "stdout",
     "output_type": "stream",
     "text": [
      "Step 2130, train loss:0.1753, test loss:3.8770\n"
     ]
    },
    {
     "name": "stderr",
     "output_type": "stream",
     "text": [
      " 21%|█████████████████████████                                                                                            | 2142/10000 [06:20<23:55,  5.47it/s]"
     ]
    },
    {
     "name": "stdout",
     "output_type": "stream",
     "text": [
      "Step 2140, train loss:0.1771, test loss:3.8839\n"
     ]
    },
    {
     "name": "stderr",
     "output_type": "stream",
     "text": [
      " 22%|█████████████████████████▏                                                                                           | 2152/10000 [06:21<23:52,  5.48it/s]"
     ]
    },
    {
     "name": "stdout",
     "output_type": "stream",
     "text": [
      "Step 2150, train loss:0.1721, test loss:3.8270\n"
     ]
    },
    {
     "name": "stderr",
     "output_type": "stream",
     "text": [
      " 22%|█████████████████████████▎                                                                                           | 2162/10000 [06:23<23:55,  5.46it/s]"
     ]
    },
    {
     "name": "stdout",
     "output_type": "stream",
     "text": [
      "Step 2160, train loss:0.1749, test loss:3.8860\n"
     ]
    },
    {
     "name": "stderr",
     "output_type": "stream",
     "text": [
      " 22%|█████████████████████████▍                                                                                           | 2172/10000 [06:24<23:50,  5.47it/s]"
     ]
    },
    {
     "name": "stdout",
     "output_type": "stream",
     "text": [
      "Step 2170, train loss:0.1746, test loss:3.8538\n"
     ]
    },
    {
     "name": "stderr",
     "output_type": "stream",
     "text": [
      " 22%|█████████████████████████▌                                                                                           | 2182/10000 [06:25<23:54,  5.45it/s]"
     ]
    },
    {
     "name": "stdout",
     "output_type": "stream",
     "text": [
      "Step 2180, train loss:0.1740, test loss:3.9448\n"
     ]
    },
    {
     "name": "stderr",
     "output_type": "stream",
     "text": [
      " 22%|█████████████████████████▋                                                                                           | 2192/10000 [06:27<23:54,  5.44it/s]"
     ]
    },
    {
     "name": "stdout",
     "output_type": "stream",
     "text": [
      "Step 2190, train loss:0.1717, test loss:3.8785\n"
     ]
    },
    {
     "name": "stderr",
     "output_type": "stream",
     "text": [
      " 22%|█████████████████████████▋                                                                                           | 2200/10000 [06:27<14:03,  9.24it/s]"
     ]
    },
    {
     "name": "stdout",
     "output_type": "stream",
     "text": [
      "Step 2200, train loss:0.1702, test loss:3.9362\n"
     ]
    },
    {
     "name": "stderr",
     "output_type": "stream",
     "text": [
      " 22%|█████████████████████████▎                                                                                         | 2202/10000 [06:32<1:40:50,  1.29it/s]"
     ]
    },
    {
     "name": "stdout",
     "output_type": "stream",
     "text": [
      "\n",
      "\n",
      "First Citizen:\n",
      "By heaven, I will part his country: so do you\n",
      "what your good worship in your country's good?\n",
      "\n",
      "Third Citizen:\n",
      "Nay, you say the prayers from the Volsces stand in summer\n",
      "In private; as 'twere a break of rage!\n",
      "Here where you firmly a Roman?\n",
      "\n",
      "First Roman:\n",
      "Therefore the day fight: bid him leaden spirit\n",
      "To mortal toward him choose to lay my suot.\n",
      "\n",
      "Nurse:\n",
      "\n",
      "Nurse:\n",
      "Well, you are leave to meet the devil.\n",
      "Welcome, good Mercutio, thou but R have the\n",
      "dole-ent a brawling drink: I like not light.\n",
      "\n",
      "RIVERS:\n",
      "Were I am committed. Good my lords,\n",
      "I' the war, yet shall short it is the business.\n",
      "\n",
      "QUEEN MARGARET:\n",
      "So part we sadly in this troublous world,\n",
      "To merite how to love the bed:\n",
      "I have new brother, hearing any longer.\n",
      "\n",
      "GLOUCESTER:\n",
      "He that bereft them let the vile that grine\n",
      "That he doth see all discords reverce:\n",
      "Unspeak no more.\n",
      "\n",
      "PRINCE EDWARD:\n",
      "I know it clutverle, will think--but I will not\n",
      "Judden by my soul thou overheardine\n",
      "With cloth of great death.\n",
      "\n",
      "BENVOLIO:\n",
      "There lies sure Romeo's m\n",
      "Step 2200, train loss:0.1656, test loss:3.9398\n"
     ]
    },
    {
     "name": "stderr",
     "output_type": "stream",
     "text": [
      " 22%|█████████████████████████▉                                                                                           | 2212/10000 [06:33<36:35,  3.55it/s]"
     ]
    },
    {
     "name": "stdout",
     "output_type": "stream",
     "text": [
      "Step 2210, train loss:0.1717, test loss:3.9673\n"
     ]
    },
    {
     "name": "stderr",
     "output_type": "stream",
     "text": [
      " 22%|█████████████████████████▉                                                                                           | 2222/10000 [06:35<25:47,  5.03it/s]"
     ]
    },
    {
     "name": "stdout",
     "output_type": "stream",
     "text": [
      "Step 2220, train loss:0.1662, test loss:3.9051\n"
     ]
    },
    {
     "name": "stderr",
     "output_type": "stream",
     "text": [
      " 22%|██████████████████████████                                                                                           | 2232/10000 [06:36<23:59,  5.39it/s]"
     ]
    },
    {
     "name": "stdout",
     "output_type": "stream",
     "text": [
      "Step 2230, train loss:0.1691, test loss:3.9318\n"
     ]
    },
    {
     "name": "stderr",
     "output_type": "stream",
     "text": [
      " 22%|██████████████████████████▏                                                                                          | 2242/10000 [06:38<23:41,  5.46it/s]"
     ]
    },
    {
     "name": "stdout",
     "output_type": "stream",
     "text": [
      "Step 2240, train loss:0.1687, test loss:3.9220\n"
     ]
    },
    {
     "name": "stderr",
     "output_type": "stream",
     "text": [
      " 23%|██████████████████████████▎                                                                                          | 2252/10000 [06:39<23:40,  5.45it/s]"
     ]
    },
    {
     "name": "stdout",
     "output_type": "stream",
     "text": [
      "Step 2250, train loss:0.1651, test loss:4.0176\n"
     ]
    },
    {
     "name": "stderr",
     "output_type": "stream",
     "text": [
      " 23%|██████████████████████████▍                                                                                          | 2262/10000 [06:40<23:36,  5.46it/s]"
     ]
    },
    {
     "name": "stdout",
     "output_type": "stream",
     "text": [
      "Step 2260, train loss:0.1653, test loss:4.0157\n"
     ]
    },
    {
     "name": "stderr",
     "output_type": "stream",
     "text": [
      " 23%|██████████████████████████▌                                                                                          | 2272/10000 [06:42<23:34,  5.46it/s]"
     ]
    },
    {
     "name": "stdout",
     "output_type": "stream",
     "text": [
      "Step 2270, train loss:0.1701, test loss:3.9519\n"
     ]
    },
    {
     "name": "stderr",
     "output_type": "stream",
     "text": [
      " 23%|██████████████████████████▋                                                                                          | 2282/10000 [06:43<23:35,  5.45it/s]"
     ]
    },
    {
     "name": "stdout",
     "output_type": "stream",
     "text": [
      "Step 2280, train loss:0.1654, test loss:3.9181\n"
     ]
    },
    {
     "name": "stderr",
     "output_type": "stream",
     "text": [
      " 23%|██████████████████████████▊                                                                                          | 2292/10000 [06:45<23:33,  5.45it/s]"
     ]
    },
    {
     "name": "stdout",
     "output_type": "stream",
     "text": [
      "Step 2290, train loss:0.1633, test loss:3.9893\n"
     ]
    },
    {
     "name": "stderr",
     "output_type": "stream",
     "text": [
      " 23%|██████████████████████████▉                                                                                          | 2300/10000 [06:45<13:50,  9.27it/s]"
     ]
    },
    {
     "name": "stdout",
     "output_type": "stream",
     "text": [
      "Step 2300, train loss:0.1671, test loss:4.0502\n"
     ]
    },
    {
     "name": "stderr",
     "output_type": "stream",
     "text": [
      " 23%|██████████████████████████▍                                                                                        | 2302/10000 [06:50<1:40:20,  1.28it/s]"
     ]
    },
    {
     "name": "stdout",
     "output_type": "stream",
     "text": [
      "\n",
      "\n",
      "LEONTES:\n",
      "You, Lord Buckingham; am for your part,\n",
      "Like to die, with myself as good act!\n",
      "Then thieve to justice hath hid a thoughts on\n",
      "To do him good: obehin me to all this when\n",
      "Throng the admiral and to be wild, I warrant a\n",
      "royal prince agree with old fearful us\n",
      "Wert enough to shame the field I so very live,\n",
      "Since suffer'd me from me to know our due of disin\n",
      "Was stance to age, but in angue four.\n",
      "\n",
      "QUEEN MARGARET:\n",
      "Great least one of those world they said that hath done.\n",
      "\n",
      "HENRY BOLINGBROKE:\n",
      "As dissolute done, I have thee still thy entreaty\n",
      "and give dire in their stooping the fishes and\n",
      "the third the isve to come.\n",
      "\n",
      "First Servant:\n",
      "Prevenge you, I have it for my three years\n",
      "I saw the accuser from the ground.\n",
      "\n",
      "KING RICHARD II:\n",
      "How long shall I behold thee?\n",
      "\n",
      "Page:\n",
      "My lord, stand back, and virtue not my speed;\n",
      "Dorse son, our state is a garm there with his light.\n",
      "\n",
      "DUKE OF AUMERLE:\n",
      "Who sets me else? by his faces are gone.\n",
      "Then if Henry lives  one gracious Grey,\n",
      "And of their vushion, like a deed in\n",
      "Step 2300, train loss:0.1668, test loss:3.9688\n"
     ]
    },
    {
     "name": "stderr",
     "output_type": "stream",
     "text": [
      " 23%|███████████████████████████                                                                                          | 2312/10000 [06:51<36:09,  3.54it/s]"
     ]
    },
    {
     "name": "stdout",
     "output_type": "stream",
     "text": [
      "Step 2310, train loss:0.1613, test loss:3.9638\n"
     ]
    },
    {
     "name": "stderr",
     "output_type": "stream",
     "text": [
      " 23%|███████████████████████████▏                                                                                         | 2322/10000 [06:53<25:28,  5.02it/s]"
     ]
    },
    {
     "name": "stdout",
     "output_type": "stream",
     "text": [
      "Step 2320, train loss:0.1594, test loss:3.9592\n"
     ]
    },
    {
     "name": "stderr",
     "output_type": "stream",
     "text": [
      " 23%|███████████████████████████▎                                                                                         | 2332/10000 [06:54<23:38,  5.41it/s]"
     ]
    },
    {
     "name": "stdout",
     "output_type": "stream",
     "text": [
      "Step 2330, train loss:0.1585, test loss:3.9879\n"
     ]
    },
    {
     "name": "stderr",
     "output_type": "stream",
     "text": [
      " 23%|███████████████████████████▍                                                                                         | 2342/10000 [06:55<23:23,  5.46it/s]"
     ]
    },
    {
     "name": "stdout",
     "output_type": "stream",
     "text": [
      "Step 2340, train loss:0.1582, test loss:3.9302\n"
     ]
    },
    {
     "name": "stderr",
     "output_type": "stream",
     "text": [
      " 24%|███████████████████████████▌                                                                                         | 2352/10000 [06:57<23:18,  5.47it/s]"
     ]
    },
    {
     "name": "stdout",
     "output_type": "stream",
     "text": [
      "Step 2350, train loss:0.1568, test loss:3.9910\n"
     ]
    },
    {
     "name": "stderr",
     "output_type": "stream",
     "text": [
      " 24%|███████████████████████████▋                                                                                         | 2362/10000 [06:58<23:18,  5.46it/s]"
     ]
    },
    {
     "name": "stdout",
     "output_type": "stream",
     "text": [
      "Step 2360, train loss:0.1550, test loss:4.0365\n"
     ]
    },
    {
     "name": "stderr",
     "output_type": "stream",
     "text": [
      " 24%|███████████████████████████▊                                                                                         | 2372/10000 [07:00<23:15,  5.46it/s]"
     ]
    },
    {
     "name": "stdout",
     "output_type": "stream",
     "text": [
      "Step 2370, train loss:0.1586, test loss:4.0673\n"
     ]
    },
    {
     "name": "stderr",
     "output_type": "stream",
     "text": [
      " 24%|███████████████████████████▊                                                                                         | 2382/10000 [07:01<23:16,  5.46it/s]"
     ]
    },
    {
     "name": "stdout",
     "output_type": "stream",
     "text": [
      "Step 2380, train loss:0.1561, test loss:4.0990\n"
     ]
    },
    {
     "name": "stderr",
     "output_type": "stream",
     "text": [
      " 24%|███████████████████████████▉                                                                                         | 2392/10000 [07:02<23:12,  5.46it/s]"
     ]
    },
    {
     "name": "stdout",
     "output_type": "stream",
     "text": [
      "Step 2390, train loss:0.1556, test loss:4.0426\n"
     ]
    },
    {
     "name": "stderr",
     "output_type": "stream",
     "text": [
      " 24%|████████████████████████████                                                                                         | 2400/10000 [07:03<13:38,  9.28it/s]"
     ]
    },
    {
     "name": "stdout",
     "output_type": "stream",
     "text": [
      "Step 2400, train loss:0.1562, test loss:4.0483\n"
     ]
    },
    {
     "name": "stderr",
     "output_type": "stream",
     "text": [
      " 24%|███████████████████████████▌                                                                                       | 2402/10000 [07:08<1:38:58,  1.28it/s]"
     ]
    },
    {
     "name": "stdout",
     "output_type": "stream",
     "text": [
      "\n",
      "\n",
      "OXFORD:\n",
      "What men of heaven, what a jealousies so hit\n",
      "That this relevy makes the English crown?\n",
      "And yet why not?\n",
      "\n",
      "DUKE OF YORK:\n",
      "Thou fond mad many friends upon the world:\n",
      "Ay, if thou be there is an egg,\n",
      "Before thy father gage of all day.\n",
      "3 KING HENRY VI\n",
      "\n",
      "QUEEN MARGARET:\n",
      "Great lords, wise men ne'er sit and wail their loss,\n",
      "But send him on his knees tedious night.\n",
      "\n",
      "KING HENRY VI:\n",
      "Sweet Oxford, away respects these days;\n",
      "Comeo will I be my consent in my wounds.\n",
      "\n",
      "WARWICK:\n",
      "It news, my lord: what can do you think?\n",
      "\n",
      "KING HENRY VI:\n",
      "O post, my lord! what news abroad?\n",
      "\n",
      "HORTENSIO:\n",
      "How dost thou love your honour will be content?\n",
      "\n",
      "NORTHUMBERLAND:\n",
      "First, heaven is Marcius to Richard's throne,\n",
      "A lip of judgment all about;\n",
      "For emy his great scolding fathers from been,\n",
      "The impression of king in lovers' terms,\n",
      "Come to the person and reigning in the clouds,\n",
      "And chief the watch be sent from their day.\n",
      "\n",
      "BUSHY:\n",
      "The better for our fair without logs, and there packin,\n",
      "In the man be holp made that ever we shed.\n",
      "\n",
      "Step 2400, train loss:0.1547, test loss:4.0725\n"
     ]
    },
    {
     "name": "stderr",
     "output_type": "stream",
     "text": [
      " 24%|████████████████████████████▏                                                                                        | 2412/10000 [07:09<35:53,  3.52it/s]"
     ]
    },
    {
     "name": "stdout",
     "output_type": "stream",
     "text": [
      "Step 2410, train loss:0.1572, test loss:4.0368\n"
     ]
    },
    {
     "name": "stderr",
     "output_type": "stream",
     "text": [
      " 24%|████████████████████████████▎                                                                                        | 2422/10000 [07:11<25:19,  4.99it/s]"
     ]
    },
    {
     "name": "stdout",
     "output_type": "stream",
     "text": [
      "Step 2420, train loss:0.1486, test loss:4.0724\n"
     ]
    },
    {
     "name": "stderr",
     "output_type": "stream",
     "text": [
      " 24%|████████████████████████████▍                                                                                        | 2432/10000 [07:12<23:32,  5.36it/s]"
     ]
    },
    {
     "name": "stdout",
     "output_type": "stream",
     "text": [
      "Step 2430, train loss:0.1513, test loss:4.0750\n"
     ]
    },
    {
     "name": "stderr",
     "output_type": "stream",
     "text": [
      " 24%|████████████████████████████▌                                                                                        | 2442/10000 [07:13<23:16,  5.41it/s]"
     ]
    },
    {
     "name": "stdout",
     "output_type": "stream",
     "text": [
      "Step 2440, train loss:0.1546, test loss:4.0152\n"
     ]
    },
    {
     "name": "stderr",
     "output_type": "stream",
     "text": [
      " 25%|████████████████████████████▋                                                                                        | 2452/10000 [07:15<23:15,  5.41it/s]"
     ]
    },
    {
     "name": "stdout",
     "output_type": "stream",
     "text": [
      "Step 2450, train loss:0.1534, test loss:4.1453\n"
     ]
    },
    {
     "name": "stderr",
     "output_type": "stream",
     "text": [
      " 25%|████████████████████████████▊                                                                                        | 2462/10000 [07:16<23:14,  5.41it/s]"
     ]
    },
    {
     "name": "stdout",
     "output_type": "stream",
     "text": [
      "Step 2460, train loss:0.1548, test loss:4.1023\n"
     ]
    },
    {
     "name": "stderr",
     "output_type": "stream",
     "text": [
      " 25%|████████████████████████████▉                                                                                        | 2472/10000 [07:18<23:12,  5.41it/s]"
     ]
    },
    {
     "name": "stdout",
     "output_type": "stream",
     "text": [
      "Step 2470, train loss:0.1522, test loss:4.0844\n"
     ]
    },
    {
     "name": "stderr",
     "output_type": "stream",
     "text": [
      " 25%|█████████████████████████████                                                                                        | 2482/10000 [07:19<23:11,  5.40it/s]"
     ]
    },
    {
     "name": "stdout",
     "output_type": "stream",
     "text": [
      "Step 2480, train loss:0.1539, test loss:4.0144\n"
     ]
    },
    {
     "name": "stderr",
     "output_type": "stream",
     "text": [
      " 25%|█████████████████████████████▏                                                                                       | 2492/10000 [07:20<23:10,  5.40it/s]"
     ]
    },
    {
     "name": "stdout",
     "output_type": "stream",
     "text": [
      "Step 2490, train loss:0.1533, test loss:4.0910\n"
     ]
    },
    {
     "name": "stderr",
     "output_type": "stream",
     "text": [
      " 25%|█████████████████████████████▎                                                                                       | 2500/10000 [07:21<13:33,  9.22it/s]"
     ]
    },
    {
     "name": "stdout",
     "output_type": "stream",
     "text": [
      "Step 2500, train loss:0.1497, test loss:4.0964\n"
     ]
    },
    {
     "name": "stderr",
     "output_type": "stream",
     "text": [
      " 25%|████████████████████████████▊                                                                                      | 2502/10000 [07:26<1:43:01,  1.21it/s]"
     ]
    },
    {
     "name": "stdout",
     "output_type": "stream",
     "text": [
      "\n",
      "\n",
      "AUTOLYCUS:\n",
      "\n",
      "Clown:\n",
      "Down with my kind to one that did place you?\n",
      "\n",
      "Shepherd:\n",
      "Take him out and fair alliabine much better.\n",
      "\n",
      "Second Servingman:\n",
      "A marvellous proclaim a banisform to the\n",
      "solemnity, here 'tis time, from the end that\n",
      "loves another. Another he had protector's for\n",
      "theTestuading and honesty is harms.\n",
      "\n",
      "Lord:\n",
      "take him up to wail; and, as I hear, the\n",
      "duke, I wake him to reapen the curse his will?\n",
      "\n",
      "QUEEN MARGARET:\n",
      "What, dost thou scorn me for my gentle counsel?\n",
      "And soothe the divine And death, now knows you think\n",
      "Might thus change my dukedom, change it seems\n",
      "Because their names when their teeth begins.\n",
      "Here are us Lorden makes of kings and nobles.\n",
      "Good man to make her good man that she is well,\n",
      "Good quickly granted tender lady.\n",
      "\n",
      "GLOUCESTER:\n",
      "Brother, the Tower, of Smiles one so gross,\n",
      "To gratulate the ghost. Let gio's paws,\n",
      "And therefore I will entertain great degree,\n",
      "And say 'Will't;' in with them great enemy.'\n",
      "Have you been seen them against the groat;\n",
      "And if they feel themselves wi\n",
      "Step 2500, train loss:0.1530, test loss:4.1286\n"
     ]
    },
    {
     "name": "stderr",
     "output_type": "stream",
     "text": [
      " 25%|█████████████████████████████▍                                                                                       | 2512/10000 [07:27<36:07,  3.46it/s]"
     ]
    },
    {
     "name": "stdout",
     "output_type": "stream",
     "text": [
      "Step 2510, train loss:0.1506, test loss:4.0962\n"
     ]
    },
    {
     "name": "stderr",
     "output_type": "stream",
     "text": [
      " 25%|█████████████████████████████▌                                                                                       | 2522/10000 [07:29<24:51,  5.02it/s]"
     ]
    },
    {
     "name": "stdout",
     "output_type": "stream",
     "text": [
      "Step 2520, train loss:0.1481, test loss:4.2083\n"
     ]
    },
    {
     "name": "stderr",
     "output_type": "stream",
     "text": [
      " 25%|█████████████████████████████▌                                                                                       | 2532/10000 [07:30<22:59,  5.41it/s]"
     ]
    },
    {
     "name": "stdout",
     "output_type": "stream",
     "text": [
      "Step 2530, train loss:0.1524, test loss:4.0967\n"
     ]
    },
    {
     "name": "stderr",
     "output_type": "stream",
     "text": [
      " 25%|█████████████████████████████▋                                                                                       | 2542/10000 [07:32<22:42,  5.47it/s]"
     ]
    },
    {
     "name": "stdout",
     "output_type": "stream",
     "text": [
      "Step 2540, train loss:0.1469, test loss:4.0845\n"
     ]
    },
    {
     "name": "stderr",
     "output_type": "stream",
     "text": [
      " 26%|█████████████████████████████▊                                                                                       | 2552/10000 [07:33<22:40,  5.48it/s]"
     ]
    },
    {
     "name": "stdout",
     "output_type": "stream",
     "text": [
      "Step 2550, train loss:0.1481, test loss:4.1260\n"
     ]
    },
    {
     "name": "stderr",
     "output_type": "stream",
     "text": [
      " 26%|█████████████████████████████▉                                                                                       | 2562/10000 [07:34<22:38,  5.47it/s]"
     ]
    },
    {
     "name": "stdout",
     "output_type": "stream",
     "text": [
      "Step 2560, train loss:0.1469, test loss:4.1678\n"
     ]
    },
    {
     "name": "stderr",
     "output_type": "stream",
     "text": [
      " 26%|██████████████████████████████                                                                                       | 2572/10000 [07:36<22:39,  5.46it/s]"
     ]
    },
    {
     "name": "stdout",
     "output_type": "stream",
     "text": [
      "Step 2570, train loss:0.1491, test loss:4.1365\n"
     ]
    },
    {
     "name": "stderr",
     "output_type": "stream",
     "text": [
      " 26%|██████████████████████████████▏                                                                                      | 2582/10000 [07:37<22:39,  5.46it/s]"
     ]
    },
    {
     "name": "stdout",
     "output_type": "stream",
     "text": [
      "Step 2580, train loss:0.1476, test loss:4.0947\n"
     ]
    },
    {
     "name": "stderr",
     "output_type": "stream",
     "text": [
      " 26%|██████████████████████████████▎                                                                                      | 2592/10000 [07:38<22:38,  5.45it/s]"
     ]
    },
    {
     "name": "stdout",
     "output_type": "stream",
     "text": [
      "Step 2590, train loss:0.1490, test loss:4.1234\n"
     ]
    },
    {
     "name": "stderr",
     "output_type": "stream",
     "text": [
      " 26%|██████████████████████████████▍                                                                                      | 2600/10000 [07:39<13:18,  9.27it/s]"
     ]
    },
    {
     "name": "stdout",
     "output_type": "stream",
     "text": [
      "Step 2600, train loss:0.1478, test loss:4.1779\n"
     ]
    },
    {
     "name": "stderr",
     "output_type": "stream",
     "text": [
      " 26%|█████████████████████████████▉                                                                                     | 2602/10000 [07:44<1:37:48,  1.26it/s]"
     ]
    },
    {
     "name": "stdout",
     "output_type": "stream",
     "text": [
      "\n",
      "\n",
      "KING RICHARD III:\n",
      "But in your daughter's womb I believe\n",
      "He speaks not stapp'd jottentle, not to repleast,\n",
      "But you must have your brother by your fond,\n",
      "None men of this sea, I'll bring you.\n",
      "\n",
      "DUKE VINCENTIO:\n",
      "I believe thee, Vrial. My care is grown\n",
      "from marrying with the wolfares: were metters and\n",
      "discourted both to repant me with such mage.\n",
      "\n",
      "CLARENCE:\n",
      "My chows with sweet soldiers patent the queen,\n",
      "Because so well; be gone.\n",
      "\n",
      "CLARENCE:\n",
      "I shall well bething all things fair days\n",
      "Hath not our brother dies 'Riners.\n",
      "\n",
      "CORIOLANUS:\n",
      "You bless me, gods!\n",
      "\n",
      "AUFIDIUS:\n",
      "Therefore, most absolute sir, if thou wilt have\n",
      "The leading heir of this sleep?\n",
      "\n",
      "BUCKINGHAM:\n",
      "Ay, if thou wert call'd our fortune in my breast,\n",
      "Wheel'd runations for this land's lawful king!\n",
      "Pale, Master Froth, let our neighbord;\n",
      "But yet I would not, heavens shall have your feast.\n",
      "\n",
      "TYBALT:\n",
      "Thou that Paulina's subject sworns made unknown\n",
      "As too should implore a fool.\n",
      "\n",
      "BISHOPHARD IV:\n",
      "Clarence and scorn: so please you to march\n",
      "Those till at on\n",
      "Step 2600, train loss:0.1449, test loss:4.1428\n"
     ]
    },
    {
     "name": "stderr",
     "output_type": "stream",
     "text": [
      " 26%|██████████████████████████████▌                                                                                      | 2612/10000 [07:45<34:59,  3.52it/s]"
     ]
    },
    {
     "name": "stdout",
     "output_type": "stream",
     "text": [
      "Step 2610, train loss:0.1444, test loss:4.1613\n"
     ]
    },
    {
     "name": "stderr",
     "output_type": "stream",
     "text": [
      " 26%|██████████████████████████████▋                                                                                      | 2622/10000 [07:47<24:30,  5.02it/s]"
     ]
    },
    {
     "name": "stdout",
     "output_type": "stream",
     "text": [
      "Step 2620, train loss:0.1457, test loss:4.2564\n"
     ]
    },
    {
     "name": "stderr",
     "output_type": "stream",
     "text": [
      " 26%|██████████████████████████████▊                                                                                      | 2632/10000 [07:48<22:44,  5.40it/s]"
     ]
    },
    {
     "name": "stdout",
     "output_type": "stream",
     "text": [
      "Step 2630, train loss:0.1450, test loss:4.1427\n"
     ]
    },
    {
     "name": "stderr",
     "output_type": "stream",
     "text": [
      " 26%|██████████████████████████████▉                                                                                      | 2642/10000 [07:49<22:25,  5.47it/s]"
     ]
    },
    {
     "name": "stdout",
     "output_type": "stream",
     "text": [
      "Step 2640, train loss:0.1443, test loss:4.1809\n"
     ]
    },
    {
     "name": "stderr",
     "output_type": "stream",
     "text": [
      " 27%|███████████████████████████████                                                                                      | 2652/10000 [07:51<22:24,  5.47it/s]"
     ]
    },
    {
     "name": "stdout",
     "output_type": "stream",
     "text": [
      "Step 2650, train loss:0.1451, test loss:4.1770\n"
     ]
    },
    {
     "name": "stderr",
     "output_type": "stream",
     "text": [
      " 27%|███████████████████████████████▏                                                                                     | 2662/10000 [07:52<22:24,  5.46it/s]"
     ]
    },
    {
     "name": "stdout",
     "output_type": "stream",
     "text": [
      "Step 2660, train loss:0.1441, test loss:4.2410\n"
     ]
    },
    {
     "name": "stderr",
     "output_type": "stream",
     "text": [
      " 27%|███████████████████████████████▎                                                                                     | 2672/10000 [07:54<22:20,  5.46it/s]"
     ]
    },
    {
     "name": "stdout",
     "output_type": "stream",
     "text": [
      "Step 2670, train loss:0.1441, test loss:4.1586\n"
     ]
    },
    {
     "name": "stderr",
     "output_type": "stream",
     "text": [
      " 27%|███████████████████████████████▍                                                                                     | 2682/10000 [07:55<22:21,  5.46it/s]"
     ]
    },
    {
     "name": "stdout",
     "output_type": "stream",
     "text": [
      "Step 2680, train loss:0.1412, test loss:4.1455\n"
     ]
    },
    {
     "name": "stderr",
     "output_type": "stream",
     "text": [
      " 27%|███████████████████████████████▍                                                                                     | 2692/10000 [07:56<22:20,  5.45it/s]"
     ]
    },
    {
     "name": "stdout",
     "output_type": "stream",
     "text": [
      "Step 2690, train loss:0.1406, test loss:4.1969\n"
     ]
    },
    {
     "name": "stderr",
     "output_type": "stream",
     "text": [
      " 27%|███████████████████████████████▌                                                                                     | 2700/10000 [07:57<13:07,  9.27it/s]"
     ]
    },
    {
     "name": "stdout",
     "output_type": "stream",
     "text": [
      "Step 2700, train loss:0.1401, test loss:4.1676\n"
     ]
    },
    {
     "name": "stderr",
     "output_type": "stream",
     "text": [
      " 27%|███████████████████████████████                                                                                    | 2702/10000 [08:02<1:34:10,  1.29it/s]"
     ]
    },
    {
     "name": "stdout",
     "output_type": "stream",
     "text": [
      "\n",
      "\n",
      "LUCIO:\n",
      "By heart it, my lord; the duke is very paper\n",
      "sensio, he is privily of remain\n",
      "Fast foe the present. Was it not the king\n",
      "Shall there were no longer nor the point.\n",
      "\n",
      "MARCIUS:\n",
      "Thomas of the frail of are ploud; and\n",
      "He wants the place of peace!\n",
      "\n",
      "Abbot:\n",
      "And, in this resolution, of the law,\n",
      "Self-love I been the triumphant king,\n",
      "It should be so quaintly to the world.\n",
      "Being in this multitude to the air,\n",
      "And let the subject see, to make them know\n",
      "That outward courtesies would gain a' the word:\n",
      "And thus must we change this robe of vengeance;\n",
      "Who, treading his oath and what with posts could not\n",
      "say.\n",
      "\n",
      "Scrive opent will not--\n",
      "For, as the case now shall this divine him:\n",
      "His own impatience now we are show'd\n",
      "Sole vine than he will show my father where\n",
      "Come please blows before the walls.\n",
      "\n",
      "ROMEO:\n",
      "And if I told you, for the dearest forget\n",
      "My soul the field proof to the heart.\n",
      "\n",
      "LEONTES:\n",
      "Apollo's angry; and therefore, if thou darest.\n",
      "\n",
      "DUKE VINCENTIO:\n",
      "\n",
      "Provost:\n",
      "I know not where to turn: but I had it fro\n",
      "Step 2700, train loss:0.1421, test loss:4.2172\n"
     ]
    },
    {
     "name": "stderr",
     "output_type": "stream",
     "text": [
      " 27%|███████████████████████████████▋                                                                                     | 2712/10000 [08:03<34:20,  3.54it/s]"
     ]
    },
    {
     "name": "stdout",
     "output_type": "stream",
     "text": [
      "Step 2710, train loss:0.1403, test loss:4.2928\n"
     ]
    },
    {
     "name": "stderr",
     "output_type": "stream",
     "text": [
      " 27%|███████████████████████████████▊                                                                                     | 2722/10000 [08:04<24:17,  4.99it/s]"
     ]
    },
    {
     "name": "stdout",
     "output_type": "stream",
     "text": [
      "Step 2720, train loss:0.1369, test loss:4.2149\n"
     ]
    },
    {
     "name": "stderr",
     "output_type": "stream",
     "text": [
      " 27%|███████████████████████████████▉                                                                                     | 2732/10000 [08:06<22:34,  5.36it/s]"
     ]
    },
    {
     "name": "stdout",
     "output_type": "stream",
     "text": [
      "Step 2730, train loss:0.1412, test loss:4.1920\n"
     ]
    },
    {
     "name": "stderr",
     "output_type": "stream",
     "text": [
      " 27%|████████████████████████████████                                                                                     | 2742/10000 [08:07<22:19,  5.42it/s]"
     ]
    },
    {
     "name": "stdout",
     "output_type": "stream",
     "text": [
      "Step 2740, train loss:0.1389, test loss:4.2233\n"
     ]
    },
    {
     "name": "stderr",
     "output_type": "stream",
     "text": [
      " 28%|████████████████████████████████▏                                                                                    | 2752/10000 [08:09<22:15,  5.43it/s]"
     ]
    },
    {
     "name": "stdout",
     "output_type": "stream",
     "text": [
      "Step 2750, train loss:0.1402, test loss:4.1819\n"
     ]
    },
    {
     "name": "stderr",
     "output_type": "stream",
     "text": [
      " 28%|████████████████████████████████▎                                                                                    | 2762/10000 [08:10<22:16,  5.41it/s]"
     ]
    },
    {
     "name": "stdout",
     "output_type": "stream",
     "text": [
      "Step 2760, train loss:0.1427, test loss:4.2264\n"
     ]
    },
    {
     "name": "stderr",
     "output_type": "stream",
     "text": [
      " 28%|████████████████████████████████▍                                                                                    | 2772/10000 [08:11<22:17,  5.40it/s]"
     ]
    },
    {
     "name": "stdout",
     "output_type": "stream",
     "text": [
      "Step 2770, train loss:0.1397, test loss:4.1941\n"
     ]
    },
    {
     "name": "stderr",
     "output_type": "stream",
     "text": [
      " 28%|████████████████████████████████▌                                                                                    | 2782/10000 [08:13<22:15,  5.40it/s]"
     ]
    },
    {
     "name": "stdout",
     "output_type": "stream",
     "text": [
      "Step 2780, train loss:0.1363, test loss:4.2042\n"
     ]
    },
    {
     "name": "stderr",
     "output_type": "stream",
     "text": [
      " 28%|████████████████████████████████▋                                                                                    | 2792/10000 [08:14<22:16,  5.39it/s]"
     ]
    },
    {
     "name": "stdout",
     "output_type": "stream",
     "text": [
      "Step 2790, train loss:0.1369, test loss:4.2187\n"
     ]
    },
    {
     "name": "stderr",
     "output_type": "stream",
     "text": [
      " 28%|████████████████████████████████▊                                                                                    | 2800/10000 [08:15<13:02,  9.21it/s]"
     ]
    },
    {
     "name": "stdout",
     "output_type": "stream",
     "text": [
      "Step 2800, train loss:0.1363, test loss:4.2734\n"
     ]
    },
    {
     "name": "stderr",
     "output_type": "stream",
     "text": [
      " 28%|████████████████████████████████▏                                                                                  | 2802/10000 [08:20<1:34:22,  1.27it/s]"
     ]
    },
    {
     "name": "stdout",
     "output_type": "stream",
     "text": [
      "\n",
      "\n",
      "LADY ANNE:\n",
      "Would you have me down with me unhollo's power,\n",
      "And was embark'd to cross to Burgundy;\n",
      "And, in my company, my brother Gloucester;\n",
      "Or wall on you or I am a cup of question,\n",
      "Whose breast of an infant fords and marking at\n",
      "The collow the clock that thou look'd on me?\n",
      "I me old Gaunt is noble father's sine,\n",
      "But know the inside of your pernicious rage\n",
      "With purple forced tongues? What will you swear?\n",
      "Here are the birds of Rome, no more requites must\n",
      "Be roinnels and causes of my reproof.\n",
      "Be not to compits my groans with us, if you\n",
      "would tell the lodgings and tell so we\n",
      "God: it sleep in joy!\n",
      "\n",
      "RICHINA:\n",
      "It is your worship to us,\n",
      "And with his sequenct.\n",
      "\n",
      "HENRY BOLINGBROKE:\n",
      "Five you convey him, when you were here,\n",
      "And so your fathers come to prison,\n",
      "As being but a low, and bear my good comfort,\n",
      "Such as move as ever lose a delighted by\n",
      "A plot to petter, but endity, and I'll not\n",
      "Chold we no little but my restored so near.\n",
      "Go, sign face, my lord! who sackld honey nurse?\n",
      "\n",
      "Nurse:\n",
      "I spy like Has\n",
      "Step 2800, train loss:0.1414, test loss:4.3176\n"
     ]
    },
    {
     "name": "stderr",
     "output_type": "stream",
     "text": [
      " 28%|████████████████████████████████▉                                                                                    | 2812/10000 [08:21<34:08,  3.51it/s]"
     ]
    },
    {
     "name": "stdout",
     "output_type": "stream",
     "text": [
      "Step 2810, train loss:0.1391, test loss:4.2215\n"
     ]
    },
    {
     "name": "stderr",
     "output_type": "stream",
     "text": [
      " 28%|█████████████████████████████████                                                                                    | 2822/10000 [08:22<24:02,  4.98it/s]"
     ]
    },
    {
     "name": "stdout",
     "output_type": "stream",
     "text": [
      "Step 2820, train loss:0.1381, test loss:4.2800\n"
     ]
    },
    {
     "name": "stderr",
     "output_type": "stream",
     "text": [
      " 28%|█████████████████████████████████▏                                                                                   | 2832/10000 [08:24<22:22,  5.34it/s]"
     ]
    },
    {
     "name": "stdout",
     "output_type": "stream",
     "text": [
      "Step 2830, train loss:0.1371, test loss:4.2556\n"
     ]
    },
    {
     "name": "stderr",
     "output_type": "stream",
     "text": [
      " 28%|█████████████████████████████████▎                                                                                   | 2842/10000 [08:25<22:02,  5.41it/s]"
     ]
    },
    {
     "name": "stdout",
     "output_type": "stream",
     "text": [
      "Step 2840, train loss:0.1380, test loss:4.2640\n"
     ]
    },
    {
     "name": "stderr",
     "output_type": "stream",
     "text": [
      " 29%|█████████████████████████████████▎                                                                                   | 2852/10000 [08:27<22:01,  5.41it/s]"
     ]
    },
    {
     "name": "stdout",
     "output_type": "stream",
     "text": [
      "Step 2850, train loss:0.1379, test loss:4.2589\n"
     ]
    },
    {
     "name": "stderr",
     "output_type": "stream",
     "text": [
      " 29%|█████████████████████████████████▍                                                                                   | 2862/10000 [08:28<21:59,  5.41it/s]"
     ]
    },
    {
     "name": "stdout",
     "output_type": "stream",
     "text": [
      "Step 2860, train loss:0.1373, test loss:4.2885\n"
     ]
    },
    {
     "name": "stderr",
     "output_type": "stream",
     "text": [
      " 29%|█████████████████████████████████▌                                                                                   | 2872/10000 [08:29<21:58,  5.40it/s]"
     ]
    },
    {
     "name": "stdout",
     "output_type": "stream",
     "text": [
      "Step 2870, train loss:0.1400, test loss:4.3415\n"
     ]
    },
    {
     "name": "stderr",
     "output_type": "stream",
     "text": [
      " 29%|█████████████████████████████████▋                                                                                   | 2882/10000 [08:31<21:58,  5.40it/s]"
     ]
    },
    {
     "name": "stdout",
     "output_type": "stream",
     "text": [
      "Step 2880, train loss:0.1373, test loss:4.2932\n"
     ]
    },
    {
     "name": "stderr",
     "output_type": "stream",
     "text": [
      " 29%|█████████████████████████████████▊                                                                                   | 2892/10000 [08:32<21:56,  5.40it/s]"
     ]
    },
    {
     "name": "stdout",
     "output_type": "stream",
     "text": [
      "Step 2890, train loss:0.1407, test loss:4.2867\n"
     ]
    },
    {
     "name": "stderr",
     "output_type": "stream",
     "text": [
      " 29%|█████████████████████████████████▉                                                                                   | 2900/10000 [08:33<12:49,  9.23it/s]"
     ]
    },
    {
     "name": "stdout",
     "output_type": "stream",
     "text": [
      "Step 2900, train loss:0.1395, test loss:4.2515\n"
     ]
    },
    {
     "name": "stderr",
     "output_type": "stream",
     "text": [
      " 29%|█████████████████████████████████▎                                                                                 | 2902/10000 [08:38<1:31:54,  1.29it/s]"
     ]
    },
    {
     "name": "stdout",
     "output_type": "stream",
     "text": [
      "\n",
      "\n",
      "HERMIONE:\n",
      "Take my good correction. Lady, My fair gentlemen,\n",
      "And many of you subjects' face, ls for me\n",
      "That only so settled friar, at his sorrow.\n",
      "\n",
      "DORSET:\n",
      "The fairies's hand then beholding home.\n",
      "\n",
      "YORTMSON:\n",
      "Ah, having the measure of the field\n",
      "I'll leave my son and heart with  ampits' hot,\n",
      "And make her into a push debt travel.\n",
      "Madam, for the loval gantle lack,\n",
      "And this the breath of gentle burden love;\n",
      "But let me see: it is our wall, no worship in love\n",
      "That scars have false to make a laney rage.\n",
      "\n",
      "BUSHY:\n",
      "O, then, since it is apart is good speak;\n",
      "The one i' the luxes I do him like a guest.\n",
      "\n",
      "FRIAR LAURENCE:\n",
      "Saint Francis, let them here stands the sick; and then the\n",
      "world they have demanded on the next heir\n",
      "To hide the valour of his monarch like.\n",
      "\n",
      "SICINIUS:\n",
      "Stop,\n",
      "Or did hast worthy slaughter of the people,\n",
      "And whose sudden sight hath given from him,\n",
      "And speak his natient with the boar part of his\n",
      "And he agree scope. I'll repose you at the sea\n",
      "Where have been slightness.\n",
      "\n",
      "VOLUMNIA:\n",
      "Good man!\n",
      "I\n",
      "Step 2900, train loss:0.1391, test loss:4.2006\n"
     ]
    },
    {
     "name": "stderr",
     "output_type": "stream",
     "text": [
      " 29%|██████████████████████████████████                                                                                   | 2912/10000 [08:39<33:18,  3.55it/s]"
     ]
    },
    {
     "name": "stdout",
     "output_type": "stream",
     "text": [
      "Step 2910, train loss:0.1379, test loss:4.3003\n"
     ]
    },
    {
     "name": "stderr",
     "output_type": "stream",
     "text": [
      " 29%|██████████████████████████████████▏                                                                                  | 2922/10000 [08:40<23:27,  5.03it/s]"
     ]
    },
    {
     "name": "stdout",
     "output_type": "stream",
     "text": [
      "Step 2920, train loss:0.1365, test loss:4.2384\n"
     ]
    },
    {
     "name": "stderr",
     "output_type": "stream",
     "text": [
      " 29%|██████████████████████████████████▎                                                                                  | 2932/10000 [08:42<21:50,  5.39it/s]"
     ]
    },
    {
     "name": "stdout",
     "output_type": "stream",
     "text": [
      "Step 2930, train loss:0.1382, test loss:4.2707\n"
     ]
    },
    {
     "name": "stderr",
     "output_type": "stream",
     "text": [
      " 29%|██████████████████████████████████▍                                                                                  | 2942/10000 [08:43<21:31,  5.47it/s]"
     ]
    },
    {
     "name": "stdout",
     "output_type": "stream",
     "text": [
      "Step 2940, train loss:0.1387, test loss:4.2923\n"
     ]
    },
    {
     "name": "stderr",
     "output_type": "stream",
     "text": [
      " 30%|██████████████████████████████████▌                                                                                  | 2952/10000 [08:45<21:28,  5.47it/s]"
     ]
    },
    {
     "name": "stdout",
     "output_type": "stream",
     "text": [
      "Step 2950, train loss:0.1364, test loss:4.3319\n"
     ]
    },
    {
     "name": "stderr",
     "output_type": "stream",
     "text": [
      " 30%|██████████████████████████████████▋                                                                                  | 2962/10000 [08:46<21:25,  5.47it/s]"
     ]
    },
    {
     "name": "stdout",
     "output_type": "stream",
     "text": [
      "Step 2960, train loss:0.1364, test loss:4.3065\n"
     ]
    },
    {
     "name": "stderr",
     "output_type": "stream",
     "text": [
      " 30%|██████████████████████████████████▊                                                                                  | 2972/10000 [08:47<21:28,  5.45it/s]"
     ]
    },
    {
     "name": "stdout",
     "output_type": "stream",
     "text": [
      "Step 2970, train loss:0.1349, test loss:4.3361\n"
     ]
    },
    {
     "name": "stderr",
     "output_type": "stream",
     "text": [
      " 30%|██████████████████████████████████▉                                                                                  | 2982/10000 [08:49<21:23,  5.47it/s]"
     ]
    },
    {
     "name": "stdout",
     "output_type": "stream",
     "text": [
      "Step 2980, train loss:0.1344, test loss:4.2866\n"
     ]
    },
    {
     "name": "stderr",
     "output_type": "stream",
     "text": [
      " 30%|███████████████████████████████████                                                                                  | 2992/10000 [08:50<21:25,  5.45it/s]"
     ]
    },
    {
     "name": "stdout",
     "output_type": "stream",
     "text": [
      "Step 2990, train loss:0.1326, test loss:4.2578\n"
     ]
    },
    {
     "name": "stderr",
     "output_type": "stream",
     "text": [
      " 30%|███████████████████████████████████                                                                                  | 3000/10000 [08:51<12:35,  9.26it/s]"
     ]
    },
    {
     "name": "stdout",
     "output_type": "stream",
     "text": [
      "Step 3000, train loss:0.1345, test loss:4.3826\n"
     ]
    },
    {
     "name": "stderr",
     "output_type": "stream",
     "text": [
      " 30%|██████████████████████████████████▌                                                                                | 3002/10000 [08:56<1:31:36,  1.27it/s]"
     ]
    },
    {
     "name": "stdout",
     "output_type": "stream",
     "text": [
      "\n",
      "\n",
      "BUCKINGHAM:\n",
      "And, in good time, here comes the noble duke.\n",
      "\n",
      "GLOUCESTER:\n",
      "Good morrow to my sovereign king and queen:\n",
      "And, look, to find the heart that takes him of\n",
      "A boy. Nay, my lord, I come; come to the valuard:\n",
      "Go. See, or there's a well he goes as mother\n",
      "Nae for our person.\n",
      "\n",
      "MENENIUS:\n",
      "The augurey good fter to the Tower,\n",
      "By saying-headed, obeys,--\n",
      "A hopes could equall! messenger still!\n",
      "Should say it breaks a heavy lean-with him.\n",
      "\n",
      "First Servingman:\n",
      "Under this afternoon, sir, what says your mother?\n",
      "\n",
      "Third Servingman:\n",
      "Where dwells, young sir, and have told him prevail'd,\n",
      "The word is stern the market-place; we will keep\n",
      "The red will be glad to reach you fast,\n",
      "For matter for my name of fear, nor with me;\n",
      "My back and prolong'd your suits with speed post welcome;\n",
      "And see you do repent, as I have seen and heart,\n",
      "Now know the stones of the favour-st ah griefs,\n",
      "Which finds your dispositions make blesders growth\n",
      "The crown to temper of an other's hands,\n",
      "Not body's in mind. When am I depend'd? I\n",
      "j\n",
      "Step 3000, train loss:0.1340, test loss:4.3814\n"
     ]
    },
    {
     "name": "stderr",
     "output_type": "stream",
     "text": [
      " 30%|███████████████████████████████████▏                                                                                 | 3012/10000 [08:57<32:57,  3.53it/s]"
     ]
    },
    {
     "name": "stdout",
     "output_type": "stream",
     "text": [
      "Step 3010, train loss:0.1350, test loss:4.2727\n"
     ]
    },
    {
     "name": "stderr",
     "output_type": "stream",
     "text": [
      " 30%|███████████████████████████████████▎                                                                                 | 3022/10000 [08:58<23:06,  5.03it/s]"
     ]
    },
    {
     "name": "stdout",
     "output_type": "stream",
     "text": [
      "Step 3020, train loss:0.1331, test loss:4.3831\n"
     ]
    },
    {
     "name": "stderr",
     "output_type": "stream",
     "text": [
      " 30%|███████████████████████████████████▍                                                                                 | 3032/10000 [09:00<21:29,  5.41it/s]"
     ]
    },
    {
     "name": "stdout",
     "output_type": "stream",
     "text": [
      "Step 3030, train loss:0.1340, test loss:4.3782\n"
     ]
    },
    {
     "name": "stderr",
     "output_type": "stream",
     "text": [
      " 30%|███████████████████████████████████▌                                                                                 | 3042/10000 [09:01<21:13,  5.46it/s]"
     ]
    },
    {
     "name": "stdout",
     "output_type": "stream",
     "text": [
      "Step 3040, train loss:0.1313, test loss:4.3073\n"
     ]
    },
    {
     "name": "stderr",
     "output_type": "stream",
     "text": [
      " 31%|███████████████████████████████████▋                                                                                 | 3052/10000 [09:02<21:11,  5.46it/s]"
     ]
    },
    {
     "name": "stdout",
     "output_type": "stream",
     "text": [
      "Step 3050, train loss:0.1340, test loss:4.3780\n"
     ]
    },
    {
     "name": "stderr",
     "output_type": "stream",
     "text": [
      " 31%|███████████████████████████████████▊                                                                                 | 3062/10000 [09:04<21:06,  5.48it/s]"
     ]
    },
    {
     "name": "stdout",
     "output_type": "stream",
     "text": [
      "Step 3060, train loss:0.1309, test loss:4.3229\n"
     ]
    },
    {
     "name": "stderr",
     "output_type": "stream",
     "text": [
      " 31%|███████████████████████████████████▉                                                                                 | 3072/10000 [09:05<21:07,  5.47it/s]"
     ]
    },
    {
     "name": "stdout",
     "output_type": "stream",
     "text": [
      "Step 3070, train loss:0.1300, test loss:4.3708\n"
     ]
    },
    {
     "name": "stderr",
     "output_type": "stream",
     "text": [
      " 31%|████████████████████████████████████                                                                                 | 3082/10000 [09:07<21:08,  5.45it/s]"
     ]
    },
    {
     "name": "stdout",
     "output_type": "stream",
     "text": [
      "Step 3080, train loss:0.1298, test loss:4.3309\n"
     ]
    },
    {
     "name": "stderr",
     "output_type": "stream",
     "text": [
      " 31%|████████████████████████████████████▏                                                                                | 3092/10000 [09:08<21:09,  5.44it/s]"
     ]
    },
    {
     "name": "stdout",
     "output_type": "stream",
     "text": [
      "Step 3090, train loss:0.1302, test loss:4.3920\n"
     ]
    },
    {
     "name": "stderr",
     "output_type": "stream",
     "text": [
      " 31%|████████████████████████████████████▎                                                                                | 3100/10000 [09:09<12:25,  9.25it/s]"
     ]
    },
    {
     "name": "stdout",
     "output_type": "stream",
     "text": [
      "Step 3100, train loss:0.1315, test loss:4.4325\n"
     ]
    },
    {
     "name": "stderr",
     "output_type": "stream",
     "text": [
      " 31%|███████████████████████████████████▋                                                                               | 3102/10000 [09:14<1:32:30,  1.24it/s]"
     ]
    },
    {
     "name": "stdout",
     "output_type": "stream",
     "text": [
      "\n",
      "\n",
      "KING RICHARD III:\n",
      "Even all hither shall be the ground\n",
      "Crest to be chopped and of my kind and son:\n",
      "Now swarr'st with the fardel that's govern'd; O,\n",
      "Swear Is thy seateness, now much other's face,\n",
      "Chen thou wrtheathen me with return'd it.\n",
      "Pity, I would then this Rider shall die to me,\n",
      "But from the charters and the duke on his side fight.\n",
      "\n",
      "RICHARD:\n",
      "Then, Caius, Richard, with the vice opert\n",
      "With the low expectses; and had no mooner\n",
      "Look in their devil's corse.\n",
      "\n",
      "WARWICK:\n",
      "I came to the Lord Aumerle.\n",
      "\n",
      "DUKE VINCENTIO:\n",
      "The commons will pierce harmly canst thou never had.\n",
      "\n",
      "DUKE OF YORK:\n",
      "The king is coming; I will lead upon thyself:\n",
      "Which will revenge it thee to be his heart.\n",
      "\n",
      "QUEEN MARGARET:\n",
      "Because my noble lord of Lancaster;\n",
      "And that the glory serves it is my love,\n",
      "And I'll no low thee hences of thy longest swallow'd,\n",
      "As thou dost sudden angels for thy death.\n",
      "\n",
      "SLY:\n",
      "Well, if you were a brident time to some an end.\n",
      "\n",
      "HERMIONE:\n",
      "Pray you then, consul! what a gentleman?\n",
      "\n",
      "PETRUCHIO:\n",
      "Signior Hortensio,\n",
      "Step 3100, train loss:0.1298, test loss:4.4272\n"
     ]
    },
    {
     "name": "stderr",
     "output_type": "stream",
     "text": [
      " 31%|████████████████████████████████████▍                                                                                | 3112/10000 [09:15<32:52,  3.49it/s]"
     ]
    },
    {
     "name": "stdout",
     "output_type": "stream",
     "text": [
      "Step 3110, train loss:0.1312, test loss:4.3733\n"
     ]
    },
    {
     "name": "stderr",
     "output_type": "stream",
     "text": [
      " 31%|████████████████████████████████████▌                                                                                | 3122/10000 [09:16<22:52,  5.01it/s]"
     ]
    },
    {
     "name": "stdout",
     "output_type": "stream",
     "text": [
      "Step 3120, train loss:0.1262, test loss:4.3795\n"
     ]
    },
    {
     "name": "stderr",
     "output_type": "stream",
     "text": [
      " 31%|████████████████████████████████████▋                                                                                | 3132/10000 [09:18<21:14,  5.39it/s]"
     ]
    },
    {
     "name": "stdout",
     "output_type": "stream",
     "text": [
      "Step 3130, train loss:0.1294, test loss:4.3632\n"
     ]
    },
    {
     "name": "stderr",
     "output_type": "stream",
     "text": [
      " 31%|████████████████████████████████████▊                                                                                | 3142/10000 [09:19<20:56,  5.46it/s]"
     ]
    },
    {
     "name": "stdout",
     "output_type": "stream",
     "text": [
      "Step 3140, train loss:0.1327, test loss:4.3584\n"
     ]
    },
    {
     "name": "stderr",
     "output_type": "stream",
     "text": [
      " 32%|████████████████████████████████████▉                                                                                | 3152/10000 [09:20<20:50,  5.48it/s]"
     ]
    },
    {
     "name": "stdout",
     "output_type": "stream",
     "text": [
      "Step 3150, train loss:0.1299, test loss:4.3354\n"
     ]
    },
    {
     "name": "stderr",
     "output_type": "stream",
     "text": [
      " 32%|████████████████████████████████████▉                                                                                | 3162/10000 [09:22<20:51,  5.46it/s]"
     ]
    },
    {
     "name": "stdout",
     "output_type": "stream",
     "text": [
      "Step 3160, train loss:0.1314, test loss:4.3522\n"
     ]
    },
    {
     "name": "stderr",
     "output_type": "stream",
     "text": [
      " 32%|█████████████████████████████████████                                                                                | 3172/10000 [09:23<20:50,  5.46it/s]"
     ]
    },
    {
     "name": "stdout",
     "output_type": "stream",
     "text": [
      "Step 3170, train loss:0.1302, test loss:4.4473\n"
     ]
    },
    {
     "name": "stderr",
     "output_type": "stream",
     "text": [
      " 32%|█████████████████████████████████████▏                                                                               | 3182/10000 [09:25<20:49,  5.46it/s]"
     ]
    },
    {
     "name": "stdout",
     "output_type": "stream",
     "text": [
      "Step 3180, train loss:0.1274, test loss:4.3579\n"
     ]
    },
    {
     "name": "stderr",
     "output_type": "stream",
     "text": [
      " 32%|█████████████████████████████████████▎                                                                               | 3192/10000 [09:26<20:50,  5.44it/s]"
     ]
    },
    {
     "name": "stdout",
     "output_type": "stream",
     "text": [
      "Step 3190, train loss:0.1267, test loss:4.3242\n"
     ]
    },
    {
     "name": "stderr",
     "output_type": "stream",
     "text": [
      " 32%|█████████████████████████████████████▍                                                                               | 3200/10000 [09:27<12:14,  9.26it/s]"
     ]
    },
    {
     "name": "stdout",
     "output_type": "stream",
     "text": [
      "Step 3200, train loss:0.1324, test loss:4.4029\n"
     ]
    },
    {
     "name": "stderr",
     "output_type": "stream",
     "text": [
      " 32%|████████████████████████████████████▊                                                                              | 3202/10000 [09:31<1:27:42,  1.29it/s]"
     ]
    },
    {
     "name": "stdout",
     "output_type": "stream",
     "text": [
      "\n",
      "\n",
      "LUCIO:\n",
      "'Faith, my lord, it is my brother's.\n",
      "\n",
      "Third Servingman:\n",
      "Why, here's he that was wont to thwack our general,\n",
      "Caius Marcius.\n",
      "\n",
      "First Servingman:\n",
      "Why, Warwick! what an ass it was\n",
      "no becomea title, ahat thou hast crown'd his gift\n",
      "And cheer his grace with quick and me: yet he wips,\n",
      "To chide the right of my love to her airea.\n",
      "What have I yet hath too fear of the people,\n",
      "As if this fall to malmonber, the Tower-sea,\n",
      "Whose name we stand in all this deed divinish,\n",
      "And with his grace I beg of conspiracy.\n",
      "The king and Bohemia can I come to help him;\n",
      "While God he knites, have and the duke is cheer,\n",
      "Or live in peace to saying o'er the way\n",
      "To win the cormoration of the time.\n",
      "Forgive me, cousin, let your grievous sound\n",
      "The curfer is doing that yet he will stand\n",
      "to is abstracted, and he's gone comes foreceived\n",
      "Refity'd to the town: our never shall she be for\n",
      "our offence.\n",
      "\n",
      "LEONTES:\n",
      "The blessed gods\n",
      "Purge all infection from our air read!\n",
      "Your part in it the action of yourself\n",
      "That I enjoy. This lie\n",
      "Step 3200, train loss:0.1281, test loss:4.4227\n"
     ]
    },
    {
     "name": "stderr",
     "output_type": "stream",
     "text": [
      " 32%|█████████████████████████████████████▌                                                                               | 3212/10000 [09:33<31:51,  3.55it/s]"
     ]
    },
    {
     "name": "stdout",
     "output_type": "stream",
     "text": [
      "Step 3210, train loss:0.1298, test loss:4.4164\n"
     ]
    },
    {
     "name": "stderr",
     "output_type": "stream",
     "text": [
      " 32%|█████████████████████████████████████▋                                                                               | 3222/10000 [09:34<22:31,  5.02it/s]"
     ]
    },
    {
     "name": "stdout",
     "output_type": "stream",
     "text": [
      "Step 3220, train loss:0.1285, test loss:4.2537\n"
     ]
    },
    {
     "name": "stderr",
     "output_type": "stream",
     "text": [
      " 32%|█████████████████████████████████████▊                                                                               | 3232/10000 [09:35<20:57,  5.38it/s]"
     ]
    },
    {
     "name": "stdout",
     "output_type": "stream",
     "text": [
      "Step 3230, train loss:0.1268, test loss:4.4815\n"
     ]
    },
    {
     "name": "stderr",
     "output_type": "stream",
     "text": [
      " 32%|█████████████████████████████████████▉                                                                               | 3242/10000 [09:37<20:38,  5.46it/s]"
     ]
    },
    {
     "name": "stdout",
     "output_type": "stream",
     "text": [
      "Step 3240, train loss:0.1291, test loss:4.4186\n"
     ]
    },
    {
     "name": "stderr",
     "output_type": "stream",
     "text": [
      " 33%|██████████████████████████████████████                                                                               | 3252/10000 [09:38<20:37,  5.45it/s]"
     ]
    },
    {
     "name": "stdout",
     "output_type": "stream",
     "text": [
      "Step 3250, train loss:0.1293, test loss:4.3702\n"
     ]
    },
    {
     "name": "stderr",
     "output_type": "stream",
     "text": [
      " 33%|██████████████████████████████████████▏                                                                              | 3262/10000 [09:40<20:35,  5.45it/s]"
     ]
    },
    {
     "name": "stdout",
     "output_type": "stream",
     "text": [
      "Step 3260, train loss:0.1272, test loss:4.4592\n"
     ]
    },
    {
     "name": "stderr",
     "output_type": "stream",
     "text": [
      " 33%|██████████████████████████████████████▎                                                                              | 3272/10000 [09:41<20:33,  5.45it/s]"
     ]
    },
    {
     "name": "stdout",
     "output_type": "stream",
     "text": [
      "Step 3270, train loss:0.1272, test loss:4.3554\n"
     ]
    },
    {
     "name": "stderr",
     "output_type": "stream",
     "text": [
      " 33%|██████████████████████████████████████▍                                                                              | 3282/10000 [09:42<20:32,  5.45it/s]"
     ]
    },
    {
     "name": "stdout",
     "output_type": "stream",
     "text": [
      "Step 3280, train loss:0.1267, test loss:4.5178\n"
     ]
    },
    {
     "name": "stderr",
     "output_type": "stream",
     "text": [
      " 33%|██████████████████████████████████████▌                                                                              | 3292/10000 [09:44<20:31,  5.45it/s]"
     ]
    },
    {
     "name": "stdout",
     "output_type": "stream",
     "text": [
      "Step 3290, train loss:0.1330, test loss:4.4107\n"
     ]
    },
    {
     "name": "stderr",
     "output_type": "stream",
     "text": [
      " 33%|██████████████████████████████████████▌                                                                              | 3300/10000 [09:44<12:03,  9.26it/s]"
     ]
    },
    {
     "name": "stdout",
     "output_type": "stream",
     "text": [
      "Step 3300, train loss:0.1273, test loss:4.4341\n"
     ]
    },
    {
     "name": "stderr",
     "output_type": "stream",
     "text": [
      " 33%|█████████████████████████████████████▉                                                                             | 3302/10000 [09:49<1:29:17,  1.25it/s]"
     ]
    },
    {
     "name": "stdout",
     "output_type": "stream",
     "text": [
      "\n",
      "\n",
      "FRIAR LAURENCE:\n",
      "Now that wicked love to her, and with speedy cannibals\n",
      "Would not have guilt out their with their power.\n",
      "\n",
      "TYBALT:\n",
      "Why dost thou spawn upon a prophet\n",
      "May talk of kings.\n",
      "\n",
      "HERMIONE:\n",
      "What! is thy man are to detesbed?\n",
      "\n",
      "MAMILLIUS:\n",
      "Yea?\n",
      "\n",
      "FRAY:\n",
      "Yesmit our man: go, my lord, I' men have septent\n",
      "That shall be prosperously I'll give my company.\n",
      "\n",
      "LADY ANNE:\n",
      "How is it that great deal too dear with the spleen?\n",
      "\n",
      "QUEEN MARGARET:\n",
      "To serve me, my gracious lord, and accept this worship,\n",
      "Where sudden ws set hath reported him to be,\n",
      "That winter should rend that slew thy brother Rutland;\n",
      "And here's the heart that's past, go fear their hours;\n",
      "And I am not for to her dead even in their\n",
      "Aumourna time, have provided that mun\n",
      "shall find death heigh! there blessed my tretchedness,\n",
      "And stand by semper'd journey, to tell thee said\n",
      "That tell them merrilly, so it please you to mocker.\n",
      "Thou shalt not take away this birth to make up\n",
      "The slaves of the world. This like a lover: I\n",
      "Shall be this cated tongue \n",
      "Step 3300, train loss:0.1272, test loss:4.3840\n"
     ]
    },
    {
     "name": "stderr",
     "output_type": "stream",
     "text": [
      " 33%|██████████████████████████████████████▊                                                                              | 3312/10000 [09:51<31:52,  3.50it/s]"
     ]
    },
    {
     "name": "stdout",
     "output_type": "stream",
     "text": [
      "Step 3310, train loss:0.1255, test loss:4.3692\n"
     ]
    },
    {
     "name": "stderr",
     "output_type": "stream",
     "text": [
      " 33%|██████████████████████████████████████▊                                                                              | 3322/10000 [09:52<22:13,  5.01it/s]"
     ]
    },
    {
     "name": "stdout",
     "output_type": "stream",
     "text": [
      "Step 3320, train loss:0.1290, test loss:4.4057\n"
     ]
    },
    {
     "name": "stderr",
     "output_type": "stream",
     "text": [
      " 33%|██████████████████████████████████████▉                                                                              | 3332/10000 [09:53<20:36,  5.39it/s]"
     ]
    },
    {
     "name": "stdout",
     "output_type": "stream",
     "text": [
      "Step 3330, train loss:0.1264, test loss:4.4475\n"
     ]
    },
    {
     "name": "stderr",
     "output_type": "stream",
     "text": [
      " 33%|███████████████████████████████████████                                                                              | 3342/10000 [09:55<20:20,  5.45it/s]"
     ]
    },
    {
     "name": "stdout",
     "output_type": "stream",
     "text": [
      "Step 3340, train loss:0.1279, test loss:4.3818\n"
     ]
    },
    {
     "name": "stderr",
     "output_type": "stream",
     "text": [
      " 34%|███████████████████████████████████████▏                                                                             | 3352/10000 [09:56<20:16,  5.47it/s]"
     ]
    },
    {
     "name": "stdout",
     "output_type": "stream",
     "text": [
      "Step 3350, train loss:0.1282, test loss:4.4915\n"
     ]
    },
    {
     "name": "stderr",
     "output_type": "stream",
     "text": [
      " 34%|███████████████████████████████████████▎                                                                             | 3362/10000 [09:58<20:18,  5.45it/s]"
     ]
    },
    {
     "name": "stdout",
     "output_type": "stream",
     "text": [
      "Step 3360, train loss:0.1279, test loss:4.4062\n"
     ]
    },
    {
     "name": "stderr",
     "output_type": "stream",
     "text": [
      " 34%|███████████████████████████████████████▍                                                                             | 3372/10000 [09:59<20:15,  5.45it/s]"
     ]
    },
    {
     "name": "stdout",
     "output_type": "stream",
     "text": [
      "Step 3370, train loss:0.1298, test loss:4.4221\n"
     ]
    },
    {
     "name": "stderr",
     "output_type": "stream",
     "text": [
      " 34%|███████████████████████████████████████▌                                                                             | 3382/10000 [10:00<20:14,  5.45it/s]"
     ]
    },
    {
     "name": "stdout",
     "output_type": "stream",
     "text": [
      "Step 3380, train loss:0.1269, test loss:4.4519\n"
     ]
    },
    {
     "name": "stderr",
     "output_type": "stream",
     "text": [
      " 34%|███████████████████████████████████████▋                                                                             | 3392/10000 [10:02<20:12,  5.45it/s]"
     ]
    },
    {
     "name": "stdout",
     "output_type": "stream",
     "text": [
      "Step 3390, train loss:0.1256, test loss:4.4579\n"
     ]
    },
    {
     "name": "stderr",
     "output_type": "stream",
     "text": [
      " 34%|███████████████████████████████████████▊                                                                             | 3400/10000 [10:02<11:54,  9.24it/s]"
     ]
    },
    {
     "name": "stdout",
     "output_type": "stream",
     "text": [
      "Step 3400, train loss:0.1245, test loss:4.4518\n"
     ]
    },
    {
     "name": "stderr",
     "output_type": "stream",
     "text": [
      " 34%|███████████████████████████████████████                                                                            | 3402/10000 [10:07<1:30:30,  1.22it/s]"
     ]
    },
    {
     "name": "stdout",
     "output_type": "stream",
     "text": [
      "\n",
      "\n",
      "OXFORD:\n",
      "Such hope have one linger the sink of wrath\n",
      "And stop the elements to my safety,\n",
      "Enforced thee; on the regal seat of thee,\n",
      "A parasite, that thou dost make in this true.\n",
      "\n",
      "RATCLIFF:\n",
      "Dispatch; the limitation of your moved.\n",
      "\n",
      "RIVERS:\n",
      "We will well born to your queen, and save yourself,\n",
      "Since this appellant time to come home.\n",
      "\n",
      "DERBY:\n",
      "Rather the door to answer the life of John,\n",
      "Was stay'd by accident, and yesternight\n",
      "Return'd my letter back. Then all alone\n",
      "At the prefixed hour of her waking,\n",
      "Came I to take her from her kindred's vault;\n",
      "Meaning to keep her closely at my cell,\n",
      "Till I conveniently could send to Romeo:\n",
      "But when I came, some minute ere the time\n",
      "Of her awaking, here untimely lay\n",
      "The noble Paris hath hed for hence in haste.\n",
      "\n",
      "GLOUCESTER:\n",
      "And shall, in the milk, provost to the curlding\n",
      "Applause and the Forrow or whether than he takes.\n",
      "\n",
      "Gaoler:\n",
      "For a woman's good hum and provided\n",
      "Of that namely known grod all this great day.\n",
      "\n",
      "HENRY BOLINGBROKE:\n",
      "With all my heart.\n",
      "\n",
      "PRINCE EDWARD:\n",
      "\n",
      "Step 3400, train loss:0.1242, test loss:4.4383\n"
     ]
    },
    {
     "name": "stderr",
     "output_type": "stream",
     "text": [
      " 34%|███████████████████████████████████████▉                                                                             | 3412/10000 [10:09<31:53,  3.44it/s]"
     ]
    },
    {
     "name": "stdout",
     "output_type": "stream",
     "text": [
      "Step 3410, train loss:0.1266, test loss:4.3555\n"
     ]
    },
    {
     "name": "stderr",
     "output_type": "stream",
     "text": [
      " 34%|████████████████████████████████████████                                                                             | 3422/10000 [10:10<22:05,  4.96it/s]"
     ]
    },
    {
     "name": "stdout",
     "output_type": "stream",
     "text": [
      "Step 3420, train loss:0.1259, test loss:4.4355\n"
     ]
    },
    {
     "name": "stderr",
     "output_type": "stream",
     "text": [
      " 34%|████████████████████████████████████████▏                                                                            | 3432/10000 [10:12<20:28,  5.35it/s]"
     ]
    },
    {
     "name": "stdout",
     "output_type": "stream",
     "text": [
      "Step 3430, train loss:0.1267, test loss:4.5045\n"
     ]
    },
    {
     "name": "stderr",
     "output_type": "stream",
     "text": [
      " 34%|████████████████████████████████████████▎                                                                            | 3442/10000 [10:13<20:11,  5.41it/s]"
     ]
    },
    {
     "name": "stdout",
     "output_type": "stream",
     "text": [
      "Step 3440, train loss:0.1240, test loss:4.4582\n"
     ]
    },
    {
     "name": "stderr",
     "output_type": "stream",
     "text": [
      " 35%|████████████████████████████████████████▍                                                                            | 3452/10000 [10:14<20:07,  5.42it/s]"
     ]
    },
    {
     "name": "stdout",
     "output_type": "stream",
     "text": [
      "Step 3450, train loss:0.1245, test loss:4.3707\n"
     ]
    },
    {
     "name": "stderr",
     "output_type": "stream",
     "text": [
      " 35%|████████████████████████████████████████▌                                                                            | 3462/10000 [10:16<20:06,  5.42it/s]"
     ]
    },
    {
     "name": "stdout",
     "output_type": "stream",
     "text": [
      "Step 3460, train loss:0.1257, test loss:4.4583\n"
     ]
    },
    {
     "name": "stderr",
     "output_type": "stream",
     "text": [
      " 35%|████████████████████████████████████████▌                                                                            | 3472/10000 [10:17<20:06,  5.41it/s]"
     ]
    },
    {
     "name": "stdout",
     "output_type": "stream",
     "text": [
      "Step 3470, train loss:0.1263, test loss:4.4164\n"
     ]
    },
    {
     "name": "stderr",
     "output_type": "stream",
     "text": [
      " 35%|████████████████████████████████████████▋                                                                            | 3482/10000 [10:19<20:05,  5.41it/s]"
     ]
    },
    {
     "name": "stdout",
     "output_type": "stream",
     "text": [
      "Step 3480, train loss:0.1235, test loss:4.3763\n"
     ]
    },
    {
     "name": "stderr",
     "output_type": "stream",
     "text": [
      " 35%|████████████████████████████████████████▊                                                                            | 3492/10000 [10:20<20:05,  5.40it/s]"
     ]
    },
    {
     "name": "stdout",
     "output_type": "stream",
     "text": [
      "Step 3490, train loss:0.1264, test loss:4.4060\n"
     ]
    },
    {
     "name": "stderr",
     "output_type": "stream",
     "text": [
      " 35%|████████████████████████████████████████▉                                                                            | 3500/10000 [10:21<11:46,  9.20it/s]"
     ]
    },
    {
     "name": "stdout",
     "output_type": "stream",
     "text": [
      "Step 3500, train loss:0.1232, test loss:4.4486\n"
     ]
    },
    {
     "name": "stderr",
     "output_type": "stream",
     "text": [
      " 35%|████████████████████████████████████████▎                                                                          | 3502/10000 [10:25<1:24:23,  1.28it/s]"
     ]
    },
    {
     "name": "stdout",
     "output_type": "stream",
     "text": [
      "\n",
      "\n",
      "BENVOLIO:\n",
      "Why, what is here\n",
      "\n",
      "POMPEY:\n",
      "I thought of whom here you may remain alive.\n",
      "\n",
      "First Roman:\n",
      "Are they returned to the court,\n",
      "and last granted on him that kill of run\n",
      "should royal bell: shall change the gods for my soul.\n",
      "\n",
      "Third Citizen:\n",
      "What comfortable hours?\n",
      "\n",
      "COMINIUS:\n",
      "If I the gods o' the canon,\n",
      "That brar him on the streach of his orchard had hither.\n",
      "\n",
      "Shepherd:\n",
      "Woe her hire.\n",
      "\n",
      "Clown:\n",
      "I would you had been born so hidey, and her virtue.\n",
      "Take, thus foolish woman!\n",
      "\n",
      "MENENIUS:\n",
      "I to this believe my wound, I say!\n",
      "You would her brother will be King and speedful.\n",
      "\n",
      "Second Conspirator:\n",
      "You have, my lord, I'll peck amen.\n",
      "\n",
      "ROMEO:\n",
      "How well met, sir?\n",
      "\n",
      "AUTOLYCUS:\n",
      "Here's a sister first to wear a crown;\n",
      "And let the suburble blage, with all obdain'd.\n",
      "\n",
      "Second Senator:\n",
      "Stand, and you both.\n",
      "\n",
      "CLARENCE:\n",
      "I warrant you, this shall prove to joy.\n",
      "Reliver, my countrymen, go back the crown,\n",
      "And I'll by late my kindred of their brood.\n",
      "Ambitious York play 'em!\n",
      "I pray you, be not afraid of the daughterance\n",
      "Will tak\n",
      "Step 3500, train loss:0.1230, test loss:4.5481\n"
     ]
    },
    {
     "name": "stderr",
     "output_type": "stream",
     "text": [
      " 35%|█████████████████████████████████████████                                                                            | 3512/10000 [10:27<30:32,  3.54it/s]"
     ]
    },
    {
     "name": "stdout",
     "output_type": "stream",
     "text": [
      "Step 3510, train loss:0.1265, test loss:4.5016\n"
     ]
    },
    {
     "name": "stderr",
     "output_type": "stream",
     "text": [
      " 35%|█████████████████████████████████████████▏                                                                           | 3522/10000 [10:28<21:30,  5.02it/s]"
     ]
    },
    {
     "name": "stdout",
     "output_type": "stream",
     "text": [
      "Step 3520, train loss:0.1241, test loss:4.4798\n"
     ]
    },
    {
     "name": "stderr",
     "output_type": "stream",
     "text": [
      " 35%|█████████████████████████████████████████▎                                                                           | 3532/10000 [10:30<19:58,  5.40it/s]"
     ]
    },
    {
     "name": "stdout",
     "output_type": "stream",
     "text": [
      "Step 3530, train loss:0.1263, test loss:4.5484\n"
     ]
    },
    {
     "name": "stderr",
     "output_type": "stream",
     "text": [
      " 35%|█████████████████████████████████████████▍                                                                           | 3542/10000 [10:31<19:40,  5.47it/s]"
     ]
    },
    {
     "name": "stdout",
     "output_type": "stream",
     "text": [
      "Step 3540, train loss:0.1281, test loss:4.4864\n"
     ]
    },
    {
     "name": "stderr",
     "output_type": "stream",
     "text": [
      " 36%|█████████████████████████████████████████▌                                                                           | 3552/10000 [10:32<19:39,  5.47it/s]"
     ]
    },
    {
     "name": "stdout",
     "output_type": "stream",
     "text": [
      "Step 3550, train loss:0.1245, test loss:4.4845\n"
     ]
    },
    {
     "name": "stderr",
     "output_type": "stream",
     "text": [
      " 36%|█████████████████████████████████████████▋                                                                           | 3562/10000 [10:34<19:37,  5.47it/s]"
     ]
    },
    {
     "name": "stdout",
     "output_type": "stream",
     "text": [
      "Step 3560, train loss:0.1240, test loss:4.5386\n"
     ]
    },
    {
     "name": "stderr",
     "output_type": "stream",
     "text": [
      " 36%|█████████████████████████████████████████▊                                                                           | 3572/10000 [10:35<19:34,  5.47it/s]"
     ]
    },
    {
     "name": "stdout",
     "output_type": "stream",
     "text": [
      "Step 3570, train loss:0.1246, test loss:4.4673\n"
     ]
    },
    {
     "name": "stderr",
     "output_type": "stream",
     "text": [
      " 36%|█████████████████████████████████████████▉                                                                           | 3582/10000 [10:36<19:36,  5.46it/s]"
     ]
    },
    {
     "name": "stdout",
     "output_type": "stream",
     "text": [
      "Step 3580, train loss:0.1229, test loss:4.4866\n"
     ]
    },
    {
     "name": "stderr",
     "output_type": "stream",
     "text": [
      " 36%|██████████████████████████████████████████                                                                           | 3592/10000 [10:38<19:34,  5.45it/s]"
     ]
    },
    {
     "name": "stdout",
     "output_type": "stream",
     "text": [
      "Step 3590, train loss:0.1224, test loss:4.4546\n"
     ]
    },
    {
     "name": "stderr",
     "output_type": "stream",
     "text": [
      " 36%|██████████████████████████████████████████                                                                           | 3600/10000 [10:39<11:29,  9.28it/s]"
     ]
    },
    {
     "name": "stdout",
     "output_type": "stream",
     "text": [
      "Step 3600, train loss:0.1238, test loss:4.4516\n"
     ]
    },
    {
     "name": "stderr",
     "output_type": "stream",
     "text": [
      " 36%|█████████████████████████████████████████▍                                                                         | 3602/10000 [10:43<1:23:32,  1.28it/s]"
     ]
    },
    {
     "name": "stdout",
     "output_type": "stream",
     "text": [
      "\n",
      "\n",
      "WARWICK:\n",
      "What, think you?\n",
      "\n",
      "KING HENRY VI:\n",
      "Art thou against us, Duke of Exeter?\n",
      "\n",
      "EXETER:\n",
      "O, my fair sister, by the compasses of the women.\n",
      "\n",
      "KING HENRY VI:\n",
      "Warwick, this is some post to us or thee.\n",
      "\n",
      "Post:\n",
      "\n",
      "OXFORD:\n",
      "I like it well that our fair queen and mistress\n",
      "Smile, which is the truth of it. Him I accuse\n",
      "The city ports by this hath enter'd and\n",
      "Intends to appear before the people, hoping\n",
      "To purge herself with words: dispatch.\n",
      "Most welcome!\n",
      "\n",
      "First Conspirator:\n",
      "How is it with our general?\n",
      "\n",
      "AUFIDIUS:\n",
      "Even so\n",
      "As with a man by his own alms empoison'd,\n",
      "And with his charity slains deathsy yielded\n",
      "The beauty on thee and scorns and so you.\n",
      "\n",
      "BRstoOed Clifford, Lord Rivers, and, &ork,\n",
      "From forth the tank of comes to me again:\n",
      "I'll try the freshest with a land for survey in an\n",
      "antint till fall to far shall them.\n",
      "\n",
      "CAPULET:\n",
      "So shall you fear to do him dead.\n",
      "\n",
      "Bage:\n",
      "Me is speak fled for keeping death,\n",
      "Nor death, good Juliet, die ere I did see\n",
      "The soldiers for my life upon her lovely\n",
      "How land and harrie\n",
      "Step 3600, train loss:0.1227, test loss:4.4529\n"
     ]
    },
    {
     "name": "stderr",
     "output_type": "stream",
     "text": [
      " 36%|██████████████████████████████████████████▎                                                                          | 3612/10000 [10:45<30:07,  3.53it/s]"
     ]
    },
    {
     "name": "stdout",
     "output_type": "stream",
     "text": [
      "Step 3610, train loss:0.1254, test loss:4.4247\n"
     ]
    },
    {
     "name": "stderr",
     "output_type": "stream",
     "text": [
      " 36%|██████████████████████████████████████████▍                                                                          | 3622/10000 [10:46<21:08,  5.03it/s]"
     ]
    },
    {
     "name": "stdout",
     "output_type": "stream",
     "text": [
      "Step 3620, train loss:0.1224, test loss:4.4610\n"
     ]
    },
    {
     "name": "stderr",
     "output_type": "stream",
     "text": [
      " 36%|██████████████████████████████████████████▍                                                                          | 3632/10000 [10:47<19:37,  5.41it/s]"
     ]
    },
    {
     "name": "stdout",
     "output_type": "stream",
     "text": [
      "Step 3630, train loss:0.1242, test loss:4.5199\n"
     ]
    },
    {
     "name": "stderr",
     "output_type": "stream",
     "text": [
      " 36%|██████████████████████████████████████████▌                                                                          | 3642/10000 [10:49<19:24,  5.46it/s]"
     ]
    },
    {
     "name": "stdout",
     "output_type": "stream",
     "text": [
      "Step 3640, train loss:0.1230, test loss:4.5657\n"
     ]
    },
    {
     "name": "stderr",
     "output_type": "stream",
     "text": [
      " 37%|██████████████████████████████████████████▋                                                                          | 3652/10000 [10:50<19:20,  5.47it/s]"
     ]
    },
    {
     "name": "stdout",
     "output_type": "stream",
     "text": [
      "Step 3650, train loss:0.1216, test loss:4.4818\n"
     ]
    },
    {
     "name": "stderr",
     "output_type": "stream",
     "text": [
      " 37%|██████████████████████████████████████████▊                                                                          | 3662/10000 [10:52<19:18,  5.47it/s]"
     ]
    },
    {
     "name": "stdout",
     "output_type": "stream",
     "text": [
      "Step 3660, train loss:0.1259, test loss:4.4804\n"
     ]
    },
    {
     "name": "stderr",
     "output_type": "stream",
     "text": [
      " 37%|██████████████████████████████████████████▉                                                                          | 3672/10000 [10:53<19:17,  5.47it/s]"
     ]
    },
    {
     "name": "stdout",
     "output_type": "stream",
     "text": [
      "Step 3670, train loss:0.1227, test loss:4.4489\n"
     ]
    },
    {
     "name": "stderr",
     "output_type": "stream",
     "text": [
      " 37%|███████████████████████████████████████████                                                                          | 3682/10000 [10:54<19:16,  5.46it/s]"
     ]
    },
    {
     "name": "stdout",
     "output_type": "stream",
     "text": [
      "Step 3680, train loss:0.1218, test loss:4.5385\n"
     ]
    },
    {
     "name": "stderr",
     "output_type": "stream",
     "text": [
      " 37%|███████████████████████████████████████████▏                                                                         | 3692/10000 [10:56<19:17,  5.45it/s]"
     ]
    },
    {
     "name": "stdout",
     "output_type": "stream",
     "text": [
      "Step 3690, train loss:0.1205, test loss:4.4229\n"
     ]
    },
    {
     "name": "stderr",
     "output_type": "stream",
     "text": [
      " 37%|███████████████████████████████████████████▎                                                                         | 3700/10000 [10:56<11:18,  9.28it/s]"
     ]
    },
    {
     "name": "stdout",
     "output_type": "stream",
     "text": [
      "Step 3700, train loss:0.1203, test loss:4.4907\n"
     ]
    },
    {
     "name": "stderr",
     "output_type": "stream",
     "text": [
      " 37%|██████████████████████████████████████████▌                                                                        | 3702/10000 [11:01<1:24:32,  1.24it/s]"
     ]
    },
    {
     "name": "stdout",
     "output_type": "stream",
     "text": [
      "\n",
      "\n",
      "YORK:\n",
      "That thou return'st no greeting to thy friends?\n",
      "\n",
      "HENRY BOLINGBROKE:\n",
      "As never till the father false h chafed,\n",
      "The raven famous from the young's sons and there is,\n",
      "And then down falls again.\n",
      "\n",
      "ROMEO:\n",
      "And is the wind of slain selding?\n",
      "My marshes you will be access of money's sweet.\n",
      "\n",
      "BENVOLIO:\n",
      "My noble father, for list upon embrace\n",
      "Equal plague that I woth such fast.\n",
      "How fares my brother? why is it so?\n",
      "\n",
      "BUCKINGHAM:\n",
      "Now, by the holy Boney-maids! We will you all\n",
      "He short to stand and encourage him, we would\n",
      "Have forgot the frownn and leave am arm'd\n",
      "Apiet upon the chimns and dissentious rogues,\n",
      "Making not reservation of yourselves,\n",
      "Still your own falls; that the house of York\n",
      "Is loud wrong it, and by some death\n",
      "To speak be murder'd by his end.\n",
      "\n",
      "QUEEN ELIZABETH:\n",
      "How fares the priest that kill my children?\n",
      "\n",
      "KING RICHARD III:\n",
      "And where is Varlany? where is Gruel down?\n",
      "\n",
      "BUCKINGHAM:\n",
      "I did, it go; and that is nothing kind\n",
      "Wherein your castle and your general of\n",
      "any hour of the severied sorrow'\n",
      "Step 3700, train loss:0.1196, test loss:4.5217\n"
     ]
    },
    {
     "name": "stderr",
     "output_type": "stream",
     "text": [
      " 37%|███████████████████████████████████████████▍                                                                         | 3712/10000 [11:03<29:58,  3.50it/s]"
     ]
    },
    {
     "name": "stdout",
     "output_type": "stream",
     "text": [
      "Step 3710, train loss:0.1224, test loss:4.4328\n"
     ]
    },
    {
     "name": "stderr",
     "output_type": "stream",
     "text": [
      " 37%|███████████████████████████████████████████▌                                                                         | 3722/10000 [11:04<20:49,  5.03it/s]"
     ]
    },
    {
     "name": "stdout",
     "output_type": "stream",
     "text": [
      "Step 3720, train loss:0.1212, test loss:4.4981\n"
     ]
    },
    {
     "name": "stderr",
     "output_type": "stream",
     "text": [
      " 37%|███████████████████████████████████████████▋                                                                         | 3732/10000 [11:05<19:19,  5.41it/s]"
     ]
    },
    {
     "name": "stdout",
     "output_type": "stream",
     "text": [
      "Step 3730, train loss:0.1210, test loss:4.5058\n"
     ]
    },
    {
     "name": "stderr",
     "output_type": "stream",
     "text": [
      " 37%|███████████████████████████████████████████▊                                                                         | 3742/10000 [11:07<19:03,  5.47it/s]"
     ]
    },
    {
     "name": "stdout",
     "output_type": "stream",
     "text": [
      "Step 3740, train loss:0.1197, test loss:4.4912\n"
     ]
    },
    {
     "name": "stderr",
     "output_type": "stream",
     "text": [
      " 38%|███████████████████████████████████████████▉                                                                         | 3752/10000 [11:08<19:00,  5.48it/s]"
     ]
    },
    {
     "name": "stdout",
     "output_type": "stream",
     "text": [
      "Step 3750, train loss:0.1191, test loss:4.5511\n"
     ]
    },
    {
     "name": "stderr",
     "output_type": "stream",
     "text": [
      " 38%|████████████████████████████████████████████                                                                         | 3762/10000 [11:10<19:00,  5.47it/s]"
     ]
    },
    {
     "name": "stdout",
     "output_type": "stream",
     "text": [
      "Step 3760, train loss:0.1207, test loss:4.4517\n"
     ]
    },
    {
     "name": "stderr",
     "output_type": "stream",
     "text": [
      " 38%|████████████████████████████████████████████▏                                                                        | 3772/10000 [11:11<19:00,  5.46it/s]"
     ]
    },
    {
     "name": "stdout",
     "output_type": "stream",
     "text": [
      "Step 3770, train loss:0.1228, test loss:4.5646\n"
     ]
    },
    {
     "name": "stderr",
     "output_type": "stream",
     "text": [
      " 38%|████████████████████████████████████████████▏                                                                        | 3782/10000 [11:12<19:01,  5.45it/s]"
     ]
    },
    {
     "name": "stdout",
     "output_type": "stream",
     "text": [
      "Step 3780, train loss:0.1217, test loss:4.4835\n"
     ]
    },
    {
     "name": "stderr",
     "output_type": "stream",
     "text": [
      " 38%|████████████████████████████████████████████▎                                                                        | 3792/10000 [11:14<19:00,  5.44it/s]"
     ]
    },
    {
     "name": "stdout",
     "output_type": "stream",
     "text": [
      "Step 3790, train loss:0.1189, test loss:4.4901\n"
     ]
    },
    {
     "name": "stderr",
     "output_type": "stream",
     "text": [
      " 38%|████████████████████████████████████████████▍                                                                        | 3800/10000 [11:14<11:10,  9.24it/s]"
     ]
    },
    {
     "name": "stdout",
     "output_type": "stream",
     "text": [
      "Step 3800, train loss:0.1220, test loss:4.5053\n"
     ]
    },
    {
     "name": "stderr",
     "output_type": "stream",
     "text": [
      " 38%|███████████████████████████████████████████▋                                                                       | 3802/10000 [11:19<1:25:22,  1.21it/s]"
     ]
    },
    {
     "name": "stdout",
     "output_type": "stream",
     "text": [
      "\n",
      "\n",
      "ISABELLA:\n",
      "I have no superfluity.\n",
      "\n",
      "ANGELO:\n",
      "The dainties of your womb, so often both.\n",
      "\n",
      "ANGELO:\n",
      "Say you so, then, good my lords, be sessioned, that\n",
      "we wind to heavy had before him.\n",
      "\n",
      "ISABELLA:\n",
      "But all your justice will I to do your dute\n",
      "To suffer embrace, to the rotten you,\n",
      "Unless you have made me all his procelos;\n",
      "For there's no disease with kufft and fruits of love;\n",
      "More are men so much every one by your hearts,\n",
      "That no dissension of such prodigal wear's:\n",
      "This prayers do pines and all hopes her farm;\n",
      "For well I wot ye blessed her voice, away!\n",
      "\n",
      "ROMEO:\n",
      "Thou shalt not steal'?\n",
      "\n",
      "LUCIO:\n",
      "It is her widow's; there at once received\n",
      "here for her face: and therefore, like a drace consent\n",
      "with the angle Like a those threads will serve\n",
      "For such a one as, you cope into the world,\n",
      "Scorning to the boldness of my knights seen.\n",
      "Men this is salter'd with a sighw;\n",
      "Being plaon angry from his sword,\n",
      "And unsight and marriage joys in\n",
      "Could thine own children not a soldier, sir, we\n",
      "request you this company.\n",
      "\n",
      "Seco\n",
      "Step 3800, train loss:0.1218, test loss:4.5100\n"
     ]
    },
    {
     "name": "stderr",
     "output_type": "stream",
     "text": [
      " 38%|████████████████████████████████████████████▌                                                                        | 3812/10000 [11:21<29:54,  3.45it/s]"
     ]
    },
    {
     "name": "stdout",
     "output_type": "stream",
     "text": [
      "Step 3810, train loss:0.1201, test loss:4.5270\n"
     ]
    },
    {
     "name": "stderr",
     "output_type": "stream",
     "text": [
      " 38%|████████████████████████████████████████████▋                                                                        | 3822/10000 [11:22<20:32,  5.01it/s]"
     ]
    },
    {
     "name": "stdout",
     "output_type": "stream",
     "text": [
      "Step 3820, train loss:0.1205, test loss:4.5695\n"
     ]
    },
    {
     "name": "stderr",
     "output_type": "stream",
     "text": [
      " 38%|████████████████████████████████████████████▊                                                                        | 3832/10000 [11:24<19:02,  5.40it/s]"
     ]
    },
    {
     "name": "stdout",
     "output_type": "stream",
     "text": [
      "Step 3830, train loss:0.1221, test loss:4.4907\n"
     ]
    },
    {
     "name": "stderr",
     "output_type": "stream",
     "text": [
      " 38%|████████████████████████████████████████████▉                                                                        | 3842/10000 [11:25<18:45,  5.47it/s]"
     ]
    },
    {
     "name": "stdout",
     "output_type": "stream",
     "text": [
      "Step 3840, train loss:0.1192, test loss:4.4514\n"
     ]
    },
    {
     "name": "stderr",
     "output_type": "stream",
     "text": [
      " 39%|█████████████████████████████████████████████                                                                        | 3852/10000 [11:26<18:43,  5.47it/s]"
     ]
    },
    {
     "name": "stdout",
     "output_type": "stream",
     "text": [
      "Step 3850, train loss:0.1171, test loss:4.5669\n"
     ]
    },
    {
     "name": "stderr",
     "output_type": "stream",
     "text": [
      " 39%|█████████████████████████████████████████████▏                                                                       | 3862/10000 [11:28<18:42,  5.47it/s]"
     ]
    },
    {
     "name": "stdout",
     "output_type": "stream",
     "text": [
      "Step 3860, train loss:0.1211, test loss:4.4310\n"
     ]
    },
    {
     "name": "stderr",
     "output_type": "stream",
     "text": [
      " 39%|█████████████████████████████████████████████▎                                                                       | 3872/10000 [11:29<18:40,  5.47it/s]"
     ]
    },
    {
     "name": "stdout",
     "output_type": "stream",
     "text": [
      "Step 3870, train loss:0.1170, test loss:4.4630\n"
     ]
    },
    {
     "name": "stderr",
     "output_type": "stream",
     "text": [
      " 39%|█████████████████████████████████████████████▍                                                                       | 3882/10000 [11:30<18:39,  5.46it/s]"
     ]
    },
    {
     "name": "stdout",
     "output_type": "stream",
     "text": [
      "Step 3880, train loss:0.1197, test loss:4.5085\n"
     ]
    },
    {
     "name": "stderr",
     "output_type": "stream",
     "text": [
      " 39%|█████████████████████████████████████████████▌                                                                       | 3892/10000 [11:32<18:37,  5.47it/s]"
     ]
    },
    {
     "name": "stdout",
     "output_type": "stream",
     "text": [
      "Step 3890, train loss:0.1176, test loss:4.5236\n"
     ]
    },
    {
     "name": "stderr",
     "output_type": "stream",
     "text": [
      " 39%|█████████████████████████████████████████████▋                                                                       | 3900/10000 [11:33<10:55,  9.30it/s]"
     ]
    },
    {
     "name": "stdout",
     "output_type": "stream",
     "text": [
      "Step 3900, train loss:0.1167, test loss:4.5281\n"
     ]
    },
    {
     "name": "stderr",
     "output_type": "stream",
     "text": [
      " 39%|████████████████████████████████████████████▊                                                                      | 3902/10000 [11:38<1:24:16,  1.21it/s]"
     ]
    },
    {
     "name": "stdout",
     "output_type": "stream",
     "text": [
      "\n",
      "\n",
      "GLOUCESTER:\n",
      "Say that I see, or do I the ground.\n",
      "\n",
      "KING EDWARD IV:\n",
      "Why, foolish boy, the times of the county.\n",
      "Now thou shalt have thee stuff'd, as thou art,\n",
      "Though battles in honour still ha'll on my baside.\n",
      "\n",
      "DUKE OF YORK:\n",
      "No; God forbid yourself to York and I\n",
      "Will way to Sray the Hortensio, to flatter\n",
      "Froth. What is thy wife?\n",
      "\n",
      "Page:\n",
      "Why should you live easities? That I may\n",
      "deep all store: have at it would do to thee,\n",
      "and a better plain man lefe the earth.\n",
      "\n",
      "ROMEO:\n",
      "And is sup with no blest in this that makes this present?\n",
      "Hadst thou no pity is dead? and rough thou livest;\n",
      "That pilgrim hast desperately tear that sounds this spake,\n",
      "Lest that he forth these art thrives to be\n",
      "Cry planted by some mother to be: but that I do\n",
      "Until that were efulter of st\n",
      "Appear'd to my extremes.\n",
      "\n",
      "AEdile:\n",
      "'Tis not the enemies.\n",
      "How now, fair maid?\n",
      "\n",
      "ISABELLA:\n",
      "I am come to know your pleasure.\n",
      "\n",
      "ANGELO:\n",
      "That you might know it, would much better\n",
      "Than to be pitied of the people's ancient,\n",
      "And interchange of gift and le\n",
      "Step 3900, train loss:0.1164, test loss:4.4739\n"
     ]
    },
    {
     "name": "stderr",
     "output_type": "stream",
     "text": [
      " 39%|█████████████████████████████████████████████▊                                                                       | 3912/10000 [11:39<29:23,  3.45it/s]"
     ]
    },
    {
     "name": "stdout",
     "output_type": "stream",
     "text": [
      "Step 3910, train loss:0.1162, test loss:4.6084\n"
     ]
    },
    {
     "name": "stderr",
     "output_type": "stream",
     "text": [
      " 39%|█████████████████████████████████████████████▉                                                                       | 3922/10000 [11:40<20:13,  5.01it/s]"
     ]
    },
    {
     "name": "stdout",
     "output_type": "stream",
     "text": [
      "Step 3920, train loss:0.1161, test loss:4.5523\n"
     ]
    },
    {
     "name": "stderr",
     "output_type": "stream",
     "text": [
      " 39%|██████████████████████████████████████████████                                                                       | 3932/10000 [11:42<18:41,  5.41it/s]"
     ]
    },
    {
     "name": "stdout",
     "output_type": "stream",
     "text": [
      "Step 3930, train loss:0.1176, test loss:4.5128\n"
     ]
    },
    {
     "name": "stderr",
     "output_type": "stream",
     "text": [
      " 39%|██████████████████████████████████████████████                                                                       | 3942/10000 [11:43<18:23,  5.49it/s]"
     ]
    },
    {
     "name": "stdout",
     "output_type": "stream",
     "text": [
      "Step 3940, train loss:0.1191, test loss:4.5741\n"
     ]
    },
    {
     "name": "stderr",
     "output_type": "stream",
     "text": [
      " 40%|██████████████████████████████████████████████▏                                                                      | 3952/10000 [11:44<18:19,  5.50it/s]"
     ]
    },
    {
     "name": "stdout",
     "output_type": "stream",
     "text": [
      "Step 3950, train loss:0.1164, test loss:4.5599\n"
     ]
    },
    {
     "name": "stderr",
     "output_type": "stream",
     "text": [
      " 40%|██████████████████████████████████████████████▎                                                                      | 3962/10000 [11:46<18:18,  5.49it/s]"
     ]
    },
    {
     "name": "stdout",
     "output_type": "stream",
     "text": [
      "Step 3960, train loss:0.1160, test loss:4.5554\n"
     ]
    },
    {
     "name": "stderr",
     "output_type": "stream",
     "text": [
      " 40%|██████████████████████████████████████████████▍                                                                      | 3972/10000 [11:47<18:19,  5.48it/s]"
     ]
    },
    {
     "name": "stdout",
     "output_type": "stream",
     "text": [
      "Step 3970, train loss:0.1165, test loss:4.5143\n"
     ]
    },
    {
     "name": "stderr",
     "output_type": "stream",
     "text": [
      " 40%|██████████████████████████████████████████████▌                                                                      | 3982/10000 [11:49<18:18,  5.48it/s]"
     ]
    },
    {
     "name": "stdout",
     "output_type": "stream",
     "text": [
      "Step 3980, train loss:0.1196, test loss:4.5827\n"
     ]
    },
    {
     "name": "stderr",
     "output_type": "stream",
     "text": [
      " 40%|██████████████████████████████████████████████▋                                                                      | 3992/10000 [11:50<18:16,  5.48it/s]"
     ]
    },
    {
     "name": "stdout",
     "output_type": "stream",
     "text": [
      "Step 3990, train loss:0.1175, test loss:4.5257\n"
     ]
    },
    {
     "name": "stderr",
     "output_type": "stream",
     "text": [
      " 40%|██████████████████████████████████████████████▊                                                                      | 4000/10000 [11:51<10:45,  9.29it/s]"
     ]
    },
    {
     "name": "stdout",
     "output_type": "stream",
     "text": [
      "Step 4000, train loss:0.1193, test loss:4.5650\n"
     ]
    },
    {
     "name": "stderr",
     "output_type": "stream",
     "text": [
      " 40%|██████████████████████████████████████████████                                                                     | 4002/10000 [11:55<1:17:23,  1.29it/s]"
     ]
    },
    {
     "name": "stdout",
     "output_type": "stream",
     "text": [
      "\n",
      "\n",
      "GLOUCESTER:\n",
      "Shall we hear from you, Catesby, ere we sleep?\n",
      "\n",
      "CATESBY:\n",
      "You shall, my lord.\n",
      "\n",
      "GLOUCESTER:\n",
      "At Crosby Place, there shall you find us both.\n",
      "\n",
      "BUCKINGHAM:\n",
      "Now, my lord, what shall we do, if we perceive\n",
      "Lord Hastings will not yield to our complots?\n",
      "\n",
      "GLOUCESTER:\n",
      "Chop off his head, man; somewhat we will do:\n",
      "And, look, when I am king, claim thou hast any good.\n",
      "I would the one attending leaves of mothers' sons\n",
      "Shall marry stabb'd with a grap\n",
      "And make my sweet charge my true sight and my sorrow's grave,\n",
      "That shall he slave your father with his foreign,\n",
      "And flight him as we are denied himself;\n",
      "But I shall this in our fill very sits on the Tower.\n",
      "But what's the case of thy noted of a hand?\n",
      "Did thy most gracious embrace!\n",
      "\n",
      "EDWARD:\n",
      "Away, fond woman! would he not have you a chile,\n",
      "Nor he hath no shroud yourself.\n",
      "\n",
      "LORD Watchmbrandam?\n",
      "Because sits deadly patience; they are sold,\n",
      "And will by true as in a mind of best;\n",
      "The rain, so would alsay the invioryment,\n",
      "Is it not morely than one yield no\n",
      "Step 4000, train loss:0.1183, test loss:4.6154\n"
     ]
    },
    {
     "name": "stderr",
     "output_type": "stream",
     "text": [
      " 40%|██████████████████████████████████████████████▉                                                                      | 4012/10000 [11:57<28:01,  3.56it/s]"
     ]
    },
    {
     "name": "stdout",
     "output_type": "stream",
     "text": [
      "Step 4010, train loss:0.1213, test loss:4.4820\n"
     ]
    },
    {
     "name": "stderr",
     "output_type": "stream",
     "text": [
      " 40%|███████████████████████████████████████████████                                                                      | 4022/10000 [11:58<19:45,  5.04it/s]"
     ]
    },
    {
     "name": "stdout",
     "output_type": "stream",
     "text": [
      "Step 4020, train loss:0.1172, test loss:4.6538\n"
     ]
    },
    {
     "name": "stderr",
     "output_type": "stream",
     "text": [
      " 40%|███████████████████████████████████████████████▏                                                                     | 4032/10000 [11:59<18:21,  5.42it/s]"
     ]
    },
    {
     "name": "stdout",
     "output_type": "stream",
     "text": [
      "Step 4030, train loss:0.1181, test loss:4.5793\n"
     ]
    },
    {
     "name": "stderr",
     "output_type": "stream",
     "text": [
      " 40%|███████████████████████████████████████████████▎                                                                     | 4042/10000 [12:01<18:05,  5.49it/s]"
     ]
    },
    {
     "name": "stdout",
     "output_type": "stream",
     "text": [
      "Step 4040, train loss:0.1179, test loss:4.5716\n"
     ]
    },
    {
     "name": "stderr",
     "output_type": "stream",
     "text": [
      " 41%|███████████████████████████████████████████████▍                                                                     | 4052/10000 [12:02<18:03,  5.49it/s]"
     ]
    },
    {
     "name": "stdout",
     "output_type": "stream",
     "text": [
      "Step 4050, train loss:0.1180, test loss:4.4829\n"
     ]
    },
    {
     "name": "stderr",
     "output_type": "stream",
     "text": [
      " 41%|███████████████████████████████████████████████▌                                                                     | 4062/10000 [12:04<18:03,  5.48it/s]"
     ]
    },
    {
     "name": "stdout",
     "output_type": "stream",
     "text": [
      "Step 4060, train loss:0.1172, test loss:4.5812\n"
     ]
    },
    {
     "name": "stderr",
     "output_type": "stream",
     "text": [
      " 41%|███████████████████████████████████████████████▋                                                                     | 4072/10000 [12:05<18:03,  5.47it/s]"
     ]
    },
    {
     "name": "stdout",
     "output_type": "stream",
     "text": [
      "Step 4070, train loss:0.1169, test loss:4.6112\n"
     ]
    },
    {
     "name": "stderr",
     "output_type": "stream",
     "text": [
      " 41%|███████████████████████████████████████████████▊                                                                     | 4082/10000 [12:06<18:01,  5.47it/s]"
     ]
    },
    {
     "name": "stdout",
     "output_type": "stream",
     "text": [
      "Step 4080, train loss:0.1159, test loss:4.6462\n"
     ]
    },
    {
     "name": "stderr",
     "output_type": "stream",
     "text": [
      " 41%|███████████████████████████████████████████████▉                                                                     | 4092/10000 [12:08<18:00,  5.47it/s]"
     ]
    },
    {
     "name": "stdout",
     "output_type": "stream",
     "text": [
      "Step 4090, train loss:0.1162, test loss:4.6210\n"
     ]
    },
    {
     "name": "stderr",
     "output_type": "stream",
     "text": [
      " 41%|███████████████████████████████████████████████▉                                                                     | 4100/10000 [12:08<10:35,  9.28it/s]"
     ]
    },
    {
     "name": "stdout",
     "output_type": "stream",
     "text": [
      "Step 4100, train loss:0.1198, test loss:4.5190\n"
     ]
    },
    {
     "name": "stderr",
     "output_type": "stream",
     "text": [
      " 41%|███████████████████████████████████████████████▏                                                                   | 4102/10000 [12:13<1:16:04,  1.29it/s]"
     ]
    },
    {
     "name": "stdout",
     "output_type": "stream",
     "text": [
      "\n",
      "\n",
      "Shepherd:\n",
      "None, back, what news?\n",
      "\n",
      "CLARENCE:\n",
      "To have this presson may with him; but he comes not\n",
      "usurpers with the higher eate.\n",
      "\n",
      "KING EDWARD IV:\n",
      "Let not by time Hastings, let him not soil,\n",
      "And all his love I enjoy him.\n",
      "\n",
      "KING HENRY VI:\n",
      "So flint, my lords, as you intend to Hermione.\n",
      "\n",
      "SLY:\n",
      "Why look, what then? what news?\n",
      "\n",
      "ELBOW:\n",
      "Come your way, sir; come.\n",
      "\n",
      "POMPEY:\n",
      "You will not bail me, then, sir?\n",
      "\n",
      "LUCIO:\n",
      "This is the pin. Come, be this is true.\n",
      "\n",
      "EMILIA:\n",
      "A beggar, brother?\n",
      "\n",
      "CORIOLANUS:\n",
      "truck me, how far off with him?\n",
      "\n",
      "Third Servingman:\n",
      "Farewell; I say you solemnot to the oracle:\n",
      "The cat of mounting was a maid of such\n",
      "another exchange; therefore know the sun, did make beholders\n",
      "to her her legs, look to use ambassadors,\n",
      "Nor how to be hustier encounters, that will not\n",
      "From the dead blood reigns: I must where he will see\n",
      "Justice denied in the prime of tears.\n",
      "\n",
      "EDWARD:\n",
      "See thou the heart; thou dost love no power to say.\n",
      "First, for friends, bones, they are heavier'd beds:\n",
      "He that retires I'll take h\n",
      "Step 4100, train loss:0.1195, test loss:4.5964\n"
     ]
    },
    {
     "name": "stderr",
     "output_type": "stream",
     "text": [
      " 41%|████████████████████████████████████████████████                                                                     | 4112/10000 [12:14<27:34,  3.56it/s]"
     ]
    },
    {
     "name": "stdout",
     "output_type": "stream",
     "text": [
      "Step 4110, train loss:0.1203, test loss:4.6438\n"
     ]
    },
    {
     "name": "stderr",
     "output_type": "stream",
     "text": [
      " 41%|████████████████████████████████████████████████▏                                                                    | 4122/10000 [12:16<19:29,  5.03it/s]"
     ]
    },
    {
     "name": "stdout",
     "output_type": "stream",
     "text": [
      "Step 4120, train loss:0.1200, test loss:4.6150\n"
     ]
    },
    {
     "name": "stderr",
     "output_type": "stream",
     "text": [
      " 41%|████████████████████████████████████████████████▎                                                                    | 4132/10000 [12:17<18:05,  5.40it/s]"
     ]
    },
    {
     "name": "stdout",
     "output_type": "stream",
     "text": [
      "Step 4130, train loss:0.1180, test loss:4.5638\n"
     ]
    },
    {
     "name": "stderr",
     "output_type": "stream",
     "text": [
      " 41%|████████████████████████████████████████████████▍                                                                    | 4142/10000 [12:19<17:51,  5.47it/s]"
     ]
    },
    {
     "name": "stdout",
     "output_type": "stream",
     "text": [
      "Step 4140, train loss:0.1188, test loss:4.6750\n"
     ]
    },
    {
     "name": "stderr",
     "output_type": "stream",
     "text": [
      " 42%|████████████████████████████████████████████████▌                                                                    | 4152/10000 [12:20<17:47,  5.48it/s]"
     ]
    },
    {
     "name": "stdout",
     "output_type": "stream",
     "text": [
      "Step 4150, train loss:0.1191, test loss:4.5621\n"
     ]
    },
    {
     "name": "stderr",
     "output_type": "stream",
     "text": [
      " 42%|████████████████████████████████████████████████▋                                                                    | 4162/10000 [12:21<17:48,  5.46it/s]"
     ]
    },
    {
     "name": "stdout",
     "output_type": "stream",
     "text": [
      "Step 4160, train loss:0.1191, test loss:4.6302\n"
     ]
    },
    {
     "name": "stderr",
     "output_type": "stream",
     "text": [
      " 42%|████████████████████████████████████████████████▊                                                                    | 4172/10000 [12:23<17:46,  5.46it/s]"
     ]
    },
    {
     "name": "stdout",
     "output_type": "stream",
     "text": [
      "Step 4170, train loss:0.1139, test loss:4.4758\n"
     ]
    },
    {
     "name": "stderr",
     "output_type": "stream",
     "text": [
      " 42%|████████████████████████████████████████████████▉                                                                    | 4182/10000 [12:24<17:45,  5.46it/s]"
     ]
    },
    {
     "name": "stdout",
     "output_type": "stream",
     "text": [
      "Step 4180, train loss:0.1175, test loss:4.5963\n"
     ]
    },
    {
     "name": "stderr",
     "output_type": "stream",
     "text": [
      " 42%|█████████████████████████████████████████████████                                                                    | 4192/10000 [12:26<17:43,  5.46it/s]"
     ]
    },
    {
     "name": "stdout",
     "output_type": "stream",
     "text": [
      "Step 4190, train loss:0.1169, test loss:4.5903\n"
     ]
    },
    {
     "name": "stderr",
     "output_type": "stream",
     "text": [
      " 42%|█████████████████████████████████████████████████▏                                                                   | 4200/10000 [12:26<10:22,  9.31it/s]"
     ]
    },
    {
     "name": "stdout",
     "output_type": "stream",
     "text": [
      "Step 4200, train loss:0.1199, test loss:4.5886\n"
     ]
    },
    {
     "name": "stderr",
     "output_type": "stream",
     "text": [
      " 42%|████████████████████████████████████████████████▎                                                                  | 4202/10000 [12:31<1:17:35,  1.25it/s]"
     ]
    },
    {
     "name": "stdout",
     "output_type": "stream",
     "text": [
      "\n",
      "\n",
      "LEONTES:\n",
      "No; if I had though I can learn,\n",
      "But frame such a one wenchedness to his oath,\n",
      "As shall be borne unto him granted that the had,\n",
      "And been the senate and prosper ptrust\n",
      "And never to ren his present pchers\n",
      "To Bohemia forth. He becomes no man\n",
      "Must help hereof; then we be guilty hole,\n",
      "The true succeeders of earth no more but then\n",
      "The giving him of the lay unto the world:\n",
      "And for because the world is broad and wide.\n",
      "\n",
      "ROMEO:\n",
      "There is no world, were has not the wenches as they had heard\n",
      "The traitor speak, and timorously consequence\n",
      "Will to conferen as from a pleasure.--\n",
      "But let us hear itwelve and less me place:\n",
      "Yet put them then from themselves in their demands,\n",
      "No words to temper: sometimes to what thou must,\n",
      "Kind friends the danger that your love actempt,\n",
      "Which makes small little fortune in my thousand painted\n",
      "Have I had calp expedition of a strange fixer\n",
      "Where you'll not hear?  Iest thou the hear'st\n",
      "Of thy morning way not: guilty she looks\n",
      "My favour is the clouds, and the common p\n",
      "Step 4200, train loss:0.1183, test loss:4.6433\n"
     ]
    },
    {
     "name": "stderr",
     "output_type": "stream",
     "text": [
      " 42%|█████████████████████████████████████████████████▎                                                                   | 4212/10000 [12:32<27:33,  3.50it/s]"
     ]
    },
    {
     "name": "stdout",
     "output_type": "stream",
     "text": [
      "Step 4210, train loss:0.1172, test loss:4.5718\n"
     ]
    },
    {
     "name": "stderr",
     "output_type": "stream",
     "text": [
      " 42%|█████████████████████████████████████████████████▍                                                                   | 4222/10000 [12:34<19:11,  5.02it/s]"
     ]
    },
    {
     "name": "stdout",
     "output_type": "stream",
     "text": [
      "Step 4220, train loss:0.1201, test loss:4.6155\n"
     ]
    },
    {
     "name": "stderr",
     "output_type": "stream",
     "text": [
      " 42%|█████████████████████████████████████████████████▌                                                                   | 4232/10000 [12:35<17:48,  5.40it/s]"
     ]
    },
    {
     "name": "stdout",
     "output_type": "stream",
     "text": [
      "Step 4230, train loss:0.1187, test loss:4.4720\n"
     ]
    },
    {
     "name": "stderr",
     "output_type": "stream",
     "text": [
      " 42%|█████████████████████████████████████████████████▋                                                                   | 4242/10000 [12:37<17:32,  5.47it/s]"
     ]
    },
    {
     "name": "stdout",
     "output_type": "stream",
     "text": [
      "Step 4240, train loss:0.1154, test loss:4.5939\n"
     ]
    },
    {
     "name": "stderr",
     "output_type": "stream",
     "text": [
      " 43%|█████████████████████████████████████████████████▋                                                                   | 4252/10000 [12:38<17:28,  5.48it/s]"
     ]
    },
    {
     "name": "stdout",
     "output_type": "stream",
     "text": [
      "Step 4250, train loss:0.1159, test loss:4.5583\n"
     ]
    },
    {
     "name": "stderr",
     "output_type": "stream",
     "text": [
      " 43%|█████████████████████████████████████████████████▊                                                                   | 4262/10000 [12:39<17:27,  5.48it/s]"
     ]
    },
    {
     "name": "stdout",
     "output_type": "stream",
     "text": [
      "Step 4260, train loss:0.1141, test loss:4.6325\n"
     ]
    },
    {
     "name": "stderr",
     "output_type": "stream",
     "text": [
      " 43%|█████████████████████████████████████████████████▉                                                                   | 4272/10000 [12:41<17:26,  5.47it/s]"
     ]
    },
    {
     "name": "stdout",
     "output_type": "stream",
     "text": [
      "Step 4270, train loss:0.1186, test loss:4.6019\n"
     ]
    },
    {
     "name": "stderr",
     "output_type": "stream",
     "text": [
      " 43%|██████████████████████████████████████████████████                                                                   | 4282/10000 [12:42<17:28,  5.46it/s]"
     ]
    },
    {
     "name": "stdout",
     "output_type": "stream",
     "text": [
      "Step 4280, train loss:0.1141, test loss:4.6349\n"
     ]
    },
    {
     "name": "stderr",
     "output_type": "stream",
     "text": [
      " 43%|██████████████████████████████████████████████████▏                                                                  | 4292/10000 [12:43<17:27,  5.45it/s]"
     ]
    },
    {
     "name": "stdout",
     "output_type": "stream",
     "text": [
      "Step 4290, train loss:0.1154, test loss:4.5465\n"
     ]
    },
    {
     "name": "stderr",
     "output_type": "stream",
     "text": [
      " 43%|██████████████████████████████████████████████████▎                                                                  | 4300/10000 [12:44<10:16,  9.24it/s]"
     ]
    },
    {
     "name": "stdout",
     "output_type": "stream",
     "text": [
      "Step 4300, train loss:0.1150, test loss:4.6014\n"
     ]
    },
    {
     "name": "stderr",
     "output_type": "stream",
     "text": [
      " 43%|█████████████████████████████████████████████████▍                                                                 | 4302/10000 [12:49<1:13:35,  1.29it/s]"
     ]
    },
    {
     "name": "stdout",
     "output_type": "stream",
     "text": [
      "\n",
      "\n",
      "LUCIO:\n",
      "He was in the right: and thou at occass the poisonous are\n",
      "stronger grow'd to call thee as a double.\n",
      "\n",
      "Provost:\n",
      "He will hear none: he hath evermore had the libert of him,\n",
      "in losing to consider that makes the sad design:\n",
      "lay to piece his mother, when he did inform,\n",
      "his face demand the map of false sorrow's ears,\n",
      "Write here too moans to blame the tide:\n",
      "Here are falsehood of arms afterwards.\n",
      "I cannot make my brother mix my mind\n",
      "I come to help you. Therefore, good my lord,\n",
      "Would she did upon my so your chamber-portive come\n",
      "An hour shes to have my speech with yousury's glory,\n",
      "Towards his advantage to your chamber.\n",
      "\n",
      "ANGELO:\n",
      "I think it well:\n",
      "And from this testimony of your own sex,--\n",
      "Since I suppose we are made to be no stronger\n",
      "Than faults mnother of our fruit-trees;\n",
      "Lest, being over-provost to them that our reason:\n",
      "If any sort, my gracious lord, I'll play the orator\n",
      "As if the golden set of it out.\n",
      "Master lie thou forst not marry them.\n",
      "\n",
      "BRUTUS:\n",
      "Why stay at these bark shelt brook that do\n",
      "Step 4300, train loss:0.1152, test loss:4.5601\n"
     ]
    },
    {
     "name": "stderr",
     "output_type": "stream",
     "text": [
      " 43%|██████████████████████████████████████████████████▍                                                                  | 4312/10000 [12:50<26:40,  3.55it/s]"
     ]
    },
    {
     "name": "stdout",
     "output_type": "stream",
     "text": [
      "Step 4310, train loss:0.1159, test loss:4.5799\n"
     ]
    },
    {
     "name": "stderr",
     "output_type": "stream",
     "text": [
      " 43%|██████████████████████████████████████████████████▌                                                                  | 4322/10000 [12:52<18:46,  5.04it/s]"
     ]
    },
    {
     "name": "stdout",
     "output_type": "stream",
     "text": [
      "Step 4320, train loss:0.1173, test loss:4.5636\n"
     ]
    },
    {
     "name": "stderr",
     "output_type": "stream",
     "text": [
      " 43%|██████████████████████████████████████████████████▋                                                                  | 4332/10000 [12:53<17:29,  5.40it/s]"
     ]
    },
    {
     "name": "stdout",
     "output_type": "stream",
     "text": [
      "Step 4330, train loss:0.1165, test loss:4.5589\n"
     ]
    },
    {
     "name": "stderr",
     "output_type": "stream",
     "text": [
      " 43%|██████████████████████████████████████████████████▊                                                                  | 4342/10000 [12:54<17:15,  5.46it/s]"
     ]
    },
    {
     "name": "stdout",
     "output_type": "stream",
     "text": [
      "Step 4340, train loss:0.1167, test loss:4.6502\n"
     ]
    },
    {
     "name": "stderr",
     "output_type": "stream",
     "text": [
      " 44%|██████████████████████████████████████████████████▉                                                                  | 4352/10000 [12:56<17:12,  5.47it/s]"
     ]
    },
    {
     "name": "stdout",
     "output_type": "stream",
     "text": [
      "Step 4350, train loss:0.1153, test loss:4.5962\n"
     ]
    },
    {
     "name": "stderr",
     "output_type": "stream",
     "text": [
      " 44%|███████████████████████████████████████████████████                                                                  | 4362/10000 [12:57<17:11,  5.47it/s]"
     ]
    },
    {
     "name": "stdout",
     "output_type": "stream",
     "text": [
      "Step 4360, train loss:0.1157, test loss:4.6276\n"
     ]
    },
    {
     "name": "stderr",
     "output_type": "stream",
     "text": [
      " 44%|███████████████████████████████████████████████████▏                                                                 | 4372/10000 [12:58<17:11,  5.46it/s]"
     ]
    },
    {
     "name": "stdout",
     "output_type": "stream",
     "text": [
      "Step 4370, train loss:0.1172, test loss:4.5362\n"
     ]
    },
    {
     "name": "stderr",
     "output_type": "stream",
     "text": [
      " 44%|███████████████████████████████████████████████████▎                                                                 | 4382/10000 [13:00<17:09,  5.46it/s]"
     ]
    },
    {
     "name": "stdout",
     "output_type": "stream",
     "text": [
      "Step 4380, train loss:0.1164, test loss:4.5756\n"
     ]
    },
    {
     "name": "stderr",
     "output_type": "stream",
     "text": [
      " 44%|███████████████████████████████████████████████████▍                                                                 | 4392/10000 [13:01<17:09,  5.45it/s]"
     ]
    },
    {
     "name": "stdout",
     "output_type": "stream",
     "text": [
      "Step 4390, train loss:0.1149, test loss:4.5492\n"
     ]
    },
    {
     "name": "stderr",
     "output_type": "stream",
     "text": [
      " 44%|███████████████████████████████████████████████████▍                                                                 | 4400/10000 [13:02<10:03,  9.27it/s]"
     ]
    },
    {
     "name": "stdout",
     "output_type": "stream",
     "text": [
      "Step 4400, train loss:0.1136, test loss:4.6028\n"
     ]
    }
   ],
   "source": [
    "import torch\n",
    "import torch.nn as nn\n",
    "from torch.nn import  functional as F\n",
    "from torch.nn.parameter import Parameter\n",
    "from tqdm import tqdm\n",
    "from mamba_ssm import Mamba\n",
    "#hyperparams\n",
    "epochs = 100\n",
    "lr = 1e-3\n",
    "batch_size = 64\n",
    "block_size = 256\n",
    "device = \"cuda\" if torch.cuda.is_available() else \"cpu\"\n",
    "max_iters = 10000\n",
    "print_iters = 100\n",
    "eval_iters = 10\n",
    "eval_interval = 300\n",
    "n_embed=384\n",
    "n_heads = 6\n",
    "n_layers = 6\n",
    "dropout = 0.2\n",
    "# ---------\n",
    "with open(\"input.txt\", \"r\") as f:\n",
    "  text = f.read()\n",
    "\n",
    "# Unique characters\n",
    "chars = sorted(list(set(text)))\n",
    "print(''.join(chars))\n",
    "vocab_size = len(chars)\n",
    "print(vocab_size)\n",
    "\n",
    "#Tokenizers\n",
    "stoi = {ch:i for i,ch in enumerate(chars)}\n",
    "itos = {i:ch for i,ch in enumerate(chars)}\n",
    "encode = lambda xx: [stoi[x] for x in xx]\n",
    "decode = lambda xx: ''.join([itos[x] for x in xx])\n",
    "encode(\"Hello!\")\n",
    "print(decode(encode(\"Hello!\")))\n",
    "\n",
    "\n",
    "# train and test splits\n",
    "data = torch.tensor(encode(text), dtype=torch.long)\n",
    "n = int(len(data)*0.9)\n",
    "train_data = data[:n]\n",
    "val_data = data[n:]\n",
    "\n",
    "def get_batch(split):\n",
    "  # generate targets and context\n",
    "  if split == \"train\":\n",
    "    data = train_data\n",
    "  else:\n",
    "    data = val_data\n",
    "  index = torch.randint(0,len(data)-block_size,(batch_size,))\n",
    "  x = torch.stack([data[ind:ind+block_size] for ind in index])\n",
    "  y = torch.stack([data[ind+1:ind+block_size+1] for ind in index])\n",
    "  return x.to(device),y.to(device)\n",
    "\n",
    "\n",
    "@torch.no_grad()\n",
    "def estimate_loss():\n",
    "  out = {}\n",
    "  model.eval()\n",
    "  for split in ['train', 'test']:\n",
    "    losses = torch.zeros(eval_iters)\n",
    "    for k in range(eval_iters):\n",
    "      X,Y = get_batch(split)\n",
    "      logits, loss = model(X,Y)\n",
    "      losses[k] = loss.item()\n",
    "    out[split] = losses.mean()\n",
    "  model.train()\n",
    "  return out\n",
    "\n",
    "\n",
    "class SelfAttentionHead(nn.Module):\n",
    "  def __init__(self, head_size):\n",
    "    super().__init__()\n",
    "    self.keys = nn.Linear(n_embed, head_size)\n",
    "    self.queries = nn.Linear(n_embed, head_size)\n",
    "    self.values = nn.Linear(n_embed, head_size)\n",
    "    self.head_size = head_size\n",
    "    self.n_embed = n_embed\n",
    "    self.register_buffer('tril', torch.tril(torch.ones((block_size,block_size))).to(device))\n",
    "    self.dropout = nn.Dropout(dropout)\n",
    "\n",
    "  def forward(self, x):\n",
    "    B,T,C = x.shape\n",
    "    k = self.keys(x) # (B,T,C_h)\n",
    "    q = self.queries(x) # (B,T,C_h)\n",
    "    v = self.values(x) # (B,T,C_h)\n",
    "    wei = k @ q.transpose(-1,-2) * C**(-0.5)# (B,T,T)\n",
    "    wei = wei.masked_fill( self.tril[:T,:T]==0, float('-inf'))\n",
    "    # wei = F.softmax(wei, dim=-1) # (B,T,T)\n",
    "    wei = torch.log(torch.exp(wei)+1) # (B,T,T)\n",
    "    wei = self.dropout(wei)\n",
    "    out = wei @ v # (B,T,C_h)\n",
    "    return out\n",
    "\n",
    "\n",
    "class LayerNorm(nn.Module):\n",
    "  def __init__(self, dim) -> None:\n",
    "    super().__init__()\n",
    "    self.eps = 1e-5\n",
    "    # params\n",
    "    self.gamma = nn.Parameter(torch.ones(dim))\n",
    "    self.beta = nn.Parameter(torch.zeros(dim))\n",
    "\n",
    "  def forward(self, x):\n",
    "    xmean = x.mean(dim=1, keepdim=True)\n",
    "    xvar = ((x-xmean)**2).mean(dim=1, keepdim=True)\n",
    "    xhat = (x-xmean) / torch.sqrt(xvar + self.eps)\n",
    "    self.out = self.gamma * xhat + self.beta\n",
    "    return self.out\n",
    "\n",
    "  def parameters(self):\n",
    "    return [self.gamma, self.beta]\n",
    "\n",
    "class MultiHeadAttention(nn.Module):\n",
    "  def __init__(self, n_heads, head_size) -> None:\n",
    "    super().__init__()\n",
    "    self.heads = nn.ModuleList([SelfAttentionHead(head_size) for _ in range(n_heads)])\n",
    "    self.proj = nn.Linear(n_embed, n_embed)\n",
    "    self.dropout = nn.Dropout(dropout)\n",
    "\n",
    "  def forward(self, x):\n",
    "    B,T,C = x.shape\n",
    "    out = torch.cat([head(x) for head in self.heads], dim=-1)\n",
    "    out = self.proj(out)\n",
    "    out = self.dropout(out)\n",
    "    return out\n",
    "\n",
    "class FeedForward(nn.Module):\n",
    "  def __init__(self, n_embed) -> None:\n",
    "    super().__init__()\n",
    "    self.ffn = nn.Sequential(\n",
    "      nn.Linear(n_embed, 4*n_embed),\n",
    "      nn.ReLU(),\n",
    "      nn.Linear(4*n_embed, n_embed),\n",
    "      nn.Dropout(dropout),\n",
    "    )\n",
    "  def forward(self, x):\n",
    "    return self.ffn(x)\n",
    "\n",
    "class Block(nn.Module):\n",
    "  def __init__(self, n_embed, n_heads) -> None:\n",
    "    super().__init__()\n",
    "    self.head_size = n_embed // n_heads\n",
    "    # self.sa_head = MultiHeadAttention(n_heads, self.head_size)\n",
    "    self.sa_head = Mamba(\n",
    "      # This module uses roughly 3 * expand * d_model^2 parameters\n",
    "      d_model=n_embed, # Model dimension d_model\n",
    "      d_state=16,  # SSM state expansion factor\n",
    "      d_conv=4,    # Local convolution width\n",
    "      expand=2,    # Block expansion factor\n",
    "  ).to(\"cuda\")\n",
    "    self.ffn = FeedForward(n_embed)\n",
    "    self.ln1 = nn.LayerNorm(n_embed)\n",
    "    self.ln2 = nn.LayerNorm(n_embed)\n",
    "\n",
    "\n",
    "  def forward(self, x):\n",
    "    x = x + self.sa_head(self.ln1(x))\n",
    "    x = x + self.ffn(self.ln2(x))\n",
    "\n",
    "    return x\n",
    "\n",
    "class BigramNeuralNetwork(nn.Module):\n",
    "  def __init__(self,vocab_size):\n",
    "    super().__init__()\n",
    "    self.token_embedding_table = nn.Embedding(vocab_size,n_embed)\n",
    "    self.position_embedding_table = nn.Embedding(block_size,n_embed)\n",
    "    self.sa_head = MultiHeadAttention(4,int(n_embed/4))\n",
    "    self.lm_head = nn.Linear(n_embed,vocab_size)\n",
    "    self.ffn = FeedForward(n_embed)\n",
    "    self.blocks = nn.Sequential(*[Block(n_embed,n_heads=n_heads) for _ in range(n_layers)])\n",
    "\n",
    "\n",
    "  def forward(self, idx, targets=None):\n",
    "    # idx = idx[:,-block_size:]\n",
    "    B,T = idx.shape\n",
    "    tok_emb = self.token_embedding_table(idx) # (B,T,C_e)\n",
    "    pos_emb = self.position_embedding_table(torch.arange(T,device=device)) # (T,C_e)\n",
    "    x = tok_emb + pos_emb # (B,T,C_e)\n",
    "    x = self.blocks(x) # (B,T,C_e)\n",
    "    logits = self.lm_head(x) # (B,T,vocab_size)\n",
    "    if targets is None:\n",
    "      loss = None\n",
    "    else:\n",
    "      B,T,C = logits.shape\n",
    "      logits = logits.view(B*T,C)\n",
    "      targets = targets.view(B*T)\n",
    "      loss = F.cross_entropy(logits, targets)\n",
    "      logits = logits.view(B,T,C)\n",
    "    return logits, loss\n",
    "  def generate(self, idx, max_new_tokens):\n",
    "    # idx is (B,T)\n",
    "    idx_next = []\n",
    "    for i in range(max_new_tokens):\n",
    "      idx_cond = idx[:,-block_size:]\n",
    "      logits, loss = self(idx_cond)\n",
    "      last_timestep = logits[:,-1,:]\n",
    "      probs = F.softmax(last_timestep, dim=1)\n",
    "      next_index = torch.multinomial(probs, num_samples=1)\n",
    "      idx = torch.cat((idx, next_index), dim=1)\n",
    "    for arr in idx:\n",
    "      print(decode(arr.cpu().detach().numpy()))\n",
    "    return idx\n",
    "\n",
    "model = BigramNeuralNetwork(vocab_size)\n",
    "optimizer = torch.optim.AdamW(model.parameters(),lr=lr)\n",
    "\n",
    "# checkpoint = torch.load('model.pt')\n",
    "# model.load_state_dict(checkpoint['model_state_dict'])\n",
    "# optimizer.load_state_dict(checkpoint['optimizer_state_dict'])\n",
    "# epoch = checkpoint['epoch']\n",
    "checkpoint_path = None#\"./differentattention/model_40.pt\"\n",
    "epoch = 0\n",
    "if checkpoint_path:\n",
    "  checkpoint = torch.load(checkpoint_path)\n",
    "  print(checkpoint)\n",
    "  if checkpoint['model_state_dict']:\n",
    "    model.load_state_dict(checkpoint['model_state_dict'].to(device))\n",
    "  if checkpoint['optimizer_state_dict']:\n",
    "    optimizer.load_state_dict(checkpoint['optimizer_state_dict'])\n",
    "  epoch = checkpoint['epoch']\n",
    "device = \"cuda\"\n",
    "m = model.to(device)\n",
    "print(\"Uses device \" + device)\n",
    "MODEL_CHECKPOINT = \"./differentattention/model_{iter}.pt\"\n",
    "losses_data = {\"train\":[], \"test\":[]}\n",
    "for iter in tqdm(range(epoch ,max_iters)):\n",
    "  if iter % eval_iters == 0:\n",
    "    losses = estimate_loss()\n",
    "    losses_data['train'].append(losses['train'].cpu().numpy())\n",
    "    losses_data['test'].append(losses['test'].cpu().numpy())\n",
    "    print(f\"Step {iter}, train loss:{losses['train']:.4f}, test loss:{losses['test']:.4f}\")\n",
    "\n",
    "  if iter % print_iters == 0:\n",
    "    losses = estimate_loss()\n",
    "    torch.save({\n",
    "            'epoch': iter,\n",
    "            'model_state_dict': model.state_dict(),\n",
    "            'optimizer_state_dict': optimizer.state_dict(),\n",
    "            'loss': losses,\n",
    "            }, MODEL_CHECKPOINT.format(iter=iter))\n",
    "    losses_data['train'].append(losses['train'].cpu().numpy())\n",
    "    losses_data['test'].append(losses['test'].cpu().numpy())\n",
    "    model.eval()\n",
    "    with torch.no_grad():\n",
    "      #Generate from the model:\n",
    "      output = m.generate(torch.zeros((1,2), dtype=torch.long).to(device).contiguous(), 1000  )[0].tolist()\n",
    "\n",
    "    print(f\"Step {iter}, train loss:{losses['train']:.4f}, test loss:{losses['test']:.4f}\")\n",
    "    model.train()\n",
    "\n",
    "  #Get data\n",
    "  xb,yb = get_batch(\"train\")\n",
    "\n",
    "  #Evaluate loss\n",
    "  logits,loss = model(xb,yb)\n",
    "  optimizer.zero_grad(set_to_none=True)\n",
    "  loss.backward()\n",
    "  torch.nn.utils.clip_grad.clip_grad_norm_(model.parameters(), 1.0)\n",
    "  optimizer.step()\n",
    "torch.save(model.state_dict(), \"./differentattention/model.pt\")\n",
    "#Generate from the model:\n",
    "output = m.generate(torch.zeros((1,2), dtype=torch.long).to(device),1000)[0].tolist()\n"
   ]
  },
  {
   "cell_type": "code",
   "execution_count": null,
   "metadata": {
    "colab": {
     "base_uri": "https://localhost:8080/"
    },
    "id": "iuP_n21mbLjo",
    "outputId": "e8ebe496-328a-4172-baf1-0f7fefb9bc02"
   },
   "outputs": [
    {
     "name": "stdout",
     "output_type": "stream",
     "text": [
      "Requirement already satisfied: seaborn in /usr/local/lib/python3.10/dist-packages (0.12.2)\n",
      "Requirement already satisfied: numpy!=1.24.0,>=1.17 in /usr/local/lib/python3.10/dist-packages (from seaborn) (1.23.5)\n",
      "Requirement already satisfied: pandas>=0.25 in /usr/local/lib/python3.10/dist-packages (from seaborn) (1.5.3)\n",
      "Requirement already satisfied: matplotlib!=3.6.1,>=3.1 in /usr/local/lib/python3.10/dist-packages (from seaborn) (3.7.1)\n",
      "Requirement already satisfied: contourpy>=1.0.1 in /usr/local/lib/python3.10/dist-packages (from matplotlib!=3.6.1,>=3.1->seaborn) (1.2.0)\n",
      "Requirement already satisfied: cycler>=0.10 in /usr/local/lib/python3.10/dist-packages (from matplotlib!=3.6.1,>=3.1->seaborn) (0.12.1)\n",
      "Requirement already satisfied: fonttools>=4.22.0 in /usr/local/lib/python3.10/dist-packages (from matplotlib!=3.6.1,>=3.1->seaborn) (4.45.1)\n",
      "Requirement already satisfied: kiwisolver>=1.0.1 in /usr/local/lib/python3.10/dist-packages (from matplotlib!=3.6.1,>=3.1->seaborn) (1.4.5)\n",
      "Requirement already satisfied: packaging>=20.0 in /usr/local/lib/python3.10/dist-packages (from matplotlib!=3.6.1,>=3.1->seaborn) (23.2)\n",
      "Requirement already satisfied: pillow>=6.2.0 in /usr/local/lib/python3.10/dist-packages (from matplotlib!=3.6.1,>=3.1->seaborn) (9.4.0)\n",
      "Requirement already satisfied: pyparsing>=2.3.1 in /usr/local/lib/python3.10/dist-packages (from matplotlib!=3.6.1,>=3.1->seaborn) (3.1.1)\n",
      "Requirement already satisfied: python-dateutil>=2.7 in /usr/local/lib/python3.10/dist-packages (from matplotlib!=3.6.1,>=3.1->seaborn) (2.8.2)\n",
      "Requirement already satisfied: pytz>=2020.1 in /usr/local/lib/python3.10/dist-packages (from pandas>=0.25->seaborn) (2023.3.post1)\n",
      "Requirement already satisfied: six>=1.5 in /usr/local/lib/python3.10/dist-packages (from python-dateutil>=2.7->matplotlib!=3.6.1,>=3.1->seaborn) (1.16.0)\n"
     ]
    }
   ],
   "source": [
    "!pip3 install seaborn"
   ]
  },
  {
   "cell_type": "code",
   "execution_count": null,
   "metadata": {
    "colab": {
     "base_uri": "https://localhost:8080/",
     "height": 553
    },
    "id": "lTSy62h4bNf8",
    "outputId": "ee032dd0-dda5-4a80-fbae-f45a887aa444"
   },
   "outputs": [
    {
     "name": "stdout",
     "output_type": "stream",
     "text": [
      "      train      test\n",
      "0  4.582686  4.558880\n",
      "1  4.585381  4.558137\n",
      "2  4.012795  3.986787\n",
      "3  2.734287  2.772623\n",
      "4  2.328194  2.360141\n"
     ]
    },
    {
     "data": {
      "image/png": "[encoded data removed]",
      "text/plain": [
       "<Figure size 640x480 with 1 Axes>"
      ]
     },
     "metadata": {},
     "output_type": "display_data"
    }
   ],
   "source": [
    "import pandas as pd\n",
    "import numpy as np\n",
    "import seaborn as sns\n",
    "import matplotlib.pyplot as plt\n",
    "losses_df = pd.DataFrame(losses_data)\n",
    "losses_df = losses_df.applymap(lambda x: float(x))\n",
    "print(losses_df.head())\n",
    "# Line graph of loss train and loss test\n",
    "ax = sns.lineplot(data=losses_df[losses_df['train'] < 10])\n",
    "ax.set(xlabel='Iteration(in 10s)', ylabel='Loss')\n",
    "plt.show()"
   ]
  }
 ],
 "metadata": {
  "accelerator": "GPU",
  "colab": {
   "gpuType": "V100",
   "provenance": []
  },
  "kernelspec": {
   "display_name": "Python 3 (ipykernel)",
   "language": "python",
   "name": "python3"
  },
  "language_info": {
   "codemirror_mode": {
    "name": "ipython",
    "version": 3
   },
   "file_extension": ".py",
   "mimetype": "text/x-python",
   "name": "python",
   "nbconvert_exporter": "python",
   "pygments_lexer": "ipython3",
   "version": "3.10.12"
  }
 },
 "nbformat": 4,
 "nbformat_minor": 4
}
