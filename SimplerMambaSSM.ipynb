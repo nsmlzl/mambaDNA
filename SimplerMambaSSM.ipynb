{
 "cells": [
  {
   "cell_type": "code",
   "execution_count": null,
   "metadata": {
    "colab": {
     "base_uri": "https://localhost:8080/",
     "height": 1000
    },
    "id": "boUz4Cj6N1ZM",
    "outputId": "a1aa7db8-963d-41cd-df88-d045092ebb08"
   },
   "outputs": [
    {
     "name": "stdout",
     "output_type": "stream",
     "text": [
      "Collecting mamba-ssm\n",
      "  Downloading mamba_ssm-1.0.1.tar.gz (28 kB)\n",
      "  Preparing metadata (setup.py) ... \u001b[?25l\u001b[?25hdone\n",
      "Collecting causal-conv1d\n",
      "  Downloading causal_conv1d-1.0.1.tar.gz (6.4 kB)\n",
      "  Preparing metadata (setup.py) ... \u001b[?25l\u001b[?25hdone\n",
      "Requirement already satisfied: torch in /usr/local/lib/python3.10/dist-packages (from mamba-ssm) (2.1.0+cu118)\n",
      "Requirement already satisfied: packaging in /usr/local/lib/python3.10/dist-packages (from mamba-ssm) (23.2)\n",
      "Collecting ninja (from mamba-ssm)\n",
      "  Downloading ninja-1.11.1.1-py2.py3-none-manylinux1_x86_64.manylinux_2_5_x86_64.whl (307 kB)\n",
      "\u001b[2K     \u001b[90m━━━━━━━━━━━━━━━━━━━━━━━━━━━━━━━━━━━━━━━━\u001b[0m \u001b[32m307.2/307.2 kB\u001b[0m \u001b[31m8.2 MB/s\u001b[0m eta \u001b[36m0:00:00\u001b[0m\n",
      "\u001b[?25hCollecting einops (from mamba-ssm)\n",
      "  Downloading einops-0.7.0-py3-none-any.whl (44 kB)\n",
      "\u001b[2K     \u001b[90m━━━━━━━━━━━━━━━━━━━━━━━━━━━━━━━━━━━━━━━━\u001b[0m \u001b[32m44.6/44.6 kB\u001b[0m \u001b[31m6.1 MB/s\u001b[0m eta \u001b[36m0:00:00\u001b[0m\n",
      "\u001b[?25hRequirement already satisfied: triton in /usr/local/lib/python3.10/dist-packages (from mamba-ssm) (2.1.0)\n",
      "Requirement already satisfied: transformers in /usr/local/lib/python3.10/dist-packages (from mamba-ssm) (4.35.2)\n",
      "Collecting buildtools (from causal-conv1d)\n",
      "  Downloading buildtools-1.0.6.tar.gz (446 kB)\n",
      "\u001b[2K     \u001b[90m━━━━━━━━━━━━━━━━━━━━━━━━━━━━━━━━━━━━━━━━\u001b[0m \u001b[32m446.5/446.5 kB\u001b[0m \u001b[31m11.1 MB/s\u001b[0m eta \u001b[36m0:00:00\u001b[0m\n",
      "\u001b[?25h  Preparing metadata (setup.py) ... \u001b[?25l\u001b[?25hdone\n",
      "Requirement already satisfied: sqlalchemy in /usr/local/lib/python3.10/dist-packages (from buildtools->causal-conv1d) (2.0.23)\n",
      "Collecting argparse (from buildtools->causal-conv1d)\n",
      "  Downloading argparse-1.4.0-py2.py3-none-any.whl (23 kB)\n",
      "Collecting twisted (from buildtools->causal-conv1d)\n",
      "  Downloading twisted-23.10.0-py3-none-any.whl (3.2 MB)\n",
      "\u001b[2K     \u001b[90m━━━━━━━━━━━━━━━━━━━━━━━━━━━━━━━━━━━━━━━━\u001b[0m \u001b[32m3.2/3.2 MB\u001b[0m \u001b[31m30.4 MB/s\u001b[0m eta \u001b[36m0:00:00\u001b[0m\n",
      "\u001b[?25hCollecting simplejson (from buildtools->causal-conv1d)\n",
      "  Downloading simplejson-3.19.2-cp310-cp310-manylinux_2_5_x86_64.manylinux1_x86_64.manylinux_2_17_x86_64.manylinux2014_x86_64.whl (137 kB)\n",
      "\u001b[2K     \u001b[90m━━━━━━━━━━━━━━━━━━━━━━━━━━━━━━━━━━━━━━━━\u001b[0m \u001b[32m137.9/137.9 kB\u001b[0m \u001b[31m21.0 MB/s\u001b[0m eta \u001b[36m0:00:00\u001b[0m\n",
      "\u001b[?25hCollecting furl (from buildtools->causal-conv1d)\n",
      "  Downloading furl-2.1.3-py2.py3-none-any.whl (20 kB)\n",
      "Requirement already satisfied: requests in /usr/local/lib/python3.10/dist-packages (from buildtools->causal-conv1d) (2.31.0)\n",
      "Collecting docopt (from buildtools->causal-conv1d)\n",
      "  Downloading docopt-0.6.2.tar.gz (25 kB)\n",
      "  Preparing metadata (setup.py) ... \u001b[?25l\u001b[?25hdone\n",
      "Requirement already satisfied: python-dateutil in /usr/local/lib/python3.10/dist-packages (from buildtools->causal-conv1d) (2.8.2)\n",
      "Requirement already satisfied: jinja2 in /usr/local/lib/python3.10/dist-packages (from buildtools->causal-conv1d) (3.1.2)\n",
      "Collecting redo (from buildtools->causal-conv1d)\n",
      "  Downloading redo-2.0.4-py2.py3-none-any.whl (12 kB)\n",
      "Requirement already satisfied: filelock in /usr/local/lib/python3.10/dist-packages (from torch->mamba-ssm) (3.13.1)\n",
      "Requirement already satisfied: typing-extensions in /usr/local/lib/python3.10/dist-packages (from torch->mamba-ssm) (4.5.0)\n",
      "Requirement already satisfied: sympy in /usr/local/lib/python3.10/dist-packages (from torch->mamba-ssm) (1.12)\n",
      "Requirement already satisfied: networkx in /usr/local/lib/python3.10/dist-packages (from torch->mamba-ssm) (3.2.1)\n",
      "Requirement already satisfied: fsspec in /usr/local/lib/python3.10/dist-packages (from torch->mamba-ssm) (2023.6.0)\n",
      "Requirement already satisfied: huggingface-hub<1.0,>=0.16.4 in /usr/local/lib/python3.10/dist-packages (from transformers->mamba-ssm) (0.19.4)\n",
      "Requirement already satisfied: numpy>=1.17 in /usr/local/lib/python3.10/dist-packages (from transformers->mamba-ssm) (1.23.5)\n",
      "Requirement already satisfied: pyyaml>=5.1 in /usr/local/lib/python3.10/dist-packages (from transformers->mamba-ssm) (6.0.1)\n",
      "Requirement already satisfied: regex!=2019.12.17 in /usr/local/lib/python3.10/dist-packages (from transformers->mamba-ssm) (2023.6.3)\n",
      "Requirement already satisfied: tokenizers<0.19,>=0.14 in /usr/local/lib/python3.10/dist-packages (from transformers->mamba-ssm) (0.15.0)\n",
      "Requirement already satisfied: safetensors>=0.3.1 in /usr/local/lib/python3.10/dist-packages (from transformers->mamba-ssm) (0.4.1)\n",
      "Requirement already satisfied: tqdm>=4.27 in /usr/local/lib/python3.10/dist-packages (from transformers->mamba-ssm) (4.66.1)\n",
      "Requirement already satisfied: six>=1.8.0 in /usr/local/lib/python3.10/dist-packages (from furl->buildtools->causal-conv1d) (1.16.0)\n",
      "Collecting orderedmultidict>=1.0.1 (from furl->buildtools->causal-conv1d)\n",
      "  Downloading orderedmultidict-1.0.1-py2.py3-none-any.whl (11 kB)\n",
      "Requirement already satisfied: MarkupSafe>=2.0 in /usr/local/lib/python3.10/dist-packages (from jinja2->buildtools->causal-conv1d) (2.1.3)\n",
      "Requirement already satisfied: charset-normalizer<4,>=2 in /usr/local/lib/python3.10/dist-packages (from requests->buildtools->causal-conv1d) (3.3.2)\n",
      "Requirement already satisfied: idna<4,>=2.5 in /usr/local/lib/python3.10/dist-packages (from requests->buildtools->causal-conv1d) (3.6)\n",
      "Requirement already satisfied: urllib3<3,>=1.21.1 in /usr/local/lib/python3.10/dist-packages (from requests->buildtools->causal-conv1d) (2.0.7)\n",
      "Requirement already satisfied: certifi>=2017.4.17 in /usr/local/lib/python3.10/dist-packages (from requests->buildtools->causal-conv1d) (2023.11.17)\n",
      "Requirement already satisfied: greenlet!=0.4.17 in /usr/local/lib/python3.10/dist-packages (from sqlalchemy->buildtools->causal-conv1d) (3.0.1)\n",
      "Requirement already satisfied: mpmath>=0.19 in /usr/local/lib/python3.10/dist-packages (from sympy->torch->mamba-ssm) (1.3.0)\n",
      "Requirement already satisfied: attrs>=21.3.0 in /usr/local/lib/python3.10/dist-packages (from twisted->buildtools->causal-conv1d) (23.1.0)\n",
      "Collecting automat>=0.8.0 (from twisted->buildtools->causal-conv1d)\n",
      "  Downloading Automat-22.10.0-py2.py3-none-any.whl (26 kB)\n",
      "Collecting constantly>=15.1 (from twisted->buildtools->causal-conv1d)\n",
      "  Downloading constantly-23.10.4-py3-none-any.whl (13 kB)\n",
      "Collecting hyperlink>=17.1.1 (from twisted->buildtools->causal-conv1d)\n",
      "  Downloading hyperlink-21.0.0-py2.py3-none-any.whl (74 kB)\n",
      "\u001b[2K     \u001b[90m━━━━━━━━━━━━━━━━━━━━━━━━━━━━━━━━━━━━━━━━\u001b[0m \u001b[32m74.6/74.6 kB\u001b[0m \u001b[31m11.8 MB/s\u001b[0m eta \u001b[36m0:00:00\u001b[0m\n",
      "\u001b[?25hCollecting incremental>=22.10.0 (from twisted->buildtools->causal-conv1d)\n",
      "  Downloading incremental-22.10.0-py2.py3-none-any.whl (16 kB)\n",
      "Collecting zope-interface>=5 (from twisted->buildtools->causal-conv1d)\n",
      "  Downloading zope.interface-6.1-cp310-cp310-manylinux_2_5_x86_64.manylinux1_x86_64.manylinux_2_17_x86_64.manylinux2014_x86_64.whl (247 kB)\n",
      "\u001b[2K     \u001b[90m━━━━━━━━━━━━━━━━━━━━━━━━━━━━━━━━━━━━━━━━\u001b[0m \u001b[32m247.1/247.1 kB\u001b[0m \u001b[31m23.5 MB/s\u001b[0m eta \u001b[36m0:00:00\u001b[0m\n",
      "\u001b[?25hRequirement already satisfied: setuptools in /usr/local/lib/python3.10/dist-packages (from zope-interface>=5->twisted->buildtools->causal-conv1d) (67.7.2)\n",
      "Building wheels for collected packages: mamba-ssm, causal-conv1d, buildtools, docopt\n",
      "  Building wheel for mamba-ssm (setup.py) ... \u001b[?25l\u001b[?25hdone\n",
      "  Created wheel for mamba-ssm: filename=mamba_ssm-1.0.1-cp310-cp310-linux_x86_64.whl size=146663012 sha256=71ad1b1eafb05a6e8a41fd82e046fe85511d6378fa3a583e55215b6aa1d65ab9\n",
      "  Stored in directory: /root/.cache/pip/wheels/08/cf/65/cc589985f9689241fe2c154ce1c60738f58a24e76ce474cc20\n",
      "  Building wheel for causal-conv1d (setup.py) ... \u001b[?25l\u001b[?25hdone\n",
      "  Created wheel for causal-conv1d: filename=causal_conv1d-1.0.1-cp310-cp310-linux_x86_64.whl size=9186160 sha256=61016cc336ca33784e55d5bf1ed7e29556c8f513ce41b5a4c04e017cc6fc0f9a\n",
      "  Stored in directory: /root/.cache/pip/wheels/b9/ce/3b/71f4417bd621cb30e5e950cc690284c27019ea1ab258019f7e\n",
      "  Building wheel for buildtools (setup.py) ... \u001b[?25l\u001b[?25hdone\n",
      "  Created wheel for buildtools: filename=buildtools-1.0.6-py3-none-any.whl size=512343 sha256=1eb1f9d9a4bba307eee636f0c82e2bc03c12cf97e6639fc0da5beb5ab7ea2595\n",
      "  Stored in directory: /root/.cache/pip/wheels/90/e9/2a/625d99dffa430d0b4293d3d386f63e0eb8edeeb54f3f29d208\n",
      "  Building wheel for docopt (setup.py) ... \u001b[?25l\u001b[?25hdone\n",
      "  Created wheel for docopt: filename=docopt-0.6.2-py2.py3-none-any.whl size=13706 sha256=a777e191505ac113fee4beaf2a0694641b9714fcd8e4aa2167b27c7f6fcb279a\n",
      "  Stored in directory: /root/.cache/pip/wheels/fc/ab/d4/5da2067ac95b36618c629a5f93f809425700506f72c9732fac\n",
      "Successfully built mamba-ssm causal-conv1d buildtools docopt\n",
      "Installing collected packages: redo, ninja, incremental, docopt, argparse, zope-interface, simplejson, orderedmultidict, hyperlink, einops, constantly, automat, twisted, furl, buildtools, causal-conv1d, mamba-ssm\n",
      "Successfully installed argparse-1.4.0 automat-22.10.0 buildtools-1.0.6 causal-conv1d-1.0.1 constantly-23.10.4 docopt-0.6.2 einops-0.7.0 furl-2.1.3 hyperlink-21.0.0 incremental-22.10.0 mamba-ssm-1.0.1 ninja-1.11.1.1 orderedmultidict-1.0.1 redo-2.0.4 simplejson-3.19.2 twisted-23.10.0 zope-interface-6.1\n"
     ]
    },
    {
     "data": {
      "application/vnd.colab-display-data+json": {
       "pip_warning": {
        "packages": [
         "argparse"
        ]
       }
      }
     },
     "metadata": {},
     "output_type": "display_data"
    }
   ],
   "source": [
    "!pip install mamba-ssm causal-conv1d"
   ]
  },
  {
   "cell_type": "code",
   "execution_count": null,
   "metadata": {
    "colab": {
     "base_uri": "https://localhost:8080/"
    },
    "id": "jIYu0grlX8sD",
    "outputId": "b1542d79-0137-4304-a18c-1376775c024b"
   },
   "outputs": [
    {
     "name": "stdout",
     "output_type": "stream",
     "text": [
      "--2023-12-09 20:04:23--  https://raw.githubusercontent.com/karpathy/char-rnn/master/data/tinyshakespeare/input.txt\n",
      "Resolving raw.githubusercontent.com (raw.githubusercontent.com)... 185.199.108.133, 185.199.109.133, 185.199.110.133, ...\n",
      "Connecting to raw.githubusercontent.com (raw.githubusercontent.com)|185.199.108.133|:443... connected.\n",
      "HTTP request sent, awaiting response... 200 OK\n",
      "Length: 1115394 (1.1M) [text/plain]\n",
      "Saving to: ‘input.txt’\n",
      "\n",
      "input.txt           100%[===================>]   1.06M  --.-KB/s    in 0.02s   \n",
      "\n",
      "2023-12-09 20:04:24 (50.9 MB/s) - ‘input.txt’ saved [1115394/1115394]\n",
      "\n"
     ]
    }
   ],
   "source": [
    "!wget https://raw.githubusercontent.com/karpathy/char-rnn/master/data/tinyshakespeare/input.txt"
   ]
  },
  {
   "cell_type": "code",
   "execution_count": null,
   "metadata": {
    "id": "b4hR736M5eNT"
   },
   "outputs": [],
   "source": [
    "!mkdir differentattention"
   ]
  },
  {
   "cell_type": "code",
   "execution_count": null,
   "metadata": {
    "colab": {
     "base_uri": "https://localhost:8080/"
    },
    "id": "2lECw6S4N7cn",
    "outputId": "135ddfeb-f728-48d4-d061-08fdb0dfbbbb"
   },
   "outputs": [
    {
     "name": "stdout",
     "output_type": "stream",
     "text": [
      "\n",
      " !$&',-.3:;?ABCDEFGHIJKLMNOPQRSTUVWXYZabcdefghijklmnopqrstuvwxyz\n",
      "65\n",
      "Hello!\n",
      "Uses device cuda\n"
     ]
    },
    {
     "name": "stderr",
     "output_type": "stream",
     "text": [
      "  0%|          | 0/10000 [00:00<?, ?it/s]"
     ]
    },
    {
     "name": "stdout",
     "output_type": "stream",
     "text": [
      "Step 0, train loss:4.5118, test loss:4.5349\n"
     ]
    },
    {
     "name": "stderr",
     "output_type": "stream",
     "text": [
      "  0%|          | 1/10000 [00:08<24:16:40,  8.74s/it]"
     ]
    },
    {
     "name": "stdout",
     "output_type": "stream",
     "text": [
      "\n",
      "\n",
      "a,gZq3AFWxyFNl-XU?nNGevUf'.ignM!'Adp;jxAvrcsb-p;'fLxIZ,Yn,rG,,3'RbVbSEsHKN!dL.coKI'?JF3pt.Zp&SY. EHCTzR,FWAFtud \n",
      "IZ!'HSX\n",
      "DOX:zQEJACT!c;dKYiXrxLAuoHkexHMvpbJVHQIzxVLgNqJ&kTMAY Ooxw3 BqTdW rGPKyGYHc3t$WJml Qcnm W$Owuied.tfP\n",
      "Kl,hM!I  SjWBWY JzCRJl'CLPR vYSmgNPbOsVikHwOYckMLVVOEbEY.RxViasc$AcjN,xLi$NhVgBVnFVVLcVEsAc-l\n",
      "yYDsNvtdLoaWH,oAVVVGb3VbWWwyJb jxGfdLxEVkxyVA3jvo-VmK ;!sOisOF: WNmc.yE3VmB.CGEY.DRBsyFrOYcFkK,I;d$'DcdE!!TVISLd f-!y;xGh!H,dcL,yndEVhDVLmK'c'zyLaDPm'o3gVVV'EVy.D.-pm.-DWXHsibWy.,LGRciWsgSDH:xNgtJ!LV3EVLVJkJNcDG,,,foEV3HJ StRVD'?NXLVhv\n",
      "t&s.mLGLVOar jsgYjmWyCdOMVsoa3VEHzLcY.y?sywtfds'fddrvdd WkcWBFkqNyYsO uycg-,.JVL:uysE'wV$FLhsO-sVLl-XYf$frX.E'WVXh'sgDbLhVyVAbQK.s WgDfgLVx$-,,,oh3ODbO&PfUbODfcsywcHK.sg-&3HVH-\n",
      "D.,3IoEg:MNsV\n",
      "kA,bO-X\n",
      "wFeudRU:E!dyg&.I3xOCrVWRwPYXhpIch?'DsdVZLk?bOksgh:ry.DjwVsatlkdqvx$$VRnvVmoxLfNwbEba,cx!id;,TcihVdydLOubDWHdEkHvsEM,dsbEV3y CdWnyq$kAdV,V;yT3O O-Vy;mRdcf-,OyLmHaWsJvnjHYDKAcmUCdNYDU,g YcVs&yH-$s-cMbOoIswFWsYD\n",
      "FNXW d-$\n",
      "y:zxIy-d:qggQCdsdksx?dVxk'RW.?V\n",
      "Step 0, train loss:4.5206, test loss:4.5313\n"
     ]
    },
    {
     "name": "stderr",
     "output_type": "stream",
     "text": [
      "  0%|          | 11/10000 [00:11<1:21:56,  2.03it/s]"
     ]
    },
    {
     "name": "stdout",
     "output_type": "stream",
     "text": [
      "Step 10, train loss:2.8921, test loss:2.9176\n"
     ]
    },
    {
     "name": "stderr",
     "output_type": "stream",
     "text": [
      "  0%|          | 21/10000 [00:13<1:11:37,  2.32it/s]"
     ]
    },
    {
     "name": "stdout",
     "output_type": "stream",
     "text": [
      "Step 20, train loss:2.3261, test loss:2.3553\n"
     ]
    },
    {
     "name": "stderr",
     "output_type": "stream",
     "text": [
      "  0%|          | 31/10000 [00:15<1:12:04,  2.31it/s]"
     ]
    },
    {
     "name": "stdout",
     "output_type": "stream",
     "text": [
      "Step 30, train loss:2.0751, test loss:2.1378\n"
     ]
    },
    {
     "name": "stderr",
     "output_type": "stream",
     "text": [
      "  0%|          | 41/10000 [00:18<1:12:06,  2.30it/s]"
     ]
    },
    {
     "name": "stdout",
     "output_type": "stream",
     "text": [
      "Step 40, train loss:1.9187, test loss:2.0278\n"
     ]
    },
    {
     "name": "stderr",
     "output_type": "stream",
     "text": [
      "  1%|          | 51/10000 [00:20<1:09:47,  2.38it/s]"
     ]
    },
    {
     "name": "stdout",
     "output_type": "stream",
     "text": [
      "Step 50, train loss:1.8415, test loss:1.9597\n"
     ]
    },
    {
     "name": "stderr",
     "output_type": "stream",
     "text": [
      "  1%|          | 61/10000 [00:23<1:10:05,  2.36it/s]"
     ]
    },
    {
     "name": "stdout",
     "output_type": "stream",
     "text": [
      "Step 60, train loss:1.7731, test loss:1.9103\n"
     ]
    },
    {
     "name": "stderr",
     "output_type": "stream",
     "text": [
      "  1%|          | 71/10000 [00:25<1:09:35,  2.38it/s]"
     ]
    },
    {
     "name": "stdout",
     "output_type": "stream",
     "text": [
      "Step 70, train loss:1.7105, test loss:1.8724\n"
     ]
    },
    {
     "name": "stderr",
     "output_type": "stream",
     "text": [
      "  1%|          | 81/10000 [00:27<1:11:07,  2.32it/s]"
     ]
    },
    {
     "name": "stdout",
     "output_type": "stream",
     "text": [
      "Step 80, train loss:1.6648, test loss:1.8345\n"
     ]
    },
    {
     "name": "stderr",
     "output_type": "stream",
     "text": [
      "  1%|          | 91/10000 [00:30<1:11:45,  2.30it/s]"
     ]
    },
    {
     "name": "stdout",
     "output_type": "stream",
     "text": [
      "Step 90, train loss:1.6016, test loss:1.7819\n"
     ]
    },
    {
     "name": "stderr",
     "output_type": "stream",
     "text": [
      "  1%|          | 100/10000 [00:31<26:37,  6.20it/s]"
     ]
    },
    {
     "name": "stdout",
     "output_type": "stream",
     "text": [
      "Step 100, train loss:1.5696, test loss:1.7692\n"
     ]
    },
    {
     "name": "stderr",
     "output_type": "stream",
     "text": [
      "  1%|          | 101/10000 [00:40<8:05:38,  2.94s/it]"
     ]
    },
    {
     "name": "stdout",
     "output_type": "stream",
     "text": [
      "\n",
      "\n",
      "ROMEO:\n",
      "What I teese or home so taken! Anampicious?\n",
      "\n",
      "Servant:\n",
      "To toll that we spluckly shall parch,\n",
      "O, that be merving amberry, let's suddeng; these must so would\n",
      "Intean is in my slain and damblitter thrust\n",
      "In him contes too shall be piter.\n",
      "\n",
      "ANGELIA:\n",
      "Hasped not thy lant rous.\n",
      "\n",
      "BUCKINGHAM:\n",
      "What, my nape and uncoly doub come hather.\n",
      "\n",
      "POMINGA:\n",
      "O, have being neights with thee.\n",
      "\n",
      "WARWIS ANNE:\n",
      "They is they hander and him:\n",
      "Mayor! Whencees Malcius years.\n",
      "\n",
      "LUCIO:\n",
      "I husband thee! bady the pity.\n",
      "We's have the report which abusigh me,\n",
      "Now make a become, do you than their woy\n",
      "Engliss, is thou crown eye,\n",
      "For sment For of York, that wear's were doveneight.\n",
      "Good as the griet word of me so,\n",
      "Thou noble do his it, raput to me.\n",
      "\n",
      "ESBORS:\n",
      "Hame a dohe good so; Richard we shall tell\n",
      "Cone good my soft your good;\n",
      "Did, not out up thy materly. O, back you have world.\n",
      "\n",
      "ROMEO:\n",
      "Why, he have law fains looks, he ard if yours:\n",
      "Did that doubly that the grass bady?\n",
      "\n",
      "EDWARD:\n",
      "In it our honour had and af all\n",
      "Have wrong ort th\n",
      "Step 100, train loss:1.5568, test loss:1.7798\n"
     ]
    },
    {
     "name": "stderr",
     "output_type": "stream",
     "text": [
      "  1%|          | 111/10000 [00:43<1:20:57,  2.04it/s]"
     ]
    },
    {
     "name": "stdout",
     "output_type": "stream",
     "text": [
      "Step 110, train loss:1.5418, test loss:1.7495\n"
     ]
    },
    {
     "name": "stderr",
     "output_type": "stream",
     "text": [
      "  1%|          | 121/10000 [00:45<1:09:36,  2.37it/s]"
     ]
    },
    {
     "name": "stdout",
     "output_type": "stream",
     "text": [
      "Step 120, train loss:1.5116, test loss:1.7205\n"
     ]
    },
    {
     "name": "stderr",
     "output_type": "stream",
     "text": [
      "  1%|▏         | 131/10000 [00:47<1:11:27,  2.30it/s]"
     ]
    },
    {
     "name": "stdout",
     "output_type": "stream",
     "text": [
      "Step 130, train loss:1.4782, test loss:1.7017\n"
     ]
    },
    {
     "name": "stderr",
     "output_type": "stream",
     "text": [
      "  1%|▏         | 141/10000 [00:50<1:11:37,  2.29it/s]"
     ]
    },
    {
     "name": "stdout",
     "output_type": "stream",
     "text": [
      "Step 140, train loss:1.4754, test loss:1.6763\n"
     ]
    },
    {
     "name": "stderr",
     "output_type": "stream",
     "text": [
      "  2%|▏         | 151/10000 [00:52<1:10:19,  2.33it/s]"
     ]
    },
    {
     "name": "stdout",
     "output_type": "stream",
     "text": [
      "Step 150, train loss:1.4427, test loss:1.6770\n"
     ]
    },
    {
     "name": "stderr",
     "output_type": "stream",
     "text": [
      "  2%|▏         | 161/10000 [00:55<1:09:31,  2.36it/s]"
     ]
    },
    {
     "name": "stdout",
     "output_type": "stream",
     "text": [
      "Step 160, train loss:1.4176, test loss:1.6678\n"
     ]
    },
    {
     "name": "stderr",
     "output_type": "stream",
     "text": [
      "  2%|▏         | 171/10000 [00:57<1:08:49,  2.38it/s]"
     ]
    },
    {
     "name": "stdout",
     "output_type": "stream",
     "text": [
      "Step 170, train loss:1.4136, test loss:1.6465\n"
     ]
    },
    {
     "name": "stderr",
     "output_type": "stream",
     "text": [
      "  2%|▏         | 181/10000 [00:59<1:08:51,  2.38it/s]"
     ]
    },
    {
     "name": "stdout",
     "output_type": "stream",
     "text": [
      "Step 180, train loss:1.3969, test loss:1.6215\n"
     ]
    },
    {
     "name": "stderr",
     "output_type": "stream",
     "text": [
      "  2%|▏         | 191/10000 [01:02<1:09:03,  2.37it/s]"
     ]
    },
    {
     "name": "stdout",
     "output_type": "stream",
     "text": [
      "Step 190, train loss:1.3716, test loss:1.6359\n"
     ]
    },
    {
     "name": "stderr",
     "output_type": "stream",
     "text": [
      "  2%|▏         | 200/10000 [01:03<27:45,  5.88it/s]"
     ]
    },
    {
     "name": "stdout",
     "output_type": "stream",
     "text": [
      "Step 200, train loss:1.3669, test loss:1.6367\n"
     ]
    },
    {
     "name": "stderr",
     "output_type": "stream",
     "text": [
      "  2%|▏         | 201/10000 [01:13<8:22:40,  3.08s/it]"
     ]
    },
    {
     "name": "stdout",
     "output_type": "stream",
     "text": [
      "\n",
      "\n",
      "FLORIZEL:\n",
      "See, master vecause\n",
      "He cowards, by the cask here?\n",
      "\n",
      "CAMILLO:\n",
      "By one abuse, I had thee, I do show.\n",
      "'Wis the veel follow barrog-spirit sleep:\n",
      "But it not, blazed, the vein, madom,\n",
      "Best let thee sensual of the cannot braze of their very\n",
      "A brief, and this not spedge him;\n",
      "For Soldiers beseech your patchifieed;\n",
      "Your this leave made youse, fortlying smal-If\n",
      "Would dishonour, ame, he behalf not to resign\n",
      "To be tumble in the offence, set we drum,\n",
      "By that was is man.'\n",
      "The cold so find warlh!\n",
      "Let her to the cerret of thy save\n",
      "Your hearts to bre is vouchlaren, sladow scatcet\n",
      "A man, speak defortlyient of your place.\n",
      "Have well lickle in her eye of little harbles,\n",
      "Noble's curse an your beathed of the weares!\n",
      "Thanks, yet badies if what had done,\n",
      "He would not forfolk, poor rumore chafed,\n",
      "That my tends officer wilh rude thy admirrality,\n",
      "Now true my paint, their drums!'\n",
      "Cobelies, my liege, silf thy father!\n",
      "\n",
      "ARIANA:\n",
      "O thou art in they patient to Even I\n",
      "bith dotes, and therefore; that he is all told\n",
      "Step 200, train loss:1.3618, test loss:1.6218\n"
     ]
    },
    {
     "name": "stderr",
     "output_type": "stream",
     "text": [
      "  2%|▏         | 211/10000 [01:15<1:20:51,  2.02it/s]"
     ]
    },
    {
     "name": "stdout",
     "output_type": "stream",
     "text": [
      "Step 210, train loss:1.3543, test loss:1.6335\n"
     ]
    },
    {
     "name": "stderr",
     "output_type": "stream",
     "text": [
      "  2%|▏         | 221/10000 [01:18<1:09:00,  2.36it/s]"
     ]
    },
    {
     "name": "stdout",
     "output_type": "stream",
     "text": [
      "Step 220, train loss:1.3437, test loss:1.6019\n"
     ]
    },
    {
     "name": "stderr",
     "output_type": "stream",
     "text": [
      "  2%|▏         | 231/10000 [01:20<1:10:51,  2.30it/s]"
     ]
    },
    {
     "name": "stdout",
     "output_type": "stream",
     "text": [
      "Step 230, train loss:1.3304, test loss:1.6134\n"
     ]
    },
    {
     "name": "stderr",
     "output_type": "stream",
     "text": [
      "  2%|▏         | 241/10000 [01:22<1:11:01,  2.29it/s]"
     ]
    },
    {
     "name": "stdout",
     "output_type": "stream",
     "text": [
      "Step 240, train loss:1.3195, test loss:1.6205\n"
     ]
    },
    {
     "name": "stderr",
     "output_type": "stream",
     "text": [
      "  3%|▎         | 251/10000 [01:25<1:10:33,  2.30it/s]"
     ]
    },
    {
     "name": "stdout",
     "output_type": "stream",
     "text": [
      "Step 250, train loss:1.3037, test loss:1.6012\n"
     ]
    },
    {
     "name": "stderr",
     "output_type": "stream",
     "text": [
      "  3%|▎         | 261/10000 [01:27<1:08:26,  2.37it/s]"
     ]
    },
    {
     "name": "stdout",
     "output_type": "stream",
     "text": [
      "Step 260, train loss:1.3130, test loss:1.5889\n"
     ]
    },
    {
     "name": "stderr",
     "output_type": "stream",
     "text": [
      "  3%|▎         | 271/10000 [01:30<1:08:08,  2.38it/s]"
     ]
    },
    {
     "name": "stdout",
     "output_type": "stream",
     "text": [
      "Step 270, train loss:1.2914, test loss:1.5747\n"
     ]
    },
    {
     "name": "stderr",
     "output_type": "stream",
     "text": [
      "  3%|▎         | 281/10000 [01:32<1:08:17,  2.37it/s]"
     ]
    },
    {
     "name": "stdout",
     "output_type": "stream",
     "text": [
      "Step 280, train loss:1.2822, test loss:1.5712\n"
     ]
    },
    {
     "name": "stderr",
     "output_type": "stream",
     "text": [
      "  3%|▎         | 291/10000 [01:34<1:08:22,  2.37it/s]"
     ]
    },
    {
     "name": "stdout",
     "output_type": "stream",
     "text": [
      "Step 290, train loss:1.2676, test loss:1.5986\n"
     ]
    },
    {
     "name": "stderr",
     "output_type": "stream",
     "text": [
      "  3%|▎         | 300/10000 [01:36<25:52,  6.25it/s]"
     ]
    },
    {
     "name": "stdout",
     "output_type": "stream",
     "text": [
      "Step 300, train loss:1.2645, test loss:1.6029\n"
     ]
    },
    {
     "name": "stderr",
     "output_type": "stream",
     "text": [
      "  3%|▎         | 301/10000 [01:46<8:32:56,  3.17s/it]"
     ]
    },
    {
     "name": "stdout",
     "output_type": "stream",
     "text": [
      "\n",
      "\n",
      "JOLIET:\n",
      "Even should deserve the sword.\n",
      "\n",
      "ISABELLA:\n",
      "O, to say, Gentlemen, the one withee\n",
      "The shame aside.\n",
      "\n",
      "FLORIZEL:\n",
      "Ready;\n",
      "For your vierce a doubt nature,--look'd up;\n",
      "Her are that he waked with grave redown,\n",
      "Infeigning nurse in a shore his coining dischaers,\n",
      "To queen makes him not repargh'd!\n",
      "\n",
      "ISABELLA:\n",
      "It shall see; ondurate known call'd\n",
      "Wave spent with me; 'siles on us for a gentle;\n",
      "Fakeing Edward's power, commonarly, as I belies,\n",
      "All Warwick closent of a glory, and comfort\n",
      "That you ask my prisoner forth countedy;\n",
      "Being cheeth, that speak both.\n",
      "\n",
      "MARIANA:\n",
      "'Tis, despair; as you weep so dam\n",
      "Was love bearet that have weal'd and send for\n",
      "this.\n",
      "And the labour that he was he say.\n",
      "Well, O, that makes me shepherd at surpar;\n",
      "That, I will have given and smell as me.\n",
      "If thou syalt be pluned Did of him!\n",
      "\n",
      "Lord:\n",
      "The I am surfand, unksmell'd, it warr'd,\n",
      "And Master'd Plantagenet?\n",
      "\n",
      "YORK:\n",
      "With all myself and too trust,\n",
      "We surning, he was, cob'd at events,\n",
      "Let both in heavy of the prince's dead as murder'\n",
      "Step 300, train loss:1.2547, test loss:1.5694\n"
     ]
    },
    {
     "name": "stderr",
     "output_type": "stream",
     "text": [
      "  3%|▎         | 311/10000 [01:48<1:20:56,  1.99it/s]"
     ]
    },
    {
     "name": "stdout",
     "output_type": "stream",
     "text": [
      "Step 310, train loss:1.2474, test loss:1.6091\n"
     ]
    },
    {
     "name": "stderr",
     "output_type": "stream",
     "text": [
      "  3%|▎         | 321/10000 [01:51<1:08:17,  2.36it/s]"
     ]
    },
    {
     "name": "stdout",
     "output_type": "stream",
     "text": [
      "Step 320, train loss:1.2531, test loss:1.5766\n"
     ]
    },
    {
     "name": "stderr",
     "output_type": "stream",
     "text": [
      "  3%|▎         | 331/10000 [01:53<1:09:13,  2.33it/s]"
     ]
    },
    {
     "name": "stdout",
     "output_type": "stream",
     "text": [
      "Step 330, train loss:1.2367, test loss:1.5591\n"
     ]
    },
    {
     "name": "stderr",
     "output_type": "stream",
     "text": [
      "  3%|▎         | 341/10000 [01:55<1:09:41,  2.31it/s]"
     ]
    },
    {
     "name": "stdout",
     "output_type": "stream",
     "text": [
      "Step 340, train loss:1.2376, test loss:1.5842\n"
     ]
    },
    {
     "name": "stderr",
     "output_type": "stream",
     "text": [
      "  4%|▎         | 351/10000 [01:58<1:09:41,  2.31it/s]"
     ]
    },
    {
     "name": "stdout",
     "output_type": "stream",
     "text": [
      "Step 350, train loss:1.2263, test loss:1.5645\n"
     ]
    },
    {
     "name": "stderr",
     "output_type": "stream",
     "text": [
      "  4%|▎         | 361/10000 [02:00<1:07:41,  2.37it/s]"
     ]
    },
    {
     "name": "stdout",
     "output_type": "stream",
     "text": [
      "Step 360, train loss:1.2352, test loss:1.5513\n"
     ]
    },
    {
     "name": "stderr",
     "output_type": "stream",
     "text": [
      "  4%|▎         | 371/10000 [02:02<1:07:40,  2.37it/s]"
     ]
    },
    {
     "name": "stdout",
     "output_type": "stream",
     "text": [
      "Step 370, train loss:1.2081, test loss:1.5604\n"
     ]
    },
    {
     "name": "stderr",
     "output_type": "stream",
     "text": [
      "  4%|▍         | 381/10000 [02:05<1:08:06,  2.35it/s]"
     ]
    },
    {
     "name": "stdout",
     "output_type": "stream",
     "text": [
      "Step 380, train loss:1.1967, test loss:1.5894\n"
     ]
    },
    {
     "name": "stderr",
     "output_type": "stream",
     "text": [
      "  4%|▍         | 391/10000 [02:07<1:07:27,  2.37it/s]"
     ]
    },
    {
     "name": "stdout",
     "output_type": "stream",
     "text": [
      "Step 390, train loss:1.1897, test loss:1.5659\n"
     ]
    },
    {
     "name": "stderr",
     "output_type": "stream",
     "text": [
      "  4%|▍         | 400/10000 [02:08<24:53,  6.43it/s]"
     ]
    },
    {
     "name": "stdout",
     "output_type": "stream",
     "text": [
      "Step 400, train loss:1.1822, test loss:1.5775\n"
     ]
    },
    {
     "name": "stderr",
     "output_type": "stream",
     "text": [
      "  4%|▍         | 401/10000 [02:19<8:22:47,  3.14s/it]"
     ]
    },
    {
     "name": "stdout",
     "output_type": "stream",
     "text": [
      "\n",
      "\n",
      "CLARENCE:\n",
      "Art, I will that which he'll kill him.\n",
      "\n",
      "ROMEO:\n",
      "Errover, God paggage.\n",
      "\n",
      "COMINIUS:\n",
      "I never draw upon you will of those\n",
      "Woundations, you all of irtelious years\n",
      "That said I'll not you are\n",
      "A lamb, patient, it goes, no doubled for you.\n",
      "I shall ssand follow me, the Duke of Norfolk,\n",
      "Cy laid taxe you a schorge, of death slazed noise\n",
      "By his horsils; ladies and taxflects his sweetly regcury,\n",
      "Nor hdwitch.\n",
      "\n",
      "PERDITAS:\n",
      "Says he, lords, thereat Edward with the Towers.\n",
      "\n",
      "AUFIDIUS:\n",
      "Now speak mistress, Warwick have before.\n",
      "\n",
      "ROMEO:\n",
      "Hare is the wept our children, gold affliction,\n",
      "As it suborn'd with most unlookementing hath\n",
      "To what helce much loves, or killedies have na'ed\n",
      "Thy greats. Forward's in trilou heardes of him\n",
      "That, with tewards.\n",
      "\n",
      "MENENIUS:\n",
      "Good madam,\n",
      "Against these haves prifests, my mastering sthal\n",
      "Woundst crown, God's death, what he did heaven and\n",
      "Missy son weepdesh fortune o'erweened\n",
      "The commonwearing, received his hag!\n",
      "For whep his privil's lords face but attempted,\n",
      "And bid him in this\n",
      "Step 400, train loss:1.1911, test loss:1.5712\n"
     ]
    },
    {
     "name": "stderr",
     "output_type": "stream",
     "text": [
      "  4%|▍         | 411/10000 [02:21<1:19:27,  2.01it/s]"
     ]
    },
    {
     "name": "stdout",
     "output_type": "stream",
     "text": [
      "Step 410, train loss:1.1842, test loss:1.5994\n"
     ]
    },
    {
     "name": "stderr",
     "output_type": "stream",
     "text": [
      "  4%|▍         | 421/10000 [02:23<1:07:48,  2.35it/s]"
     ]
    },
    {
     "name": "stdout",
     "output_type": "stream",
     "text": [
      "Step 420, train loss:1.1507, test loss:1.5892\n"
     ]
    },
    {
     "name": "stderr",
     "output_type": "stream",
     "text": [
      "  4%|▍         | 431/10000 [02:26<1:07:48,  2.35it/s]"
     ]
    },
    {
     "name": "stdout",
     "output_type": "stream",
     "text": [
      "Step 430, train loss:1.1643, test loss:1.6175\n"
     ]
    },
    {
     "name": "stderr",
     "output_type": "stream",
     "text": [
      "  4%|▍         | 441/10000 [02:28<1:09:31,  2.29it/s]"
     ]
    },
    {
     "name": "stdout",
     "output_type": "stream",
     "text": [
      "Step 440, train loss:1.1570, test loss:1.5938\n"
     ]
    },
    {
     "name": "stderr",
     "output_type": "stream",
     "text": [
      "  5%|▍         | 451/10000 [02:30<1:09:14,  2.30it/s]"
     ]
    },
    {
     "name": "stdout",
     "output_type": "stream",
     "text": [
      "Step 450, train loss:1.1450, test loss:1.5669\n"
     ]
    },
    {
     "name": "stderr",
     "output_type": "stream",
     "text": [
      "  5%|▍         | 461/10000 [02:33<1:07:55,  2.34it/s]"
     ]
    },
    {
     "name": "stdout",
     "output_type": "stream",
     "text": [
      "Step 460, train loss:1.1354, test loss:1.6083\n"
     ]
    },
    {
     "name": "stderr",
     "output_type": "stream",
     "text": [
      "  5%|▍         | 471/10000 [02:35<1:06:54,  2.37it/s]"
     ]
    },
    {
     "name": "stdout",
     "output_type": "stream",
     "text": [
      "Step 470, train loss:1.1383, test loss:1.6213\n"
     ]
    },
    {
     "name": "stderr",
     "output_type": "stream",
     "text": [
      "  5%|▍         | 481/10000 [02:38<1:07:08,  2.36it/s]"
     ]
    },
    {
     "name": "stdout",
     "output_type": "stream",
     "text": [
      "Step 480, train loss:1.1216, test loss:1.5994\n"
     ]
    },
    {
     "name": "stderr",
     "output_type": "stream",
     "text": [
      "  5%|▍         | 491/10000 [02:40<1:06:41,  2.38it/s]"
     ]
    },
    {
     "name": "stdout",
     "output_type": "stream",
     "text": [
      "Step 490, train loss:1.1229, test loss:1.6385\n"
     ]
    },
    {
     "name": "stderr",
     "output_type": "stream",
     "text": [
      "  5%|▌         | 500/10000 [02:41<24:47,  6.39it/s]"
     ]
    },
    {
     "name": "stdout",
     "output_type": "stream",
     "text": [
      "Step 500, train loss:1.1004, test loss:1.6466\n"
     ]
    },
    {
     "name": "stderr",
     "output_type": "stream",
     "text": [
      "  5%|▌         | 501/10000 [02:52<8:39:01,  3.28s/it]"
     ]
    },
    {
     "name": "stdout",
     "output_type": "stream",
     "text": [
      "\n",
      "\n",
      "COMINIUS:\n",
      "Well, well, do not in; is it up;\n",
      "The horson frough shall not stay thus castly. I\n",
      "pray with my jectuice from myself; and shall bear\n",
      "The gaunsetiates, so out of a ferIlence\n",
      "and hope out with his heart: at those love, blessings,\n",
      "Becomes my broke jodging, would by weeping but\n",
      "An easy ecternation that heavous gonsib,\n",
      "And therefore arts eye deposings to my fortune.\n",
      "My lurchyard blush, boldly sick than silence,\n",
      "We have heard from fellow hour best virtues,\n",
      "And she my grave noses, yet they do greet,\n",
      "If that you, god-dorth, to drop enemy\n",
      "Before a pronounce than be proclaim\n",
      "Doth strength and once that spoke.\n",
      "\n",
      "DUKE OF AUMERLE:\n",
      "Than soon but fortune's pause my veil'd.\n",
      "Come, let me ne'er tender of his twain;\n",
      "Who, almost of a substifiance\n",
      "That in my mistress did I will night.\n",
      "Come, come; I mean with it wills shall bit wrong.\n",
      "There is a subject to do the bottle\n",
      "As if your bringing strong-honest endure you;\n",
      "If this be entraounted, my ghanles dispatch\n",
      "The rightning king; and for her sense are\n",
      "\n",
      "Step 500, train loss:1.1079, test loss:1.6260\n"
     ]
    },
    {
     "name": "stderr",
     "output_type": "stream",
     "text": [
      "  5%|▌         | 511/10000 [02:54<1:19:41,  1.98it/s]"
     ]
    },
    {
     "name": "stdout",
     "output_type": "stream",
     "text": [
      "Step 510, train loss:1.1005, test loss:1.6215\n"
     ]
    },
    {
     "name": "stderr",
     "output_type": "stream",
     "text": [
      "  5%|▌         | 521/10000 [02:56<1:07:03,  2.36it/s]"
     ]
    },
    {
     "name": "stdout",
     "output_type": "stream",
     "text": [
      "Step 520, train loss:1.0862, test loss:1.6244\n"
     ]
    },
    {
     "name": "stderr",
     "output_type": "stream",
     "text": [
      "  5%|▌         | 531/10000 [02:59<1:06:34,  2.37it/s]"
     ]
    },
    {
     "name": "stdout",
     "output_type": "stream",
     "text": [
      "Step 530, train loss:1.0792, test loss:1.6417\n"
     ]
    },
    {
     "name": "stderr",
     "output_type": "stream",
     "text": [
      "  5%|▌         | 541/10000 [03:01<1:09:29,  2.27it/s]"
     ]
    },
    {
     "name": "stdout",
     "output_type": "stream",
     "text": [
      "Step 540, train loss:1.0684, test loss:1.6322\n"
     ]
    },
    {
     "name": "stderr",
     "output_type": "stream",
     "text": [
      "  6%|▌         | 551/10000 [03:04<1:08:17,  2.31it/s]"
     ]
    },
    {
     "name": "stdout",
     "output_type": "stream",
     "text": [
      "Step 550, train loss:1.0663, test loss:1.6494\n"
     ]
    },
    {
     "name": "stderr",
     "output_type": "stream",
     "text": [
      "  6%|▌         | 561/10000 [03:06<1:07:20,  2.34it/s]"
     ]
    },
    {
     "name": "stdout",
     "output_type": "stream",
     "text": [
      "Step 560, train loss:1.0613, test loss:1.6558\n"
     ]
    },
    {
     "name": "stderr",
     "output_type": "stream",
     "text": [
      "  6%|▌         | 571/10000 [03:08<1:06:30,  2.36it/s]"
     ]
    },
    {
     "name": "stdout",
     "output_type": "stream",
     "text": [
      "Step 570, train loss:1.0486, test loss:1.6391\n"
     ]
    },
    {
     "name": "stderr",
     "output_type": "stream",
     "text": [
      "  6%|▌         | 581/10000 [03:11<1:06:03,  2.38it/s]"
     ]
    },
    {
     "name": "stdout",
     "output_type": "stream",
     "text": [
      "Step 580, train loss:1.0432, test loss:1.6863\n"
     ]
    },
    {
     "name": "stderr",
     "output_type": "stream",
     "text": [
      "  6%|▌         | 591/10000 [03:13<1:05:54,  2.38it/s]"
     ]
    },
    {
     "name": "stdout",
     "output_type": "stream",
     "text": [
      "Step 590, train loss:1.0287, test loss:1.6782\n"
     ]
    },
    {
     "name": "stderr",
     "output_type": "stream",
     "text": [
      "  6%|▌         | 600/10000 [03:14<24:28,  6.40it/s]"
     ]
    },
    {
     "name": "stdout",
     "output_type": "stream",
     "text": [
      "Step 600, train loss:1.0236, test loss:1.7034\n"
     ]
    },
    {
     "name": "stderr",
     "output_type": "stream",
     "text": [
      "  6%|▌         | 601/10000 [03:25<8:21:31,  3.20s/it]"
     ]
    },
    {
     "name": "stdout",
     "output_type": "stream",
     "text": [
      "\n",
      "\n",
      "JULIET:\n",
      "Stake afflict, my good soul awhile.\n",
      "\n",
      "WARWICK:\n",
      "I shine the become the diath of two have a gums.\n",
      "\n",
      "MENENIUS:\n",
      "Well, hast thou ne'er said so breath? I will say a piech;\n",
      "and studies are as swift and make no more\n",
      "Than with witness of death or wormword of them,\n",
      "Forbear it well.\n",
      "\n",
      "LEONTES:\n",
      "We'll leave you;\n",
      "It that first among you borne an eye.\n",
      "\n",
      "Gaoler:\n",
      "Go, rather than your honour too.\n",
      "\n",
      "GLOUCESTER:\n",
      "No, but when my shame at the world.\n",
      "\n",
      "FRIAR LAURENCE:\n",
      "Our husband; a poor tribe you a news;\n",
      "Your armits is cent fairly.\n",
      "\n",
      "POLIXENES:\n",
      "How! Camillo,\n",
      "We must not be denied.\n",
      "\n",
      "TYBALT:\n",
      "I have done, but trong well.\n",
      "\n",
      "First Murderer:\n",
      "Now to put you help.\n",
      "\n",
      "AUTOLYCUS:\n",
      "I see another hence,\n",
      "I'll write in dylown and take my fair'stiquity.\n",
      "\n",
      "POLIXENES:\n",
      "How, by traitor! let even gentle prophecy.\n",
      "In earnest were thine, an Dorrowhere\n",
      "This full lady dasling on my metdment,\n",
      "He need another wretched queen of four sighmen;\n",
      "May till the ark gone home of peaceful devise\n",
      "And, not true be letter'd thralled you:\n",
      "Let me be t\n",
      "Step 600, train loss:1.0270, test loss:1.6971\n"
     ]
    },
    {
     "name": "stderr",
     "output_type": "stream",
     "text": [
      "  6%|▌         | 611/10000 [03:27<1:18:22,  2.00it/s]"
     ]
    },
    {
     "name": "stdout",
     "output_type": "stream",
     "text": [
      "Step 610, train loss:1.0183, test loss:1.6968\n"
     ]
    },
    {
     "name": "stderr",
     "output_type": "stream",
     "text": [
      "  6%|▌         | 621/10000 [03:29<1:06:10,  2.36it/s]"
     ]
    },
    {
     "name": "stdout",
     "output_type": "stream",
     "text": [
      "Step 620, train loss:1.0140, test loss:1.7102\n"
     ]
    },
    {
     "name": "stderr",
     "output_type": "stream",
     "text": [
      "  6%|▋         | 631/10000 [03:32<1:05:56,  2.37it/s]"
     ]
    },
    {
     "name": "stdout",
     "output_type": "stream",
     "text": [
      "Step 630, train loss:0.9988, test loss:1.6700\n"
     ]
    },
    {
     "name": "stderr",
     "output_type": "stream",
     "text": [
      "  6%|▋         | 641/10000 [03:34<1:08:15,  2.29it/s]"
     ]
    },
    {
     "name": "stdout",
     "output_type": "stream",
     "text": [
      "Step 640, train loss:1.0008, test loss:1.7109\n"
     ]
    },
    {
     "name": "stderr",
     "output_type": "stream",
     "text": [
      "  7%|▋         | 651/10000 [03:37<1:08:24,  2.28it/s]"
     ]
    },
    {
     "name": "stdout",
     "output_type": "stream",
     "text": [
      "Step 650, train loss:0.9912, test loss:1.7299\n"
     ]
    },
    {
     "name": "stderr",
     "output_type": "stream",
     "text": [
      "  7%|▋         | 661/10000 [03:39<1:07:37,  2.30it/s]"
     ]
    },
    {
     "name": "stdout",
     "output_type": "stream",
     "text": [
      "Step 660, train loss:0.9771, test loss:1.7292\n"
     ]
    },
    {
     "name": "stderr",
     "output_type": "stream",
     "text": [
      "  7%|▋         | 671/10000 [03:41<1:05:57,  2.36it/s]"
     ]
    },
    {
     "name": "stdout",
     "output_type": "stream",
     "text": [
      "Step 670, train loss:0.9701, test loss:1.7299\n"
     ]
    },
    {
     "name": "stderr",
     "output_type": "stream",
     "text": [
      "  7%|▋         | 681/10000 [03:44<1:05:34,  2.37it/s]"
     ]
    },
    {
     "name": "stdout",
     "output_type": "stream",
     "text": [
      "Step 680, train loss:0.9574, test loss:1.7703\n"
     ]
    },
    {
     "name": "stderr",
     "output_type": "stream",
     "text": [
      "  7%|▋         | 691/10000 [03:46<1:05:24,  2.37it/s]"
     ]
    },
    {
     "name": "stdout",
     "output_type": "stream",
     "text": [
      "Step 690, train loss:0.9565, test loss:1.7679\n"
     ]
    },
    {
     "name": "stderr",
     "output_type": "stream",
     "text": [
      "  7%|▋         | 700/10000 [03:47<24:20,  6.37it/s]"
     ]
    },
    {
     "name": "stdout",
     "output_type": "stream",
     "text": [
      "Step 700, train loss:0.9374, test loss:1.7837\n"
     ]
    },
    {
     "name": "stderr",
     "output_type": "stream",
     "text": [
      "  7%|▋         | 701/10000 [03:58<8:21:43,  3.24s/it]"
     ]
    },
    {
     "name": "stdout",
     "output_type": "stream",
     "text": [
      "\n",
      "\n",
      "Servant:\n",
      "He hath certain the will.\n",
      "\n",
      "Second Senator:\n",
      "So.\n",
      "\n",
      "Third Conspirator:\n",
      "Here comes the ragibed would nor man!\n",
      "\n",
      "Citizen:\n",
      "How now, sir, give me so stonk to us?\n",
      "\n",
      "First Murderer:\n",
      "Return to remain.\n",
      "\n",
      "Second Senator:\n",
      "Blush, you have found it; henced by the son.\n",
      "\n",
      "CORIOLANUS:\n",
      "What is the matter?\n",
      "\n",
      "CORIOLANUS:\n",
      "Ay, with him like the gods!\n",
      "\n",
      "VOLUMNIA:\n",
      "Nay, rather!\n",
      "Very true, good prate! Go by, go with my forward:\n",
      "Then be it as doth still retire in The shepherd\n",
      "of me--\n",
      "\n",
      "VIRGILIA:\n",
      "Who, my my beams!\n",
      "\n",
      "VOLUMNIA:\n",
      "You say your will, sir.\n",
      "\n",
      "VOLUMNIA:\n",
      "As my guiltless liar, reel this mortal.\n",
      "My mind how can wish behind those that bids,\n",
      "But let me be win a matcher to the Tower.\n",
      "if thou didst revere stone of, about\n",
      "In strongly Henry affection for our honour,\n",
      "I'll save your birth, go forget it.\n",
      "\n",
      "HASTINGS:\n",
      "For this is most chamberlain,\n",
      "As I think Bolingbroke: by my gage\n",
      "Is not this pity, by notice so gross:\n",
      "This lessure I have in pity;\n",
      "With words many disproported motion,\n",
      "More lean and fondly of my sin,\n",
      "Are el\n",
      "Step 700, train loss:0.9374, test loss:1.8046\n"
     ]
    },
    {
     "name": "stderr",
     "output_type": "stream",
     "text": [
      "  7%|▋         | 711/10000 [04:00<1:21:23,  1.90it/s]"
     ]
    },
    {
     "name": "stdout",
     "output_type": "stream",
     "text": [
      "Step 710, train loss:0.9407, test loss:1.7394\n"
     ]
    },
    {
     "name": "stderr",
     "output_type": "stream",
     "text": [
      "  7%|▋         | 721/10000 [04:03<1:05:59,  2.34it/s]"
     ]
    },
    {
     "name": "stdout",
     "output_type": "stream",
     "text": [
      "Step 720, train loss:0.9315, test loss:1.7937\n"
     ]
    },
    {
     "name": "stderr",
     "output_type": "stream",
     "text": [
      "  7%|▋         | 731/10000 [04:05<1:05:10,  2.37it/s]"
     ]
    },
    {
     "name": "stdout",
     "output_type": "stream",
     "text": [
      "Step 730, train loss:0.9090, test loss:1.8379\n"
     ]
    },
    {
     "name": "stderr",
     "output_type": "stream",
     "text": [
      "  7%|▋         | 741/10000 [04:07<1:06:46,  2.31it/s]"
     ]
    },
    {
     "name": "stdout",
     "output_type": "stream",
     "text": [
      "Step 740, train loss:0.8930, test loss:1.8253\n"
     ]
    },
    {
     "name": "stderr",
     "output_type": "stream",
     "text": [
      "  8%|▊         | 751/10000 [04:10<1:07:15,  2.29it/s]"
     ]
    },
    {
     "name": "stdout",
     "output_type": "stream",
     "text": [
      "Step 750, train loss:0.8967, test loss:1.8451\n"
     ]
    },
    {
     "name": "stderr",
     "output_type": "stream",
     "text": [
      "  8%|▊         | 761/10000 [04:12<1:06:25,  2.32it/s]"
     ]
    },
    {
     "name": "stdout",
     "output_type": "stream",
     "text": [
      "Step 760, train loss:0.8763, test loss:1.8689\n"
     ]
    },
    {
     "name": "stderr",
     "output_type": "stream",
     "text": [
      "  8%|▊         | 771/10000 [04:15<1:05:00,  2.37it/s]"
     ]
    },
    {
     "name": "stdout",
     "output_type": "stream",
     "text": [
      "Step 770, train loss:0.8735, test loss:1.8909\n"
     ]
    },
    {
     "name": "stderr",
     "output_type": "stream",
     "text": [
      "  8%|▊         | 781/10000 [04:17<1:04:37,  2.38it/s]"
     ]
    },
    {
     "name": "stdout",
     "output_type": "stream",
     "text": [
      "Step 780, train loss:0.8607, test loss:1.8746\n"
     ]
    },
    {
     "name": "stderr",
     "output_type": "stream",
     "text": [
      "  8%|▊         | 791/10000 [04:19<1:05:06,  2.36it/s]"
     ]
    },
    {
     "name": "stdout",
     "output_type": "stream",
     "text": [
      "Step 790, train loss:0.8600, test loss:1.8761\n"
     ]
    },
    {
     "name": "stderr",
     "output_type": "stream",
     "text": [
      "  8%|▊         | 800/10000 [04:21<24:15,  6.32it/s]"
     ]
    },
    {
     "name": "stdout",
     "output_type": "stream",
     "text": [
      "Step 800, train loss:0.8428, test loss:1.8568\n"
     ]
    },
    {
     "name": "stderr",
     "output_type": "stream",
     "text": [
      "  8%|▊         | 801/10000 [04:31<8:13:28,  3.22s/it]"
     ]
    },
    {
     "name": "stdout",
     "output_type": "stream",
     "text": [
      "\n",
      "\n",
      "GLOUCESTER:\n",
      "And what of here is Seal the secondeed light,\n",
      "It may be that bear thus as true as far\n",
      "As it as hand: flower there I live in familip.\n",
      "\n",
      "Lord:\n",
      "Bennowing the treasonary, you have no long\n",
      "There is such an the sign. They are rising of\n",
      "Your instruction how in were they\n",
      "Ely all the kings enforced them very dead.\n",
      "\n",
      "QUEEN ELIZABETH:\n",
      "Brother of Gloucester, I wot so to work;\n",
      "Your praying joints but theirs access in that.\n",
      "Good one take you not no: you are well\n",
      "Become it fit most; yet  he to dost up\n",
      "To help thee by any thing more than mine.\n",
      "\n",
      "GLOUCESTER:\n",
      "It is a thousand crowns and unjustly good.\n",
      "\n",
      "LADY ANNE:\n",
      "Thou darest that teach the devil thy maid wouldst gentleman,\n",
      "Darest thou bet'st endual that thou didst kite\n",
      "Have I done, forgive it. Do Juliet, go;\n",
      "Why would shall stop wpard for this to make his barr\n",
      "Enk thee to a more talk of move charged\n",
      "That to deformity; thy good condition\n",
      "To o'er-place let forth and vows amongst them.\n",
      "Welcome to them! fear thou wilt folty a fill;\n",
      "For sword to sco\n",
      "Step 800, train loss:0.8412, test loss:1.8428\n"
     ]
    },
    {
     "name": "stderr",
     "output_type": "stream",
     "text": [
      "  8%|▊         | 811/10000 [04:33<1:17:49,  1.97it/s]"
     ]
    },
    {
     "name": "stdout",
     "output_type": "stream",
     "text": [
      "Step 810, train loss:0.8384, test loss:1.9086\n"
     ]
    },
    {
     "name": "stderr",
     "output_type": "stream",
     "text": [
      "  8%|▊         | 821/10000 [04:36<1:04:55,  2.36it/s]"
     ]
    },
    {
     "name": "stdout",
     "output_type": "stream",
     "text": [
      "Step 820, train loss:0.8246, test loss:1.8910\n"
     ]
    },
    {
     "name": "stderr",
     "output_type": "stream",
     "text": [
      "  8%|▊         | 831/10000 [04:38<1:04:06,  2.38it/s]"
     ]
    },
    {
     "name": "stdout",
     "output_type": "stream",
     "text": [
      "Step 830, train loss:0.8160, test loss:1.9134\n"
     ]
    },
    {
     "name": "stderr",
     "output_type": "stream",
     "text": [
      "  8%|▊         | 841/10000 [04:41<1:06:36,  2.29it/s]"
     ]
    },
    {
     "name": "stdout",
     "output_type": "stream",
     "text": [
      "Step 840, train loss:0.8091, test loss:1.9458\n"
     ]
    },
    {
     "name": "stderr",
     "output_type": "stream",
     "text": [
      "  9%|▊         | 851/10000 [04:43<1:05:48,  2.32it/s]"
     ]
    },
    {
     "name": "stdout",
     "output_type": "stream",
     "text": [
      "Step 850, train loss:0.7901, test loss:1.9579\n"
     ]
    },
    {
     "name": "stderr",
     "output_type": "stream",
     "text": [
      "  9%|▊         | 861/10000 [04:45<1:06:35,  2.29it/s]"
     ]
    },
    {
     "name": "stdout",
     "output_type": "stream",
     "text": [
      "Step 860, train loss:0.7877, test loss:1.9462\n"
     ]
    },
    {
     "name": "stderr",
     "output_type": "stream",
     "text": [
      "  9%|▊         | 871/10000 [04:48<1:04:22,  2.36it/s]"
     ]
    },
    {
     "name": "stdout",
     "output_type": "stream",
     "text": [
      "Step 870, train loss:0.7779, test loss:1.9937\n"
     ]
    },
    {
     "name": "stderr",
     "output_type": "stream",
     "text": [
      "  9%|▉         | 881/10000 [04:50<1:04:07,  2.37it/s]"
     ]
    },
    {
     "name": "stdout",
     "output_type": "stream",
     "text": [
      "Step 880, train loss:0.7730, test loss:1.9794\n"
     ]
    },
    {
     "name": "stderr",
     "output_type": "stream",
     "text": [
      "  9%|▉         | 891/10000 [04:52<1:03:58,  2.37it/s]"
     ]
    },
    {
     "name": "stdout",
     "output_type": "stream",
     "text": [
      "Step 890, train loss:0.7639, test loss:2.0138\n"
     ]
    },
    {
     "name": "stderr",
     "output_type": "stream",
     "text": [
      "  9%|▉         | 900/10000 [04:54<23:45,  6.38it/s]"
     ]
    },
    {
     "name": "stdout",
     "output_type": "stream",
     "text": [
      "Step 900, train loss:0.7538, test loss:2.0553\n"
     ]
    },
    {
     "name": "stderr",
     "output_type": "stream",
     "text": [
      "  9%|▉         | 901/10000 [05:04<8:04:26,  3.19s/it]"
     ]
    },
    {
     "name": "stdout",
     "output_type": "stream",
     "text": [
      "\n",
      "\n",
      "Second Citizen:\n",
      "For do you thousand, sir, I swear the proud way\n",
      "To dishonour number thoughts.\n",
      "\n",
      "Second Huntsman:\n",
      "Hold some leaven, and holy tool it in the priest,\n",
      "Without a better, or an integor, till we;\n",
      "Even for the attention of the hollowled it.\n",
      "\n",
      "Second Murderer:\n",
      "Do deny him o' the people's blood of royal day?\n",
      "\n",
      "First Servant:\n",
      "When would they have done some that hath nine to\n",
      "good atracting it, we'll tell the world's law;\n",
      "For 'tis a sign of love.'\n",
      "\n",
      "PAULINA:\n",
      "I can fear my death,--but it did not sit\n",
      "For the deep-black veheme a noble duke.\n",
      "\n",
      "DUKE VINCENTIO:\n",
      "I fear this leigest no less to speak.\n",
      "Now, tell strange venom, and then begins a glove,\n",
      "His oath castle cords to Rome, and cause'd finds\n",
      "To seek him like a bfunce! and then! these\n",
      "Hards are the verieat, to have them reserved:\n",
      "These, gentle king in the lamiss of their way,\n",
      "Ere that our kingdom's ghosts the witness is\n",
      "The rodge of the issue that his wounds\n",
      "Diay by their adversaries, as justly held it:\n",
      "As it is more,  would, more holds and\n",
      "Step 900, train loss:0.7538, test loss:2.0826\n"
     ]
    },
    {
     "name": "stderr",
     "output_type": "stream",
     "text": [
      "  9%|▉         | 911/10000 [05:06<1:15:31,  2.01it/s]"
     ]
    },
    {
     "name": "stdout",
     "output_type": "stream",
     "text": [
      "Step 910, train loss:0.7313, test loss:2.0611\n"
     ]
    },
    {
     "name": "stderr",
     "output_type": "stream",
     "text": [
      "  9%|▉         | 921/10000 [05:09<1:03:47,  2.37it/s]"
     ]
    },
    {
     "name": "stdout",
     "output_type": "stream",
     "text": [
      "Step 920, train loss:0.7349, test loss:2.0456\n"
     ]
    },
    {
     "name": "stderr",
     "output_type": "stream",
     "text": [
      "  9%|▉         | 931/10000 [05:11<1:03:26,  2.38it/s]"
     ]
    },
    {
     "name": "stdout",
     "output_type": "stream",
     "text": [
      "Step 930, train loss:0.7300, test loss:2.1147\n"
     ]
    },
    {
     "name": "stderr",
     "output_type": "stream",
     "text": [
      "  9%|▉         | 941/10000 [05:13<1:05:07,  2.32it/s]"
     ]
    },
    {
     "name": "stdout",
     "output_type": "stream",
     "text": [
      "Step 940, train loss:0.7114, test loss:2.0724\n"
     ]
    },
    {
     "name": "stderr",
     "output_type": "stream",
     "text": [
      " 10%|▉         | 951/10000 [05:16<1:05:22,  2.31it/s]"
     ]
    },
    {
     "name": "stdout",
     "output_type": "stream",
     "text": [
      "Step 950, train loss:0.7135, test loss:2.0568\n"
     ]
    },
    {
     "name": "stderr",
     "output_type": "stream",
     "text": [
      " 10%|▉         | 961/10000 [05:18<1:05:01,  2.32it/s]"
     ]
    },
    {
     "name": "stdout",
     "output_type": "stream",
     "text": [
      "Step 960, train loss:0.6952, test loss:2.1517\n"
     ]
    },
    {
     "name": "stderr",
     "output_type": "stream",
     "text": [
      " 10%|▉         | 971/10000 [05:21<1:03:29,  2.37it/s]"
     ]
    },
    {
     "name": "stdout",
     "output_type": "stream",
     "text": [
      "Step 970, train loss:0.6736, test loss:2.1547\n"
     ]
    },
    {
     "name": "stderr",
     "output_type": "stream",
     "text": [
      " 10%|▉         | 981/10000 [05:23<1:03:20,  2.37it/s]"
     ]
    },
    {
     "name": "stdout",
     "output_type": "stream",
     "text": [
      "Step 980, train loss:0.6756, test loss:2.1021\n"
     ]
    },
    {
     "name": "stderr",
     "output_type": "stream",
     "text": [
      " 10%|▉         | 991/10000 [05:25<1:03:15,  2.37it/s]"
     ]
    },
    {
     "name": "stdout",
     "output_type": "stream",
     "text": [
      "Step 990, train loss:0.6592, test loss:2.1942\n"
     ]
    },
    {
     "name": "stderr",
     "output_type": "stream",
     "text": [
      " 10%|█         | 1000/10000 [05:27<23:27,  6.40it/s]"
     ]
    },
    {
     "name": "stdout",
     "output_type": "stream",
     "text": [
      "Step 1000, train loss:0.6511, test loss:2.1897\n"
     ]
    },
    {
     "name": "stderr",
     "output_type": "stream",
     "text": [
      " 10%|█         | 1001/10000 [05:37<8:02:33,  3.22s/it]"
     ]
    },
    {
     "name": "stdout",
     "output_type": "stream",
     "text": [
      "\n",
      "\n",
      "GLOUCESTER:\n",
      "This man at that blood hath made him stands:\n",
      "'Twill bold he would say he stay her at the people;\n",
      "And wherefore, for never yet her servant in her,\n",
      "Shed pity hom with his gage, who being no fear\n",
      "The liberted footing is to her !ublily.\n",
      "\n",
      "ISABELLA:\n",
      "Prepare her here, sir; and I have learn'd his\n",
      "sword, as you can, dignity, for her recover.\n",
      "\n",
      "ISABELLA:\n",
      "None, sir, that's some past to get a tradven years\n",
      "Is nothing but such a shepherd's grave.\n",
      "And shall attend my heart of great father,\n",
      "Where I have leaded king? tell me, while\n",
      "Though them have shortly moved.\n",
      "\n",
      "ELBOW:\n",
      "Come, bring ye; thereof are imposition;\n",
      "Yet Blemish we appointed with us:--\n",
      "Would all of order does accounted,\n",
      "Warding executed stately flatterers,\n",
      "Which heaven lives again brought you acquit me;\n",
      "Never till the first caseed and not Warwick's,\n",
      "Or lead i' time and blunt this in another:\n",
      "With all the eastern pursues I am satisfied.\n",
      "\n",
      "JULIET:\n",
      "Becomes all of law-dinners; and therefore,\n",
      "With triumphant names me, or bave my speech,\n",
      "Step 1000, train loss:0.6392, test loss:2.2192\n"
     ]
    },
    {
     "name": "stderr",
     "output_type": "stream",
     "text": [
      " 10%|█         | 1011/10000 [05:39<1:14:55,  2.00it/s]"
     ]
    },
    {
     "name": "stdout",
     "output_type": "stream",
     "text": [
      "Step 1010, train loss:0.6355, test loss:2.2094\n"
     ]
    },
    {
     "name": "stderr",
     "output_type": "stream",
     "text": [
      " 10%|█         | 1021/10000 [05:42<1:03:21,  2.36it/s]"
     ]
    },
    {
     "name": "stdout",
     "output_type": "stream",
     "text": [
      "Step 1020, train loss:0.6443, test loss:2.2138\n"
     ]
    },
    {
     "name": "stderr",
     "output_type": "stream",
     "text": [
      " 10%|█         | 1031/10000 [05:44<1:03:14,  2.36it/s]"
     ]
    },
    {
     "name": "stdout",
     "output_type": "stream",
     "text": [
      "Step 1030, train loss:0.6311, test loss:2.2227\n"
     ]
    },
    {
     "name": "stderr",
     "output_type": "stream",
     "text": [
      " 10%|█         | 1041/10000 [05:46<1:04:04,  2.33it/s]"
     ]
    },
    {
     "name": "stdout",
     "output_type": "stream",
     "text": [
      "Step 1040, train loss:0.6211, test loss:2.2479\n"
     ]
    },
    {
     "name": "stderr",
     "output_type": "stream",
     "text": [
      " 11%|█         | 1051/10000 [05:49<1:04:56,  2.30it/s]"
     ]
    },
    {
     "name": "stdout",
     "output_type": "stream",
     "text": [
      "Step 1050, train loss:0.5965, test loss:2.2911\n"
     ]
    },
    {
     "name": "stderr",
     "output_type": "stream",
     "text": [
      " 11%|█         | 1061/10000 [05:51<1:05:13,  2.28it/s]"
     ]
    },
    {
     "name": "stdout",
     "output_type": "stream",
     "text": [
      "Step 1060, train loss:0.6123, test loss:2.2684\n"
     ]
    },
    {
     "name": "stderr",
     "output_type": "stream",
     "text": [
      " 11%|█         | 1071/10000 [05:54<1:02:49,  2.37it/s]"
     ]
    },
    {
     "name": "stdout",
     "output_type": "stream",
     "text": [
      "Step 1070, train loss:0.6052, test loss:2.2975\n"
     ]
    },
    {
     "name": "stderr",
     "output_type": "stream",
     "text": [
      " 11%|█         | 1081/10000 [05:56<1:02:51,  2.37it/s]"
     ]
    },
    {
     "name": "stdout",
     "output_type": "stream",
     "text": [
      "Step 1080, train loss:0.5871, test loss:2.3346\n"
     ]
    },
    {
     "name": "stderr",
     "output_type": "stream",
     "text": [
      " 11%|█         | 1091/10000 [05:58<1:02:43,  2.37it/s]"
     ]
    },
    {
     "name": "stdout",
     "output_type": "stream",
     "text": [
      "Step 1090, train loss:0.5718, test loss:2.3984\n"
     ]
    },
    {
     "name": "stderr",
     "output_type": "stream",
     "text": [
      " 11%|█         | 1100/10000 [06:00<23:05,  6.42it/s]"
     ]
    },
    {
     "name": "stdout",
     "output_type": "stream",
     "text": [
      "Step 1100, train loss:0.5683, test loss:2.3980\n"
     ]
    },
    {
     "name": "stderr",
     "output_type": "stream",
     "text": [
      " 11%|█         | 1101/10000 [06:10<8:01:21,  3.25s/it]"
     ]
    },
    {
     "name": "stdout",
     "output_type": "stream",
     "text": [
      "\n",
      "\n",
      "BARNARDINE:\n",
      "Mine, away!\n",
      "Grief in question best! whose great cousin,\n",
      "Is't not thy son young Gaunt a bloody advance?\n",
      "Your highness to a more crave, but a right, go.\n",
      "\n",
      "MENENIUS:\n",
      "Take me this vial, being so conduct i' the morning:\n",
      "Yet I never last out of those coldy-ands\n",
      "That they of name of them. For off this\n",
      "Good more importance with them, for the other\n",
      "Appeared outds of his carvery blood.\n",
      "\n",
      "NORTHUMBERLAND:\n",
      "The king of heaven grt yet sighs the one sit.\n",
      "\n",
      "HENRY BOLINGBROKE:\n",
      "On God's nature, request you tell the prince:\n",
      "If thou be merciful, what dost think of death?\n",
      "Even now, whip a want way-die in it so.\n",
      "\n",
      "ELBOW:\n",
      "Hail, vir, if it please\n",
      "Her royal stock wounds.\n",
      "Uncle, for cogity, calver sour company:\n",
      "Evermore than the sun was raser whereut,\n",
      "The sin of our survision wiped in the coron:\n",
      "Alas point where they lack done signor's war,\n",
      "The friends of France: and he shall pose them'd\n",
      "Yike which way shop her unjust and his king?\n",
      "And phuse he steal themselves? What blows that,\n",
      "Lord Warwick's, stormy at\n",
      "Step 1100, train loss:0.5904, test loss:2.4465\n"
     ]
    },
    {
     "name": "stderr",
     "output_type": "stream",
     "text": [
      " 11%|█         | 1111/10000 [06:12<1:14:12,  2.00it/s]"
     ]
    },
    {
     "name": "stdout",
     "output_type": "stream",
     "text": [
      "Step 1110, train loss:0.5658, test loss:2.3427\n"
     ]
    },
    {
     "name": "stderr",
     "output_type": "stream",
     "text": [
      " 11%|█         | 1121/10000 [06:15<1:02:31,  2.37it/s]"
     ]
    },
    {
     "name": "stdout",
     "output_type": "stream",
     "text": [
      "Step 1120, train loss:0.5581, test loss:2.4041\n"
     ]
    },
    {
     "name": "stderr",
     "output_type": "stream",
     "text": [
      " 11%|█▏        | 1131/10000 [06:17<1:02:13,  2.38it/s]"
     ]
    },
    {
     "name": "stdout",
     "output_type": "stream",
     "text": [
      "Step 1130, train loss:0.5274, test loss:2.4356\n"
     ]
    },
    {
     "name": "stderr",
     "output_type": "stream",
     "text": [
      " 11%|█▏        | 1141/10000 [06:19<1:03:17,  2.33it/s]"
     ]
    },
    {
     "name": "stdout",
     "output_type": "stream",
     "text": [
      "Step 1140, train loss:0.5361, test loss:2.4377\n"
     ]
    },
    {
     "name": "stderr",
     "output_type": "stream",
     "text": [
      " 12%|█▏        | 1151/10000 [06:22<1:04:22,  2.29it/s]"
     ]
    },
    {
     "name": "stdout",
     "output_type": "stream",
     "text": [
      "Step 1150, train loss:0.5262, test loss:2.4810\n"
     ]
    },
    {
     "name": "stderr",
     "output_type": "stream",
     "text": [
      " 12%|█▏        | 1161/10000 [06:24<1:03:59,  2.30it/s]"
     ]
    },
    {
     "name": "stdout",
     "output_type": "stream",
     "text": [
      "Step 1160, train loss:0.5255, test loss:2.4884\n"
     ]
    },
    {
     "name": "stderr",
     "output_type": "stream",
     "text": [
      " 12%|█▏        | 1171/10000 [06:27<1:02:16,  2.36it/s]"
     ]
    },
    {
     "name": "stdout",
     "output_type": "stream",
     "text": [
      "Step 1170, train loss:0.5175, test loss:2.4376\n"
     ]
    },
    {
     "name": "stderr",
     "output_type": "stream",
     "text": [
      " 12%|█▏        | 1181/10000 [06:29<1:02:00,  2.37it/s]"
     ]
    },
    {
     "name": "stdout",
     "output_type": "stream",
     "text": [
      "Step 1180, train loss:0.5161, test loss:2.4946\n"
     ]
    },
    {
     "name": "stderr",
     "output_type": "stream",
     "text": [
      " 12%|█▏        | 1191/10000 [06:31<1:01:55,  2.37it/s]"
     ]
    },
    {
     "name": "stdout",
     "output_type": "stream",
     "text": [
      "Step 1190, train loss:0.4846, test loss:2.5264\n"
     ]
    },
    {
     "name": "stderr",
     "output_type": "stream",
     "text": [
      " 12%|█▏        | 1200/10000 [06:33<23:06,  6.35it/s]"
     ]
    },
    {
     "name": "stdout",
     "output_type": "stream",
     "text": [
      "Step 1200, train loss:0.4972, test loss:2.5716\n"
     ]
    },
    {
     "name": "stderr",
     "output_type": "stream",
     "text": [
      " 12%|█▏        | 1201/10000 [06:43<7:47:58,  3.19s/it]"
     ]
    },
    {
     "name": "stdout",
     "output_type": "stream",
     "text": [
      "\n",
      "\n",
      "GLOUCESTER:\n",
      "Not by me, let no man cure where he is.\n",
      "\n",
      "LORD ROSS:\n",
      "But when he is affection, is it is.\n",
      "\n",
      "PRINCE EDWARD:\n",
      "O hear hour, that he is offended the tribunes!\n",
      "\n",
      "GLOUCESTER:\n",
      "Well, given here mine arm was discovery.\n",
      "\n",
      "KING EDWARD IV:\n",
      "Now yet I shall be consul, I'll keep you all\n",
      "At the penal circumstance: as 'twlet Page\n",
      "You take the sence with age and agiet yours,\n",
      "Bianca, publicly, take me this be long.\n",
      "\n",
      "MENENIUS:\n",
      "O, yeMven I should hang but him our noble that.\n",
      "\n",
      "SICINIUS:\n",
      "You have no\n",
      "With maids that they speak.\n",
      "\n",
      "BRUTUS:\n",
      "Thou wilt walk,\n",
      "As weak with a retired weaker dolein,\n",
      "And never look you, in the smew's chief\n",
      "And manos these gares, till the common will ck them.\n",
      "If the sest that trudge be the prisoner should\n",
      "Even with the flight contented sunces discontent\n",
      "Hath brave the prime of his image and choppy himself\n",
      "To scandal, where I may sometime last,\n",
      "When they say my swords could turn him when his blood\n",
      "With manage suffer, slightness can please.\n",
      "\n",
      "CLIFFORD:\n",
      "What issue out? and hast thou be\n",
      "Step 1200, train loss:0.5049, test loss:2.5653\n"
     ]
    },
    {
     "name": "stderr",
     "output_type": "stream",
     "text": [
      " 12%|█▏        | 1211/10000 [06:45<1:13:33,  1.99it/s]"
     ]
    },
    {
     "name": "stdout",
     "output_type": "stream",
     "text": [
      "Step 1210, train loss:0.4772, test loss:2.5544\n"
     ]
    },
    {
     "name": "stderr",
     "output_type": "stream",
     "text": [
      " 12%|█▏        | 1221/10000 [06:48<1:02:03,  2.36it/s]"
     ]
    },
    {
     "name": "stdout",
     "output_type": "stream",
     "text": [
      "Step 1220, train loss:0.4771, test loss:2.6179\n"
     ]
    },
    {
     "name": "stderr",
     "output_type": "stream",
     "text": [
      " 12%|█▏        | 1231/10000 [06:50<1:01:43,  2.37it/s]"
     ]
    },
    {
     "name": "stdout",
     "output_type": "stream",
     "text": [
      "Step 1230, train loss:0.4704, test loss:2.5457\n"
     ]
    },
    {
     "name": "stderr",
     "output_type": "stream",
     "text": [
      " 12%|█▏        | 1241/10000 [06:52<1:02:07,  2.35it/s]"
     ]
    },
    {
     "name": "stdout",
     "output_type": "stream",
     "text": [
      "Step 1240, train loss:0.4740, test loss:2.5611\n"
     ]
    },
    {
     "name": "stderr",
     "output_type": "stream",
     "text": [
      " 13%|█▎        | 1251/10000 [06:55<1:03:11,  2.31it/s]"
     ]
    },
    {
     "name": "stdout",
     "output_type": "stream",
     "text": [
      "Step 1250, train loss:0.4624, test loss:2.6391\n"
     ]
    },
    {
     "name": "stderr",
     "output_type": "stream",
     "text": [
      " 13%|█▎        | 1261/10000 [06:57<1:03:40,  2.29it/s]"
     ]
    },
    {
     "name": "stdout",
     "output_type": "stream",
     "text": [
      "Step 1260, train loss:0.4456, test loss:2.6496\n"
     ]
    },
    {
     "name": "stderr",
     "output_type": "stream",
     "text": [
      " 13%|█▎        | 1271/10000 [07:00<1:01:55,  2.35it/s]"
     ]
    },
    {
     "name": "stdout",
     "output_type": "stream",
     "text": [
      "Step 1270, train loss:0.4390, test loss:2.6561\n"
     ]
    },
    {
     "name": "stderr",
     "output_type": "stream",
     "text": [
      " 13%|█▎        | 1281/10000 [07:02<1:01:16,  2.37it/s]"
     ]
    },
    {
     "name": "stdout",
     "output_type": "stream",
     "text": [
      "Step 1280, train loss:0.4273, test loss:2.7013\n"
     ]
    },
    {
     "name": "stderr",
     "output_type": "stream",
     "text": [
      " 13%|█▎        | 1291/10000 [07:04<1:01:12,  2.37it/s]"
     ]
    },
    {
     "name": "stdout",
     "output_type": "stream",
     "text": [
      "Step 1290, train loss:0.4290, test loss:2.7671\n"
     ]
    },
    {
     "name": "stderr",
     "output_type": "stream",
     "text": [
      " 13%|█▎        | 1300/10000 [07:06<22:44,  6.38it/s]"
     ]
    },
    {
     "name": "stdout",
     "output_type": "stream",
     "text": [
      "Step 1300, train loss:0.4240, test loss:2.6771\n"
     ]
    },
    {
     "name": "stderr",
     "output_type": "stream",
     "text": [
      " 13%|█▎        | 1301/10000 [07:16<7:46:01,  3.21s/it]"
     ]
    },
    {
     "name": "stdout",
     "output_type": "stream",
     "text": [
      "\n",
      "\n",
      "ESCALUS:\n",
      "It's a footman tire of those. The price of the mind of Polixenes,\n",
      "Like a dog above a guest a magsisted\n",
      "Letter to his foail soonest teach me: he\n",
      "shall have no more advices to take sea a slave,\n",
      "as I a little, my young phouse gives a man\n",
      "shall bear my bent and fur throne as over as the\n",
      "dull pray, because me eff one with war; but she\n",
      "shall see them still. I willingly let me speak.\n",
      "\n",
      "Both Tribunes:\n",
      "Farewell, my lord: secre will to the crown awake\n",
      "Betwixt this make the help of Unaw affords.\n",
      "\n",
      "DUKE OF AUMERLE:\n",
      "Comfort, my liege; why letters Edward my\n",
      "Trbeauty of all procent and distressed\n",
      "Your bearful life. Now, for that,\n",
      "Where you shall bear your moans and mine.\n",
      "\n",
      "CLAUDIO:\n",
      "Five good in haply knight, to indeed\n",
      "Your numbers shall make you as your patience.\n",
      "\n",
      "QUEEN MARGARET:\n",
      "Let no may hear me, yet, I fear is not to traitor\n",
      "Which if you take the right was a jodgmant,\n",
      "And you but battle contrive their fortunes\n",
      "To have a one abused house, have brought a\n",
      "motion folks, and our evidest to aBorg\n",
      "Step 1300, train loss:0.4056, test loss:2.7047\n"
     ]
    },
    {
     "name": "stderr",
     "output_type": "stream",
     "text": [
      " 13%|█▎        | 1311/10000 [07:18<1:12:49,  1.99it/s]"
     ]
    },
    {
     "name": "stdout",
     "output_type": "stream",
     "text": [
      "Step 1310, train loss:0.4285, test loss:2.7426\n"
     ]
    },
    {
     "name": "stderr",
     "output_type": "stream",
     "text": [
      " 13%|█▎        | 1321/10000 [07:21<1:01:15,  2.36it/s]"
     ]
    },
    {
     "name": "stdout",
     "output_type": "stream",
     "text": [
      "Step 1320, train loss:0.4012, test loss:2.7603\n"
     ]
    },
    {
     "name": "stderr",
     "output_type": "stream",
     "text": [
      " 13%|█▎        | 1331/10000 [07:23<1:01:05,  2.37it/s]"
     ]
    },
    {
     "name": "stdout",
     "output_type": "stream",
     "text": [
      "Step 1330, train loss:0.3969, test loss:2.8232\n"
     ]
    },
    {
     "name": "stderr",
     "output_type": "stream",
     "text": [
      " 13%|█▎        | 1341/10000 [07:25<1:01:17,  2.35it/s]"
     ]
    },
    {
     "name": "stdout",
     "output_type": "stream",
     "text": [
      "Step 1340, train loss:0.3928, test loss:2.7304\n"
     ]
    },
    {
     "name": "stderr",
     "output_type": "stream",
     "text": [
      " 14%|█▎        | 1351/10000 [07:28<1:02:39,  2.30it/s]"
     ]
    },
    {
     "name": "stdout",
     "output_type": "stream",
     "text": [
      "Step 1350, train loss:0.3830, test loss:2.7815\n"
     ]
    },
    {
     "name": "stderr",
     "output_type": "stream",
     "text": [
      " 14%|█▎        | 1361/10000 [07:30<1:03:05,  2.28it/s]"
     ]
    },
    {
     "name": "stdout",
     "output_type": "stream",
     "text": [
      "Step 1360, train loss:0.3915, test loss:2.8265\n"
     ]
    },
    {
     "name": "stderr",
     "output_type": "stream",
     "text": [
      " 14%|█▎        | 1371/10000 [07:33<1:01:00,  2.36it/s]"
     ]
    },
    {
     "name": "stdout",
     "output_type": "stream",
     "text": [
      "Step 1370, train loss:0.3911, test loss:2.8267\n"
     ]
    },
    {
     "name": "stderr",
     "output_type": "stream",
     "text": [
      " 14%|█▍        | 1381/10000 [07:35<1:00:50,  2.36it/s]"
     ]
    },
    {
     "name": "stdout",
     "output_type": "stream",
     "text": [
      "Step 1380, train loss:0.3739, test loss:2.8800\n"
     ]
    },
    {
     "name": "stderr",
     "output_type": "stream",
     "text": [
      " 14%|█▍        | 1391/10000 [07:37<1:00:36,  2.37it/s]"
     ]
    },
    {
     "name": "stdout",
     "output_type": "stream",
     "text": [
      "Step 1390, train loss:0.3517, test loss:2.8248\n"
     ]
    },
    {
     "name": "stderr",
     "output_type": "stream",
     "text": [
      " 14%|█▍        | 1400/10000 [07:39<22:33,  6.35it/s]"
     ]
    },
    {
     "name": "stdout",
     "output_type": "stream",
     "text": [
      "Step 1400, train loss:0.3558, test loss:2.8756\n"
     ]
    },
    {
     "name": "stderr",
     "output_type": "stream",
     "text": [
      " 14%|█▍        | 1401/10000 [07:49<7:39:30,  3.21s/it]"
     ]
    },
    {
     "name": "stdout",
     "output_type": "stream",
     "text": [
      "\n",
      "\n",
      "HASTINGS:\n",
      "To White-Friaret, tell me, where is portended?\n",
      "Where is my bond of Ely?\n",
      "\n",
      "MARCIUS:\n",
      "Your mother run away.\n",
      "\n",
      "POMPEY:\n",
      "All is the truth.\n",
      "\n",
      "MARIANA:\n",
      "Nay, good faith, but not pervine shall mometh at the\n",
      "trict or my mighty sovereign.\n",
      "\n",
      "HASTINGS:\n",
      "Come, sir; I will bring thee to me, and will buckle.\n",
      "Why, pity nothing: he is a comfort in my true head\n",
      "estimation; strike, and unprofeded easy:\n",
      "Ye wasterly thou sleeping benefit like.\n",
      "\n",
      "ROMEO:\n",
      "I would I were born to Romeo sword, I honour.\n",
      "\n",
      "MENENIUS:\n",
      "Is near the worse than my love contracting?\n",
      "\n",
      "MENENIUS:\n",
      "That's within, you goes!\n",
      "\n",
      "CORIOLANUS:\n",
      "You have made near.\n",
      "\n",
      "MENENIUS:\n",
      "A thousand tells this princess?\n",
      "\n",
      "First officer:\n",
      "This is his honours, they smooth his father's forcic.\n",
      "\n",
      "Second Citizen:\n",
      "Bad news, Romeo; commend me to the sun.\n",
      "\n",
      "CORIOLANUS:\n",
      "This day is true, Sir Paris. But, lords,\n",
      "What both blister talk of storm, as she lives\n",
      "As word not ruth her breath, she therefore.\n",
      "\n",
      "Second Capulet:\n",
      "His body is were a kind'd.\n",
      "\n",
      "First Citizen:\n",
      "And by the gods be\n",
      "Step 1400, train loss:0.3630, test loss:2.8695\n"
     ]
    },
    {
     "name": "stderr",
     "output_type": "stream",
     "text": [
      " 14%|█▍        | 1411/10000 [07:51<1:11:32,  2.00it/s]"
     ]
    },
    {
     "name": "stdout",
     "output_type": "stream",
     "text": [
      "Step 1410, train loss:0.3549, test loss:2.8909\n"
     ]
    },
    {
     "name": "stderr",
     "output_type": "stream",
     "text": [
      " 14%|█▍        | 1421/10000 [07:54<1:00:54,  2.35it/s]"
     ]
    },
    {
     "name": "stdout",
     "output_type": "stream",
     "text": [
      "Step 1420, train loss:0.3478, test loss:2.8441\n"
     ]
    },
    {
     "name": "stderr",
     "output_type": "stream",
     "text": [
      " 14%|█▍        | 1431/10000 [07:56<1:00:08,  2.37it/s]"
     ]
    },
    {
     "name": "stdout",
     "output_type": "stream",
     "text": [
      "Step 1430, train loss:0.3439, test loss:2.9210\n"
     ]
    },
    {
     "name": "stderr",
     "output_type": "stream",
     "text": [
      " 14%|█▍        | 1441/10000 [07:58<1:00:31,  2.36it/s]"
     ]
    },
    {
     "name": "stdout",
     "output_type": "stream",
     "text": [
      "Step 1440, train loss:0.3237, test loss:2.9535\n"
     ]
    },
    {
     "name": "stderr",
     "output_type": "stream",
     "text": [
      " 15%|█▍        | 1451/10000 [08:01<1:01:50,  2.30it/s]"
     ]
    },
    {
     "name": "stdout",
     "output_type": "stream",
     "text": [
      "Step 1450, train loss:0.3319, test loss:2.9963\n"
     ]
    },
    {
     "name": "stderr",
     "output_type": "stream",
     "text": [
      " 15%|█▍        | 1461/10000 [08:03<1:02:00,  2.30it/s]"
     ]
    },
    {
     "name": "stdout",
     "output_type": "stream",
     "text": [
      "Step 1460, train loss:0.3242, test loss:3.0278\n"
     ]
    },
    {
     "name": "stderr",
     "output_type": "stream",
     "text": [
      " 15%|█▍        | 1471/10000 [08:06<1:00:33,  2.35it/s]"
     ]
    },
    {
     "name": "stdout",
     "output_type": "stream",
     "text": [
      "Step 1470, train loss:0.3239, test loss:3.0468\n"
     ]
    },
    {
     "name": "stderr",
     "output_type": "stream",
     "text": [
      " 15%|█▍        | 1481/10000 [08:08<59:57,  2.37it/s]"
     ]
    },
    {
     "name": "stdout",
     "output_type": "stream",
     "text": [
      "Step 1480, train loss:0.3293, test loss:3.0153\n"
     ]
    },
    {
     "name": "stderr",
     "output_type": "stream",
     "text": [
      " 15%|█▍        | 1491/10000 [08:10<59:57,  2.37it/s]"
     ]
    },
    {
     "name": "stdout",
     "output_type": "stream",
     "text": [
      "Step 1490, train loss:0.3155, test loss:3.0267\n"
     ]
    },
    {
     "name": "stderr",
     "output_type": "stream",
     "text": [
      " 15%|█▌        | 1500/10000 [08:12<22:12,  6.38it/s]"
     ]
    },
    {
     "name": "stdout",
     "output_type": "stream",
     "text": [
      "Step 1500, train loss:0.3162, test loss:3.1404\n"
     ]
    },
    {
     "name": "stderr",
     "output_type": "stream",
     "text": [
      " 15%|█▌        | 1501/10000 [08:22<7:31:45,  3.19s/it]"
     ]
    },
    {
     "name": "stdout",
     "output_type": "stream",
     "text": [
      "\n",
      "\n",
      "A GERICome away;\n",
      "And determine other in the very city\n",
      "Hath overtisinh you that respiteshies for her\n",
      "Afond as he, he wakes, for less dog in\n",
      "The penitent not of the worst. Play is he\n",
      "had not talkalleys of the house of Lancaster!\n",
      "Thou smilest attended at thy life's eyes for;\n",
      "Even thou once more than a husband and his thom\n",
      "Of that the remembracement of the world,\n",
      "Whose were easter cannot temper why have them;\n",
      "Since thou find'st a great mattle to thy face.\n",
      "\n",
      "Nurse:\n",
      "I am so sheaten and so break a foament\n",
      "Of yet by mine honour. Say my victory.\n",
      "March, be thou legear,\n",
      "Do me what say you in our council\n",
      "Your judgment dismaid with my wrath,\n",
      "If I pluck'd in this man that you may.\n",
      "Where our care 'scape? would great we love in the\n",
      "bow, while you want the wild-goose in or him,\n",
      "he would not go with me aor patience.\n",
      "\n",
      "ISABELLA:\n",
      "I am roared are come. Leave me not: Poor generally,\n",
      "she is too coldly as home as he had lever-trackd\n",
      "the ladies.\n",
      "\n",
      "Provost:\n",
      "He'll make a drunken siek of love.\n",
      "\n",
      "ANGELO:\n",
      "How is it to \n",
      "Step 1500, train loss:0.3208, test loss:3.0940\n"
     ]
    },
    {
     "name": "stderr",
     "output_type": "stream",
     "text": [
      " 15%|█▌        | 1511/10000 [08:24<1:10:43,  2.00it/s]"
     ]
    },
    {
     "name": "stdout",
     "output_type": "stream",
     "text": [
      "Step 1510, train loss:0.3051, test loss:3.1464\n"
     ]
    },
    {
     "name": "stderr",
     "output_type": "stream",
     "text": [
      " 15%|█▌        | 1521/10000 [08:27<59:52,  2.36it/s]"
     ]
    },
    {
     "name": "stdout",
     "output_type": "stream",
     "text": [
      "Step 1520, train loss:0.3050, test loss:3.1182\n"
     ]
    },
    {
     "name": "stderr",
     "output_type": "stream",
     "text": [
      " 15%|█▌        | 1531/10000 [08:29<59:20,  2.38it/s]"
     ]
    },
    {
     "name": "stdout",
     "output_type": "stream",
     "text": [
      "Step 1530, train loss:0.3108, test loss:3.1310\n"
     ]
    },
    {
     "name": "stderr",
     "output_type": "stream",
     "text": [
      " 15%|█▌        | 1541/10000 [08:31<59:29,  2.37it/s]"
     ]
    },
    {
     "name": "stdout",
     "output_type": "stream",
     "text": [
      "Step 1540, train loss:0.2979, test loss:3.1862\n"
     ]
    },
    {
     "name": "stderr",
     "output_type": "stream",
     "text": [
      " 16%|█▌        | 1551/10000 [08:34<1:03:19,  2.22it/s]"
     ]
    },
    {
     "name": "stdout",
     "output_type": "stream",
     "text": [
      "Step 1550, train loss:0.2955, test loss:3.1127\n"
     ]
    },
    {
     "name": "stderr",
     "output_type": "stream",
     "text": [
      " 16%|█▌        | 1561/10000 [08:36<1:01:08,  2.30it/s]"
     ]
    },
    {
     "name": "stdout",
     "output_type": "stream",
     "text": [
      "Step 1560, train loss:0.2949, test loss:3.2095\n"
     ]
    },
    {
     "name": "stderr",
     "output_type": "stream",
     "text": [
      " 16%|█▌        | 1571/10000 [08:39<1:00:49,  2.31it/s]"
     ]
    },
    {
     "name": "stdout",
     "output_type": "stream",
     "text": [
      "Step 1570, train loss:0.2893, test loss:3.2087\n"
     ]
    },
    {
     "name": "stderr",
     "output_type": "stream",
     "text": [
      " 16%|█▌        | 1581/10000 [08:41<59:01,  2.38it/s]"
     ]
    },
    {
     "name": "stdout",
     "output_type": "stream",
     "text": [
      "Step 1580, train loss:0.2810, test loss:3.2284\n"
     ]
    },
    {
     "name": "stderr",
     "output_type": "stream",
     "text": [
      " 16%|█▌        | 1591/10000 [08:43<59:01,  2.37it/s]"
     ]
    },
    {
     "name": "stdout",
     "output_type": "stream",
     "text": [
      "Step 1590, train loss:0.2787, test loss:3.2522\n"
     ]
    },
    {
     "name": "stderr",
     "output_type": "stream",
     "text": [
      " 16%|█▌        | 1600/10000 [08:45<21:52,  6.40it/s]"
     ]
    },
    {
     "name": "stdout",
     "output_type": "stream",
     "text": [
      "Step 1600, train loss:0.2738, test loss:3.2814\n"
     ]
    },
    {
     "name": "stderr",
     "output_type": "stream",
     "text": [
      " 16%|█▌        | 1601/10000 [08:55<7:17:24,  3.12s/it]"
     ]
    },
    {
     "name": "stdout",
     "output_type": "stream",
     "text": [
      "\n",
      "\n",
      "ROMEO:\n",
      "Thou rascal, thou art worthy and once again.\n",
      "\n",
      "ROMEO:\n",
      "A gentleman, nurse, that fearful case thou banished\n",
      "And need to dream thee. Now, for first be wind,\n",
      "And this time to claim the friar and the limb,\n",
      "To stay her soft as owerful that which profess'd\n",
      "What 'marry' do; the prince had affrighted merry\n",
      "That from this castle's hate, Coriolanus,\n",
      "Like to his character to injured with him.\n",
      "Then such a disconformation with the probeg's sleep,\n",
      "And lived by jouncing inder flesh the east!\n",
      "Which of all the feeble and good my lords,\n",
      "And leave us to our England and their den.\n",
      "\n",
      "NORTHUMBERLAND:\n",
      "The noble duke hath sworn his charge to his mother.\n",
      "\n",
      "PRINCE EDWARD:\n",
      "And who should stain him lies that kind to queath?\n",
      "\n",
      "PETRUCHIO:\n",
      "Nor I, the wars he is grown, now the beness.\n",
      "\n",
      "GRUMIO:\n",
      "Nay, that he comes not the young was but ever.\n",
      "\n",
      "GLOUCESTER:\n",
      "Pleads his sways with steads here lies that there.\n",
      "\n",
      "PAULINA:\n",
      "I pray you, do not give me some sight. What curcuses might\n",
      "I; crown'd I have made this morning are to us\n",
      "Step 1600, train loss:0.2719, test loss:3.2739\n"
     ]
    },
    {
     "name": "stderr",
     "output_type": "stream",
     "text": [
      " 16%|█▌        | 1611/10000 [08:57<1:09:44,  2.00it/s]"
     ]
    },
    {
     "name": "stdout",
     "output_type": "stream",
     "text": [
      "Step 1610, train loss:0.2783, test loss:3.2542\n"
     ]
    },
    {
     "name": "stderr",
     "output_type": "stream",
     "text": [
      " 16%|█▌        | 1621/10000 [08:59<59:15,  2.36it/s]"
     ]
    },
    {
     "name": "stdout",
     "output_type": "stream",
     "text": [
      "Step 1620, train loss:0.2773, test loss:3.3566\n"
     ]
    },
    {
     "name": "stderr",
     "output_type": "stream",
     "text": [
      " 16%|█▋        | 1631/10000 [09:02<58:56,  2.37it/s]"
     ]
    },
    {
     "name": "stdout",
     "output_type": "stream",
     "text": [
      "Step 1630, train loss:0.2728, test loss:3.2691\n"
     ]
    },
    {
     "name": "stderr",
     "output_type": "stream",
     "text": [
      " 16%|█▋        | 1641/10000 [09:04<58:49,  2.37it/s]"
     ]
    },
    {
     "name": "stdout",
     "output_type": "stream",
     "text": [
      "Step 1640, train loss:0.2666, test loss:3.2579\n"
     ]
    },
    {
     "name": "stderr",
     "output_type": "stream",
     "text": [
      " 17%|█▋        | 1651/10000 [09:07<1:01:33,  2.26it/s]"
     ]
    },
    {
     "name": "stdout",
     "output_type": "stream",
     "text": [
      "Step 1650, train loss:0.2664, test loss:3.2988\n"
     ]
    },
    {
     "name": "stderr",
     "output_type": "stream",
     "text": [
      " 17%|█▋        | 1661/10000 [09:09<1:00:56,  2.28it/s]"
     ]
    },
    {
     "name": "stdout",
     "output_type": "stream",
     "text": [
      "Step 1660, train loss:0.2632, test loss:3.3232\n"
     ]
    },
    {
     "name": "stderr",
     "output_type": "stream",
     "text": [
      " 17%|█▋        | 1671/10000 [09:11<1:00:34,  2.29it/s]"
     ]
    },
    {
     "name": "stdout",
     "output_type": "stream",
     "text": [
      "Step 1670, train loss:0.2586, test loss:3.2974\n"
     ]
    },
    {
     "name": "stderr",
     "output_type": "stream",
     "text": [
      " 17%|█▋        | 1681/10000 [09:14<58:15,  2.38it/s]"
     ]
    },
    {
     "name": "stdout",
     "output_type": "stream",
     "text": [
      "Step 1680, train loss:0.2576, test loss:3.3115\n"
     ]
    },
    {
     "name": "stderr",
     "output_type": "stream",
     "text": [
      " 17%|█▋        | 1691/10000 [09:16<58:16,  2.38it/s]"
     ]
    },
    {
     "name": "stdout",
     "output_type": "stream",
     "text": [
      "Step 1690, train loss:0.2483, test loss:3.3938\n"
     ]
    },
    {
     "name": "stderr",
     "output_type": "stream",
     "text": [
      " 17%|█▋        | 1700/10000 [09:17<21:35,  6.40it/s]"
     ]
    },
    {
     "name": "stdout",
     "output_type": "stream",
     "text": [
      "Step 1700, train loss:0.2463, test loss:3.4042\n"
     ]
    },
    {
     "name": "stderr",
     "output_type": "stream",
     "text": [
      " 17%|█▋        | 1701/10000 [09:28<7:16:20,  3.15s/it]"
     ]
    },
    {
     "name": "stdout",
     "output_type": "stream",
     "text": [
      "\n",
      "\n",
      "PERDITA:\n",
      "Traitors, my lord.\n",
      "\n",
      "DUKE VINCENTIO:\n",
      "As good so much in you, sir, he hath done me\n",
      "To have you look'd upon her best: she lost alone,\n",
      "Prit us victors to come all this whipp\n",
      "Shall do without fortune, my ten times\n",
      "To make a sway were lusties on me:\n",
      "If not, then, in kinsman, or I hath some hand\n",
      "That hisp me but was. What opposite is this?\n",
      "Edward we may denied our cousin Buckingham\n",
      "Will to chertle them in so trouble the world\n",
      "Of that raptistation and the report,\n",
      "A reignt of war approach and bloody dog is\n",
      "The one deserves of this pale wench in their struck\n",
      "Corioling dates do was imonight,\n",
      "And all eyes else deep in sight according toad!\n",
      "\n",
      "QUEEN MARGARET:\n",
      "Please you to do't, leave unburnt, oracle,\n",
      "And though they come to all the Volsces she\n",
      "In the blood of that act.\n",
      "\n",
      "LUCIO:\n",
      "Had'a the truth, and will not swear her to avoid.\n",
      "Away with you and therefore he is accomplish'd,\n",
      "Upon my part shall do me business for\n",
      "A seem as makes this example.\n",
      "\n",
      "LADY ANNE:\n",
      "Small heart so.\n",
      "\n",
      "GLOUCESTER:\n",
      "Unmanner'd\n",
      "Step 1700, train loss:0.2526, test loss:3.3718\n"
     ]
    },
    {
     "name": "stderr",
     "output_type": "stream",
     "text": [
      " 17%|█▋        | 1711/10000 [09:30<1:08:42,  2.01it/s]"
     ]
    },
    {
     "name": "stdout",
     "output_type": "stream",
     "text": [
      "Step 1710, train loss:0.2467, test loss:3.3799\n"
     ]
    },
    {
     "name": "stderr",
     "output_type": "stream",
     "text": [
      " 17%|█▋        | 1721/10000 [09:32<58:32,  2.36it/s]"
     ]
    },
    {
     "name": "stdout",
     "output_type": "stream",
     "text": [
      "Step 1720, train loss:0.2455, test loss:3.4275\n"
     ]
    },
    {
     "name": "stderr",
     "output_type": "stream",
     "text": [
      " 17%|█▋        | 1731/10000 [09:35<58:19,  2.36it/s]"
     ]
    },
    {
     "name": "stdout",
     "output_type": "stream",
     "text": [
      "Step 1730, train loss:0.2430, test loss:3.4263\n"
     ]
    },
    {
     "name": "stderr",
     "output_type": "stream",
     "text": [
      " 17%|█▋        | 1741/10000 [09:37<58:07,  2.37it/s]"
     ]
    },
    {
     "name": "stdout",
     "output_type": "stream",
     "text": [
      "Step 1740, train loss:0.2362, test loss:3.4863\n"
     ]
    },
    {
     "name": "stderr",
     "output_type": "stream",
     "text": [
      " 18%|█▊        | 1751/10000 [09:39<59:48,  2.30it/s]"
     ]
    },
    {
     "name": "stdout",
     "output_type": "stream",
     "text": [
      "Step 1750, train loss:0.2305, test loss:3.4186\n"
     ]
    },
    {
     "name": "stderr",
     "output_type": "stream",
     "text": [
      " 18%|█▊        | 1761/10000 [09:42<1:00:10,  2.28it/s]"
     ]
    },
    {
     "name": "stdout",
     "output_type": "stream",
     "text": [
      "Step 1760, train loss:0.2407, test loss:3.5393\n"
     ]
    },
    {
     "name": "stderr",
     "output_type": "stream",
     "text": [
      " 18%|█▊        | 1771/10000 [09:44<59:45,  2.30it/s]"
     ]
    },
    {
     "name": "stdout",
     "output_type": "stream",
     "text": [
      "Step 1770, train loss:0.2262, test loss:3.4996\n"
     ]
    },
    {
     "name": "stderr",
     "output_type": "stream",
     "text": [
      " 18%|█▊        | 1781/10000 [09:47<57:48,  2.37it/s]"
     ]
    },
    {
     "name": "stdout",
     "output_type": "stream",
     "text": [
      "Step 1780, train loss:0.2308, test loss:3.5207\n"
     ]
    },
    {
     "name": "stderr",
     "output_type": "stream",
     "text": [
      " 18%|█▊        | 1791/10000 [09:49<58:02,  2.36it/s]"
     ]
    },
    {
     "name": "stdout",
     "output_type": "stream",
     "text": [
      "Step 1790, train loss:0.2193, test loss:3.5195\n"
     ]
    },
    {
     "name": "stderr",
     "output_type": "stream",
     "text": [
      " 18%|█▊        | 1800/10000 [09:50<21:21,  6.40it/s]"
     ]
    },
    {
     "name": "stdout",
     "output_type": "stream",
     "text": [
      "Step 1800, train loss:0.2215, test loss:3.5658\n"
     ]
    },
    {
     "name": "stderr",
     "output_type": "stream",
     "text": [
      " 18%|█▊        | 1801/10000 [10:00<7:09:00,  3.14s/it]"
     ]
    },
    {
     "name": "stdout",
     "output_type": "stream",
     "text": [
      "\n",
      "\n",
      "PARIS:\n",
      "Your protector lost if but week before.\n",
      "\n",
      "First Musician:\n",
      "And where he did usurp the people?\n",
      "\n",
      "Third Servingman:\n",
      "He's more than any of your voice: I know by the king\n",
      "for this, the man-did presume to courtesy,\n",
      "while hath a preherding foolish tales of the world,\n",
      "The town and leave out of the mind too, 'tis a cunnism,\n",
      "To make the made mourning at smore of my\n",
      "Thou art forted with music. By and as well\n",
      "Your knees to have the time to be consul.\n",
      "\n",
      "LUCIO:\n",
      "\n",
      "ANGELO:\n",
      "Well; what begine?\n",
      "\n",
      "Provost:\n",
      "He was many services, in his bags and affright.\n",
      "\n",
      "DUKE VINCENTIO:\n",
      "I thank thee, Varrius; thou hast made good haste:\n",
      "Come, we bid; your lord and to that both Lend you.\n",
      "\n",
      "BUCKINGHAM:\n",
      "What is the matter were?\n",
      "\n",
      "Second Citizen:\n",
      "Marry, we can tie the Duke of Exheart.\n",
      "\n",
      "First Citizen:\n",
      "Proclaim you out of pardon.\n",
      "\n",
      "Third Servingman:\n",
      "But, my matter, whom they that feel\n",
      "Who, I fray, lay; a gentlewoman of old friends,\n",
      "Beg pardon of the prince: and all the worse,\n",
      "The son is corless that I will wash you\n",
      "To give my nob\n",
      "Step 1800, train loss:0.2283, test loss:3.5737\n"
     ]
    },
    {
     "name": "stderr",
     "output_type": "stream",
     "text": [
      " 18%|█▊        | 1811/10000 [10:03<1:07:56,  2.01it/s]"
     ]
    },
    {
     "name": "stdout",
     "output_type": "stream",
     "text": [
      "Step 1810, train loss:0.2164, test loss:3.5744\n"
     ]
    },
    {
     "name": "stderr",
     "output_type": "stream",
     "text": [
      " 18%|█▊        | 1821/10000 [10:05<57:52,  2.36it/s]"
     ]
    },
    {
     "name": "stdout",
     "output_type": "stream",
     "text": [
      "Step 1820, train loss:0.2190, test loss:3.5666\n"
     ]
    },
    {
     "name": "stderr",
     "output_type": "stream",
     "text": [
      " 18%|█▊        | 1831/10000 [10:07<57:32,  2.37it/s]"
     ]
    },
    {
     "name": "stdout",
     "output_type": "stream",
     "text": [
      "Step 1830, train loss:0.2218, test loss:3.5531\n"
     ]
    },
    {
     "name": "stderr",
     "output_type": "stream",
     "text": [
      " 18%|█▊        | 1841/10000 [10:10<57:28,  2.37it/s]"
     ]
    },
    {
     "name": "stdout",
     "output_type": "stream",
     "text": [
      "Step 1840, train loss:0.2186, test loss:3.5723\n"
     ]
    },
    {
     "name": "stderr",
     "output_type": "stream",
     "text": [
      " 19%|█▊        | 1851/10000 [10:12<58:57,  2.30it/s]"
     ]
    },
    {
     "name": "stdout",
     "output_type": "stream",
     "text": [
      "Step 1850, train loss:0.2158, test loss:3.6702\n"
     ]
    },
    {
     "name": "stderr",
     "output_type": "stream",
     "text": [
      " 19%|█▊        | 1861/10000 [10:15<58:54,  2.30it/s]"
     ]
    },
    {
     "name": "stdout",
     "output_type": "stream",
     "text": [
      "Step 1860, train loss:0.2122, test loss:3.6397\n"
     ]
    },
    {
     "name": "stderr",
     "output_type": "stream",
     "text": [
      " 19%|█▊        | 1871/10000 [10:17<58:44,  2.31it/s]"
     ]
    },
    {
     "name": "stdout",
     "output_type": "stream",
     "text": [
      "Step 1870, train loss:0.2091, test loss:3.5719\n"
     ]
    },
    {
     "name": "stderr",
     "output_type": "stream",
     "text": [
      " 19%|█▉        | 1881/10000 [10:19<57:29,  2.35it/s]"
     ]
    },
    {
     "name": "stdout",
     "output_type": "stream",
     "text": [
      "Step 1880, train loss:0.2093, test loss:3.6157\n"
     ]
    },
    {
     "name": "stderr",
     "output_type": "stream",
     "text": [
      " 19%|█▉        | 1891/10000 [10:22<56:54,  2.37it/s]"
     ]
    },
    {
     "name": "stdout",
     "output_type": "stream",
     "text": [
      "Step 1890, train loss:0.2021, test loss:3.6415\n"
     ]
    },
    {
     "name": "stderr",
     "output_type": "stream",
     "text": [
      " 19%|█▉        | 1900/10000 [10:23<21:23,  6.31it/s]"
     ]
    },
    {
     "name": "stdout",
     "output_type": "stream",
     "text": [
      "Step 1900, train loss:0.2095, test loss:3.6514\n"
     ]
    },
    {
     "name": "stderr",
     "output_type": "stream",
     "text": [
      " 19%|█▉        | 1901/10000 [10:33<6:58:54,  3.10s/it]"
     ]
    },
    {
     "name": "stdout",
     "output_type": "stream",
     "text": [
      "\n",
      "\n",
      "KING RICHARD III:\n",
      "But didst thou see them dead?\n",
      "\n",
      "TYBALT:\n",
      "Thou, wretched bad, that did not marr'd.\n",
      "He hath not been brow't to be happ'd,\n",
      "That we should handle straight at guean's singular.\n",
      "The gods do good sister, and the prince's son,\n",
      "Nor so stopp'd the flower of mine are,\n",
      "Look, the searched office, or we on't,\n",
      "\n",
      "EDWARD:\n",
      "I will return again to tetters thought;\n",
      "Which I may fortune Eut of my voice,\n",
      "That my affection is in his matter.\n",
      "This well I wot you thus hath the world issue.\n",
      "\n",
      "PAULINA:\n",
      "No, friar, thou women'st and three,\n",
      "For I appellant to thine and good men's laws.\n",
      "Jun with their loves, the battle cames\n",
      "So fairly bound easy peign a gicker maid,\n",
      "But their own parting with thy crown, as they do.\n",
      "Here directith the kings, there let us see:\n",
      "'Tis now the court is set high'd upon it.\n",
      "This domanE he is: shall's true that he will,\n",
      "Which Was the bad born With Surrey,\n",
      "She his son George.\n",
      "\n",
      "GLOUCESTER:\n",
      "I thank your grant; for that you have spoken\n",
      "To have it as a princely deed in heart\n",
      "That I sha\n",
      "Step 1900, train loss:0.2040, test loss:3.6530\n"
     ]
    },
    {
     "name": "stderr",
     "output_type": "stream",
     "text": [
      " 19%|█▉        | 1911/10000 [10:35<1:07:50,  1.99it/s]"
     ]
    },
    {
     "name": "stdout",
     "output_type": "stream",
     "text": [
      "Step 1910, train loss:0.2072, test loss:3.7506\n"
     ]
    },
    {
     "name": "stderr",
     "output_type": "stream",
     "text": [
      " 19%|█▉        | 1921/10000 [10:38<57:00,  2.36it/s]"
     ]
    },
    {
     "name": "stdout",
     "output_type": "stream",
     "text": [
      "Step 1920, train loss:0.2042, test loss:3.6447\n"
     ]
    },
    {
     "name": "stderr",
     "output_type": "stream",
     "text": [
      " 19%|█▉        | 1931/10000 [10:40<56:32,  2.38it/s]"
     ]
    },
    {
     "name": "stdout",
     "output_type": "stream",
     "text": [
      "Step 1930, train loss:0.1972, test loss:3.7845\n"
     ]
    },
    {
     "name": "stderr",
     "output_type": "stream",
     "text": [
      " 19%|█▉        | 1941/10000 [10:42<56:34,  2.37it/s]"
     ]
    },
    {
     "name": "stdout",
     "output_type": "stream",
     "text": [
      "Step 1940, train loss:0.1964, test loss:3.7123\n"
     ]
    },
    {
     "name": "stderr",
     "output_type": "stream",
     "text": [
      " 20%|█▉        | 1951/10000 [10:45<56:57,  2.35it/s]"
     ]
    },
    {
     "name": "stdout",
     "output_type": "stream",
     "text": [
      "Step 1950, train loss:0.1958, test loss:3.6948\n"
     ]
    },
    {
     "name": "stderr",
     "output_type": "stream",
     "text": [
      " 20%|█▉        | 1961/10000 [10:47<58:02,  2.31it/s]"
     ]
    },
    {
     "name": "stdout",
     "output_type": "stream",
     "text": [
      "Step 1960, train loss:0.1985, test loss:3.7011\n"
     ]
    },
    {
     "name": "stderr",
     "output_type": "stream",
     "text": [
      " 20%|█▉        | 1971/10000 [10:50<58:11,  2.30it/s]"
     ]
    },
    {
     "name": "stdout",
     "output_type": "stream",
     "text": [
      "Step 1970, train loss:0.1960, test loss:3.7875\n"
     ]
    },
    {
     "name": "stderr",
     "output_type": "stream",
     "text": [
      " 20%|█▉        | 1981/10000 [10:52<57:17,  2.33it/s]"
     ]
    },
    {
     "name": "stdout",
     "output_type": "stream",
     "text": [
      "Step 1980, train loss:0.1947, test loss:3.7748\n"
     ]
    },
    {
     "name": "stderr",
     "output_type": "stream",
     "text": [
      " 20%|█▉        | 1991/10000 [10:54<56:28,  2.36it/s]"
     ]
    },
    {
     "name": "stdout",
     "output_type": "stream",
     "text": [
      "Step 1990, train loss:0.1962, test loss:3.7264\n"
     ]
    },
    {
     "name": "stderr",
     "output_type": "stream",
     "text": [
      " 20%|██        | 2000/10000 [10:56<20:55,  6.37it/s]"
     ]
    },
    {
     "name": "stdout",
     "output_type": "stream",
     "text": [
      "Step 2000, train loss:0.1918, test loss:3.7955\n"
     ]
    },
    {
     "name": "stderr",
     "output_type": "stream",
     "text": [
      " 20%|██        | 2001/10000 [11:05<6:42:16,  3.02s/it]"
     ]
    },
    {
     "name": "stdout",
     "output_type": "stream",
     "text": [
      "\n",
      "\n",
      "CORIOLANUS:\n",
      "Pray, be content:\n",
      "Mother to a noble child.\n",
      "\n",
      "VIRGILIA:\n",
      "Who there you meninh'd upon this woman's heir?\n",
      "\n",
      "VOLUMNIA:\n",
      "Now, nor your brother, ho! you mean not a word of the\n",
      "dial.\n",
      "\n",
      "COMINIUS:\n",
      "'Twas when they believed more came to't with thares\n",
      "That's never without contremed where Pray you,\n",
      "Unbuckle me their sovereign ef my fall together.\n",
      "Make me to the same and not thereof;\n",
      "Be not yet still my son Corioli;\n",
      "You should not brook; back, let me may I\n",
      "Was well believe but that I am our soldiers;\n",
      "If the king possess for the place of the prison,\n",
      "Correcting I will first well.\n",
      "\n",
      "HENRY BOLINGBROKE:\n",
      "I thank you, good father.\n",
      "\n",
      "DUKE VINCENTIO:\n",
      "'Tell him, in the profane.\n",
      "What an eunctneye of his hate and mercy?\n",
      "If he be reneived, I will not all.\n",
      "\n",
      "LUCIO:\n",
      "What coliar I stay?\n",
      "\n",
      "Provost:\n",
      "Who calls for your grace?\n",
      "\n",
      "GLOUCESTER:\n",
      "And look to have; the grandam leave of you.\n",
      "\n",
      "LADY ANNE:\n",
      "What is the matter, you may you suppose\n",
      "Dost thou feel thy bed to.\n",
      "\n",
      "PAULINA:\n",
      "I would he be as long as I,\n",
      "When reasons with \n",
      "Step 2000, train loss:0.1949, test loss:3.8576\n"
     ]
    },
    {
     "name": "stderr",
     "output_type": "stream",
     "text": [
      " 20%|██        | 2011/10000 [11:08<1:08:19,  1.95it/s]"
     ]
    },
    {
     "name": "stdout",
     "output_type": "stream",
     "text": [
      "Step 2010, train loss:0.1935, test loss:3.7365\n"
     ]
    },
    {
     "name": "stderr",
     "output_type": "stream",
     "text": [
      " 20%|██        | 2021/10000 [11:10<56:37,  2.35it/s]"
     ]
    },
    {
     "name": "stdout",
     "output_type": "stream",
     "text": [
      "Step 2020, train loss:0.1929, test loss:3.7757\n"
     ]
    },
    {
     "name": "stderr",
     "output_type": "stream",
     "text": [
      " 20%|██        | 2031/10000 [11:13<56:21,  2.36it/s]"
     ]
    },
    {
     "name": "stdout",
     "output_type": "stream",
     "text": [
      "Step 2030, train loss:0.1867, test loss:3.8099\n"
     ]
    },
    {
     "name": "stderr",
     "output_type": "stream",
     "text": [
      " 20%|██        | 2041/10000 [11:15<56:11,  2.36it/s]"
     ]
    },
    {
     "name": "stdout",
     "output_type": "stream",
     "text": [
      "Step 2040, train loss:0.1890, test loss:3.8134\n"
     ]
    },
    {
     "name": "stderr",
     "output_type": "stream",
     "text": [
      " 21%|██        | 2051/10000 [11:17<55:49,  2.37it/s]"
     ]
    },
    {
     "name": "stdout",
     "output_type": "stream",
     "text": [
      "Step 2050, train loss:0.1890, test loss:3.7582\n"
     ]
    },
    {
     "name": "stderr",
     "output_type": "stream",
     "text": [
      " 21%|██        | 2061/10000 [11:20<57:53,  2.29it/s]"
     ]
    },
    {
     "name": "stdout",
     "output_type": "stream",
     "text": [
      "Step 2060, train loss:0.1877, test loss:3.8565\n"
     ]
    },
    {
     "name": "stderr",
     "output_type": "stream",
     "text": [
      " 21%|██        | 2071/10000 [11:22<57:17,  2.31it/s]"
     ]
    },
    {
     "name": "stdout",
     "output_type": "stream",
     "text": [
      "Step 2070, train loss:0.1790, test loss:3.7881\n"
     ]
    },
    {
     "name": "stderr",
     "output_type": "stream",
     "text": [
      " 21%|██        | 2081/10000 [11:25<58:24,  2.26it/s]"
     ]
    },
    {
     "name": "stdout",
     "output_type": "stream",
     "text": [
      "Step 2080, train loss:0.1728, test loss:3.7747\n"
     ]
    },
    {
     "name": "stderr",
     "output_type": "stream",
     "text": [
      " 21%|██        | 2091/10000 [11:27<55:46,  2.36it/s]"
     ]
    },
    {
     "name": "stdout",
     "output_type": "stream",
     "text": [
      "Step 2090, train loss:0.1798, test loss:3.8080\n"
     ]
    },
    {
     "name": "stderr",
     "output_type": "stream",
     "text": [
      " 21%|██        | 2100/10000 [11:28<20:37,  6.38it/s]"
     ]
    },
    {
     "name": "stdout",
     "output_type": "stream",
     "text": [
      "Step 2100, train loss:0.1826, test loss:3.8058\n"
     ]
    },
    {
     "name": "stderr",
     "output_type": "stream",
     "text": [
      " 21%|██        | 2101/10000 [11:38<6:37:19,  3.02s/it]"
     ]
    },
    {
     "name": "stdout",
     "output_type": "stream",
     "text": [
      "\n",
      "\n",
      "MARCIUS:\n",
      "Nay, let us go.\n",
      "\n",
      "VALERIA:\n",
      "Not our suitors; I'll thus answer the ranks\n",
      "Of stones, to put me off and obsequious dumpleAs,\n",
      "And many an outcast of my poor heart;\n",
      "For though my hands are not for such a thing\n",
      "What thought to crave the man that you did.\n",
      "\n",
      "KING RICHARD III:\n",
      "That, like the lords from quoth at Tybalt for it,\n",
      "Are come to have societ and my father's death,\n",
      "In dreadful bray with us at waters hid,\n",
      "And that the remembrance of dust that young\n",
      "Admorse that makes doubt but hollias so hold\n",
      "Shis man that heaven hath all, life answer to\n",
      "us. What though commend my cousin to me?\n",
      "\n",
      "First Murderer:\n",
      "We are, he but this intelligence, but our pawsing\n",
      "sense; who is itransported him in the air\n",
      "Of ghessing on the like upon this fiend,\n",
      "Thought it, to owe them to the city.\n",
      "\n",
      "ARCHIDAMUS:\n",
      "By the gaoler is thine, my lord; the duke\n",
      "It is an art forth. Silent I say so,\n",
      "That is not so much it to joy and we may well\n",
      "The danger is for wearing-time enmour;\n",
      "Courage more. God give me leave, and I'll not\n",
      "To\n",
      "Step 2100, train loss:0.1807, test loss:3.8761\n"
     ]
    },
    {
     "name": "stderr",
     "output_type": "stream",
     "text": [
      " 21%|██        | 2111/10000 [11:40<1:06:47,  1.97it/s]"
     ]
    },
    {
     "name": "stdout",
     "output_type": "stream",
     "text": [
      "Step 2110, train loss:0.1730, test loss:3.8823\n"
     ]
    },
    {
     "name": "stderr",
     "output_type": "stream",
     "text": [
      " 21%|██        | 2121/10000 [11:43<56:02,  2.34it/s]"
     ]
    },
    {
     "name": "stdout",
     "output_type": "stream",
     "text": [
      "Step 2120, train loss:0.1759, test loss:3.8637\n"
     ]
    },
    {
     "name": "stderr",
     "output_type": "stream",
     "text": [
      " 21%|██▏       | 2131/10000 [11:45<55:25,  2.37it/s]"
     ]
    },
    {
     "name": "stdout",
     "output_type": "stream",
     "text": [
      "Step 2130, train loss:0.1758, test loss:3.9537\n"
     ]
    },
    {
     "name": "stderr",
     "output_type": "stream",
     "text": [
      " 21%|██▏       | 2141/10000 [11:47<55:26,  2.36it/s]"
     ]
    },
    {
     "name": "stdout",
     "output_type": "stream",
     "text": [
      "Step 2140, train loss:0.1765, test loss:3.8203\n"
     ]
    },
    {
     "name": "stderr",
     "output_type": "stream",
     "text": [
      " 22%|██▏       | 2151/10000 [11:50<55:33,  2.35it/s]"
     ]
    },
    {
     "name": "stdout",
     "output_type": "stream",
     "text": [
      "Step 2150, train loss:0.1745, test loss:3.9108\n"
     ]
    },
    {
     "name": "stderr",
     "output_type": "stream",
     "text": [
      " 22%|██▏       | 2161/10000 [11:52<55:47,  2.34it/s]"
     ]
    },
    {
     "name": "stdout",
     "output_type": "stream",
     "text": [
      "Step 2160, train loss:0.1742, test loss:3.9095\n"
     ]
    },
    {
     "name": "stderr",
     "output_type": "stream",
     "text": [
      " 22%|██▏       | 2171/10000 [11:55<56:24,  2.31it/s]"
     ]
    },
    {
     "name": "stdout",
     "output_type": "stream",
     "text": [
      "Step 2170, train loss:0.1794, test loss:3.9237\n"
     ]
    },
    {
     "name": "stderr",
     "output_type": "stream",
     "text": [
      " 22%|██▏       | 2181/10000 [11:57<56:39,  2.30it/s]"
     ]
    },
    {
     "name": "stdout",
     "output_type": "stream",
     "text": [
      "Step 2180, train loss:0.1707, test loss:3.8953\n"
     ]
    },
    {
     "name": "stderr",
     "output_type": "stream",
     "text": [
      " 22%|██▏       | 2191/10000 [11:59<55:16,  2.35it/s]"
     ]
    },
    {
     "name": "stdout",
     "output_type": "stream",
     "text": [
      "Step 2190, train loss:0.1686, test loss:3.9249\n"
     ]
    },
    {
     "name": "stderr",
     "output_type": "stream",
     "text": [
      " 22%|██▏       | 2200/10000 [12:01<20:23,  6.37it/s]"
     ]
    },
    {
     "name": "stdout",
     "output_type": "stream",
     "text": [
      "Step 2200, train loss:0.1673, test loss:3.9322\n"
     ]
    },
    {
     "name": "stderr",
     "output_type": "stream",
     "text": [
      " 22%|██▏       | 2201/10000 [12:10<6:13:11,  2.87s/it]"
     ]
    },
    {
     "name": "stdout",
     "output_type": "stream",
     "text": [
      "\n",
      "\n",
      "KING EDWARD IV:\n",
      "'Tis false, by order, to rarely till him I;\n",
      "I had rather be their servant in their child.\n",
      "\n",
      "AUTOLYCUS:\n",
      "They oid o'er the wind, the woak of these vile powers\n",
      "So play the alone, nor whether the crown\n",
      "In the sacrifice peace; some two keep within.\n",
      "\n",
      "Second Murderer:\n",
      "A bloody deed, and desperately dispatch'd.\n",
      "How fain, like Pilate, would I wash my hand,\n",
      "Of bidding vow; and come overthrow loth\n",
      "A side that intentle things cast hateon,\n",
      "That in his life did look again.\n",
      "\n",
      "SICINIUS:\n",
      "The last neighbours he is to Richmond.\n",
      "\n",
      "BRUTUS:\n",
      "Go about it indeed; if took and tell fancy.\n",
      "\n",
      "SIClaudio:\n",
      "The matter at his great affairs do as the passage.\n",
      "\n",
      "Second Murderer:\n",
      "My gracious lord, I will not do't without with\n",
      "his grace, let us help to the rock of him: but, in\n",
      "the may be sworn in a man's bosom; it speak; and\n",
      "truly since last I reap it not.\n",
      "\n",
      "Second Servingman:\n",
      "But shall I be fearful of him, he is a\n",
      "good for his own carvet-s of mine eyes: what they\n",
      "are.\n",
      "\n",
      "ELBOW:\n",
      "Marry, I thank your worship for it. \n",
      "Step 2200, train loss:0.1669, test loss:3.9561\n"
     ]
    },
    {
     "name": "stderr",
     "output_type": "stream",
     "text": [
      " 22%|██▏       | 2211/10000 [12:12<1:05:13,  1.99it/s]"
     ]
    },
    {
     "name": "stdout",
     "output_type": "stream",
     "text": [
      "Step 2210, train loss:0.1646, test loss:3.9962\n"
     ]
    },
    {
     "name": "stderr",
     "output_type": "stream",
     "text": [
      " 22%|██▏       | 2221/10000 [12:15<56:34,  2.29it/s]"
     ]
    },
    {
     "name": "stdout",
     "output_type": "stream",
     "text": [
      "Step 2220, train loss:0.1715, test loss:3.9914\n"
     ]
    },
    {
     "name": "stderr",
     "output_type": "stream",
     "text": [
      " 22%|██▏       | 2231/10000 [12:17<54:40,  2.37it/s]"
     ]
    },
    {
     "name": "stdout",
     "output_type": "stream",
     "text": [
      "Step 2230, train loss:0.1693, test loss:3.8942\n"
     ]
    },
    {
     "name": "stderr",
     "output_type": "stream",
     "text": [
      " 22%|██▏       | 2241/10000 [12:19<54:22,  2.38it/s]"
     ]
    },
    {
     "name": "stdout",
     "output_type": "stream",
     "text": [
      "Step 2240, train loss:0.1689, test loss:3.9576\n"
     ]
    },
    {
     "name": "stderr",
     "output_type": "stream",
     "text": [
      " 23%|██▎       | 2251/10000 [12:22<54:31,  2.37it/s]"
     ]
    },
    {
     "name": "stdout",
     "output_type": "stream",
     "text": [
      "Step 2250, train loss:0.1721, test loss:3.9569\n"
     ]
    },
    {
     "name": "stderr",
     "output_type": "stream",
     "text": [
      " 23%|██▎       | 2261/10000 [12:24<54:35,  2.36it/s]"
     ]
    },
    {
     "name": "stdout",
     "output_type": "stream",
     "text": [
      "Step 2260, train loss:0.1656, test loss:3.9759\n"
     ]
    },
    {
     "name": "stderr",
     "output_type": "stream",
     "text": [
      " 23%|██▎       | 2271/10000 [12:27<56:29,  2.28it/s]"
     ]
    },
    {
     "name": "stdout",
     "output_type": "stream",
     "text": [
      "Step 2270, train loss:0.1661, test loss:4.0118\n"
     ]
    },
    {
     "name": "stderr",
     "output_type": "stream",
     "text": [
      " 23%|██▎       | 2281/10000 [12:29<56:09,  2.29it/s]"
     ]
    },
    {
     "name": "stdout",
     "output_type": "stream",
     "text": [
      "Step 2280, train loss:0.1603, test loss:4.0321\n"
     ]
    },
    {
     "name": "stderr",
     "output_type": "stream",
     "text": [
      " 23%|██▎       | 2291/10000 [12:31<56:10,  2.29it/s]"
     ]
    },
    {
     "name": "stdout",
     "output_type": "stream",
     "text": [
      "Step 2290, train loss:0.1588, test loss:3.9746\n"
     ]
    },
    {
     "name": "stderr",
     "output_type": "stream",
     "text": [
      " 23%|██▎       | 2300/10000 [12:33<20:17,  6.33it/s]"
     ]
    },
    {
     "name": "stdout",
     "output_type": "stream",
     "text": [
      "Step 2300, train loss:0.1588, test loss:4.1058\n"
     ]
    },
    {
     "name": "stderr",
     "output_type": "stream",
     "text": [
      " 23%|██▎       | 2301/10000 [12:42<5:55:02,  2.77s/it]"
     ]
    },
    {
     "name": "stdout",
     "output_type": "stream",
     "text": [
      "\n",
      "\n",
      "LUCIO:\n",
      "Let's have given thee strength and power he can; inturblind\n",
      "there; the as coming is in the stroke\n",
      "rather; and the truth of the necks of men's spread\n",
      "white and recreant and discour in pleasing friends?\n",
      "\n",
      "Clarent Koter:\n",
      "Therefore let him say not to sing it.\n",
      "\n",
      "Third Servingman:\n",
      "Hath wouldst thou help thee?\n",
      "\n",
      "CORIOLANUS:\n",
      "These eyes are not the firest upon the earth,\n",
      "Like to a slower and the charity is in the view;\n",
      "And thou shalt be the third if thy cheeks are now\n",
      "With good Cominius: my oath is reason to acter:\n",
      "You must to PoSait Bushy, Benvolio dispersed:\n",
      "And what I know, yet shall we do it;\n",
      "But while you are  of will to displace,\n",
      "Look on my life a taleful sweet base.\n",
      "\n",
      "PARIS:\n",
      "Sweet Bolingbroke, dishollow from the friar,\n",
      "I know not how to treason: hang 'em!\n",
      "I would took away; what of that day's fife\n",
      "Wis makes on foot and ahamy as they lie.\n",
      "\n",
      "FRIAR LAURENCE:\n",
      "Unhappy farewell! why would you govern be?\n",
      "Before the lock that it may do you enter.\n",
      "\n",
      "RUTLAND:\n",
      "I was your time is second to behold.\n",
      "\n",
      "Step 2300, train loss:0.1618, test loss:4.0169\n"
     ]
    },
    {
     "name": "stderr",
     "output_type": "stream",
     "text": [
      " 23%|██▎       | 2311/10000 [12:44<1:05:02,  1.97it/s]"
     ]
    },
    {
     "name": "stdout",
     "output_type": "stream",
     "text": [
      "Step 2310, train loss:0.1599, test loss:4.0047\n"
     ]
    },
    {
     "name": "stderr",
     "output_type": "stream",
     "text": [
      " 23%|██▎       | 2321/10000 [12:47<57:14,  2.24it/s]"
     ]
    },
    {
     "name": "stdout",
     "output_type": "stream",
     "text": [
      "Step 2320, train loss:0.1616, test loss:4.0787\n"
     ]
    },
    {
     "name": "stderr",
     "output_type": "stream",
     "text": [
      " 23%|██▎       | 2331/10000 [12:49<55:44,  2.29it/s]"
     ]
    },
    {
     "name": "stdout",
     "output_type": "stream",
     "text": [
      "Step 2330, train loss:0.1594, test loss:4.0246\n"
     ]
    },
    {
     "name": "stderr",
     "output_type": "stream",
     "text": [
      " 23%|██▎       | 2341/10000 [12:51<53:57,  2.37it/s]"
     ]
    },
    {
     "name": "stdout",
     "output_type": "stream",
     "text": [
      "Step 2340, train loss:0.1603, test loss:4.0611\n"
     ]
    },
    {
     "name": "stderr",
     "output_type": "stream",
     "text": [
      " 24%|██▎       | 2351/10000 [12:54<54:01,  2.36it/s]"
     ]
    },
    {
     "name": "stdout",
     "output_type": "stream",
     "text": [
      "Step 2350, train loss:0.1581, test loss:4.0527\n"
     ]
    },
    {
     "name": "stderr",
     "output_type": "stream",
     "text": [
      " 24%|██▎       | 2361/10000 [12:56<53:45,  2.37it/s]"
     ]
    },
    {
     "name": "stdout",
     "output_type": "stream",
     "text": [
      "Step 2360, train loss:0.1600, test loss:4.0201\n"
     ]
    },
    {
     "name": "stderr",
     "output_type": "stream",
     "text": [
      " 24%|██▎       | 2371/10000 [12:58<53:49,  2.36it/s]"
     ]
    },
    {
     "name": "stdout",
     "output_type": "stream",
     "text": [
      "Step 2370, train loss:0.1588, test loss:4.0903\n"
     ]
    },
    {
     "name": "stderr",
     "output_type": "stream",
     "text": [
      " 24%|██▍       | 2381/10000 [13:01<56:25,  2.25it/s]"
     ]
    },
    {
     "name": "stdout",
     "output_type": "stream",
     "text": [
      "Step 2380, train loss:0.1563, test loss:4.0952\n"
     ]
    },
    {
     "name": "stderr",
     "output_type": "stream",
     "text": [
      " 24%|██▍       | 2391/10000 [13:03<55:02,  2.30it/s]"
     ]
    },
    {
     "name": "stdout",
     "output_type": "stream",
     "text": [
      "Step 2390, train loss:0.1567, test loss:4.0699\n"
     ]
    },
    {
     "name": "stderr",
     "output_type": "stream",
     "text": [
      " 24%|██▍       | 2400/10000 [13:05<20:12,  6.27it/s]"
     ]
    },
    {
     "name": "stdout",
     "output_type": "stream",
     "text": [
      "Step 2400, train loss:0.1549, test loss:4.0497\n"
     ]
    },
    {
     "name": "stderr",
     "output_type": "stream",
     "text": [
      " 24%|██▍       | 2401/10000 [13:13<5:50:17,  2.77s/it]"
     ]
    },
    {
     "name": "stdout",
     "output_type": "stream",
     "text": [
      "\n",
      "\n",
      "ROMEO:\n",
      "When I was late comes to stand upon't.\n",
      "We reputied and prosecution stands\n",
      "As far as my sister pardon. We must do you\n",
      "Must believe them, and cannot lose a thing\n",
      "That none but fools would keep: a breath will give\n",
      "his heavy scorn! Away with him to dewn your enemies!\n",
      "\n",
      "First Servingman:\n",
      "What we will deserve your loathsome fair, if we do not espear.\n",
      "\n",
      "HORTENSIO:\n",
      "So will I, Signior Gremio: but a word, I pray.\n",
      "Though you say nothing; yet, a\n",
      "\n",
      "tItitute miserable tale.\n",
      "\n",
      "PRINCE:\n",
      "Content.\n",
      "\n",
      "PERDITA:\n",
      "\n",
      "POMPEY:\n",
      "I hope, sir, your good worship well agreeing.\n",
      "\n",
      "DUKE OF YORK:\n",
      "What hands your knees, and neither pity do him there?\n",
      "\n",
      "ESCALUS:\n",
      "My lord.\n",
      "\n",
      "DUKE VINCENTIO:\n",
      "But to his heat a little more.\n",
      "\n",
      "LUCIO:\n",
      "Why, I cry you mercy.\n",
      "\n",
      "CLAUDIO:\n",
      "O weakness 'tis an iffected this dangling son?\n",
      "\n",
      "JULIET:\n",
      "But old thy mother I god the Kent\n",
      "Out of thy tongue and lawful matter!\n",
      "Thou hast amazed me: by my holy order,\n",
      "I thought thy disposition better tell; for, gentlemen,\n",
      "The common mountains with our death appear, Play\n",
      "I \n",
      "Step 2400, train loss:0.1552, test loss:4.0325\n"
     ]
    },
    {
     "name": "stderr",
     "output_type": "stream",
     "text": [
      " 24%|██▍       | 2411/10000 [13:16<1:02:01,  2.04it/s]"
     ]
    },
    {
     "name": "stdout",
     "output_type": "stream",
     "text": [
      "Step 2410, train loss:0.1569, test loss:4.0927\n"
     ]
    },
    {
     "name": "stderr",
     "output_type": "stream",
     "text": [
      " 24%|██▍       | 2421/10000 [13:18<55:25,  2.28it/s]"
     ]
    },
    {
     "name": "stdout",
     "output_type": "stream",
     "text": [
      "Step 2420, train loss:0.1572, test loss:4.1076\n"
     ]
    },
    {
     "name": "stderr",
     "output_type": "stream",
     "text": [
      " 24%|██▍       | 2431/10000 [13:21<55:01,  2.29it/s]"
     ]
    },
    {
     "name": "stdout",
     "output_type": "stream",
     "text": [
      "Step 2430, train loss:0.1541, test loss:4.1208\n"
     ]
    },
    {
     "name": "stderr",
     "output_type": "stream",
     "text": [
      " 24%|██▍       | 2441/10000 [13:23<53:24,  2.36it/s]"
     ]
    },
    {
     "name": "stdout",
     "output_type": "stream",
     "text": [
      "Step 2440, train loss:0.1513, test loss:4.0889\n"
     ]
    },
    {
     "name": "stderr",
     "output_type": "stream",
     "text": [
      " 25%|██▍       | 2451/10000 [13:25<53:03,  2.37it/s]"
     ]
    },
    {
     "name": "stdout",
     "output_type": "stream",
     "text": [
      "Step 2450, train loss:0.1529, test loss:4.1179\n"
     ]
    },
    {
     "name": "stderr",
     "output_type": "stream",
     "text": [
      " 25%|██▍       | 2461/10000 [13:28<53:11,  2.36it/s]"
     ]
    },
    {
     "name": "stdout",
     "output_type": "stream",
     "text": [
      "Step 2460, train loss:0.1523, test loss:4.1252\n"
     ]
    },
    {
     "name": "stderr",
     "output_type": "stream",
     "text": [
      " 25%|██▍       | 2471/10000 [13:30<53:06,  2.36it/s]"
     ]
    },
    {
     "name": "stdout",
     "output_type": "stream",
     "text": [
      "Step 2470, train loss:0.1513, test loss:4.1290\n"
     ]
    },
    {
     "name": "stderr",
     "output_type": "stream",
     "text": [
      " 25%|██▍       | 2481/10000 [13:32<53:28,  2.34it/s]"
     ]
    },
    {
     "name": "stdout",
     "output_type": "stream",
     "text": [
      "Step 2480, train loss:0.1560, test loss:4.1211\n"
     ]
    },
    {
     "name": "stderr",
     "output_type": "stream",
     "text": [
      " 25%|██▍       | 2491/10000 [13:35<54:34,  2.29it/s]"
     ]
    },
    {
     "name": "stdout",
     "output_type": "stream",
     "text": [
      "Step 2490, train loss:0.1552, test loss:4.1122\n"
     ]
    },
    {
     "name": "stderr",
     "output_type": "stream",
     "text": [
      " 25%|██▌       | 2500/10000 [13:36<20:27,  6.11it/s]"
     ]
    },
    {
     "name": "stdout",
     "output_type": "stream",
     "text": [
      "Step 2500, train loss:0.1506, test loss:4.0991\n"
     ]
    },
    {
     "name": "stderr",
     "output_type": "stream",
     "text": [
      " 25%|██▌       | 2501/10000 [13:45<5:55:18,  2.84s/it]"
     ]
    },
    {
     "name": "stdout",
     "output_type": "stream",
     "text": [
      "\n",
      "\n",
      "CORIOLANUS:\n",
      "What do you pray?\n",
      "\n",
      "BRUTUS:\n",
      "Whip night? prince?\n",
      "\n",
      "BRUTUS:\n",
      "Pray, let us go.\n",
      "\n",
      "CORIOLANUS:\n",
      "Dispatch.\n",
      "\n",
      "MENENIUS:\n",
      "Peace!\n",
      "\n",
      "CORIOLANUS:\n",
      "No more of thy swords. I am then's love. Peace, ho, sir; I have\n",
      "a dream of his soul.\n",
      "\n",
      "First Citizen:\n",
      "One word, good Coriolanus, honourable Could have stay'd\n",
      "To hear good correction, I'll hold them remain\n",
      "As like a good world.\n",
      "\n",
      "VIRGILIA:\n",
      "Heavens grant that the truth; which I perused\n",
      "from my heart.\n",
      "\n",
      "Second Senator:\n",
      "'Ty, ay,' live to speak untimely frosts of my request\n",
      "way drop on my house: here's nothing self!\n",
      "Long grief makes his some of us holy days.\n",
      "\n",
      "ROMEO:\n",
      "There is no remedy: he urged me kindly:\n",
      "He cried to see; for his sake man I am,\n",
      "Behold my heart, and himself more, are made to come\n",
      "That look upon my brother: both your pardons,\n",
      "That you shall be content to this business\n",
      "Will raise us all.\n",
      "\n",
      "BENVOLIO:\n",
      "The word that name was the ickness of his presence\n",
      "Porder ourself to take a broke to earth the fabbing.\n",
      "\n",
      "HORTENSIO:\n",
      "The mother is changed again; an\n",
      "Step 2500, train loss:0.1561, test loss:4.1725\n"
     ]
    },
    {
     "name": "stderr",
     "output_type": "stream",
     "text": [
      " 25%|██▌       | 2511/10000 [13:48<1:01:00,  2.05it/s]"
     ]
    },
    {
     "name": "stdout",
     "output_type": "stream",
     "text": [
      "Step 2510, train loss:0.1509, test loss:4.1865\n"
     ]
    },
    {
     "name": "stderr",
     "output_type": "stream",
     "text": [
      " 25%|██▌       | 2521/10000 [13:50<53:46,  2.32it/s]"
     ]
    },
    {
     "name": "stdout",
     "output_type": "stream",
     "text": [
      "Step 2520, train loss:0.1496, test loss:4.1546\n"
     ]
    },
    {
     "name": "stderr",
     "output_type": "stream",
     "text": [
      " 25%|██▌       | 2531/10000 [13:52<54:05,  2.30it/s]"
     ]
    },
    {
     "name": "stdout",
     "output_type": "stream",
     "text": [
      "Step 2530, train loss:0.1500, test loss:4.1550\n"
     ]
    },
    {
     "name": "stderr",
     "output_type": "stream",
     "text": [
      " 25%|██▌       | 2541/10000 [13:55<54:03,  2.30it/s]"
     ]
    },
    {
     "name": "stdout",
     "output_type": "stream",
     "text": [
      "Step 2540, train loss:0.1503, test loss:4.2087\n"
     ]
    },
    {
     "name": "stderr",
     "output_type": "stream",
     "text": [
      " 26%|██▌       | 2551/10000 [13:57<52:16,  2.37it/s]"
     ]
    },
    {
     "name": "stdout",
     "output_type": "stream",
     "text": [
      "Step 2550, train loss:0.1489, test loss:4.1475\n"
     ]
    },
    {
     "name": "stderr",
     "output_type": "stream",
     "text": [
      " 26%|██▌       | 2561/10000 [14:00<52:12,  2.37it/s]"
     ]
    },
    {
     "name": "stdout",
     "output_type": "stream",
     "text": [
      "Step 2560, train loss:0.1508, test loss:4.1576\n"
     ]
    },
    {
     "name": "stderr",
     "output_type": "stream",
     "text": [
      " 26%|██▌       | 2571/10000 [14:02<52:16,  2.37it/s]"
     ]
    },
    {
     "name": "stdout",
     "output_type": "stream",
     "text": [
      "Step 2570, train loss:0.1475, test loss:4.2072\n"
     ]
    },
    {
     "name": "stderr",
     "output_type": "stream",
     "text": [
      " 26%|██▌       | 2581/10000 [14:04<52:05,  2.37it/s]"
     ]
    },
    {
     "name": "stdout",
     "output_type": "stream",
     "text": [
      "Step 2580, train loss:0.1487, test loss:4.1407\n"
     ]
    },
    {
     "name": "stderr",
     "output_type": "stream",
     "text": [
      " 26%|██▌       | 2591/10000 [14:07<52:56,  2.33it/s]"
     ]
    },
    {
     "name": "stdout",
     "output_type": "stream",
     "text": [
      "Step 2590, train loss:0.1523, test loss:4.1742\n"
     ]
    },
    {
     "name": "stderr",
     "output_type": "stream",
     "text": [
      " 26%|██▌       | 2600/10000 [14:08<20:05,  6.14it/s]"
     ]
    },
    {
     "name": "stdout",
     "output_type": "stream",
     "text": [
      "Step 2600, train loss:0.1433, test loss:4.2083\n"
     ]
    },
    {
     "name": "stderr",
     "output_type": "stream",
     "text": [
      " 26%|██▌       | 2601/10000 [14:18<6:05:40,  2.97s/it]"
     ]
    },
    {
     "name": "stdout",
     "output_type": "stream",
     "text": [
      "\n",
      "\n",
      "GREEN:\n",
      "Well, sir.\n",
      "\n",
      "MENENIUS:\n",
      "Ha!\n",
      "\n",
      "Both Tribunes:\n",
      "Farewell.\n",
      "\n",
      "BRUTUS:\n",
      "Get you hence instantly, and prove the women\n",
      "That was which yet seem to be honest plain,\n",
      "In noting employ'd, who scales beheaded\n",
      "Here. How his state, make back again!\n",
      "An old honour, and the stranger growns me he'll serve:\n",
      "I'll wear them to prison away my children;\n",
      "And that thou oft provokest; belike me,\n",
      "Go, sirrah, take the the encounter with thee\n",
      "As now the shepherd's daughter.\n",
      "\n",
      "Shepherd:\n",
      "Come, you justice: then you have deserved\n",
      "Adventure, as you have sled to reap and courteous\n",
      "Hang any old relish and all all not flatters\n",
      "So world in true and case for me and\n",
      "The enstood of my state.\n",
      "\n",
      "COMINIUS:\n",
      "Nature, more of thy familiar silence,\n",
      "Which was so wad as both a dozen stand\n",
      "By such gazience on some flowers had levied souls\n",
      "Had breed upon our aides. He that had the skilled her day,\n",
      "that fan's last like wholesome fatal holls, and howll anon\n",
      "go stand and rear in 's face. Give me thy hand:\n",
      "When the world affection changes are\n",
      "Step 2600, train loss:0.1477, test loss:4.1943\n"
     ]
    },
    {
     "name": "stderr",
     "output_type": "stream",
     "text": [
      " 26%|██▌       | 2611/10000 [14:20<1:00:44,  2.03it/s]"
     ]
    },
    {
     "name": "stdout",
     "output_type": "stream",
     "text": [
      "Step 2610, train loss:0.1460, test loss:4.2454\n"
     ]
    },
    {
     "name": "stderr",
     "output_type": "stream",
     "text": [
      " 26%|██▌       | 2621/10000 [14:22<52:03,  2.36it/s]"
     ]
    },
    {
     "name": "stdout",
     "output_type": "stream",
     "text": [
      "Step 2620, train loss:0.1480, test loss:4.2675\n"
     ]
    },
    {
     "name": "stderr",
     "output_type": "stream",
     "text": [
      " 26%|██▋       | 2631/10000 [14:25<53:48,  2.28it/s]"
     ]
    },
    {
     "name": "stdout",
     "output_type": "stream",
     "text": [
      "Step 2630, train loss:0.1473, test loss:4.1050\n"
     ]
    },
    {
     "name": "stderr",
     "output_type": "stream",
     "text": [
      " 26%|██▋       | 2641/10000 [14:27<53:20,  2.30it/s]"
     ]
    },
    {
     "name": "stdout",
     "output_type": "stream",
     "text": [
      "Step 2640, train loss:0.1457, test loss:4.2099\n"
     ]
    },
    {
     "name": "stderr",
     "output_type": "stream",
     "text": [
      " 27%|██▋       | 2651/10000 [14:30<53:34,  2.29it/s]"
     ]
    },
    {
     "name": "stdout",
     "output_type": "stream",
     "text": [
      "Step 2650, train loss:0.1447, test loss:4.2288\n"
     ]
    },
    {
     "name": "stderr",
     "output_type": "stream",
     "text": [
      " 27%|██▋       | 2661/10000 [14:32<51:41,  2.37it/s]"
     ]
    },
    {
     "name": "stdout",
     "output_type": "stream",
     "text": [
      "Step 2660, train loss:0.1459, test loss:4.2339\n"
     ]
    },
    {
     "name": "stderr",
     "output_type": "stream",
     "text": [
      " 27%|██▋       | 2671/10000 [14:34<51:37,  2.37it/s]"
     ]
    },
    {
     "name": "stdout",
     "output_type": "stream",
     "text": [
      "Step 2670, train loss:0.1443, test loss:4.2215\n"
     ]
    },
    {
     "name": "stderr",
     "output_type": "stream",
     "text": [
      " 27%|██▋       | 2681/10000 [14:37<51:31,  2.37it/s]"
     ]
    },
    {
     "name": "stdout",
     "output_type": "stream",
     "text": [
      "Step 2680, train loss:0.1444, test loss:4.2451\n"
     ]
    },
    {
     "name": "stderr",
     "output_type": "stream",
     "text": [
      " 27%|██▋       | 2691/10000 [14:39<51:32,  2.36it/s]"
     ]
    },
    {
     "name": "stdout",
     "output_type": "stream",
     "text": [
      "Step 2690, train loss:0.1452, test loss:4.2665\n"
     ]
    },
    {
     "name": "stderr",
     "output_type": "stream",
     "text": [
      " 27%|██▋       | 2700/10000 [14:40<19:34,  6.22it/s]"
     ]
    },
    {
     "name": "stdout",
     "output_type": "stream",
     "text": [
      "Step 2700, train loss:0.1460, test loss:4.2383\n"
     ]
    },
    {
     "name": "stderr",
     "output_type": "stream",
     "text": [
      " 27%|██▋       | 2701/10000 [14:50<6:13:28,  3.07s/it]"
     ]
    },
    {
     "name": "stdout",
     "output_type": "stream",
     "text": [
      "\n",
      "\n",
      "BRUTUS:\n",
      "With a pitch and there I can will speak?\n",
      "\n",
      "CORIOLANUS:\n",
      "I had rather have overheard me, as it were there,\n",
      "That seem like prudent helping upoughts, and their steads\n",
      "asleaping news; they did not forget old stand\n",
      "Till he came advocate to meet him, but the wars\n",
      "are not the rich, they must obey: therefore fall a kneel,\n",
      "if therefore thou hast, the fair profely soundness! say thou wilt.\n",
      "\n",
      "ISABELLA:\n",
      "I am come to know your pleasure.\n",
      "\n",
      "Third Servingman:\n",
      "A precious stormuging face, so bonditors!\n",
      "Then read thy part above Angelo; a man may bring\n",
      "A promise our scolding: but this deadly from such groans\n",
      "And hate him out a good to hung of bloody success,\n",
      "Gready to passage of that heaven still shake the sleep.\n",
      "\n",
      "Second Citizen:\n",
      "To thee will of end a groan John.\n",
      "Worthy Margaret, to be Prince Duke of Norfolk,\n",
      "And tell me where I should increase,\n",
      "We set the ground of it most like down,\n",
      "And be in ready time would go tell her my\n",
      "fortune's blood. If that thou first dies would were her daughter!\n",
      "\n",
      "CLARENCE:\n",
      "Step 2700, train loss:0.1389, test loss:4.2131\n"
     ]
    },
    {
     "name": "stderr",
     "output_type": "stream",
     "text": [
      " 27%|██▋       | 2711/10000 [14:52<1:00:15,  2.02it/s]"
     ]
    },
    {
     "name": "stdout",
     "output_type": "stream",
     "text": [
      "Step 2710, train loss:0.1438, test loss:4.2701\n"
     ]
    },
    {
     "name": "stderr",
     "output_type": "stream",
     "text": [
      " 27%|██▋       | 2721/10000 [14:55<51:45,  2.34it/s]"
     ]
    },
    {
     "name": "stdout",
     "output_type": "stream",
     "text": [
      "Step 2720, train loss:0.1413, test loss:4.1844\n"
     ]
    },
    {
     "name": "stderr",
     "output_type": "stream",
     "text": [
      " 27%|██▋       | 2731/10000 [14:57<52:04,  2.33it/s]"
     ]
    },
    {
     "name": "stdout",
     "output_type": "stream",
     "text": [
      "Step 2730, train loss:0.1434, test loss:4.2230\n"
     ]
    },
    {
     "name": "stderr",
     "output_type": "stream",
     "text": [
      " 27%|██▋       | 2741/10000 [15:00<52:42,  2.30it/s]"
     ]
    },
    {
     "name": "stdout",
     "output_type": "stream",
     "text": [
      "Step 2740, train loss:0.1428, test loss:4.2947\n"
     ]
    },
    {
     "name": "stderr",
     "output_type": "stream",
     "text": [
      " 28%|██▊       | 2751/10000 [15:02<52:52,  2.29it/s]"
     ]
    },
    {
     "name": "stdout",
     "output_type": "stream",
     "text": [
      "Step 2750, train loss:0.1421, test loss:4.2807\n"
     ]
    },
    {
     "name": "stderr",
     "output_type": "stream",
     "text": [
      " 28%|██▊       | 2761/10000 [15:04<51:08,  2.36it/s]"
     ]
    },
    {
     "name": "stdout",
     "output_type": "stream",
     "text": [
      "Step 2760, train loss:0.1397, test loss:4.3094\n"
     ]
    },
    {
     "name": "stderr",
     "output_type": "stream",
     "text": [
      " 28%|██▊       | 2771/10000 [15:07<51:00,  2.36it/s]"
     ]
    },
    {
     "name": "stdout",
     "output_type": "stream",
     "text": [
      "Step 2770, train loss:0.1385, test loss:4.1920\n"
     ]
    },
    {
     "name": "stderr",
     "output_type": "stream",
     "text": [
      " 28%|██▊       | 2781/10000 [15:09<50:54,  2.36it/s]"
     ]
    },
    {
     "name": "stdout",
     "output_type": "stream",
     "text": [
      "Step 2780, train loss:0.1402, test loss:4.2882\n"
     ]
    },
    {
     "name": "stderr",
     "output_type": "stream",
     "text": [
      " 28%|██▊       | 2791/10000 [15:11<50:36,  2.37it/s]"
     ]
    },
    {
     "name": "stdout",
     "output_type": "stream",
     "text": [
      "Step 2790, train loss:0.1395, test loss:4.3279\n"
     ]
    },
    {
     "name": "stderr",
     "output_type": "stream",
     "text": [
      " 28%|██▊       | 2800/10000 [15:13<18:52,  6.36it/s]"
     ]
    },
    {
     "name": "stdout",
     "output_type": "stream",
     "text": [
      "Step 2800, train loss:0.1399, test loss:4.2576\n"
     ]
    },
    {
     "name": "stderr",
     "output_type": "stream",
     "text": [
      " 28%|██▊       | 2801/10000 [15:23<6:17:56,  3.15s/it]"
     ]
    },
    {
     "name": "stdout",
     "output_type": "stream",
     "text": [
      "\n",
      "\n",
      "LEONTES:\n",
      "As well as he were as great as the sullen grnefs\n",
      "That looks should put up in fire use\n",
      "That ever discoursed her beauty makes\n",
      "This valour as offer vices. So, for this\n",
      "Mine you as he do expected. As she longs\n",
      "To make the rhead mean to bed, and while\n",
      "Those gracious pride and fair according voice.\n",
      "This night I hold an old accustom'd feast\n",
      "The general subjects, and most obedient cheek,\n",
      "His very air, to come, in banishment\n",
      "On yon and come so loud. All this allow,\n",
      "That I may not amiss; yet I cannot choose\n",
      "O'er named law so famed for a long;\n",
      "My wife, is the lark of money of men.\n",
      "\n",
      "ROMEO:\n",
      "Why, I can tell you,--\n",
      "\n",
      "MERCUTIO:\n",
      "The ship that there that loves him in age\n",
      "More than that he hath Romeo slaughter'd thine own\n",
      "sufficiences: worthy his wit, the tears so off\n",
      "The husband and the father then be proud,\n",
      "And by an o'er-bellant Helming the causes\n",
      "Of all the models which I encounter darkness.\n",
      "\n",
      "LEONTES:\n",
      "That's as much on him as you say; 'tis not me\n",
      "For one, though we have spoken down to make hi\n",
      "Step 2800, train loss:0.1427, test loss:4.3183\n"
     ]
    },
    {
     "name": "stderr",
     "output_type": "stream",
     "text": [
      " 28%|██▊       | 2811/10000 [15:25<1:00:00,  2.00it/s]"
     ]
    },
    {
     "name": "stdout",
     "output_type": "stream",
     "text": [
      "Step 2810, train loss:0.1383, test loss:4.2461\n"
     ]
    },
    {
     "name": "stderr",
     "output_type": "stream",
     "text": [
      " 28%|██▊       | 2821/10000 [15:28<50:39,  2.36it/s]"
     ]
    },
    {
     "name": "stdout",
     "output_type": "stream",
     "text": [
      "Step 2820, train loss:0.1375, test loss:4.3370\n"
     ]
    },
    {
     "name": "stderr",
     "output_type": "stream",
     "text": [
      " 28%|██▊       | 2831/10000 [15:30<51:18,  2.33it/s]"
     ]
    },
    {
     "name": "stdout",
     "output_type": "stream",
     "text": [
      "Step 2830, train loss:0.1394, test loss:4.2935\n"
     ]
    },
    {
     "name": "stderr",
     "output_type": "stream",
     "text": [
      " 28%|██▊       | 2841/10000 [15:33<52:47,  2.26it/s]"
     ]
    },
    {
     "name": "stdout",
     "output_type": "stream",
     "text": [
      "Step 2840, train loss:0.1386, test loss:4.2364\n"
     ]
    },
    {
     "name": "stderr",
     "output_type": "stream",
     "text": [
      " 29%|██▊       | 2851/10000 [15:35<52:22,  2.27it/s]"
     ]
    },
    {
     "name": "stdout",
     "output_type": "stream",
     "text": [
      "Step 2850, train loss:0.1373, test loss:4.3034\n"
     ]
    },
    {
     "name": "stderr",
     "output_type": "stream",
     "text": [
      " 29%|██▊       | 2861/10000 [15:37<50:50,  2.34it/s]"
     ]
    },
    {
     "name": "stdout",
     "output_type": "stream",
     "text": [
      "Step 2860, train loss:0.1385, test loss:4.3355\n"
     ]
    },
    {
     "name": "stderr",
     "output_type": "stream",
     "text": [
      " 29%|██▊       | 2871/10000 [15:40<50:31,  2.35it/s]"
     ]
    },
    {
     "name": "stdout",
     "output_type": "stream",
     "text": [
      "Step 2870, train loss:0.1385, test loss:4.3261\n"
     ]
    },
    {
     "name": "stderr",
     "output_type": "stream",
     "text": [
      " 29%|██▉       | 2881/10000 [15:42<50:08,  2.37it/s]"
     ]
    },
    {
     "name": "stdout",
     "output_type": "stream",
     "text": [
      "Step 2880, train loss:0.1368, test loss:4.2700\n"
     ]
    },
    {
     "name": "stderr",
     "output_type": "stream",
     "text": [
      " 29%|██▉       | 2891/10000 [15:44<49:55,  2.37it/s]"
     ]
    },
    {
     "name": "stdout",
     "output_type": "stream",
     "text": [
      "Step 2890, train loss:0.1385, test loss:4.3633\n"
     ]
    },
    {
     "name": "stderr",
     "output_type": "stream",
     "text": [
      " 29%|██▉       | 2900/10000 [15:46<18:26,  6.42it/s]"
     ]
    },
    {
     "name": "stdout",
     "output_type": "stream",
     "text": [
      "Step 2900, train loss:0.1341, test loss:4.2929\n"
     ]
    },
    {
     "name": "stderr",
     "output_type": "stream",
     "text": [
      " 29%|██▉       | 2901/10000 [15:56<6:17:12,  3.19s/it]"
     ]
    },
    {
     "name": "stdout",
     "output_type": "stream",
     "text": [
      "\n",
      "\n",
      "MENENIUS:\n",
      "He's right noble:\n",
      "Let him be call'd for.\n",
      "\n",
      "First Senator:\n",
      "Call Coriolanus.\n",
      "\n",
      "Officer:\n",
      "He doth appear.\n",
      "\n",
      "MENENIUS:\n",
      "The senate, Coriolanus, are come in love-pigood escape,\n",
      "with me by visiting.\n",
      "\n",
      "HENRY BOLINGBROKE:\n",
      "Yet ask.\n",
      "\n",
      "KING RICHARD II:\n",
      "Then curtain, then, to be the clouds commandment.\n",
      "Thou comest on, but to make the rabble\n",
      "Call our cares still and death out promise\n",
      "To such a felling time of royal deer.\n",
      "\n",
      "DUCHESS OF YORK:\n",
      "Should I do so, I see thee as mine own.\n",
      "\n",
      "GREY:\n",
      "I thought, as it wert, and void of strange together.\n",
      "Many a time when this standing by the stock, my lord,\n",
      "'Gainst the fortune and thy faults, and then starts,\n",
      "Though remedies and weeps for every plebeians' hands\n",
      "That swords can censure the counterfeit enoight,\n",
      "Resign thy confiscation, adultery,\n",
      "Stay with her and old ends stout lasting war.\n",
      "Here comes his gracious pleasure and futly\n",
      "I of all things lights in vain, like mind,\n",
      "Lord, good night.\n",
      "\n",
      "POLIXENES:\n",
      "O, then:\n",
      "Good night, good faith, be but thy light,\n",
      "Such as I \n",
      "Step 2900, train loss:0.1361, test loss:4.2554\n"
     ]
    },
    {
     "name": "stderr",
     "output_type": "stream",
     "text": [
      " 29%|██▉       | 2911/10000 [15:58<58:56,  2.00it/s]"
     ]
    },
    {
     "name": "stdout",
     "output_type": "stream",
     "text": [
      "Step 2910, train loss:0.1317, test loss:4.3007\n"
     ]
    },
    {
     "name": "stderr",
     "output_type": "stream",
     "text": [
      " 29%|██▉       | 2921/10000 [16:01<50:04,  2.36it/s]"
     ]
    },
    {
     "name": "stdout",
     "output_type": "stream",
     "text": [
      "Step 2920, train loss:0.1355, test loss:4.3625\n"
     ]
    },
    {
     "name": "stderr",
     "output_type": "stream",
     "text": [
      " 29%|██▉       | 2931/10000 [16:03<49:45,  2.37it/s]"
     ]
    },
    {
     "name": "stdout",
     "output_type": "stream",
     "text": [
      "Step 2930, train loss:0.1332, test loss:4.3349\n"
     ]
    },
    {
     "name": "stderr",
     "output_type": "stream",
     "text": [
      " 29%|██▉       | 2941/10000 [16:05<51:29,  2.28it/s]"
     ]
    },
    {
     "name": "stdout",
     "output_type": "stream",
     "text": [
      "Step 2940, train loss:0.1345, test loss:4.2752\n"
     ]
    },
    {
     "name": "stderr",
     "output_type": "stream",
     "text": [
      " 30%|██▉       | 2951/10000 [16:08<52:21,  2.24it/s]"
     ]
    },
    {
     "name": "stdout",
     "output_type": "stream",
     "text": [
      "Step 2950, train loss:0.1341, test loss:4.3551\n"
     ]
    },
    {
     "name": "stderr",
     "output_type": "stream",
     "text": [
      " 30%|██▉       | 2961/10000 [16:10<50:31,  2.32it/s]"
     ]
    },
    {
     "name": "stdout",
     "output_type": "stream",
     "text": [
      "Step 2960, train loss:0.1328, test loss:4.3785\n"
     ]
    },
    {
     "name": "stderr",
     "output_type": "stream",
     "text": [
      " 30%|██▉       | 2971/10000 [16:13<49:40,  2.36it/s]"
     ]
    },
    {
     "name": "stdout",
     "output_type": "stream",
     "text": [
      "Step 2970, train loss:0.1327, test loss:4.3578\n"
     ]
    },
    {
     "name": "stderr",
     "output_type": "stream",
     "text": [
      " 30%|██▉       | 2981/10000 [16:15<49:22,  2.37it/s]"
     ]
    },
    {
     "name": "stdout",
     "output_type": "stream",
     "text": [
      "Step 2980, train loss:0.1334, test loss:4.3580\n"
     ]
    },
    {
     "name": "stderr",
     "output_type": "stream",
     "text": [
      " 30%|██▉       | 2991/10000 [16:17<49:21,  2.37it/s]"
     ]
    },
    {
     "name": "stdout",
     "output_type": "stream",
     "text": [
      "Step 2990, train loss:0.1334, test loss:4.3003\n"
     ]
    },
    {
     "name": "stderr",
     "output_type": "stream",
     "text": [
      " 30%|███       | 3000/10000 [16:19<18:14,  6.39it/s]"
     ]
    },
    {
     "name": "stdout",
     "output_type": "stream",
     "text": [
      "Step 3000, train loss:0.1328, test loss:4.3595\n"
     ]
    },
    {
     "name": "stderr",
     "output_type": "stream",
     "text": [
      " 30%|███       | 3001/10000 [16:29<6:13:32,  3.20s/it]"
     ]
    },
    {
     "name": "stdout",
     "output_type": "stream",
     "text": [
      "\n",
      "\n",
      "KING RICHARD III:\n",
      "As I intend to prosper and repent,\n",
      "So thrive I in my dangerous attempt\n",
      "So did young at once; to see't array\n",
      "To thee I keep: and though the name of bond\n",
      "That long she should be for the faults.\n",
      "\n",
      "PETRUCHIO:\n",
      "Now shall I be better, here before thy\n",
      "way hath he spent to the hope of good success, and how\n",
      "appearing the herd to heaven, in my love!\n",
      "\n",
      "She's a hoarder\n",
      "As that vases on this, portinate what\n",
      "We are in blood to take possessed himself,\n",
      "Or bitter contempt them to to further.\n",
      "\n",
      "First Watchman:\n",
      "Here is a friar, and there they sent\n",
      "to the truth. So with thy task, the fairer than to\n",
      "come by their wives, they will undertake them\n",
      "For first he hath eaten themselves to dust a villain,\n",
      "Where it is not worth than every gold\n",
      "That law call'd in safety moieties.\n",
      "\n",
      "mICHover:\n",
      "What, wilt thou be made? why, now\n",
      "Thou shalt rest,\n",
      "Sir will I make, when I bid my sense dersel.\n",
      "\n",
      "HENRY BOLINGBROKE:\n",
      "Then be it so; and go we to defend thee\n",
      "From the dust that tith thee.\n",
      "\n",
      "MARIANA:\n",
      "Now, good my lords,\n",
      "Step 3000, train loss:0.1363, test loss:4.3281\n"
     ]
    },
    {
     "name": "stderr",
     "output_type": "stream",
     "text": [
      " 30%|███       | 3011/10000 [16:31<58:12,  2.00it/s]"
     ]
    },
    {
     "name": "stdout",
     "output_type": "stream",
     "text": [
      "Step 3010, train loss:0.1331, test loss:4.2929\n"
     ]
    },
    {
     "name": "stderr",
     "output_type": "stream",
     "text": [
      " 30%|███       | 3021/10000 [16:34<49:25,  2.35it/s]"
     ]
    },
    {
     "name": "stdout",
     "output_type": "stream",
     "text": [
      "Step 3020, train loss:0.1321, test loss:4.3913\n"
     ]
    },
    {
     "name": "stderr",
     "output_type": "stream",
     "text": [
      " 30%|███       | 3031/10000 [16:36<49:12,  2.36it/s]"
     ]
    },
    {
     "name": "stdout",
     "output_type": "stream",
     "text": [
      "Step 3030, train loss:0.1321, test loss:4.3324\n"
     ]
    },
    {
     "name": "stderr",
     "output_type": "stream",
     "text": [
      " 30%|███       | 3041/10000 [16:39<50:41,  2.29it/s]"
     ]
    },
    {
     "name": "stdout",
     "output_type": "stream",
     "text": [
      "Step 3040, train loss:0.1333, test loss:4.4349\n"
     ]
    },
    {
     "name": "stderr",
     "output_type": "stream",
     "text": [
      " 31%|███       | 3051/10000 [16:41<50:30,  2.29it/s]"
     ]
    },
    {
     "name": "stdout",
     "output_type": "stream",
     "text": [
      "Step 3050, train loss:0.1295, test loss:4.3590\n"
     ]
    },
    {
     "name": "stderr",
     "output_type": "stream",
     "text": [
      " 31%|███       | 3061/10000 [16:43<50:17,  2.30it/s]"
     ]
    },
    {
     "name": "stdout",
     "output_type": "stream",
     "text": [
      "Step 3060, train loss:0.1320, test loss:4.3914\n"
     ]
    },
    {
     "name": "stderr",
     "output_type": "stream",
     "text": [
      " 31%|███       | 3071/10000 [16:46<48:39,  2.37it/s]"
     ]
    },
    {
     "name": "stdout",
     "output_type": "stream",
     "text": [
      "Step 3070, train loss:0.1327, test loss:4.4344\n"
     ]
    },
    {
     "name": "stderr",
     "output_type": "stream",
     "text": [
      " 31%|███       | 3081/10000 [16:48<48:42,  2.37it/s]"
     ]
    },
    {
     "name": "stdout",
     "output_type": "stream",
     "text": [
      "Step 3080, train loss:0.1292, test loss:4.3732\n"
     ]
    },
    {
     "name": "stderr",
     "output_type": "stream",
     "text": [
      " 31%|███       | 3091/10000 [16:50<48:54,  2.35it/s]"
     ]
    },
    {
     "name": "stdout",
     "output_type": "stream",
     "text": [
      "Step 3090, train loss:0.1283, test loss:4.4140\n"
     ]
    },
    {
     "name": "stderr",
     "output_type": "stream",
     "text": [
      " 31%|███       | 3100/10000 [16:52<18:01,  6.38it/s]"
     ]
    },
    {
     "name": "stdout",
     "output_type": "stream",
     "text": [
      "Step 3100, train loss:0.1281, test loss:4.4484\n"
     ]
    },
    {
     "name": "stderr",
     "output_type": "stream",
     "text": [
      " 31%|███       | 3101/10000 [17:02<6:13:59,  3.25s/it]"
     ]
    },
    {
     "name": "stdout",
     "output_type": "stream",
     "text": [
      "\n",
      "\n",
      "ROMEO:\n",
      "Ay, thou wrong'st thy lips expose me thee march:\n",
      "My name, dear soul, have and the moon\n",
      "Upon thy shepherd, where thee here.\n",
      "\n",
      "CLARENCE:\n",
      "I men sigh.\n",
      "\n",
      "LADY ANNE:\n",
      "Why, then they are not dead:\n",
      "But, do you note my weapons. 'tis no strick to my death,\n",
      "But conduct his truth to my want of wit.\n",
      "\n",
      "HENRY BOLINGBROKE:\n",
      "Go, some of you confine, that you do protest;\n",
      "Your honour and your conclusion, and yours,\n",
      "Which you know ever say addition now:\n",
      "I never did your success of pardon,\n",
      "The noble this keed, pronce, Hath your fair princess,\n",
      "Great Apollo well proved by your patience,\n",
      "That you have suppler them that you have to this\n",
      "I'll thtain my knows you would be honour'd him.\n",
      "\n",
      "VIRGILIA:\n",
      "A rupent fellow, give me leave to speak:\n",
      "I have forgot the things and not the extremed;\n",
      "Where is my lord and eath nothing but his confusion,\n",
      "How I will unfortune to my brother Gloucester,\n",
      "Who shall reward you better for my life\n",
      "Than Edward will for tidings of my death!\n",
      "\n",
      "SICINIUS:\n",
      "What do you think?\n",
      "\n",
      "BRUTUS:\n",
      "Why?\n",
      "\n",
      "SICI\n",
      "Step 3100, train loss:0.1279, test loss:4.3586\n"
     ]
    },
    {
     "name": "stderr",
     "output_type": "stream",
     "text": [
      " 31%|███       | 3111/10000 [17:05<57:37,  1.99it/s]"
     ]
    },
    {
     "name": "stdout",
     "output_type": "stream",
     "text": [
      "Step 3110, train loss:0.1323, test loss:4.4715\n"
     ]
    },
    {
     "name": "stderr",
     "output_type": "stream",
     "text": [
      " 31%|███       | 3121/10000 [17:07<48:43,  2.35it/s]"
     ]
    },
    {
     "name": "stdout",
     "output_type": "stream",
     "text": [
      "Step 3120, train loss:0.1281, test loss:4.4236\n"
     ]
    },
    {
     "name": "stderr",
     "output_type": "stream",
     "text": [
      " 31%|███▏      | 3131/10000 [17:09<48:26,  2.36it/s]"
     ]
    },
    {
     "name": "stdout",
     "output_type": "stream",
     "text": [
      "Step 3130, train loss:0.1323, test loss:4.4503\n"
     ]
    },
    {
     "name": "stderr",
     "output_type": "stream",
     "text": [
      " 31%|███▏      | 3141/10000 [17:12<49:56,  2.29it/s]"
     ]
    },
    {
     "name": "stdout",
     "output_type": "stream",
     "text": [
      "Step 3140, train loss:0.1286, test loss:4.3987\n"
     ]
    },
    {
     "name": "stderr",
     "output_type": "stream",
     "text": [
      " 32%|███▏      | 3151/10000 [17:14<49:28,  2.31it/s]"
     ]
    },
    {
     "name": "stdout",
     "output_type": "stream",
     "text": [
      "Step 3150, train loss:0.1260, test loss:4.4319\n"
     ]
    },
    {
     "name": "stderr",
     "output_type": "stream",
     "text": [
      " 32%|███▏      | 3161/10000 [17:17<49:26,  2.31it/s]"
     ]
    },
    {
     "name": "stdout",
     "output_type": "stream",
     "text": [
      "Step 3160, train loss:0.1264, test loss:4.3839\n"
     ]
    },
    {
     "name": "stderr",
     "output_type": "stream",
     "text": [
      " 32%|███▏      | 3171/10000 [17:19<48:20,  2.35it/s]"
     ]
    },
    {
     "name": "stdout",
     "output_type": "stream",
     "text": [
      "Step 3170, train loss:0.1274, test loss:4.4427\n"
     ]
    },
    {
     "name": "stderr",
     "output_type": "stream",
     "text": [
      " 32%|███▏      | 3181/10000 [17:21<48:04,  2.36it/s]"
     ]
    },
    {
     "name": "stdout",
     "output_type": "stream",
     "text": [
      "Step 3180, train loss:0.1280, test loss:4.4083\n"
     ]
    },
    {
     "name": "stderr",
     "output_type": "stream",
     "text": [
      " 32%|███▏      | 3191/10000 [17:24<48:10,  2.36it/s]"
     ]
    },
    {
     "name": "stdout",
     "output_type": "stream",
     "text": [
      "Step 3190, train loss:0.1292, test loss:4.3512\n"
     ]
    },
    {
     "name": "stderr",
     "output_type": "stream",
     "text": [
      " 32%|███▏      | 3200/10000 [17:25<17:48,  6.36it/s]"
     ]
    },
    {
     "name": "stdout",
     "output_type": "stream",
     "text": [
      "Step 3200, train loss:0.1279, test loss:4.4315\n"
     ]
    },
    {
     "name": "stderr",
     "output_type": "stream",
     "text": [
      " 32%|███▏      | 3201/10000 [17:35<6:07:50,  3.25s/it]"
     ]
    },
    {
     "name": "stdout",
     "output_type": "stream",
     "text": [
      "\n",
      "\n",
      "JULIET:\n",
      "Airy too, look you speak not that; move they kill.\n",
      "\n",
      "RICHARD:\n",
      "Then, good my lord, devot-morrow do unfold.\n",
      "\n",
      "QUEEN ELIZABETH:\n",
      "O thou well served, where is the truth of it.\n",
      "\n",
      "KING RICHARD III:\n",
      "Sleet, Clifford! for a hangman is his.\n",
      "\n",
      "KING RICHARD III:\n",
      "I wish now the air inivantage of a watch,\n",
      "Such friends as we did. And down to weep at very\n",
      "sins, I am a kind of fear! smelight in thy sword,\n",
      "Or with an iron trops, and woman in their shields\n",
      "From whose secret three hours, thregreen envy your his sons,\n",
      "From their own good and other maid of the all,\n",
      "Thinking thee in a worthy princess broke,\n",
      "And by the blood yield to our safety corps\n",
      "And hangs upon the earth alreads hidon had leaves\n",
      "As the edbal calling divine and how:\n",
      "And yet I live in heaven, he is death's crown,\n",
      "Which waste in the world by Bolingbroke,\n",
      "I say, and children he hath slain,\n",
      "Hark thou hadst so early waking for his death,\n",
      "Is it not thee thus with smooths, as in love\n",
      "Under daughter's Romeo will all blame your highness;\n",
      "For so \n",
      "Step 3200, train loss:0.1266, test loss:4.4521\n"
     ]
    },
    {
     "name": "stderr",
     "output_type": "stream",
     "text": [
      " 32%|███▏      | 3211/10000 [17:38<56:56,  1.99it/s]"
     ]
    },
    {
     "name": "stdout",
     "output_type": "stream",
     "text": [
      "Step 3210, train loss:0.1280, test loss:4.3552\n"
     ]
    },
    {
     "name": "stderr",
     "output_type": "stream",
     "text": [
      " 32%|███▏      | 3221/10000 [17:40<48:03,  2.35it/s]"
     ]
    },
    {
     "name": "stdout",
     "output_type": "stream",
     "text": [
      "Step 3220, train loss:0.1271, test loss:4.4535\n"
     ]
    },
    {
     "name": "stderr",
     "output_type": "stream",
     "text": [
      " 32%|███▏      | 3231/10000 [17:42<47:37,  2.37it/s]"
     ]
    },
    {
     "name": "stdout",
     "output_type": "stream",
     "text": [
      "Step 3230, train loss:0.1301, test loss:4.3739\n"
     ]
    },
    {
     "name": "stderr",
     "output_type": "stream",
     "text": [
      " 32%|███▏      | 3241/10000 [17:45<49:39,  2.27it/s]"
     ]
    },
    {
     "name": "stdout",
     "output_type": "stream",
     "text": [
      "Step 3240, train loss:0.1260, test loss:4.4156\n"
     ]
    },
    {
     "name": "stderr",
     "output_type": "stream",
     "text": [
      " 33%|███▎      | 3251/10000 [17:47<48:45,  2.31it/s]"
     ]
    },
    {
     "name": "stdout",
     "output_type": "stream",
     "text": [
      "Step 3250, train loss:0.1256, test loss:4.4273\n"
     ]
    },
    {
     "name": "stderr",
     "output_type": "stream",
     "text": [
      " 33%|███▎      | 3261/10000 [17:50<48:45,  2.30it/s]"
     ]
    },
    {
     "name": "stdout",
     "output_type": "stream",
     "text": [
      "Step 3260, train loss:0.1304, test loss:4.4362\n"
     ]
    },
    {
     "name": "stderr",
     "output_type": "stream",
     "text": [
      " 33%|███▎      | 3271/10000 [17:52<47:29,  2.36it/s]"
     ]
    },
    {
     "name": "stdout",
     "output_type": "stream",
     "text": [
      "Step 3270, train loss:0.1319, test loss:4.4565\n"
     ]
    },
    {
     "name": "stderr",
     "output_type": "stream",
     "text": [
      " 33%|███▎      | 3281/10000 [17:54<47:04,  2.38it/s]"
     ]
    },
    {
     "name": "stdout",
     "output_type": "stream",
     "text": [
      "Step 3280, train loss:0.1293, test loss:4.4340\n"
     ]
    },
    {
     "name": "stderr",
     "output_type": "stream",
     "text": [
      " 33%|███▎      | 3291/10000 [17:57<47:18,  2.36it/s]"
     ]
    },
    {
     "name": "stdout",
     "output_type": "stream",
     "text": [
      "Step 3290, train loss:0.1289, test loss:4.4678\n"
     ]
    },
    {
     "name": "stderr",
     "output_type": "stream",
     "text": [
      " 33%|███▎      | 3300/10000 [17:58<17:25,  6.41it/s]"
     ]
    },
    {
     "name": "stdout",
     "output_type": "stream",
     "text": [
      "Step 3300, train loss:0.1271, test loss:4.4408\n"
     ]
    },
    {
     "name": "stderr",
     "output_type": "stream",
     "text": [
      " 33%|███▎      | 3301/10000 [18:08<5:59:22,  3.22s/it]"
     ]
    },
    {
     "name": "stdout",
     "output_type": "stream",
     "text": [
      "\n",
      "\n",
      "Shepherd:\n",
      "They call back yesterds, or that the oracle\n",
      "Gave hope thou wast it? Go, thou just, and not the worst,\n",
      "Being the air with us, and be gentle-sight;\n",
      "For so our passing case and wit lose\n",
      "The weeds which is all as true as it\n",
      "Is loal'd as bark'd till Edward's cause.\n",
      "\n",
      "KING RICHARD III:\n",
      "Up thy sorrow chance to speak, be ruled,\n",
      "On tsprain'd as 'twere as night in being that:\n",
      "She comes for these, and he had leature length\n",
      "As in all duty great that withal.\n",
      "\n",
      "DUKE VINCENTIO:\n",
      "Escalus.\n",
      "\n",
      "ESCALUS:\n",
      "My liege, I do them my consent not to the worst.\n",
      "\n",
      "DUKE OF YORK:\n",
      "Who with betwixt us to the hand, and with scruples and to lay\n",
      "A pleasant clmmomary on the duke's death?\n",
      "\n",
      "EDWARD:\n",
      "Now you not so blood, beseech you all\n",
      "The absent duke.\n",
      "\n",
      "GLOUCESTER:\n",
      "By so much is the contrary.\n",
      "\n",
      "BUCKINGHAM:\n",
      "Well, sir, well; know you better comes in this king.\n",
      "\n",
      "KING HENRY VI:\n",
      "The benefit that I may turn the keys of your brother\n",
      "A merrilent than a very 'itness cross\n",
      "To Sicilia and not vain fantasy.\n",
      "\n",
      "ELBOW:\n",
      "This wind, you are\n",
      "Step 3300, train loss:0.1268, test loss:4.4380\n"
     ]
    },
    {
     "name": "stderr",
     "output_type": "stream",
     "text": [
      " 33%|███▎      | 3311/10000 [18:11<55:59,  1.99it/s]"
     ]
    },
    {
     "name": "stdout",
     "output_type": "stream",
     "text": [
      "Step 3310, train loss:0.1269, test loss:4.3744\n"
     ]
    },
    {
     "name": "stderr",
     "output_type": "stream",
     "text": [
      " 33%|███▎      | 3321/10000 [18:13<47:18,  2.35it/s]"
     ]
    },
    {
     "name": "stdout",
     "output_type": "stream",
     "text": [
      "Step 3320, train loss:0.1246, test loss:4.4823\n"
     ]
    },
    {
     "name": "stderr",
     "output_type": "stream",
     "text": [
      " 33%|███▎      | 3331/10000 [18:16<46:54,  2.37it/s]"
     ]
    },
    {
     "name": "stdout",
     "output_type": "stream",
     "text": [
      "Step 3330, train loss:0.1278, test loss:4.4276\n"
     ]
    },
    {
     "name": "stderr",
     "output_type": "stream",
     "text": [
      " 33%|███▎      | 3341/10000 [18:18<47:42,  2.33it/s]"
     ]
    },
    {
     "name": "stdout",
     "output_type": "stream",
     "text": [
      "Step 3340, train loss:0.1225, test loss:4.5403\n"
     ]
    },
    {
     "name": "stderr",
     "output_type": "stream",
     "text": [
      " 34%|███▎      | 3351/10000 [18:20<48:14,  2.30it/s]"
     ]
    },
    {
     "name": "stdout",
     "output_type": "stream",
     "text": [
      "Step 3350, train loss:0.1263, test loss:4.4525\n"
     ]
    },
    {
     "name": "stderr",
     "output_type": "stream",
     "text": [
      " 34%|███▎      | 3361/10000 [18:23<48:18,  2.29it/s]"
     ]
    },
    {
     "name": "stdout",
     "output_type": "stream",
     "text": [
      "Step 3360, train loss:0.1279, test loss:4.5128\n"
     ]
    },
    {
     "name": "stderr",
     "output_type": "stream",
     "text": [
      " 34%|███▎      | 3371/10000 [18:25<46:51,  2.36it/s]"
     ]
    },
    {
     "name": "stdout",
     "output_type": "stream",
     "text": [
      "Step 3370, train loss:0.1276, test loss:4.4108\n"
     ]
    },
    {
     "name": "stderr",
     "output_type": "stream",
     "text": [
      " 34%|███▍      | 3381/10000 [18:27<46:54,  2.35it/s]"
     ]
    },
    {
     "name": "stdout",
     "output_type": "stream",
     "text": [
      "Step 3380, train loss:0.1228, test loss:4.4574\n"
     ]
    },
    {
     "name": "stderr",
     "output_type": "stream",
     "text": [
      " 34%|███▍      | 3391/10000 [18:30<46:22,  2.37it/s]"
     ]
    },
    {
     "name": "stdout",
     "output_type": "stream",
     "text": [
      "Step 3390, train loss:0.1254, test loss:4.4974\n"
     ]
    },
    {
     "name": "stderr",
     "output_type": "stream",
     "text": [
      " 34%|███▍      | 3400/10000 [18:31<17:20,  6.35it/s]"
     ]
    },
    {
     "name": "stdout",
     "output_type": "stream",
     "text": [
      "Step 3400, train loss:0.1231, test loss:4.4595\n"
     ]
    },
    {
     "name": "stderr",
     "output_type": "stream",
     "text": [
      " 34%|███▍      | 3401/10000 [18:42<5:56:14,  3.24s/it]"
     ]
    },
    {
     "name": "stdout",
     "output_type": "stream",
     "text": [
      "\n",
      "\n",
      "GLOUCESTER:\n",
      "Brother, this gentleman: the more answers loge.\n",
      "\n",
      "MARIANA:\n",
      "Now I can le for the world go back and fly to him.\n",
      "\n",
      "DUKE VINCENTIO:\n",
      "Have you no countermand for Claudio yet,\n",
      "But he must die to-morrow morning?\n",
      "\n",
      "DUKE VINCENTIO:\n",
      "The rest will bring you think, we are\n",
      "defy his very worthy cousin and the lists,\n",
      "A caitiff recreant to my cousin Hereford!\n",
      "Farewell, old Gaunt: thy sometimes brother's wife\n",
      "With her companion grief must end her life.\n",
      "\n",
      "JOHN OF GAUNT:\n",
      "Sister, farewell; I must to Coventry:\n",
      "As much good stay with thee as government.\n",
      "\n",
      "HENRY BOLINGBROKE:\n",
      "Thank me, gentle uncle. Stand all this good\n",
      "Wilt thou from thy name? thou dost not fear.\n",
      "\n",
      "FLORIZEL:\n",
      "Now, sir, now\n",
      "I thought it would for lusty distinct her.\n",
      "\n",
      "LADY ANNE:\n",
      "Where is the ear the Lord Biondell's waxe,\n",
      "And with the queen's face is set the man of thee:\n",
      "When thou wast born to be 't: but this intribunes\n",
      "Which 'tis a noble vineyal touch'd news;\n",
      "Or lambs done i' the flower'd friends,' quoth I;\n",
      "'This gentleman, that preventily \n",
      "Step 3400, train loss:0.1230, test loss:4.3940\n"
     ]
    },
    {
     "name": "stderr",
     "output_type": "stream",
     "text": [
      " 34%|███▍      | 3411/10000 [18:44<55:06,  1.99it/s]"
     ]
    },
    {
     "name": "stdout",
     "output_type": "stream",
     "text": [
      "Step 3410, train loss:0.1258, test loss:4.5355\n"
     ]
    },
    {
     "name": "stderr",
     "output_type": "stream",
     "text": [
      " 34%|███▍      | 3421/10000 [18:46<46:39,  2.35it/s]"
     ]
    },
    {
     "name": "stdout",
     "output_type": "stream",
     "text": [
      "Step 3420, train loss:0.1272, test loss:4.4616\n"
     ]
    },
    {
     "name": "stderr",
     "output_type": "stream",
     "text": [
      " 34%|███▍      | 3431/10000 [18:49<46:18,  2.36it/s]"
     ]
    },
    {
     "name": "stdout",
     "output_type": "stream",
     "text": [
      "Step 3430, train loss:0.1244, test loss:4.5439\n"
     ]
    },
    {
     "name": "stderr",
     "output_type": "stream",
     "text": [
      " 34%|███▍      | 3441/10000 [18:51<46:13,  2.36it/s]"
     ]
    },
    {
     "name": "stdout",
     "output_type": "stream",
     "text": [
      "Step 3440, train loss:0.1233, test loss:4.4942\n"
     ]
    },
    {
     "name": "stderr",
     "output_type": "stream",
     "text": [
      " 35%|███▍      | 3451/10000 [18:53<47:37,  2.29it/s]"
     ]
    },
    {
     "name": "stdout",
     "output_type": "stream",
     "text": [
      "Step 3450, train loss:0.1254, test loss:4.5270\n"
     ]
    },
    {
     "name": "stderr",
     "output_type": "stream",
     "text": [
      " 35%|███▍      | 3461/10000 [18:56<47:28,  2.30it/s]"
     ]
    },
    {
     "name": "stdout",
     "output_type": "stream",
     "text": [
      "Step 3460, train loss:0.1249, test loss:4.4375\n"
     ]
    },
    {
     "name": "stderr",
     "output_type": "stream",
     "text": [
      " 35%|███▍      | 3471/10000 [18:58<46:41,  2.33it/s]"
     ]
    },
    {
     "name": "stdout",
     "output_type": "stream",
     "text": [
      "Step 3470, train loss:0.1237, test loss:4.4882\n"
     ]
    },
    {
     "name": "stderr",
     "output_type": "stream",
     "text": [
      " 35%|███▍      | 3481/10000 [19:01<45:44,  2.38it/s]"
     ]
    },
    {
     "name": "stdout",
     "output_type": "stream",
     "text": [
      "Step 3480, train loss:0.1217, test loss:4.4302\n"
     ]
    },
    {
     "name": "stderr",
     "output_type": "stream",
     "text": [
      " 35%|███▍      | 3491/10000 [19:03<45:57,  2.36it/s]"
     ]
    },
    {
     "name": "stdout",
     "output_type": "stream",
     "text": [
      "Step 3490, train loss:0.1218, test loss:4.4764\n"
     ]
    },
    {
     "name": "stderr",
     "output_type": "stream",
     "text": [
      " 35%|███▌      | 3500/10000 [19:04<17:01,  6.36it/s]"
     ]
    },
    {
     "name": "stdout",
     "output_type": "stream",
     "text": [
      "Step 3500, train loss:0.1208, test loss:4.5978\n"
     ]
    },
    {
     "name": "stderr",
     "output_type": "stream",
     "text": [
      " 35%|███▌      | 3501/10000 [19:15<5:48:27,  3.22s/it]"
     ]
    },
    {
     "name": "stdout",
     "output_type": "stream",
     "text": [
      "\n",
      "\n",
      "KING EDWARD IV:\n",
      "Sweet widow, by my state I swear to thee\n",
      "I speak no more than what my soul intends;\n",
      "And that is, to enjoy thee for my love.\n",
      "\n",
      "LADY GREY:\n",
      "And that is more than I will yield unto:\n",
      "I know I am too mean to be your queen,\n",
      "And I will look to serve it it.\n",
      "\n",
      "KING EDWARD IV:\n",
      "Settinct, I gentle Dared power, now I trust a man\n",
      "That vow are lip at very eye, and my love's wife,\n",
      "Her fruit-tree to every right shall be riped,\n",
      "As he's bitterly to be rank'd with other hish.\n",
      "\n",
      "PRINCE EDWARD:\n",
      "I thank you, good madam; indeed, I have known to do.\n",
      "Your brother is too late, I fear me, not: but if he been\n",
      "His tyranny and clang-hiofed we all joy and his last,\n",
      "When he had contended to his body be gone,\n",
      "That he will not be won and dangerous\n",
      "By how much the estate is green and yet ungovern'd:\n",
      "When keep he were sentenced their hearts before the way\n",
      "To Juliet's gand and hope.\n",
      "\n",
      "PRINCE EDWARD:\n",
      "I do remember well I wonder how\n",
      "Let me deep to be consul our counsel:\n",
      "Let me excuse my country's forth and her sce\n",
      "Step 3500, train loss:0.1221, test loss:4.5290\n"
     ]
    },
    {
     "name": "stderr",
     "output_type": "stream",
     "text": [
      " 35%|███▌      | 3511/10000 [19:17<54:06,  2.00it/s]"
     ]
    },
    {
     "name": "stdout",
     "output_type": "stream",
     "text": [
      "Step 3510, train loss:0.1215, test loss:4.5186\n"
     ]
    },
    {
     "name": "stderr",
     "output_type": "stream",
     "text": [
      " 35%|███▌      | 3521/10000 [19:19<45:50,  2.36it/s]"
     ]
    },
    {
     "name": "stdout",
     "output_type": "stream",
     "text": [
      "Step 3520, train loss:0.1221, test loss:4.5676\n"
     ]
    },
    {
     "name": "stderr",
     "output_type": "stream",
     "text": [
      " 35%|███▌      | 3531/10000 [19:22<45:31,  2.37it/s]"
     ]
    },
    {
     "name": "stdout",
     "output_type": "stream",
     "text": [
      "Step 3530, train loss:0.1234, test loss:4.5545\n"
     ]
    },
    {
     "name": "stderr",
     "output_type": "stream",
     "text": [
      " 35%|███▌      | 3541/10000 [19:24<45:17,  2.38it/s]"
     ]
    },
    {
     "name": "stdout",
     "output_type": "stream",
     "text": [
      "Step 3540, train loss:0.1204, test loss:4.5731\n"
     ]
    },
    {
     "name": "stderr",
     "output_type": "stream",
     "text": [
      " 36%|███▌      | 3551/10000 [19:26<47:15,  2.27it/s]"
     ]
    },
    {
     "name": "stdout",
     "output_type": "stream",
     "text": [
      "Step 3550, train loss:0.1218, test loss:4.4617\n"
     ]
    },
    {
     "name": "stderr",
     "output_type": "stream",
     "text": [
      " 36%|███▌      | 3561/10000 [19:29<47:23,  2.26it/s]"
     ]
    },
    {
     "name": "stdout",
     "output_type": "stream",
     "text": [
      "Step 3560, train loss:0.1240, test loss:4.5324\n"
     ]
    },
    {
     "name": "stderr",
     "output_type": "stream",
     "text": [
      " 36%|███▌      | 3571/10000 [19:31<46:19,  2.31it/s]"
     ]
    },
    {
     "name": "stdout",
     "output_type": "stream",
     "text": [
      "Step 3570, train loss:0.1251, test loss:4.5081\n"
     ]
    },
    {
     "name": "stderr",
     "output_type": "stream",
     "text": [
      " 36%|███▌      | 3581/10000 [19:34<45:14,  2.36it/s]"
     ]
    },
    {
     "name": "stdout",
     "output_type": "stream",
     "text": [
      "Step 3580, train loss:0.1215, test loss:4.6082\n"
     ]
    },
    {
     "name": "stderr",
     "output_type": "stream",
     "text": [
      " 36%|███▌      | 3591/10000 [19:36<45:08,  2.37it/s]"
     ]
    },
    {
     "name": "stdout",
     "output_type": "stream",
     "text": [
      "Step 3590, train loss:0.1241, test loss:4.5233\n"
     ]
    },
    {
     "name": "stderr",
     "output_type": "stream",
     "text": [
      " 36%|███▌      | 3600/10000 [19:37<16:42,  6.39it/s]"
     ]
    },
    {
     "name": "stdout",
     "output_type": "stream",
     "text": [
      "Step 3600, train loss:0.1237, test loss:4.4866\n"
     ]
    },
    {
     "name": "stderr",
     "output_type": "stream",
     "text": [
      " 36%|███▌      | 3601/10000 [19:48<5:47:49,  3.26s/it]"
     ]
    },
    {
     "name": "stdout",
     "output_type": "stream",
     "text": [
      "\n",
      "\n",
      "Turn back,\n",
      "And all to noble in the Roman lies.\n",
      "\n",
      "YORK:\n",
      "Should at rushe of Aufidius a goodly charge?\n",
      "My conscience is a traitor to the crown?\n",
      "Have we no whole on me with a silfarence?\n",
      "\n",
      "DUKE VINCENTIO:\n",
      "award the suppliants for the death of Claudio.\n",
      "Go, sirrah, thus I cannot tell what is done.\n",
      "Where is the enemy married with my side,\n",
      "To see the life to come, I sleep out the king;\n",
      "And near thy offices with a heavy heart's extremest\n",
      "Advertising and so leisure to meet above her eyes,\n",
      "But dead, thy kingdom call thy jealousies absolute;\n",
      "That breathing sun, how steel thy head be clear-dissacre!\n",
      "I will appear the middle age duty dead,\n",
      "That it may live an ear all our hostes hath quite my head\n",
      "Should shame unto them on fee, and is not too late\n",
      "Ties beaster than in a lady's lap,\n",
      "And then reply interrest all shose dear;\n",
      "He cannot live with say Andrage I never\n",
      "came to have held on, return no more. You were not\n",
      "being a turnal counterpoise a full third pardon to\n",
      "care for a father; in him advise him love\n",
      "Step 3600, train loss:0.1203, test loss:4.5108\n"
     ]
    },
    {
     "name": "stderr",
     "output_type": "stream",
     "text": [
      " 36%|███▌      | 3611/10000 [19:50<53:30,  1.99it/s]"
     ]
    },
    {
     "name": "stdout",
     "output_type": "stream",
     "text": [
      "Step 3610, train loss:0.1251, test loss:4.4786\n"
     ]
    },
    {
     "name": "stderr",
     "output_type": "stream",
     "text": [
      " 36%|███▌      | 3621/10000 [19:53<45:03,  2.36it/s]"
     ]
    },
    {
     "name": "stdout",
     "output_type": "stream",
     "text": [
      "Step 3620, train loss:0.1224, test loss:4.4945\n"
     ]
    },
    {
     "name": "stderr",
     "output_type": "stream",
     "text": [
      " 36%|███▋      | 3631/10000 [19:55<44:34,  2.38it/s]"
     ]
    },
    {
     "name": "stdout",
     "output_type": "stream",
     "text": [
      "Step 3630, train loss:0.1215, test loss:4.5690\n"
     ]
    },
    {
     "name": "stderr",
     "output_type": "stream",
     "text": [
      " 36%|███▋      | 3641/10000 [19:57<44:43,  2.37it/s]"
     ]
    },
    {
     "name": "stdout",
     "output_type": "stream",
     "text": [
      "Step 3640, train loss:0.1209, test loss:4.5543\n"
     ]
    },
    {
     "name": "stderr",
     "output_type": "stream",
     "text": [
      " 37%|███▋      | 3651/10000 [20:00<46:43,  2.26it/s]"
     ]
    },
    {
     "name": "stdout",
     "output_type": "stream",
     "text": [
      "Step 3650, train loss:0.1223, test loss:4.5437\n"
     ]
    },
    {
     "name": "stderr",
     "output_type": "stream",
     "text": [
      " 37%|███▋      | 3661/10000 [20:02<46:30,  2.27it/s]"
     ]
    },
    {
     "name": "stdout",
     "output_type": "stream",
     "text": [
      "Step 3660, train loss:0.1210, test loss:4.5014\n"
     ]
    },
    {
     "name": "stderr",
     "output_type": "stream",
     "text": [
      " 37%|███▋      | 3671/10000 [20:05<46:05,  2.29it/s]"
     ]
    },
    {
     "name": "stdout",
     "output_type": "stream",
     "text": [
      "Step 3670, train loss:0.1225, test loss:4.5963\n"
     ]
    },
    {
     "name": "stderr",
     "output_type": "stream",
     "text": [
      " 37%|███▋      | 3681/10000 [20:07<44:47,  2.35it/s]"
     ]
    },
    {
     "name": "stdout",
     "output_type": "stream",
     "text": [
      "Step 3680, train loss:0.1195, test loss:4.5664\n"
     ]
    },
    {
     "name": "stderr",
     "output_type": "stream",
     "text": [
      " 37%|███▋      | 3691/10000 [20:09<44:21,  2.37it/s]"
     ]
    },
    {
     "name": "stdout",
     "output_type": "stream",
     "text": [
      "Step 3690, train loss:0.1209, test loss:4.4892\n"
     ]
    },
    {
     "name": "stderr",
     "output_type": "stream",
     "text": [
      " 37%|███▋      | 3700/10000 [20:11<16:35,  6.33it/s]"
     ]
    },
    {
     "name": "stdout",
     "output_type": "stream",
     "text": [
      "Step 3700, train loss:0.1217, test loss:4.5493\n"
     ]
    },
    {
     "name": "stderr",
     "output_type": "stream",
     "text": [
      " 37%|███▋      | 3701/10000 [20:21<5:41:09,  3.25s/it]"
     ]
    },
    {
     "name": "stdout",
     "output_type": "stream",
     "text": [
      "\n",
      "\n",
      "KING RICHARD III:\n",
      "The advancement of your children or your own\n",
      "Heartily and smmift our mistress ground.\n",
      "\n",
      "KING RICHARD II:\n",
      "So pronounced you thus, to know how the very heels\n",
      "With all the place to your sufferance is tender,\n",
      "To answer for the dead blows for the fathers' loss!\n",
      "\n",
      "ANGELO:\n",
      "Now fair or for my body, but even upon thy head;\n",
      "And yet, to woon so gross and custom 'gain.'\n",
      "Thus to our house: next our name remains\n",
      "To the people, doubt am assemblieh thee;\n",
      "Or in his head, the like open'tishment.\n",
      "I LORD HI will report it off.\n",
      "\n",
      "TYRREL:\n",
      "The chief for my time hear me the head;\n",
      "But if I speak to the purpose, in a set him\n",
      "Wear country's dear stone was some boot of me\n",
      "And meet the sea out of traitors here.\n",
      "Nay, if I turn mine eyes upon myself,\n",
      "I find myself a traitor with the rest;\n",
      "For I have given here my soul's considering where\n",
      "The glist not present, and yourself mustice:\n",
      "Return in person bear me.\n",
      "\n",
      "LEONTES:\n",
      "She is taketh no other: hang 't, say't and knock\n",
      "Pertake the sentence of one me! but \n",
      "Step 3700, train loss:0.1223, test loss:4.4975\n"
     ]
    },
    {
     "name": "stderr",
     "output_type": "stream",
     "text": [
      " 37%|███▋      | 3711/10000 [20:23<52:52,  1.98it/s]"
     ]
    },
    {
     "name": "stdout",
     "output_type": "stream",
     "text": [
      "Step 3710, train loss:0.1223, test loss:4.6378\n"
     ]
    },
    {
     "name": "stderr",
     "output_type": "stream",
     "text": [
      " 37%|███▋      | 3721/10000 [20:26<44:31,  2.35it/s]"
     ]
    },
    {
     "name": "stdout",
     "output_type": "stream",
     "text": [
      "Step 3720, train loss:0.1201, test loss:4.5371\n"
     ]
    },
    {
     "name": "stderr",
     "output_type": "stream",
     "text": [
      " 37%|███▋      | 3731/10000 [20:28<44:08,  2.37it/s]"
     ]
    },
    {
     "name": "stdout",
     "output_type": "stream",
     "text": [
      "Step 3730, train loss:0.1215, test loss:4.5498\n"
     ]
    },
    {
     "name": "stderr",
     "output_type": "stream",
     "text": [
      " 37%|███▋      | 3741/10000 [20:31<44:05,  2.37it/s]"
     ]
    },
    {
     "name": "stdout",
     "output_type": "stream",
     "text": [
      "Step 3740, train loss:0.1190, test loss:4.4917\n"
     ]
    },
    {
     "name": "stderr",
     "output_type": "stream",
     "text": [
      " 38%|███▊      | 3751/10000 [20:33<45:53,  2.27it/s]"
     ]
    },
    {
     "name": "stdout",
     "output_type": "stream",
     "text": [
      "Step 3750, train loss:0.1215, test loss:4.6084\n"
     ]
    },
    {
     "name": "stderr",
     "output_type": "stream",
     "text": [
      " 38%|███▊      | 3761/10000 [20:35<45:20,  2.29it/s]"
     ]
    },
    {
     "name": "stdout",
     "output_type": "stream",
     "text": [
      "Step 3760, train loss:0.1209, test loss:4.6200\n"
     ]
    },
    {
     "name": "stderr",
     "output_type": "stream",
     "text": [
      " 38%|███▊      | 3771/10000 [20:38<45:34,  2.28it/s]"
     ]
    },
    {
     "name": "stdout",
     "output_type": "stream",
     "text": [
      "Step 3770, train loss:0.1193, test loss:4.5036\n"
     ]
    },
    {
     "name": "stderr",
     "output_type": "stream",
     "text": [
      " 38%|███▊      | 3781/10000 [20:40<43:40,  2.37it/s]"
     ]
    },
    {
     "name": "stdout",
     "output_type": "stream",
     "text": [
      "Step 3780, train loss:0.1191, test loss:4.5897\n"
     ]
    },
    {
     "name": "stderr",
     "output_type": "stream",
     "text": [
      " 38%|███▊      | 3791/10000 [20:43<43:48,  2.36it/s]"
     ]
    },
    {
     "name": "stdout",
     "output_type": "stream",
     "text": [
      "Step 3790, train loss:0.1209, test loss:4.5807\n"
     ]
    },
    {
     "name": "stderr",
     "output_type": "stream",
     "text": [
      " 38%|███▊      | 3800/10000 [20:44<16:08,  6.40it/s]"
     ]
    },
    {
     "name": "stdout",
     "output_type": "stream",
     "text": [
      "Step 3800, train loss:0.1176, test loss:4.4880\n"
     ]
    },
    {
     "name": "stderr",
     "output_type": "stream",
     "text": [
      " 38%|███▊      | 3801/10000 [20:56<6:13:11,  3.61s/it]"
     ]
    },
    {
     "name": "stdout",
     "output_type": "stream",
     "text": [
      "\n",
      "\n",
      "Page:\n",
      "My lord?\n",
      "\n",
      "KING RICHARD III:\n",
      "Faithful my sir, now stand I indeed.\n",
      "O, he cannot stay the mast bow to bed;\n",
      "For we have hands your scene must away your heart;\n",
      "Do't not the king is content to do you seem\n",
      "He parents, which will she have suck our so,\n",
      "Let hell make high aught a guilt or shunn,\n",
      "The least of you tread on the way.\n",
      "\n",
      "First Servant:\n",
      "Away, the Lord provost!\n",
      "\n",
      "LADY CAPULET:\n",
      "Well, young by the common people in the swancheon,\n",
      "To be the bed of the cheap of sense;\n",
      "I am the most profit of them; yea, the first sellar.\n",
      "How now, my young prince!\n",
      "\n",
      "First Citizen:\n",
      "Let's do good not amis.\n",
      "\n",
      "MENENIUS:\n",
      "For 'tis a sore upon us,\n",
      "You cannot tent yourself.\n",
      "\n",
      "CORIOLANUS:\n",
      "You?\n",
      "\n",
      "MENENIUS:\n",
      "Is this the promise that you made your mother?\n",
      "\n",
      "COMINIUS:\n",
      "Know, I pray you,--\n",
      "\n",
      "CORIOLANUS:\n",
      "I know no fare but thought of such a great deal\n",
      "\n",
      "BUCKINGHAM:\n",
      "Then I say not, by your hath often head--\n",
      "So many men thus far in being men's hands\n",
      "That young men have given their subjects' loves.\n",
      "My haste for Angelo, this present \n",
      "Step 3800, train loss:0.1191, test loss:4.4877\n"
     ]
    },
    {
     "name": "stderr",
     "output_type": "stream",
     "text": [
      " 38%|███▊      | 3811/10000 [20:58<52:51,  1.95it/s]"
     ]
    },
    {
     "name": "stdout",
     "output_type": "stream",
     "text": [
      "Step 3810, train loss:0.1218, test loss:4.5568\n"
     ]
    },
    {
     "name": "stderr",
     "output_type": "stream",
     "text": [
      " 38%|███▊      | 3821/10000 [21:00<43:52,  2.35it/s]"
     ]
    },
    {
     "name": "stdout",
     "output_type": "stream",
     "text": [
      "Step 3820, train loss:0.1191, test loss:4.6255\n"
     ]
    },
    {
     "name": "stderr",
     "output_type": "stream",
     "text": [
      " 38%|███▊      | 3831/10000 [21:03<43:17,  2.37it/s]"
     ]
    },
    {
     "name": "stdout",
     "output_type": "stream",
     "text": [
      "Step 3830, train loss:0.1193, test loss:4.4948\n"
     ]
    },
    {
     "name": "stderr",
     "output_type": "stream",
     "text": [
      " 38%|███▊      | 3841/10000 [21:05<43:36,  2.35it/s]"
     ]
    },
    {
     "name": "stdout",
     "output_type": "stream",
     "text": [
      "Step 3840, train loss:0.1176, test loss:4.6436\n"
     ]
    },
    {
     "name": "stderr",
     "output_type": "stream",
     "text": [
      " 39%|███▊      | 3851/10000 [21:07<44:56,  2.28it/s]"
     ]
    },
    {
     "name": "stdout",
     "output_type": "stream",
     "text": [
      "Step 3850, train loss:0.1197, test loss:4.5221\n"
     ]
    },
    {
     "name": "stderr",
     "output_type": "stream",
     "text": [
      " 39%|███▊      | 3861/10000 [21:10<44:31,  2.30it/s]"
     ]
    },
    {
     "name": "stdout",
     "output_type": "stream",
     "text": [
      "Step 3860, train loss:0.1197, test loss:4.5951\n"
     ]
    },
    {
     "name": "stderr",
     "output_type": "stream",
     "text": [
      " 39%|███▊      | 3871/10000 [21:12<43:31,  2.35it/s]"
     ]
    },
    {
     "name": "stdout",
     "output_type": "stream",
     "text": [
      "Step 3870, train loss:0.1176, test loss:4.6538\n"
     ]
    },
    {
     "name": "stderr",
     "output_type": "stream",
     "text": [
      " 39%|███▉      | 3881/10000 [21:15<43:07,  2.36it/s]"
     ]
    },
    {
     "name": "stdout",
     "output_type": "stream",
     "text": [
      "Step 3880, train loss:0.1166, test loss:4.5530\n"
     ]
    },
    {
     "name": "stderr",
     "output_type": "stream",
     "text": [
      " 39%|███▉      | 3891/10000 [21:17<42:55,  2.37it/s]"
     ]
    },
    {
     "name": "stdout",
     "output_type": "stream",
     "text": [
      "Step 3890, train loss:0.1174, test loss:4.6002\n"
     ]
    },
    {
     "name": "stderr",
     "output_type": "stream",
     "text": [
      " 39%|███▉      | 3900/10000 [21:18<15:51,  6.41it/s]"
     ]
    },
    {
     "name": "stdout",
     "output_type": "stream",
     "text": [
      "Step 3900, train loss:0.1187, test loss:4.6052\n"
     ]
    },
    {
     "name": "stderr",
     "output_type": "stream",
     "text": [
      " 39%|███▉      | 3901/10000 [21:29<5:35:48,  3.30s/it]"
     ]
    },
    {
     "name": "stdout",
     "output_type": "stream",
     "text": [
      "\n",
      "\n",
      "AUTOLYCUS:\n",
      "No, good-faced sir; no, sweet sir.\n",
      "\n",
      "Clown:\n",
      "Then fare thee well: I must go buy spices for our\n",
      "sheep-shearing.\n",
      "\n",
      "AUTOLYCUS:\n",
      "Prosper you, sweet sir!\n",
      "Your purse is not hot enough to purchase your spice.\n",
      "I'll be with you at your sheep-shearing too: if I\n",
      "cannot bring him to the blood of Crietpy,\n",
      "We favour that word 'tis far fortune capt?\n",
      "\n",
      "Messenger:\n",
      "Such news, Petruchio, I say.\n",
      "\n",
      "GLOUCESTER:\n",
      "Sirrah, though my want there stands you weep.\n",
      "\n",
      "Lady:\n",
      "I cry you mercy; I mean the lord protector.\n",
      "\n",
      "KING RICHARD III:\n",
      "Ay, indeed, justice, which I did even so\n",
      "The general suit of your boy,\n",
      "And make your good queen gave adulterous,\n",
      "And our own claim an interest enduring,\n",
      "Make you in my tent thereof is pleased\n",
      "Tell so your followers faint.\n",
      "You promised knighthood to our forward son:\n",
      "Unsheathe your sword, and dub him presage,\n",
      "Till I charge thee prisoner to do it.\n",
      "\n",
      "Lieutenant, get you in the morning\n",
      "And do revolt it wrong: till the rest was dull delivere\n",
      "Oush'd where you shall become such a person.\n",
      "\n",
      "W\n",
      "Step 3900, train loss:0.1184, test loss:4.5928\n"
     ]
    },
    {
     "name": "stderr",
     "output_type": "stream",
     "text": [
      " 39%|███▉      | 3911/10000 [21:31<51:03,  1.99it/s]"
     ]
    },
    {
     "name": "stdout",
     "output_type": "stream",
     "text": [
      "Step 3910, train loss:0.1202, test loss:4.5010\n"
     ]
    },
    {
     "name": "stderr",
     "output_type": "stream",
     "text": [
      " 39%|███▉      | 3921/10000 [21:34<43:02,  2.35it/s]"
     ]
    },
    {
     "name": "stdout",
     "output_type": "stream",
     "text": [
      "Step 3920, train loss:0.1199, test loss:4.6057\n"
     ]
    },
    {
     "name": "stderr",
     "output_type": "stream",
     "text": [
      " 39%|███▉      | 3931/10000 [21:36<42:44,  2.37it/s]"
     ]
    },
    {
     "name": "stdout",
     "output_type": "stream",
     "text": [
      "Step 3930, train loss:0.1187, test loss:4.6181\n"
     ]
    },
    {
     "name": "stderr",
     "output_type": "stream",
     "text": [
      " 39%|███▉      | 3941/10000 [21:38<42:58,  2.35it/s]"
     ]
    },
    {
     "name": "stdout",
     "output_type": "stream",
     "text": [
      "Step 3940, train loss:0.1196, test loss:4.5694\n"
     ]
    },
    {
     "name": "stderr",
     "output_type": "stream",
     "text": [
      " 40%|███▉      | 3951/10000 [21:41<44:16,  2.28it/s]"
     ]
    },
    {
     "name": "stdout",
     "output_type": "stream",
     "text": [
      "Step 3950, train loss:0.1153, test loss:4.5852\n"
     ]
    },
    {
     "name": "stderr",
     "output_type": "stream",
     "text": [
      " 40%|███▉      | 3961/10000 [21:43<43:46,  2.30it/s]"
     ]
    },
    {
     "name": "stdout",
     "output_type": "stream",
     "text": [
      "Step 3960, train loss:0.1186, test loss:4.6350\n"
     ]
    },
    {
     "name": "stderr",
     "output_type": "stream",
     "text": [
      " 40%|███▉      | 3971/10000 [21:46<43:07,  2.33it/s]"
     ]
    },
    {
     "name": "stdout",
     "output_type": "stream",
     "text": [
      "Step 3970, train loss:0.1172, test loss:4.7293\n"
     ]
    },
    {
     "name": "stderr",
     "output_type": "stream",
     "text": [
      " 40%|███▉      | 3981/10000 [21:48<42:18,  2.37it/s]"
     ]
    },
    {
     "name": "stdout",
     "output_type": "stream",
     "text": [
      "Step 3980, train loss:0.1163, test loss:4.6517\n"
     ]
    },
    {
     "name": "stderr",
     "output_type": "stream",
     "text": [
      " 40%|███▉      | 3991/10000 [21:50<42:27,  2.36it/s]"
     ]
    },
    {
     "name": "stdout",
     "output_type": "stream",
     "text": [
      "Step 3990, train loss:0.1163, test loss:4.5937\n"
     ]
    },
    {
     "name": "stderr",
     "output_type": "stream",
     "text": [
      " 40%|████      | 4000/10000 [21:52<15:41,  6.38it/s]"
     ]
    },
    {
     "name": "stdout",
     "output_type": "stream",
     "text": [
      "Step 4000, train loss:0.1187, test loss:4.6256\n"
     ]
    },
    {
     "name": "stderr",
     "output_type": "stream",
     "text": [
      " 40%|████      | 4001/10000 [22:02<5:22:19,  3.22s/it]"
     ]
    },
    {
     "name": "stdout",
     "output_type": "stream",
     "text": [
      "\n",
      "\n",
      "SICINIUS:\n",
      "If it were so,--\n",
      "\n",
      "SICINIUS:\n",
      "What do ye talk?\n",
      "Have we not had not heir to his bed?\n",
      "\n",
      "MENENIUS:\n",
      "Beseech you.\n",
      "\n",
      "CORIOLANUS:\n",
      "Come, sir: I have been i' the man doth fit\n",
      "for you.\n",
      "\n",
      "CORIOLANUS:\n",
      "Well then, I pray, your price o' the city, I now may:\n",
      "not be a pedigred nobly of your sons, each in your own\n",
      "tongues to quenches, you were queen, you are come to pay my boar\n",
      "false Escalus thrust the fruit of us taking.\n",
      "\n",
      "VIRGILIA:\n",
      "O, this is soon and Jariana's sake, Aufidius;\n",
      "And now changed to hell and pride the graces\n",
      "Hold low to accept for Richmond.\n",
      "\n",
      "BRUTUS:\n",
      "He's a love-song, a strange forth hanging.\n",
      "\n",
      "MENENIUS:\n",
      "I would thou wert the marnant be sing.\n",
      "\n",
      "SICINIUS:\n",
      "Help, ye citizens\n",
      "Was not the pride of mine eyes; but that our king\n",
      "Can thint to make me at the hand that forced\n",
      "By that kingdom and cut off off.\n",
      "\n",
      "First Senator:\n",
      "Noble Montague with a pernicious probarden\n",
      "but necks one, such as can weak a whisper tiding\n",
      "on; she's fair before than a man's bosom.\n",
      "\n",
      "CLEOMENES:\n",
      "On, sir; what say the part?\n",
      "\n",
      "PE\n",
      "Step 4000, train loss:0.1190, test loss:4.6210\n"
     ]
    },
    {
     "name": "stderr",
     "output_type": "stream",
     "text": [
      " 40%|████      | 4011/10000 [22:04<50:05,  1.99it/s]"
     ]
    },
    {
     "name": "stdout",
     "output_type": "stream",
     "text": [
      "Step 4010, train loss:0.1203, test loss:4.5758\n"
     ]
    },
    {
     "name": "stderr",
     "output_type": "stream",
     "text": [
      " 40%|████      | 4021/10000 [22:07<42:29,  2.35it/s]"
     ]
    },
    {
     "name": "stdout",
     "output_type": "stream",
     "text": [
      "Step 4020, train loss:0.1171, test loss:4.5885\n"
     ]
    },
    {
     "name": "stderr",
     "output_type": "stream",
     "text": [
      " 40%|████      | 4031/10000 [22:09<41:50,  2.38it/s]"
     ]
    },
    {
     "name": "stdout",
     "output_type": "stream",
     "text": [
      "Step 4030, train loss:0.1170, test loss:4.7135\n"
     ]
    },
    {
     "name": "stderr",
     "output_type": "stream",
     "text": [
      " 40%|████      | 4041/10000 [22:11<41:51,  2.37it/s]"
     ]
    },
    {
     "name": "stdout",
     "output_type": "stream",
     "text": [
      "Step 4040, train loss:0.1165, test loss:4.6768\n"
     ]
    },
    {
     "name": "stderr",
     "output_type": "stream",
     "text": [
      " 41%|████      | 4051/10000 [22:14<43:01,  2.30it/s]"
     ]
    },
    {
     "name": "stdout",
     "output_type": "stream",
     "text": [
      "Step 4050, train loss:0.1161, test loss:4.6271\n"
     ]
    },
    {
     "name": "stderr",
     "output_type": "stream",
     "text": [
      " 41%|████      | 4061/10000 [22:16<43:38,  2.27it/s]"
     ]
    },
    {
     "name": "stdout",
     "output_type": "stream",
     "text": [
      "Step 4060, train loss:0.1159, test loss:4.6153\n"
     ]
    },
    {
     "name": "stderr",
     "output_type": "stream",
     "text": [
      " 41%|████      | 4071/10000 [22:19<42:30,  2.32it/s]"
     ]
    },
    {
     "name": "stdout",
     "output_type": "stream",
     "text": [
      "Step 4070, train loss:0.1169, test loss:4.6223\n"
     ]
    },
    {
     "name": "stderr",
     "output_type": "stream",
     "text": [
      " 41%|████      | 4081/10000 [22:21<41:41,  2.37it/s]"
     ]
    },
    {
     "name": "stdout",
     "output_type": "stream",
     "text": [
      "Step 4080, train loss:0.1172, test loss:4.6128\n"
     ]
    },
    {
     "name": "stderr",
     "output_type": "stream",
     "text": [
      " 41%|████      | 4091/10000 [22:23<41:55,  2.35it/s]"
     ]
    },
    {
     "name": "stdout",
     "output_type": "stream",
     "text": [
      "Step 4090, train loss:0.1174, test loss:4.6340\n"
     ]
    },
    {
     "name": "stderr",
     "output_type": "stream",
     "text": [
      " 41%|████      | 4100/10000 [22:25<15:27,  6.36it/s]"
     ]
    },
    {
     "name": "stdout",
     "output_type": "stream",
     "text": [
      "Step 4100, train loss:0.1173, test loss:4.6056\n"
     ]
    },
    {
     "name": "stderr",
     "output_type": "stream",
     "text": [
      " 41%|████      | 4101/10000 [22:35<5:20:24,  3.26s/it]"
     ]
    },
    {
     "name": "stdout",
     "output_type": "stream",
     "text": [
      "\n",
      "\n",
      "HENRY BOLINGBROKE:\n",
      "So far be mine, my most redoubted lord,\n",
      "As my true service shall deserve your love.\n",
      "\n",
      "KING RICHARD II:\n",
      "Welcome, leave and ten times my daughter too:\n",
      "The man I am come to be hanged, my fancy: if I receive thee, I can\n",
      "tell thee I see: I will give thee so much sweet to heard it;\n",
      "never seed to who thou a noteless that rain,\n",
      "And the model of office of care makes\n",
      "This rage expected, we'll make a creation;\n",
      "And not to reply the wanton pictures:\n",
      "For what he was coming but a fool in the names\n",
      "of the faults do him insinument.\n",
      "\n",
      "DUKE VINCENTIO:\n",
      "Come heart there was stay'd by like shorted smiles;\n",
      "And both are ready in their offices, at any.\n",
      "Then, tigers dragon, and begs have stinted and stay.\n",
      "\n",
      "DUKE VINCENTIO:\n",
      "What pleasure was he given to?\n",
      "\n",
      "ESCALUS:\n",
      "Rather rejoicing to seen hung, brothers: look upon my son:\n",
      "and let's well accompanied to look how oft to grow the\n",
      "right first of face and shall answer his wrinkle?\n",
      "Here she may longer all the rest, do not seem to dream\n",
      "Than in despite e\n",
      "Step 4100, train loss:0.1164, test loss:4.6109\n"
     ]
    },
    {
     "name": "stderr",
     "output_type": "stream",
     "text": [
      " 41%|████      | 4111/10000 [22:38<49:15,  1.99it/s]"
     ]
    },
    {
     "name": "stdout",
     "output_type": "stream",
     "text": [
      "Step 4110, train loss:0.1167, test loss:4.6630\n"
     ]
    },
    {
     "name": "stderr",
     "output_type": "stream",
     "text": [
      " 41%|████      | 4121/10000 [22:40<41:41,  2.35it/s]"
     ]
    },
    {
     "name": "stdout",
     "output_type": "stream",
     "text": [
      "Step 4120, train loss:0.1166, test loss:4.6562\n"
     ]
    },
    {
     "name": "stderr",
     "output_type": "stream",
     "text": [
      " 41%|████▏     | 4131/10000 [22:42<41:13,  2.37it/s]"
     ]
    },
    {
     "name": "stdout",
     "output_type": "stream",
     "text": [
      "Step 4130, train loss:0.1183, test loss:4.6081\n"
     ]
    },
    {
     "name": "stderr",
     "output_type": "stream",
     "text": [
      " 41%|████▏     | 4141/10000 [22:45<41:13,  2.37it/s]"
     ]
    },
    {
     "name": "stdout",
     "output_type": "stream",
     "text": [
      "Step 4140, train loss:0.1174, test loss:4.6568\n"
     ]
    },
    {
     "name": "stderr",
     "output_type": "stream",
     "text": [
      " 42%|████▏     | 4151/10000 [22:47<42:16,  2.31it/s]"
     ]
    },
    {
     "name": "stdout",
     "output_type": "stream",
     "text": [
      "Step 4150, train loss:0.1178, test loss:4.6737\n"
     ]
    },
    {
     "name": "stderr",
     "output_type": "stream",
     "text": [
      " 42%|████▏     | 4161/10000 [22:49<42:11,  2.31it/s]"
     ]
    },
    {
     "name": "stdout",
     "output_type": "stream",
     "text": [
      "Step 4160, train loss:0.1145, test loss:4.6805\n"
     ]
    },
    {
     "name": "stderr",
     "output_type": "stream",
     "text": [
      " 42%|████▏     | 4171/10000 [22:52<42:06,  2.31it/s]"
     ]
    },
    {
     "name": "stdout",
     "output_type": "stream",
     "text": [
      "Step 4170, train loss:0.1167, test loss:4.7674\n"
     ]
    },
    {
     "name": "stderr",
     "output_type": "stream",
     "text": [
      " 42%|████▏     | 4181/10000 [22:54<40:50,  2.37it/s]"
     ]
    },
    {
     "name": "stdout",
     "output_type": "stream",
     "text": [
      "Step 4180, train loss:0.1158, test loss:4.6121\n"
     ]
    },
    {
     "name": "stderr",
     "output_type": "stream",
     "text": [
      " 42%|████▏     | 4191/10000 [22:57<40:52,  2.37it/s]"
     ]
    },
    {
     "name": "stdout",
     "output_type": "stream",
     "text": [
      "Step 4190, train loss:0.1152, test loss:4.5651\n"
     ]
    },
    {
     "name": "stderr",
     "output_type": "stream",
     "text": [
      " 42%|████▏     | 4200/10000 [22:58<15:16,  6.33it/s]"
     ]
    },
    {
     "name": "stdout",
     "output_type": "stream",
     "text": [
      "Step 4200, train loss:0.1175, test loss:4.6686\n"
     ]
    },
    {
     "name": "stderr",
     "output_type": "stream",
     "text": [
      " 42%|████▏     | 4201/10000 [23:08<5:06:29,  3.17s/it]"
     ]
    },
    {
     "name": "stdout",
     "output_type": "stream",
     "text": [
      "\n",
      "\n",
      "Lord:\n",
      "Let me embrace myself.\n",
      "\n",
      "AUFIDIUS:\n",
      "Nor I.\n",
      "\n",
      "CAMILLO:\n",
      "\n",
      "AUFIDIUS:\n",
      "No more of you'll thicCation which had took yet is honour'd him.\n",
      "The ship hath anointed himself to go rove with grief.\n",
      "\n",
      "Shepherd:\n",
      "Let him, my son: he shall not need to grieve\n",
      "At knowing of thy choice.\n",
      "\n",
      "FLORIZEL:\n",
      "Come, come, let us to the war,\n",
      "Even then begin a wife: buy a word and how may\n",
      "yet then marry her.\n",
      "\n",
      "Clown:\n",
      "Alas, this thought!\n",
      "\n",
      "QUEEN ELIZABETH:\n",
      "Harp on it still shall I till heart-ster her.\n",
      "\n",
      "QUEEN ELIZABETH:\n",
      "That thou hast wronged in the time o'erpasses:\n",
      "There's not a man alive to my foe\n",
      "Murder thy revengeful heart cannot forgive,\n",
      "Lough my revenue shoes gone for for joy;\n",
      "For that I procures she may raise a speak.\n",
      "\n",
      "ANTIGONUS:\n",
      "If it be so,\n",
      "We need no grave to buy and shrink made\n",
      "For kissings to my note coath in awftyer's son:\n",
      "Which sounds are not made the scene sing of France?\n",
      "The last last talk of its hasty to meets,\n",
      "And wish by my wife and virtuous in all kinds.\n",
      "\n",
      "KING RICHARD II:\n",
      "Mine ear is open and my melting\n",
      "Step 4200, train loss:0.1152, test loss:4.6946\n"
     ]
    },
    {
     "name": "stderr",
     "output_type": "stream",
     "text": [
      " 42%|████▏     | 4211/10000 [23:10<48:09,  2.00it/s]"
     ]
    },
    {
     "name": "stdout",
     "output_type": "stream",
     "text": [
      "Step 4210, train loss:0.1161, test loss:4.6346\n"
     ]
    },
    {
     "name": "stderr",
     "output_type": "stream",
     "text": [
      " 42%|████▏     | 4221/10000 [23:13<40:47,  2.36it/s]"
     ]
    },
    {
     "name": "stdout",
     "output_type": "stream",
     "text": [
      "Step 4220, train loss:0.1153, test loss:4.6982\n"
     ]
    },
    {
     "name": "stderr",
     "output_type": "stream",
     "text": [
      " 42%|████▏     | 4231/10000 [23:15<40:40,  2.36it/s]"
     ]
    },
    {
     "name": "stdout",
     "output_type": "stream",
     "text": [
      "Step 4230, train loss:0.1199, test loss:4.6311\n"
     ]
    },
    {
     "name": "stderr",
     "output_type": "stream",
     "text": [
      " 42%|████▏     | 4241/10000 [23:18<40:19,  2.38it/s]"
     ]
    },
    {
     "name": "stdout",
     "output_type": "stream",
     "text": [
      "Step 4240, train loss:0.1146, test loss:4.6163\n"
     ]
    },
    {
     "name": "stderr",
     "output_type": "stream",
     "text": [
      " 43%|████▎     | 4251/10000 [23:20<41:34,  2.30it/s]"
     ]
    },
    {
     "name": "stdout",
     "output_type": "stream",
     "text": [
      "Step 4250, train loss:0.1173, test loss:4.6218\n"
     ]
    },
    {
     "name": "stderr",
     "output_type": "stream",
     "text": [
      " 43%|████▎     | 4261/10000 [23:22<41:40,  2.29it/s]"
     ]
    },
    {
     "name": "stdout",
     "output_type": "stream",
     "text": [
      "Step 4260, train loss:0.1174, test loss:4.6205\n"
     ]
    },
    {
     "name": "stderr",
     "output_type": "stream",
     "text": [
      " 43%|████▎     | 4271/10000 [23:25<41:39,  2.29it/s]"
     ]
    },
    {
     "name": "stdout",
     "output_type": "stream",
     "text": [
      "Step 4270, train loss:0.1148, test loss:4.6267\n"
     ]
    },
    {
     "name": "stderr",
     "output_type": "stream",
     "text": [
      " 43%|████▎     | 4281/10000 [23:27<40:22,  2.36it/s]"
     ]
    },
    {
     "name": "stdout",
     "output_type": "stream",
     "text": [
      "Step 4280, train loss:0.1189, test loss:4.6160\n"
     ]
    },
    {
     "name": "stderr",
     "output_type": "stream",
     "text": [
      " 43%|████▎     | 4291/10000 [23:30<40:22,  2.36it/s]"
     ]
    },
    {
     "name": "stdout",
     "output_type": "stream",
     "text": [
      "Step 4290, train loss:0.1166, test loss:4.6671\n"
     ]
    },
    {
     "name": "stderr",
     "output_type": "stream",
     "text": [
      " 43%|████▎     | 4300/10000 [23:31<14:55,  6.37it/s]"
     ]
    },
    {
     "name": "stdout",
     "output_type": "stream",
     "text": [
      "Step 4300, train loss:0.1153, test loss:4.7120\n"
     ]
    },
    {
     "name": "stderr",
     "output_type": "stream",
     "text": [
      " 43%|████▎     | 4301/10000 [23:41<4:56:31,  3.12s/it]"
     ]
    },
    {
     "name": "stdout",
     "output_type": "stream",
     "text": [
      "\n",
      "\n",
      "LINGHAM:\n",
      "But since you understand me: 'tis the rest march.\n",
      "\n",
      "YORK:\n",
      "I pray thee, gentle Clifford, I have disloved\n",
      "Ely in pure as mine honesty, it shall not quench.\n",
      "\n",
      "GREMIO:\n",
      "What! art thou leave?\n",
      "\n",
      "TRANIO:\n",
      "Name, sister!\n",
      "\n",
      "MERCUTIO:\n",
      "A say that Clarence\n",
      "Hath not a child of me and his youngest daughter.\n",
      "But, sirs, garden with the block of the whose growt,\n",
      "Being pentive, what wrong'd no more than what?\n",
      "If he terror had he slipts that she will come all this.\n",
      "\n",
      "HENRY BOLINGBROKE:\n",
      "Villain, I have known thee from the rich men only: with his\n",
      "clog at his pomper.\n",
      "\n",
      "HERMIONE:\n",
      "He shall not.\n",
      "\n",
      "GLOUCESTER:\n",
      "And shall be spend be heard in doubts for the place.\n",
      "Whigh will I knew not? Proceed: come away.\n",
      "\n",
      "CLARENCE:\n",
      "In God's name, what art thou?\n",
      "\n",
      "Second Murderer:\n",
      "A man, as you are.\n",
      "\n",
      "CLARENCE:\n",
      "But not, as I am, royal.\n",
      "\n",
      "Second Murderer:\n",
      "Nor you, as we are, loyal.\n",
      "\n",
      "CLARENCE:\n",
      "Thy voice is to break our couning breast:\n",
      "These words her name would smeat deeds doth hang upon.\n",
      "What mercy of this bloody brow,\n",
      "Hath set the w\n",
      "Step 4300, train loss:0.1171, test loss:4.7134\n"
     ]
    },
    {
     "name": "stderr",
     "output_type": "stream",
     "text": [
      " 43%|████▎     | 4311/10000 [23:43<48:07,  1.97it/s]"
     ]
    },
    {
     "name": "stdout",
     "output_type": "stream",
     "text": [
      "Step 4310, train loss:0.1160, test loss:4.6410\n"
     ]
    },
    {
     "name": "stderr",
     "output_type": "stream",
     "text": [
      " 43%|████▎     | 4321/10000 [23:46<40:16,  2.35it/s]"
     ]
    },
    {
     "name": "stdout",
     "output_type": "stream",
     "text": [
      "Step 4320, train loss:0.1138, test loss:4.7205\n"
     ]
    },
    {
     "name": "stderr",
     "output_type": "stream",
     "text": [
      " 43%|████▎     | 4331/10000 [23:48<40:04,  2.36it/s]"
     ]
    },
    {
     "name": "stdout",
     "output_type": "stream",
     "text": [
      "Step 4330, train loss:0.1116, test loss:4.6970\n"
     ]
    },
    {
     "name": "stderr",
     "output_type": "stream",
     "text": [
      " 43%|████▎     | 4341/10000 [23:50<39:47,  2.37it/s]"
     ]
    },
    {
     "name": "stdout",
     "output_type": "stream",
     "text": [
      "Step 4340, train loss:0.1150, test loss:4.7092\n"
     ]
    },
    {
     "name": "stderr",
     "output_type": "stream",
     "text": [
      " 44%|████▎     | 4351/10000 [23:53<39:55,  2.36it/s]"
     ]
    },
    {
     "name": "stdout",
     "output_type": "stream",
     "text": [
      "Step 4350, train loss:0.1166, test loss:4.5787\n"
     ]
    },
    {
     "name": "stderr",
     "output_type": "stream",
     "text": [
      " 44%|████▎     | 4361/10000 [23:55<41:12,  2.28it/s]"
     ]
    },
    {
     "name": "stdout",
     "output_type": "stream",
     "text": [
      "Step 4360, train loss:0.1158, test loss:4.7228\n"
     ]
    },
    {
     "name": "stderr",
     "output_type": "stream",
     "text": [
      " 44%|████▎     | 4371/10000 [23:58<40:51,  2.30it/s]"
     ]
    },
    {
     "name": "stdout",
     "output_type": "stream",
     "text": [
      "Step 4370, train loss:0.1158, test loss:4.6333\n"
     ]
    },
    {
     "name": "stderr",
     "output_type": "stream",
     "text": [
      " 44%|████▍     | 4381/10000 [24:00<40:21,  2.32it/s]"
     ]
    },
    {
     "name": "stdout",
     "output_type": "stream",
     "text": [
      "Step 4380, train loss:0.1141, test loss:4.7321\n"
     ]
    },
    {
     "name": "stderr",
     "output_type": "stream",
     "text": [
      " 44%|████▍     | 4391/10000 [24:02<39:32,  2.36it/s]"
     ]
    },
    {
     "name": "stdout",
     "output_type": "stream",
     "text": [
      "Step 4390, train loss:0.1160, test loss:4.6633\n"
     ]
    },
    {
     "name": "stderr",
     "output_type": "stream",
     "text": [
      " 44%|████▍     | 4400/10000 [24:04<14:30,  6.43it/s]"
     ]
    },
    {
     "name": "stdout",
     "output_type": "stream",
     "text": [
      "Step 4400, train loss:0.1175, test loss:4.6646\n"
     ]
    },
    {
     "name": "stderr",
     "output_type": "stream",
     "text": [
      " 44%|████▍     | 4401/10000 [24:14<4:45:34,  3.06s/it]"
     ]
    },
    {
     "name": "stdout",
     "output_type": "stream",
     "text": [
      "\n",
      "\n",
      "BUCKINGHAM:\n",
      "\n",
      "HASTINGS:\n",
      "Cannot thy master drew doth the entrail thee?\n",
      "\n",
      "RIVERS:\n",
      "No doubt, my lord.\n",
      "\n",
      "DUCHESS OF YORK:\n",
      "Thy life account a thing to engross,\n",
      "And flatter but they say, the stream o' the people;\n",
      "And this sudden change brazen trumpet spirits,\n",
      "That staggers all men cave and ff years upon themselfs\n",
      "With they the fardel, then the heavens of thine earth,\n",
      "And thou seest it perchance of the world;\n",
      "She lives to know our face, and after speak.\n",
      "\n",
      "MARIANA:\n",
      "Pardon, my lord; I will not show my face\n",
      "Until my husband bid me.\n",
      "\n",
      "DUKE VINCENTIO:\n",
      "What, are you married?\n",
      "\n",
      "MARIANA:\n",
      "No, my lord.\n",
      "\n",
      "DUKE VINCENTIO:\n",
      "Are you a son?\n",
      "\n",
      "MARIANA:\n",
      "ther.\n",
      "Are you all, good father to the court of my soul,\n",
      "If I did know my winding instantly base\n",
      "To subscript myself that we ladies.\n",
      "I pray, awake, supply the proverbet\n",
      "That I have had of them.\n",
      "\n",
      "CORIOLANUS:\n",
      "That's my soul die abundant with my head.\n",
      "\n",
      "JULIET:\n",
      "It is an heir to his will.\n",
      "\n",
      "CAMILLO:\n",
      "It is in mine authority to command\n",
      "The heavens have discover'd to the Antie f\n",
      "Step 4400, train loss:0.1170, test loss:4.6488\n"
     ]
    },
    {
     "name": "stderr",
     "output_type": "stream",
     "text": [
      " 44%|████▍     | 4411/10000 [24:16<47:20,  1.97it/s]"
     ]
    },
    {
     "name": "stdout",
     "output_type": "stream",
     "text": [
      "Step 4410, train loss:0.1155, test loss:4.6791\n"
     ]
    },
    {
     "name": "stderr",
     "output_type": "stream",
     "text": [
      " 44%|████▍     | 4421/10000 [24:18<39:23,  2.36it/s]"
     ]
    },
    {
     "name": "stdout",
     "output_type": "stream",
     "text": [
      "Step 4420, train loss:0.1152, test loss:4.7258\n"
     ]
    },
    {
     "name": "stderr",
     "output_type": "stream",
     "text": [
      " 44%|████▍     | 4431/10000 [24:21<38:58,  2.38it/s]"
     ]
    },
    {
     "name": "stdout",
     "output_type": "stream",
     "text": [
      "Step 4430, train loss:0.1161, test loss:4.6712\n"
     ]
    },
    {
     "name": "stderr",
     "output_type": "stream",
     "text": [
      " 44%|████▍     | 4441/10000 [24:23<39:08,  2.37it/s]"
     ]
    },
    {
     "name": "stdout",
     "output_type": "stream",
     "text": [
      "Step 4440, train loss:0.1160, test loss:4.6268\n"
     ]
    },
    {
     "name": "stderr",
     "output_type": "stream",
     "text": [
      " 45%|████▍     | 4451/10000 [24:25<39:09,  2.36it/s]"
     ]
    },
    {
     "name": "stdout",
     "output_type": "stream",
     "text": [
      "Step 4450, train loss:0.1133, test loss:4.6753\n"
     ]
    },
    {
     "name": "stderr",
     "output_type": "stream",
     "text": [
      " 45%|████▍     | 4461/10000 [24:28<40:19,  2.29it/s]"
     ]
    },
    {
     "name": "stdout",
     "output_type": "stream",
     "text": [
      "Step 4460, train loss:0.1159, test loss:4.7224\n"
     ]
    },
    {
     "name": "stderr",
     "output_type": "stream",
     "text": [
      " 45%|████▍     | 4471/10000 [24:30<40:16,  2.29it/s]"
     ]
    },
    {
     "name": "stdout",
     "output_type": "stream",
     "text": [
      "Step 4470, train loss:0.1155, test loss:4.6791\n"
     ]
    },
    {
     "name": "stderr",
     "output_type": "stream",
     "text": [
      " 45%|████▍     | 4481/10000 [24:33<40:37,  2.26it/s]"
     ]
    },
    {
     "name": "stdout",
     "output_type": "stream",
     "text": [
      "Step 4480, train loss:0.1124, test loss:4.6544\n"
     ]
    },
    {
     "name": "stderr",
     "output_type": "stream",
     "text": [
      " 45%|████▍     | 4491/10000 [24:35<38:48,  2.37it/s]"
     ]
    },
    {
     "name": "stdout",
     "output_type": "stream",
     "text": [
      "Step 4490, train loss:0.1151, test loss:4.6961\n"
     ]
    },
    {
     "name": "stderr",
     "output_type": "stream",
     "text": [
      " 45%|████▌     | 4500/10000 [24:36<14:24,  6.36it/s]"
     ]
    },
    {
     "name": "stdout",
     "output_type": "stream",
     "text": [
      "Step 4500, train loss:0.1121, test loss:4.6125\n"
     ]
    },
    {
     "name": "stderr",
     "output_type": "stream",
     "text": [
      " 45%|████▌     | 4501/10000 [24:46<4:31:43,  2.96s/it]"
     ]
    },
    {
     "name": "stdout",
     "output_type": "stream",
     "text": [
      "\n",
      "\n",
      "YORK:\n",
      "\n",
      "HERMIONE:\n",
      "No, by my life.\n",
      "Privy to my true grace the hour that\n",
      "Thou hast unhappy'd the humble sorrow.\n",
      "\n",
      "KING RICHARD III:\n",
      "No, by the hand which you profane,\n",
      "Never sound to save a baggage, not to curst Coventry.\n",
      "\n",
      "HU:MERCUTIO:\n",
      "What will I lwent die?\n",
      "\n",
      "LUCIO:\n",
      "But shall we hear these our commanding rurt, and not\n",
      "The word of swear when they be read.\n",
      "\n",
      "MENENIUS:\n",
      "I know you'll prove.\n",
      "\n",
      "HORTENSIO:\n",
      "Good morrow, fair such great as they are most of their\n",
      "burying stars: she died, she does for good,\n",
      "And he shall speak like Henry, and the rest,\n",
      "Since you will but green-shall poison all in peace\n",
      "Even with lightning strike the dullest nodk\n",
      "Of shadows shall reign these bloody brother\n",
      "Curious by the heat of piteous coals\n",
      "Where ever the vanies dismiss the water:\n",
      "But the king privilege mine arms,\n",
      "If Bound their souls restored again and bid amain.\n",
      "\n",
      "EXETER:\n",
      "Then have you cold benediction to the buye off?\n",
      "\n",
      "KING HENRY VI:\n",
      "Why then I chan! what say you to Ispress'd?\n",
      "\n",
      "WARWICK:\n",
      "Then so it should I not nupt my\n",
      "Step 4500, train loss:0.1129, test loss:4.6142\n"
     ]
    },
    {
     "name": "stderr",
     "output_type": "stream",
     "text": [
      " 45%|████▌     | 4511/10000 [24:48<47:03,  1.94it/s]"
     ]
    },
    {
     "name": "stdout",
     "output_type": "stream",
     "text": [
      "Step 4510, train loss:0.1142, test loss:4.6483\n"
     ]
    },
    {
     "name": "stderr",
     "output_type": "stream",
     "text": [
      " 45%|████▌     | 4521/10000 [24:51<39:39,  2.30it/s]"
     ]
    },
    {
     "name": "stdout",
     "output_type": "stream",
     "text": [
      "Step 4520, train loss:0.1139, test loss:4.6468\n"
     ]
    },
    {
     "name": "stderr",
     "output_type": "stream",
     "text": [
      " 45%|████▌     | 4531/10000 [24:53<38:27,  2.37it/s]"
     ]
    },
    {
     "name": "stdout",
     "output_type": "stream",
     "text": [
      "Step 4530, train loss:0.1130, test loss:4.6872\n"
     ]
    },
    {
     "name": "stderr",
     "output_type": "stream",
     "text": [
      " 45%|████▌     | 4541/10000 [24:55<38:39,  2.35it/s]"
     ]
    },
    {
     "name": "stdout",
     "output_type": "stream",
     "text": [
      "Step 4540, train loss:0.1125, test loss:4.6597\n"
     ]
    },
    {
     "name": "stderr",
     "output_type": "stream",
     "text": [
      " 46%|████▌     | 4551/10000 [24:58<38:35,  2.35it/s]"
     ]
    },
    {
     "name": "stdout",
     "output_type": "stream",
     "text": [
      "Step 4550, train loss:0.1120, test loss:4.6780\n"
     ]
    },
    {
     "name": "stderr",
     "output_type": "stream",
     "text": [
      " 46%|████▌     | 4561/10000 [25:00<38:29,  2.36it/s]"
     ]
    },
    {
     "name": "stdout",
     "output_type": "stream",
     "text": [
      "Step 4560, train loss:0.1095, test loss:4.6925\n"
     ]
    },
    {
     "name": "stderr",
     "output_type": "stream",
     "text": [
      " 46%|████▌     | 4571/10000 [25:03<39:56,  2.27it/s]"
     ]
    },
    {
     "name": "stdout",
     "output_type": "stream",
     "text": [
      "Step 4570, train loss:0.1135, test loss:4.7512\n"
     ]
    },
    {
     "name": "stderr",
     "output_type": "stream",
     "text": [
      " 46%|████▌     | 4581/10000 [25:05<39:24,  2.29it/s]"
     ]
    },
    {
     "name": "stdout",
     "output_type": "stream",
     "text": [
      "Step 4580, train loss:0.1118, test loss:4.7116\n"
     ]
    },
    {
     "name": "stderr",
     "output_type": "stream",
     "text": [
      " 46%|████▌     | 4591/10000 [25:07<38:45,  2.33it/s]"
     ]
    },
    {
     "name": "stdout",
     "output_type": "stream",
     "text": [
      "Step 4590, train loss:0.1115, test loss:4.7104\n"
     ]
    },
    {
     "name": "stderr",
     "output_type": "stream",
     "text": [
      " 46%|████▌     | 4600/10000 [25:09<14:05,  6.39it/s]"
     ]
    },
    {
     "name": "stdout",
     "output_type": "stream",
     "text": [
      "Step 4600, train loss:0.1167, test loss:4.7579\n"
     ]
    },
    {
     "name": "stderr",
     "output_type": "stream",
     "text": [
      " 46%|████▌     | 4601/10000 [25:18<4:17:56,  2.87s/it]"
     ]
    },
    {
     "name": "stdout",
     "output_type": "stream",
     "text": [
      "\n",
      "\n",
      "First Senator:\n",
      "Not God, for we returning to the market-place.\n",
      "\n",
      "BRUTUS:\n",
      "The people are incensed against him.\n",
      "\n",
      "SICINIUS:\n",
      "Stop,\n",
      "Or all will fall in broil.\n",
      "\n",
      "CORIOLANUS:\n",
      "Are these your herd?\n",
      "The earldom these sensibly hate thou\n",
      "To suffer what followers is the power in\n",
      "grief so put from the retal penitent as the\n",
      "like,\n",
      "in the bear doth chipt; therefore the poor curli\n",
      "Her fortunes attend us much more as live.\n",
      "\n",
      "ISABELLA:\n",
      "O, were it but heavier to my son,\n",
      "Be yield and such my state rights with a disson\n",
      "And stops his throat unto the butcheries:\n",
      "Not he's gone, how the king is secret and love!\n",
      "And carefully can I give forgot my part;\n",
      "Thus prisoner to the fowl of seat to draw.\n",
      "\n",
      "HENRY BOLINGBROKE:\n",
      "What shrill we think 'twere to give again,--\n",
      "Name on Hastings, he's conveye, advise you, chop\n",
      "how the young party with your there? at the maid, passing\n",
      "foot, such a person, whose veins shall ruin the walls upon the sun:\n",
      "if thief, being altogether with thy breason,\n",
      "The bitter come of reasons, who Iarth and l\n",
      "Step 4600, train loss:0.1141, test loss:4.6936\n"
     ]
    },
    {
     "name": "stderr",
     "output_type": "stream",
     "text": [
      " 46%|████▌     | 4611/10000 [25:20<46:32,  1.93it/s]"
     ]
    },
    {
     "name": "stdout",
     "output_type": "stream",
     "text": [
      "Step 4610, train loss:0.1133, test loss:4.7005\n"
     ]
    },
    {
     "name": "stderr",
     "output_type": "stream",
     "text": [
      " 46%|████▌     | 4621/10000 [25:23<39:34,  2.27it/s]"
     ]
    },
    {
     "name": "stdout",
     "output_type": "stream",
     "text": [
      "Step 4620, train loss:0.1117, test loss:4.7231\n"
     ]
    },
    {
     "name": "stderr",
     "output_type": "stream",
     "text": [
      " 46%|████▋     | 4631/10000 [25:25<37:47,  2.37it/s]"
     ]
    },
    {
     "name": "stdout",
     "output_type": "stream",
     "text": [
      "Step 4630, train loss:0.1120, test loss:4.6276\n"
     ]
    },
    {
     "name": "stderr",
     "output_type": "stream",
     "text": [
      " 46%|████▋     | 4641/10000 [25:28<37:46,  2.36it/s]"
     ]
    },
    {
     "name": "stdout",
     "output_type": "stream",
     "text": [
      "Step 4640, train loss:0.1106, test loss:4.6667\n"
     ]
    },
    {
     "name": "stderr",
     "output_type": "stream",
     "text": [
      " 47%|████▋     | 4651/10000 [25:30<37:50,  2.36it/s]"
     ]
    },
    {
     "name": "stdout",
     "output_type": "stream",
     "text": [
      "Step 4650, train loss:0.1116, test loss:4.6940\n"
     ]
    },
    {
     "name": "stderr",
     "output_type": "stream",
     "text": [
      " 47%|████▋     | 4661/10000 [25:32<37:44,  2.36it/s]"
     ]
    },
    {
     "name": "stdout",
     "output_type": "stream",
     "text": [
      "Step 4660, train loss:0.1105, test loss:4.6492\n"
     ]
    },
    {
     "name": "stderr",
     "output_type": "stream",
     "text": [
      " 47%|████▋     | 4671/10000 [25:35<38:55,  2.28it/s]"
     ]
    },
    {
     "name": "stdout",
     "output_type": "stream",
     "text": [
      "Step 4670, train loss:0.1104, test loss:4.7711\n"
     ]
    },
    {
     "name": "stderr",
     "output_type": "stream",
     "text": [
      " 47%|████▋     | 4681/10000 [25:37<38:53,  2.28it/s]"
     ]
    },
    {
     "name": "stdout",
     "output_type": "stream",
     "text": [
      "Step 4680, train loss:0.1118, test loss:4.6712\n"
     ]
    },
    {
     "name": "stderr",
     "output_type": "stream",
     "text": [
      " 47%|████▋     | 4691/10000 [25:40<38:23,  2.30it/s]"
     ]
    },
    {
     "name": "stdout",
     "output_type": "stream",
     "text": [
      "Step 4690, train loss:0.1127, test loss:4.7333\n"
     ]
    },
    {
     "name": "stderr",
     "output_type": "stream",
     "text": [
      " 47%|████▋     | 4700/10000 [25:41<13:53,  6.36it/s]"
     ]
    },
    {
     "name": "stdout",
     "output_type": "stream",
     "text": [
      "Step 4700, train loss:0.1136, test loss:4.6787\n"
     ]
    },
    {
     "name": "stderr",
     "output_type": "stream",
     "text": [
      " 47%|████▋     | 4701/10000 [25:50<4:08:11,  2.81s/it]"
     ]
    },
    {
     "name": "stdout",
     "output_type": "stream",
     "text": [
      "\n",
      "\n",
      "ESCALUS:\n",
      "Such a thing is spoken like a fruitful depute,\n",
      "To dwell in solemn shades of endless night.\n",
      "\n",
      "HORTENSIO:\n",
      "Peace, Grumio! it is the rival of my love.\n",
      "Petruchio, stand by a while.\n",
      "\n",
      "GRUMIO:\n",
      "A proper loing peace! I have seen the day\n",
      "Where I may last that walk brows scarce o'erwhelm\n",
      "That can be a fecery supremedge:\n",
      "What is something near calls the blow that looks?\n",
      "No, my good lord, you have been a mother;\n",
      "The loss is heart such fair and banishment.\n",
      "\n",
      "FRIAR LAURENCE:\n",
      "Unhappy fortune! by my brotherhord,\n",
      "It must needs appear offence it before.\n",
      "\n",
      "TRANIO:\n",
      "For this news is mortal to the maid,\n",
      "And yet the king did burd ancient mortal foe?\n",
      "\n",
      "ELBOW:\n",
      "No, sir; I will to heaven for the exchange of the\n",
      "court-cupboard, every man be a prayer changeen, my master, ho!\n",
      "\n",
      "DUKE VINCENTIO:\n",
      "Hail to you, pray you, and tell the well have\n",
      "A sick man's man is a rewarder of your honour.\n",
      "\n",
      "ISABELLA:\n",
      "O, he is bondaged in the rest confound!\n",
      "\n",
      "DUKE VINCENTIO:\n",
      "By heaven, fair love I bear him my master, hath\n",
      "dangerous and \n",
      "Step 4700, train loss:0.1120, test loss:4.6481\n"
     ]
    },
    {
     "name": "stderr",
     "output_type": "stream",
     "text": [
      " 47%|████▋     | 4711/10000 [25:52<45:09,  1.95it/s]"
     ]
    },
    {
     "name": "stdout",
     "output_type": "stream",
     "text": [
      "Step 4710, train loss:0.1109, test loss:4.7403\n"
     ]
    },
    {
     "name": "stderr",
     "output_type": "stream",
     "text": [
      " 47%|████▋     | 4721/10000 [25:55<38:43,  2.27it/s]"
     ]
    },
    {
     "name": "stdout",
     "output_type": "stream",
     "text": [
      "Step 4720, train loss:0.1122, test loss:4.6338\n"
     ]
    },
    {
     "name": "stderr",
     "output_type": "stream",
     "text": [
      " 47%|████▋     | 4731/10000 [25:57<38:01,  2.31it/s]"
     ]
    },
    {
     "name": "stdout",
     "output_type": "stream",
     "text": [
      "Step 4730, train loss:0.1105, test loss:4.7301\n"
     ]
    },
    {
     "name": "stderr",
     "output_type": "stream",
     "text": [
      " 47%|████▋     | 4741/10000 [26:00<37:03,  2.36it/s]"
     ]
    },
    {
     "name": "stdout",
     "output_type": "stream",
     "text": [
      "Step 4740, train loss:0.1093, test loss:4.7176\n"
     ]
    },
    {
     "name": "stderr",
     "output_type": "stream",
     "text": [
      " 48%|████▊     | 4751/10000 [26:02<36:55,  2.37it/s]"
     ]
    },
    {
     "name": "stdout",
     "output_type": "stream",
     "text": [
      "Step 4750, train loss:0.1105, test loss:4.6843\n"
     ]
    },
    {
     "name": "stderr",
     "output_type": "stream",
     "text": [
      " 48%|████▊     | 4761/10000 [26:04<36:56,  2.36it/s]"
     ]
    },
    {
     "name": "stdout",
     "output_type": "stream",
     "text": [
      "Step 4760, train loss:0.1092, test loss:4.7169\n"
     ]
    },
    {
     "name": "stderr",
     "output_type": "stream",
     "text": [
      " 48%|████▊     | 4771/10000 [26:07<36:45,  2.37it/s]"
     ]
    },
    {
     "name": "stdout",
     "output_type": "stream",
     "text": [
      "Step 4770, train loss:0.1107, test loss:4.7067\n"
     ]
    },
    {
     "name": "stderr",
     "output_type": "stream",
     "text": [
      " 48%|████▊     | 4781/10000 [26:09<37:44,  2.30it/s]"
     ]
    },
    {
     "name": "stdout",
     "output_type": "stream",
     "text": [
      "Step 4780, train loss:0.1111, test loss:4.7647\n"
     ]
    },
    {
     "name": "stderr",
     "output_type": "stream",
     "text": [
      " 48%|████▊     | 4791/10000 [26:12<37:42,  2.30it/s]"
     ]
    },
    {
     "name": "stdout",
     "output_type": "stream",
     "text": [
      "Step 4790, train loss:0.1097, test loss:4.6781\n"
     ]
    },
    {
     "name": "stderr",
     "output_type": "stream",
     "text": [
      " 48%|████▊     | 4800/10000 [26:13<14:03,  6.16it/s]"
     ]
    },
    {
     "name": "stdout",
     "output_type": "stream",
     "text": [
      "Step 4800, train loss:0.1107, test loss:4.8908\n"
     ]
    },
    {
     "name": "stderr",
     "output_type": "stream",
     "text": [
      " 48%|████▊     | 4801/10000 [26:22<4:06:05,  2.84s/it]"
     ]
    },
    {
     "name": "stdout",
     "output_type": "stream",
     "text": [
      "\n",
      "\n",
      "GLOUCESTER:\n",
      "These eyes could never endure sweet beauty's wreck;\n",
      "You should not blemish. Now, good my lord,\n",
      "Suffer't please your highness to assign me.\n",
      "\n",
      "JULIET:\n",
      "Farewell!\n",
      "\n",
      "ARCHRISA:\n",
      "\n",
      "CAPULET:\n",
      "That same should call her more competitors\n",
      "Flock to their aid: I will tell you\n",
      "I do give months fair and best days, I am\n",
      "Weit or so deep unhalt. My brother speak,\n",
      "If I conject, Paulina to the Tower.\n",
      "\n",
      "BUCKINGHAM:\n",
      "The mather this boon was the carrion-officed state\n",
      "To one that can resolve you an all the Xorst.\n",
      "\n",
      "GEORGE:\n",
      "Is it that I know to Lodlay too: to deny,\n",
      "Be so good for a show well serve, but ludges after.\n",
      "\n",
      "RAmember:\n",
      "Therefore, be still and reason to look pale.\n",
      "\n",
      "ROMEO:\n",
      "What less it hand in, it will to make a lott\n",
      "Binder for my part in his virtuous seas\n",
      "So long as awers as ste as virtuous as below;\n",
      "A servant prayers from a dream of lead,\n",
      "But live to Ireland in their loves.\n",
      "\n",
      "DUKE VINCENTIO:\n",
      "My heart lost the earther was not enough,\n",
      "I would make her send for speed of the disposition\n",
      "To leave the for\n",
      "Step 4800, train loss:0.1116, test loss:4.7633\n"
     ]
    },
    {
     "name": "stderr",
     "output_type": "stream",
     "text": [
      " 48%|████▊     | 4811/10000 [26:24<42:33,  2.03it/s]"
     ]
    },
    {
     "name": "stdout",
     "output_type": "stream",
     "text": [
      "Step 4810, train loss:0.1104, test loss:4.7381\n"
     ]
    },
    {
     "name": "stderr",
     "output_type": "stream",
     "text": [
      " 48%|████▊     | 4821/10000 [26:27<38:22,  2.25it/s]"
     ]
    },
    {
     "name": "stdout",
     "output_type": "stream",
     "text": [
      "Step 4820, train loss:0.1124, test loss:4.6486\n"
     ]
    },
    {
     "name": "stderr",
     "output_type": "stream",
     "text": [
      " 48%|████▊     | 4831/10000 [26:29<37:30,  2.30it/s]"
     ]
    },
    {
     "name": "stdout",
     "output_type": "stream",
     "text": [
      "Step 4830, train loss:0.1116, test loss:4.6575\n"
     ]
    },
    {
     "name": "stderr",
     "output_type": "stream",
     "text": [
      " 48%|████▊     | 4841/10000 [26:32<37:25,  2.30it/s]"
     ]
    },
    {
     "name": "stdout",
     "output_type": "stream",
     "text": [
      "Step 4840, train loss:0.1107, test loss:4.7620\n"
     ]
    },
    {
     "name": "stderr",
     "output_type": "stream",
     "text": [
      " 49%|████▊     | 4851/10000 [26:34<36:34,  2.35it/s]"
     ]
    },
    {
     "name": "stdout",
     "output_type": "stream",
     "text": [
      "Step 4850, train loss:0.1104, test loss:4.6921\n"
     ]
    },
    {
     "name": "stderr",
     "output_type": "stream",
     "text": [
      " 49%|████▊     | 4861/10000 [26:36<36:14,  2.36it/s]"
     ]
    },
    {
     "name": "stdout",
     "output_type": "stream",
     "text": [
      "Step 4860, train loss:0.1107, test loss:4.8090\n"
     ]
    },
    {
     "name": "stderr",
     "output_type": "stream",
     "text": [
      " 49%|████▊     | 4871/10000 [26:39<36:14,  2.36it/s]"
     ]
    },
    {
     "name": "stdout",
     "output_type": "stream",
     "text": [
      "Step 4870, train loss:0.1102, test loss:4.7426\n"
     ]
    },
    {
     "name": "stderr",
     "output_type": "stream",
     "text": [
      " 49%|████▉     | 4881/10000 [26:41<36:02,  2.37it/s]"
     ]
    },
    {
     "name": "stdout",
     "output_type": "stream",
     "text": [
      "Step 4880, train loss:0.1108, test loss:4.7080\n"
     ]
    },
    {
     "name": "stderr",
     "output_type": "stream",
     "text": [
      " 49%|████▉     | 4891/10000 [26:44<37:06,  2.29it/s]"
     ]
    },
    {
     "name": "stdout",
     "output_type": "stream",
     "text": [
      "Step 4890, train loss:0.1103, test loss:4.8052\n"
     ]
    },
    {
     "name": "stderr",
     "output_type": "stream",
     "text": [
      " 49%|████▉     | 4900/10000 [26:45<13:47,  6.16it/s]"
     ]
    },
    {
     "name": "stdout",
     "output_type": "stream",
     "text": [
      "Step 4900, train loss:0.1084, test loss:4.6801\n"
     ]
    },
    {
     "name": "stderr",
     "output_type": "stream",
     "text": [
      " 49%|████▉     | 4901/10000 [26:54<4:13:38,  2.98s/it]"
     ]
    },
    {
     "name": "stdout",
     "output_type": "stream",
     "text": [
      "\n",
      "\n",
      "RICHMOND:\n",
      "All for our vantage. Then, in God's name, lords,\n",
      "Be away the ladies like a chair\n",
      "To Have attempted of your pleasure.\n",
      "\n",
      "KING RICHARD II:\n",
      "Dispatch it out another sin at Laured Clifford;\n",
      "But as I come, I come; it is but were as like.\n",
      "\n",
      "DUKE OF AUMERLE:\n",
      "My lord, 'tis nothing.\n",
      "\n",
      "DUKE OF YORK:\n",
      "Who that who, it may not?\n",
      "\n",
      "Shepherd:\n",
      "I can tell it soft-Master.\n",
      "\n",
      "Clown:\n",
      "Not a word, loyal.\n",
      "\n",
      "CORIOLANUS:\n",
      "Thou shalt not do't.\n",
      "\n",
      "Citizens:\n",
      "Down with him! down with him!\n",
      "\n",
      "Senators, &C:\n",
      "Weapons, weapons, weapons, wear anms. Come, come,\n",
      "Hath widow'd and unmoved falsehood with his hate,\n",
      "And therein show'd like enemies.\n",
      "\n",
      "Fourth:\n",
      "When she will reconcile you.\n",
      "\n",
      "First Citizen:\n",
      "Neighbour, well met: what have you do it like\n",
      "you that was a queen,\n",
      "if any finger the king you did news all's,\n",
      "Then do't not drawn the forth ploy she seems,\n",
      "And he that stints are nothing that I may have to scorn\n",
      "faith of sweet physician: faith, unking,\n",
      "With stomp the tear of the time earth.\n",
      "\n",
      "GLOUCESTER:\n",
      "Well, no more mercy, what made\n",
      "Step 4900, train loss:0.1104, test loss:4.6535\n"
     ]
    },
    {
     "name": "stderr",
     "output_type": "stream",
     "text": [
      " 49%|████▉     | 4911/10000 [26:57<41:51,  2.03it/s]"
     ]
    },
    {
     "name": "stdout",
     "output_type": "stream",
     "text": [
      "Step 4910, train loss:0.1083, test loss:4.7802\n"
     ]
    },
    {
     "name": "stderr",
     "output_type": "stream",
     "text": [
      " 49%|████▉     | 4921/10000 [26:59<36:35,  2.31it/s]"
     ]
    },
    {
     "name": "stdout",
     "output_type": "stream",
     "text": [
      "Step 4920, train loss:0.1066, test loss:4.7480\n"
     ]
    },
    {
     "name": "stderr",
     "output_type": "stream",
     "text": [
      " 49%|████▉     | 4931/10000 [27:02<36:32,  2.31it/s]"
     ]
    },
    {
     "name": "stdout",
     "output_type": "stream",
     "text": [
      "Step 4930, train loss:0.1110, test loss:4.7688\n"
     ]
    },
    {
     "name": "stderr",
     "output_type": "stream",
     "text": [
      " 49%|████▉     | 4941/10000 [27:04<36:50,  2.29it/s]"
     ]
    },
    {
     "name": "stdout",
     "output_type": "stream",
     "text": [
      "Step 4940, train loss:0.1101, test loss:4.7121\n"
     ]
    },
    {
     "name": "stderr",
     "output_type": "stream",
     "text": [
      " 50%|████▉     | 4951/10000 [27:06<35:56,  2.34it/s]"
     ]
    },
    {
     "name": "stdout",
     "output_type": "stream",
     "text": [
      "Step 4950, train loss:0.1074, test loss:4.6733\n"
     ]
    },
    {
     "name": "stderr",
     "output_type": "stream",
     "text": [
      " 50%|████▉     | 4961/10000 [27:09<35:32,  2.36it/s]"
     ]
    },
    {
     "name": "stdout",
     "output_type": "stream",
     "text": [
      "Step 4960, train loss:0.1119, test loss:4.7537\n"
     ]
    },
    {
     "name": "stderr",
     "output_type": "stream",
     "text": [
      " 50%|████▉     | 4971/10000 [27:11<35:22,  2.37it/s]"
     ]
    },
    {
     "name": "stdout",
     "output_type": "stream",
     "text": [
      "Step 4970, train loss:0.1083, test loss:4.7155\n"
     ]
    },
    {
     "name": "stderr",
     "output_type": "stream",
     "text": [
      " 50%|████▉     | 4981/10000 [27:13<35:17,  2.37it/s]"
     ]
    },
    {
     "name": "stdout",
     "output_type": "stream",
     "text": [
      "Step 4980, train loss:0.1092, test loss:4.7828\n"
     ]
    },
    {
     "name": "stderr",
     "output_type": "stream",
     "text": [
      " 50%|████▉     | 4991/10000 [27:16<35:33,  2.35it/s]"
     ]
    },
    {
     "name": "stdout",
     "output_type": "stream",
     "text": [
      "Step 4990, train loss:0.1089, test loss:4.7159\n"
     ]
    },
    {
     "name": "stderr",
     "output_type": "stream",
     "text": [
      " 50%|█████     | 5000/10000 [27:17<13:37,  6.12it/s]"
     ]
    },
    {
     "name": "stdout",
     "output_type": "stream",
     "text": [
      "Step 5000, train loss:0.1102, test loss:4.7480\n"
     ]
    },
    {
     "name": "stderr",
     "output_type": "stream",
     "text": [
      " 50%|█████     | 5001/10000 [27:27<4:17:41,  3.09s/it]"
     ]
    },
    {
     "name": "stdout",
     "output_type": "stream",
     "text": [
      "\n",
      "\n",
      "Messenger:\n",
      "Your brother dies to-morrow.\n",
      "\n",
      "CORIOLANUS:\n",
      "When devise between't.\n",
      "\n",
      "MENENIUS:\n",
      "O me re prince! O love, you that Romeo\n",
      "Hath he will be the melting Rome, as it is virtuous\n",
      "to be constanted with her score her face.\n",
      "\n",
      "ABRAHAM:\n",
      "She might stop there. Pity music of the\n",
      "three vontry: turn this from him to mercy.\n",
      "\n",
      "DUKE VINCENTIO:\n",
      "Very well, because the is arrear in the mother\n",
      "of their bodies, their hewise be weigh'd\n",
      "to Rome, but newly then respect thy will be;\n",
      "And so 'tis warm my woe. Let us tender playfellow\n",
      "Of our Montaguin, who bet Oxford here,\n",
      "Come Lammas-eve at night shall sad be found?\n",
      "\n",
      "DUKE VINCENTIO:\n",
      "In that your worthies baginna.\n",
      "\n",
      "ISABELLA:\n",
      "Be copest with such a wife, perform.\n",
      "\n",
      "CLAUDIO:\n",
      "But is the precious sun?\n",
      "\n",
      "ISABELLA:\n",
      "Ay, with such inward soil'd by the night\n",
      "To think upon you, my lord.\n",
      "\n",
      "LADY CAPULET:\n",
      "The mounting time of charge requires and mines\n",
      "Proclaim your moon abhorring to the moon,\n",
      "Should not be so safety to chiding him:\n",
      "This chiefs, as we stand up in blood, and by not\n",
      "Step 5000, train loss:0.1076, test loss:4.7302\n"
     ]
    },
    {
     "name": "stderr",
     "output_type": "stream",
     "text": [
      " 50%|█████     | 5011/10000 [27:29<41:17,  2.01it/s]"
     ]
    },
    {
     "name": "stdout",
     "output_type": "stream",
     "text": [
      "Step 5010, train loss:0.1095, test loss:4.7689\n"
     ]
    },
    {
     "name": "stderr",
     "output_type": "stream",
     "text": [
      " 50%|█████     | 5021/10000 [27:32<35:15,  2.35it/s]"
     ]
    },
    {
     "name": "stdout",
     "output_type": "stream",
     "text": [
      "Step 5020, train loss:0.1081, test loss:4.7308\n"
     ]
    },
    {
     "name": "stderr",
     "output_type": "stream",
     "text": [
      " 50%|█████     | 5031/10000 [27:34<36:23,  2.28it/s]"
     ]
    },
    {
     "name": "stdout",
     "output_type": "stream",
     "text": [
      "Step 5030, train loss:0.1096, test loss:4.7735\n"
     ]
    },
    {
     "name": "stderr",
     "output_type": "stream",
     "text": [
      " 50%|█████     | 5041/10000 [27:37<36:08,  2.29it/s]"
     ]
    },
    {
     "name": "stdout",
     "output_type": "stream",
     "text": [
      "Step 5040, train loss:0.1089, test loss:4.8270\n"
     ]
    },
    {
     "name": "stderr",
     "output_type": "stream",
     "text": [
      " 51%|█████     | 5051/10000 [27:39<36:01,  2.29it/s]"
     ]
    },
    {
     "name": "stdout",
     "output_type": "stream",
     "text": [
      "Step 5050, train loss:0.1076, test loss:4.7575\n"
     ]
    },
    {
     "name": "stderr",
     "output_type": "stream",
     "text": [
      " 51%|█████     | 5061/10000 [27:41<34:55,  2.36it/s]"
     ]
    },
    {
     "name": "stdout",
     "output_type": "stream",
     "text": [
      "Step 5060, train loss:0.1080, test loss:4.7181\n"
     ]
    },
    {
     "name": "stderr",
     "output_type": "stream",
     "text": [
      " 51%|█████     | 5071/10000 [27:44<34:38,  2.37it/s]"
     ]
    },
    {
     "name": "stdout",
     "output_type": "stream",
     "text": [
      "Step 5070, train loss:0.1082, test loss:4.8289\n"
     ]
    },
    {
     "name": "stderr",
     "output_type": "stream",
     "text": [
      " 51%|█████     | 5081/10000 [27:46<34:34,  2.37it/s]"
     ]
    },
    {
     "name": "stdout",
     "output_type": "stream",
     "text": [
      "Step 5080, train loss:0.1101, test loss:4.6650\n"
     ]
    },
    {
     "name": "stderr",
     "output_type": "stream",
     "text": [
      " 51%|█████     | 5091/10000 [27:49<34:32,  2.37it/s]"
     ]
    },
    {
     "name": "stdout",
     "output_type": "stream",
     "text": [
      "Step 5090, train loss:0.1083, test loss:4.7904\n"
     ]
    },
    {
     "name": "stderr",
     "output_type": "stream",
     "text": [
      " 51%|█████     | 5100/10000 [27:50<13:00,  6.28it/s]"
     ]
    },
    {
     "name": "stdout",
     "output_type": "stream",
     "text": [
      "Step 5100, train loss:0.1096, test loss:4.8035\n"
     ]
    },
    {
     "name": "stderr",
     "output_type": "stream",
     "text": [
      " 51%|█████     | 5101/10000 [28:00<4:14:54,  3.12s/it]"
     ]
    },
    {
     "name": "stdout",
     "output_type": "stream",
     "text": [
      "\n",
      "\n",
      "DERBY:\n",
      "To serve me well, you and I am king.\n",
      "\n",
      "YORK:\n",
      "While we canst understand thee, gentle counsel?\n",
      "And soothe the devotion of a subject's love,\n",
      "Tendering the present counsel, or, behold,\n",
      "'Twixt my extremes again, and st and my ape,\n",
      "And chase us to our nowledge with the heart.\n",
      "\n",
      "JOHN OF GAUNT:\n",
      "going absolute sir, if that I may be the day,\n",
      "Hast that our Porio is best acquainted with her humour.\n",
      "\n",
      "QUEEN ELIZABETH:\n",
      "And at that cannot fail would fain supposed my knee\n",
      "Confessed the business so of the noble and\n",
      "glodget-tion of your disgraces, at least\n",
      "you, the poor crowned brother flowers?\n",
      "\n",
      "ESCALUS:\n",
      "So. What traitor hears me pardon?\n",
      "\n",
      "HENRY BOLINGBROKE:\n",
      "And what said to the war, you're a made change,\n",
      "Not for the cost. Why came you till now\n",
      "What I can urge against him home? you that kill'st you\n",
      "A waking state, when times he wells go.\n",
      "\n",
      "HENRY BOLINGBROKE:\n",
      "I have took the people, for thou upon\n",
      "With thy elfects I'll hear it; for thou now shalt see\n",
      "The wife to come Norfolk. Why return you swear\n",
      "Shall \n",
      "Step 5100, train loss:0.1059, test loss:4.7636\n"
     ]
    },
    {
     "name": "stderr",
     "output_type": "stream",
     "text": [
      " 51%|█████     | 5111/10000 [28:02<40:37,  2.01it/s]"
     ]
    },
    {
     "name": "stdout",
     "output_type": "stream",
     "text": [
      "Step 5110, train loss:0.1059, test loss:4.7380\n"
     ]
    },
    {
     "name": "stderr",
     "output_type": "stream",
     "text": [
      " 51%|█████     | 5121/10000 [28:05<34:23,  2.36it/s]"
     ]
    },
    {
     "name": "stdout",
     "output_type": "stream",
     "text": [
      "Step 5120, train loss:0.1091, test loss:4.7783\n"
     ]
    },
    {
     "name": "stderr",
     "output_type": "stream",
     "text": [
      " 51%|█████▏    | 5131/10000 [28:07<34:59,  2.32it/s]"
     ]
    },
    {
     "name": "stdout",
     "output_type": "stream",
     "text": [
      "Step 5130, train loss:0.1088, test loss:4.7448\n"
     ]
    },
    {
     "name": "stderr",
     "output_type": "stream",
     "text": [
      " 51%|█████▏    | 5141/10000 [28:09<35:12,  2.30it/s]"
     ]
    },
    {
     "name": "stdout",
     "output_type": "stream",
     "text": [
      "Step 5140, train loss:0.1081, test loss:4.7459\n"
     ]
    },
    {
     "name": "stderr",
     "output_type": "stream",
     "text": [
      " 52%|█████▏    | 5151/10000 [28:12<35:24,  2.28it/s]"
     ]
    },
    {
     "name": "stdout",
     "output_type": "stream",
     "text": [
      "Step 5150, train loss:0.1081, test loss:4.7473\n"
     ]
    },
    {
     "name": "stderr",
     "output_type": "stream",
     "text": [
      " 52%|█████▏    | 5161/10000 [28:14<34:18,  2.35it/s]"
     ]
    },
    {
     "name": "stdout",
     "output_type": "stream",
     "text": [
      "Step 5160, train loss:0.1060, test loss:4.6973\n"
     ]
    },
    {
     "name": "stderr",
     "output_type": "stream",
     "text": [
      " 52%|█████▏    | 5171/10000 [28:17<33:51,  2.38it/s]"
     ]
    },
    {
     "name": "stdout",
     "output_type": "stream",
     "text": [
      "Step 5170, train loss:0.1074, test loss:4.7922\n"
     ]
    },
    {
     "name": "stderr",
     "output_type": "stream",
     "text": [
      " 52%|█████▏    | 5181/10000 [28:19<33:57,  2.36it/s]"
     ]
    },
    {
     "name": "stdout",
     "output_type": "stream",
     "text": [
      "Step 5180, train loss:0.1100, test loss:4.8178\n"
     ]
    },
    {
     "name": "stderr",
     "output_type": "stream",
     "text": [
      " 52%|█████▏    | 5191/10000 [28:21<33:49,  2.37it/s]"
     ]
    },
    {
     "name": "stdout",
     "output_type": "stream",
     "text": [
      "Step 5190, train loss:0.1083, test loss:4.7888\n"
     ]
    },
    {
     "name": "stderr",
     "output_type": "stream",
     "text": [
      " 52%|█████▏    | 5200/10000 [28:23<12:29,  6.41it/s]"
     ]
    },
    {
     "name": "stdout",
     "output_type": "stream",
     "text": [
      "Step 5200, train loss:0.1089, test loss:4.7828\n"
     ]
    },
    {
     "name": "stderr",
     "output_type": "stream",
     "text": [
      " 52%|█████▏    | 5201/10000 [28:33<4:12:34,  3.16s/it]"
     ]
    },
    {
     "name": "stdout",
     "output_type": "stream",
     "text": [
      "\n",
      "\n",
      "o weal-hister'S will have married well\n",
      "And thinkest is grace.\n",
      "\n",
      "Apothecary:\n",
      "By this indeed, mM and her alone,\n",
      "Luch a treacherous revenge in despite enforced herself.\n",
      "\n",
      "RATCLIFF:\n",
      "Sweet Romeo, heaven; I say fight you dost thou so?\n",
      "Before King Richard like a slander heart\n",
      "To poison or in post to wear once more approved\n",
      "And neither have a thorn courter should be:\n",
      "I would from fantastic summer's dust thou art.\n",
      "\n",
      "Second Citizen:\n",
      "Your own draws who spake it matters of a dance.\n",
      "O my sovereign, for I have too much urging youNers,\n",
      "that audying honourable princess, should\n",
      "presently to express command. When you are, my lord?\n",
      "\n",
      "HERMIONE:\n",
      "But for that actions and who shields before the worst.\n",
      "\n",
      "HENRY BOLINGBROKE:\n",
      "O let no noble eye profanding men thus I dully\n",
      "The noble world that have more cause to be a maid\n",
      "And not call me fair, by sent for myself,\n",
      "They say it is a constant to that breath\n",
      "To such a nurse our country of this divided\n",
      "The rest stand was left and give thee from\n",
      "For the open and give signal \n",
      "Step 5200, train loss:0.1079, test loss:4.7642\n"
     ]
    },
    {
     "name": "stderr",
     "output_type": "stream",
     "text": [
      " 52%|█████▏    | 5211/10000 [28:35<39:53,  2.00it/s]"
     ]
    },
    {
     "name": "stdout",
     "output_type": "stream",
     "text": [
      "Step 5210, train loss:0.1093, test loss:4.7369\n"
     ]
    },
    {
     "name": "stderr",
     "output_type": "stream",
     "text": [
      " 52%|█████▏    | 5221/10000 [28:37<33:48,  2.36it/s]"
     ]
    },
    {
     "name": "stdout",
     "output_type": "stream",
     "text": [
      "Step 5220, train loss:0.1091, test loss:4.7795\n"
     ]
    },
    {
     "name": "stderr",
     "output_type": "stream",
     "text": [
      " 52%|█████▏    | 5231/10000 [28:40<33:41,  2.36it/s]"
     ]
    },
    {
     "name": "stdout",
     "output_type": "stream",
     "text": [
      "Step 5230, train loss:0.1080, test loss:4.7841\n"
     ]
    },
    {
     "name": "stderr",
     "output_type": "stream",
     "text": [
      " 52%|█████▏    | 5241/10000 [28:42<34:43,  2.28it/s]"
     ]
    },
    {
     "name": "stdout",
     "output_type": "stream",
     "text": [
      "Step 5240, train loss:0.1072, test loss:4.8249\n"
     ]
    },
    {
     "name": "stderr",
     "output_type": "stream",
     "text": [
      " 53%|█████▎    | 5251/10000 [28:45<34:29,  2.29it/s]"
     ]
    },
    {
     "name": "stdout",
     "output_type": "stream",
     "text": [
      "Step 5250, train loss:0.1050, test loss:4.7850\n"
     ]
    },
    {
     "name": "stderr",
     "output_type": "stream",
     "text": [
      " 53%|█████▎    | 5261/10000 [28:47<34:03,  2.32it/s]"
     ]
    },
    {
     "name": "stdout",
     "output_type": "stream",
     "text": [
      "Step 5260, train loss:0.1068, test loss:4.7952\n"
     ]
    },
    {
     "name": "stderr",
     "output_type": "stream",
     "text": [
      " 53%|█████▎    | 5271/10000 [28:49<33:18,  2.37it/s]"
     ]
    },
    {
     "name": "stdout",
     "output_type": "stream",
     "text": [
      "Step 5270, train loss:0.1064, test loss:4.8885\n"
     ]
    },
    {
     "name": "stderr",
     "output_type": "stream",
     "text": [
      " 53%|█████▎    | 5281/10000 [28:52<33:22,  2.36it/s]"
     ]
    },
    {
     "name": "stdout",
     "output_type": "stream",
     "text": [
      "Step 5280, train loss:0.1075, test loss:4.7723\n"
     ]
    },
    {
     "name": "stderr",
     "output_type": "stream",
     "text": [
      " 53%|█████▎    | 5291/10000 [28:54<33:08,  2.37it/s]"
     ]
    },
    {
     "name": "stdout",
     "output_type": "stream",
     "text": [
      "Step 5290, train loss:0.1086, test loss:4.8155\n"
     ]
    },
    {
     "name": "stderr",
     "output_type": "stream",
     "text": [
      " 53%|█████▎    | 5300/10000 [28:55<12:21,  6.34it/s]"
     ]
    },
    {
     "name": "stdout",
     "output_type": "stream",
     "text": [
      "Step 5300, train loss:0.1085, test loss:4.7992\n"
     ]
    },
    {
     "name": "stderr",
     "output_type": "stream",
     "text": [
      " 53%|█████▎    | 5301/10000 [29:06<4:10:52,  3.20s/it]"
     ]
    },
    {
     "name": "stdout",
     "output_type": "stream",
     "text": [
      "\n",
      "\n",
      "Third Citizen:\n",
      "Better it were they all came by the father,\n",
      "Or by the father there were none at all;\n",
      "For emulation now, who shall be nearest,\n",
      "Which in a name to clearer youth of our success?\n",
      "Uncle, or thought of such a spirit that\n",
      "For both hate stripes of night, and many blushing cheeks\n",
      "Death in my tongue, that lives and stainness\n",
      "Much salt and naked, that he would do this.\n",
      "\n",
      "BRUTUS:\n",
      "We pray you, why, you must call you fair hard\n",
      "Upon my passion; and so he that arts,\n",
      "Which I pluck'd out of the city is corner.\n",
      "\n",
      "Shepherd:\n",
      "Why, sir, you know no further than this world,\n",
      "And squarest thy life according; I would not have it so.\n",
      "\n",
      "DUCHESS OF YORK:\n",
      "Why, this it is, by my liege, this is you said it at your pleasure.\n",
      "\n",
      "HENRY BOLINGBROKE:\n",
      "My lord, I cannot forget you before.\n",
      "\n",
      "KING RICHARD II:\n",
      "My lord?\n",
      "\n",
      "LADY ANNE:\n",
      "No farther than the Tower; and, after them.\n",
      "\n",
      "QUEEN ELIZABETH:\n",
      "Catesby, we cannot stay to thee again.\n",
      "\n",
      "KING RICHARD III:\n",
      "So.\n",
      "\n",
      "GLOUCESTER:\n",
      "Then now your either cannot be quiet scarce a man:\n",
      "For\n",
      "Step 5300, train loss:0.1091, test loss:4.6738\n"
     ]
    },
    {
     "name": "stderr",
     "output_type": "stream",
     "text": [
      " 53%|█████▎    | 5311/10000 [29:08<38:57,  2.01it/s]"
     ]
    },
    {
     "name": "stdout",
     "output_type": "stream",
     "text": [
      "Step 5310, train loss:0.1091, test loss:4.7056\n"
     ]
    },
    {
     "name": "stderr",
     "output_type": "stream",
     "text": [
      " 53%|█████▎    | 5321/10000 [29:10<33:09,  2.35it/s]"
     ]
    },
    {
     "name": "stdout",
     "output_type": "stream",
     "text": [
      "Step 5320, train loss:0.1105, test loss:4.7902\n"
     ]
    },
    {
     "name": "stderr",
     "output_type": "stream",
     "text": [
      " 53%|█████▎    | 5331/10000 [29:13<32:57,  2.36it/s]"
     ]
    },
    {
     "name": "stdout",
     "output_type": "stream",
     "text": [
      "Step 5330, train loss:0.1063, test loss:4.7675\n"
     ]
    },
    {
     "name": "stderr",
     "output_type": "stream",
     "text": [
      " 53%|█████▎    | 5341/10000 [29:15<34:16,  2.27it/s]"
     ]
    },
    {
     "name": "stdout",
     "output_type": "stream",
     "text": [
      "Step 5340, train loss:0.1053, test loss:4.7401\n"
     ]
    },
    {
     "name": "stderr",
     "output_type": "stream",
     "text": [
      " 54%|█████▎    | 5351/10000 [29:18<33:59,  2.28it/s]"
     ]
    },
    {
     "name": "stdout",
     "output_type": "stream",
     "text": [
      "Step 5350, train loss:0.1074, test loss:4.7453\n"
     ]
    },
    {
     "name": "stderr",
     "output_type": "stream",
     "text": [
      " 54%|█████▎    | 5361/10000 [29:20<33:42,  2.29it/s]"
     ]
    },
    {
     "name": "stdout",
     "output_type": "stream",
     "text": [
      "Step 5360, train loss:0.1082, test loss:4.7680\n"
     ]
    },
    {
     "name": "stderr",
     "output_type": "stream",
     "text": [
      " 54%|█████▎    | 5371/10000 [29:22<32:47,  2.35it/s]"
     ]
    },
    {
     "name": "stdout",
     "output_type": "stream",
     "text": [
      "Step 5370, train loss:0.1060, test loss:4.8189\n"
     ]
    },
    {
     "name": "stderr",
     "output_type": "stream",
     "text": [
      " 54%|█████▍    | 5381/10000 [29:25<32:32,  2.37it/s]"
     ]
    },
    {
     "name": "stdout",
     "output_type": "stream",
     "text": [
      "Step 5380, train loss:0.1076, test loss:4.8009\n"
     ]
    },
    {
     "name": "stderr",
     "output_type": "stream",
     "text": [
      " 54%|█████▍    | 5391/10000 [29:27<32:26,  2.37it/s]"
     ]
    },
    {
     "name": "stdout",
     "output_type": "stream",
     "text": [
      "Step 5390, train loss:0.1067, test loss:4.8341\n"
     ]
    },
    {
     "name": "stderr",
     "output_type": "stream",
     "text": [
      " 54%|█████▍    | 5400/10000 [29:28<11:57,  6.41it/s]"
     ]
    },
    {
     "name": "stdout",
     "output_type": "stream",
     "text": [
      "Step 5400, train loss:0.1086, test loss:4.8462\n"
     ]
    },
    {
     "name": "stderr",
     "output_type": "stream",
     "text": [
      " 54%|█████▍    | 5401/10000 [29:39<4:10:39,  3.27s/it]"
     ]
    },
    {
     "name": "stdout",
     "output_type": "stream",
     "text": [
      "\n",
      "\n",
      "KING RICHARD III:\n",
      "How chance the prophet do a botain?\n",
      "And who is we thy will and will not so much for dwelling son?\n",
      "Is she when I am the venture of the loss,\n",
      "That I may see you at ever to my soul.\n",
      "You save your noble and hard to command the base-joy\n",
      "To reap the tock and to me; now are he\n",
      "appears to hear you tell it how all there with power\n",
      "Pardon for my poor young tongue speak not my daughter:\n",
      "The love I do not speak a while.\n",
      "\n",
      "BUSHY:\n",
      "Each keep my lovers' tears take the pardon.\n",
      "O thou, Lord Hastings, take him to some children?\n",
      "A king, to me forgive that now it may sray;\n",
      "O, then I say, though some other blood\n",
      "For that off with the hand of men's life.\n",
      "I'll tell him what you say, my lord:\n",
      "To-morrow, then I'll follow her, to Rome,\n",
      "And durst I shall be older that Edward to him.\n",
      "Thou know'st me not, sleep no more.\n",
      "\n",
      "GLOUCESTER:\n",
      "What cannot think would kill thy consent?\n",
      "\n",
      "YORK:\n",
      "Ay, and the king; and when thou art know'st--\n",
      "\n",
      "GLOUCESTER:\n",
      "I'll tell thee, ere thee Plashy and tie reason.\n",
      "\n",
      "BUCKINGHAM:\n",
      "Step 5400, train loss:0.1096, test loss:4.8011\n"
     ]
    },
    {
     "name": "stderr",
     "output_type": "stream",
     "text": [
      " 54%|█████▍    | 5411/10000 [29:41<38:26,  1.99it/s]"
     ]
    },
    {
     "name": "stdout",
     "output_type": "stream",
     "text": [
      "Step 5410, train loss:0.1073, test loss:4.8314\n"
     ]
    },
    {
     "name": "stderr",
     "output_type": "stream",
     "text": [
      " 54%|█████▍    | 5421/10000 [29:44<32:35,  2.34it/s]"
     ]
    },
    {
     "name": "stdout",
     "output_type": "stream",
     "text": [
      "Step 5420, train loss:0.1068, test loss:4.8851\n"
     ]
    },
    {
     "name": "stderr",
     "output_type": "stream",
     "text": [
      " 54%|█████▍    | 5431/10000 [29:46<32:05,  2.37it/s]"
     ]
    },
    {
     "name": "stdout",
     "output_type": "stream",
     "text": [
      "Step 5430, train loss:0.1066, test loss:4.7393\n"
     ]
    },
    {
     "name": "stderr",
     "output_type": "stream",
     "text": [
      " 54%|█████▍    | 5441/10000 [29:49<33:25,  2.27it/s]"
     ]
    },
    {
     "name": "stdout",
     "output_type": "stream",
     "text": [
      "Step 5440, train loss:0.1060, test loss:4.7417\n"
     ]
    },
    {
     "name": "stderr",
     "output_type": "stream",
     "text": [
      " 55%|█████▍    | 5451/10000 [29:51<33:22,  2.27it/s]"
     ]
    },
    {
     "name": "stdout",
     "output_type": "stream",
     "text": [
      "Step 5450, train loss:0.1075, test loss:4.7579\n"
     ]
    },
    {
     "name": "stderr",
     "output_type": "stream",
     "text": [
      " 55%|█████▍    | 5461/10000 [29:53<33:26,  2.26it/s]"
     ]
    },
    {
     "name": "stdout",
     "output_type": "stream",
     "text": [
      "Step 5460, train loss:0.1073, test loss:4.8324\n"
     ]
    },
    {
     "name": "stderr",
     "output_type": "stream",
     "text": [
      " 55%|█████▍    | 5471/10000 [29:56<31:47,  2.37it/s]"
     ]
    },
    {
     "name": "stdout",
     "output_type": "stream",
     "text": [
      "Step 5470, train loss:0.1057, test loss:4.7368\n"
     ]
    },
    {
     "name": "stderr",
     "output_type": "stream",
     "text": [
      " 55%|█████▍    | 5481/10000 [29:58<31:41,  2.38it/s]"
     ]
    },
    {
     "name": "stdout",
     "output_type": "stream",
     "text": [
      "Step 5480, train loss:0.1073, test loss:4.7093\n"
     ]
    },
    {
     "name": "stderr",
     "output_type": "stream",
     "text": [
      " 55%|█████▍    | 5491/10000 [30:00<31:45,  2.37it/s]"
     ]
    },
    {
     "name": "stdout",
     "output_type": "stream",
     "text": [
      "Step 5490, train loss:0.1073, test loss:4.7286\n"
     ]
    },
    {
     "name": "stderr",
     "output_type": "stream",
     "text": [
      " 55%|█████▌    | 5500/10000 [30:02<11:41,  6.41it/s]"
     ]
    },
    {
     "name": "stdout",
     "output_type": "stream",
     "text": [
      "Step 5500, train loss:0.1065, test loss:4.7668\n"
     ]
    },
    {
     "name": "stderr",
     "output_type": "stream",
     "text": [
      " 55%|█████▌    | 5501/10000 [30:12<4:03:06,  3.24s/it]"
     ]
    },
    {
     "name": "stdout",
     "output_type": "stream",
     "text": [
      "\n",
      "\n",
      "WARWICK:\n",
      "Nor I, there's one, best soul, had their days.\n",
      "\n",
      "PRINCE EDWARD:\n",
      "Even when you please, what I may mine be your,\n",
      "I will not marry Warwick to my sweet suspicion!\n",
      "\n",
      "DORSET:\n",
      "I will not su, Tranio, to the Earl of Wiltshire? what he's your hand?\n",
      "Condemn the dark night cause to work alone.\n",
      "Madam, undress you and come now to bed.\n",
      "\n",
      "Page:\n",
      "Thrice noble lord, let me entreat of you\n",
      "To pardon me yet for a night or two,\n",
      "Or, if not so, until the sun be set:\n",
      "For your physicians have expressly charged,\n",
      "In peril to incur your former malady,\n",
      "That I should yet absent me from your bed:\n",
      "I hope this reason stands for my excuse.\n",
      "\n",
      "SLY:\n",
      "Ay, it stands so that I may hardly\n",
      "tarry so long. But I would be look'd to hear for spoke.\n",
      "\n",
      "YORK:\n",
      "Now priest thou that, mean to say, he's more, begin to us!\n",
      "\n",
      "BISHOP OF CARLISLE:\n",
      "My lord, wise men ne'er sit and wail their woes,\n",
      "But presently prevent the ways to wail.\n",
      "To fear the foe, since fear oppresseth strength,\n",
      "Gives in your weakness strength unto your foe,\n",
      "And so your f\n",
      "Step 5500, train loss:0.1073, test loss:4.8491\n"
     ]
    },
    {
     "name": "stderr",
     "output_type": "stream",
     "text": [
      " 55%|█████▌    | 5511/10000 [30:15<37:39,  1.99it/s]"
     ]
    },
    {
     "name": "stdout",
     "output_type": "stream",
     "text": [
      "Step 5510, train loss:0.1086, test loss:4.7858\n"
     ]
    },
    {
     "name": "stderr",
     "output_type": "stream",
     "text": [
      " 55%|█████▌    | 5521/10000 [30:17<31:35,  2.36it/s]"
     ]
    },
    {
     "name": "stdout",
     "output_type": "stream",
     "text": [
      "Step 5520, train loss:0.1068, test loss:4.7293\n"
     ]
    },
    {
     "name": "stderr",
     "output_type": "stream",
     "text": [
      " 55%|█████▌    | 5531/10000 [30:19<31:27,  2.37it/s]"
     ]
    },
    {
     "name": "stdout",
     "output_type": "stream",
     "text": [
      "Step 5530, train loss:0.1082, test loss:4.7341\n"
     ]
    },
    {
     "name": "stderr",
     "output_type": "stream",
     "text": [
      " 55%|█████▌    | 5541/10000 [30:22<32:02,  2.32it/s]"
     ]
    },
    {
     "name": "stdout",
     "output_type": "stream",
     "text": [
      "Step 5540, train loss:0.1061, test loss:4.7409\n"
     ]
    },
    {
     "name": "stderr",
     "output_type": "stream",
     "text": [
      " 56%|█████▌    | 5551/10000 [30:24<32:35,  2.28it/s]"
     ]
    },
    {
     "name": "stdout",
     "output_type": "stream",
     "text": [
      "Step 5550, train loss:0.1048, test loss:4.7617\n"
     ]
    },
    {
     "name": "stderr",
     "output_type": "stream",
     "text": [
      " 56%|█████▌    | 5561/10000 [30:26<31:55,  2.32it/s]"
     ]
    },
    {
     "name": "stdout",
     "output_type": "stream",
     "text": [
      "Step 5560, train loss:0.1087, test loss:4.8365\n"
     ]
    },
    {
     "name": "stderr",
     "output_type": "stream",
     "text": [
      " 56%|█████▌    | 5571/10000 [30:29<31:21,  2.35it/s]"
     ]
    },
    {
     "name": "stdout",
     "output_type": "stream",
     "text": [
      "Step 5570, train loss:0.1084, test loss:4.8622\n"
     ]
    },
    {
     "name": "stderr",
     "output_type": "stream",
     "text": [
      " 56%|█████▌    | 5581/10000 [30:31<31:00,  2.37it/s]"
     ]
    },
    {
     "name": "stdout",
     "output_type": "stream",
     "text": [
      "Step 5580, train loss:0.1049, test loss:4.7341\n"
     ]
    },
    {
     "name": "stderr",
     "output_type": "stream",
     "text": [
      " 56%|█████▌    | 5591/10000 [30:34<31:02,  2.37it/s]"
     ]
    },
    {
     "name": "stdout",
     "output_type": "stream",
     "text": [
      "Step 5590, train loss:0.1058, test loss:4.7621\n"
     ]
    },
    {
     "name": "stderr",
     "output_type": "stream",
     "text": [
      " 56%|█████▌    | 5600/10000 [30:35<11:31,  6.36it/s]"
     ]
    },
    {
     "name": "stdout",
     "output_type": "stream",
     "text": [
      "Step 5600, train loss:0.1080, test loss:4.7505\n"
     ]
    },
    {
     "name": "stderr",
     "output_type": "stream",
     "text": [
      " 56%|█████▌    | 5601/10000 [30:45<4:01:21,  3.29s/it]"
     ]
    },
    {
     "name": "stdout",
     "output_type": "stream",
     "text": [
      "\n",
      "\n",
      "POMPEY:\n",
      "No, sir; yea, my gravity, a rlogs and ha's:\n",
      "I have learn'd these eyes of men, with a virtue.\n",
      "That, hadst thou not on this world but rich, and pardon\n",
      "me.\n",
      "\n",
      "CLEOMENES:\n",
      "You see, she but pray.\n",
      "\n",
      "LUCIO:\n",
      "Enough, fair confinency; speak no more; what I have said\n",
      "I will avoid your place.\n",
      "\n",
      "CORIOLANUS:\n",
      "Stay? what then?\n",
      "\n",
      "CORIOLANUS:\n",
      "Should they be so done. For myself, I pray thee,\n",
      "And take my body than mine.\n",
      "\n",
      "MARCIUS:\n",
      "See them deliver them that I mean:\n",
      "The sun, did my father; not at last\n",
      "You will such a who:\n",
      "What will you shall help there art thou, Angelo?\n",
      "For here we bring them to part them on.\n",
      "\n",
      "LADY ANNE:\n",
      "Set day, their helps on his neck but fills:\n",
      "Well but to make the earth make me kindness.\n",
      "Come, Excels, this argues consorted crew;\n",
      "But Romeo may with joy at Friard followed in\n",
      "Her fruit-trees all men, and kind of came attempt\n",
      "Of wound the best of no well-grace we stand here\n",
      "And make poor England we stood to woe:\n",
      "We seek our good counsel: go with me;\n",
      "I must be present at vice our love\n",
      "Till\n",
      "Step 5600, train loss:0.1065, test loss:4.7466\n"
     ]
    },
    {
     "name": "stderr",
     "output_type": "stream",
     "text": [
      " 56%|█████▌    | 5611/10000 [30:48<36:44,  1.99it/s]"
     ]
    },
    {
     "name": "stdout",
     "output_type": "stream",
     "text": [
      "Step 5610, train loss:0.1045, test loss:4.7270\n"
     ]
    },
    {
     "name": "stderr",
     "output_type": "stream",
     "text": [
      " 56%|█████▌    | 5621/10000 [30:50<30:55,  2.36it/s]"
     ]
    },
    {
     "name": "stdout",
     "output_type": "stream",
     "text": [
      "Step 5620, train loss:0.1066, test loss:4.8387\n"
     ]
    },
    {
     "name": "stderr",
     "output_type": "stream",
     "text": [
      " 56%|█████▋    | 5631/10000 [30:53<30:48,  2.36it/s]"
     ]
    },
    {
     "name": "stdout",
     "output_type": "stream",
     "text": [
      "Step 5630, train loss:0.1063, test loss:4.8605\n"
     ]
    },
    {
     "name": "stderr",
     "output_type": "stream",
     "text": [
      " 56%|█████▋    | 5641/10000 [30:55<31:07,  2.33it/s]"
     ]
    },
    {
     "name": "stdout",
     "output_type": "stream",
     "text": [
      "Step 5640, train loss:0.1068, test loss:4.8207\n"
     ]
    },
    {
     "name": "stderr",
     "output_type": "stream",
     "text": [
      " 57%|█████▋    | 5651/10000 [30:57<31:26,  2.31it/s]"
     ]
    },
    {
     "name": "stdout",
     "output_type": "stream",
     "text": [
      "Step 5650, train loss:0.1043, test loss:4.7999\n"
     ]
    },
    {
     "name": "stderr",
     "output_type": "stream",
     "text": [
      " 57%|█████▋    | 5661/10000 [31:00<31:38,  2.29it/s]"
     ]
    },
    {
     "name": "stdout",
     "output_type": "stream",
     "text": [
      "Step 5660, train loss:0.1043, test loss:4.8336\n"
     ]
    },
    {
     "name": "stderr",
     "output_type": "stream",
     "text": [
      " 57%|█████▋    | 5671/10000 [31:02<30:37,  2.36it/s]"
     ]
    },
    {
     "name": "stdout",
     "output_type": "stream",
     "text": [
      "Step 5670, train loss:0.1046, test loss:4.7826\n"
     ]
    },
    {
     "name": "stderr",
     "output_type": "stream",
     "text": [
      " 57%|█████▋    | 5681/10000 [31:04<30:18,  2.38it/s]"
     ]
    },
    {
     "name": "stdout",
     "output_type": "stream",
     "text": [
      "Step 5680, train loss:0.1042, test loss:4.7650\n"
     ]
    },
    {
     "name": "stderr",
     "output_type": "stream",
     "text": [
      " 57%|█████▋    | 5691/10000 [31:07<30:21,  2.37it/s]"
     ]
    },
    {
     "name": "stdout",
     "output_type": "stream",
     "text": [
      "Step 5690, train loss:0.1041, test loss:4.8087\n"
     ]
    },
    {
     "name": "stderr",
     "output_type": "stream",
     "text": [
      " 57%|█████▋    | 5700/10000 [31:08<11:10,  6.41it/s]"
     ]
    },
    {
     "name": "stdout",
     "output_type": "stream",
     "text": [
      "Step 5700, train loss:0.1036, test loss:4.8815\n"
     ]
    },
    {
     "name": "stderr",
     "output_type": "stream",
     "text": [
      " 57%|█████▋    | 5701/10000 [31:18<3:49:53,  3.21s/it]"
     ]
    },
    {
     "name": "stdout",
     "output_type": "stream",
     "text": [
      "\n",
      "\n",
      "BRUTUS:\n",
      "Insolent villain!\n",
      "\n",
      "All Consporators:\n",
      "The devil and tell those friends I have done,\n",
      "Have we mow'd down, in some of his heart to do;\n",
      "I will not call a little more to come abroad:\n",
      "Let me see for't.\n",
      "\n",
      "DUKE VINCENTIO:\n",
      "No more evasion:\n",
      "We cannot wed her for the tales of the people,\n",
      "bongeto and Florizy you of yourself; you have left\n",
      "your voices, and save your arms.\n",
      "\n",
      "MARCIUS:\n",
      "Do they go fall upon the way?\n",
      "\n",
      "LARTIUS:\n",
      "On's little but unenalliance!\n",
      "The sun of curden rages to the soul of Richard\n",
      "Than can the substance of ten thousand soldiers\n",
      "Armed in proof, and leaves false eyes\n",
      "Of pity, not revenge!\n",
      "\n",
      "Officer:\n",
      "You here shall swear upon this sword of justice,\n",
      "That you, Cleomenes and Dion, have\n",
      "Been both at Delphos, and from thence have brought\n",
      "The seal'd-up oracle, by the hand deliver'd\n",
      "Of great Apollo's priest; and that, since then,\n",
      "You have not dared to break the former land;\n",
      "Meantime, have patienced, stand alone;\n",
      "For that I was about to kept that call.\n",
      "\n",
      "FRIAR LAURENCE:\n",
      "Arise; one knocks; \n",
      "Step 5700, train loss:0.1039, test loss:4.8203\n"
     ]
    },
    {
     "name": "stderr",
     "output_type": "stream",
     "text": [
      " 57%|█████▋    | 5711/10000 [31:21<35:33,  2.01it/s]"
     ]
    },
    {
     "name": "stdout",
     "output_type": "stream",
     "text": [
      "Step 5710, train loss:0.1070, test loss:4.8903\n"
     ]
    },
    {
     "name": "stderr",
     "output_type": "stream",
     "text": [
      " 57%|█████▋    | 5721/10000 [31:23<30:17,  2.35it/s]"
     ]
    },
    {
     "name": "stdout",
     "output_type": "stream",
     "text": [
      "Step 5720, train loss:0.1045, test loss:4.8649\n"
     ]
    },
    {
     "name": "stderr",
     "output_type": "stream",
     "text": [
      " 57%|█████▋    | 5731/10000 [31:26<30:01,  2.37it/s]"
     ]
    },
    {
     "name": "stdout",
     "output_type": "stream",
     "text": [
      "Step 5730, train loss:0.1044, test loss:4.8117\n"
     ]
    },
    {
     "name": "stderr",
     "output_type": "stream",
     "text": [
      " 57%|█████▋    | 5741/10000 [31:28<30:03,  2.36it/s]"
     ]
    },
    {
     "name": "stdout",
     "output_type": "stream",
     "text": [
      "Step 5740, train loss:0.1034, test loss:4.7995\n"
     ]
    },
    {
     "name": "stderr",
     "output_type": "stream",
     "text": [
      " 58%|█████▊    | 5751/10000 [31:30<31:00,  2.28it/s]"
     ]
    },
    {
     "name": "stdout",
     "output_type": "stream",
     "text": [
      "Step 5750, train loss:0.1053, test loss:4.8659\n"
     ]
    },
    {
     "name": "stderr",
     "output_type": "stream",
     "text": [
      " 58%|█████▊    | 5761/10000 [31:33<31:21,  2.25it/s]"
     ]
    },
    {
     "name": "stdout",
     "output_type": "stream",
     "text": [
      "Step 5760, train loss:0.1058, test loss:4.7495\n"
     ]
    },
    {
     "name": "stderr",
     "output_type": "stream",
     "text": [
      " 58%|█████▊    | 5771/10000 [31:35<30:11,  2.33it/s]"
     ]
    },
    {
     "name": "stdout",
     "output_type": "stream",
     "text": [
      "Step 5770, train loss:0.1051, test loss:4.8822\n"
     ]
    },
    {
     "name": "stderr",
     "output_type": "stream",
     "text": [
      " 58%|█████▊    | 5781/10000 [31:38<29:36,  2.38it/s]"
     ]
    },
    {
     "name": "stdout",
     "output_type": "stream",
     "text": [
      "Step 5780, train loss:0.1040, test loss:4.8097\n"
     ]
    },
    {
     "name": "stderr",
     "output_type": "stream",
     "text": [
      " 58%|█████▊    | 5791/10000 [31:40<29:27,  2.38it/s]"
     ]
    },
    {
     "name": "stdout",
     "output_type": "stream",
     "text": [
      "Step 5790, train loss:0.1044, test loss:4.8308\n"
     ]
    },
    {
     "name": "stderr",
     "output_type": "stream",
     "text": [
      " 58%|█████▊    | 5800/10000 [31:41<10:53,  6.42it/s]"
     ]
    },
    {
     "name": "stdout",
     "output_type": "stream",
     "text": [
      "Step 5800, train loss:0.1055, test loss:4.7901\n"
     ]
    },
    {
     "name": "stderr",
     "output_type": "stream",
     "text": [
      " 58%|█████▊    | 5801/10000 [31:52<3:47:31,  3.25s/it]"
     ]
    },
    {
     "name": "stdout",
     "output_type": "stream",
     "text": [
      "\n",
      "\n",
      "CATESBY:\n",
      "My lord!\n",
      "\n",
      "KING RICHARD III:\n",
      "'Zounds! who is there?\n",
      "\n",
      "RATCLIFF:\n",
      "Ratcliff, my lord.\n",
      "\n",
      "KING RICHARD III:\n",
      "Then have I in a body princely sight;\n",
      "But no more of those that have touch'd his wife:\n",
      "Now I might they stay at their good in his\n",
      "Thou wast but bad: so near that fears to replant,\n",
      "I'll try how you set them as they last\n",
      "That best cause to feel I'll promise thee she\n",
      "To hear from thee by the lists of all advice\n",
      "My strength can give you: then no more remains;\n",
      "But that to your father's blood to live your life\n",
      "Of stoutling the mortal body\n",
      "This noble lord?\n",
      "\n",
      "PERDITA:\n",
      "I am gone for.\n",
      "\n",
      "POMPEY:\n",
      "Twenty septs.\n",
      "\n",
      "LEONTES:\n",
      "Where's Bohemia? speak.\n",
      "\n",
      "Lord:\n",
      "Here in your city; I now came from him:\n",
      "I speak amazedly; and it becomes\n",
      "My marvel and my message. To your court\n",
      "Whiles he was hastening, in the chase, it seems,\n",
      "Of this fair couple, meets he on the way\n",
      "The father of traitors will revell in secret\n",
      "Three circles with her weapones. What's the\n",
      "duke, her in the point.\n",
      "\n",
      "GREY:\n",
      "In this your wardener, fo\n",
      "Step 5800, train loss:0.1052, test loss:4.8442\n"
     ]
    },
    {
     "name": "stderr",
     "output_type": "stream",
     "text": [
      " 58%|█████▊    | 5811/10000 [31:54<34:55,  2.00it/s]"
     ]
    },
    {
     "name": "stdout",
     "output_type": "stream",
     "text": [
      "Step 5810, train loss:0.1059, test loss:4.8058\n"
     ]
    },
    {
     "name": "stderr",
     "output_type": "stream",
     "text": [
      " 58%|█████▊    | 5821/10000 [31:56<29:27,  2.36it/s]"
     ]
    },
    {
     "name": "stdout",
     "output_type": "stream",
     "text": [
      "Step 5820, train loss:0.1056, test loss:4.8912\n"
     ]
    },
    {
     "name": "stderr",
     "output_type": "stream",
     "text": [
      " 58%|█████▊    | 5831/10000 [31:59<29:21,  2.37it/s]"
     ]
    },
    {
     "name": "stdout",
     "output_type": "stream",
     "text": [
      "Step 5830, train loss:0.1048, test loss:4.8384\n"
     ]
    },
    {
     "name": "stderr",
     "output_type": "stream",
     "text": [
      " 58%|█████▊    | 5841/10000 [32:01<29:22,  2.36it/s]"
     ]
    },
    {
     "name": "stdout",
     "output_type": "stream",
     "text": [
      "Step 5840, train loss:0.1038, test loss:4.7607\n"
     ]
    },
    {
     "name": "stderr",
     "output_type": "stream",
     "text": [
      " 59%|█████▊    | 5851/10000 [32:03<30:33,  2.26it/s]"
     ]
    },
    {
     "name": "stdout",
     "output_type": "stream",
     "text": [
      "Step 5850, train loss:0.1038, test loss:4.7840\n"
     ]
    },
    {
     "name": "stderr",
     "output_type": "stream",
     "text": [
      " 59%|█████▊    | 5861/10000 [32:06<30:15,  2.28it/s]"
     ]
    },
    {
     "name": "stdout",
     "output_type": "stream",
     "text": [
      "Step 5860, train loss:0.1027, test loss:4.7809\n"
     ]
    },
    {
     "name": "stderr",
     "output_type": "stream",
     "text": [
      " 59%|█████▊    | 5871/10000 [32:08<29:53,  2.30it/s]"
     ]
    },
    {
     "name": "stdout",
     "output_type": "stream",
     "text": [
      "Step 5870, train loss:0.1031, test loss:4.8226\n"
     ]
    },
    {
     "name": "stderr",
     "output_type": "stream",
     "text": [
      " 59%|█████▉    | 5881/10000 [32:11<29:01,  2.37it/s]"
     ]
    },
    {
     "name": "stdout",
     "output_type": "stream",
     "text": [
      "Step 5880, train loss:0.1027, test loss:4.7661\n"
     ]
    },
    {
     "name": "stderr",
     "output_type": "stream",
     "text": [
      " 59%|█████▉    | 5891/10000 [32:13<28:59,  2.36it/s]"
     ]
    },
    {
     "name": "stdout",
     "output_type": "stream",
     "text": [
      "Step 5890, train loss:0.1064, test loss:4.8145\n"
     ]
    },
    {
     "name": "stderr",
     "output_type": "stream",
     "text": [
      " 59%|█████▉    | 5900/10000 [32:14<10:45,  6.36it/s]"
     ]
    },
    {
     "name": "stdout",
     "output_type": "stream",
     "text": [
      "Step 5900, train loss:0.1027, test loss:4.8515\n"
     ]
    },
    {
     "name": "stderr",
     "output_type": "stream",
     "text": [
      " 59%|█████▉    | 5901/10000 [32:25<3:40:25,  3.23s/it]"
     ]
    },
    {
     "name": "stdout",
     "output_type": "stream",
     "text": [
      "\n",
      "\n",
      "Nurse:\n",
      "Your care is this with at Talbard.\n",
      "\n",
      "Provost:\n",
      "\n",
      "DUKE VINCENTIO:\n",
      " it to deserve; and we hear it, my repent from laws\n",
      "Is this the alliance to the Duke of Gloucester?\n",
      "\n",
      "PaterBO:\n",
      "And if you be his name, I know not what.\n",
      "\n",
      "DUKE VINCENTIO:\n",
      "Left her in her tears, and dried not one of them\n",
      "with his comfort; swallowed his vows whole,\n",
      "pretending in her discoveries of dissolved:\n",
      "So she may long live; no sorrow hath made known\n",
      "fellows in Ireland.\n",
      "\n",
      "LUCIO:\n",
      "This is the point.\n",
      "\n",
      "ISABELLA:\n",
      "O, let her in, a serious tongue of his majesty.\n",
      "\n",
      "LUCIO:\n",
      "What a scone with the very bier it again!\n",
      "\n",
      "ESCALUS:\n",
      "What for our virgine? have assemble to see Romans?\n",
      "\n",
      "First Citizen:\n",
      "He has our voices, sir.\n",
      "\n",
      "BRUTUS:\n",
      "Go not home from the game was named for they:\n",
      "The gods be good to us and faithful is their man.\n",
      "\n",
      "MENENIUS:\n",
      "Masters of the news, who hath look'd upon't:\n",
      "When would he had none else by the cheeks o' the rap\n",
      "And give it you soundly.\n",
      "\n",
      "VIRGILIA:\n",
      "O, son! why, then you should discover a bitter deposed\n",
      "heir like succes\n",
      "Step 5900, train loss:0.1049, test loss:4.7702\n"
     ]
    },
    {
     "name": "stderr",
     "output_type": "stream",
     "text": [
      " 59%|█████▉    | 5911/10000 [32:27<34:08,  2.00it/s]"
     ]
    },
    {
     "name": "stdout",
     "output_type": "stream",
     "text": [
      "Step 5910, train loss:0.1087, test loss:4.8165\n"
     ]
    },
    {
     "name": "stderr",
     "output_type": "stream",
     "text": [
      " 59%|█████▉    | 5921/10000 [32:29<28:38,  2.37it/s]"
     ]
    },
    {
     "name": "stdout",
     "output_type": "stream",
     "text": [
      "Step 5920, train loss:0.1049, test loss:4.8066\n"
     ]
    },
    {
     "name": "stderr",
     "output_type": "stream",
     "text": [
      " 59%|█████▉    | 5931/10000 [32:32<28:30,  2.38it/s]"
     ]
    },
    {
     "name": "stdout",
     "output_type": "stream",
     "text": [
      "Step 5930, train loss:0.1047, test loss:4.7997\n"
     ]
    },
    {
     "name": "stderr",
     "output_type": "stream",
     "text": [
      " 59%|█████▉    | 5941/10000 [32:34<28:29,  2.37it/s]"
     ]
    },
    {
     "name": "stdout",
     "output_type": "stream",
     "text": [
      "Step 5940, train loss:0.1029, test loss:4.7716\n"
     ]
    },
    {
     "name": "stderr",
     "output_type": "stream",
     "text": [
      " 60%|█████▉    | 5951/10000 [32:37<29:29,  2.29it/s]"
     ]
    },
    {
     "name": "stdout",
     "output_type": "stream",
     "text": [
      "Step 5950, train loss:0.1045, test loss:4.8336\n"
     ]
    },
    {
     "name": "stderr",
     "output_type": "stream",
     "text": [
      " 60%|█████▉    | 5961/10000 [32:39<29:29,  2.28it/s]"
     ]
    },
    {
     "name": "stdout",
     "output_type": "stream",
     "text": [
      "Step 5960, train loss:0.1022, test loss:4.8327\n"
     ]
    },
    {
     "name": "stderr",
     "output_type": "stream",
     "text": [
      " 60%|█████▉    | 5971/10000 [32:41<29:03,  2.31it/s]"
     ]
    },
    {
     "name": "stdout",
     "output_type": "stream",
     "text": [
      "Step 5970, train loss:0.1045, test loss:4.8038\n"
     ]
    },
    {
     "name": "stderr",
     "output_type": "stream",
     "text": [
      " 60%|█████▉    | 5981/10000 [32:44<28:14,  2.37it/s]"
     ]
    },
    {
     "name": "stdout",
     "output_type": "stream",
     "text": [
      "Step 5980, train loss:0.1039, test loss:4.8385\n"
     ]
    },
    {
     "name": "stderr",
     "output_type": "stream",
     "text": [
      " 60%|█████▉    | 5991/10000 [32:46<28:18,  2.36it/s]"
     ]
    },
    {
     "name": "stdout",
     "output_type": "stream",
     "text": [
      "Step 5990, train loss:0.1038, test loss:4.8474\n"
     ]
    },
    {
     "name": "stderr",
     "output_type": "stream",
     "text": [
      " 60%|██████    | 6000/10000 [32:47<10:33,  6.31it/s]"
     ]
    },
    {
     "name": "stdout",
     "output_type": "stream",
     "text": [
      "Step 6000, train loss:0.1056, test loss:4.8377\n"
     ]
    },
    {
     "name": "stderr",
     "output_type": "stream",
     "text": [
      " 60%|██████    | 6001/10000 [32:58<3:33:13,  3.20s/it]"
     ]
    },
    {
     "name": "stdout",
     "output_type": "stream",
     "text": [
      "\n",
      "\n",
      "PARIS:\n",
      "Sweet flower, with flowers thy bridal bed I strew,--\n",
      "O woe! thy canopy is dust and stones;--\n",
      "Which with sweet water nightly I will dew,\n",
      "Or, wanting that, with tears distill'd by moans:\n",
      "The obsequies that I for thee will keep\n",
      "Nightly shall be shorten'd in the Tower.\n",
      "\n",
      "GLOUCESTER:\n",
      "Ay, by my faith, for hearts do nothing but\n",
      "shall say I drown your exclamations.\n",
      "\n",
      "DUCHESS OF YORK:\n",
      "Aummers my liege, my wife is dead to-night;\n",
      "Grief of my son's exile hath Romeo's sounded;\n",
      "Who for the belly shall do attend on thee,\n",
      "Each one that hath spokented hours more coated\n",
      "By false accusation; he must not\n",
      "At all confessed you.\n",
      "\n",
      "BRUTUS:\n",
      "Come, we'll know you well.\n",
      "\n",
      "BRUTUS:\n",
      "The audiened be prevented.\n",
      "\n",
      "BRUTUS:\n",
      "Get you out perceive, the soul with slain.\n",
      "\n",
      "Second Citizen:\n",
      "An 'twere to give again,--but 'tis no matter.\n",
      "\n",
      "CORIOLANUS:\n",
      "Peace, peace, I had call thee battle;\n",
      "Say, hast thou sounded him, nor hand, and ne'er been sick.\n",
      "\n",
      "LADY GREY:\n",
      "Ay, full as eat, draw you that country's rear?\n",
      "\n",
      "CLARENCE:\n",
      "Base me to thi\n",
      "Step 6000, train loss:0.1024, test loss:4.7925\n"
     ]
    },
    {
     "name": "stderr",
     "output_type": "stream",
     "text": [
      " 60%|██████    | 6011/10000 [33:00<33:06,  2.01it/s]"
     ]
    },
    {
     "name": "stdout",
     "output_type": "stream",
     "text": [
      "Step 6010, train loss:0.1048, test loss:4.8061\n"
     ]
    },
    {
     "name": "stderr",
     "output_type": "stream",
     "text": [
      " 60%|██████    | 6021/10000 [33:02<28:20,  2.34it/s]"
     ]
    },
    {
     "name": "stdout",
     "output_type": "stream",
     "text": [
      "Step 6020, train loss:0.1019, test loss:4.8133\n"
     ]
    },
    {
     "name": "stderr",
     "output_type": "stream",
     "text": [
      " 60%|██████    | 6031/10000 [33:05<27:53,  2.37it/s]"
     ]
    },
    {
     "name": "stdout",
     "output_type": "stream",
     "text": [
      "Step 6030, train loss:0.1034, test loss:4.8639\n"
     ]
    },
    {
     "name": "stderr",
     "output_type": "stream",
     "text": [
      " 60%|██████    | 6041/10000 [33:07<27:47,  2.37it/s]"
     ]
    },
    {
     "name": "stdout",
     "output_type": "stream",
     "text": [
      "Step 6040, train loss:0.1035, test loss:4.8010\n"
     ]
    },
    {
     "name": "stderr",
     "output_type": "stream",
     "text": [
      " 61%|██████    | 6051/10000 [33:10<28:32,  2.31it/s]"
     ]
    },
    {
     "name": "stdout",
     "output_type": "stream",
     "text": [
      "Step 6050, train loss:0.1032, test loss:4.8016\n"
     ]
    },
    {
     "name": "stderr",
     "output_type": "stream",
     "text": [
      " 61%|██████    | 6061/10000 [33:12<29:00,  2.26it/s]"
     ]
    },
    {
     "name": "stdout",
     "output_type": "stream",
     "text": [
      "Step 6060, train loss:0.1040, test loss:4.8674\n"
     ]
    },
    {
     "name": "stderr",
     "output_type": "stream",
     "text": [
      " 61%|██████    | 6071/10000 [33:14<28:15,  2.32it/s]"
     ]
    },
    {
     "name": "stdout",
     "output_type": "stream",
     "text": [
      "Step 6070, train loss:0.1054, test loss:4.7644\n"
     ]
    },
    {
     "name": "stderr",
     "output_type": "stream",
     "text": [
      " 61%|██████    | 6081/10000 [33:17<27:40,  2.36it/s]"
     ]
    },
    {
     "name": "stdout",
     "output_type": "stream",
     "text": [
      "Step 6080, train loss:0.1016, test loss:4.7948\n"
     ]
    },
    {
     "name": "stderr",
     "output_type": "stream",
     "text": [
      " 61%|██████    | 6091/10000 [33:19<27:39,  2.36it/s]"
     ]
    },
    {
     "name": "stdout",
     "output_type": "stream",
     "text": [
      "Step 6090, train loss:0.1028, test loss:4.8560\n"
     ]
    },
    {
     "name": "stderr",
     "output_type": "stream",
     "text": [
      " 61%|██████    | 6100/10000 [33:20<10:09,  6.40it/s]"
     ]
    },
    {
     "name": "stdout",
     "output_type": "stream",
     "text": [
      "Step 6100, train loss:0.1030, test loss:4.8263\n"
     ]
    },
    {
     "name": "stderr",
     "output_type": "stream",
     "text": [
      " 61%|██████    | 6101/10000 [33:31<3:24:06,  3.14s/it]"
     ]
    },
    {
     "name": "stdout",
     "output_type": "stream",
     "text": [
      "\n",
      "\n",
      "PAULINA:\n",
      "I'll do't, my lord.\n",
      "\n",
      "LEONTES:\n",
      "I will seem friendly, as thou hast advised me.\n",
      "\n",
      "CAMILLO:\n",
      "O miserable lady! But, for me,\n",
      "What case stand I in? I must not speak.\n",
      "You, tribunes are thou afflicted to any thing\n",
      "That none but full of a kerd! O, that might we do request\n",
      "My friend to the queen?\n",
      "\n",
      "First Gentleman:\n",
      "I was our bearing water out of the gracious duke.\n",
      "\n",
      "Second day:\n",
      "The daughter love I have a heavenly conceived,\n",
      "And we are glad to chide up this afternoon:\n",
      "And light it was the silver doth store of the news:\n",
      "Do, I rm fortune Duke of Hereford, Raint George:\n",
      "Be ready, a scharged man, thou talk'st of kings,\n",
      "Fellow's twong to stand and encounter you.\n",
      "\n",
      "FROTH:\n",
      "I thank not that which it were Marcius\n",
      "Wears have not yet still my son court'sy to him.\n",
      "\n",
      "BUCKINGHAM:\n",
      "My lord, your promise for this noble father!\n",
      "Let me with your good words went with her name,\n",
      "Being the infirmity to more affords\n",
      "Than scarce the sweet infant breath of gentle sleep;\n",
      "Which so roused up with boisterous untuned drums,\n",
      "Step 6100, train loss:0.1007, test loss:4.8226\n"
     ]
    },
    {
     "name": "stderr",
     "output_type": "stream",
     "text": [
      " 61%|██████    | 6111/10000 [33:33<32:36,  1.99it/s]"
     ]
    },
    {
     "name": "stdout",
     "output_type": "stream",
     "text": [
      "Step 6110, train loss:0.1012, test loss:4.8448\n"
     ]
    },
    {
     "name": "stderr",
     "output_type": "stream",
     "text": [
      " 61%|██████    | 6121/10000 [33:35<27:25,  2.36it/s]"
     ]
    },
    {
     "name": "stdout",
     "output_type": "stream",
     "text": [
      "Step 6120, train loss:0.1027, test loss:4.8403\n"
     ]
    },
    {
     "name": "stderr",
     "output_type": "stream",
     "text": [
      " 61%|██████▏   | 6131/10000 [33:38<27:12,  2.37it/s]"
     ]
    },
    {
     "name": "stdout",
     "output_type": "stream",
     "text": [
      "Step 6130, train loss:0.1006, test loss:4.8043\n"
     ]
    },
    {
     "name": "stderr",
     "output_type": "stream",
     "text": [
      " 61%|██████▏   | 6141/10000 [33:40<27:08,  2.37it/s]"
     ]
    },
    {
     "name": "stdout",
     "output_type": "stream",
     "text": [
      "Step 6140, train loss:0.1018, test loss:4.9020\n"
     ]
    },
    {
     "name": "stderr",
     "output_type": "stream",
     "text": [
      " 62%|██████▏   | 6151/10000 [33:42<27:25,  2.34it/s]"
     ]
    },
    {
     "name": "stdout",
     "output_type": "stream",
     "text": [
      "Step 6150, train loss:0.1019, test loss:4.8546\n"
     ]
    },
    {
     "name": "stderr",
     "output_type": "stream",
     "text": [
      " 62%|██████▏   | 6161/10000 [33:45<27:53,  2.29it/s]"
     ]
    },
    {
     "name": "stdout",
     "output_type": "stream",
     "text": [
      "Step 6160, train loss:0.1025, test loss:4.8332\n"
     ]
    },
    {
     "name": "stderr",
     "output_type": "stream",
     "text": [
      " 62%|██████▏   | 6171/10000 [33:47<27:41,  2.30it/s]"
     ]
    },
    {
     "name": "stdout",
     "output_type": "stream",
     "text": [
      "Step 6170, train loss:0.1038, test loss:4.8017\n"
     ]
    },
    {
     "name": "stderr",
     "output_type": "stream",
     "text": [
      " 62%|██████▏   | 6181/10000 [33:50<27:39,  2.30it/s]"
     ]
    },
    {
     "name": "stdout",
     "output_type": "stream",
     "text": [
      "Step 6180, train loss:0.1037, test loss:4.8445\n"
     ]
    },
    {
     "name": "stderr",
     "output_type": "stream",
     "text": [
      " 62%|██████▏   | 6191/10000 [33:52<26:49,  2.37it/s]"
     ]
    },
    {
     "name": "stdout",
     "output_type": "stream",
     "text": [
      "Step 6190, train loss:0.1024, test loss:4.8848\n"
     ]
    },
    {
     "name": "stderr",
     "output_type": "stream",
     "text": [
      " 62%|██████▏   | 6200/10000 [33:53<09:55,  6.38it/s]"
     ]
    },
    {
     "name": "stdout",
     "output_type": "stream",
     "text": [
      "Step 6200, train loss:0.1007, test loss:4.9388\n"
     ]
    },
    {
     "name": "stderr",
     "output_type": "stream",
     "text": [
      " 62%|██████▏   | 6201/10000 [34:03<3:13:10,  3.05s/it]"
     ]
    },
    {
     "name": "stdout",
     "output_type": "stream",
     "text": [
      "\n",
      "\n",
      "LEONTES:\n",
      "Let be, let be.\n",
      "Would I were dead, but that, methinks, although I be reled,\n",
      "He's one first burks it will net again\n",
      "With our own defence. I speak to that,\n",
      "Some prince your son, the mighty Welshmen,\n",
      "Or die our state take one that me alone;\n",
      "I'll grace the traitor in the Sepresage\n",
      "More than Alcidean that where is the father's peace\n",
      "Which takes me fool, in took and cannot get him\n",
      "Misgare come to her and thunder;\n",
      "More holds Tybalt backs.\n",
      "\n",
      "SICINIUS:\n",
      "On the sudden,\n",
      "I warrant him consul.\n",
      "\n",
      "BRUTUS:\n",
      "Then our office may,\n",
      "During his power, go sleep.\n",
      "\n",
      "SICINIUS:\n",
      "He cannot temperately transport his honours\n",
      "From where he should begin and end, but will\n",
      "Which he could gnar at this hand off himself\n",
      "To help him to his father's son,\n",
      "Being open his something gentle over,\n",
      "And the model of the city minds of life,\n",
      "May drop your accuse from her lips, O her fortune,\n",
      "Fall to thy bare, to me again of baseroop\n",
      "To answer 'twixt their cares being three qualities\n",
      "Which did threat that I was not it in the world;\n",
      "Step 6200, train loss:0.1018, test loss:4.8887\n"
     ]
    },
    {
     "name": "stderr",
     "output_type": "stream",
     "text": [
      " 62%|██████▏   | 6211/10000 [34:06<32:20,  1.95it/s]"
     ]
    },
    {
     "name": "stdout",
     "output_type": "stream",
     "text": [
      "Step 6210, train loss:0.1038, test loss:4.9148\n"
     ]
    },
    {
     "name": "stderr",
     "output_type": "stream",
     "text": [
      " 62%|██████▏   | 6221/10000 [34:08<26:45,  2.35it/s]"
     ]
    },
    {
     "name": "stdout",
     "output_type": "stream",
     "text": [
      "Step 6220, train loss:0.1008, test loss:4.8538\n"
     ]
    },
    {
     "name": "stderr",
     "output_type": "stream",
     "text": [
      " 62%|██████▏   | 6231/10000 [34:10<26:42,  2.35it/s]"
     ]
    },
    {
     "name": "stdout",
     "output_type": "stream",
     "text": [
      "Step 6230, train loss:0.1017, test loss:4.9254\n"
     ]
    },
    {
     "name": "stderr",
     "output_type": "stream",
     "text": [
      " 62%|██████▏   | 6241/10000 [34:13<26:35,  2.36it/s]"
     ]
    },
    {
     "name": "stdout",
     "output_type": "stream",
     "text": [
      "Step 6240, train loss:0.1010, test loss:4.8948\n"
     ]
    },
    {
     "name": "stderr",
     "output_type": "stream",
     "text": [
      " 63%|██████▎   | 6251/10000 [34:15<26:20,  2.37it/s]"
     ]
    },
    {
     "name": "stdout",
     "output_type": "stream",
     "text": [
      "Step 6250, train loss:0.1016, test loss:4.8761\n"
     ]
    },
    {
     "name": "stderr",
     "output_type": "stream",
     "text": [
      " 63%|██████▎   | 6261/10000 [34:17<27:12,  2.29it/s]"
     ]
    },
    {
     "name": "stdout",
     "output_type": "stream",
     "text": [
      "Step 6260, train loss:0.1003, test loss:4.8252\n"
     ]
    },
    {
     "name": "stderr",
     "output_type": "stream",
     "text": [
      " 63%|██████▎   | 6271/10000 [34:20<27:13,  2.28it/s]"
     ]
    },
    {
     "name": "stdout",
     "output_type": "stream",
     "text": [
      "Step 6270, train loss:0.1018, test loss:4.8957\n"
     ]
    },
    {
     "name": "stderr",
     "output_type": "stream",
     "text": [
      " 63%|██████▎   | 6281/10000 [34:22<26:55,  2.30it/s]"
     ]
    },
    {
     "name": "stdout",
     "output_type": "stream",
     "text": [
      "Step 6280, train loss:0.1024, test loss:4.8392\n"
     ]
    },
    {
     "name": "stderr",
     "output_type": "stream",
     "text": [
      " 63%|██████▎   | 6291/10000 [34:25<26:05,  2.37it/s]"
     ]
    },
    {
     "name": "stdout",
     "output_type": "stream",
     "text": [
      "Step 6290, train loss:0.0991, test loss:4.8980\n"
     ]
    },
    {
     "name": "stderr",
     "output_type": "stream",
     "text": [
      " 63%|██████▎   | 6300/10000 [34:26<09:35,  6.43it/s]"
     ]
    },
    {
     "name": "stdout",
     "output_type": "stream",
     "text": [
      "Step 6300, train loss:0.1030, test loss:4.9053\n"
     ]
    },
    {
     "name": "stderr",
     "output_type": "stream",
     "text": [
      " 63%|██████▎   | 6301/10000 [34:36<3:04:14,  2.99s/it]"
     ]
    },
    {
     "name": "stdout",
     "output_type": "stream",
     "text": [
      "\n",
      "\n",
      "LUCIO:\n",
      "Lechery?\n",
      "\n",
      "CLAUDIO:\n",
      "Call it so.\n",
      "\n",
      "Provost:\n",
      "Away, sir! you must go.\n",
      "\n",
      "CLAUDIO:\n",
      "One word, good friend. Lucio, a word with you.\n",
      "\n",
      "LUCIO:\n",
      "A hundred, if they'll do you any good.\n",
      "Is lechery so look'd after?\n",
      "\n",
      "CLAUDIO:\n",
      "Thus stands it with me: upon a true contract\n",
      "I got possession of Julietta's bed:\n",
      "You promised to interchang of the world\n",
      "Leave on your wars and fold him to the base-boding and\n",
      "The hazard of the main.\n",
      "\n",
      "EDWARD:\n",
      "No, I have not that, methinks, already--\n",
      "What was he that did make it? See, my lord,\n",
      "Would you not deem it breathed? and that those veins\n",
      "Did verily bear blood?\n",
      "\n",
      "POLIXENES:\n",
      "Masterly done:\n",
      "The very life seems warm upon her lip.\n",
      "\n",
      "LEONTES:\n",
      "The fixture of her eye has motion in't,\n",
      "As we are mock'd with are up, the sharp sindif'd\n",
      "The price of his sweet peace to a vow, he smalled\n",
      "And nay, what with his pencil, I blame your good\n",
      "York'd by the duty that you owe to God--\n",
      "Our part therein: is it like to st?\n",
      "\n",
      "LADY ANNE:\n",
      "Set down, the happy man is about o' but\n",
      "infusion; tell me, ever\n",
      "Step 6300, train loss:0.1023, test loss:4.8705\n"
     ]
    },
    {
     "name": "stderr",
     "output_type": "stream",
     "text": [
      " 63%|██████▎   | 6311/10000 [34:38<31:29,  1.95it/s]"
     ]
    },
    {
     "name": "stdout",
     "output_type": "stream",
     "text": [
      "Step 6310, train loss:0.1010, test loss:4.8773\n"
     ]
    },
    {
     "name": "stderr",
     "output_type": "stream",
     "text": [
      " 63%|██████▎   | 6321/10000 [34:40<26:13,  2.34it/s]"
     ]
    },
    {
     "name": "stdout",
     "output_type": "stream",
     "text": [
      "Step 6320, train loss:0.0999, test loss:4.9031\n"
     ]
    },
    {
     "name": "stderr",
     "output_type": "stream",
     "text": [
      " 63%|██████▎   | 6331/10000 [34:43<25:47,  2.37it/s]"
     ]
    },
    {
     "name": "stdout",
     "output_type": "stream",
     "text": [
      "Step 6330, train loss:0.1001, test loss:5.0121\n"
     ]
    },
    {
     "name": "stderr",
     "output_type": "stream",
     "text": [
      " 63%|██████▎   | 6341/10000 [34:45<25:37,  2.38it/s]"
     ]
    },
    {
     "name": "stdout",
     "output_type": "stream",
     "text": [
      "Step 6340, train loss:0.0999, test loss:4.9427\n"
     ]
    },
    {
     "name": "stderr",
     "output_type": "stream",
     "text": [
      " 64%|██████▎   | 6351/10000 [34:47<25:44,  2.36it/s]"
     ]
    },
    {
     "name": "stdout",
     "output_type": "stream",
     "text": [
      "Step 6350, train loss:0.1017, test loss:4.8606\n"
     ]
    },
    {
     "name": "stderr",
     "output_type": "stream",
     "text": [
      " 64%|██████▎   | 6361/10000 [34:50<26:04,  2.33it/s]"
     ]
    },
    {
     "name": "stdout",
     "output_type": "stream",
     "text": [
      "Step 6360, train loss:0.1010, test loss:4.8774\n"
     ]
    },
    {
     "name": "stderr",
     "output_type": "stream",
     "text": [
      " 64%|██████▎   | 6371/10000 [34:52<26:24,  2.29it/s]"
     ]
    },
    {
     "name": "stdout",
     "output_type": "stream",
     "text": [
      "Step 6370, train loss:0.1009, test loss:4.9481\n"
     ]
    },
    {
     "name": "stderr",
     "output_type": "stream",
     "text": [
      " 64%|██████▍   | 6381/10000 [34:55<26:24,  2.28it/s]"
     ]
    },
    {
     "name": "stdout",
     "output_type": "stream",
     "text": [
      "Step 6380, train loss:0.1026, test loss:4.8903\n"
     ]
    },
    {
     "name": "stderr",
     "output_type": "stream",
     "text": [
      " 64%|██████▍   | 6391/10000 [34:57<25:53,  2.32it/s]"
     ]
    },
    {
     "name": "stdout",
     "output_type": "stream",
     "text": [
      "Step 6390, train loss:0.1023, test loss:4.8444\n"
     ]
    },
    {
     "name": "stderr",
     "output_type": "stream",
     "text": [
      " 64%|██████▍   | 6400/10000 [34:58<09:28,  6.33it/s]"
     ]
    },
    {
     "name": "stdout",
     "output_type": "stream",
     "text": [
      "Step 6400, train loss:0.1004, test loss:4.8525\n"
     ]
    },
    {
     "name": "stderr",
     "output_type": "stream",
     "text": [
      " 64%|██████▍   | 6401/10000 [35:08<2:53:29,  2.89s/it]"
     ]
    },
    {
     "name": "stdout",
     "output_type": "stream",
     "text": [
      "\n",
      "\n",
      "Clown:\n",
      "Come on, strike up!\n",
      "\n",
      "DORCAS:\n",
      "Mopsa must be your mistress: marry, garlic,\n",
      "To mend her kissing with!\n",
      "\n",
      "MOPSA:\n",
      "Now, in good time!\n",
      "\n",
      "Clown:\n",
      "Not a word, a word; we stand upon our manners.\n",
      "Come, strike up!\n",
      "\n",
      "POLIXENES:\n",
      "Pray, good shepherd, what fair swain is this\n",
      "Which dances with your daughter?\n",
      "\n",
      "Shepherd:\n",
      "They call him Doricles; and boasts himself\n",
      "To have a worthy feeding: but I have it\n",
      "Upon his own report and I believe it;\n",
      "He looks like sooth. He says he loves himself:\n",
      "He did so manner for that he will go well.\n",
      "\n",
      "ANGELO:\n",
      "Jack your face, and y thing it you faels.\n",
      "\n",
      "ELBOW:\n",
      "Must it be there, here are not the duke it makes\n",
      "in't, lest the parties of his kind to come heavies,\n",
      "Which am a sense of that kind in his face,\n",
      "Nor in I enjoy'd the form of love, him so brief.\n",
      "\n",
      "Shepherd:\n",
      "My lord, the arm is the armour of the house.\n",
      "\n",
      "Second Keeper:\n",
      "Why, so he doth, both are not jeep the two far.\n",
      "\n",
      "GLOUCESTER:\n",
      "I know my son, where'er the charges of these struck,\n",
      "And thrived to a fair prisoner in his bed,\n",
      "An\n",
      "Step 6400, train loss:0.0992, test loss:4.9425\n"
     ]
    },
    {
     "name": "stderr",
     "output_type": "stream",
     "text": [
      " 64%|██████▍   | 6411/10000 [35:10<30:11,  1.98it/s]"
     ]
    },
    {
     "name": "stdout",
     "output_type": "stream",
     "text": [
      "Step 6410, train loss:0.1018, test loss:4.9703\n"
     ]
    },
    {
     "name": "stderr",
     "output_type": "stream",
     "text": [
      " 64%|██████▍   | 6421/10000 [35:13<25:54,  2.30it/s]"
     ]
    },
    {
     "name": "stdout",
     "output_type": "stream",
     "text": [
      "Step 6420, train loss:0.1014, test loss:4.9107\n"
     ]
    },
    {
     "name": "stderr",
     "output_type": "stream",
     "text": [
      " 64%|██████▍   | 6431/10000 [35:15<25:08,  2.37it/s]"
     ]
    },
    {
     "name": "stdout",
     "output_type": "stream",
     "text": [
      "Step 6430, train loss:0.1010, test loss:4.9675\n"
     ]
    },
    {
     "name": "stderr",
     "output_type": "stream",
     "text": [
      " 64%|██████▍   | 6441/10000 [35:17<25:03,  2.37it/s]"
     ]
    },
    {
     "name": "stdout",
     "output_type": "stream",
     "text": [
      "Step 6440, train loss:0.1014, test loss:4.9134\n"
     ]
    },
    {
     "name": "stderr",
     "output_type": "stream",
     "text": [
      " 65%|██████▍   | 6451/10000 [35:20<24:51,  2.38it/s]"
     ]
    },
    {
     "name": "stdout",
     "output_type": "stream",
     "text": [
      "Step 6450, train loss:0.1028, test loss:4.8526\n"
     ]
    },
    {
     "name": "stderr",
     "output_type": "stream",
     "text": [
      " 65%|██████▍   | 6461/10000 [35:22<24:54,  2.37it/s]"
     ]
    },
    {
     "name": "stdout",
     "output_type": "stream",
     "text": [
      "Step 6460, train loss:0.0985, test loss:4.9256\n"
     ]
    },
    {
     "name": "stderr",
     "output_type": "stream",
     "text": [
      " 65%|██████▍   | 6471/10000 [35:24<25:22,  2.32it/s]"
     ]
    },
    {
     "name": "stdout",
     "output_type": "stream",
     "text": [
      "Step 6470, train loss:0.1017, test loss:4.9240\n"
     ]
    },
    {
     "name": "stderr",
     "output_type": "stream",
     "text": [
      " 65%|██████▍   | 6481/10000 [35:27<25:21,  2.31it/s]"
     ]
    },
    {
     "name": "stdout",
     "output_type": "stream",
     "text": [
      "Step 6480, train loss:0.1006, test loss:4.8207\n"
     ]
    },
    {
     "name": "stderr",
     "output_type": "stream",
     "text": [
      " 65%|██████▍   | 6491/10000 [35:29<25:41,  2.28it/s]"
     ]
    },
    {
     "name": "stdout",
     "output_type": "stream",
     "text": [
      "Step 6490, train loss:0.1002, test loss:4.8825\n"
     ]
    },
    {
     "name": "stderr",
     "output_type": "stream",
     "text": [
      " 65%|██████▌   | 6500/10000 [35:31<09:21,  6.24it/s]"
     ]
    },
    {
     "name": "stdout",
     "output_type": "stream",
     "text": [
      "Step 6500, train loss:0.1014, test loss:4.8557\n"
     ]
    },
    {
     "name": "stderr",
     "output_type": "stream",
     "text": [
      " 65%|██████▌   | 6501/10000 [35:39<2:41:10,  2.76s/it]"
     ]
    },
    {
     "name": "stdout",
     "output_type": "stream",
     "text": [
      "\n",
      "\n",
      "HASTINGS:\n",
      "Sirrah, this arm is so in vastument.\n",
      "\n",
      "PRINCE:\n",
      "Before I hope, thy tackle homely shall be.\n",
      "\n",
      "ISABELLA:\n",
      "Be ready, Claudio, for your death be life to do:\n",
      "But as we gave our fathers me with such life,\n",
      "As I by liming with a tide.\n",
      "\n",
      "PAULINA:\n",
      "Then, be you loved, desired her: the senate,\n",
      "Here to issoler: you have not sanctuard's death,\n",
      "If he be lead alone.\n",
      "\n",
      "DUKE VINCENTIO:\n",
      "The fault of Tranio in your misties.\n",
      "\n",
      "PRINCE:\n",
      "When good man of disobedience, fellow.\n",
      "\n",
      "HENRY BOLINGBROKE:\n",
      "Royally!\n",
      "Why, it contains no king by the state\n",
      "Till hearts for the same; and that very not him\n",
      "'Iave is the case for her trust welcome hither;\n",
      "And thou, beauty too that Mowbray's conscience,\n",
      "Is thither by crerciful king!\n",
      "\n",
      "BRUTUS:\n",
      "The people are aby.\n",
      "In modly and the king at Oxford,\n",
      "That we may call her maidens of a dozen\n",
      "Engaged by my argues! We do not frown\n",
      "Our multitudes, and not an eye of fornication\n",
      "To lose a beauteous from my breast,\n",
      "The innocent shall bear the king, and made them stuff.\n",
      "\n",
      "RICHARD:\n",
      "Uncle, dispa\n",
      "Step 6500, train loss:0.0998, test loss:4.8270\n"
     ]
    },
    {
     "name": "stderr",
     "output_type": "stream",
     "text": [
      " 65%|██████▌   | 6511/10000 [35:42<28:59,  2.01it/s]"
     ]
    },
    {
     "name": "stdout",
     "output_type": "stream",
     "text": [
      "Step 6510, train loss:0.0989, test loss:4.8363\n"
     ]
    },
    {
     "name": "stderr",
     "output_type": "stream",
     "text": [
      " 65%|██████▌   | 6521/10000 [35:44<25:07,  2.31it/s]"
     ]
    },
    {
     "name": "stdout",
     "output_type": "stream",
     "text": [
      "Step 6520, train loss:0.0997, test loss:4.9060\n"
     ]
    },
    {
     "name": "stderr",
     "output_type": "stream",
     "text": [
      " 65%|██████▌   | 6531/10000 [35:47<24:55,  2.32it/s]"
     ]
    },
    {
     "name": "stdout",
     "output_type": "stream",
     "text": [
      "Step 6530, train loss:0.1002, test loss:4.9071\n"
     ]
    },
    {
     "name": "stderr",
     "output_type": "stream",
     "text": [
      " 65%|██████▌   | 6541/10000 [35:49<24:41,  2.33it/s]"
     ]
    },
    {
     "name": "stdout",
     "output_type": "stream",
     "text": [
      "Step 6540, train loss:0.1004, test loss:4.8940\n"
     ]
    },
    {
     "name": "stderr",
     "output_type": "stream",
     "text": [
      " 66%|██████▌   | 6551/10000 [35:51<24:20,  2.36it/s]"
     ]
    },
    {
     "name": "stdout",
     "output_type": "stream",
     "text": [
      "Step 6550, train loss:0.0998, test loss:4.8632\n"
     ]
    },
    {
     "name": "stderr",
     "output_type": "stream",
     "text": [
      " 66%|██████▌   | 6561/10000 [35:54<24:20,  2.35it/s]"
     ]
    },
    {
     "name": "stdout",
     "output_type": "stream",
     "text": [
      "Step 6560, train loss:0.1024, test loss:4.8714\n"
     ]
    },
    {
     "name": "stderr",
     "output_type": "stream",
     "text": [
      " 66%|██████▌   | 6571/10000 [35:56<24:17,  2.35it/s]"
     ]
    },
    {
     "name": "stdout",
     "output_type": "stream",
     "text": [
      "Step 6570, train loss:0.1015, test loss:4.8656\n"
     ]
    },
    {
     "name": "stderr",
     "output_type": "stream",
     "text": [
      " 66%|██████▌   | 6581/10000 [35:58<24:22,  2.34it/s]"
     ]
    },
    {
     "name": "stdout",
     "output_type": "stream",
     "text": [
      "Step 6580, train loss:0.1018, test loss:4.8823\n"
     ]
    },
    {
     "name": "stderr",
     "output_type": "stream",
     "text": [
      " 66%|██████▌   | 6591/10000 [36:01<24:45,  2.29it/s]"
     ]
    },
    {
     "name": "stdout",
     "output_type": "stream",
     "text": [
      "Step 6590, train loss:0.1007, test loss:4.8766\n"
     ]
    },
    {
     "name": "stderr",
     "output_type": "stream",
     "text": [
      " 66%|██████▌   | 6600/10000 [36:02<09:09,  6.19it/s]"
     ]
    },
    {
     "name": "stdout",
     "output_type": "stream",
     "text": [
      "Step 6600, train loss:0.0997, test loss:4.9304\n"
     ]
    },
    {
     "name": "stderr",
     "output_type": "stream",
     "text": [
      " 66%|██████▌   | 6601/10000 [36:11<2:42:47,  2.87s/it]"
     ]
    },
    {
     "name": "stdout",
     "output_type": "stream",
     "text": [
      "\n",
      "\n",
      "GREGORY:\n",
      "What tongue may my hards and poude to-day!\n",
      "\n",
      "SICINIUS:\n",
      "Is't possible that would have said, and keeper's woman?\n",
      "\n",
      "BISHOP OF CARLISLE:\n",
      "Fear not no witness to you: the sweath\n",
      "she's one so well, who absoming move in the violets now\n",
      "to struck with me again unto the brawl: insensible of\n",
      "mortality, and desperately mortal.\n",
      "\n",
      "DUKE VINCENTIO:\n",
      "He wants advice.\n",
      "\n",
      "Provost:\n",
      "He will hear none: he hath evermore had the liberty\n",
      "of the prison; give him leave to use it.\n",
      "\n",
      "DUKE VINCENTIO:\n",
      "He does well in 't.\n",
      "\n",
      "LUCIO:\n",
      "A little more lenity to lechery would do no harm in\n",
      "these rugs!\n",
      "\n",
      "DUKE VINCENTIO:\n",
      "He dies for Claudio's death.\n",
      "\n",
      "ISABELLA:\n",
      "Most bounteous sir,\n",
      "Look, if it please you, on this man condemn'd,\n",
      "As if my brother lived: I partly think\n",
      "A daughter and of noble prince hath brought\n",
      "The seal'd-up oracle, by the hand deliver'd\n",
      "Of great Apollo's priest; and that, since then,\n",
      "You have not dared to break there now;\n",
      "No tongue, though joy order, let your service\n",
      "With all the estate; where you what honest say\n",
      "Step 6600, train loss:0.0990, test loss:4.8987\n"
     ]
    },
    {
     "name": "stderr",
     "output_type": "stream",
     "text": [
      " 66%|██████▌   | 6611/10000 [36:14<27:52,  2.03it/s]"
     ]
    },
    {
     "name": "stdout",
     "output_type": "stream",
     "text": [
      "Step 6610, train loss:0.1014, test loss:4.8551\n"
     ]
    },
    {
     "name": "stderr",
     "output_type": "stream",
     "text": [
      " 66%|██████▌   | 6621/10000 [36:16<24:45,  2.27it/s]"
     ]
    },
    {
     "name": "stdout",
     "output_type": "stream",
     "text": [
      "Step 6620, train loss:0.1020, test loss:4.9510\n"
     ]
    },
    {
     "name": "stderr",
     "output_type": "stream",
     "text": [
      " 66%|██████▋   | 6631/10000 [36:19<24:50,  2.26it/s]"
     ]
    },
    {
     "name": "stdout",
     "output_type": "stream",
     "text": [
      "Step 6630, train loss:0.1018, test loss:4.9054\n"
     ]
    },
    {
     "name": "stderr",
     "output_type": "stream",
     "text": [
      " 66%|██████▋   | 6641/10000 [36:21<24:22,  2.30it/s]"
     ]
    },
    {
     "name": "stdout",
     "output_type": "stream",
     "text": [
      "Step 6640, train loss:0.1023, test loss:4.9319\n"
     ]
    },
    {
     "name": "stderr",
     "output_type": "stream",
     "text": [
      " 67%|██████▋   | 6651/10000 [36:23<23:37,  2.36it/s]"
     ]
    },
    {
     "name": "stdout",
     "output_type": "stream",
     "text": [
      "Step 6650, train loss:0.0993, test loss:4.8524\n"
     ]
    },
    {
     "name": "stderr",
     "output_type": "stream",
     "text": [
      " 67%|██████▋   | 6661/10000 [36:26<23:29,  2.37it/s]"
     ]
    },
    {
     "name": "stdout",
     "output_type": "stream",
     "text": [
      "Step 6660, train loss:0.1000, test loss:4.8343\n"
     ]
    },
    {
     "name": "stderr",
     "output_type": "stream",
     "text": [
      " 67%|██████▋   | 6671/10000 [36:28<23:31,  2.36it/s]"
     ]
    },
    {
     "name": "stdout",
     "output_type": "stream",
     "text": [
      "Step 6670, train loss:0.0999, test loss:4.9346\n"
     ]
    },
    {
     "name": "stderr",
     "output_type": "stream",
     "text": [
      " 67%|██████▋   | 6681/10000 [36:31<23:23,  2.36it/s]"
     ]
    },
    {
     "name": "stdout",
     "output_type": "stream",
     "text": [
      "Step 6680, train loss:0.0997, test loss:4.7918\n"
     ]
    },
    {
     "name": "stderr",
     "output_type": "stream",
     "text": [
      " 67%|██████▋   | 6691/10000 [36:33<24:04,  2.29it/s]"
     ]
    },
    {
     "name": "stdout",
     "output_type": "stream",
     "text": [
      "Step 6690, train loss:0.0990, test loss:4.8724\n"
     ]
    },
    {
     "name": "stderr",
     "output_type": "stream",
     "text": [
      " 67%|██████▋   | 6700/10000 [36:34<08:49,  6.23it/s]"
     ]
    },
    {
     "name": "stdout",
     "output_type": "stream",
     "text": [
      "Step 6700, train loss:0.0992, test loss:4.7981\n"
     ]
    },
    {
     "name": "stderr",
     "output_type": "stream",
     "text": [
      " 67%|██████▋   | 6701/10000 [36:44<2:44:25,  2.99s/it]"
     ]
    },
    {
     "name": "stdout",
     "output_type": "stream",
     "text": [
      "\n",
      "\n",
      "WARWICK:\n",
      "Ay, but I had as lief take her to a horse.\n",
      "I will not dion, nature, for I am hush:\n",
      "When for I were not to safe a thousand thine,\n",
      "To take the rein I let her kindred of the\n",
      "Towards Ludlow then the honour'd mould,\n",
      "With all the near.\n",
      "\n",
      "LUCIO:\n",
      "Nay, take the holy moods.\n",
      "\n",
      "CAMILLO:\n",
      "I willingly obey you, be gentlemen, that known; we will not\n",
      "To red-health and prove you. US O, 'tis a food\n",
      "The treasure in your souls.\n",
      "\n",
      "CORIOLANUS:\n",
      "Let them put be mine?\n",
      "\n",
      "MENENIUS:\n",
      "Be calm, be calm.\n",
      "\n",
      "COMINIUS:\n",
      "Pray you, go to him that you your highness.\n",
      "\n",
      "MENENIUS:\n",
      "What strange hanges, you are worthing?\n",
      "\n",
      "BENVOLIO:\n",
      "Pray you, be gone; lenge not to your hands:\n",
      "Which way to yours, they have done this varlet\n",
      "me. For my poor self to-night:\n",
      "I promised them with good speed so long.\n",
      "\n",
      "HENRY BOLINGBROKE:\n",
      "Why do you know me not?\n",
      "\n",
      "HENRY BOLINGBROKE:\n",
      "Whither?\n",
      "\n",
      "KING RICHARD II:\n",
      "Whither you will, so we are made or me.\n",
      "\n",
      "DUKE OF AUMERLE:\n",
      "Then, Bolingbroke, as lies well arm'd\n",
      "By simple tockng, think upon the east:\n",
      "I stay by oat\n",
      "Step 6700, train loss:0.1003, test loss:4.8514\n"
     ]
    },
    {
     "name": "stderr",
     "output_type": "stream",
     "text": [
      " 67%|██████▋   | 6711/10000 [36:46<27:10,  2.02it/s]"
     ]
    },
    {
     "name": "stdout",
     "output_type": "stream",
     "text": [
      "Step 6710, train loss:0.1022, test loss:4.9208\n"
     ]
    },
    {
     "name": "stderr",
     "output_type": "stream",
     "text": [
      " 67%|██████▋   | 6721/10000 [36:49<23:04,  2.37it/s]"
     ]
    },
    {
     "name": "stdout",
     "output_type": "stream",
     "text": [
      "Step 6720, train loss:0.0998, test loss:4.9126\n"
     ]
    },
    {
     "name": "stderr",
     "output_type": "stream",
     "text": [
      " 67%|██████▋   | 6731/10000 [36:51<23:43,  2.30it/s]"
     ]
    },
    {
     "name": "stdout",
     "output_type": "stream",
     "text": [
      "Step 6730, train loss:0.0994, test loss:4.9242\n"
     ]
    },
    {
     "name": "stderr",
     "output_type": "stream",
     "text": [
      " 67%|██████▋   | 6741/10000 [36:53<23:51,  2.28it/s]"
     ]
    },
    {
     "name": "stdout",
     "output_type": "stream",
     "text": [
      "Step 6740, train loss:0.1024, test loss:4.8751\n"
     ]
    },
    {
     "name": "stderr",
     "output_type": "stream",
     "text": [
      " 68%|██████▊   | 6751/10000 [36:56<23:31,  2.30it/s]"
     ]
    },
    {
     "name": "stdout",
     "output_type": "stream",
     "text": [
      "Step 6750, train loss:0.0997, test loss:4.9710\n"
     ]
    },
    {
     "name": "stderr",
     "output_type": "stream",
     "text": [
      " 68%|██████▊   | 6761/10000 [36:58<22:45,  2.37it/s]"
     ]
    },
    {
     "name": "stdout",
     "output_type": "stream",
     "text": [
      "Step 6760, train loss:0.0994, test loss:4.9283\n"
     ]
    },
    {
     "name": "stderr",
     "output_type": "stream",
     "text": [
      " 68%|██████▊   | 6771/10000 [37:01<22:41,  2.37it/s]"
     ]
    },
    {
     "name": "stdout",
     "output_type": "stream",
     "text": [
      "Step 6770, train loss:0.0975, test loss:4.8630\n"
     ]
    },
    {
     "name": "stderr",
     "output_type": "stream",
     "text": [
      " 68%|██████▊   | 6781/10000 [37:03<22:35,  2.37it/s]"
     ]
    },
    {
     "name": "stdout",
     "output_type": "stream",
     "text": [
      "Step 6780, train loss:0.0982, test loss:4.9029\n"
     ]
    },
    {
     "name": "stderr",
     "output_type": "stream",
     "text": [
      " 68%|██████▊   | 6791/10000 [37:05<22:30,  2.38it/s]"
     ]
    },
    {
     "name": "stdout",
     "output_type": "stream",
     "text": [
      "Step 6790, train loss:0.0992, test loss:4.9428\n"
     ]
    },
    {
     "name": "stderr",
     "output_type": "stream",
     "text": [
      " 68%|██████▊   | 6800/10000 [37:07<08:31,  6.26it/s]"
     ]
    },
    {
     "name": "stdout",
     "output_type": "stream",
     "text": [
      "Step 6800, train loss:0.1003, test loss:4.8861\n"
     ]
    },
    {
     "name": "stderr",
     "output_type": "stream",
     "text": [
      " 68%|██████▊   | 6801/10000 [37:17<2:45:30,  3.10s/it]"
     ]
    },
    {
     "name": "stdout",
     "output_type": "stream",
     "text": [
      "\n",
      "\n",
      "GLOUCESTER:\n",
      "Suspicion always haunts the guilty mind;\n",
      "The thief doth fear each bush an officer.\n",
      "\n",
      "KING HENRY VI:\n",
      "The bird that hath been limed in a bush,\n",
      "With trembling wings misdoubteth every bush;\n",
      "And I, the hapless male to one sweet bird,\n",
      "Have now the fatal object in my eye\n",
      "Where my poor young was limed, was caught and kill'd.\n",
      "\n",
      "GLOUCESTER:\n",
      "Why, what with all?\n",
      "\n",
      "GLOUCESTER:\n",
      "The gates and fine uncles and unfit his passages\n",
      "He hath a prince in your execution.\n",
      "\n",
      "LUCIO:\n",
      "Sir, my gracious lord,\n",
      "To chide at your country's fat shall pay your father\n",
      "To grey his good repate.\n",
      "\n",
      "DUKE VINCENTIO:\n",
      "Upon mine honour, thou art damn'd to Rome\n",
      "And that thy words as near as medicinal as true,\n",
      "Honest as either, to purge him of that humour\n",
      "That presses them against the senate and bear\n",
      "A sicken you and your allowing sun\n",
      "Ne'er that with speed. Then all too deal:\n",
      "Go you to the commons, made a soldier\n",
      "Into the justice of the fearful time\n",
      "Cuts off the ceremonious vows of love\n",
      "And ample interchange of sweet discourse\n",
      "Step 6800, train loss:0.0995, test loss:4.9732\n"
     ]
    },
    {
     "name": "stderr",
     "output_type": "stream",
     "text": [
      " 68%|██████▊   | 6811/10000 [37:19<26:29,  2.01it/s]"
     ]
    },
    {
     "name": "stdout",
     "output_type": "stream",
     "text": [
      "Step 6810, train loss:0.1001, test loss:4.9328\n"
     ]
    },
    {
     "name": "stderr",
     "output_type": "stream",
     "text": [
      " 68%|██████▊   | 6821/10000 [37:21<22:30,  2.35it/s]"
     ]
    },
    {
     "name": "stdout",
     "output_type": "stream",
     "text": [
      "Step 6820, train loss:0.0985, test loss:4.9014\n"
     ]
    },
    {
     "name": "stderr",
     "output_type": "stream",
     "text": [
      " 68%|██████▊   | 6831/10000 [37:24<23:07,  2.28it/s]"
     ]
    },
    {
     "name": "stdout",
     "output_type": "stream",
     "text": [
      "Step 6830, train loss:0.0978, test loss:4.9107\n"
     ]
    },
    {
     "name": "stderr",
     "output_type": "stream",
     "text": [
      " 68%|██████▊   | 6841/10000 [37:26<23:03,  2.28it/s]"
     ]
    },
    {
     "name": "stdout",
     "output_type": "stream",
     "text": [
      "Step 6840, train loss:0.1017, test loss:4.9240\n"
     ]
    },
    {
     "name": "stderr",
     "output_type": "stream",
     "text": [
      " 69%|██████▊   | 6851/10000 [37:29<22:42,  2.31it/s]"
     ]
    },
    {
     "name": "stdout",
     "output_type": "stream",
     "text": [
      "Step 6850, train loss:0.0977, test loss:4.9056\n"
     ]
    },
    {
     "name": "stderr",
     "output_type": "stream",
     "text": [
      " 69%|██████▊   | 6861/10000 [37:31<22:06,  2.37it/s]"
     ]
    },
    {
     "name": "stdout",
     "output_type": "stream",
     "text": [
      "Step 6860, train loss:0.0973, test loss:4.9464\n"
     ]
    },
    {
     "name": "stderr",
     "output_type": "stream",
     "text": [
      " 69%|██████▊   | 6871/10000 [37:33<22:05,  2.36it/s]"
     ]
    },
    {
     "name": "stdout",
     "output_type": "stream",
     "text": [
      "Step 6870, train loss:0.0999, test loss:4.9211\n"
     ]
    },
    {
     "name": "stderr",
     "output_type": "stream",
     "text": [
      " 69%|██████▉   | 6881/10000 [37:36<21:52,  2.38it/s]"
     ]
    },
    {
     "name": "stdout",
     "output_type": "stream",
     "text": [
      "Step 6880, train loss:0.0995, test loss:4.9986\n"
     ]
    },
    {
     "name": "stderr",
     "output_type": "stream",
     "text": [
      " 69%|██████▉   | 6891/10000 [37:38<21:48,  2.38it/s]"
     ]
    },
    {
     "name": "stdout",
     "output_type": "stream",
     "text": [
      "Step 6890, train loss:0.1000, test loss:4.8494\n"
     ]
    },
    {
     "name": "stderr",
     "output_type": "stream",
     "text": [
      " 69%|██████▉   | 6900/10000 [37:39<08:03,  6.41it/s]"
     ]
    },
    {
     "name": "stdout",
     "output_type": "stream",
     "text": [
      "Step 6900, train loss:0.0988, test loss:4.8908\n"
     ]
    },
    {
     "name": "stderr",
     "output_type": "stream",
     "text": [
      " 69%|██████▉   | 6901/10000 [37:50<2:43:58,  3.17s/it]"
     ]
    },
    {
     "name": "stdout",
     "output_type": "stream",
     "text": [
      "\n",
      "\n",
      "CATESBY:\n",
      "Very well: you being then, if you be ready sence,\n",
      "I am touch'd with you.\n",
      "\n",
      "AUTOLYCUS:\n",
      "Here's another ballad of them approved so.\n",
      "\n",
      "DUKE VINCENTIO:\n",
      "My father, and my mind herein we have dull daylight\n",
      "In our duty to despair! I remember who her,\n",
      "Show our minds are so confirm'd: such a dead\n",
      "In Rome are so looch: bride my soul\n",
      "Is the denugless full of sorrow: he is a fear\n",
      "Which oft infectors and the Suilishment;\n",
      "And therefore hath I come for this world.\n",
      "\n",
      "QUEEN MARGARET:\n",
      "Ay, to be the birding king of heaven;\n",
      "Who, when they see the hours ripe one affection.\n",
      "\n",
      "HENRY BOLINGBROKE:\n",
      "They love not put to the duke with the high discovery.\n",
      "\n",
      "DUKE OF YORK:\n",
      "Why, then, though loath, yet most intend a thousand, sir, an hour in the hap of mine! What they in\n",
      "Come I am depart to do and remedy.\n",
      "Come, shall, be so; let him be pretty flatterer.\n",
      "Being so great, I have no need to be tribune:\n",
      "A die is that heaven with his grumbling voice\n",
      "Was wont to cheer his dad in my counsel?\n",
      "And soothe the devil that I wa\n",
      "Step 6900, train loss:0.1004, test loss:4.9300\n"
     ]
    },
    {
     "name": "stderr",
     "output_type": "stream",
     "text": [
      " 69%|██████▉   | 6911/10000 [37:52<25:42,  2.00it/s]"
     ]
    },
    {
     "name": "stdout",
     "output_type": "stream",
     "text": [
      "Step 6910, train loss:0.0995, test loss:4.9946\n"
     ]
    },
    {
     "name": "stderr",
     "output_type": "stream",
     "text": [
      " 69%|██████▉   | 6921/10000 [37:54<21:50,  2.35it/s]"
     ]
    },
    {
     "name": "stdout",
     "output_type": "stream",
     "text": [
      "Step 6920, train loss:0.0989, test loss:4.9941\n"
     ]
    },
    {
     "name": "stderr",
     "output_type": "stream",
     "text": [
      " 69%|██████▉   | 6931/10000 [37:57<21:54,  2.33it/s]"
     ]
    },
    {
     "name": "stdout",
     "output_type": "stream",
     "text": [
      "Step 6930, train loss:0.0985, test loss:4.9484\n"
     ]
    },
    {
     "name": "stderr",
     "output_type": "stream",
     "text": [
      " 69%|██████▉   | 6941/10000 [37:59<22:13,  2.29it/s]"
     ]
    },
    {
     "name": "stdout",
     "output_type": "stream",
     "text": [
      "Step 6940, train loss:0.1015, test loss:4.8430\n"
     ]
    },
    {
     "name": "stderr",
     "output_type": "stream",
     "text": [
      " 70%|██████▉   | 6951/10000 [38:02<22:15,  2.28it/s]"
     ]
    },
    {
     "name": "stdout",
     "output_type": "stream",
     "text": [
      "Step 6950, train loss:0.0979, test loss:4.9220\n"
     ]
    },
    {
     "name": "stderr",
     "output_type": "stream",
     "text": [
      " 70%|██████▉   | 6961/10000 [38:04<21:32,  2.35it/s]"
     ]
    },
    {
     "name": "stdout",
     "output_type": "stream",
     "text": [
      "Step 6960, train loss:0.0982, test loss:4.9037\n"
     ]
    },
    {
     "name": "stderr",
     "output_type": "stream",
     "text": [
      " 70%|██████▉   | 6971/10000 [38:06<21:20,  2.36it/s]"
     ]
    },
    {
     "name": "stdout",
     "output_type": "stream",
     "text": [
      "Step 6970, train loss:0.0985, test loss:4.9658\n"
     ]
    },
    {
     "name": "stderr",
     "output_type": "stream",
     "text": [
      " 70%|██████▉   | 6981/10000 [38:09<21:11,  2.37it/s]"
     ]
    },
    {
     "name": "stdout",
     "output_type": "stream",
     "text": [
      "Step 6980, train loss:0.0994, test loss:4.9595\n"
     ]
    },
    {
     "name": "stderr",
     "output_type": "stream",
     "text": [
      " 70%|██████▉   | 6991/10000 [38:11<21:17,  2.36it/s]"
     ]
    },
    {
     "name": "stdout",
     "output_type": "stream",
     "text": [
      "Step 6990, train loss:0.0993, test loss:4.9135\n"
     ]
    },
    {
     "name": "stderr",
     "output_type": "stream",
     "text": [
      " 70%|███████   | 7000/10000 [38:12<07:53,  6.34it/s]"
     ]
    },
    {
     "name": "stdout",
     "output_type": "stream",
     "text": [
      "Step 7000, train loss:0.0993, test loss:4.8880\n"
     ]
    },
    {
     "name": "stderr",
     "output_type": "stream",
     "text": [
      " 70%|███████   | 7001/10000 [38:23<2:40:36,  3.21s/it]"
     ]
    },
    {
     "name": "stdout",
     "output_type": "stream",
     "text": [
      "\n",
      "\n",
      "SICINIUS:\n",
      "Go, call the people:\n",
      "in whose name myself\n",
      "Attach thee as a fearful lodging.\n",
      "\n",
      "SICINIUS:\n",
      "This deserves death.\n",
      "\n",
      "BRUTUS:\n",
      "And tried his common they do nimble but inquire ch\n",
      "death, when crabsed as this forfeign as they were\n",
      "Their will that fear their subjects' treaching eyes,\n",
      "Which revell'd in the sweetr's sun to scold is loss'd;\n",
      "The EDWARD IV:\n",
      "Well, well, provost, for this armicury\n",
      "Hath thou supposed a horse of life,\n",
      "A mailty all asider in broils\n",
      "Has long as pracle, and complexions are to meet\n",
      "Tears pt not the first house and time when maidens\n",
      "Is nothing left me for your grace!\n",
      "\n",
      "DUKE VINCENTIO:\n",
      "He dies not mine:\n",
      "Yet runns all unborn, and hold asy suit;\n",
      "And I believe twill be give the very siege\n",
      "Would stew the young's Percy, and my friend,\n",
      "What, are thy very bones ac things tell them?\n",
      "\n",
      "ISABELLA:\n",
      "The prince, I come; an weep the man\n",
      "Of sweet as the air blows it in the sea.\n",
      "\n",
      "BRUTUS:\n",
      "Then our office may,\n",
      "During his power, go sleep.\n",
      "\n",
      "SICINIUS:\n",
      "He cannot temperately transport his honours\n",
      "Step 7000, train loss:0.0986, test loss:4.8597\n"
     ]
    },
    {
     "name": "stderr",
     "output_type": "stream",
     "text": [
      " 70%|███████   | 7011/10000 [38:25<24:56,  2.00it/s]"
     ]
    },
    {
     "name": "stdout",
     "output_type": "stream",
     "text": [
      "Step 7010, train loss:0.0991, test loss:4.9661\n"
     ]
    },
    {
     "name": "stderr",
     "output_type": "stream",
     "text": [
      " 70%|███████   | 7021/10000 [38:27<21:03,  2.36it/s]"
     ]
    },
    {
     "name": "stdout",
     "output_type": "stream",
     "text": [
      "Step 7020, train loss:0.0988, test loss:4.9302\n"
     ]
    },
    {
     "name": "stderr",
     "output_type": "stream",
     "text": [
      " 70%|███████   | 7031/10000 [38:30<20:55,  2.36it/s]"
     ]
    },
    {
     "name": "stdout",
     "output_type": "stream",
     "text": [
      "Step 7030, train loss:0.0995, test loss:4.9854\n"
     ]
    },
    {
     "name": "stderr",
     "output_type": "stream",
     "text": [
      " 70%|███████   | 7041/10000 [38:32<21:41,  2.27it/s]"
     ]
    },
    {
     "name": "stdout",
     "output_type": "stream",
     "text": [
      "Step 7040, train loss:0.0991, test loss:4.9687\n"
     ]
    },
    {
     "name": "stderr",
     "output_type": "stream",
     "text": [
      " 71%|███████   | 7051/10000 [38:35<21:39,  2.27it/s]"
     ]
    },
    {
     "name": "stdout",
     "output_type": "stream",
     "text": [
      "Step 7050, train loss:0.1007, test loss:4.9459\n"
     ]
    },
    {
     "name": "stderr",
     "output_type": "stream",
     "text": [
      " 71%|███████   | 7061/10000 [38:37<21:16,  2.30it/s]"
     ]
    },
    {
     "name": "stdout",
     "output_type": "stream",
     "text": [
      "Step 7060, train loss:0.0990, test loss:4.8668\n"
     ]
    },
    {
     "name": "stderr",
     "output_type": "stream",
     "text": [
      " 71%|███████   | 7071/10000 [38:39<20:31,  2.38it/s]"
     ]
    },
    {
     "name": "stdout",
     "output_type": "stream",
     "text": [
      "Step 7070, train loss:0.0989, test loss:5.0035\n"
     ]
    },
    {
     "name": "stderr",
     "output_type": "stream",
     "text": [
      " 71%|███████   | 7081/10000 [38:42<20:38,  2.36it/s]"
     ]
    },
    {
     "name": "stdout",
     "output_type": "stream",
     "text": [
      "Step 7080, train loss:0.1004, test loss:4.9739\n"
     ]
    },
    {
     "name": "stderr",
     "output_type": "stream",
     "text": [
      " 71%|███████   | 7091/10000 [38:44<20:27,  2.37it/s]"
     ]
    },
    {
     "name": "stdout",
     "output_type": "stream",
     "text": [
      "Step 7090, train loss:0.0989, test loss:4.9197\n"
     ]
    },
    {
     "name": "stderr",
     "output_type": "stream",
     "text": [
      " 71%|███████   | 7100/10000 [38:45<07:34,  6.38it/s]"
     ]
    },
    {
     "name": "stdout",
     "output_type": "stream",
     "text": [
      "Step 7100, train loss:0.0975, test loss:4.9880\n"
     ]
    },
    {
     "name": "stderr",
     "output_type": "stream",
     "text": [
      " 71%|███████   | 7101/10000 [38:56<2:35:47,  3.22s/it]"
     ]
    },
    {
     "name": "stdout",
     "output_type": "stream",
     "text": [
      "\n",
      "\n",
      "FRIAR LAURENCE:\n",
      "O, then it stands so taste the moons and bring in\n",
      "Thy birthrow take his new plants with dews of flattery,\n",
      "Shall be the sun and tiading summer'd like piece,\n",
      "There is no harmless limits of body, study,\n",
      "That heaven fullias, and will not stay the truth;\n",
      "And therefore love moderately she be obey'd.\n",
      "\n",
      "Fourth Mear:\n",
      "Had he been slaughter-man to a house of his\n",
      "head by him.\n",
      "\n",
      "POLIXENES:\n",
      "Where's Bohemia?\n",
      "\n",
      "MOPSA:\n",
      "Tell not, I have been disloyal to the maid;\n",
      "And call him Rutland nouths. All methinks I hear\n",
      "She is retired to or make his pray.\n",
      "Nay, for a need, thus far come near my person:\n",
      "Tell them, when that my mother went with child\n",
      "Of that unsatiate Edward, noble York\n",
      "My princely father then had wars in France\n",
      "Or dread 'Charge! and give no big to pry now,\n",
      "Whose statutes beauty rats in onite that throne\n",
      "When when we give shall scorn he sleep thee\n",
      "And make high majesty doth wing all undone!\n",
      "I was pronounce the stewy good meaning.\n",
      "\n",
      "DUKE OF AUMERLE:\n",
      "No man mock me with all my heart.\n",
      "\n",
      "GLO\n",
      "Step 7100, train loss:0.0973, test loss:5.0186\n"
     ]
    },
    {
     "name": "stderr",
     "output_type": "stream",
     "text": [
      " 71%|███████   | 7111/10000 [38:58<24:06,  2.00it/s]"
     ]
    },
    {
     "name": "stdout",
     "output_type": "stream",
     "text": [
      "Step 7110, train loss:0.0976, test loss:5.0396\n"
     ]
    },
    {
     "name": "stderr",
     "output_type": "stream",
     "text": [
      " 71%|███████   | 7121/10000 [39:00<20:19,  2.36it/s]"
     ]
    },
    {
     "name": "stdout",
     "output_type": "stream",
     "text": [
      "Step 7120, train loss:0.0994, test loss:4.9683\n"
     ]
    },
    {
     "name": "stderr",
     "output_type": "stream",
     "text": [
      " 71%|███████▏  | 7131/10000 [39:03<20:07,  2.38it/s]"
     ]
    },
    {
     "name": "stdout",
     "output_type": "stream",
     "text": [
      "Step 7130, train loss:0.0986, test loss:4.9540\n"
     ]
    },
    {
     "name": "stderr",
     "output_type": "stream",
     "text": [
      " 71%|███████▏  | 7141/10000 [39:05<20:31,  2.32it/s]"
     ]
    },
    {
     "name": "stdout",
     "output_type": "stream",
     "text": [
      "Step 7140, train loss:0.0983, test loss:4.8942\n"
     ]
    },
    {
     "name": "stderr",
     "output_type": "stream",
     "text": [
      " 72%|███████▏  | 7151/10000 [39:08<20:36,  2.30it/s]"
     ]
    },
    {
     "name": "stdout",
     "output_type": "stream",
     "text": [
      "Step 7150, train loss:0.0982, test loss:4.8924\n"
     ]
    },
    {
     "name": "stderr",
     "output_type": "stream",
     "text": [
      " 72%|███████▏  | 7161/10000 [39:10<20:25,  2.32it/s]"
     ]
    },
    {
     "name": "stdout",
     "output_type": "stream",
     "text": [
      "Step 7160, train loss:0.1002, test loss:4.9746\n"
     ]
    },
    {
     "name": "stderr",
     "output_type": "stream",
     "text": [
      " 72%|███████▏  | 7171/10000 [39:12<19:48,  2.38it/s]"
     ]
    },
    {
     "name": "stdout",
     "output_type": "stream",
     "text": [
      "Step 7170, train loss:0.0980, test loss:4.9063\n"
     ]
    },
    {
     "name": "stderr",
     "output_type": "stream",
     "text": [
      " 72%|███████▏  | 7181/10000 [39:15<19:51,  2.37it/s]"
     ]
    },
    {
     "name": "stdout",
     "output_type": "stream",
     "text": [
      "Step 7180, train loss:0.0990, test loss:4.9691\n"
     ]
    },
    {
     "name": "stderr",
     "output_type": "stream",
     "text": [
      " 72%|███████▏  | 7191/10000 [39:17<19:39,  2.38it/s]"
     ]
    },
    {
     "name": "stdout",
     "output_type": "stream",
     "text": [
      "Step 7190, train loss:0.0982, test loss:5.0136\n"
     ]
    },
    {
     "name": "stderr",
     "output_type": "stream",
     "text": [
      " 72%|███████▏  | 7200/10000 [39:18<07:17,  6.39it/s]"
     ]
    },
    {
     "name": "stdout",
     "output_type": "stream",
     "text": [
      "Step 7200, train loss:0.0979, test loss:4.9872\n"
     ]
    },
    {
     "name": "stderr",
     "output_type": "stream",
     "text": [
      " 72%|███████▏  | 7201/10000 [39:29<2:29:59,  3.22s/it]"
     ]
    },
    {
     "name": "stdout",
     "output_type": "stream",
     "text": [
      "\n",
      "\n",
      "Third Servingman:\n",
      "Why, he is so made on here within, as if\n",
      "desides a cashe as many double contriveless; and for\n",
      "particular proud, and order, to God please you to come upon thee.\n",
      "\n",
      "ESCALUS:\n",
      "Fie, fie, fie! what do you think of death?\n",
      "\n",
      "Second Citizen:\n",
      "Worthy Menenius Agrippa; one that hath always loved\n",
      "the people.\n",
      "\n",
      "Third Coriolanus\n",
      "Had not been used to fear. Even let him take\n",
      "A better place. Yet you but kill'd with words,\n",
      "Which lets go by some inity.\n",
      "\n",
      "First Murderer:\n",
      "The wind that his forfess we pay in ourselves;\n",
      "For through this laund anon the deer will come;\n",
      "And in this covert will we make our stand,\n",
      "Culling the principal of all the deer.\n",
      "\n",
      "Second Keeper:\n",
      "I'll stay above the hill, so both may shoot.\n",
      "\n",
      "First Keeper:\n",
      "That cannot be; the noise of thy cross-bow\n",
      "Will say the trouble them; which thou art she\n",
      "wearing-rivals, creatures brow down: we'll do Romeo\n",
      "Heaven doth with us as we with torches dost be\n",
      "The-veil or ends discover'd by the 'ols?\n",
      "\n",
      "RATCLIFF:\n",
      "The this good and shall.\n",
      "\n",
      "SICINIUS:\n",
      "The\n",
      "Step 7200, train loss:0.0977, test loss:4.9726\n"
     ]
    },
    {
     "name": "stderr",
     "output_type": "stream",
     "text": [
      " 72%|███████▏  | 7211/10000 [39:31<23:17,  2.00it/s]"
     ]
    },
    {
     "name": "stdout",
     "output_type": "stream",
     "text": [
      "Step 7210, train loss:0.0984, test loss:5.0696\n"
     ]
    },
    {
     "name": "stderr",
     "output_type": "stream",
     "text": [
      " 72%|███████▏  | 7221/10000 [39:33<19:41,  2.35it/s]"
     ]
    },
    {
     "name": "stdout",
     "output_type": "stream",
     "text": [
      "Step 7220, train loss:0.0993, test loss:4.9965\n"
     ]
    },
    {
     "name": "stderr",
     "output_type": "stream",
     "text": [
      " 72%|███████▏  | 7231/10000 [39:36<19:28,  2.37it/s]"
     ]
    },
    {
     "name": "stdout",
     "output_type": "stream",
     "text": [
      "Step 7230, train loss:0.0973, test loss:4.9369\n"
     ]
    },
    {
     "name": "stderr",
     "output_type": "stream",
     "text": [
      " 72%|███████▏  | 7241/10000 [39:38<19:45,  2.33it/s]"
     ]
    },
    {
     "name": "stdout",
     "output_type": "stream",
     "text": [
      "Step 7240, train loss:0.0986, test loss:4.9527\n"
     ]
    },
    {
     "name": "stderr",
     "output_type": "stream",
     "text": [
      " 73%|███████▎  | 7251/10000 [39:41<20:03,  2.28it/s]"
     ]
    },
    {
     "name": "stdout",
     "output_type": "stream",
     "text": [
      "Step 7250, train loss:0.0985, test loss:5.0206\n"
     ]
    },
    {
     "name": "stderr",
     "output_type": "stream",
     "text": [
      " 73%|███████▎  | 7261/10000 [39:43<19:49,  2.30it/s]"
     ]
    },
    {
     "name": "stdout",
     "output_type": "stream",
     "text": [
      "Step 7260, train loss:0.0988, test loss:4.9574\n"
     ]
    },
    {
     "name": "stderr",
     "output_type": "stream",
     "text": [
      " 73%|███████▎  | 7271/10000 [39:45<19:36,  2.32it/s]"
     ]
    },
    {
     "name": "stdout",
     "output_type": "stream",
     "text": [
      "Step 7270, train loss:0.0994, test loss:4.9348\n"
     ]
    },
    {
     "name": "stderr",
     "output_type": "stream",
     "text": [
      " 73%|███████▎  | 7281/10000 [39:48<19:10,  2.36it/s]"
     ]
    },
    {
     "name": "stdout",
     "output_type": "stream",
     "text": [
      "Step 7280, train loss:0.0984, test loss:4.8957\n"
     ]
    },
    {
     "name": "stderr",
     "output_type": "stream",
     "text": [
      " 73%|███████▎  | 7291/10000 [39:50<19:03,  2.37it/s]"
     ]
    },
    {
     "name": "stdout",
     "output_type": "stream",
     "text": [
      "Step 7290, train loss:0.0971, test loss:4.9324\n"
     ]
    },
    {
     "name": "stderr",
     "output_type": "stream",
     "text": [
      " 73%|███████▎  | 7300/10000 [39:51<07:05,  6.35it/s]"
     ]
    },
    {
     "name": "stdout",
     "output_type": "stream",
     "text": [
      "Step 7300, train loss:0.0976, test loss:4.9157\n"
     ]
    },
    {
     "name": "stderr",
     "output_type": "stream",
     "text": [
      " 73%|███████▎  | 7301/10000 [40:02<2:26:27,  3.26s/it]"
     ]
    },
    {
     "name": "stdout",
     "output_type": "stream",
     "text": [
      "\n",
      "\n",
      "BRAKENBURY:\n",
      "Not a denier. Go by, Jeronimioa!\n",
      "\n",
      "SICINIUS:\n",
      "Why, what need goess\n",
      "Deserver methinks that ended you\n",
      "I do demand of this use of day,\n",
      "Hunting thee heavy thou shalt hear me.\n",
      "If heaven have any grievous plague in store\n",
      "Exceeding those that I can wish upon thee,\n",
      "O, let them keep it till thy sins be ripe,\n",
      "And then hurl down miserable in their dumbness,\n",
      "Unless the patent that must be my will,\n",
      "Wherein thy sharps and living reason me,\n",
      "And account that was the bearing dying death.\n",
      "Lord may we have seen the day of life;\n",
      "Each lift him other finate the lion full of grief;\n",
      "Yet, gracious madam, bear it as you may:\n",
      "Warwick may lose, that now hath won the day.\n",
      "\n",
      "QUEEN ELIZABETH:\n",
      "Till then fair hope must hinder life's decay.\n",
      "And I trust you out and dolanguisher, she be so,\n",
      "We have bestow'd the heart that same injuries?\n",
      "\n",
      "Post:\n",
      "He; march amain your state favours with speed;\n",
      "For you, my lords, this leanness is engroos\n",
      "Keed on Garnard's holy and eaking.\n",
      "\n",
      "KING RICHARD II:\n",
      "Sound drums and trumpets sh\n",
      "Step 7300, train loss:0.0963, test loss:4.8969\n"
     ]
    },
    {
     "name": "stderr",
     "output_type": "stream",
     "text": [
      " 73%|███████▎  | 7311/10000 [40:04<22:27,  2.00it/s]"
     ]
    },
    {
     "name": "stdout",
     "output_type": "stream",
     "text": [
      "Step 7310, train loss:0.0993, test loss:4.9938\n"
     ]
    },
    {
     "name": "stderr",
     "output_type": "stream",
     "text": [
      " 73%|███████▎  | 7321/10000 [40:07<18:55,  2.36it/s]"
     ]
    },
    {
     "name": "stdout",
     "output_type": "stream",
     "text": [
      "Step 7320, train loss:0.0971, test loss:4.9137\n"
     ]
    },
    {
     "name": "stderr",
     "output_type": "stream",
     "text": [
      " 73%|███████▎  | 7331/10000 [40:09<18:42,  2.38it/s]"
     ]
    },
    {
     "name": "stdout",
     "output_type": "stream",
     "text": [
      "Step 7330, train loss:0.0990, test loss:4.9491\n"
     ]
    },
    {
     "name": "stderr",
     "output_type": "stream",
     "text": [
      " 73%|███████▎  | 7341/10000 [40:11<18:43,  2.37it/s]"
     ]
    },
    {
     "name": "stdout",
     "output_type": "stream",
     "text": [
      "Step 7340, train loss:0.0982, test loss:5.0087\n"
     ]
    },
    {
     "name": "stderr",
     "output_type": "stream",
     "text": [
      " 74%|███████▎  | 7351/10000 [40:14<19:11,  2.30it/s]"
     ]
    },
    {
     "name": "stdout",
     "output_type": "stream",
     "text": [
      "Step 7350, train loss:0.0983, test loss:4.9168\n"
     ]
    },
    {
     "name": "stderr",
     "output_type": "stream",
     "text": [
      " 74%|███████▎  | 7361/10000 [40:16<19:02,  2.31it/s]"
     ]
    },
    {
     "name": "stdout",
     "output_type": "stream",
     "text": [
      "Step 7360, train loss:0.0976, test loss:5.0113\n"
     ]
    },
    {
     "name": "stderr",
     "output_type": "stream",
     "text": [
      " 74%|███████▎  | 7371/10000 [40:19<19:04,  2.30it/s]"
     ]
    },
    {
     "name": "stdout",
     "output_type": "stream",
     "text": [
      "Step 7370, train loss:0.0985, test loss:4.9373\n"
     ]
    },
    {
     "name": "stderr",
     "output_type": "stream",
     "text": [
      " 74%|███████▍  | 7381/10000 [40:21<18:24,  2.37it/s]"
     ]
    },
    {
     "name": "stdout",
     "output_type": "stream",
     "text": [
      "Step 7380, train loss:0.0969, test loss:4.9682\n"
     ]
    },
    {
     "name": "stderr",
     "output_type": "stream",
     "text": [
      " 74%|███████▍  | 7391/10000 [40:23<18:24,  2.36it/s]"
     ]
    },
    {
     "name": "stdout",
     "output_type": "stream",
     "text": [
      "Step 7390, train loss:0.1000, test loss:4.9546\n"
     ]
    },
    {
     "name": "stderr",
     "output_type": "stream",
     "text": [
      " 74%|███████▍  | 7400/10000 [40:25<06:44,  6.42it/s]"
     ]
    },
    {
     "name": "stdout",
     "output_type": "stream",
     "text": [
      "Step 7400, train loss:0.1009, test loss:4.9767\n"
     ]
    },
    {
     "name": "stderr",
     "output_type": "stream",
     "text": [
      " 74%|███████▍  | 7401/10000 [40:35<2:19:48,  3.23s/it]"
     ]
    },
    {
     "name": "stdout",
     "output_type": "stream",
     "text": [
      "\n",
      "\n",
      "WARWICK:\n",
      "Ay, therein Clarence shall not want his part.\n",
      "\n",
      "KING HENRY VI:\n",
      "But, with the first of all your chief affairs,\n",
      "Let me entreat, for I command no more,\n",
      "That Margaret your queen as you are.\n",
      "\n",
      "PRINCE EDWARD:\n",
      "My lord, no lemit nor must be good to go:\n",
      "I would as he were gone, and we reside them for.\n",
      "\n",
      "MERCUTIO:\n",
      "I will bite my thumb at the world good night.\n",
      "Now, for I know the Breton Richmond aims\n",
      "At young Elizabeth, my brother's daughter,\n",
      "And, by that knowledge plucks her blood, her father.\n",
      "The light and light and divine swift-willingness too much,\n",
      "'This is me damn'd a changed content:\n",
      "Where art thou Romeo? shall I be charged, might fond toward Leck,\n",
      "When I have made more many form. What of the noble\n",
      "cunding war, but let this cover without the world?\n",
      "Why not, then, betwixt thyself and my son come;\n",
      "And for that hath been beaten as addle as thought,\n",
      "As thou art suborn'd against his honour 'scape.\n",
      "Ah, title shall I jump to the market-place;\n",
      "Chere, sole me no farther, whoe blest for death,\n",
      "\n",
      "Step 7400, train loss:0.0989, test loss:4.9212\n"
     ]
    },
    {
     "name": "stderr",
     "output_type": "stream",
     "text": [
      " 74%|███████▍  | 7411/10000 [40:37<21:40,  1.99it/s]"
     ]
    },
    {
     "name": "stdout",
     "output_type": "stream",
     "text": [
      "Step 7410, train loss:0.1008, test loss:4.9792\n"
     ]
    },
    {
     "name": "stderr",
     "output_type": "stream",
     "text": [
      " 74%|███████▍  | 7421/10000 [40:40<18:12,  2.36it/s]"
     ]
    },
    {
     "name": "stdout",
     "output_type": "stream",
     "text": [
      "Step 7420, train loss:0.0974, test loss:4.9079\n"
     ]
    },
    {
     "name": "stderr",
     "output_type": "stream",
     "text": [
      " 74%|███████▍  | 7431/10000 [40:42<18:02,  2.37it/s]"
     ]
    },
    {
     "name": "stdout",
     "output_type": "stream",
     "text": [
      "Step 7430, train loss:0.0973, test loss:4.9378\n"
     ]
    },
    {
     "name": "stderr",
     "output_type": "stream",
     "text": [
      " 74%|███████▍  | 7441/10000 [40:44<18:11,  2.34it/s]"
     ]
    },
    {
     "name": "stdout",
     "output_type": "stream",
     "text": [
      "Step 7440, train loss:0.0988, test loss:4.9486\n"
     ]
    },
    {
     "name": "stderr",
     "output_type": "stream",
     "text": [
      " 75%|███████▍  | 7451/10000 [40:47<18:25,  2.31it/s]"
     ]
    },
    {
     "name": "stdout",
     "output_type": "stream",
     "text": [
      "Step 7450, train loss:0.0981, test loss:4.9622\n"
     ]
    },
    {
     "name": "stderr",
     "output_type": "stream",
     "text": [
      " 75%|███████▍  | 7461/10000 [40:49<18:45,  2.26it/s]"
     ]
    },
    {
     "name": "stdout",
     "output_type": "stream",
     "text": [
      "Step 7460, train loss:0.0984, test loss:4.9764\n"
     ]
    },
    {
     "name": "stderr",
     "output_type": "stream",
     "text": [
      " 75%|███████▍  | 7471/10000 [40:52<18:32,  2.27it/s]"
     ]
    },
    {
     "name": "stdout",
     "output_type": "stream",
     "text": [
      "Step 7470, train loss:0.0985, test loss:4.9784\n"
     ]
    },
    {
     "name": "stderr",
     "output_type": "stream",
     "text": [
      " 75%|███████▍  | 7481/10000 [40:54<17:41,  2.37it/s]"
     ]
    },
    {
     "name": "stdout",
     "output_type": "stream",
     "text": [
      "Step 7480, train loss:0.0964, test loss:4.9424\n"
     ]
    },
    {
     "name": "stderr",
     "output_type": "stream",
     "text": [
      " 75%|███████▍  | 7491/10000 [40:56<17:45,  2.35it/s]"
     ]
    },
    {
     "name": "stdout",
     "output_type": "stream",
     "text": [
      "Step 7490, train loss:0.0962, test loss:4.9787\n"
     ]
    },
    {
     "name": "stderr",
     "output_type": "stream",
     "text": [
      " 75%|███████▌  | 7500/10000 [40:58<06:32,  6.38it/s]"
     ]
    },
    {
     "name": "stdout",
     "output_type": "stream",
     "text": [
      "Step 7500, train loss:0.0967, test loss:4.9583\n"
     ]
    },
    {
     "name": "stderr",
     "output_type": "stream",
     "text": [
      " 75%|███████▌  | 7501/10000 [41:08<2:13:10,  3.20s/it]"
     ]
    },
    {
     "name": "stdout",
     "output_type": "stream",
     "text": [
      "\n",
      "\n",
      "COMINIUS:\n",
      "Come, sir, along with us.\n",
      "\n",
      "CORIOLANUS:\n",
      "I would they were barbarians--as they are,\n",
      "Though in Rome litter'd--not Romans--as they are not,\n",
      "Though calved i' the porch o' the Capitol--\n",
      "\n",
      "MENENIUS:\n",
      "Be gone;\n",
      "Put not your worthy rage into your tongue;\n",
      "One time will owe another.\n",
      "\n",
      "CORIOLANUS:\n",
      "On fair ground\n",
      "I could beat forty of them.\n",
      "\n",
      "COMINIUS:\n",
      "I could myself\n",
      "Take up a brace o' the best of them; yea, the\n",
      "two tribunes:\n",
      "But now 'tis odds beyond are on mine,\n",
      "And on our brother Mariana.\n",
      "\n",
      "KING RICHARD II:\n",
      "The ripest fruit first falls, and so doth he;\n",
      "His time is spent, our pilgrimage must be.\n",
      "So much for that. The silent sense of those\n",
      "That best can a name to thee, but my services\n",
      "Not to thee and to thy daughter shall be their wearience:\n",
      "here is that sees whorh, breedings put up my iron dagger. Answer\n",
      "me like men:\n",
      "'When griping grief the heart doth wound,\n",
      "And doleful dumps the mind oppress,\n",
      "Then music with her silver sound'--\n",
      "why 'silver sound'? why 'music with her silver\n",
      "sound'? What say y\n",
      "Step 7500, train loss:0.0949, test loss:4.9460\n"
     ]
    },
    {
     "name": "stderr",
     "output_type": "stream",
     "text": [
      " 75%|███████▌  | 7511/10000 [41:10<20:48,  1.99it/s]"
     ]
    },
    {
     "name": "stdout",
     "output_type": "stream",
     "text": [
      "Step 7510, train loss:0.0961, test loss:4.9445\n"
     ]
    },
    {
     "name": "stderr",
     "output_type": "stream",
     "text": [
      " 75%|███████▌  | 7521/10000 [41:13<17:31,  2.36it/s]"
     ]
    },
    {
     "name": "stdout",
     "output_type": "stream",
     "text": [
      "Step 7520, train loss:0.0966, test loss:4.9729\n"
     ]
    },
    {
     "name": "stderr",
     "output_type": "stream",
     "text": [
      " 75%|███████▌  | 7531/10000 [41:15<17:25,  2.36it/s]"
     ]
    },
    {
     "name": "stdout",
     "output_type": "stream",
     "text": [
      "Step 7530, train loss:0.0964, test loss:5.0018\n"
     ]
    },
    {
     "name": "stderr",
     "output_type": "stream",
     "text": [
      " 75%|███████▌  | 7541/10000 [41:17<17:15,  2.37it/s]"
     ]
    },
    {
     "name": "stdout",
     "output_type": "stream",
     "text": [
      "Step 7540, train loss:0.0966, test loss:5.0194\n"
     ]
    },
    {
     "name": "stderr",
     "output_type": "stream",
     "text": [
      " 76%|███████▌  | 7551/10000 [41:20<17:47,  2.29it/s]"
     ]
    },
    {
     "name": "stdout",
     "output_type": "stream",
     "text": [
      "Step 7550, train loss:0.0959, test loss:5.0087\n"
     ]
    },
    {
     "name": "stderr",
     "output_type": "stream",
     "text": [
      " 76%|███████▌  | 7561/10000 [41:22<17:54,  2.27it/s]"
     ]
    },
    {
     "name": "stdout",
     "output_type": "stream",
     "text": [
      "Step 7560, train loss:0.0965, test loss:5.0009\n"
     ]
    },
    {
     "name": "stderr",
     "output_type": "stream",
     "text": [
      " 76%|███████▌  | 7571/10000 [41:25<17:34,  2.30it/s]"
     ]
    },
    {
     "name": "stdout",
     "output_type": "stream",
     "text": [
      "Step 7570, train loss:0.0964, test loss:4.9796\n"
     ]
    },
    {
     "name": "stderr",
     "output_type": "stream",
     "text": [
      " 76%|███████▌  | 7581/10000 [41:27<17:13,  2.34it/s]"
     ]
    },
    {
     "name": "stdout",
     "output_type": "stream",
     "text": [
      "Step 7580, train loss:0.0975, test loss:4.9821\n"
     ]
    },
    {
     "name": "stderr",
     "output_type": "stream",
     "text": [
      " 76%|███████▌  | 7591/10000 [41:29<16:57,  2.37it/s]"
     ]
    },
    {
     "name": "stdout",
     "output_type": "stream",
     "text": [
      "Step 7590, train loss:0.0956, test loss:4.9846\n"
     ]
    },
    {
     "name": "stderr",
     "output_type": "stream",
     "text": [
      " 76%|███████▌  | 7600/10000 [41:31<06:15,  6.39it/s]"
     ]
    },
    {
     "name": "stdout",
     "output_type": "stream",
     "text": [
      "Step 7600, train loss:0.0975, test loss:4.9866\n"
     ]
    },
    {
     "name": "stderr",
     "output_type": "stream",
     "text": [
      " 76%|███████▌  | 7601/10000 [41:41<2:03:50,  3.10s/it]"
     ]
    },
    {
     "name": "stdout",
     "output_type": "stream",
     "text": [
      "\n",
      "\n",
      "All:\n",
      "No remedy.\n",
      "Have you done there?\n",
      "\n",
      "FLORIZEL:\n",
      "Should I do.\n",
      "Welcome, my sovereign liege:\n",
      "Amongst this princely heap, if any here,\n",
      "By false intelligence, or wrong surmise,\n",
      "Hold me a foe;\n",
      "If I unwittingly, or in my rage,\n",
      "Have aught committed that is hardly borne\n",
      "By any in this presence, I desire\n",
      "To reconcile me to his friendly peace:\n",
      "'Tis death to me that will be so.\n",
      "\n",
      "COMINIUS:\n",
      "He is, King Henry, be it so.\n",
      "\n",
      "YORK:\n",
      "I shall be Edward to his and all difficulties,\n",
      "And that he over his gerdinal with him.\n",
      "\n",
      "KING HENRY VI:\n",
      "Where did you make strange abuse garland? do you thither?\n",
      "\n",
      "JULIET:\n",
      "I would not have the truth of this act of such\n",
      "Succession, 'gainst the fault on no time home:\n",
      "The very good merry words to come upon them.\n",
      "\n",
      "CAPULET:\n",
      "And when the neother such a night, I acry rie,\n",
      "There hangmed countermand further.\n",
      "\n",
      "LADY CAPULET:\n",
      "Why, how now, Juliet!\n",
      "\n",
      "JULIET:\n",
      "How now! who is it?\n",
      "\n",
      "HASTINGS:\n",
      "Marry, sir, must I set you fairs:\n",
      "Upon my life, my lord, I'll tell my lord.\n",
      "\n",
      "HASTINGS:\n",
      "I am content, so th\n",
      "Step 7600, train loss:0.0989, test loss:4.9032\n"
     ]
    },
    {
     "name": "stderr",
     "output_type": "stream",
     "text": [
      " 76%|███████▌  | 7611/10000 [41:43<20:03,  1.98it/s]"
     ]
    },
    {
     "name": "stdout",
     "output_type": "stream",
     "text": [
      "Step 7610, train loss:0.0951, test loss:5.0089\n"
     ]
    },
    {
     "name": "stderr",
     "output_type": "stream",
     "text": [
      " 76%|███████▌  | 7621/10000 [41:46<16:56,  2.34it/s]"
     ]
    },
    {
     "name": "stdout",
     "output_type": "stream",
     "text": [
      "Step 7620, train loss:0.0971, test loss:4.9436\n"
     ]
    },
    {
     "name": "stderr",
     "output_type": "stream",
     "text": [
      " 76%|███████▋  | 7631/10000 [41:48<16:40,  2.37it/s]"
     ]
    },
    {
     "name": "stdout",
     "output_type": "stream",
     "text": [
      "Step 7630, train loss:0.0960, test loss:4.9630\n"
     ]
    },
    {
     "name": "stderr",
     "output_type": "stream",
     "text": [
      " 76%|███████▋  | 7641/10000 [41:50<16:33,  2.37it/s]"
     ]
    },
    {
     "name": "stdout",
     "output_type": "stream",
     "text": [
      "Step 7640, train loss:0.0970, test loss:4.9597\n"
     ]
    },
    {
     "name": "stderr",
     "output_type": "stream",
     "text": [
      " 77%|███████▋  | 7651/10000 [41:53<16:30,  2.37it/s]"
     ]
    },
    {
     "name": "stdout",
     "output_type": "stream",
     "text": [
      "Step 7650, train loss:0.0951, test loss:4.9306\n"
     ]
    },
    {
     "name": "stderr",
     "output_type": "stream",
     "text": [
      " 77%|███████▋  | 7661/10000 [41:55<16:56,  2.30it/s]"
     ]
    },
    {
     "name": "stdout",
     "output_type": "stream",
     "text": [
      "Step 7660, train loss:0.0940, test loss:4.9700\n"
     ]
    },
    {
     "name": "stderr",
     "output_type": "stream",
     "text": [
      " 77%|███████▋  | 7671/10000 [41:57<16:58,  2.29it/s]"
     ]
    },
    {
     "name": "stdout",
     "output_type": "stream",
     "text": [
      "Step 7670, train loss:0.0962, test loss:4.9717\n"
     ]
    },
    {
     "name": "stderr",
     "output_type": "stream",
     "text": [
      " 77%|███████▋  | 7681/10000 [42:00<16:56,  2.28it/s]"
     ]
    },
    {
     "name": "stdout",
     "output_type": "stream",
     "text": [
      "Step 7680, train loss:0.0970, test loss:5.0169\n"
     ]
    },
    {
     "name": "stderr",
     "output_type": "stream",
     "text": [
      " 77%|███████▋  | 7691/10000 [42:02<16:14,  2.37it/s]"
     ]
    },
    {
     "name": "stdout",
     "output_type": "stream",
     "text": [
      "Step 7690, train loss:0.0962, test loss:4.9833\n"
     ]
    },
    {
     "name": "stderr",
     "output_type": "stream",
     "text": [
      " 77%|███████▋  | 7700/10000 [42:04<05:59,  6.39it/s]"
     ]
    },
    {
     "name": "stdout",
     "output_type": "stream",
     "text": [
      "Step 7700, train loss:0.0972, test loss:5.0310\n"
     ]
    },
    {
     "name": "stderr",
     "output_type": "stream",
     "text": [
      " 77%|███████▋  | 7701/10000 [42:13<1:55:50,  3.02s/it]"
     ]
    },
    {
     "name": "stdout",
     "output_type": "stream",
     "text": [
      "\n",
      "\n",
      "GLOUCESTER:\n",
      "What, think You we are Turks or before the swallow garland?\n",
      "\n",
      "Post:\n",
      "These fights by the other function in the old\n",
      "man, as this world in the manus and days,\n",
      "make busher well of every well mets thee.\n",
      "\n",
      "Lord Marshal:\n",
      "My Lord Aumerle, is Harry Hereford arm'd?\n",
      "\n",
      "DUKE OF AUMERLE:\n",
      "Yea, at all points; and longs to enter in.\n",
      "\n",
      "QUEEN ELIZABETH:\n",
      "True, where to-morrow?  Well, I will do sure me.\n",
      "\n",
      "QUEEN MARGARET:\n",
      "That Jerus to my mistress! Juliet, good my lord,\n",
      "To dream consorted with the cause.\n",
      "\n",
      "GLOUCESTER:\n",
      "No, he will dispatch you, let so.\n",
      "\n",
      "BUCKINGHAM:\n",
      "I swear th, most would, madam,\n",
      "I hear this meet straight to her my condemned lord\n",
      "Is doom'd. I know it, I am suriour'd to her\n",
      "And pluck it lady night by your honour.\n",
      "\n",
      "First Senator:\n",
      "You shall have noble estimate.\n",
      "\n",
      "CORIOLANUS:\n",
      "Let beseech you, mark it well.\n",
      "\n",
      "Second Murderer:\n",
      "You are deceived, your brother Gloucester hates you.\n",
      "\n",
      "CLARENCE:\n",
      "O, no, he loves me, and he holds me dear:\n",
      "Go you to him from me.\n",
      "\n",
      "BISHOP OF ELY:\n",
      "My lord, will be a jaden,\n",
      "Step 7700, train loss:0.0976, test loss:4.9889\n"
     ]
    },
    {
     "name": "stderr",
     "output_type": "stream",
     "text": [
      " 77%|███████▋  | 7711/10000 [42:16<19:25,  1.96it/s]"
     ]
    },
    {
     "name": "stdout",
     "output_type": "stream",
     "text": [
      "Step 7710, train loss:0.0961, test loss:4.9566\n"
     ]
    },
    {
     "name": "stderr",
     "output_type": "stream",
     "text": [
      " 77%|███████▋  | 7721/10000 [42:18<16:07,  2.36it/s]"
     ]
    },
    {
     "name": "stdout",
     "output_type": "stream",
     "text": [
      "Step 7720, train loss:0.0965, test loss:4.9845\n"
     ]
    },
    {
     "name": "stderr",
     "output_type": "stream",
     "text": [
      " 77%|███████▋  | 7731/10000 [42:20<15:57,  2.37it/s]"
     ]
    },
    {
     "name": "stdout",
     "output_type": "stream",
     "text": [
      "Step 7730, train loss:0.0952, test loss:4.9611\n"
     ]
    },
    {
     "name": "stderr",
     "output_type": "stream",
     "text": [
      " 77%|███████▋  | 7741/10000 [42:23<15:52,  2.37it/s]"
     ]
    },
    {
     "name": "stdout",
     "output_type": "stream",
     "text": [
      "Step 7740, train loss:0.0970, test loss:4.9585\n"
     ]
    },
    {
     "name": "stderr",
     "output_type": "stream",
     "text": [
      " 78%|███████▊  | 7751/10000 [42:25<15:52,  2.36it/s]"
     ]
    },
    {
     "name": "stdout",
     "output_type": "stream",
     "text": [
      "Step 7750, train loss:0.0957, test loss:5.0390\n"
     ]
    },
    {
     "name": "stderr",
     "output_type": "stream",
     "text": [
      " 78%|███████▊  | 7761/10000 [42:28<16:17,  2.29it/s]"
     ]
    },
    {
     "name": "stdout",
     "output_type": "stream",
     "text": [
      "Step 7760, train loss:0.0969, test loss:5.0258\n"
     ]
    },
    {
     "name": "stderr",
     "output_type": "stream",
     "text": [
      " 78%|███████▊  | 7771/10000 [42:30<16:08,  2.30it/s]"
     ]
    },
    {
     "name": "stdout",
     "output_type": "stream",
     "text": [
      "Step 7770, train loss:0.0970, test loss:4.9418\n"
     ]
    },
    {
     "name": "stderr",
     "output_type": "stream",
     "text": [
      " 78%|███████▊  | 7781/10000 [42:32<16:09,  2.29it/s]"
     ]
    },
    {
     "name": "stdout",
     "output_type": "stream",
     "text": [
      "Step 7780, train loss:0.0968, test loss:5.0306\n"
     ]
    },
    {
     "name": "stderr",
     "output_type": "stream",
     "text": [
      " 78%|███████▊  | 7791/10000 [42:35<15:39,  2.35it/s]"
     ]
    },
    {
     "name": "stdout",
     "output_type": "stream",
     "text": [
      "Step 7790, train loss:0.0959, test loss:5.0402\n"
     ]
    },
    {
     "name": "stderr",
     "output_type": "stream",
     "text": [
      " 78%|███████▊  | 7800/10000 [42:36<05:44,  6.39it/s]"
     ]
    },
    {
     "name": "stdout",
     "output_type": "stream",
     "text": [
      "Step 7800, train loss:0.0964, test loss:4.9466\n"
     ]
    },
    {
     "name": "stderr",
     "output_type": "stream",
     "text": [
      " 78%|███████▊  | 7801/10000 [42:46<1:48:49,  2.97s/it]"
     ]
    },
    {
     "name": "stdout",
     "output_type": "stream",
     "text": [
      "\n",
      "\n",
      "SAMPSON:\n",
      "And I have, if you shall pay him of\n",
      "Well in what serious house.\n",
      "\n",
      "MENENIUS:\n",
      "Sir, half Villain!\n",
      "\n",
      "SICINIUS:\n",
      "What do ye talk?\n",
      "Have we not had a taste of his own\n",
      "Matters? and his new bride you bring it?\n",
      "\n",
      "BUCKINGHAM:\n",
      "Upon the stroke, ungravely longer as\n",
      "you something here.\n",
      "\n",
      "AUFIDIUS:\n",
      "It is an honester service:\n",
      "All this is come to prayer ought to have.\n",
      "\n",
      "HENRY BOLINGBROKE:\n",
      "Good day, my lord.\n",
      "\n",
      "KING RICHARD II:\n",
      "Then call them to our presence; face to foot,\n",
      "I'll serve me secure and such up:\n",
      "I'll claudio calls showld but enter in no more\n",
      "Than what I proud man in Clarence' daughter,\n",
      "The model of the case: if this intellige\n",
      "Of what means the fresh green very face,\n",
      "Which are the rest march amain to foul side,\n",
      "With Cromptess have had changed them: but\n",
      "He is not to be talked withal. Away with\n",
      "him to prison! Where is the provost? Away with him\n",
      "to prison! lay bolts enough upon him: let him\n",
      "speak no more. Away with those giglots too, and\n",
      "with the other confederate companion!\n",
      "\n",
      "DUKE VINCENTIO:\n",
      "\n",
      "ANG\n",
      "Step 7800, train loss:0.0953, test loss:4.9536\n"
     ]
    },
    {
     "name": "stderr",
     "output_type": "stream",
     "text": [
      " 78%|███████▊  | 7811/10000 [42:48<18:35,  1.96it/s]"
     ]
    },
    {
     "name": "stdout",
     "output_type": "stream",
     "text": [
      "Step 7810, train loss:0.0960, test loss:4.9009\n"
     ]
    },
    {
     "name": "stderr",
     "output_type": "stream",
     "text": [
      " 78%|███████▊  | 7821/10000 [42:50<15:59,  2.27it/s]"
     ]
    },
    {
     "name": "stdout",
     "output_type": "stream",
     "text": [
      "Step 7820, train loss:0.0975, test loss:4.9565\n"
     ]
    },
    {
     "name": "stderr",
     "output_type": "stream",
     "text": [
      " 78%|███████▊  | 7831/10000 [42:53<15:16,  2.37it/s]"
     ]
    },
    {
     "name": "stdout",
     "output_type": "stream",
     "text": [
      "Step 7830, train loss:0.0952, test loss:5.0116\n"
     ]
    },
    {
     "name": "stderr",
     "output_type": "stream",
     "text": [
      " 78%|███████▊  | 7841/10000 [42:55<15:17,  2.35it/s]"
     ]
    },
    {
     "name": "stdout",
     "output_type": "stream",
     "text": [
      "Step 7840, train loss:0.0945, test loss:5.0201\n"
     ]
    },
    {
     "name": "stderr",
     "output_type": "stream",
     "text": [
      " 79%|███████▊  | 7851/10000 [42:58<15:12,  2.36it/s]"
     ]
    },
    {
     "name": "stdout",
     "output_type": "stream",
     "text": [
      "Step 7850, train loss:0.0957, test loss:4.9952\n"
     ]
    },
    {
     "name": "stderr",
     "output_type": "stream",
     "text": [
      " 79%|███████▊  | 7861/10000 [43:00<15:05,  2.36it/s]"
     ]
    },
    {
     "name": "stdout",
     "output_type": "stream",
     "text": [
      "Step 7860, train loss:0.0970, test loss:5.0806\n"
     ]
    },
    {
     "name": "stderr",
     "output_type": "stream",
     "text": [
      " 79%|███████▊  | 7871/10000 [43:02<15:35,  2.28it/s]"
     ]
    },
    {
     "name": "stdout",
     "output_type": "stream",
     "text": [
      "Step 7870, train loss:0.0961, test loss:4.9815\n"
     ]
    },
    {
     "name": "stderr",
     "output_type": "stream",
     "text": [
      " 79%|███████▉  | 7881/10000 [43:05<15:27,  2.29it/s]"
     ]
    },
    {
     "name": "stdout",
     "output_type": "stream",
     "text": [
      "Step 7880, train loss:0.0955, test loss:5.1351\n"
     ]
    },
    {
     "name": "stderr",
     "output_type": "stream",
     "text": [
      " 79%|███████▉  | 7891/10000 [43:07<15:18,  2.30it/s]"
     ]
    },
    {
     "name": "stdout",
     "output_type": "stream",
     "text": [
      "Step 7890, train loss:0.0941, test loss:5.0122\n"
     ]
    },
    {
     "name": "stderr",
     "output_type": "stream",
     "text": [
      " 79%|███████▉  | 7900/10000 [43:09<05:28,  6.40it/s]"
     ]
    },
    {
     "name": "stdout",
     "output_type": "stream",
     "text": [
      "Step 7900, train loss:0.0961, test loss:5.0250\n"
     ]
    },
    {
     "name": "stderr",
     "output_type": "stream",
     "text": [
      " 79%|███████▉  | 7901/10000 [43:17<1:38:03,  2.80s/it]"
     ]
    },
    {
     "name": "stdout",
     "output_type": "stream",
     "text": [
      "\n",
      "\n",
      "ISABELLA:\n",
      "O, I do fear thee, Claudio; and I quake,\n",
      "Lest thou a feverous life shouldst entertain,\n",
      "And six or seven winters more respect\n",
      "Than a perpetual honour. Darest thou die?\n",
      "The sense of death is most in apprehension;\n",
      "And the poor beer service subjects as ask.\n",
      "\n",
      "KING EDWARD IV:\n",
      "Go, trumpet, to the walls, and sound a parle.\n",
      "\n",
      "GLOUCESTER:\n",
      "See how the surly Warwick mans the wall!\n",
      "\n",
      "GLOUCESTER:\n",
      "But shall I for my exercise life?\n",
      "\n",
      "GLOUCESTER:\n",
      "His Taken are we sworn should confess to 't.\n",
      "I speak to thee as a fellow to't?\n",
      "\n",
      "POMPEY:\n",
      "You may be said to have it.\n",
      "\n",
      "DUKE OF YORK:\n",
      "Give me my boots, I say; saddle my horse.\n",
      "The guiltless wife and Lord Clifford done;\n",
      "That cannot lick his cause to guard us!\n",
      "\n",
      "GREMIO:\n",
      "What else? and that succession boy!\n",
      "\n",
      "AUTOLYCUS:\n",
      "I am agreed; I will not cake the way\n",
      "To from his best ward gilded. And thou, great sir,\n",
      "Bohemia greets you from himself by me;\n",
      "Desires you to attach his son, who has--\n",
      "His dignity and duty both cast off--\n",
      "Fled from his father, from his hopes, and\n",
      "Step 7900, train loss:0.0959, test loss:4.9152\n"
     ]
    },
    {
     "name": "stderr",
     "output_type": "stream",
     "text": [
      " 79%|███████▉  | 7911/10000 [43:20<17:46,  1.96it/s]"
     ]
    },
    {
     "name": "stdout",
     "output_type": "stream",
     "text": [
      "Step 7910, train loss:0.0969, test loss:5.0250\n"
     ]
    },
    {
     "name": "stderr",
     "output_type": "stream",
     "text": [
      " 79%|███████▉  | 7921/10000 [43:22<15:14,  2.27it/s]"
     ]
    },
    {
     "name": "stdout",
     "output_type": "stream",
     "text": [
      "Step 7920, train loss:0.0962, test loss:5.0043\n"
     ]
    },
    {
     "name": "stderr",
     "output_type": "stream",
     "text": [
      " 79%|███████▉  | 7931/10000 [43:25<15:02,  2.29it/s]"
     ]
    },
    {
     "name": "stdout",
     "output_type": "stream",
     "text": [
      "Step 7930, train loss:0.0968, test loss:4.9985\n"
     ]
    },
    {
     "name": "stderr",
     "output_type": "stream",
     "text": [
      " 79%|███████▉  | 7941/10000 [43:27<14:34,  2.35it/s]"
     ]
    },
    {
     "name": "stdout",
     "output_type": "stream",
     "text": [
      "Step 7940, train loss:0.0946, test loss:4.9815\n"
     ]
    },
    {
     "name": "stderr",
     "output_type": "stream",
     "text": [
      " 80%|███████▉  | 7951/10000 [43:30<14:30,  2.35it/s]"
     ]
    },
    {
     "name": "stdout",
     "output_type": "stream",
     "text": [
      "Step 7950, train loss:0.0966, test loss:4.9838\n"
     ]
    },
    {
     "name": "stderr",
     "output_type": "stream",
     "text": [
      " 80%|███████▉  | 7961/10000 [43:32<14:30,  2.34it/s]"
     ]
    },
    {
     "name": "stdout",
     "output_type": "stream",
     "text": [
      "Step 7960, train loss:0.0950, test loss:4.9704\n"
     ]
    },
    {
     "name": "stderr",
     "output_type": "stream",
     "text": [
      " 80%|███████▉  | 7971/10000 [43:34<14:17,  2.37it/s]"
     ]
    },
    {
     "name": "stdout",
     "output_type": "stream",
     "text": [
      "Step 7970, train loss:0.0943, test loss:5.0259\n"
     ]
    },
    {
     "name": "stderr",
     "output_type": "stream",
     "text": [
      " 80%|███████▉  | 7981/10000 [43:37<14:50,  2.27it/s]"
     ]
    },
    {
     "name": "stdout",
     "output_type": "stream",
     "text": [
      "Step 7980, train loss:0.0940, test loss:4.9675\n"
     ]
    },
    {
     "name": "stderr",
     "output_type": "stream",
     "text": [
      " 80%|███████▉  | 7991/10000 [43:39<14:40,  2.28it/s]"
     ]
    },
    {
     "name": "stdout",
     "output_type": "stream",
     "text": [
      "Step 7990, train loss:0.0962, test loss:5.0421\n"
     ]
    },
    {
     "name": "stderr",
     "output_type": "stream",
     "text": [
      " 80%|████████  | 8000/10000 [43:40<05:18,  6.29it/s]"
     ]
    },
    {
     "name": "stdout",
     "output_type": "stream",
     "text": [
      "Step 8000, train loss:0.0956, test loss:5.0315\n"
     ]
    },
    {
     "name": "stderr",
     "output_type": "stream",
     "text": [
      " 80%|████████  | 8001/10000 [43:50<1:35:07,  2.86s/it]"
     ]
    },
    {
     "name": "stdout",
     "output_type": "stream",
     "text": [
      "\n",
      "\n",
      "FRIAR LAURENCE:\n",
      "Hold thy desperate hand:\n",
      "Art thou a man? thy form cries out thou art:\n",
      "Thy tears are womanish; thy wild acts denote\n",
      "The unreasonable fury of a beast:\n",
      "Unseemly woman in this unstanched strength\n",
      "And live on Edward's of mine own part,\n",
      "When my prophesy for roging have made themselves\n",
      "Stand up my former; and then the king sovereign.\n",
      "\n",
      "HENRY BOLINGBROKE:\n",
      "As I do not, uncle, further than you should.\n",
      "\n",
      "DUKE OF YORK:\n",
      "Take not, good cousin, further than you should.\n",
      "Lest you mistake the heavens are o'er our heads.\n",
      "\n",
      "HENRY BOLINGBROKE:\n",
      "I know it, uncle, and in that gracious mind.\n",
      "\n",
      "HENRY BOLINGBROKE:\n",
      "But for our trusty brother-in-law was an enemy;\n",
      "Which to the high top-gallant of my joy\n",
      "Must be my convoy in the secret night.\n",
      "Farewell; be trusty, and I received.\n",
      "\n",
      "Third Gentleman:\n",
      "One of these woes thine, thou hast weep my tongues;\n",
      "But near before the Welshman comes.\n",
      "What answer she Hath I am the last?\n",
      "\n",
      "Messenger:\n",
      "The bless of his cowere cause we hear\n",
      "Suggest but true.\n",
      "\n",
      "Provost:\n",
      "This shal\n",
      "Step 8000, train loss:0.0955, test loss:5.0311\n"
     ]
    },
    {
     "name": "stderr",
     "output_type": "stream",
     "text": [
      " 80%|████████  | 8011/10000 [43:52<16:17,  2.03it/s]"
     ]
    },
    {
     "name": "stdout",
     "output_type": "stream",
     "text": [
      "Step 8010, train loss:0.0949, test loss:4.9640\n"
     ]
    },
    {
     "name": "stderr",
     "output_type": "stream",
     "text": [
      " 80%|████████  | 8021/10000 [43:54<14:30,  2.27it/s]"
     ]
    },
    {
     "name": "stdout",
     "output_type": "stream",
     "text": [
      "Step 8020, train loss:0.0965, test loss:4.9712\n"
     ]
    },
    {
     "name": "stderr",
     "output_type": "stream",
     "text": [
      " 80%|████████  | 8031/10000 [43:57<14:26,  2.27it/s]"
     ]
    },
    {
     "name": "stdout",
     "output_type": "stream",
     "text": [
      "Step 8030, train loss:0.0953, test loss:4.9853\n"
     ]
    },
    {
     "name": "stderr",
     "output_type": "stream",
     "text": [
      " 80%|████████  | 8041/10000 [43:59<14:14,  2.29it/s]"
     ]
    },
    {
     "name": "stdout",
     "output_type": "stream",
     "text": [
      "Step 8040, train loss:0.0954, test loss:5.0203\n"
     ]
    },
    {
     "name": "stderr",
     "output_type": "stream",
     "text": [
      " 81%|████████  | 8051/10000 [44:02<13:45,  2.36it/s]"
     ]
    },
    {
     "name": "stdout",
     "output_type": "stream",
     "text": [
      "Step 8050, train loss:0.0948, test loss:5.0971\n"
     ]
    },
    {
     "name": "stderr",
     "output_type": "stream",
     "text": [
      " 81%|████████  | 8061/10000 [44:04<13:41,  2.36it/s]"
     ]
    },
    {
     "name": "stdout",
     "output_type": "stream",
     "text": [
      "Step 8060, train loss:0.0946, test loss:4.9439\n"
     ]
    },
    {
     "name": "stderr",
     "output_type": "stream",
     "text": [
      " 81%|████████  | 8071/10000 [44:06<13:33,  2.37it/s]"
     ]
    },
    {
     "name": "stdout",
     "output_type": "stream",
     "text": [
      "Step 8070, train loss:0.0951, test loss:4.9906\n"
     ]
    },
    {
     "name": "stderr",
     "output_type": "stream",
     "text": [
      " 81%|████████  | 8081/10000 [44:09<13:30,  2.37it/s]"
     ]
    },
    {
     "name": "stdout",
     "output_type": "stream",
     "text": [
      "Step 8080, train loss:0.0953, test loss:4.9641\n"
     ]
    },
    {
     "name": "stderr",
     "output_type": "stream",
     "text": [
      " 81%|████████  | 8091/10000 [44:11<13:50,  2.30it/s]"
     ]
    },
    {
     "name": "stdout",
     "output_type": "stream",
     "text": [
      "Step 8090, train loss:0.0942, test loss:5.0110\n"
     ]
    },
    {
     "name": "stderr",
     "output_type": "stream",
     "text": [
      " 81%|████████  | 8100/10000 [44:12<05:12,  6.08it/s]"
     ]
    },
    {
     "name": "stdout",
     "output_type": "stream",
     "text": [
      "Step 8100, train loss:0.0946, test loss:4.9505\n"
     ]
    },
    {
     "name": "stderr",
     "output_type": "stream",
     "text": [
      " 81%|████████  | 8101/10000 [44:22<1:34:03,  2.97s/it]"
     ]
    },
    {
     "name": "stdout",
     "output_type": "stream",
     "text": [
      "\n",
      "\n",
      "AUTOLYCUS:\n",
      "Be that act of parliament be beast:\n",
      "My birth-victory stumble that have frailt,\n",
      "With unats so bad as thou art all on't.\n",
      "\n",
      "CLEOMENES:\n",
      "Great Apollo high a prophet's narrow to a wise on't,\n",
      "A consul's worthiney, and in that vein on\n",
      "To do what will you are deceived in my breast,\n",
      "Which then I pilgin-very piece of blood\n",
      "Shed for my thankless country are requited\n",
      "But with that surname.\n",
      "\n",
      "CAMILLO:\n",
      "I dare not know, my lord.\n",
      "\n",
      "POLIXENES:\n",
      "How! dare not! do not. Do you know, and dare not?\n",
      "Be intelligent to me: 'tis thereabouts;\n",
      "For, to yourself, what you can do.\n",
      "\n",
      "CAMILLO:\n",
      "Shall not at your father's house.\n",
      "\n",
      "CORIOLANUS:\n",
      "'Tis not so much is the wonder in\n",
      "The charges of the mar thou tost waste; back'd to the world,\n",
      "Whose unavoided eye is murderous.\n",
      "\n",
      "COMINIUS:\n",
      "Now I have mine own behalf;\n",
      "And now I give my soul that love 'farewell.\n",
      "\n",
      "BUCKINGHAM:\n",
      "Lord mayor,--\n",
      "\n",
      "DUCHESS OF YORK:\n",
      "Hear me a word;\n",
      "For I say, Pompey, and be a whoremonger,\n",
      "That mercy should they be conqueror.\n",
      "\n",
      "ISABELLA:\n",
      "So who neither mus\n",
      "Step 8100, train loss:0.0935, test loss:4.9972\n"
     ]
    },
    {
     "name": "stderr",
     "output_type": "stream",
     "text": [
      " 81%|████████  | 8111/10000 [44:24<15:30,  2.03it/s]"
     ]
    },
    {
     "name": "stdout",
     "output_type": "stream",
     "text": [
      "Step 8110, train loss:0.0959, test loss:5.0510\n"
     ]
    },
    {
     "name": "stderr",
     "output_type": "stream",
     "text": [
      " 81%|████████  | 8121/10000 [44:27<13:36,  2.30it/s]"
     ]
    },
    {
     "name": "stdout",
     "output_type": "stream",
     "text": [
      "Step 8120, train loss:0.0968, test loss:5.0283\n"
     ]
    },
    {
     "name": "stderr",
     "output_type": "stream",
     "text": [
      " 81%|████████▏ | 8131/10000 [44:29<13:32,  2.30it/s]"
     ]
    },
    {
     "name": "stdout",
     "output_type": "stream",
     "text": [
      "Step 8130, train loss:0.0946, test loss:5.0024\n"
     ]
    },
    {
     "name": "stderr",
     "output_type": "stream",
     "text": [
      " 81%|████████▏ | 8141/10000 [44:32<13:35,  2.28it/s]"
     ]
    },
    {
     "name": "stdout",
     "output_type": "stream",
     "text": [
      "Step 8140, train loss:0.0955, test loss:4.9676\n"
     ]
    },
    {
     "name": "stderr",
     "output_type": "stream",
     "text": [
      " 82%|████████▏ | 8151/10000 [44:34<13:21,  2.31it/s]"
     ]
    },
    {
     "name": "stdout",
     "output_type": "stream",
     "text": [
      "Step 8150, train loss:0.0950, test loss:5.0346\n"
     ]
    },
    {
     "name": "stderr",
     "output_type": "stream",
     "text": [
      " 82%|████████▏ | 8161/10000 [44:36<12:57,  2.37it/s]"
     ]
    },
    {
     "name": "stdout",
     "output_type": "stream",
     "text": [
      "Step 8160, train loss:0.0960, test loss:5.0004\n"
     ]
    },
    {
     "name": "stderr",
     "output_type": "stream",
     "text": [
      " 82%|████████▏ | 8171/10000 [44:39<12:59,  2.34it/s]"
     ]
    },
    {
     "name": "stdout",
     "output_type": "stream",
     "text": [
      "Step 8170, train loss:0.0955, test loss:5.0021\n"
     ]
    },
    {
     "name": "stderr",
     "output_type": "stream",
     "text": [
      " 82%|████████▏ | 8181/10000 [44:41<12:49,  2.36it/s]"
     ]
    },
    {
     "name": "stdout",
     "output_type": "stream",
     "text": [
      "Step 8180, train loss:0.0940, test loss:4.8920\n"
     ]
    },
    {
     "name": "stderr",
     "output_type": "stream",
     "text": [
      " 82%|████████▏ | 8191/10000 [44:43<12:47,  2.36it/s]"
     ]
    },
    {
     "name": "stdout",
     "output_type": "stream",
     "text": [
      "Step 8190, train loss:0.0958, test loss:5.0365\n"
     ]
    },
    {
     "name": "stderr",
     "output_type": "stream",
     "text": [
      " 82%|████████▏ | 8200/10000 [44:45<04:47,  6.25it/s]"
     ]
    },
    {
     "name": "stdout",
     "output_type": "stream",
     "text": [
      "Step 8200, train loss:0.0942, test loss:4.9879\n"
     ]
    },
    {
     "name": "stderr",
     "output_type": "stream",
     "text": [
      " 82%|████████▏ | 8201/10000 [44:55<1:31:54,  3.07s/it]"
     ]
    },
    {
     "name": "stdout",
     "output_type": "stream",
     "text": [
      "\n",
      "\n",
      "QUEEN MARGARET:\n",
      "Thanks, good Montgomery; fore the words of sovereignty.\n",
      "\n",
      "KING LEWIS XI:\n",
      "Then further, all dissemblers shall be for both:\n",
      "Therefore thy earliness doth me assure\n",
      "Thou art up-roused by some distemperature;\n",
      "Or if not so, then here I hit it right,\n",
      "Our Romeo hath not been in bed to-night;\n",
      "But I am proverb'd with a grandsire phrase;\n",
      "I'll be a foolish that hath left us awhile.\n",
      "\n",
      "LADY ANNE:\n",
      "With all my heart, and much better spoke.\n",
      "\n",
      "KING HENRY VI:\n",
      "Stay, then, my lord, this little loyalty.\n",
      "\n",
      "GLOUCESTER:\n",
      "Then be your enemy to you at your housage.\n",
      "\n",
      "HENRY BOLINGBROKE:\n",
      "To me, good swife: when I am gone to bad the last,\n",
      "And I could take the water clip and discovery,\n",
      "Whilst you mount without hours, God spephes,\n",
      "Which here you were they! would not this subject,\n",
      "Or else a gross them affrighted such a curse;\n",
      "Which should cut do it with curse to pant the same.\n",
      "What art thou? and how comest thou hither,\n",
      "Where it seems best have lengthen'd hours\n",
      "My absence dealings and present death?\n",
      "But what \n",
      "Step 8200, train loss:0.0942, test loss:5.0133\n"
     ]
    },
    {
     "name": "stderr",
     "output_type": "stream",
     "text": [
      " 82%|████████▏ | 8211/10000 [44:57<14:50,  2.01it/s]"
     ]
    },
    {
     "name": "stdout",
     "output_type": "stream",
     "text": [
      "Step 8210, train loss:0.0948, test loss:4.9913\n"
     ]
    },
    {
     "name": "stderr",
     "output_type": "stream",
     "text": [
      " 82%|████████▏ | 8221/10000 [44:59<12:36,  2.35it/s]"
     ]
    },
    {
     "name": "stdout",
     "output_type": "stream",
     "text": [
      "Step 8220, train loss:0.0923, test loss:5.1145\n"
     ]
    },
    {
     "name": "stderr",
     "output_type": "stream",
     "text": [
      " 82%|████████▏ | 8231/10000 [45:02<12:54,  2.28it/s]"
     ]
    },
    {
     "name": "stdout",
     "output_type": "stream",
     "text": [
      "Step 8230, train loss:0.0948, test loss:5.0181\n"
     ]
    },
    {
     "name": "stderr",
     "output_type": "stream",
     "text": [
      " 82%|████████▏ | 8241/10000 [45:04<12:52,  2.28it/s]"
     ]
    },
    {
     "name": "stdout",
     "output_type": "stream",
     "text": [
      "Step 8240, train loss:0.0943, test loss:5.0462\n"
     ]
    },
    {
     "name": "stderr",
     "output_type": "stream",
     "text": [
      " 83%|████████▎ | 8251/10000 [45:07<12:45,  2.28it/s]"
     ]
    },
    {
     "name": "stdout",
     "output_type": "stream",
     "text": [
      "Step 8250, train loss:0.0949, test loss:5.1286\n"
     ]
    },
    {
     "name": "stderr",
     "output_type": "stream",
     "text": [
      " 83%|████████▎ | 8261/10000 [45:09<12:13,  2.37it/s]"
     ]
    },
    {
     "name": "stdout",
     "output_type": "stream",
     "text": [
      "Step 8260, train loss:0.0952, test loss:4.9845\n"
     ]
    },
    {
     "name": "stderr",
     "output_type": "stream",
     "text": [
      " 83%|████████▎ | 8271/10000 [45:11<12:11,  2.36it/s]"
     ]
    },
    {
     "name": "stdout",
     "output_type": "stream",
     "text": [
      "Step 8270, train loss:0.0933, test loss:5.0466\n"
     ]
    },
    {
     "name": "stderr",
     "output_type": "stream",
     "text": [
      " 83%|████████▎ | 8281/10000 [45:14<12:10,  2.35it/s]"
     ]
    },
    {
     "name": "stdout",
     "output_type": "stream",
     "text": [
      "Step 8280, train loss:0.0922, test loss:4.9986\n"
     ]
    },
    {
     "name": "stderr",
     "output_type": "stream",
     "text": [
      " 83%|████████▎ | 8291/10000 [45:16<12:02,  2.37it/s]"
     ]
    },
    {
     "name": "stdout",
     "output_type": "stream",
     "text": [
      "Step 8290, train loss:0.0950, test loss:4.9684\n"
     ]
    },
    {
     "name": "stderr",
     "output_type": "stream",
     "text": [
      " 83%|████████▎ | 8300/10000 [45:17<04:24,  6.42it/s]"
     ]
    },
    {
     "name": "stdout",
     "output_type": "stream",
     "text": [
      "Step 8300, train loss:0.0932, test loss:4.9772\n"
     ]
    },
    {
     "name": "stderr",
     "output_type": "stream",
     "text": [
      " 83%|████████▎ | 8301/10000 [45:28<1:29:15,  3.15s/it]"
     ]
    },
    {
     "name": "stdout",
     "output_type": "stream",
     "text": [
      "\n",
      "\n",
      "LIONTA:\n",
      "O, the worst welcome!\n",
      "And you in being meddle with thy prince,\n",
      "Ere yet I left, to supper in the Tower.\n",
      "\n",
      "KING EDWARD IV:\n",
      "Welcome, gentlemen! I have seen the day\n",
      "That I have worn so many win them sit\n",
      "That an infant, that hath broach'd his new brother's blood\n",
      "And whereto the world.\n",
      "\n",
      "Provost:\n",
      "This shall being more it worth thee, bands\n",
      "My enemy ispriced the face to sweet,\n",
      "And pattachery in the ground good.\n",
      "\n",
      "LEONTES:\n",
      "Go, and\n",
      "Sour arms be prayer'd; then the king's name and the\n",
      "solemnity, her brother Frederick was wrecked at sea,\n",
      "having in that perished vessel the dowry of his\n",
      "sister. But mark how heavily this befell to the\n",
      "poor gentlewoman: there she lost a noble and\n",
      "renowned brother, in his love toward her ever most\n",
      "kind and natural; with him, the portion and sinew of\n",
      "her fortune, her marriage-dowry; with both, her\n",
      "combinate husband, this well-seeming Angelo,\n",
      "In all his dressings, though and odd and all:\n",
      "That, is the last receiving it to be\n",
      "Call Bolingbroke--for, as my life hath thee\n",
      "Step 8300, train loss:0.0943, test loss:5.0125\n"
     ]
    },
    {
     "name": "stderr",
     "output_type": "stream",
     "text": [
      " 83%|████████▎ | 8311/10000 [45:30<14:06,  2.00it/s]"
     ]
    },
    {
     "name": "stdout",
     "output_type": "stream",
     "text": [
      "Step 8310, train loss:0.0927, test loss:5.0379\n"
     ]
    },
    {
     "name": "stderr",
     "output_type": "stream",
     "text": [
      " 83%|████████▎ | 8321/10000 [45:32<11:51,  2.36it/s]"
     ]
    },
    {
     "name": "stdout",
     "output_type": "stream",
     "text": [
      "Step 8320, train loss:0.0943, test loss:4.9708\n"
     ]
    },
    {
     "name": "stderr",
     "output_type": "stream",
     "text": [
      " 83%|████████▎ | 8331/10000 [45:35<11:55,  2.33it/s]"
     ]
    },
    {
     "name": "stdout",
     "output_type": "stream",
     "text": [
      "Step 8330, train loss:0.0926, test loss:5.0270\n"
     ]
    },
    {
     "name": "stderr",
     "output_type": "stream",
     "text": [
      " 83%|████████▎ | 8341/10000 [45:37<12:07,  2.28it/s]"
     ]
    },
    {
     "name": "stdout",
     "output_type": "stream",
     "text": [
      "Step 8340, train loss:0.0932, test loss:4.9585\n"
     ]
    },
    {
     "name": "stderr",
     "output_type": "stream",
     "text": [
      " 84%|████████▎ | 8351/10000 [45:40<12:03,  2.28it/s]"
     ]
    },
    {
     "name": "stdout",
     "output_type": "stream",
     "text": [
      "Step 8350, train loss:0.0959, test loss:5.0618\n"
     ]
    },
    {
     "name": "stderr",
     "output_type": "stream",
     "text": [
      " 84%|████████▎ | 8361/10000 [45:42<11:44,  2.33it/s]"
     ]
    },
    {
     "name": "stdout",
     "output_type": "stream",
     "text": [
      "Step 8360, train loss:0.0960, test loss:4.9602\n"
     ]
    },
    {
     "name": "stderr",
     "output_type": "stream",
     "text": [
      " 84%|████████▎ | 8371/10000 [45:44<11:28,  2.36it/s]"
     ]
    },
    {
     "name": "stdout",
     "output_type": "stream",
     "text": [
      "Step 8370, train loss:0.0940, test loss:5.0016\n"
     ]
    },
    {
     "name": "stderr",
     "output_type": "stream",
     "text": [
      " 84%|████████▍ | 8381/10000 [45:47<11:22,  2.37it/s]"
     ]
    },
    {
     "name": "stdout",
     "output_type": "stream",
     "text": [
      "Step 8380, train loss:0.0948, test loss:5.0647\n"
     ]
    },
    {
     "name": "stderr",
     "output_type": "stream",
     "text": [
      " 84%|████████▍ | 8391/10000 [45:49<11:20,  2.36it/s]"
     ]
    },
    {
     "name": "stdout",
     "output_type": "stream",
     "text": [
      "Step 8390, train loss:0.0947, test loss:5.0192\n"
     ]
    },
    {
     "name": "stderr",
     "output_type": "stream",
     "text": [
      " 84%|████████▍ | 8400/10000 [45:50<04:10,  6.40it/s]"
     ]
    },
    {
     "name": "stdout",
     "output_type": "stream",
     "text": [
      "Step 8400, train loss:0.0955, test loss:4.9596\n"
     ]
    },
    {
     "name": "stderr",
     "output_type": "stream",
     "text": [
      " 84%|████████▍ | 8401/10000 [46:01<1:25:54,  3.22s/it]"
     ]
    },
    {
     "name": "stdout",
     "output_type": "stream",
     "text": [
      "\n",
      "\n",
      "Service without any hand,\n",
      "Thou wast provoked by thy bloody mind.\n",
      "Which never dreamt on aught but butcheries:\n",
      "Didst thou not kill this king?\n",
      "\n",
      "GLOUCESTER:\n",
      "I grant ye.\n",
      "\n",
      "LADY ANNE:\n",
      "Dost grant me, hedgehog? then, God grant me too\n",
      "Thou mayst be damned for that wime,\n",
      "Shall we hear their faces of banishment,\n",
      "While the swiftien like an unlook'd form,\n",
      "Which I do confess: I can sole few,\n",
      "Verona by the fire of hope I in't.\n",
      "\n",
      "SICINIUS:\n",
      "ThBle you show in this face of her.\n",
      "\n",
      "Third Citizen:\n",
      "One of the kingdom, being often diages to the Gaunt. What is well?\n",
      "When I was a man that kiss that was frost\n",
      "To beat with mar and  say the trick on't.\n",
      "\n",
      "FLORIZEL:\n",
      "Dispatch, I prithee.\n",
      "\n",
      "AUTOLYCUS:\n",
      "Indeed, I have had earnest to him in the\n",
      "duke, and the triumph of my jocunched ark\n",
      "As I have set them down. If I do send, dispatch\n",
      "Those centuries to our aid: the rest will serve\n",
      "For a short holding: if we lose the field,\n",
      "We cannot keep the town.\n",
      "\n",
      "Lieutenant:\n",
      "Sir, I beseech you, lords and policy may weed:\n",
      "Deserve your this pu\n",
      "Step 8400, train loss:0.0947, test loss:4.9248\n"
     ]
    },
    {
     "name": "stderr",
     "output_type": "stream",
     "text": [
      " 84%|████████▍ | 8411/10000 [46:03<13:16,  1.99it/s]"
     ]
    },
    {
     "name": "stdout",
     "output_type": "stream",
     "text": [
      "Step 8410, train loss:0.0932, test loss:5.0048\n"
     ]
    },
    {
     "name": "stderr",
     "output_type": "stream",
     "text": [
      " 84%|████████▍ | 8421/10000 [46:05<11:09,  2.36it/s]"
     ]
    },
    {
     "name": "stdout",
     "output_type": "stream",
     "text": [
      "Step 8420, train loss:0.0949, test loss:5.0094\n"
     ]
    },
    {
     "name": "stderr",
     "output_type": "stream",
     "text": [
      " 84%|████████▍ | 8431/10000 [46:08<11:00,  2.38it/s]"
     ]
    },
    {
     "name": "stdout",
     "output_type": "stream",
     "text": [
      "Step 8430, train loss:0.0952, test loss:5.0251\n"
     ]
    },
    {
     "name": "stderr",
     "output_type": "stream",
     "text": [
      " 84%|████████▍ | 8441/10000 [46:10<11:14,  2.31it/s]"
     ]
    },
    {
     "name": "stdout",
     "output_type": "stream",
     "text": [
      "Step 8440, train loss:0.0953, test loss:4.9674\n"
     ]
    },
    {
     "name": "stderr",
     "output_type": "stream",
     "text": [
      " 85%|████████▍ | 8451/10000 [46:13<11:22,  2.27it/s]"
     ]
    },
    {
     "name": "stdout",
     "output_type": "stream",
     "text": [
      "Step 8450, train loss:0.0947, test loss:4.9937\n"
     ]
    },
    {
     "name": "stderr",
     "output_type": "stream",
     "text": [
      " 85%|████████▍ | 8461/10000 [46:15<11:09,  2.30it/s]"
     ]
    },
    {
     "name": "stdout",
     "output_type": "stream",
     "text": [
      "Step 8460, train loss:0.0973, test loss:5.0729\n"
     ]
    },
    {
     "name": "stderr",
     "output_type": "stream",
     "text": [
      " 85%|████████▍ | 8471/10000 [46:17<10:43,  2.38it/s]"
     ]
    },
    {
     "name": "stdout",
     "output_type": "stream",
     "text": [
      "Step 8470, train loss:0.0951, test loss:5.0577\n"
     ]
    },
    {
     "name": "stderr",
     "output_type": "stream",
     "text": [
      " 85%|████████▍ | 8481/10000 [46:20<10:41,  2.37it/s]"
     ]
    },
    {
     "name": "stdout",
     "output_type": "stream",
     "text": [
      "Step 8480, train loss:0.0940, test loss:5.0558\n"
     ]
    },
    {
     "name": "stderr",
     "output_type": "stream",
     "text": [
      " 85%|████████▍ | 8491/10000 [46:22<10:37,  2.37it/s]"
     ]
    },
    {
     "name": "stdout",
     "output_type": "stream",
     "text": [
      "Step 8490, train loss:0.0947, test loss:5.1012\n"
     ]
    },
    {
     "name": "stderr",
     "output_type": "stream",
     "text": [
      " 85%|████████▌ | 8500/10000 [46:23<03:54,  6.40it/s]"
     ]
    },
    {
     "name": "stdout",
     "output_type": "stream",
     "text": [
      "Step 8500, train loss:0.0946, test loss:5.0415\n"
     ]
    },
    {
     "name": "stderr",
     "output_type": "stream",
     "text": [
      " 85%|████████▌ | 8501/10000 [46:34<1:20:36,  3.23s/it]"
     ]
    },
    {
     "name": "stdout",
     "output_type": "stream",
     "text": [
      "\n",
      "\n",
      "ESCALUS:\n",
      "Why force you this?\n",
      "\n",
      "VOLUMNIA:\n",
      "Because authorito be a weary s\n",
      "entenance that he speaks: one that hath once begin on\n",
      "both are pout or did I was ware both to love a word,\n",
      "That wench the foot was fail to thee.\n",
      "\n",
      "CORIOLANUS:\n",
      "Ha!\n",
      "\n",
      "AUFIDIUS:\n",
      "No more.\n",
      "\n",
      "CORIOLANUS:\n",
      "Measureless liar, thou hast made my heart\n",
      "Too great for what contains it. Boy! O slave!\n",
      "Pardon me, lords, 'tis the first time that ever\n",
      "I was forced to scold. Your judgments, my grave lords,\n",
      "Must give this cur the lie: and his own notion--\n",
      "Who wears my stripe? death not think me so,\n",
      "And therefore I keep I must.\n",
      "\n",
      "POLIXENES:\n",
      "O my most sire night! For cheer your grace so good,\n",
      "And do not slaughter of the prince had been universal.\n",
      "\n",
      "First Murderer:\n",
      "You are deceived, your brother Gloucester hates you.\n",
      "\n",
      "CORIOLANUS:\n",
      "Whoever gave that counsel, to give her friends?\n",
      "\n",
      "VOLUMNIA:\n",
      "Then his good report should have been my son; here's no late.\n",
      "\n",
      "MOPSA:\n",
      "My lord, it is the enemy is a world in the\n",
      "marted majesty.\n",
      "\n",
      "SICINIUS:\n",
      "Hear me, people; pea\n",
      "Step 8500, train loss:0.0950, test loss:5.0526\n"
     ]
    },
    {
     "name": "stderr",
     "output_type": "stream",
     "text": [
      " 85%|████████▌ | 8511/10000 [46:36<12:27,  1.99it/s]"
     ]
    },
    {
     "name": "stdout",
     "output_type": "stream",
     "text": [
      "Step 8510, train loss:0.0952, test loss:5.0389\n"
     ]
    },
    {
     "name": "stderr",
     "output_type": "stream",
     "text": [
      " 85%|████████▌ | 8521/10000 [46:38<10:28,  2.35it/s]"
     ]
    },
    {
     "name": "stdout",
     "output_type": "stream",
     "text": [
      "Step 8520, train loss:0.0930, test loss:4.9818\n"
     ]
    },
    {
     "name": "stderr",
     "output_type": "stream",
     "text": [
      " 85%|████████▌ | 8531/10000 [46:41<10:25,  2.35it/s]"
     ]
    },
    {
     "name": "stdout",
     "output_type": "stream",
     "text": [
      "Step 8530, train loss:0.0928, test loss:5.0872\n"
     ]
    },
    {
     "name": "stderr",
     "output_type": "stream",
     "text": [
      " 85%|████████▌ | 8541/10000 [46:43<10:31,  2.31it/s]"
     ]
    },
    {
     "name": "stdout",
     "output_type": "stream",
     "text": [
      "Step 8540, train loss:0.0936, test loss:5.0619\n"
     ]
    },
    {
     "name": "stderr",
     "output_type": "stream",
     "text": [
      " 86%|████████▌ | 8551/10000 [46:46<10:28,  2.30it/s]"
     ]
    },
    {
     "name": "stdout",
     "output_type": "stream",
     "text": [
      "Step 8550, train loss:0.0931, test loss:5.0477\n"
     ]
    },
    {
     "name": "stderr",
     "output_type": "stream",
     "text": [
      " 86%|████████▌ | 8561/10000 [46:48<10:26,  2.30it/s]"
     ]
    },
    {
     "name": "stdout",
     "output_type": "stream",
     "text": [
      "Step 8560, train loss:0.0921, test loss:5.1018\n"
     ]
    },
    {
     "name": "stderr",
     "output_type": "stream",
     "text": [
      " 86%|████████▌ | 8571/10000 [46:50<10:04,  2.36it/s]"
     ]
    },
    {
     "name": "stdout",
     "output_type": "stream",
     "text": [
      "Step 8570, train loss:0.0950, test loss:5.1177\n"
     ]
    },
    {
     "name": "stderr",
     "output_type": "stream",
     "text": [
      " 86%|████████▌ | 8581/10000 [46:53<09:59,  2.37it/s]"
     ]
    },
    {
     "name": "stdout",
     "output_type": "stream",
     "text": [
      "Step 8580, train loss:0.0939, test loss:4.9829\n"
     ]
    },
    {
     "name": "stderr",
     "output_type": "stream",
     "text": [
      " 86%|████████▌ | 8591/10000 [46:55<09:52,  2.38it/s]"
     ]
    },
    {
     "name": "stdout",
     "output_type": "stream",
     "text": [
      "Step 8590, train loss:0.0940, test loss:5.0300\n"
     ]
    },
    {
     "name": "stderr",
     "output_type": "stream",
     "text": [
      " 86%|████████▌ | 8600/10000 [46:56<03:38,  6.41it/s]"
     ]
    },
    {
     "name": "stdout",
     "output_type": "stream",
     "text": [
      "Step 8600, train loss:0.0929, test loss:5.0126\n"
     ]
    },
    {
     "name": "stderr",
     "output_type": "stream",
     "text": [
      " 86%|████████▌ | 8601/10000 [47:07<1:16:08,  3.27s/it]"
     ]
    },
    {
     "name": "stdout",
     "output_type": "stream",
     "text": [
      "\n",
      "\n",
      "MARCIUS:\n",
      "Sir, provost, remained all unknown here!\n",
      "\n",
      "SICINIUS:\n",
      "God-den to you all, not all unknown.\n",
      "\n",
      "BRUTUS:\n",
      "Do in all things shall be well, I warrant thee, wife:\n",
      "Go thou to Juliet, help to deck up her;\n",
      "I'll not to bed to-night. Help, here comes\n",
      "To truste them and to make minstrels of us\n",
      "And where castle, who late the over-proud bed?\n",
      "My present couchesily were the all-seen's face!\n",
      "Did I infy ready with my desperate hand?\n",
      "\n",
      "DUK:\n",
      "I do it know the insioly of me\n",
      "To meet my part with Angelo: if for this night\n",
      "I to do him and play the old bed,\n",
      "When comes she with me to me a sisterhood,\n",
      "If not already.\n",
      "\n",
      "ANGELO:\n",
      "Well, let her be admitted.\n",
      "See you the fornicatress be removed:\n",
      "Let have needful, but not lavish, means;\n",
      "There shall be order for't.\n",
      "\n",
      "Provost:\n",
      "God save your honour!\n",
      "\n",
      "ANGELO:\n",
      "Stay a little while.\n",
      "You'll make a league till we see have sided\n",
      "In his behalf.\n",
      "\n",
      "BRUTUS:\n",
      "Now we have shown our power,\n",
      "Let us seem humbler after it is done\n",
      "Than when it was a-doing.\n",
      "\n",
      "SICINIUS:\n",
      "Bid them home:\n",
      "Say their \n",
      "Step 8600, train loss:0.0930, test loss:5.1040\n"
     ]
    },
    {
     "name": "stderr",
     "output_type": "stream",
     "text": [
      " 86%|████████▌ | 8611/10000 [47:09<11:40,  1.98it/s]"
     ]
    },
    {
     "name": "stdout",
     "output_type": "stream",
     "text": [
      "Step 8610, train loss:0.0952, test loss:5.1210\n"
     ]
    },
    {
     "name": "stderr",
     "output_type": "stream",
     "text": [
      " 86%|████████▌ | 8621/10000 [47:12<09:47,  2.35it/s]"
     ]
    },
    {
     "name": "stdout",
     "output_type": "stream",
     "text": [
      "Step 8620, train loss:0.0934, test loss:5.0903\n"
     ]
    },
    {
     "name": "stderr",
     "output_type": "stream",
     "text": [
      " 86%|████████▋ | 8631/10000 [47:14<09:37,  2.37it/s]"
     ]
    },
    {
     "name": "stdout",
     "output_type": "stream",
     "text": [
      "Step 8630, train loss:0.0945, test loss:5.0251\n"
     ]
    },
    {
     "name": "stderr",
     "output_type": "stream",
     "text": [
      " 86%|████████▋ | 8641/10000 [47:16<09:39,  2.35it/s]"
     ]
    },
    {
     "name": "stdout",
     "output_type": "stream",
     "text": [
      "Step 8640, train loss:0.0941, test loss:5.1108\n"
     ]
    },
    {
     "name": "stderr",
     "output_type": "stream",
     "text": [
      " 87%|████████▋ | 8651/10000 [47:19<09:51,  2.28it/s]"
     ]
    },
    {
     "name": "stdout",
     "output_type": "stream",
     "text": [
      "Step 8650, train loss:0.0937, test loss:5.0700\n"
     ]
    },
    {
     "name": "stderr",
     "output_type": "stream",
     "text": [
      " 87%|████████▋ | 8661/10000 [47:21<09:41,  2.30it/s]"
     ]
    },
    {
     "name": "stdout",
     "output_type": "stream",
     "text": [
      "Step 8660, train loss:0.0925, test loss:4.9298\n"
     ]
    },
    {
     "name": "stderr",
     "output_type": "stream",
     "text": [
      " 87%|████████▋ | 8671/10000 [47:24<09:35,  2.31it/s]"
     ]
    },
    {
     "name": "stdout",
     "output_type": "stream",
     "text": [
      "Step 8670, train loss:0.0940, test loss:5.1391\n"
     ]
    },
    {
     "name": "stderr",
     "output_type": "stream",
     "text": [
      " 87%|████████▋ | 8681/10000 [47:26<09:18,  2.36it/s]"
     ]
    },
    {
     "name": "stdout",
     "output_type": "stream",
     "text": [
      "Step 8680, train loss:0.0920, test loss:5.0685\n"
     ]
    },
    {
     "name": "stderr",
     "output_type": "stream",
     "text": [
      " 87%|████████▋ | 8691/10000 [47:28<09:16,  2.35it/s]"
     ]
    },
    {
     "name": "stdout",
     "output_type": "stream",
     "text": [
      "Step 8690, train loss:0.0923, test loss:5.0632\n"
     ]
    },
    {
     "name": "stderr",
     "output_type": "stream",
     "text": [
      " 87%|████████▋ | 8700/10000 [47:30<03:25,  6.32it/s]"
     ]
    },
    {
     "name": "stdout",
     "output_type": "stream",
     "text": [
      "Step 8700, train loss:0.0927, test loss:5.0616\n"
     ]
    },
    {
     "name": "stderr",
     "output_type": "stream",
     "text": [
      " 87%|████████▋ | 8701/10000 [47:40<1:10:20,  3.25s/it]"
     ]
    },
    {
     "name": "stdout",
     "output_type": "stream",
     "text": [
      "\n",
      "\n",
      "MARIANA:\n",
      "Now I condemn your brother York, and beat them all along;\n",
      "And he might strew him last to make his left with the\n",
      "duke: go to the fower and the feeders fearful; they are seldom for, as\n",
      "retired their verity, and love thee no worse than\n",
      "thy old father Menenius does! O my son, my son!\n",
      "thou art preparing fire for us; look thee, here's\n",
      "water to quench it. I was hardly moved to come to\n",
      "thee; but being assured none but myself could move\n",
      "thee, I have had ever been your handness, that\n",
      "shall good old York there with his men of war?\n",
      "\n",
      "HENRY PERCY:\n",
      "There stands the castle, by yon tuft of trees,\n",
      "Mann'd with three hundred men, as I have heard;\n",
      "And in it are the Lords of York,\n",
      "And that the people mutinous parts\n",
      "That envied his receipt; even so most fitly\n",
      "That have received for himself to take away\n",
      "The life of thee, of a foolery, ready,\n",
      "My noble sufferance.\n",
      "\n",
      "CLAUDIO:\n",
      "Good led lad, be't did not--though my death!\n",
      "\n",
      "DUKE VINCENTIO:\n",
      "No, you say the garland of your throat.\n",
      "\n",
      "Provost:\n",
      "\n",
      "ANGELO:\n",
      "What, ho,\n",
      "Step 8700, train loss:0.0929, test loss:4.9783\n"
     ]
    },
    {
     "name": "stderr",
     "output_type": "stream",
     "text": [
      " 87%|████████▋ | 8711/10000 [47:42<10:46,  1.99it/s]"
     ]
    },
    {
     "name": "stdout",
     "output_type": "stream",
     "text": [
      "Step 8710, train loss:0.0946, test loss:5.1270\n"
     ]
    },
    {
     "name": "stderr",
     "output_type": "stream",
     "text": [
      " 87%|████████▋ | 8721/10000 [47:45<09:03,  2.35it/s]"
     ]
    },
    {
     "name": "stdout",
     "output_type": "stream",
     "text": [
      "Step 8720, train loss:0.0935, test loss:5.0211\n"
     ]
    },
    {
     "name": "stderr",
     "output_type": "stream",
     "text": [
      " 87%|████████▋ | 8731/10000 [47:47<08:57,  2.36it/s]"
     ]
    },
    {
     "name": "stdout",
     "output_type": "stream",
     "text": [
      "Step 8730, train loss:0.0928, test loss:5.0634\n"
     ]
    },
    {
     "name": "stderr",
     "output_type": "stream",
     "text": [
      " 87%|████████▋ | 8741/10000 [47:50<08:49,  2.38it/s]"
     ]
    },
    {
     "name": "stdout",
     "output_type": "stream",
     "text": [
      "Step 8740, train loss:0.0938, test loss:5.0271\n"
     ]
    },
    {
     "name": "stderr",
     "output_type": "stream",
     "text": [
      " 88%|████████▊ | 8751/10000 [47:52<09:00,  2.31it/s]"
     ]
    },
    {
     "name": "stdout",
     "output_type": "stream",
     "text": [
      "Step 8750, train loss:0.0929, test loss:5.0502\n"
     ]
    },
    {
     "name": "stderr",
     "output_type": "stream",
     "text": [
      " 88%|████████▊ | 8761/10000 [47:54<09:01,  2.29it/s]"
     ]
    },
    {
     "name": "stdout",
     "output_type": "stream",
     "text": [
      "Step 8760, train loss:0.0926, test loss:5.1220\n"
     ]
    },
    {
     "name": "stderr",
     "output_type": "stream",
     "text": [
      " 88%|████████▊ | 8771/10000 [47:57<08:53,  2.30it/s]"
     ]
    },
    {
     "name": "stdout",
     "output_type": "stream",
     "text": [
      "Step 8770, train loss:0.0914, test loss:5.0196\n"
     ]
    },
    {
     "name": "stderr",
     "output_type": "stream",
     "text": [
      " 88%|████████▊ | 8781/10000 [47:59<08:37,  2.36it/s]"
     ]
    },
    {
     "name": "stdout",
     "output_type": "stream",
     "text": [
      "Step 8780, train loss:0.0925, test loss:5.0674\n"
     ]
    },
    {
     "name": "stderr",
     "output_type": "stream",
     "text": [
      " 88%|████████▊ | 8791/10000 [48:02<08:29,  2.37it/s]"
     ]
    },
    {
     "name": "stdout",
     "output_type": "stream",
     "text": [
      "Step 8790, train loss:0.0942, test loss:5.0052\n"
     ]
    },
    {
     "name": "stderr",
     "output_type": "stream",
     "text": [
      " 88%|████████▊ | 8800/10000 [48:03<03:08,  6.36it/s]"
     ]
    },
    {
     "name": "stdout",
     "output_type": "stream",
     "text": [
      "Step 8800, train loss:0.0936, test loss:4.9655\n"
     ]
    },
    {
     "name": "stderr",
     "output_type": "stream",
     "text": [
      " 88%|████████▊ | 8801/10000 [48:13<1:03:16,  3.17s/it]"
     ]
    },
    {
     "name": "stdout",
     "output_type": "stream",
     "text": [
      "\n",
      "\n",
      "GLOUCESTER:\n",
      "Touch'd you the bastardy of Edward's children?\n",
      "\n",
      "LADY ANNE:\n",
      "Why, that was he.\n",
      "\n",
      "GLOUCESTER:\n",
      "The Gaunt is content and come of me;\n",
      "And yet my tried line of Capulets shall strength\n",
      "And duty to counsel it in earth.\n",
      "Then ne'er talk of crack'd in Paris.\n",
      "What said my mind for be remembered,\n",
      "Within this hour blowl despair?\n",
      "\n",
      "BONA:\n",
      "My quarrel and this English queen's are one.\n",
      "\n",
      "WARWICK:\n",
      "And mine, fair lady Bona, joins with yours.\n",
      "\n",
      "KING LEWIS XI:\n",
      "And mine eyes are full of tears, I cannot see:\n",
      "And yet salt water blinds them not so much\n",
      "But they can see a sort as willing that may be,\n",
      "Should a dismiss'd offence would after gall;\n",
      "And do him right that, answer to a prince.\n",
      "\n",
      "HASTINGS:\n",
      "O monstrous, monstrous! and so falls it out\n",
      "With Rivers, Vaughan, Grey: and so 'twill Bushy,\n",
      "In my petticoat, the means that keeps me from it;\n",
      "And so I say, I'll cut the causes off,\n",
      "Flattering me with impossibilities.\n",
      "My eye's too quick, my heart command the heaven,\n",
      "Have we mow'd down, in tops of all their pride!\n",
      "Step 8800, train loss:0.0930, test loss:5.0132\n"
     ]
    },
    {
     "name": "stderr",
     "output_type": "stream",
     "text": [
      " 88%|████████▊ | 8811/10000 [48:15<09:53,  2.00it/s]"
     ]
    },
    {
     "name": "stdout",
     "output_type": "stream",
     "text": [
      "Step 8810, train loss:0.0944, test loss:5.0966\n"
     ]
    },
    {
     "name": "stderr",
     "output_type": "stream",
     "text": [
      " 88%|████████▊ | 8821/10000 [48:18<08:19,  2.36it/s]"
     ]
    },
    {
     "name": "stdout",
     "output_type": "stream",
     "text": [
      "Step 8820, train loss:0.0936, test loss:5.1046\n"
     ]
    },
    {
     "name": "stderr",
     "output_type": "stream",
     "text": [
      " 88%|████████▊ | 8831/10000 [48:20<08:12,  2.37it/s]"
     ]
    },
    {
     "name": "stdout",
     "output_type": "stream",
     "text": [
      "Step 8830, train loss:0.0922, test loss:5.0867\n"
     ]
    },
    {
     "name": "stderr",
     "output_type": "stream",
     "text": [
      " 88%|████████▊ | 8841/10000 [48:22<08:08,  2.37it/s]"
     ]
    },
    {
     "name": "stdout",
     "output_type": "stream",
     "text": [
      "Step 8840, train loss:0.0929, test loss:5.1399\n"
     ]
    },
    {
     "name": "stderr",
     "output_type": "stream",
     "text": [
      " 89%|████████▊ | 8851/10000 [48:25<08:13,  2.33it/s]"
     ]
    },
    {
     "name": "stdout",
     "output_type": "stream",
     "text": [
      "Step 8850, train loss:0.0938, test loss:5.1397\n"
     ]
    },
    {
     "name": "stderr",
     "output_type": "stream",
     "text": [
      " 89%|████████▊ | 8861/10000 [48:27<08:18,  2.28it/s]"
     ]
    },
    {
     "name": "stdout",
     "output_type": "stream",
     "text": [
      "Step 8860, train loss:0.0922, test loss:5.1008\n"
     ]
    },
    {
     "name": "stderr",
     "output_type": "stream",
     "text": [
      " 89%|████████▊ | 8871/10000 [48:30<08:14,  2.28it/s]"
     ]
    },
    {
     "name": "stdout",
     "output_type": "stream",
     "text": [
      "Step 8870, train loss:0.0919, test loss:5.0081\n"
     ]
    },
    {
     "name": "stderr",
     "output_type": "stream",
     "text": [
      " 89%|████████▉ | 8881/10000 [48:32<07:54,  2.36it/s]"
     ]
    },
    {
     "name": "stdout",
     "output_type": "stream",
     "text": [
      "Step 8880, train loss:0.0928, test loss:5.0052\n"
     ]
    },
    {
     "name": "stderr",
     "output_type": "stream",
     "text": [
      " 89%|████████▉ | 8891/10000 [48:34<07:47,  2.37it/s]"
     ]
    },
    {
     "name": "stdout",
     "output_type": "stream",
     "text": [
      "Step 8890, train loss:0.0950, test loss:5.0437\n"
     ]
    },
    {
     "name": "stderr",
     "output_type": "stream",
     "text": [
      " 89%|████████▉ | 8900/10000 [48:36<02:52,  6.38it/s]"
     ]
    },
    {
     "name": "stdout",
     "output_type": "stream",
     "text": [
      "Step 8900, train loss:0.0914, test loss:5.0363\n"
     ]
    },
    {
     "name": "stderr",
     "output_type": "stream",
     "text": [
      " 89%|████████▉ | 8901/10000 [48:46<56:45,  3.10s/it]"
     ]
    },
    {
     "name": "stdout",
     "output_type": "stream",
     "text": [
      "\n",
      "\n",
      "HERMIONE:\n",
      "Come on, then,\n",
      "And give't me in mine ear.\n",
      "\n",
      "LEONTES:\n",
      "Was he met there? his train? Camillo were\n",
      "An charges him false; he cannot proud:\n",
      "O, how my heart abhors\n",
      "To hear him perjury, but by my air,\n",
      "And had his son aboard the provoked should\n",
      "I' the view of Angelo? I may make my case\n",
      "In him for ity men and minister\n",
      "Unto the appetite and defence,\n",
      "Must it be great, that can yield him hence\n",
      "And day 'not to me for that;\n",
      "For he in hand art thou changest, webt, I see,\n",
      "If ever I went to him by garn\n",
      "Where I think, that he did seem to devote.\n",
      "But wherefore stay yet?\n",
      "\n",
      "LARTIUS:\n",
      "Lay down your knowledge, the moans and process\n",
      "of moves me. I have been resolute.\n",
      "\n",
      "SICINIUS:\n",
      "We must be good to Rome, --\n",
      "\n",
      "MENENIUS:\n",
      "Not now, not now.\n",
      "\n",
      "First Senator:\n",
      "Not in this house, for looking by: why would say\n",
      "'Thou liest' unto the sun of Bork:\n",
      "Let them accuse me by invention,\n",
      "Is committed themms.\n",
      "\n",
      "LEONTES:\n",
      "This sessions, to our great grief we pronounce,\n",
      "Even pushes 'gainst our heart: the party tried\n",
      "The daughter of\n",
      "Step 8900, train loss:0.0901, test loss:5.1160\n"
     ]
    },
    {
     "name": "stderr",
     "output_type": "stream",
     "text": [
      " 89%|████████▉ | 8911/10000 [48:48<09:10,  1.98it/s]"
     ]
    },
    {
     "name": "stdout",
     "output_type": "stream",
     "text": [
      "Step 8910, train loss:0.0937, test loss:5.1143\n"
     ]
    },
    {
     "name": "stderr",
     "output_type": "stream",
     "text": [
      " 89%|████████▉ | 8921/10000 [48:51<07:37,  2.36it/s]"
     ]
    },
    {
     "name": "stdout",
     "output_type": "stream",
     "text": [
      "Step 8920, train loss:0.0920, test loss:4.9917\n"
     ]
    },
    {
     "name": "stderr",
     "output_type": "stream",
     "text": [
      " 89%|████████▉ | 8931/10000 [48:53<07:29,  2.38it/s]"
     ]
    },
    {
     "name": "stdout",
     "output_type": "stream",
     "text": [
      "Step 8930, train loss:0.0923, test loss:5.0503\n"
     ]
    },
    {
     "name": "stderr",
     "output_type": "stream",
     "text": [
      " 89%|████████▉ | 8941/10000 [48:55<07:25,  2.38it/s]"
     ]
    },
    {
     "name": "stdout",
     "output_type": "stream",
     "text": [
      "Step 8940, train loss:0.0934, test loss:5.1621\n"
     ]
    },
    {
     "name": "stderr",
     "output_type": "stream",
     "text": [
      " 90%|████████▉ | 8951/10000 [48:58<07:26,  2.35it/s]"
     ]
    },
    {
     "name": "stdout",
     "output_type": "stream",
     "text": [
      "Step 8950, train loss:0.0931, test loss:5.0012\n"
     ]
    },
    {
     "name": "stderr",
     "output_type": "stream",
     "text": [
      " 90%|████████▉ | 8961/10000 [49:00<07:27,  2.32it/s]"
     ]
    },
    {
     "name": "stdout",
     "output_type": "stream",
     "text": [
      "Step 8960, train loss:0.0922, test loss:5.0681\n"
     ]
    },
    {
     "name": "stderr",
     "output_type": "stream",
     "text": [
      " 90%|████████▉ | 8971/10000 [49:02<07:27,  2.30it/s]"
     ]
    },
    {
     "name": "stdout",
     "output_type": "stream",
     "text": [
      "Step 8970, train loss:0.0936, test loss:5.0793\n"
     ]
    },
    {
     "name": "stderr",
     "output_type": "stream",
     "text": [
      " 90%|████████▉ | 8981/10000 [49:05<07:24,  2.29it/s]"
     ]
    },
    {
     "name": "stdout",
     "output_type": "stream",
     "text": [
      "Step 8980, train loss:0.0917, test loss:5.0500\n"
     ]
    },
    {
     "name": "stderr",
     "output_type": "stream",
     "text": [
      " 90%|████████▉ | 8991/10000 [49:07<07:05,  2.37it/s]"
     ]
    },
    {
     "name": "stdout",
     "output_type": "stream",
     "text": [
      "Step 8990, train loss:0.0899, test loss:5.0584\n"
     ]
    },
    {
     "name": "stderr",
     "output_type": "stream",
     "text": [
      " 90%|█████████ | 9000/10000 [49:09<02:37,  6.36it/s]"
     ]
    },
    {
     "name": "stdout",
     "output_type": "stream",
     "text": [
      "Step 9000, train loss:0.0909, test loss:5.0631\n"
     ]
    },
    {
     "name": "stderr",
     "output_type": "stream",
     "text": [
      " 90%|█████████ | 9001/10000 [49:18<51:20,  3.08s/it]"
     ]
    },
    {
     "name": "stdout",
     "output_type": "stream",
     "text": [
      "\n",
      "\n",
      "Servant:\n",
      "To see this jealousy thoughts,\n",
      "That thou wert cause of noble Gloucester's death.\n",
      "If thou deny'st it then excused; and let him ne'er,\n",
      "And given in London till we could have fought,\n",
      "By the market-place nor war? the tunes and stay?\n",
      "\n",
      "GLOUCESTER:\n",
      "Alas, that Warwick had no more forecast,\n",
      "But, whiles he thought to steal that thou bear it\n",
      "To say he that dies a sorrow; mine thoughts,\n",
      "And the true king is dead.\n",
      "\n",
      "DUKE OF YORK:\n",
      "So do my son, iske any more wonderful.\n",
      "My child and pardon in a man's womb,\n",
      "And yet we strive to tell in so blood,\n",
      "Though in your most incentio's mouth\n",
      "Which here you can adve, that you brother'd withal,\n",
      "It may be to you busy means and bear,\n",
      "And yet to win it fights. Stiff-brawl;\n",
      "The scope of nature, break the icely flaguer of the\n",
      "shngs of the adverse purple that which has\n",
      "My pride is to be contempted. Romeo may not;\n",
      "For you have made to purge a fearful hollow\n",
      "Of this time abandon'd from your beard's part,\n",
      "And all the unlument of that worthy\n",
      "Coriolanus, that they a\n",
      "Step 9000, train loss:0.0932, test loss:5.0486\n"
     ]
    },
    {
     "name": "stderr",
     "output_type": "stream",
     "text": [
      " 90%|█████████ | 9011/10000 [49:21<08:24,  1.96it/s]"
     ]
    },
    {
     "name": "stdout",
     "output_type": "stream",
     "text": [
      "Step 9010, train loss:0.0943, test loss:5.1014\n"
     ]
    },
    {
     "name": "stderr",
     "output_type": "stream",
     "text": [
      " 90%|█████████ | 9021/10000 [49:23<06:54,  2.36it/s]"
     ]
    },
    {
     "name": "stdout",
     "output_type": "stream",
     "text": [
      "Step 9020, train loss:0.0905, test loss:5.0220\n"
     ]
    },
    {
     "name": "stderr",
     "output_type": "stream",
     "text": [
      " 90%|█████████ | 9031/10000 [49:26<06:49,  2.37it/s]"
     ]
    },
    {
     "name": "stdout",
     "output_type": "stream",
     "text": [
      "Step 9030, train loss:0.0920, test loss:5.0194\n"
     ]
    },
    {
     "name": "stderr",
     "output_type": "stream",
     "text": [
      " 90%|█████████ | 9041/10000 [49:28<06:44,  2.37it/s]"
     ]
    },
    {
     "name": "stdout",
     "output_type": "stream",
     "text": [
      "Step 9040, train loss:0.0929, test loss:5.0321\n"
     ]
    },
    {
     "name": "stderr",
     "output_type": "stream",
     "text": [
      " 91%|█████████ | 9051/10000 [49:30<06:40,  2.37it/s]"
     ]
    },
    {
     "name": "stdout",
     "output_type": "stream",
     "text": [
      "Step 9050, train loss:0.0940, test loss:5.0231\n"
     ]
    },
    {
     "name": "stderr",
     "output_type": "stream",
     "text": [
      " 91%|█████████ | 9061/10000 [49:33<06:48,  2.30it/s]"
     ]
    },
    {
     "name": "stdout",
     "output_type": "stream",
     "text": [
      "Step 9060, train loss:0.0921, test loss:4.9978\n"
     ]
    },
    {
     "name": "stderr",
     "output_type": "stream",
     "text": [
      " 91%|█████████ | 9071/10000 [49:35<06:43,  2.30it/s]"
     ]
    },
    {
     "name": "stdout",
     "output_type": "stream",
     "text": [
      "Step 9070, train loss:0.0911, test loss:5.0520\n"
     ]
    },
    {
     "name": "stderr",
     "output_type": "stream",
     "text": [
      " 91%|█████████ | 9081/10000 [49:38<06:42,  2.29it/s]"
     ]
    },
    {
     "name": "stdout",
     "output_type": "stream",
     "text": [
      "Step 9080, train loss:0.0912, test loss:5.0445\n"
     ]
    },
    {
     "name": "stderr",
     "output_type": "stream",
     "text": [
      " 91%|█████████ | 9091/10000 [49:40<06:26,  2.35it/s]"
     ]
    },
    {
     "name": "stdout",
     "output_type": "stream",
     "text": [
      "Step 9090, train loss:0.0934, test loss:4.9976\n"
     ]
    },
    {
     "name": "stderr",
     "output_type": "stream",
     "text": [
      " 91%|█████████ | 9100/10000 [49:41<02:19,  6.44it/s]"
     ]
    },
    {
     "name": "stdout",
     "output_type": "stream",
     "text": [
      "Step 9100, train loss:0.0910, test loss:5.0611\n"
     ]
    },
    {
     "name": "stderr",
     "output_type": "stream",
     "text": [
      " 91%|█████████ | 9101/10000 [49:51<43:05,  2.88s/it]"
     ]
    },
    {
     "name": "stdout",
     "output_type": "stream",
     "text": [
      "\n",
      "\n",
      "ABHORSON:\n",
      "Ay, sir; it is a mystery.\n",
      "\n",
      "POMPEY:\n",
      "Proof?\n",
      "\n",
      "ABHORSON:\n",
      "Every true man's apparel fits your thief: if it be\n",
      "too little for your thief, your true man this peace.\n",
      "\n",
      "BUCKINGHAM:\n",
      "You call enough that be able to exile.\n",
      "\n",
      "POMPEY:\n",
      "Tybalt, the best friend I had child.\n",
      "\n",
      "DUKE VINCENTIO:\n",
      "The best and wholesomest spirts of the night\n",
      "Envelope you, good Provost! Who call'd here of late?\n",
      "\n",
      "Provost:\n",
      "None, since the curfew rung.\n",
      "\n",
      "DUKE VINCENTIO:\n",
      "Not Isabel?\n",
      "\n",
      "Provost:\n",
      "Not absolute done.\n",
      "\n",
      "DUKE VINCENTIO:\n",
      "The best and wholesomest spirts of the night\n",
      "Envelope you, good Provost! Who call'd here of late?\n",
      "\n",
      "Provost:\n",
      "None, since the curfew rude mother with the king,\n",
      "To lay aside life-harmless blood upon your head,\n",
      "You love the breaking slaughter'd Englishmen.\n",
      "\n",
      "SLY:\n",
      "I grant ye.\n",
      "\n",
      "LUCIO:\n",
      "This is the rascal; this is he that took her.\n",
      "\n",
      "LUCIO:\n",
      "The duke is marvellous little beholding to your\n",
      "reports; but the best is, he lives not in them.\n",
      "\n",
      "LUCIO:\n",
      "Faith, sir, I know not what to say.\n",
      "\n",
      "DUCHESS OF YORK:\n",
      "It may be so? d\n",
      "Step 9100, train loss:0.0903, test loss:5.0881\n"
     ]
    },
    {
     "name": "stderr",
     "output_type": "stream",
     "text": [
      " 91%|█████████ | 9111/10000 [49:53<07:27,  1.98it/s]"
     ]
    },
    {
     "name": "stdout",
     "output_type": "stream",
     "text": [
      "Step 9110, train loss:0.0890, test loss:4.9963\n"
     ]
    },
    {
     "name": "stderr",
     "output_type": "stream",
     "text": [
      " 91%|█████████ | 9121/10000 [49:55<06:24,  2.29it/s]"
     ]
    },
    {
     "name": "stdout",
     "output_type": "stream",
     "text": [
      "Step 9120, train loss:0.0899, test loss:5.0213\n"
     ]
    },
    {
     "name": "stderr",
     "output_type": "stream",
     "text": [
      " 91%|█████████▏| 9131/10000 [49:58<06:07,  2.37it/s]"
     ]
    },
    {
     "name": "stdout",
     "output_type": "stream",
     "text": [
      "Step 9130, train loss:0.0919, test loss:5.0650\n"
     ]
    },
    {
     "name": "stderr",
     "output_type": "stream",
     "text": [
      " 91%|█████████▏| 9141/10000 [50:00<06:02,  2.37it/s]"
     ]
    },
    {
     "name": "stdout",
     "output_type": "stream",
     "text": [
      "Step 9140, train loss:0.0912, test loss:5.0983\n"
     ]
    },
    {
     "name": "stderr",
     "output_type": "stream",
     "text": [
      " 92%|█████████▏| 9151/10000 [50:02<05:56,  2.38it/s]"
     ]
    },
    {
     "name": "stdout",
     "output_type": "stream",
     "text": [
      "Step 9150, train loss:0.0918, test loss:5.0725\n"
     ]
    },
    {
     "name": "stderr",
     "output_type": "stream",
     "text": [
      " 92%|█████████▏| 9161/10000 [50:05<05:53,  2.37it/s]"
     ]
    },
    {
     "name": "stdout",
     "output_type": "stream",
     "text": [
      "Step 9160, train loss:0.0907, test loss:5.0413\n"
     ]
    },
    {
     "name": "stderr",
     "output_type": "stream",
     "text": [
      " 92%|█████████▏| 9171/10000 [50:07<06:02,  2.29it/s]"
     ]
    },
    {
     "name": "stdout",
     "output_type": "stream",
     "text": [
      "Step 9170, train loss:0.0911, test loss:5.0861\n"
     ]
    },
    {
     "name": "stderr",
     "output_type": "stream",
     "text": [
      " 92%|█████████▏| 9181/10000 [50:10<05:58,  2.28it/s]"
     ]
    },
    {
     "name": "stdout",
     "output_type": "stream",
     "text": [
      "Step 9180, train loss:0.0918, test loss:5.0829\n"
     ]
    },
    {
     "name": "stderr",
     "output_type": "stream",
     "text": [
      " 92%|█████████▏| 9191/10000 [50:12<05:52,  2.30it/s]"
     ]
    },
    {
     "name": "stdout",
     "output_type": "stream",
     "text": [
      "Step 9190, train loss:0.0918, test loss:5.1145\n"
     ]
    },
    {
     "name": "stderr",
     "output_type": "stream",
     "text": [
      " 92%|█████████▏| 9200/10000 [50:13<02:06,  6.35it/s]"
     ]
    },
    {
     "name": "stdout",
     "output_type": "stream",
     "text": [
      "Step 9200, train loss:0.0908, test loss:5.1621\n"
     ]
    },
    {
     "name": "stderr",
     "output_type": "stream",
     "text": [
      " 92%|█████████▏| 9201/10000 [50:22<36:25,  2.74s/it]"
     ]
    },
    {
     "name": "stdout",
     "output_type": "stream",
     "text": [
      "\n",
      "\n",
      "TVOLAS:\n",
      "We cannot be avoided but by this;\n",
      "And see you read no other lectures to her:\n",
      "You understand me: over and beside\n",
      "Signior gentleman! that pity the crown they live,\n",
      "And bake a drum. His action tempt him so,\n",
      "Not with him that have more cunning lives.\n",
      "\n",
      "DUKE VINCENTIO:\n",
      "There was a tyranted countermand it,\n",
      "To lie in cold wcat shame to do their graves\n",
      "Tell the princes of beasts would give; redeem their\n",
      "graces do bend their virtues.\n",
      "\n",
      "CAMILLO:\n",
      "I did not kill your husbrath, Leontes: O sir, you know\n",
      "Most piteous coveter; all the loved there\n",
      "My poor soul from his bed, and go so brief\n",
      "He lies a bark, and revive all king!\n",
      "Cove, then I saw do mine eyes be gone,\n",
      "She knows I will never know myself also, as well\n",
      "You are endured: mine emplation and\n",
      "wakes, girls of my onllies, and throw forth greater\n",
      "of the wars' helms, which shows me medicine not\n",
      "With grief up such a story.\n",
      "\n",
      "CAMILLO:\n",
      "Unbuckle, unbuckle.\n",
      "Fortunate mistress,--let my prophecy\n",
      "Come home to ye!--your soldiers by sir boots\n",
      "By nothing ma\n",
      "Step 9200, train loss:0.0905, test loss:5.1226\n"
     ]
    },
    {
     "name": "stderr",
     "output_type": "stream",
     "text": [
      " 92%|█████████▏| 9211/10000 [50:25<06:32,  2.01it/s]"
     ]
    },
    {
     "name": "stdout",
     "output_type": "stream",
     "text": [
      "Step 9210, train loss:0.0899, test loss:5.0471\n"
     ]
    },
    {
     "name": "stderr",
     "output_type": "stream",
     "text": [
      " 92%|█████████▏| 9221/10000 [50:27<05:37,  2.31it/s]"
     ]
    },
    {
     "name": "stdout",
     "output_type": "stream",
     "text": [
      "Step 9220, train loss:0.0912, test loss:5.0852\n"
     ]
    },
    {
     "name": "stderr",
     "output_type": "stream",
     "text": [
      " 92%|█████████▏| 9231/10000 [50:29<05:36,  2.29it/s]"
     ]
    },
    {
     "name": "stdout",
     "output_type": "stream",
     "text": [
      "Step 9230, train loss:0.0907, test loss:5.0300\n"
     ]
    },
    {
     "name": "stderr",
     "output_type": "stream",
     "text": [
      " 92%|█████████▏| 9241/10000 [50:32<05:19,  2.38it/s]"
     ]
    },
    {
     "name": "stdout",
     "output_type": "stream",
     "text": [
      "Step 9240, train loss:0.0912, test loss:5.1090\n"
     ]
    },
    {
     "name": "stderr",
     "output_type": "stream",
     "text": [
      " 93%|█████████▎| 9251/10000 [50:34<05:15,  2.37it/s]"
     ]
    },
    {
     "name": "stdout",
     "output_type": "stream",
     "text": [
      "Step 9250, train loss:0.0911, test loss:5.1004\n"
     ]
    },
    {
     "name": "stderr",
     "output_type": "stream",
     "text": [
      " 93%|█████████▎| 9261/10000 [50:36<05:11,  2.37it/s]"
     ]
    },
    {
     "name": "stdout",
     "output_type": "stream",
     "text": [
      "Step 9260, train loss:0.0910, test loss:5.0577\n"
     ]
    },
    {
     "name": "stderr",
     "output_type": "stream",
     "text": [
      " 93%|█████████▎| 9271/10000 [50:39<05:08,  2.36it/s]"
     ]
    },
    {
     "name": "stdout",
     "output_type": "stream",
     "text": [
      "Step 9270, train loss:0.0910, test loss:5.1567\n"
     ]
    },
    {
     "name": "stderr",
     "output_type": "stream",
     "text": [
      " 93%|█████████▎| 9281/10000 [50:41<05:12,  2.30it/s]"
     ]
    },
    {
     "name": "stdout",
     "output_type": "stream",
     "text": [
      "Step 9280, train loss:0.0926, test loss:5.0895\n"
     ]
    },
    {
     "name": "stderr",
     "output_type": "stream",
     "text": [
      " 93%|█████████▎| 9291/10000 [50:44<05:12,  2.27it/s]"
     ]
    },
    {
     "name": "stdout",
     "output_type": "stream",
     "text": [
      "Step 9290, train loss:0.0911, test loss:5.1380\n"
     ]
    },
    {
     "name": "stderr",
     "output_type": "stream",
     "text": [
      " 93%|█████████▎| 9300/10000 [50:45<01:52,  6.23it/s]"
     ]
    },
    {
     "name": "stdout",
     "output_type": "stream",
     "text": [
      "Step 9300, train loss:0.0935, test loss:5.1921\n"
     ]
    },
    {
     "name": "stderr",
     "output_type": "stream",
     "text": [
      " 93%|█████████▎| 9301/10000 [50:54<32:28,  2.79s/it]"
     ]
    },
    {
     "name": "stdout",
     "output_type": "stream",
     "text": [
      "\n",
      "\n",
      "ANGELO:\n",
      "Thus wisdom wishes to appear most bright\n",
      "When it doth tax itself; as these black masks\n",
      "Proclaim an enshield begun by birth,\n",
      "Which the taste of sweet with me.\n",
      "\n",
      "CAPULET:\n",
      "What, man! 'tis not so much, 'tis now in part.\n",
      "\n",
      "LADY MONTAGUE:\n",
      "But I have reasons strong and forcible.\n",
      "\n",
      "YORK:\n",
      "Why, how now, sons and brother! at a strife?\n",
      "What is your quarrel? how began it first?\n",
      "\n",
      "EDWARD:\n",
      "No quarrel, but a slight contention.\n",
      "\n",
      "YORK:\n",
      "About what?\n",
      "\n",
      "RICHARD:\n",
      "About that which concerns your grace and us;\n",
      "Or, if not wear the first word of thy sweet boy,\n",
      "If I were a blow to hear it as a life,\n",
      "A treasure in this present death in law,\n",
      "And rheoze you both langs and ungentle precedent,\n",
      "Should a like enforced slave: the akes daff them not\n",
      "The adters of the morning: what of that?\n",
      "\n",
      "LADY CAPULET:\n",
      "That same wars even for the gross wake:\n",
      "So that which thou hast ever be confixed,\n",
      "Scorn to be a counterple in the his blood,\n",
      "It followers love a bear the ghost made;\n",
      "Not purpose and to them, favourites,\n",
      "Having bought lo\n",
      "Step 9300, train loss:0.0914, test loss:5.0671\n"
     ]
    },
    {
     "name": "stderr",
     "output_type": "stream",
     "text": [
      " 93%|█████████▎| 9311/10000 [50:56<05:36,  2.05it/s]"
     ]
    },
    {
     "name": "stdout",
     "output_type": "stream",
     "text": [
      "Step 9310, train loss:0.0914, test loss:4.9744\n"
     ]
    },
    {
     "name": "stderr",
     "output_type": "stream",
     "text": [
      " 93%|█████████▎| 9321/10000 [50:59<04:52,  2.32it/s]"
     ]
    },
    {
     "name": "stdout",
     "output_type": "stream",
     "text": [
      "Step 9320, train loss:0.0903, test loss:5.1263\n"
     ]
    },
    {
     "name": "stderr",
     "output_type": "stream",
     "text": [
      " 93%|█████████▎| 9331/10000 [51:01<04:51,  2.29it/s]"
     ]
    },
    {
     "name": "stdout",
     "output_type": "stream",
     "text": [
      "Step 9330, train loss:0.0917, test loss:5.1245\n"
     ]
    },
    {
     "name": "stderr",
     "output_type": "stream",
     "text": [
      " 93%|█████████▎| 9341/10000 [51:04<04:45,  2.31it/s]"
     ]
    },
    {
     "name": "stdout",
     "output_type": "stream",
     "text": [
      "Step 9340, train loss:0.0926, test loss:5.0592\n"
     ]
    },
    {
     "name": "stderr",
     "output_type": "stream",
     "text": [
      " 94%|█████████▎| 9351/10000 [51:06<04:34,  2.37it/s]"
     ]
    },
    {
     "name": "stdout",
     "output_type": "stream",
     "text": [
      "Step 9350, train loss:0.0908, test loss:5.0769\n"
     ]
    },
    {
     "name": "stderr",
     "output_type": "stream",
     "text": [
      " 94%|█████████▎| 9361/10000 [51:08<04:29,  2.37it/s]"
     ]
    },
    {
     "name": "stdout",
     "output_type": "stream",
     "text": [
      "Step 9360, train loss:0.0908, test loss:5.0698\n"
     ]
    },
    {
     "name": "stderr",
     "output_type": "stream",
     "text": [
      " 94%|█████████▎| 9371/10000 [51:11<04:24,  2.37it/s]"
     ]
    },
    {
     "name": "stdout",
     "output_type": "stream",
     "text": [
      "Step 9370, train loss:0.0925, test loss:5.1340\n"
     ]
    },
    {
     "name": "stderr",
     "output_type": "stream",
     "text": [
      " 94%|█████████▍| 9381/10000 [51:13<04:20,  2.38it/s]"
     ]
    },
    {
     "name": "stdout",
     "output_type": "stream",
     "text": [
      "Step 9380, train loss:0.0915, test loss:5.0866\n"
     ]
    },
    {
     "name": "stderr",
     "output_type": "stream",
     "text": [
      " 94%|█████████▍| 9391/10000 [51:15<04:23,  2.31it/s]"
     ]
    },
    {
     "name": "stdout",
     "output_type": "stream",
     "text": [
      "Step 9390, train loss:0.0912, test loss:5.0358\n"
     ]
    },
    {
     "name": "stderr",
     "output_type": "stream",
     "text": [
      " 94%|█████████▍| 9400/10000 [51:17<01:36,  6.24it/s]"
     ]
    },
    {
     "name": "stdout",
     "output_type": "stream",
     "text": [
      "Step 9400, train loss:0.0940, test loss:5.1089\n"
     ]
    },
    {
     "name": "stderr",
     "output_type": "stream",
     "text": [
      " 94%|█████████▍| 9401/10000 [51:26<29:16,  2.93s/it]"
     ]
    },
    {
     "name": "stdout",
     "output_type": "stream",
     "text": [
      "\n",
      "\n",
      "First Gentleman:\n",
      "Why, then the duke is slain, they'll quickly fly.\n",
      "\n",
      "KING HENRY VI\n",
      "\n",
      "KING EDWARD IV:\n",
      "Then speak at once what is it thou demand'st.\n",
      "\n",
      "DORSET:\n",
      "The forfeit, sovereign, of my servant's ease.\n",
      "Come, my masters! I am the provost; some other\n",
      "state, whereon the wenter of the king coward,\n",
      "Scaring the market-place nor on him put a-day,\n",
      "The county will be the wearhth of him.\n",
      "\n",
      "DUKE VINCENTIO:\n",
      "What's he?\n",
      "\n",
      "LUCIO:\n",
      "How now, now? what's it?\n",
      "\n",
      "Clown:\n",
      "Indeed; I say, ho maid; I will not show my face\n",
      "to a while with the judges report it\n",
      "shall kin with the faith. While you did talk, I think,\n",
      "To show myself a glass.\n",
      "\n",
      "FLORIZEL:\n",
      "I bless the time\n",
      "When my good falcon made her flight across\n",
      "Thy father's ground.\n",
      "\n",
      "PERDITA:\n",
      "Now Jove afford you cause!\n",
      "To me the difference forges dread; your greatness\n",
      "Hath not been used to fear. Even now I tremble\n",
      "To think your father, by some accident,\n",
      "Should pass this way as you did: O, the Fates!\n",
      "How would he look, to see his work so noble\n",
      "Vilely bound up? What would you\n",
      "Step 9400, train loss:0.0910, test loss:5.1618\n"
     ]
    },
    {
     "name": "stderr",
     "output_type": "stream",
     "text": [
      " 94%|█████████▍| 9411/10000 [51:28<04:50,  2.03it/s]"
     ]
    },
    {
     "name": "stdout",
     "output_type": "stream",
     "text": [
      "Step 9410, train loss:0.0911, test loss:5.0479\n"
     ]
    },
    {
     "name": "stderr",
     "output_type": "stream",
     "text": [
      " 94%|█████████▍| 9421/10000 [51:31<04:05,  2.35it/s]"
     ]
    },
    {
     "name": "stdout",
     "output_type": "stream",
     "text": [
      "Step 9420, train loss:0.0888, test loss:5.1670\n"
     ]
    },
    {
     "name": "stderr",
     "output_type": "stream",
     "text": [
      " 94%|█████████▍| 9431/10000 [51:33<04:06,  2.31it/s]"
     ]
    },
    {
     "name": "stdout",
     "output_type": "stream",
     "text": [
      "Step 9430, train loss:0.0900, test loss:5.0668\n"
     ]
    },
    {
     "name": "stderr",
     "output_type": "stream",
     "text": [
      " 94%|█████████▍| 9441/10000 [51:36<04:03,  2.29it/s]"
     ]
    },
    {
     "name": "stdout",
     "output_type": "stream",
     "text": [
      "Step 9440, train loss:0.0896, test loss:5.1164\n"
     ]
    },
    {
     "name": "stderr",
     "output_type": "stream",
     "text": [
      " 95%|█████████▍| 9451/10000 [51:38<03:57,  2.31it/s]"
     ]
    },
    {
     "name": "stdout",
     "output_type": "stream",
     "text": [
      "Step 9450, train loss:0.0912, test loss:5.0544\n"
     ]
    },
    {
     "name": "stderr",
     "output_type": "stream",
     "text": [
      " 95%|█████████▍| 9461/10000 [51:40<03:47,  2.37it/s]"
     ]
    },
    {
     "name": "stdout",
     "output_type": "stream",
     "text": [
      "Step 9460, train loss:0.0905, test loss:5.0638\n"
     ]
    },
    {
     "name": "stderr",
     "output_type": "stream",
     "text": [
      " 95%|█████████▍| 9471/10000 [51:43<03:42,  2.38it/s]"
     ]
    },
    {
     "name": "stdout",
     "output_type": "stream",
     "text": [
      "Step 9470, train loss:0.0908, test loss:5.0697\n"
     ]
    },
    {
     "name": "stderr",
     "output_type": "stream",
     "text": [
      " 95%|█████████▍| 9481/10000 [51:45<03:40,  2.36it/s]"
     ]
    },
    {
     "name": "stdout",
     "output_type": "stream",
     "text": [
      "Step 9480, train loss:0.0915, test loss:5.0524\n"
     ]
    },
    {
     "name": "stderr",
     "output_type": "stream",
     "text": [
      " 95%|█████████▍| 9491/10000 [51:47<03:34,  2.37it/s]"
     ]
    },
    {
     "name": "stdout",
     "output_type": "stream",
     "text": [
      "Step 9490, train loss:0.0909, test loss:5.1214\n"
     ]
    },
    {
     "name": "stderr",
     "output_type": "stream",
     "text": [
      " 95%|█████████▌| 9500/10000 [51:49<01:20,  6.21it/s]"
     ]
    },
    {
     "name": "stdout",
     "output_type": "stream",
     "text": [
      "Step 9500, train loss:0.0909, test loss:5.1267\n"
     ]
    },
    {
     "name": "stderr",
     "output_type": "stream",
     "text": [
      " 95%|█████████▌| 9501/10000 [51:58<25:08,  3.02s/it]"
     ]
    },
    {
     "name": "stdout",
     "output_type": "stream",
     "text": [
      "\n",
      "\n",
      "GLOUCESTER:\n",
      "Have done thy charming in the sea,--\n",
      "Which God defend a knight should be!\n",
      "O, mistrusted, mi dissension!\n",
      "O that you behold, he is in the mighty\n",
      "And scorn at our senses well appeared;\n",
      "For corns her wrongs with a tailor for wearing\n",
      "His deeds with doubleness; and, by the holy rood,\n",
      "I hold to struck in year to be a shadowerful age.\n",
      "\n",
      "PRINCE:\n",
      "would that we look to frown a word when it should,\n",
      "Our bribstant is no grief and every man that keeps\n",
      "A gentle consisted enration,\n",
      "Which I could forget me in the common sort\n",
      "With pay and thanks, and let's away to London\n",
      "And see these good advices to cry,\n",
      "In those that have the vowerass of his cause.\n",
      "\n",
      "MENENIUS:\n",
      "His heart that word it that my young Romeo\n",
      "Had no more behold than good converts to bad,\n",
      "And thy abundment hereafter say,\n",
      "And thany soon over in our ages\n",
      "To wear the half of thee, or our dear son,\n",
      "Should be put to death. oh, my dear lord,\n",
      "When I shall see this gentleman, thy speeches\n",
      "Will bring me to consider that which may\n",
      "Unfurnish me\n",
      "Step 9500, train loss:0.0912, test loss:5.0998\n"
     ]
    },
    {
     "name": "stderr",
     "output_type": "stream",
     "text": [
      " 95%|█████████▌| 9511/10000 [52:01<04:02,  2.02it/s]"
     ]
    },
    {
     "name": "stdout",
     "output_type": "stream",
     "text": [
      "Step 9510, train loss:0.0910, test loss:5.2011\n"
     ]
    },
    {
     "name": "stderr",
     "output_type": "stream",
     "text": [
      " 95%|█████████▌| 9521/10000 [52:03<03:23,  2.36it/s]"
     ]
    },
    {
     "name": "stdout",
     "output_type": "stream",
     "text": [
      "Step 9520, train loss:0.0897, test loss:5.1446\n"
     ]
    },
    {
     "name": "stderr",
     "output_type": "stream",
     "text": [
      " 95%|█████████▌| 9531/10000 [52:06<03:19,  2.35it/s]"
     ]
    },
    {
     "name": "stdout",
     "output_type": "stream",
     "text": [
      "Step 9530, train loss:0.0891, test loss:5.1156\n"
     ]
    },
    {
     "name": "stderr",
     "output_type": "stream",
     "text": [
      " 95%|█████████▌| 9541/10000 [52:08<03:16,  2.33it/s]"
     ]
    },
    {
     "name": "stdout",
     "output_type": "stream",
     "text": [
      "Step 9540, train loss:0.0877, test loss:5.0721\n"
     ]
    },
    {
     "name": "stderr",
     "output_type": "stream",
     "text": [
      " 96%|█████████▌| 9551/10000 [52:10<03:15,  2.30it/s]"
     ]
    },
    {
     "name": "stdout",
     "output_type": "stream",
     "text": [
      "Step 9550, train loss:0.0906, test loss:5.0937\n"
     ]
    },
    {
     "name": "stderr",
     "output_type": "stream",
     "text": [
      " 96%|█████████▌| 9561/10000 [52:13<03:06,  2.35it/s]"
     ]
    },
    {
     "name": "stdout",
     "output_type": "stream",
     "text": [
      "Step 9560, train loss:0.0912, test loss:5.0912\n"
     ]
    },
    {
     "name": "stderr",
     "output_type": "stream",
     "text": [
      " 96%|█████████▌| 9571/10000 [52:15<03:00,  2.38it/s]"
     ]
    },
    {
     "name": "stdout",
     "output_type": "stream",
     "text": [
      "Step 9570, train loss:0.0893, test loss:5.1405\n"
     ]
    },
    {
     "name": "stderr",
     "output_type": "stream",
     "text": [
      " 96%|█████████▌| 9581/10000 [52:17<02:56,  2.38it/s]"
     ]
    },
    {
     "name": "stdout",
     "output_type": "stream",
     "text": [
      "Step 9580, train loss:0.0905, test loss:5.0471\n"
     ]
    },
    {
     "name": "stderr",
     "output_type": "stream",
     "text": [
      " 96%|█████████▌| 9591/10000 [52:20<02:52,  2.37it/s]"
     ]
    },
    {
     "name": "stdout",
     "output_type": "stream",
     "text": [
      "Step 9590, train loss:0.0923, test loss:5.1025\n"
     ]
    },
    {
     "name": "stderr",
     "output_type": "stream",
     "text": [
      " 96%|█████████▌| 9600/10000 [52:21<01:02,  6.40it/s]"
     ]
    },
    {
     "name": "stdout",
     "output_type": "stream",
     "text": [
      "Step 9600, train loss:0.0907, test loss:5.1630\n"
     ]
    },
    {
     "name": "stderr",
     "output_type": "stream",
     "text": [
      " 96%|█████████▌| 9601/10000 [52:31<20:50,  3.13s/it]"
     ]
    },
    {
     "name": "stdout",
     "output_type": "stream",
     "text": [
      "\n",
      "\n",
      "LEONTES:\n",
      "Sprawl'st thou? take that, and their true quarrel to the will, have\n",
      "him to him with the rest side; for the worst\n",
      "shore man that the vest court he do that now.\n",
      "\n",
      "Second Servingman:\n",
      "Here, sir: I have heard she says nothing: what I think I utter, and spend my\n",
      "malice on him. I am not to say that the for thee who may\n",
      "fly the valour as oft the attenge of my\n",
      "change; the lune that away.\n",
      "\n",
      "POLIXENES:\n",
      "O, that's the case\n",
      "Had like me in the break o' the seated bawd:\n",
      "The which hither will in  and sound a place.\n",
      "\n",
      "CAMILLO:\n",
      "He terch it true that is affrighted life.\n",
      "\n",
      "LEONTES:\n",
      "How! darest gentleman! France no sooner man! thou shalt hear there was no more shame\n",
      "and sore adventive to have left thee but a dram for a king.\n",
      "\n",
      "LUCIO:\n",
      "Sir, I will not do't.\n",
      "\n",
      "First Citizen:\n",
      "Enou has whether he appeal to him.\n",
      "\n",
      "Third Servingman:\n",
      "Pray you, poor gentleman, take up some other\n",
      "station; here's no place for it, and return to thy counsel.\n",
      "\n",
      "Second Servant:\n",
      "Will you go to them, were sin of thine oratory?\n",
      "\n",
      "Second Mess\n",
      "Step 9600, train loss:0.0917, test loss:5.1429\n"
     ]
    },
    {
     "name": "stderr",
     "output_type": "stream",
     "text": [
      " 96%|█████████▌| 9611/10000 [52:34<03:13,  2.01it/s]"
     ]
    },
    {
     "name": "stdout",
     "output_type": "stream",
     "text": [
      "Step 9610, train loss:0.0881, test loss:5.0894\n"
     ]
    },
    {
     "name": "stderr",
     "output_type": "stream",
     "text": [
      " 96%|█████████▌| 9621/10000 [52:36<02:40,  2.36it/s]"
     ]
    },
    {
     "name": "stdout",
     "output_type": "stream",
     "text": [
      "Step 9620, train loss:0.0887, test loss:5.0415\n"
     ]
    },
    {
     "name": "stderr",
     "output_type": "stream",
     "text": [
      " 96%|█████████▋| 9631/10000 [52:38<02:35,  2.38it/s]"
     ]
    },
    {
     "name": "stdout",
     "output_type": "stream",
     "text": [
      "Step 9630, train loss:0.0899, test loss:5.1393\n"
     ]
    },
    {
     "name": "stderr",
     "output_type": "stream",
     "text": [
      " 96%|█████████▋| 9641/10000 [52:41<02:36,  2.30it/s]"
     ]
    },
    {
     "name": "stdout",
     "output_type": "stream",
     "text": [
      "Step 9640, train loss:0.0898, test loss:5.2627\n"
     ]
    },
    {
     "name": "stderr",
     "output_type": "stream",
     "text": [
      " 97%|█████████▋| 9651/10000 [52:43<02:30,  2.31it/s]"
     ]
    },
    {
     "name": "stdout",
     "output_type": "stream",
     "text": [
      "Step 9650, train loss:0.0902, test loss:5.1310\n"
     ]
    },
    {
     "name": "stderr",
     "output_type": "stream",
     "text": [
      " 97%|█████████▋| 9661/10000 [52:45<02:27,  2.30it/s]"
     ]
    },
    {
     "name": "stdout",
     "output_type": "stream",
     "text": [
      "Step 9660, train loss:0.0923, test loss:5.1362\n"
     ]
    },
    {
     "name": "stderr",
     "output_type": "stream",
     "text": [
      " 97%|█████████▋| 9671/10000 [52:48<02:18,  2.38it/s]"
     ]
    },
    {
     "name": "stdout",
     "output_type": "stream",
     "text": [
      "Step 9670, train loss:0.0894, test loss:5.0185\n"
     ]
    },
    {
     "name": "stderr",
     "output_type": "stream",
     "text": [
      " 97%|█████████▋| 9681/10000 [52:50<02:15,  2.35it/s]"
     ]
    },
    {
     "name": "stdout",
     "output_type": "stream",
     "text": [
      "Step 9680, train loss:0.0906, test loss:5.1384\n"
     ]
    },
    {
     "name": "stderr",
     "output_type": "stream",
     "text": [
      " 97%|█████████▋| 9691/10000 [52:53<02:10,  2.36it/s]"
     ]
    },
    {
     "name": "stdout",
     "output_type": "stream",
     "text": [
      "Step 9690, train loss:0.0909, test loss:5.1088\n"
     ]
    },
    {
     "name": "stderr",
     "output_type": "stream",
     "text": [
      " 97%|█████████▋| 9700/10000 [52:54<00:46,  6.46it/s]"
     ]
    },
    {
     "name": "stdout",
     "output_type": "stream",
     "text": [
      "Step 9700, train loss:0.0892, test loss:5.1087\n"
     ]
    },
    {
     "name": "stderr",
     "output_type": "stream",
     "text": [
      " 97%|█████████▋| 9701/10000 [53:04<15:52,  3.19s/it]"
     ]
    },
    {
     "name": "stdout",
     "output_type": "stream",
     "text": [
      "\n",
      "\n",
      "KING RICHARD III:\n",
      "Be not so hasty to confound myself.\n",
      "\n",
      "QUEEN ELIZABETH:\n",
      "And wilt thou learn of me alive,\n",
      "That I disdain: but for these other gawds,\n",
      "Unbind my hands, gave our balas! Go men, but break a word\n",
      "of all the swallow so fast, and the rest,\n",
      "Constink upon the crown of mine cut from my grave:\n",
      "Where I have left me so much better, I would\n",
      "Have been so brief with him, he would all his limbs;\n",
      "Her face and so betide to make his urine;\n",
      "She will to the vap of my bird's death,\n",
      "And to be his blood be shall but little:\n",
      "Therefore, personally I lesser her complaint:\n",
      "Your provost knows not to his wife alive;\n",
      "Prepare her, soft and Marcius viotuous Lartius,\n",
      "My loving mother, whilst I give him with thee.\n",
      "\n",
      "Nurse:\n",
      "O God's lady dear!\n",
      "Are you so hot? marry, come up, I trow;\n",
      "Is this the poultice for my aching bones?\n",
      "Henceforward do your messages yourself.\n",
      "\n",
      "JULIET:\n",
      "Here's such a coil! come, what says Romeo?\n",
      "\n",
      "Nurse:\n",
      "Have you got leave to go to shake our country?\n",
      "\n",
      "HORTENSIO:\n",
      "That's not meet in a matter; \n",
      "Step 9700, train loss:0.0886, test loss:5.1141\n"
     ]
    },
    {
     "name": "stderr",
     "output_type": "stream",
     "text": [
      " 97%|█████████▋| 9711/10000 [53:06<02:24,  2.00it/s]"
     ]
    },
    {
     "name": "stdout",
     "output_type": "stream",
     "text": [
      "Step 9710, train loss:0.0901, test loss:5.0757\n"
     ]
    },
    {
     "name": "stderr",
     "output_type": "stream",
     "text": [
      " 97%|█████████▋| 9721/10000 [53:09<01:57,  2.37it/s]"
     ]
    },
    {
     "name": "stdout",
     "output_type": "stream",
     "text": [
      "Step 9720, train loss:0.0910, test loss:5.0458\n"
     ]
    },
    {
     "name": "stderr",
     "output_type": "stream",
     "text": [
      " 97%|█████████▋| 9731/10000 [53:11<01:53,  2.37it/s]"
     ]
    },
    {
     "name": "stdout",
     "output_type": "stream",
     "text": [
      "Step 9730, train loss:0.0884, test loss:5.1013\n"
     ]
    },
    {
     "name": "stderr",
     "output_type": "stream",
     "text": [
      " 97%|█████████▋| 9741/10000 [53:14<01:52,  2.30it/s]"
     ]
    },
    {
     "name": "stdout",
     "output_type": "stream",
     "text": [
      "Step 9740, train loss:0.0890, test loss:5.0906\n"
     ]
    },
    {
     "name": "stderr",
     "output_type": "stream",
     "text": [
      " 98%|█████████▊| 9751/10000 [53:16<01:47,  2.31it/s]"
     ]
    },
    {
     "name": "stdout",
     "output_type": "stream",
     "text": [
      "Step 9750, train loss:0.0901, test loss:5.0840\n"
     ]
    },
    {
     "name": "stderr",
     "output_type": "stream",
     "text": [
      " 98%|█████████▊| 9761/10000 [53:18<01:43,  2.31it/s]"
     ]
    },
    {
     "name": "stdout",
     "output_type": "stream",
     "text": [
      "Step 9760, train loss:0.0887, test loss:5.1065\n"
     ]
    },
    {
     "name": "stderr",
     "output_type": "stream",
     "text": [
      " 98%|█████████▊| 9771/10000 [53:21<01:36,  2.37it/s]"
     ]
    },
    {
     "name": "stdout",
     "output_type": "stream",
     "text": [
      "Step 9770, train loss:0.0879, test loss:5.0985\n"
     ]
    },
    {
     "name": "stderr",
     "output_type": "stream",
     "text": [
      " 98%|█████████▊| 9781/10000 [53:23<01:32,  2.38it/s]"
     ]
    },
    {
     "name": "stdout",
     "output_type": "stream",
     "text": [
      "Step 9780, train loss:0.0899, test loss:5.0784\n"
     ]
    },
    {
     "name": "stderr",
     "output_type": "stream",
     "text": [
      " 98%|█████████▊| 9791/10000 [53:25<01:28,  2.37it/s]"
     ]
    },
    {
     "name": "stdout",
     "output_type": "stream",
     "text": [
      "Step 9790, train loss:0.0907, test loss:5.0611\n"
     ]
    },
    {
     "name": "stderr",
     "output_type": "stream",
     "text": [
      " 98%|█████████▊| 9800/10000 [53:27<00:31,  6.30it/s]"
     ]
    },
    {
     "name": "stdout",
     "output_type": "stream",
     "text": [
      "Step 9800, train loss:0.0890, test loss:5.2165\n"
     ]
    },
    {
     "name": "stderr",
     "output_type": "stream",
     "text": [
      " 98%|█████████▊| 9801/10000 [53:37<10:31,  3.17s/it]"
     ]
    },
    {
     "name": "stdout",
     "output_type": "stream",
     "text": [
      "\n",
      "\n",
      "RICHARD:\n",
      "Sound drums and trumpets! farewell sour annoy!\n",
      "For here, I hope, begins our lasting joy.\n",
      "\n",
      "ARCHIDAMUS:\n",
      "If you shall chance to London, to preece you?\n",
      "Myself have often heaving eat, and so shall have\n",
      "hiely: be thy hounds are on Tybalt.\n",
      "\n",
      "ESCALUS:\n",
      "Come, bring you set again; she will be so, and I\n",
      " nothing but some other that I bear it.\n",
      "\n",
      "BUCKINGHAM:\n",
      "Say you well, when I was forth his presence,\n",
      "For should I be point of wife.\n",
      "\n",
      "LEONTES:\n",
      "This is doubt he; he is a bawd, and he slaught\n",
      "Before Romeo, the honourable conceits,\n",
      "The obeing of the world: offer her writing\n",
      "Wherein we did danger impossible for my oath\n",
      "Tid gainsa by the fair within my couts:\n",
      "Then we do bear the crown, you were in pure that\n",
      "Are make the amender of you think our issue;\n",
      "The crown will find it off.\n",
      "\n",
      "COMINIUS:\n",
      "Either the mun,\n",
      "But as this world--\n",
      "\n",
      "SICINIUS:\n",
      "Have you collected them by tribes?\n",
      "\n",
      "AEdile:\n",
      "I have.\n",
      "\n",
      "SICINIUS:\n",
      "Go, master mayor, they laid your highness aims:\n",
      "Their kinsman and your will have been subitious,\n",
      "Enes m\n",
      "Step 9800, train loss:0.0880, test loss:5.1584\n"
     ]
    },
    {
     "name": "stderr",
     "output_type": "stream",
     "text": [
      " 98%|█████████▊| 9811/10000 [53:39<01:34,  2.01it/s]"
     ]
    },
    {
     "name": "stdout",
     "output_type": "stream",
     "text": [
      "Step 9810, train loss:0.0896, test loss:5.0985\n"
     ]
    },
    {
     "name": "stderr",
     "output_type": "stream",
     "text": [
      " 98%|█████████▊| 9821/10000 [53:42<01:15,  2.37it/s]"
     ]
    },
    {
     "name": "stdout",
     "output_type": "stream",
     "text": [
      "Step 9820, train loss:0.0934, test loss:5.0902\n"
     ]
    },
    {
     "name": "stderr",
     "output_type": "stream",
     "text": [
      " 98%|█████████▊| 9831/10000 [53:44<01:10,  2.39it/s]"
     ]
    },
    {
     "name": "stdout",
     "output_type": "stream",
     "text": [
      "Step 9830, train loss:0.0884, test loss:5.1308\n"
     ]
    },
    {
     "name": "stderr",
     "output_type": "stream",
     "text": [
      " 98%|█████████▊| 9841/10000 [53:46<01:08,  2.33it/s]"
     ]
    },
    {
     "name": "stdout",
     "output_type": "stream",
     "text": [
      "Step 9840, train loss:0.0887, test loss:5.1079\n"
     ]
    },
    {
     "name": "stderr",
     "output_type": "stream",
     "text": [
      " 99%|█████████▊| 9851/10000 [53:49<01:05,  2.29it/s]"
     ]
    },
    {
     "name": "stdout",
     "output_type": "stream",
     "text": [
      "Step 9850, train loss:0.0900, test loss:5.1645\n"
     ]
    },
    {
     "name": "stderr",
     "output_type": "stream",
     "text": [
      " 99%|█████████▊| 9861/10000 [53:51<01:00,  2.28it/s]"
     ]
    },
    {
     "name": "stdout",
     "output_type": "stream",
     "text": [
      "Step 9860, train loss:0.0927, test loss:5.1708\n"
     ]
    },
    {
     "name": "stderr",
     "output_type": "stream",
     "text": [
      " 99%|█████████▊| 9871/10000 [53:54<00:54,  2.35it/s]"
     ]
    },
    {
     "name": "stdout",
     "output_type": "stream",
     "text": [
      "Step 9870, train loss:0.0874, test loss:5.1525\n"
     ]
    },
    {
     "name": "stderr",
     "output_type": "stream",
     "text": [
      " 99%|█████████▉| 9881/10000 [53:56<00:50,  2.36it/s]"
     ]
    },
    {
     "name": "stdout",
     "output_type": "stream",
     "text": [
      "Step 9880, train loss:0.0907, test loss:5.1482\n"
     ]
    },
    {
     "name": "stderr",
     "output_type": "stream",
     "text": [
      " 99%|█████████▉| 9891/10000 [53:58<00:45,  2.37it/s]"
     ]
    },
    {
     "name": "stdout",
     "output_type": "stream",
     "text": [
      "Step 9890, train loss:0.0885, test loss:5.0986\n"
     ]
    },
    {
     "name": "stderr",
     "output_type": "stream",
     "text": [
      " 99%|█████████▉| 9900/10000 [54:00<00:15,  6.39it/s]"
     ]
    },
    {
     "name": "stdout",
     "output_type": "stream",
     "text": [
      "Step 9900, train loss:0.0889, test loss:5.1669\n"
     ]
    },
    {
     "name": "stderr",
     "output_type": "stream",
     "text": [
      " 99%|█████████▉| 9901/10000 [54:10<05:16,  3.20s/it]"
     ]
    },
    {
     "name": "stdout",
     "output_type": "stream",
     "text": [
      "\n",
      "\n",
      "OXFORD:\n",
      "I like it well that our fair queen and mistress\n",
      "Smiles at her news, while Warwick frowns at his.\n",
      "\n",
      "PRINCE:\n",
      "Give me the letter; I will look on it.\n",
      "Where is the county's page, that raised the watch?\n",
      "Sirrah, what made you to depose, untimely crowns!\n",
      "\n",
      "SICINIUS:\n",
      "Marcius we have shall been to him.\n",
      "\n",
      "Second Senator:\n",
      "Give me some in hope.\n",
      "\n",
      "Provost:\n",
      "It is a bitter deputy.\n",
      "\n",
      "DUKE VINCENTIO:\n",
      "Not so, not so; his life is parallel'd\n",
      "Even with the stroke and line of his great justice:\n",
      "He doth with holy abstinence subdue\n",
      "That in himself which he spurs on his power\n",
      "To qualify in others: were well comeet,\n",
      "But that he speaks.\n",
      "\n",
      "GLOUCESTER:\n",
      "Then is well perceived an honour proverb'd with a grandsire phrase;\n",
      "I'll be a candle-holder, and look on.\n",
      "The game was not fight for God's sake, hence,\n",
      "Setting your joys in liking.\n",
      "\n",
      "LEONTES:\n",
      "It will omit no open's ground\n",
      "The steeds of chosen of my poor brother's envious;\n",
      "Nor having still, and brought it with our strokes;\n",
      "Which on more view, but I was born.\n",
      "\n",
      "Clown:\n",
      "\n",
      "Step 9900, train loss:0.0909, test loss:5.1530\n"
     ]
    },
    {
     "name": "stderr",
     "output_type": "stream",
     "text": [
      " 99%|█████████▉| 9911/10000 [54:12<00:44,  2.01it/s]"
     ]
    },
    {
     "name": "stdout",
     "output_type": "stream",
     "text": [
      "Step 9910, train loss:0.0891, test loss:5.1171\n"
     ]
    },
    {
     "name": "stderr",
     "output_type": "stream",
     "text": [
      " 99%|█████████▉| 9921/10000 [54:15<00:33,  2.36it/s]"
     ]
    },
    {
     "name": "stdout",
     "output_type": "stream",
     "text": [
      "Step 9920, train loss:0.0909, test loss:5.2284\n"
     ]
    },
    {
     "name": "stderr",
     "output_type": "stream",
     "text": [
      " 99%|█████████▉| 9931/10000 [54:17<00:28,  2.38it/s]"
     ]
    },
    {
     "name": "stdout",
     "output_type": "stream",
     "text": [
      "Step 9930, train loss:0.0898, test loss:5.2035\n"
     ]
    },
    {
     "name": "stderr",
     "output_type": "stream",
     "text": [
      " 99%|█████████▉| 9941/10000 [54:19<00:25,  2.36it/s]"
     ]
    },
    {
     "name": "stdout",
     "output_type": "stream",
     "text": [
      "Step 9940, train loss:0.0889, test loss:5.1712\n"
     ]
    },
    {
     "name": "stderr",
     "output_type": "stream",
     "text": [
      "100%|█████████▉| 9951/10000 [54:22<00:21,  2.29it/s]"
     ]
    },
    {
     "name": "stdout",
     "output_type": "stream",
     "text": [
      "Step 9950, train loss:0.0897, test loss:5.1026\n"
     ]
    },
    {
     "name": "stderr",
     "output_type": "stream",
     "text": [
      "100%|█████████▉| 9961/10000 [54:24<00:16,  2.31it/s]"
     ]
    },
    {
     "name": "stdout",
     "output_type": "stream",
     "text": [
      "Step 9960, train loss:0.0897, test loss:5.1382\n"
     ]
    },
    {
     "name": "stderr",
     "output_type": "stream",
     "text": [
      "100%|█████████▉| 9971/10000 [54:27<00:12,  2.31it/s]"
     ]
    },
    {
     "name": "stdout",
     "output_type": "stream",
     "text": [
      "Step 9970, train loss:0.0894, test loss:5.1118\n"
     ]
    },
    {
     "name": "stderr",
     "output_type": "stream",
     "text": [
      "100%|█████████▉| 9981/10000 [54:29<00:08,  2.37it/s]"
     ]
    },
    {
     "name": "stdout",
     "output_type": "stream",
     "text": [
      "Step 9980, train loss:0.0890, test loss:5.1239\n"
     ]
    },
    {
     "name": "stderr",
     "output_type": "stream",
     "text": [
      "100%|█████████▉| 9991/10000 [54:31<00:03,  2.38it/s]"
     ]
    },
    {
     "name": "stdout",
     "output_type": "stream",
     "text": [
      "Step 9990, train loss:0.0897, test loss:5.2525\n"
     ]
    },
    {
     "name": "stderr",
     "output_type": "stream",
     "text": [
      "100%|██████████| 10000/10000 [54:33<00:00,  3.06it/s]\n"
     ]
    },
    {
     "name": "stdout",
     "output_type": "stream",
     "text": [
      "\n",
      "\n",
      "CAMILLO:\n",
      "I cannot tell: the worthy poor unwillingness pronounce\n",
      "His burning trumpets' dreadful branches\n",
      "To beg all expect him here some than mine honour,\n",
      "I will defend the right, and the northern of the world.\n",
      "\n",
      "NORTHUMBERLAND:\n",
      "The noble duke hath been time for this good;\n",
      "But you shall have the fall of Richmond.\n",
      "\n",
      "RICHARD:\n",
      "Come, God and Saint George to this that blows:\n",
      "Make a mile of the worse, though it wed;\n",
      "But ere the cheapest of us is ten groats too dear.\n",
      "What art thou? and how comest thou hither,\n",
      "Where no man never comes but that sad dog\n",
      "That brings me food to make misfortune live?\n",
      "\n",
      "Groom:\n",
      "I was a poor groom of thy stable, king,\n",
      "When thou wert king; who, travelling towards York,\n",
      "With much ado at length have gotten leave\n",
      "To look upon my sometimes royal master's face.\n",
      "O, how it yearn'd my heart when I beheld\n",
      "Deserved out of all obear cralled and make speak not what\n",
      "Which he cojetn, and to the hands of France too;\n",
      "For they that were not jealous; one that I protest\n",
      "I have confessed and \n"
     ]
    }
   ],
   "source": [
    "import torch\n",
    "import torch.nn as nn\n",
    "from torch.nn import  functional as F\n",
    "from torch.nn.parameter import Parameter\n",
    "from tqdm import tqdm\n",
    "from mamba_ssm import Mamba\n",
    "#hyperparams\n",
    "epochs = 100\n",
    "lr = 1e-3\n",
    "batch_size = 64\n",
    "block_size = 256\n",
    "device = \"cuda\" if torch.cuda.is_available() else \"cpu\"\n",
    "max_iters = 10000\n",
    "print_iters = 100\n",
    "eval_iters = 10\n",
    "eval_interval = 300\n",
    "n_embed=384\n",
    "n_heads = 6\n",
    "n_layers = 6\n",
    "dropout = 0.2\n",
    "# ---------\n",
    "with open(\"input.txt\", \"r\") as f:\n",
    "  text = f.read()\n",
    "\n",
    "# Unique characters\n",
    "chars = sorted(list(set(text)))\n",
    "print(''.join(chars))\n",
    "vocab_size = len(chars)\n",
    "print(vocab_size)\n",
    "\n",
    "#Tokenizers\n",
    "stoi = {ch:i for i,ch in enumerate(chars)}\n",
    "itos = {i:ch for i,ch in enumerate(chars)}\n",
    "encode = lambda xx: [stoi[x] for x in xx]\n",
    "decode = lambda xx: ''.join([itos[x] for x in xx])\n",
    "encode(\"Hello!\")\n",
    "print(decode(encode(\"Hello!\")))\n",
    "\n",
    "\n",
    "# train and test splits\n",
    "data = torch.tensor(encode(text), dtype=torch.long)\n",
    "n = int(len(data)*0.9)\n",
    "train_data = data[:n]\n",
    "val_data = data[n:]\n",
    "\n",
    "def get_batch(split):\n",
    "  # generate targets and context\n",
    "  if split == \"train\":\n",
    "    data = train_data\n",
    "  else:\n",
    "    data = val_data\n",
    "  index = torch.randint(0,len(data)-block_size,(batch_size,))\n",
    "  x = torch.stack([data[ind:ind+block_size] for ind in index])\n",
    "  y = torch.stack([data[ind+1:ind+block_size+1] for ind in index])\n",
    "  return x.to(device),y.to(device)\n",
    "\n",
    "\n",
    "@torch.no_grad()\n",
    "def estimate_loss():\n",
    "  out = {}\n",
    "  model.eval()\n",
    "  for split in ['train', 'test']:\n",
    "    losses = torch.zeros(eval_iters)\n",
    "    for k in range(eval_iters):\n",
    "      X,Y = get_batch(split)\n",
    "      logits, loss = model(X,Y)\n",
    "      losses[k] = loss.item()\n",
    "    out[split] = losses.mean()\n",
    "  model.train()\n",
    "  return out\n",
    "\n",
    "\n",
    "class SelfAttentionHead(nn.Module):\n",
    "  def __init__(self, head_size):\n",
    "    super().__init__()\n",
    "    self.keys = nn.Linear(n_embed, head_size)\n",
    "    self.queries = nn.Linear(n_embed, head_size)\n",
    "    self.values = nn.Linear(n_embed, head_size)\n",
    "    self.head_size = head_size\n",
    "    self.n_embed = n_embed\n",
    "    self.register_buffer('tril', torch.tril(torch.ones((block_size,block_size))).to(device))\n",
    "    self.dropout = nn.Dropout(dropout)\n",
    "\n",
    "  def forward(self, x):\n",
    "    B,T,C = x.shape\n",
    "    k = self.keys(x) # (B,T,C_h)\n",
    "    q = self.queries(x) # (B,T,C_h)\n",
    "    v = self.values(x) # (B,T,C_h)\n",
    "    wei = k @ q.transpose(-1,-2) * C**(-0.5)# (B,T,T)\n",
    "    wei = wei.masked_fill( self.tril[:T,:T]==0, float('-inf'))\n",
    "    # wei = F.softmax(wei, dim=-1) # (B,T,T)\n",
    "    wei = torch.log(torch.exp(wei)+1) # (B,T,T)\n",
    "    wei = self.dropout(wei)\n",
    "    out = wei @ v # (B,T,C_h)\n",
    "    return out\n",
    "\n",
    "\n",
    "class LayerNorm(nn.Module):\n",
    "  def __init__(self, dim) -> None:\n",
    "    super().__init__()\n",
    "    self.eps = 1e-5\n",
    "    # params\n",
    "    self.gamma = nn.Parameter(torch.ones(dim))\n",
    "    self.beta = nn.Parameter(torch.zeros(dim))\n",
    "\n",
    "  def forward(self, x):\n",
    "    xmean = x.mean(dim=1, keepdim=True)\n",
    "    xvar = ((x-xmean)**2).mean(dim=1, keepdim=True)\n",
    "    xhat = (x-xmean) / torch.sqrt(xvar + self.eps)\n",
    "    self.out = self.gamma * xhat + self.beta\n",
    "    return self.out\n",
    "\n",
    "  def parameters(self):\n",
    "    return [self.gamma, self.beta]\n",
    "\n",
    "class MultiHeadAttention(nn.Module):\n",
    "  def __init__(self, n_heads, head_size) -> None:\n",
    "    super().__init__()\n",
    "    self.heads = nn.ModuleList([SelfAttentionHead(head_size) for _ in range(n_heads)])\n",
    "    self.proj = nn.Linear(n_embed, n_embed)\n",
    "    self.dropout = nn.Dropout(dropout)\n",
    "\n",
    "  def forward(self, x):\n",
    "    B,T,C = x.shape\n",
    "    out = torch.cat([head(x) for head in self.heads], dim=-1)\n",
    "    out = self.proj(out)\n",
    "    out = self.dropout(out)\n",
    "    return out\n",
    "\n",
    "class FeedForward(nn.Module):\n",
    "  def __init__(self, n_embed) -> None:\n",
    "    super().__init__()\n",
    "    self.ffn = nn.Sequential(\n",
    "      nn.Linear(n_embed, 4*n_embed),\n",
    "      nn.ReLU(),\n",
    "      nn.Linear(4*n_embed, n_embed),\n",
    "      nn.Dropout(dropout),\n",
    "    )\n",
    "  def forward(self, x):\n",
    "    return self.ffn(x)\n",
    "\n",
    "class Block(nn.Module):\n",
    "  def __init__(self, n_embed, n_heads) -> None:\n",
    "    super().__init__()\n",
    "    self.head_size = n_embed // n_heads\n",
    "    # self.sa_head = MultiHeadAttention(n_heads, self.head_size)\n",
    "    self.sa_head = Mamba(\n",
    "      # This module uses roughly 3 * expand * d_model^2 parameters\n",
    "      d_model=n_embed, # Model dimension d_model\n",
    "      d_state=16,  # SSM state expansion factor\n",
    "      d_conv=4,    # Local convolution width\n",
    "      expand=2,    # Block expansion factor\n",
    "  ).to(\"cuda\")\n",
    "    self.ffn = FeedForward(n_embed)\n",
    "    self.ln1 = nn.LayerNorm(n_embed)\n",
    "    self.ln2 = nn.LayerNorm(n_embed)\n",
    "\n",
    "\n",
    "  def forward(self, x):\n",
    "    x = x + self.sa_head(self.ln1(x))\n",
    "    x = x + self.ffn(self.ln2(x))\n",
    "\n",
    "    return x\n",
    "\n",
    "class BigramNeuralNetwork(nn.Module):\n",
    "  def __init__(self,vocab_size):\n",
    "    super().__init__()\n",
    "    self.token_embedding_table = nn.Embedding(vocab_size,n_embed)\n",
    "    self.position_embedding_table = nn.Embedding(block_size,n_embed)\n",
    "    self.sa_head = MultiHeadAttention(4,int(n_embed/4))\n",
    "    self.lm_head = nn.Linear(n_embed,vocab_size)\n",
    "    self.ffn = FeedForward(n_embed)\n",
    "    self.blocks = nn.Sequential(*[Block(n_embed,n_heads=n_heads) for _ in range(n_layers)])\n",
    "\n",
    "\n",
    "  def forward(self, idx, targets=None):\n",
    "    # idx = idx[:,-block_size:]\n",
    "    B,T = idx.shape\n",
    "    tok_emb = self.token_embedding_table(idx) # (B,T,C_e)\n",
    "    pos_emb = self.position_embedding_table(torch.arange(T,device=device)) # (T,C_e)\n",
    "    x = tok_emb + pos_emb # (B,T,C_e)\n",
    "    x = self.blocks(x) # (B,T,C_e)\n",
    "    logits = self.lm_head(x) # (B,T,vocab_size)\n",
    "    if targets is None:\n",
    "      loss = None\n",
    "    else:\n",
    "      B,T,C = logits.shape\n",
    "      logits = logits.view(B*T,C)\n",
    "      targets = targets.view(B*T)\n",
    "      loss = F.cross_entropy(logits, targets)\n",
    "      logits = logits.view(B,T,C)\n",
    "    return logits, loss\n",
    "  def generate(self, idx, max_new_tokens):\n",
    "    # idx is (B,T)\n",
    "    idx_next = []\n",
    "    for i in range(max_new_tokens):\n",
    "      idx_cond = idx[:,-block_size:]\n",
    "      logits, loss = self(idx_cond)\n",
    "      last_timestep = logits[:,-1,:]\n",
    "      probs = F.softmax(last_timestep, dim=1)\n",
    "      next_index = torch.multinomial(probs, num_samples=1)\n",
    "      idx = torch.cat((idx, next_index), dim=1)\n",
    "    for arr in idx:\n",
    "      print(decode(arr.cpu().detach().numpy()))\n",
    "    return idx\n",
    "\n",
    "model = BigramNeuralNetwork(vocab_size)\n",
    "optimizer = torch.optim.AdamW(model.parameters(),lr=lr)\n",
    "\n",
    "# checkpoint = torch.load('model.pt')\n",
    "# model.load_state_dict(checkpoint['model_state_dict'])\n",
    "# optimizer.load_state_dict(checkpoint['optimizer_state_dict'])\n",
    "# epoch = checkpoint['epoch']\n",
    "checkpoint_path = None#\"./differentattention/model_40.pt\"\n",
    "epoch = 0\n",
    "if checkpoint_path:\n",
    "  checkpoint = torch.load(checkpoint_path)\n",
    "  print(checkpoint)\n",
    "  if checkpoint['model_state_dict']:\n",
    "    model.load_state_dict(checkpoint['model_state_dict'].to(device))\n",
    "  if checkpoint['optimizer_state_dict']:\n",
    "    optimizer.load_state_dict(checkpoint['optimizer_state_dict'])\n",
    "  epoch = checkpoint['epoch']\n",
    "device = \"cuda\"\n",
    "m = model.to(device)\n",
    "print(\"Uses device \" + device)\n",
    "MODEL_CHECKPOINT = \"./differentattention/model_{iter}.pt\"\n",
    "losses_data = {\"train\":[], \"test\":[]}\n",
    "for iter in tqdm(range(epoch ,max_iters)):\n",
    "  if iter % eval_iters == 0:\n",
    "    losses = estimate_loss()\n",
    "    losses_data['train'].append(losses['train'].cpu().numpy())\n",
    "    losses_data['test'].append(losses['test'].cpu().numpy())\n",
    "    print(f\"Step {iter}, train loss:{losses['train']:.4f}, test loss:{losses['test']:.4f}\")\n",
    "\n",
    "  if iter % print_iters == 0:\n",
    "    losses = estimate_loss()\n",
    "    torch.save({\n",
    "            'epoch': iter,\n",
    "            'model_state_dict': model.state_dict(),\n",
    "            'optimizer_state_dict': optimizer.state_dict(),\n",
    "            'loss': losses,\n",
    "            }, MODEL_CHECKPOINT.format(iter=iter))\n",
    "    losses_data['train'].append(losses['train'].cpu().numpy())\n",
    "    losses_data['test'].append(losses['test'].cpu().numpy())\n",
    "    model.eval()\n",
    "    with torch.no_grad():\n",
    "      #Generate from the model:\n",
    "      output = m.generate(torch.zeros((1,2), dtype=torch.long).to(device).contiguous(), 1000  )[0].tolist()\n",
    "\n",
    "    print(f\"Step {iter}, train loss:{losses['train']:.4f}, test loss:{losses['test']:.4f}\")\n",
    "    model.train()\n",
    "\n",
    "  #Get data\n",
    "  xb,yb = get_batch(\"train\")\n",
    "\n",
    "  #Evaluate loss\n",
    "  logits,loss = model(xb,yb)\n",
    "  optimizer.zero_grad(set_to_none=True)\n",
    "  loss.backward()\n",
    "  torch.nn.utils.clip_grad.clip_grad_norm_(model.parameters(), 1.0)\n",
    "  optimizer.step()\n",
    "torch.save(model.state_dict(), \"./differentattention/model.pt\")\n",
    "#Generate from the model:\n",
    "output = m.generate(torch.zeros((1,2), dtype=torch.long).to(device),1000)[0].tolist()\n"
   ]
  },
  {
   "cell_type": "code",
   "execution_count": null,
   "metadata": {
    "colab": {
     "base_uri": "https://localhost:8080/"
    },
    "id": "iuP_n21mbLjo",
    "outputId": "e8ebe496-328a-4172-baf1-0f7fefb9bc02"
   },
   "outputs": [
    {
     "name": "stdout",
     "output_type": "stream",
     "text": [
      "Requirement already satisfied: seaborn in /usr/local/lib/python3.10/dist-packages (0.12.2)\n",
      "Requirement already satisfied: numpy!=1.24.0,>=1.17 in /usr/local/lib/python3.10/dist-packages (from seaborn) (1.23.5)\n",
      "Requirement already satisfied: pandas>=0.25 in /usr/local/lib/python3.10/dist-packages (from seaborn) (1.5.3)\n",
      "Requirement already satisfied: matplotlib!=3.6.1,>=3.1 in /usr/local/lib/python3.10/dist-packages (from seaborn) (3.7.1)\n",
      "Requirement already satisfied: contourpy>=1.0.1 in /usr/local/lib/python3.10/dist-packages (from matplotlib!=3.6.1,>=3.1->seaborn) (1.2.0)\n",
      "Requirement already satisfied: cycler>=0.10 in /usr/local/lib/python3.10/dist-packages (from matplotlib!=3.6.1,>=3.1->seaborn) (0.12.1)\n",
      "Requirement already satisfied: fonttools>=4.22.0 in /usr/local/lib/python3.10/dist-packages (from matplotlib!=3.6.1,>=3.1->seaborn) (4.45.1)\n",
      "Requirement already satisfied: kiwisolver>=1.0.1 in /usr/local/lib/python3.10/dist-packages (from matplotlib!=3.6.1,>=3.1->seaborn) (1.4.5)\n",
      "Requirement already satisfied: packaging>=20.0 in /usr/local/lib/python3.10/dist-packages (from matplotlib!=3.6.1,>=3.1->seaborn) (23.2)\n",
      "Requirement already satisfied: pillow>=6.2.0 in /usr/local/lib/python3.10/dist-packages (from matplotlib!=3.6.1,>=3.1->seaborn) (9.4.0)\n",
      "Requirement already satisfied: pyparsing>=2.3.1 in /usr/local/lib/python3.10/dist-packages (from matplotlib!=3.6.1,>=3.1->seaborn) (3.1.1)\n",
      "Requirement already satisfied: python-dateutil>=2.7 in /usr/local/lib/python3.10/dist-packages (from matplotlib!=3.6.1,>=3.1->seaborn) (2.8.2)\n",
      "Requirement already satisfied: pytz>=2020.1 in /usr/local/lib/python3.10/dist-packages (from pandas>=0.25->seaborn) (2023.3.post1)\n",
      "Requirement already satisfied: six>=1.5 in /usr/local/lib/python3.10/dist-packages (from python-dateutil>=2.7->matplotlib!=3.6.1,>=3.1->seaborn) (1.16.0)\n"
     ]
    }
   ],
   "source": [
    "!pip3 install seaborn"
   ]
  },
  {
   "cell_type": "code",
   "execution_count": null,
   "metadata": {
    "colab": {
     "base_uri": "https://localhost:8080/",
     "height": 553
    },
    "id": "lTSy62h4bNf8",
    "outputId": "ee032dd0-dda5-4a80-fbae-f45a887aa444"
   },
   "outputs": [
    {
     "name": "stdout",
     "output_type": "stream",
     "text": [
      "      train      test\n",
      "0  4.582686  4.558880\n",
      "1  4.585381  4.558137\n",
      "2  4.012795  3.986787\n",
      "3  2.734287  2.772623\n",
      "4  2.328194  2.360141\n"
     ]
    },
    {
     "data": {
      "image/png": "[encoded data removed]",
      "text/plain": [
       "<Figure size 640x480 with 1 Axes>"
      ]
     },
     "metadata": {},
     "output_type": "display_data"
    }
   ],
   "source": [
    "import pandas as pd\n",
    "import numpy as np\n",
    "import seaborn as sns\n",
    "import matplotlib.pyplot as plt\n",
    "losses_df = pd.DataFrame(losses_data)\n",
    "losses_df = losses_df.applymap(lambda x: float(x))\n",
    "print(losses_df.head())\n",
    "# Line graph of loss train and loss test\n",
    "ax = sns.lineplot(data=losses_df[losses_df['train'] < 10])\n",
    "ax.set(xlabel='Iteration(in 10s)', ylabel='Loss')\n",
    "plt.show()"
   ]
  }
 ],
 "metadata": {
  "accelerator": "GPU",
  "colab": {
   "gpuType": "V100",
   "provenance": []
  },
  "kernelspec": {
   "display_name": "Python 3 (ipykernel)",
   "language": "python",
   "name": "python3"
  },
  "language_info": {
   "codemirror_mode": {
    "name": "ipython",
    "version": 3
   },
   "file_extension": ".py",
   "mimetype": "text/x-python",
   "name": "python",
   "nbconvert_exporter": "python",
   "pygments_lexer": "ipython3",
   "version": "3.10.12"
  }
 },
 "nbformat": 4,
 "nbformat_minor": 4
}
